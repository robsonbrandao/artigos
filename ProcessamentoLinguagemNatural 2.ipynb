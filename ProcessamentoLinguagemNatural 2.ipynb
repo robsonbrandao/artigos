{
  "nbformat": 4,
  "nbformat_minor": 0,
  "metadata": {
    "colab": {
      "name": "Untitled2.ipynb",
      "provenance": [],
      "collapsed_sections": [],
      "mount_file_id": "18GRZE2jIoOL-Y7v73mb330mw3mfjsARZ",
      "authorship_tag": "ABX9TyM0kvs2paSvK0QarJiNhNlL",
      "include_colab_link": true
    },
    "kernelspec": {
      "name": "python3",
      "display_name": "Python 3"
    },
    "language_info": {
      "name": "python"
    }
  },
  "cells": [
    {
      "cell_type": "markdown",
      "metadata": {
        "id": "view-in-github",
        "colab_type": "text"
      },
      "source": [
        "<a href=\"https://colab.research.google.com/github/robsonbrandao/artigos/blob/main/ProcessamentoLinguagemNatural%202.ipynb\" target=\"_parent\"><img src=\"https://colab.research.google.com/assets/colab-badge.svg\" alt=\"Open In Colab\"/></a>"
      ]
    },
    {
      "cell_type": "markdown",
      "source": [
        "# **Processamento de Linguagem Natural**\n",
        "\n",
        "\n",
        "---\n",
        "\n"
      ],
      "metadata": {
        "id": "61OzP7BCycyd"
      }
    },
    {
      "cell_type": "markdown",
      "source": [
        "## **Instalando o pacote spacy e modelos de linguagem**"
      ],
      "metadata": {
        "id": "g-YpnIsy2w0V"
      }
    },
    {
      "cell_type": "code",
      "source": [
        "import spacy"
      ],
      "metadata": {
        "id": "qbhDyzDdzL6w"
      },
      "execution_count": 3,
      "outputs": []
    },
    {
      "cell_type": "markdown",
      "source": [
        "### Atualizando o spacy"
      ],
      "metadata": {
        "id": "xrjh4mFVzUZ0"
      }
    },
    {
      "cell_type": "code",
      "source": [
        "!pip install --upgrade spacy"
      ],
      "metadata": {
        "colab": {
          "base_uri": "https://localhost:8080/",
          "height": 1000
        },
        "id": "l-Us_5ISzRAA",
        "outputId": "a3342df5-6c40-42cb-e30e-30b24613c64a"
      },
      "execution_count": 4,
      "outputs": [
        {
          "output_type": "stream",
          "name": "stdout",
          "text": [
            "Requirement already satisfied: spacy in /usr/local/lib/python3.7/dist-packages (2.2.4)\n",
            "Collecting spacy\n",
            "  Downloading spacy-3.2.3-cp37-cp37m-manylinux_2_17_x86_64.manylinux2014_x86_64.whl (6.0 MB)\n",
            "\u001b[K     |████████████████████████████████| 6.0 MB 8.4 MB/s \n",
            "\u001b[?25hCollecting srsly<3.0.0,>=2.4.1\n",
            "  Downloading srsly-2.4.2-cp37-cp37m-manylinux_2_17_x86_64.manylinux2014_x86_64.whl (451 kB)\n",
            "\u001b[K     |████████████████████████████████| 451 kB 51.8 MB/s \n",
            "\u001b[?25hRequirement already satisfied: typing-extensions<4.0.0.0,>=3.7.4 in /usr/local/lib/python3.7/dist-packages (from spacy) (3.10.0.2)\n",
            "Requirement already satisfied: jinja2 in /usr/local/lib/python3.7/dist-packages (from spacy) (2.11.3)\n",
            "Requirement already satisfied: blis<0.8.0,>=0.4.0 in /usr/local/lib/python3.7/dist-packages (from spacy) (0.4.1)\n",
            "Collecting spacy-loggers<2.0.0,>=1.0.0\n",
            "  Downloading spacy_loggers-1.0.1-py3-none-any.whl (7.0 kB)\n",
            "Collecting langcodes<4.0.0,>=3.2.0\n",
            "  Downloading langcodes-3.3.0-py3-none-any.whl (181 kB)\n",
            "\u001b[K     |████████████████████████████████| 181 kB 64.0 MB/s \n",
            "\u001b[?25hCollecting catalogue<2.1.0,>=2.0.6\n",
            "  Downloading catalogue-2.0.6-py3-none-any.whl (17 kB)\n",
            "Requirement already satisfied: numpy>=1.15.0 in /usr/local/lib/python3.7/dist-packages (from spacy) (1.21.5)\n",
            "Collecting thinc<8.1.0,>=8.0.12\n",
            "  Downloading thinc-8.0.13-cp37-cp37m-manylinux_2_17_x86_64.manylinux2014_x86_64.whl (628 kB)\n",
            "\u001b[K     |████████████████████████████████| 628 kB 45.8 MB/s \n",
            "\u001b[?25hRequirement already satisfied: wasabi<1.1.0,>=0.8.1 in /usr/local/lib/python3.7/dist-packages (from spacy) (0.9.0)\n",
            "Collecting spacy-legacy<3.1.0,>=3.0.8\n",
            "  Downloading spacy_legacy-3.0.9-py2.py3-none-any.whl (20 kB)\n",
            "Requirement already satisfied: setuptools in /usr/local/lib/python3.7/dist-packages (from spacy) (57.4.0)\n",
            "Requirement already satisfied: preshed<3.1.0,>=3.0.2 in /usr/local/lib/python3.7/dist-packages (from spacy) (3.0.6)\n",
            "Requirement already satisfied: murmurhash<1.1.0,>=0.28.0 in /usr/local/lib/python3.7/dist-packages (from spacy) (1.0.6)\n",
            "Collecting typer<0.5.0,>=0.3.0\n",
            "  Downloading typer-0.4.0-py3-none-any.whl (27 kB)\n",
            "Requirement already satisfied: cymem<2.1.0,>=2.0.2 in /usr/local/lib/python3.7/dist-packages (from spacy) (2.0.6)\n",
            "Requirement already satisfied: packaging>=20.0 in /usr/local/lib/python3.7/dist-packages (from spacy) (21.3)\n",
            "Requirement already satisfied: tqdm<5.0.0,>=4.38.0 in /usr/local/lib/python3.7/dist-packages (from spacy) (4.63.0)\n",
            "Collecting pydantic!=1.8,!=1.8.1,<1.9.0,>=1.7.4\n",
            "  Downloading pydantic-1.8.2-cp37-cp37m-manylinux2014_x86_64.whl (10.1 MB)\n",
            "\u001b[K     |████████████████████████████████| 10.1 MB 45.8 MB/s \n",
            "\u001b[?25hCollecting pathy>=0.3.5\n",
            "  Downloading pathy-0.6.1-py3-none-any.whl (42 kB)\n",
            "\u001b[K     |████████████████████████████████| 42 kB 1.2 MB/s \n",
            "\u001b[?25hRequirement already satisfied: requests<3.0.0,>=2.13.0 in /usr/local/lib/python3.7/dist-packages (from spacy) (2.23.0)\n",
            "Requirement already satisfied: zipp>=0.5 in /usr/local/lib/python3.7/dist-packages (from catalogue<2.1.0,>=2.0.6->spacy) (3.7.0)\n",
            "Requirement already satisfied: pyparsing!=3.0.5,>=2.0.2 in /usr/local/lib/python3.7/dist-packages (from packaging>=20.0->spacy) (3.0.7)\n",
            "Requirement already satisfied: smart-open<6.0.0,>=5.0.0 in /usr/local/lib/python3.7/dist-packages (from pathy>=0.3.5->spacy) (5.2.1)\n",
            "Requirement already satisfied: urllib3!=1.25.0,!=1.25.1,<1.26,>=1.21.1 in /usr/local/lib/python3.7/dist-packages (from requests<3.0.0,>=2.13.0->spacy) (1.24.3)\n",
            "Requirement already satisfied: chardet<4,>=3.0.2 in /usr/local/lib/python3.7/dist-packages (from requests<3.0.0,>=2.13.0->spacy) (3.0.4)\n",
            "Requirement already satisfied: certifi>=2017.4.17 in /usr/local/lib/python3.7/dist-packages (from requests<3.0.0,>=2.13.0->spacy) (2021.10.8)\n",
            "Requirement already satisfied: idna<3,>=2.5 in /usr/local/lib/python3.7/dist-packages (from requests<3.0.0,>=2.13.0->spacy) (2.10)\n",
            "Requirement already satisfied: click<9.0.0,>=7.1.1 in /usr/local/lib/python3.7/dist-packages (from typer<0.5.0,>=0.3.0->spacy) (7.1.2)\n",
            "Requirement already satisfied: MarkupSafe>=0.23 in /usr/local/lib/python3.7/dist-packages (from jinja2->spacy) (2.0.1)\n",
            "Installing collected packages: catalogue, typer, srsly, pydantic, thinc, spacy-loggers, spacy-legacy, pathy, langcodes, spacy\n",
            "  Attempting uninstall: catalogue\n",
            "    Found existing installation: catalogue 1.0.0\n",
            "    Uninstalling catalogue-1.0.0:\n",
            "      Successfully uninstalled catalogue-1.0.0\n",
            "  Attempting uninstall: srsly\n",
            "    Found existing installation: srsly 1.0.5\n",
            "    Uninstalling srsly-1.0.5:\n",
            "      Successfully uninstalled srsly-1.0.5\n",
            "  Attempting uninstall: thinc\n",
            "    Found existing installation: thinc 7.4.0\n",
            "    Uninstalling thinc-7.4.0:\n",
            "      Successfully uninstalled thinc-7.4.0\n",
            "  Attempting uninstall: spacy\n",
            "    Found existing installation: spacy 2.2.4\n",
            "    Uninstalling spacy-2.2.4:\n",
            "      Successfully uninstalled spacy-2.2.4\n",
            "Successfully installed catalogue-2.0.6 langcodes-3.3.0 pathy-0.6.1 pydantic-1.8.2 spacy-3.2.3 spacy-legacy-3.0.9 spacy-loggers-1.0.1 srsly-2.4.2 thinc-8.0.13 typer-0.4.0\n"
          ]
        },
        {
          "output_type": "display_data",
          "data": {
            "application/vnd.colab-display-data+json": {
              "pip_warning": {
                "packages": [
                  "catalogue",
                  "spacy",
                  "srsly",
                  "thinc"
                ]
              }
            }
          },
          "metadata": {}
        }
      ]
    },
    {
      "cell_type": "code",
      "source": [
        "# Chamar o spacy com a nova versão\n",
        "import spacy"
      ],
      "metadata": {
        "id": "wQ8aU9cuzf_I"
      },
      "execution_count": 1,
      "outputs": []
    },
    {
      "cell_type": "code",
      "source": [
        "!pip install -U spacy-lookups-data "
      ],
      "metadata": {
        "colab": {
          "base_uri": "https://localhost:8080/"
        },
        "id": "QgKR9ROYzsuy",
        "outputId": "20601a1e-ac91-4aa0-8db6-ae92c2dee9fe"
      },
      "execution_count": 2,
      "outputs": [
        {
          "output_type": "stream",
          "name": "stdout",
          "text": [
            "Collecting spacy-lookups-data\n",
            "  Downloading spacy_lookups_data-1.0.3-py2.py3-none-any.whl (98.5 MB)\n",
            "\u001b[K     |████████████████████████████████| 98.5 MB 103 kB/s \n",
            "\u001b[?25hRequirement already satisfied: setuptools in /usr/local/lib/python3.7/dist-packages (from spacy-lookups-data) (57.4.0)\n",
            "Installing collected packages: spacy-lookups-data\n",
            "Successfully installed spacy-lookups-data-1.0.3\n"
          ]
        }
      ]
    },
    {
      "cell_type": "markdown",
      "source": [
        "**Baixar os modelos de Linguagem**\n",
        "\n",
        "**pt_core_news_lg** é mais completo, porém mais lento\n",
        "\n",
        "**pt_core_news_st** é a outra opção"
      ],
      "metadata": {
        "id": "YfQdhzD30Cgi"
      }
    },
    {
      "cell_type": "code",
      "source": [
        "!python -m spacy download pt_core_news_lg"
      ],
      "metadata": {
        "colab": {
          "base_uri": "https://localhost:8080/"
        },
        "id": "fsfjCh38z6pM",
        "outputId": "5aca74e6-a78c-4125-f3d8-c3322c235fa3"
      },
      "execution_count": 3,
      "outputs": [
        {
          "output_type": "stream",
          "name": "stdout",
          "text": [
            "Collecting pt-core-news-lg==3.2.0\n",
            "  Downloading https://github.com/explosion/spacy-models/releases/download/pt_core_news_lg-3.2.0/pt_core_news_lg-3.2.0-py3-none-any.whl (577.4 MB)\n",
            "\u001b[K     |████████████████████████████████| 577.4 MB 4.7 kB/s \n",
            "\u001b[?25hRequirement already satisfied: spacy<3.3.0,>=3.2.0 in /usr/local/lib/python3.7/dist-packages (from pt-core-news-lg==3.2.0) (3.2.3)\n",
            "Requirement already satisfied: srsly<3.0.0,>=2.4.1 in /usr/local/lib/python3.7/dist-packages (from spacy<3.3.0,>=3.2.0->pt-core-news-lg==3.2.0) (2.4.2)\n",
            "Requirement already satisfied: tqdm<5.0.0,>=4.38.0 in /usr/local/lib/python3.7/dist-packages (from spacy<3.3.0,>=3.2.0->pt-core-news-lg==3.2.0) (4.63.0)\n",
            "Requirement already satisfied: preshed<3.1.0,>=3.0.2 in /usr/local/lib/python3.7/dist-packages (from spacy<3.3.0,>=3.2.0->pt-core-news-lg==3.2.0) (3.0.6)\n",
            "Requirement already satisfied: blis<0.8.0,>=0.4.0 in /usr/local/lib/python3.7/dist-packages (from spacy<3.3.0,>=3.2.0->pt-core-news-lg==3.2.0) (0.4.1)\n",
            "Requirement already satisfied: pathy>=0.3.5 in /usr/local/lib/python3.7/dist-packages (from spacy<3.3.0,>=3.2.0->pt-core-news-lg==3.2.0) (0.6.1)\n",
            "Requirement already satisfied: typing-extensions<4.0.0.0,>=3.7.4 in /usr/local/lib/python3.7/dist-packages (from spacy<3.3.0,>=3.2.0->pt-core-news-lg==3.2.0) (3.10.0.2)\n",
            "Requirement already satisfied: packaging>=20.0 in /usr/local/lib/python3.7/dist-packages (from spacy<3.3.0,>=3.2.0->pt-core-news-lg==3.2.0) (21.3)\n",
            "Requirement already satisfied: wasabi<1.1.0,>=0.8.1 in /usr/local/lib/python3.7/dist-packages (from spacy<3.3.0,>=3.2.0->pt-core-news-lg==3.2.0) (0.9.0)\n",
            "Requirement already satisfied: spacy-legacy<3.1.0,>=3.0.8 in /usr/local/lib/python3.7/dist-packages (from spacy<3.3.0,>=3.2.0->pt-core-news-lg==3.2.0) (3.0.9)\n",
            "Requirement already satisfied: jinja2 in /usr/local/lib/python3.7/dist-packages (from spacy<3.3.0,>=3.2.0->pt-core-news-lg==3.2.0) (2.11.3)\n",
            "Requirement already satisfied: langcodes<4.0.0,>=3.2.0 in /usr/local/lib/python3.7/dist-packages (from spacy<3.3.0,>=3.2.0->pt-core-news-lg==3.2.0) (3.3.0)\n",
            "Requirement already satisfied: numpy>=1.15.0 in /usr/local/lib/python3.7/dist-packages (from spacy<3.3.0,>=3.2.0->pt-core-news-lg==3.2.0) (1.21.5)\n",
            "Requirement already satisfied: requests<3.0.0,>=2.13.0 in /usr/local/lib/python3.7/dist-packages (from spacy<3.3.0,>=3.2.0->pt-core-news-lg==3.2.0) (2.23.0)\n",
            "Requirement already satisfied: cymem<2.1.0,>=2.0.2 in /usr/local/lib/python3.7/dist-packages (from spacy<3.3.0,>=3.2.0->pt-core-news-lg==3.2.0) (2.0.6)\n",
            "Requirement already satisfied: spacy-loggers<2.0.0,>=1.0.0 in /usr/local/lib/python3.7/dist-packages (from spacy<3.3.0,>=3.2.0->pt-core-news-lg==3.2.0) (1.0.1)\n",
            "Requirement already satisfied: typer<0.5.0,>=0.3.0 in /usr/local/lib/python3.7/dist-packages (from spacy<3.3.0,>=3.2.0->pt-core-news-lg==3.2.0) (0.4.0)\n",
            "Requirement already satisfied: setuptools in /usr/local/lib/python3.7/dist-packages (from spacy<3.3.0,>=3.2.0->pt-core-news-lg==3.2.0) (57.4.0)\n",
            "Requirement already satisfied: catalogue<2.1.0,>=2.0.6 in /usr/local/lib/python3.7/dist-packages (from spacy<3.3.0,>=3.2.0->pt-core-news-lg==3.2.0) (2.0.6)\n",
            "Requirement already satisfied: murmurhash<1.1.0,>=0.28.0 in /usr/local/lib/python3.7/dist-packages (from spacy<3.3.0,>=3.2.0->pt-core-news-lg==3.2.0) (1.0.6)\n",
            "Requirement already satisfied: pydantic!=1.8,!=1.8.1,<1.9.0,>=1.7.4 in /usr/local/lib/python3.7/dist-packages (from spacy<3.3.0,>=3.2.0->pt-core-news-lg==3.2.0) (1.8.2)\n",
            "Requirement already satisfied: thinc<8.1.0,>=8.0.12 in /usr/local/lib/python3.7/dist-packages (from spacy<3.3.0,>=3.2.0->pt-core-news-lg==3.2.0) (8.0.13)\n",
            "Requirement already satisfied: zipp>=0.5 in /usr/local/lib/python3.7/dist-packages (from catalogue<2.1.0,>=2.0.6->spacy<3.3.0,>=3.2.0->pt-core-news-lg==3.2.0) (3.7.0)\n",
            "Requirement already satisfied: pyparsing!=3.0.5,>=2.0.2 in /usr/local/lib/python3.7/dist-packages (from packaging>=20.0->spacy<3.3.0,>=3.2.0->pt-core-news-lg==3.2.0) (3.0.7)\n",
            "Requirement already satisfied: smart-open<6.0.0,>=5.0.0 in /usr/local/lib/python3.7/dist-packages (from pathy>=0.3.5->spacy<3.3.0,>=3.2.0->pt-core-news-lg==3.2.0) (5.2.1)\n",
            "Requirement already satisfied: urllib3!=1.25.0,!=1.25.1,<1.26,>=1.21.1 in /usr/local/lib/python3.7/dist-packages (from requests<3.0.0,>=2.13.0->spacy<3.3.0,>=3.2.0->pt-core-news-lg==3.2.0) (1.24.3)\n",
            "Requirement already satisfied: chardet<4,>=3.0.2 in /usr/local/lib/python3.7/dist-packages (from requests<3.0.0,>=2.13.0->spacy<3.3.0,>=3.2.0->pt-core-news-lg==3.2.0) (3.0.4)\n",
            "Requirement already satisfied: certifi>=2017.4.17 in /usr/local/lib/python3.7/dist-packages (from requests<3.0.0,>=2.13.0->spacy<3.3.0,>=3.2.0->pt-core-news-lg==3.2.0) (2021.10.8)\n",
            "Requirement already satisfied: idna<3,>=2.5 in /usr/local/lib/python3.7/dist-packages (from requests<3.0.0,>=2.13.0->spacy<3.3.0,>=3.2.0->pt-core-news-lg==3.2.0) (2.10)\n",
            "Requirement already satisfied: click<9.0.0,>=7.1.1 in /usr/local/lib/python3.7/dist-packages (from typer<0.5.0,>=0.3.0->spacy<3.3.0,>=3.2.0->pt-core-news-lg==3.2.0) (7.1.2)\n",
            "Requirement already satisfied: MarkupSafe>=0.23 in /usr/local/lib/python3.7/dist-packages (from jinja2->spacy<3.3.0,>=3.2.0->pt-core-news-lg==3.2.0) (2.0.1)\n",
            "Installing collected packages: pt-core-news-lg\n",
            "Successfully installed pt-core-news-lg-3.2.0\n",
            "\u001b[38;5;2m✔ Download and installation successful\u001b[0m\n",
            "You can now load the package via spacy.load('pt_core_news_lg')\n"
          ]
        }
      ]
    },
    {
      "cell_type": "markdown",
      "source": [
        "**Trabalhar com o primeiro texto**"
      ],
      "metadata": {
        "id": "zje_ozYi1jgP"
      }
    },
    {
      "cell_type": "code",
      "source": [
        "texto = \"Inovações na área financeira passam pela análise de dados e pela proteção de dados pessoais. O uso da “big data” permitiu gerenciar grande volume de dados — coletados em vários formatos e fontes —, e processá-los rapidamente. Um processo de análise, complexo e dispendioso, se destinado a uma reduzida equipe de pessoas, pode facilmente ser aprendido e processado por máquinas, com o uso de técnicas de inteligência artificial. Este trabalho focou em levantar dados de uma “fintech” e demonstrar um processo anti-fraude alcançado por aprendizado de máquina. Houve toda uma preocupação com a privacidade de dados, conforme a Lei Geral de Proteção de Dados, utilizando-se de técnicas para produzir ruídos de dados sem prejudicar os dados estatisticamente. Após a coleta de dados, foram aplicadas as técnicas estatísticas para pré-processamento, normalização e padronização. Todo o estudo foi feito em linguagem de programação e o modelo foi testado até chegar ao que consideramos ideal por conseguir atingir um percentual alto de acerto ao detectar fraudes em dados financeiros usando inteligência artificial\""
      ],
      "metadata": {
        "id": "-nG3P1Eo1hcn"
      },
      "execution_count": 6,
      "outputs": []
    },
    {
      "cell_type": "code",
      "source": [
        "# Carregar o modelo de linguagem\n",
        "\n",
        "nlp = spacy.load('pt_core_news_lg')\n",
        "doc = nlp(texto)"
      ],
      "metadata": {
        "id": "JMorzTK-2QQn"
      },
      "execution_count": 7,
      "outputs": []
    },
    {
      "cell_type": "markdown",
      "source": [
        "## **Arquivos, segmentação, tokenização e lematização**"
      ],
      "metadata": {
        "id": "kbITvoHD3PDp"
      }
    },
    {
      "cell_type": "code",
      "source": [
        "arquivo1 = open('/texto1.txt','r')\n",
        "conteudo = arquivo1.read()\n",
        "conteudo"
      ],
      "metadata": {
        "colab": {
          "base_uri": "https://localhost:8080/",
          "height": 140
        },
        "id": "Mb9ecdSq2pjL",
        "outputId": "7cb31e43-1708-4d87-fab2-5e441f456785"
      },
      "execution_count": 14,
      "outputs": [
        {
          "output_type": "execute_result",
          "data": {
            "text/plain": [
              "'Inovações na área financeira passam pela análise de dados e pela proteção de dados pessoais. O uso da “big data” permitiu gerenciar grande volume de dados — coletados em vários formatos e fontes —, e processá-los rapidamente. Um processo de análise, complexo e dispendioso, se destinado a uma reduzida equipe de pessoas, pode facilmente ser aprendido e processado por máquinas, com o uso de técnicas de inteligência artificial. Este trabalho focou em levantar dados de uma “fintech” e demonstrar um processo anti-fraude alcançado por aprendizado de máquina. Houve toda uma preocupação com a privacidade de dados, conforme a Lei Geral de Proteção de Dados, utilizando-se de técnicas para produzir ruídos de dados sem prejudicar os dados estatisticamente. Após a coleta de dados, foram aplicadas as técnicas estatísticas para pré-processamento, normalização e padronização. Todo o estudo foi feito em linguagem de programação e o modelo foi testado até chegar ao que consideramos ideal por conseguir atingir um percentual alto de acerto ao detectar fraudes em dados financeiros usando inteligência artificial'"
            ],
            "application/vnd.google.colaboratory.intrinsic+json": {
              "type": "string"
            }
          },
          "metadata": {},
          "execution_count": 14
        }
      ]
    },
    {
      "cell_type": "code",
      "source": [
        "nlp = spacy.load('pt_core_news_lg')\n",
        "doc = nlp(conteudo)"
      ],
      "metadata": {
        "id": "xaZf5vzQ9KMZ"
      },
      "execution_count": 15,
      "outputs": []
    },
    {
      "cell_type": "markdown",
      "source": [
        "**Segmentação**\n",
        "\n",
        "Separar o texto conforme um separador indicado"
      ],
      "metadata": {
        "id": "MZ4mi4Ag-pki"
      }
    },
    {
      "cell_type": "code",
      "source": [
        "sentencas = conteudo.split(\".\")\n",
        "sentencas"
      ],
      "metadata": {
        "colab": {
          "base_uri": "https://localhost:8080/"
        },
        "id": "JjOPoes2-llR",
        "outputId": "c5929ed3-80e2-4d1f-a0f4-55d9d8b5d1ed"
      },
      "execution_count": 18,
      "outputs": [
        {
          "output_type": "execute_result",
          "data": {
            "text/plain": [
              "['Inovações na área financeira passam pela análise de dados e pela proteção de dados pessoais',\n",
              " ' O uso da “big data” permitiu gerenciar grande volume de dados — coletados em vários formatos e fontes —, e processá-los rapidamente',\n",
              " ' Um processo de análise, complexo e dispendioso, se destinado a uma reduzida equipe de pessoas, pode facilmente ser aprendido e processado por máquinas, com o uso de técnicas de inteligência artificial',\n",
              " ' Este trabalho focou em levantar dados de uma “fintech” e demonstrar um processo anti-fraude alcançado por aprendizado de máquina',\n",
              " ' Houve toda uma preocupação com a privacidade de dados, conforme a Lei Geral de Proteção de Dados, utilizando-se de técnicas para produzir ruídos de dados sem prejudicar os dados estatisticamente',\n",
              " ' Após a coleta de dados, foram aplicadas as técnicas estatísticas para pré-processamento, normalização e padronização',\n",
              " ' Todo o estudo foi feito em linguagem de programação e o modelo foi testado até chegar ao que consideramos ideal por conseguir atingir um percentual alto de acerto ao detectar fraudes em dados financeiros usando inteligência artificial']"
            ]
          },
          "metadata": {},
          "execution_count": 18
        }
      ]
    },
    {
      "cell_type": "code",
      "source": [
        "#Quantas sentenças ?\n",
        "num_sentencas = len(sentencas)\n",
        "num_sentencas"
      ],
      "metadata": {
        "colab": {
          "base_uri": "https://localhost:8080/"
        },
        "id": "6Iy0meeZ-64D",
        "outputId": "ec4d15f0-e783-4e65-d1bd-a7edfa74a654"
      },
      "execution_count": 20,
      "outputs": [
        {
          "output_type": "execute_result",
          "data": {
            "text/plain": [
              "7"
            ]
          },
          "metadata": {},
          "execution_count": 20
        }
      ]
    },
    {
      "cell_type": "markdown",
      "source": [
        "**Tokenização**\n",
        "\n",
        "Separar o textos em unidades"
      ],
      "metadata": {
        "id": "SLPS8MyK_i1x"
      }
    },
    {
      "cell_type": "code",
      "source": [
        "#.orth_ tokens strings\n",
        "tokens = [token.orth_ for token in doc]\n",
        "tokens"
      ],
      "metadata": {
        "colab": {
          "base_uri": "https://localhost:8080/"
        },
        "id": "PQg-YrqT_cWU",
        "outputId": "f1bb0a28-f7ca-4485-f6d3-730b39f45152"
      },
      "execution_count": 21,
      "outputs": [
        {
          "output_type": "execute_result",
          "data": {
            "text/plain": [
              "['Inovações',\n",
              " 'na',\n",
              " 'área',\n",
              " 'financeira',\n",
              " 'passam',\n",
              " 'pela',\n",
              " 'análise',\n",
              " 'de',\n",
              " 'dados',\n",
              " 'e',\n",
              " 'pela',\n",
              " 'proteção',\n",
              " 'de',\n",
              " 'dados',\n",
              " 'pessoais',\n",
              " '.',\n",
              " 'O',\n",
              " 'uso',\n",
              " 'da',\n",
              " '“',\n",
              " 'big',\n",
              " 'data',\n",
              " '”',\n",
              " 'permitiu',\n",
              " 'gerenciar',\n",
              " 'grande',\n",
              " 'volume',\n",
              " 'de',\n",
              " 'dados',\n",
              " '—',\n",
              " 'coletados',\n",
              " 'em',\n",
              " 'vários',\n",
              " 'formatos',\n",
              " 'e',\n",
              " 'fontes',\n",
              " '—',\n",
              " ',',\n",
              " 'e',\n",
              " 'processá-los',\n",
              " 'rapidamente',\n",
              " '.',\n",
              " 'Um',\n",
              " 'processo',\n",
              " 'de',\n",
              " 'análise',\n",
              " ',',\n",
              " 'complexo',\n",
              " 'e',\n",
              " 'dispendioso',\n",
              " ',',\n",
              " 'se',\n",
              " 'destinado',\n",
              " 'a',\n",
              " 'uma',\n",
              " 'reduzida',\n",
              " 'equipe',\n",
              " 'de',\n",
              " 'pessoas',\n",
              " ',',\n",
              " 'pode',\n",
              " 'facilmente',\n",
              " 'ser',\n",
              " 'aprendido',\n",
              " 'e',\n",
              " 'processado',\n",
              " 'por',\n",
              " 'máquinas',\n",
              " ',',\n",
              " 'com',\n",
              " 'o',\n",
              " 'uso',\n",
              " 'de',\n",
              " 'técnicas',\n",
              " 'de',\n",
              " 'inteligência',\n",
              " 'artificial',\n",
              " '.',\n",
              " 'Este',\n",
              " 'trabalho',\n",
              " 'focou',\n",
              " 'em',\n",
              " 'levantar',\n",
              " 'dados',\n",
              " 'de',\n",
              " 'uma',\n",
              " '“',\n",
              " 'fintech',\n",
              " '”',\n",
              " 'e',\n",
              " 'demonstrar',\n",
              " 'um',\n",
              " 'processo',\n",
              " 'anti-fraude',\n",
              " 'alcançado',\n",
              " 'por',\n",
              " 'aprendizado',\n",
              " 'de',\n",
              " 'máquina',\n",
              " '.',\n",
              " 'Houve',\n",
              " 'toda',\n",
              " 'uma',\n",
              " 'preocupação',\n",
              " 'com',\n",
              " 'a',\n",
              " 'privacidade',\n",
              " 'de',\n",
              " 'dados',\n",
              " ',',\n",
              " 'conforme',\n",
              " 'a',\n",
              " 'Lei',\n",
              " 'Geral',\n",
              " 'de',\n",
              " 'Proteção',\n",
              " 'de',\n",
              " 'Dados',\n",
              " ',',\n",
              " 'utilizando-se',\n",
              " 'de',\n",
              " 'técnicas',\n",
              " 'para',\n",
              " 'produzir',\n",
              " 'ruídos',\n",
              " 'de',\n",
              " 'dados',\n",
              " 'sem',\n",
              " 'prejudicar',\n",
              " 'os',\n",
              " 'dados',\n",
              " 'estatisticamente',\n",
              " '.',\n",
              " 'Após',\n",
              " 'a',\n",
              " 'coleta',\n",
              " 'de',\n",
              " 'dados',\n",
              " ',',\n",
              " 'foram',\n",
              " 'aplicadas',\n",
              " 'as',\n",
              " 'técnicas',\n",
              " 'estatísticas',\n",
              " 'para',\n",
              " 'pré-processamento',\n",
              " ',',\n",
              " 'normalização',\n",
              " 'e',\n",
              " 'padronização',\n",
              " '.',\n",
              " 'Todo',\n",
              " 'o',\n",
              " 'estudo',\n",
              " 'foi',\n",
              " 'feito',\n",
              " 'em',\n",
              " 'linguagem',\n",
              " 'de',\n",
              " 'programação',\n",
              " 'e',\n",
              " 'o',\n",
              " 'modelo',\n",
              " 'foi',\n",
              " 'testado',\n",
              " 'até',\n",
              " 'chegar',\n",
              " 'ao',\n",
              " 'que',\n",
              " 'consideramos',\n",
              " 'ideal',\n",
              " 'por',\n",
              " 'conseguir',\n",
              " 'atingir',\n",
              " 'um',\n",
              " 'percentual',\n",
              " 'alto',\n",
              " 'de',\n",
              " 'acerto',\n",
              " 'ao',\n",
              " 'detectar',\n",
              " 'fraudes',\n",
              " 'em',\n",
              " 'dados',\n",
              " 'financeiros',\n",
              " 'usando',\n",
              " 'inteligência',\n",
              " 'artificial']"
            ]
          },
          "metadata": {},
          "execution_count": 21
        }
      ]
    },
    {
      "cell_type": "markdown",
      "source": [
        "**Lematização**\n",
        "\n",
        "Forma básica da palavra. Sem conjulgação"
      ],
      "metadata": {
        "id": "3RR2ORbLANBe"
      }
    },
    {
      "cell_type": "code",
      "source": [
        "lemas = [token.lemma_ for token in doc]\n",
        "lemas "
      ],
      "metadata": {
        "colab": {
          "base_uri": "https://localhost:8080/"
        },
        "id": "RB4nVpD-AI_i",
        "outputId": "400c74be-9f89-4454-c781-1694f974645e"
      },
      "execution_count": 22,
      "outputs": [
        {
          "output_type": "execute_result",
          "data": {
            "text/plain": [
              "['Inovações',\n",
              " 'o',\n",
              " 'área',\n",
              " 'financeiro',\n",
              " 'passar',\n",
              " 'pelar',\n",
              " 'análise',\n",
              " 'de',\n",
              " 'dar',\n",
              " 'e',\n",
              " 'pelar',\n",
              " 'proteção',\n",
              " 'de',\n",
              " 'dar',\n",
              " 'pessoal',\n",
              " '.',\n",
              " 'O',\n",
              " 'usar',\n",
              " 'da',\n",
              " '“',\n",
              " 'big',\n",
              " 'datar',\n",
              " '”',\n",
              " 'permitir',\n",
              " 'gerenciar',\n",
              " 'grande',\n",
              " 'volumar',\n",
              " 'de',\n",
              " 'dar',\n",
              " '—',\n",
              " 'coletados',\n",
              " 'em',\n",
              " 'vário',\n",
              " 'formato',\n",
              " 'e',\n",
              " 'fonte',\n",
              " '—',\n",
              " ',',\n",
              " 'e',\n",
              " 'processá-los',\n",
              " 'rapidamente',\n",
              " '.',\n",
              " 'Um',\n",
              " 'processar',\n",
              " 'de',\n",
              " 'análise',\n",
              " ',',\n",
              " 'complexo',\n",
              " 'e',\n",
              " 'dispendioso',\n",
              " ',',\n",
              " 'se',\n",
              " 'destinar',\n",
              " 'o',\n",
              " 'umar',\n",
              " 'reduzir',\n",
              " 'equipar',\n",
              " 'de',\n",
              " 'pessoa',\n",
              " ',',\n",
              " 'poder',\n",
              " 'facilmente',\n",
              " 'ser',\n",
              " 'aprender',\n",
              " 'e',\n",
              " 'processar',\n",
              " 'por',\n",
              " 'máquina',\n",
              " ',',\n",
              " 'com',\n",
              " 'o',\n",
              " 'usar',\n",
              " 'de',\n",
              " 'técnico',\n",
              " 'de',\n",
              " 'inteligência',\n",
              " 'artificial',\n",
              " '.',\n",
              " 'Este',\n",
              " 'trabalhar',\n",
              " 'focar',\n",
              " 'em',\n",
              " 'levantar',\n",
              " 'dar',\n",
              " 'de',\n",
              " 'umar',\n",
              " '“',\n",
              " 'fintech',\n",
              " '”',\n",
              " 'e',\n",
              " 'demonstrar',\n",
              " 'um',\n",
              " 'processar',\n",
              " 'anti-fraude',\n",
              " 'alcançar',\n",
              " 'por',\n",
              " 'aprendizado',\n",
              " 'de',\n",
              " 'máquina',\n",
              " '.',\n",
              " 'Houve',\n",
              " 'todo',\n",
              " 'umar',\n",
              " 'preocupação',\n",
              " 'com',\n",
              " 'o',\n",
              " 'privacidade',\n",
              " 'de',\n",
              " 'dar',\n",
              " ',',\n",
              " 'conformar',\n",
              " 'o',\n",
              " 'Lei',\n",
              " 'Geral',\n",
              " 'de',\n",
              " 'Proteção',\n",
              " 'de',\n",
              " 'Dados',\n",
              " ',',\n",
              " 'utilizando-se',\n",
              " 'de',\n",
              " 'técnico',\n",
              " 'parir',\n",
              " 'produzir',\n",
              " 'ruir',\n",
              " 'de',\n",
              " 'dar',\n",
              " 'sem',\n",
              " 'prejudicar',\n",
              " 'o',\n",
              " 'dar',\n",
              " 'estatisticamente',\n",
              " '.',\n",
              " 'Após',\n",
              " 'o',\n",
              " 'coleta',\n",
              " 'de',\n",
              " 'dar',\n",
              " ',',\n",
              " 'ser',\n",
              " 'aplicar',\n",
              " 'o',\n",
              " 'técnico',\n",
              " 'estatístico',\n",
              " 'parir',\n",
              " 'pré-processamento',\n",
              " ',',\n",
              " 'normalização',\n",
              " 'e',\n",
              " 'padronização',\n",
              " '.',\n",
              " 'Todo',\n",
              " 'o',\n",
              " 'estudar',\n",
              " 'ser',\n",
              " 'fazer',\n",
              " 'em',\n",
              " 'linguagem',\n",
              " 'de',\n",
              " 'programação',\n",
              " 'e',\n",
              " 'o',\n",
              " 'modelar',\n",
              " 'ser',\n",
              " 'testar',\n",
              " 'até',\n",
              " 'chegar',\n",
              " 'ao',\n",
              " 'que',\n",
              " 'considerar',\n",
              " 'ideal',\n",
              " 'por',\n",
              " 'conseguir',\n",
              " 'atingir',\n",
              " 'um',\n",
              " 'percentual',\n",
              " 'alto',\n",
              " 'de',\n",
              " 'acertar',\n",
              " 'ao',\n",
              " 'detectar',\n",
              " 'fraude',\n",
              " 'em',\n",
              " 'dar',\n",
              " 'financeiro',\n",
              " 'usar',\n",
              " 'inteligência',\n",
              " 'artificial']"
            ]
          },
          "metadata": {},
          "execution_count": 22
        }
      ]
    },
    {
      "cell_type": "markdown",
      "source": [
        "### **Frequencia, Lei de Zipf e TTR**"
      ],
      "metadata": {
        "id": "Cjf8vRAhBH4E"
      }
    },
    {
      "cell_type": "code",
      "source": [
        "tokens = [token.orth_ for token in doc]\n",
        "tokens\n",
        "\n",
        "# Contagem de tokens.\n",
        "# Ex: artigos \n"
      ],
      "metadata": {
        "colab": {
          "base_uri": "https://localhost:8080/"
        },
        "id": "SnZJDN1fAgqD",
        "outputId": "945f9c0a-782d-4f15-ded0-f9886aec295b"
      },
      "execution_count": 23,
      "outputs": [
        {
          "output_type": "execute_result",
          "data": {
            "text/plain": [
              "['Inovações',\n",
              " 'na',\n",
              " 'área',\n",
              " 'financeira',\n",
              " 'passam',\n",
              " 'pela',\n",
              " 'análise',\n",
              " 'de',\n",
              " 'dados',\n",
              " 'e',\n",
              " 'pela',\n",
              " 'proteção',\n",
              " 'de',\n",
              " 'dados',\n",
              " 'pessoais',\n",
              " '.',\n",
              " 'O',\n",
              " 'uso',\n",
              " 'da',\n",
              " '“',\n",
              " 'big',\n",
              " 'data',\n",
              " '”',\n",
              " 'permitiu',\n",
              " 'gerenciar',\n",
              " 'grande',\n",
              " 'volume',\n",
              " 'de',\n",
              " 'dados',\n",
              " '—',\n",
              " 'coletados',\n",
              " 'em',\n",
              " 'vários',\n",
              " 'formatos',\n",
              " 'e',\n",
              " 'fontes',\n",
              " '—',\n",
              " ',',\n",
              " 'e',\n",
              " 'processá-los',\n",
              " 'rapidamente',\n",
              " '.',\n",
              " 'Um',\n",
              " 'processo',\n",
              " 'de',\n",
              " 'análise',\n",
              " ',',\n",
              " 'complexo',\n",
              " 'e',\n",
              " 'dispendioso',\n",
              " ',',\n",
              " 'se',\n",
              " 'destinado',\n",
              " 'a',\n",
              " 'uma',\n",
              " 'reduzida',\n",
              " 'equipe',\n",
              " 'de',\n",
              " 'pessoas',\n",
              " ',',\n",
              " 'pode',\n",
              " 'facilmente',\n",
              " 'ser',\n",
              " 'aprendido',\n",
              " 'e',\n",
              " 'processado',\n",
              " 'por',\n",
              " 'máquinas',\n",
              " ',',\n",
              " 'com',\n",
              " 'o',\n",
              " 'uso',\n",
              " 'de',\n",
              " 'técnicas',\n",
              " 'de',\n",
              " 'inteligência',\n",
              " 'artificial',\n",
              " '.',\n",
              " 'Este',\n",
              " 'trabalho',\n",
              " 'focou',\n",
              " 'em',\n",
              " 'levantar',\n",
              " 'dados',\n",
              " 'de',\n",
              " 'uma',\n",
              " '“',\n",
              " 'fintech',\n",
              " '”',\n",
              " 'e',\n",
              " 'demonstrar',\n",
              " 'um',\n",
              " 'processo',\n",
              " 'anti-fraude',\n",
              " 'alcançado',\n",
              " 'por',\n",
              " 'aprendizado',\n",
              " 'de',\n",
              " 'máquina',\n",
              " '.',\n",
              " 'Houve',\n",
              " 'toda',\n",
              " 'uma',\n",
              " 'preocupação',\n",
              " 'com',\n",
              " 'a',\n",
              " 'privacidade',\n",
              " 'de',\n",
              " 'dados',\n",
              " ',',\n",
              " 'conforme',\n",
              " 'a',\n",
              " 'Lei',\n",
              " 'Geral',\n",
              " 'de',\n",
              " 'Proteção',\n",
              " 'de',\n",
              " 'Dados',\n",
              " ',',\n",
              " 'utilizando-se',\n",
              " 'de',\n",
              " 'técnicas',\n",
              " 'para',\n",
              " 'produzir',\n",
              " 'ruídos',\n",
              " 'de',\n",
              " 'dados',\n",
              " 'sem',\n",
              " 'prejudicar',\n",
              " 'os',\n",
              " 'dados',\n",
              " 'estatisticamente',\n",
              " '.',\n",
              " 'Após',\n",
              " 'a',\n",
              " 'coleta',\n",
              " 'de',\n",
              " 'dados',\n",
              " ',',\n",
              " 'foram',\n",
              " 'aplicadas',\n",
              " 'as',\n",
              " 'técnicas',\n",
              " 'estatísticas',\n",
              " 'para',\n",
              " 'pré-processamento',\n",
              " ',',\n",
              " 'normalização',\n",
              " 'e',\n",
              " 'padronização',\n",
              " '.',\n",
              " 'Todo',\n",
              " 'o',\n",
              " 'estudo',\n",
              " 'foi',\n",
              " 'feito',\n",
              " 'em',\n",
              " 'linguagem',\n",
              " 'de',\n",
              " 'programação',\n",
              " 'e',\n",
              " 'o',\n",
              " 'modelo',\n",
              " 'foi',\n",
              " 'testado',\n",
              " 'até',\n",
              " 'chegar',\n",
              " 'ao',\n",
              " 'que',\n",
              " 'consideramos',\n",
              " 'ideal',\n",
              " 'por',\n",
              " 'conseguir',\n",
              " 'atingir',\n",
              " 'um',\n",
              " 'percentual',\n",
              " 'alto',\n",
              " 'de',\n",
              " 'acerto',\n",
              " 'ao',\n",
              " 'detectar',\n",
              " 'fraudes',\n",
              " 'em',\n",
              " 'dados',\n",
              " 'financeiros',\n",
              " 'usando',\n",
              " 'inteligência',\n",
              " 'artificial']"
            ]
          },
          "metadata": {},
          "execution_count": 23
        }
      ]
    },
    {
      "cell_type": "code",
      "source": [
        "from collections import Counter\n",
        "\n",
        "# Saber quantos Tokens (palavras)\n",
        "Counter(tokens)"
      ],
      "metadata": {
        "colab": {
          "base_uri": "https://localhost:8080/"
        },
        "id": "aAcmSYWGBnQv",
        "outputId": "6d17b407-78dc-4854-896c-29b80bc650a5"
      },
      "execution_count": 25,
      "outputs": [
        {
          "output_type": "execute_result",
          "data": {
            "text/plain": [
              "Counter({',': 9,\n",
              "         '.': 6,\n",
              "         'Após': 1,\n",
              "         'Dados': 1,\n",
              "         'Este': 1,\n",
              "         'Geral': 1,\n",
              "         'Houve': 1,\n",
              "         'Inovações': 1,\n",
              "         'Lei': 1,\n",
              "         'O': 1,\n",
              "         'Proteção': 1,\n",
              "         'Todo': 1,\n",
              "         'Um': 1,\n",
              "         'a': 4,\n",
              "         'acerto': 1,\n",
              "         'alcançado': 1,\n",
              "         'alto': 1,\n",
              "         'anti-fraude': 1,\n",
              "         'análise': 2,\n",
              "         'ao': 2,\n",
              "         'aplicadas': 1,\n",
              "         'aprendido': 1,\n",
              "         'aprendizado': 1,\n",
              "         'artificial': 2,\n",
              "         'as': 1,\n",
              "         'atingir': 1,\n",
              "         'até': 1,\n",
              "         'big': 1,\n",
              "         'chegar': 1,\n",
              "         'coleta': 1,\n",
              "         'coletados': 1,\n",
              "         'com': 2,\n",
              "         'complexo': 1,\n",
              "         'conforme': 1,\n",
              "         'conseguir': 1,\n",
              "         'consideramos': 1,\n",
              "         'da': 1,\n",
              "         'dados': 9,\n",
              "         'data': 1,\n",
              "         'de': 17,\n",
              "         'demonstrar': 1,\n",
              "         'destinado': 1,\n",
              "         'detectar': 1,\n",
              "         'dispendioso': 1,\n",
              "         'e': 8,\n",
              "         'em': 4,\n",
              "         'equipe': 1,\n",
              "         'estatisticamente': 1,\n",
              "         'estatísticas': 1,\n",
              "         'estudo': 1,\n",
              "         'facilmente': 1,\n",
              "         'feito': 1,\n",
              "         'financeira': 1,\n",
              "         'financeiros': 1,\n",
              "         'fintech': 1,\n",
              "         'focou': 1,\n",
              "         'foi': 2,\n",
              "         'fontes': 1,\n",
              "         'foram': 1,\n",
              "         'formatos': 1,\n",
              "         'fraudes': 1,\n",
              "         'gerenciar': 1,\n",
              "         'grande': 1,\n",
              "         'ideal': 1,\n",
              "         'inteligência': 2,\n",
              "         'levantar': 1,\n",
              "         'linguagem': 1,\n",
              "         'modelo': 1,\n",
              "         'máquina': 1,\n",
              "         'máquinas': 1,\n",
              "         'na': 1,\n",
              "         'normalização': 1,\n",
              "         'o': 3,\n",
              "         'os': 1,\n",
              "         'padronização': 1,\n",
              "         'para': 2,\n",
              "         'passam': 1,\n",
              "         'pela': 2,\n",
              "         'percentual': 1,\n",
              "         'permitiu': 1,\n",
              "         'pessoais': 1,\n",
              "         'pessoas': 1,\n",
              "         'pode': 1,\n",
              "         'por': 3,\n",
              "         'prejudicar': 1,\n",
              "         'preocupação': 1,\n",
              "         'privacidade': 1,\n",
              "         'processado': 1,\n",
              "         'processo': 2,\n",
              "         'processá-los': 1,\n",
              "         'produzir': 1,\n",
              "         'programação': 1,\n",
              "         'proteção': 1,\n",
              "         'pré-processamento': 1,\n",
              "         'que': 1,\n",
              "         'rapidamente': 1,\n",
              "         'reduzida': 1,\n",
              "         'ruídos': 1,\n",
              "         'se': 1,\n",
              "         'sem': 1,\n",
              "         'ser': 1,\n",
              "         'testado': 1,\n",
              "         'toda': 1,\n",
              "         'trabalho': 1,\n",
              "         'técnicas': 3,\n",
              "         'um': 2,\n",
              "         'uma': 3,\n",
              "         'usando': 1,\n",
              "         'uso': 2,\n",
              "         'utilizando-se': 1,\n",
              "         'volume': 1,\n",
              "         'vários': 1,\n",
              "         'área': 1,\n",
              "         '—': 2,\n",
              "         '“': 2,\n",
              "         '”': 2})"
            ]
          },
          "metadata": {},
          "execution_count": 25
        }
      ]
    },
    {
      "cell_type": "code",
      "source": [
        "#Ordem decrescente dos tokens\n",
        "\n",
        "#Tem diferença de CASE\n",
        "\n",
        "Counter(tokens).most_common()"
      ],
      "metadata": {
        "colab": {
          "base_uri": "https://localhost:8080/"
        },
        "id": "kKidXPqcBrIF",
        "outputId": "f4ac84b1-d058-4e01-cf3d-c011fd9a0d68"
      },
      "execution_count": 28,
      "outputs": [
        {
          "output_type": "execute_result",
          "data": {
            "text/plain": [
              "[('de', 17),\n",
              " ('dados', 9),\n",
              " (',', 9),\n",
              " ('e', 8),\n",
              " ('.', 6),\n",
              " ('em', 4),\n",
              " ('a', 4),\n",
              " ('uma', 3),\n",
              " ('por', 3),\n",
              " ('o', 3),\n",
              " ('técnicas', 3),\n",
              " ('pela', 2),\n",
              " ('análise', 2),\n",
              " ('uso', 2),\n",
              " ('“', 2),\n",
              " ('”', 2),\n",
              " ('—', 2),\n",
              " ('processo', 2),\n",
              " ('com', 2),\n",
              " ('inteligência', 2),\n",
              " ('artificial', 2),\n",
              " ('um', 2),\n",
              " ('para', 2),\n",
              " ('foi', 2),\n",
              " ('ao', 2),\n",
              " ('Inovações', 1),\n",
              " ('na', 1),\n",
              " ('área', 1),\n",
              " ('financeira', 1),\n",
              " ('passam', 1),\n",
              " ('proteção', 1),\n",
              " ('pessoais', 1),\n",
              " ('O', 1),\n",
              " ('da', 1),\n",
              " ('big', 1),\n",
              " ('data', 1),\n",
              " ('permitiu', 1),\n",
              " ('gerenciar', 1),\n",
              " ('grande', 1),\n",
              " ('volume', 1),\n",
              " ('coletados', 1),\n",
              " ('vários', 1),\n",
              " ('formatos', 1),\n",
              " ('fontes', 1),\n",
              " ('processá-los', 1),\n",
              " ('rapidamente', 1),\n",
              " ('Um', 1),\n",
              " ('complexo', 1),\n",
              " ('dispendioso', 1),\n",
              " ('se', 1),\n",
              " ('destinado', 1),\n",
              " ('reduzida', 1),\n",
              " ('equipe', 1),\n",
              " ('pessoas', 1),\n",
              " ('pode', 1),\n",
              " ('facilmente', 1),\n",
              " ('ser', 1),\n",
              " ('aprendido', 1),\n",
              " ('processado', 1),\n",
              " ('máquinas', 1),\n",
              " ('Este', 1),\n",
              " ('trabalho', 1),\n",
              " ('focou', 1),\n",
              " ('levantar', 1),\n",
              " ('fintech', 1),\n",
              " ('demonstrar', 1),\n",
              " ('anti-fraude', 1),\n",
              " ('alcançado', 1),\n",
              " ('aprendizado', 1),\n",
              " ('máquina', 1),\n",
              " ('Houve', 1),\n",
              " ('toda', 1),\n",
              " ('preocupação', 1),\n",
              " ('privacidade', 1),\n",
              " ('conforme', 1),\n",
              " ('Lei', 1),\n",
              " ('Geral', 1),\n",
              " ('Proteção', 1),\n",
              " ('Dados', 1),\n",
              " ('utilizando-se', 1),\n",
              " ('produzir', 1),\n",
              " ('ruídos', 1),\n",
              " ('sem', 1),\n",
              " ('prejudicar', 1),\n",
              " ('os', 1),\n",
              " ('estatisticamente', 1),\n",
              " ('Após', 1),\n",
              " ('coleta', 1),\n",
              " ('foram', 1),\n",
              " ('aplicadas', 1),\n",
              " ('as', 1),\n",
              " ('estatísticas', 1),\n",
              " ('pré-processamento', 1),\n",
              " ('normalização', 1),\n",
              " ('padronização', 1),\n",
              " ('Todo', 1),\n",
              " ('estudo', 1),\n",
              " ('feito', 1),\n",
              " ('linguagem', 1),\n",
              " ('programação', 1),\n",
              " ('modelo', 1),\n",
              " ('testado', 1),\n",
              " ('até', 1),\n",
              " ('chegar', 1),\n",
              " ('que', 1),\n",
              " ('consideramos', 1),\n",
              " ('ideal', 1),\n",
              " ('conseguir', 1),\n",
              " ('atingir', 1),\n",
              " ('percentual', 1),\n",
              " ('alto', 1),\n",
              " ('acerto', 1),\n",
              " ('detectar', 1),\n",
              " ('fraudes', 1),\n",
              " ('financeiros', 1),\n",
              " ('usando', 1)]"
            ]
          },
          "metadata": {},
          "execution_count": 28
        }
      ]
    },
    {
      "cell_type": "markdown",
      "source": [
        "**Os tokens que mais aparecem**"
      ],
      "metadata": {
        "id": "Ryi0F58KCw7s"
      }
    },
    {
      "cell_type": "code",
      "source": [
        "Counter(tokens).most_common(5)"
      ],
      "metadata": {
        "colab": {
          "base_uri": "https://localhost:8080/"
        },
        "id": "M79VAqy3CEQY",
        "outputId": "565b6288-ce33-4aea-f44f-fcefd4d7aab7"
      },
      "execution_count": 29,
      "outputs": [
        {
          "output_type": "execute_result",
          "data": {
            "text/plain": [
              "[('de', 17), ('dados', 9), (',', 9), ('e', 8), ('.', 6)]"
            ]
          },
          "metadata": {},
          "execution_count": 29
        }
      ]
    },
    {
      "cell_type": "markdown",
      "source": [
        "Lei de Zift"
      ],
      "metadata": {
        "id": "Jt7AbDi1C1-7"
      }
    },
    {
      "cell_type": "code",
      "source": [
        "# transformar as palavras em minúsculo\n",
        "\n",
        "tokens_pre_processados = [token.orth_.lower for token in doc]"
      ],
      "metadata": {
        "id": "n4v9DOIgCr48"
      },
      "execution_count": 30,
      "outputs": []
    },
    {
      "cell_type": "code",
      "source": [
        "# Eliminar as pontuações\n",
        "tokens_pre_processados = [token.orth_.lower() for token in doc if token.is_alpha]\n",
        "tokens_pre_processados"
      ],
      "metadata": {
        "colab": {
          "base_uri": "https://localhost:8080/"
        },
        "id": "gzW0UdpYDczv",
        "outputId": "b8bdd236-707e-4126-86d8-e607de42d520"
      },
      "execution_count": 34,
      "outputs": [
        {
          "output_type": "execute_result",
          "data": {
            "text/plain": [
              "['inovações',\n",
              " 'na',\n",
              " 'área',\n",
              " 'financeira',\n",
              " 'passam',\n",
              " 'pela',\n",
              " 'análise',\n",
              " 'de',\n",
              " 'dados',\n",
              " 'e',\n",
              " 'pela',\n",
              " 'proteção',\n",
              " 'de',\n",
              " 'dados',\n",
              " 'pessoais',\n",
              " 'o',\n",
              " 'uso',\n",
              " 'da',\n",
              " 'big',\n",
              " 'data',\n",
              " 'permitiu',\n",
              " 'gerenciar',\n",
              " 'grande',\n",
              " 'volume',\n",
              " 'de',\n",
              " 'dados',\n",
              " 'coletados',\n",
              " 'em',\n",
              " 'vários',\n",
              " 'formatos',\n",
              " 'e',\n",
              " 'fontes',\n",
              " 'e',\n",
              " 'rapidamente',\n",
              " 'um',\n",
              " 'processo',\n",
              " 'de',\n",
              " 'análise',\n",
              " 'complexo',\n",
              " 'e',\n",
              " 'dispendioso',\n",
              " 'se',\n",
              " 'destinado',\n",
              " 'a',\n",
              " 'uma',\n",
              " 'reduzida',\n",
              " 'equipe',\n",
              " 'de',\n",
              " 'pessoas',\n",
              " 'pode',\n",
              " 'facilmente',\n",
              " 'ser',\n",
              " 'aprendido',\n",
              " 'e',\n",
              " 'processado',\n",
              " 'por',\n",
              " 'máquinas',\n",
              " 'com',\n",
              " 'o',\n",
              " 'uso',\n",
              " 'de',\n",
              " 'técnicas',\n",
              " 'de',\n",
              " 'inteligência',\n",
              " 'artificial',\n",
              " 'este',\n",
              " 'trabalho',\n",
              " 'focou',\n",
              " 'em',\n",
              " 'levantar',\n",
              " 'dados',\n",
              " 'de',\n",
              " 'uma',\n",
              " 'fintech',\n",
              " 'e',\n",
              " 'demonstrar',\n",
              " 'um',\n",
              " 'processo',\n",
              " 'alcançado',\n",
              " 'por',\n",
              " 'aprendizado',\n",
              " 'de',\n",
              " 'máquina',\n",
              " 'houve',\n",
              " 'toda',\n",
              " 'uma',\n",
              " 'preocupação',\n",
              " 'com',\n",
              " 'a',\n",
              " 'privacidade',\n",
              " 'de',\n",
              " 'dados',\n",
              " 'conforme',\n",
              " 'a',\n",
              " 'lei',\n",
              " 'geral',\n",
              " 'de',\n",
              " 'proteção',\n",
              " 'de',\n",
              " 'dados',\n",
              " 'de',\n",
              " 'técnicas',\n",
              " 'para',\n",
              " 'produzir',\n",
              " 'ruídos',\n",
              " 'de',\n",
              " 'dados',\n",
              " 'sem',\n",
              " 'prejudicar',\n",
              " 'os',\n",
              " 'dados',\n",
              " 'estatisticamente',\n",
              " 'após',\n",
              " 'a',\n",
              " 'coleta',\n",
              " 'de',\n",
              " 'dados',\n",
              " 'foram',\n",
              " 'aplicadas',\n",
              " 'as',\n",
              " 'técnicas',\n",
              " 'estatísticas',\n",
              " 'para',\n",
              " 'normalização',\n",
              " 'e',\n",
              " 'padronização',\n",
              " 'todo',\n",
              " 'o',\n",
              " 'estudo',\n",
              " 'foi',\n",
              " 'feito',\n",
              " 'em',\n",
              " 'linguagem',\n",
              " 'de',\n",
              " 'programação',\n",
              " 'e',\n",
              " 'o',\n",
              " 'modelo',\n",
              " 'foi',\n",
              " 'testado',\n",
              " 'até',\n",
              " 'chegar',\n",
              " 'ao',\n",
              " 'que',\n",
              " 'consideramos',\n",
              " 'ideal',\n",
              " 'por',\n",
              " 'conseguir',\n",
              " 'atingir',\n",
              " 'um',\n",
              " 'percentual',\n",
              " 'alto',\n",
              " 'de',\n",
              " 'acerto',\n",
              " 'ao',\n",
              " 'detectar',\n",
              " 'fraudes',\n",
              " 'em',\n",
              " 'dados',\n",
              " 'financeiros',\n",
              " 'usando',\n",
              " 'inteligência',\n",
              " 'artificial']"
            ]
          },
          "metadata": {},
          "execution_count": 34
        }
      ]
    },
    {
      "cell_type": "code",
      "source": [
        "import matplotlib.pyplot as plt\n",
        "\n",
        "x=[]\n",
        "y=[]\n",
        "\n",
        "\n",
        "for i in Counter(tokens_pre_processados).most_common():\n",
        "  x.append(i[0])\n",
        "  y.append(i[1])\n",
        "\n",
        "plt.xticks(rotation=90)\n",
        "plt.xticks(range(len(x)),x)\n",
        "plt.plot(y)\n",
        "\n",
        "plt.show()\n"
      ],
      "metadata": {
        "colab": {
          "base_uri": "https://localhost:8080/",
          "height": 339
        },
        "id": "m0cvuEJXDnog",
        "outputId": "9a4c3fda-9445-426d-81d4-c0c74c29a6da"
      },
      "execution_count": 35,
      "outputs": [
        {
          "output_type": "display_data",
          "data": {
            "text/plain": [
              "<Figure size 432x288 with 1 Axes>"
            ],
            "image/png": "[encoded data removed]"
          },
          "metadata": {
            "needs_background": "light"
          }
        }
      ]
    },
    {
      "cell_type": "markdown",
      "source": [
        "TTR  - Palavras únicas (mais ricas lexicamente)"
      ],
      "metadata": {
        "id": "FE0-jwVhFzU_"
      }
    },
    {
      "cell_type": "code",
      "source": [
        "# função set() dorta repetições\n",
        "types = list(set(tokens_pre_processados))\n",
        "types"
      ],
      "metadata": {
        "colab": {
          "base_uri": "https://localhost:8080/"
        },
        "id": "DP1wb0mMFpfy",
        "outputId": "faf4fec0-cb42-4018-a06b-df438af4d938"
      },
      "execution_count": 36,
      "outputs": [
        {
          "output_type": "execute_result",
          "data": {
            "text/plain": [
              "['conseguir',\n",
              " 'proteção',\n",
              " 'em',\n",
              " 'alcançado',\n",
              " 'inovações',\n",
              " 'as',\n",
              " 'máquina',\n",
              " 'focou',\n",
              " 'de',\n",
              " 'sem',\n",
              " 'estatisticamente',\n",
              " 'modelo',\n",
              " 'vários',\n",
              " 'se',\n",
              " 'houve',\n",
              " 'fraudes',\n",
              " 'usando',\n",
              " 'ser',\n",
              " 'todo',\n",
              " 'artificial',\n",
              " 'preocupação',\n",
              " 'data',\n",
              " 'fontes',\n",
              " 'facilmente',\n",
              " 'por',\n",
              " 'geral',\n",
              " 'este',\n",
              " 'privacidade',\n",
              " 'que',\n",
              " 'técnicas',\n",
              " 'grande',\n",
              " 'gerenciar',\n",
              " 'linguagem',\n",
              " 'detectar',\n",
              " 'programação',\n",
              " 'passam',\n",
              " 'levantar',\n",
              " 'na',\n",
              " 'para',\n",
              " 'ao',\n",
              " 'formatos',\n",
              " 'estudo',\n",
              " 'estatísticas',\n",
              " 'coletados',\n",
              " 'prejudicar',\n",
              " 'uma',\n",
              " 'dados',\n",
              " 'máquinas',\n",
              " 'lei',\n",
              " 'testado',\n",
              " 'financeira',\n",
              " 'coleta',\n",
              " 'toda',\n",
              " 'processo',\n",
              " 'análise',\n",
              " 'aprendizado',\n",
              " 'inteligência',\n",
              " 'os',\n",
              " 'acerto',\n",
              " 'foi',\n",
              " 'trabalho',\n",
              " 'feito',\n",
              " 'fintech',\n",
              " 'padronização',\n",
              " 'normalização',\n",
              " 'aplicadas',\n",
              " 'um',\n",
              " 'chegar',\n",
              " 'produzir',\n",
              " 'ideal',\n",
              " 'pela',\n",
              " 'ruídos',\n",
              " 'foram',\n",
              " 'alto',\n",
              " 'pessoas',\n",
              " 'destinado',\n",
              " 'pessoais',\n",
              " 'rapidamente',\n",
              " 'com',\n",
              " 'permitiu',\n",
              " 'após',\n",
              " 'financeiros',\n",
              " 'da',\n",
              " 'aprendido',\n",
              " 'consideramos',\n",
              " 'volume',\n",
              " 'o',\n",
              " 'complexo',\n",
              " 'atingir',\n",
              " 'equipe',\n",
              " 'pode',\n",
              " 'big',\n",
              " 'reduzida',\n",
              " 'área',\n",
              " 'até',\n",
              " 'demonstrar',\n",
              " 'dispendioso',\n",
              " 'processado',\n",
              " 'a',\n",
              " 'percentual',\n",
              " 'e',\n",
              " 'conforme',\n",
              " 'uso']"
            ]
          },
          "metadata": {},
          "execution_count": 36
        }
      ]
    },
    {
      "cell_type": "code",
      "source": [
        "# Quanto mais próximo de 1, maisrico é o texto\n",
        "ttr = len(types) / len(tokens_pre_processados)\n",
        "ttr "
      ],
      "metadata": {
        "colab": {
          "base_uri": "https://localhost:8080/"
        },
        "id": "yD49BeMRGNlR",
        "outputId": "65ef7b5d-5ec2-4f91-ce28-a9d52e14bd9d"
      },
      "execution_count": 38,
      "outputs": [
        {
          "output_type": "execute_result",
          "data": {
            "text/plain": [
              "0.6319018404907976"
            ]
          },
          "metadata": {},
          "execution_count": 38
        }
      ]
    },
    {
      "cell_type": "code",
      "source": [
        ""
      ],
      "metadata": {
        "id": "bD28IdNBGbC-"
      },
      "execution_count": null,
      "outputs": []
    }
  ]
}