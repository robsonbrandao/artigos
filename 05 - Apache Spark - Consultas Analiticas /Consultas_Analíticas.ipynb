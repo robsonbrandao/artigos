{
  "nbformat": 4,
  "nbformat_minor": 0,
  "metadata": {
    "colab": {
      "name": "Consultas Analíticas.ipynb",
      "provenance": [],
      "collapsed_sections": [],
      "include_colab_link": true
    },
    "kernelspec": {
      "name": "python3",
      "display_name": "Python 3"
    }
  },
  "cells": [
    {
      "cell_type": "markdown",
      "metadata": {
        "id": "view-in-github",
        "colab_type": "text"
      },
      "source": [
        "<a href=\"https://colab.research.google.com/github/robsonbrandao/artigos/blob/main/05%20-%20Apache%20Spark%20-%20Consultas%20Analiticas%20/Consultas_Anal%C3%ADticas.ipynb\" target=\"_parent\"><img src=\"https://colab.research.google.com/assets/colab-badge.svg\" alt=\"Open In Colab\"/></a>"
      ]
    },
    {
      "cell_type": "markdown",
      "metadata": {
        "id": "flekT6GFDN6m"
      },
      "source": [
        "# <span style=\"color:blue\">Processamento Analítico de Dados em Larga Escala</span>\n",
        "\n",
        "## <span style=\"color:blue\">Aula 04: Módulo pyspark.sql e Discussões Finais</span>\n",
        "## <span style=\"color:blue\">Módulo pyspark.sql: Notebook com Consultas Analíticas</span>\n",
        "\n",
        "\n",
        "**ICMC/USP**\n",
        "\n",
        "**IMPORTANTE: O uso do *framework* Spark requer diversas configurações no ambiente de desenvolvimento para executar o *notebook*. Dado que tal complexidade foge do escopo de nossa disciplina, recomenda-se que o *notebook* seja executado na plataforma de desenvolvimento COLAB. O uso do COLAB  proporciona um ambiente de desenvolvimento pré-configurado e remove a complexidade de instalação e configuração de pacotes e *frameworks* que são utilizados na disciplina.** "
      ]
    },
    {
      "cell_type": "markdown",
      "metadata": {
        "id": "3o3dN_WLQcyD"
      },
      "source": [
        "# 1 Constelação de Fatos da Celeb Co.\n",
        "\n",
        "A aplicação de *data warehousing* da Celeb Co. utiliza como base uma contelação de fatos, conforme descrita a seguir.\n",
        "\n",
        "**Tabelas de dimensão**\n",
        "\n",
        "- data (dataPK, dataCompleta, dataDia, dataMes, dataBimestre, dataTrimestre, dataSemestre, dataAno)\n",
        "- funcionario (funcPK, funcMatricula, funcNome, funcSexo, funcDataNascimento, funcDiaNascimento, funcMesNascimento, funcAnoNascimento, funcCidade, funcEstadoNome, funcEstadoSigla, funcRegiaoNome, funcRegiaoSigla, funcPaisNome, funcPaisSigla)\n",
        "- equipe (equipePK, equipeNome, filialNome, filialCidade, filialEstadoNome, filialEstadoSigla, filialRegiaoNome, filialRegiaoSigla, filialPaisNome, filialPaisSigla)\n",
        "- cargo (cargoPK, cargoNome, cargoRegimeTrabalho, cargoEscolaridadeMinima, cargoNivel)\n",
        "- cliente (clientePK, clienteNomeFantasia, clienteSetor, clienteCidade, clienteEstadoNome, clienteEstadoSigla, clienteRegiaoNome, clienteRegiaoSigla, clientePaisNome, clientePaisSigla)\n",
        "\n",
        "**Tabelas de fatos**\n",
        "- pagamento (dataPK, funcPK, equipePK, cargoPK, salario, quantidadeLancamentos)\n",
        "- negociacao (dataPK, equipePK, clientePK, receita, quantidadeNegociacoes)\n"
      ]
    },
    {
      "cell_type": "markdown",
      "metadata": {
        "id": "BGeh8KdXwVCQ"
      },
      "source": [
        "#2 Obtenção dos Dados\n"
      ]
    },
    {
      "cell_type": "markdown",
      "metadata": {
        "id": "CCCNC64AzBG0"
      },
      "source": [
        "## 2.1 Instalando o Módulo wget\n",
        "\n",
        "Para obter os dados referentes ao esquema relacional da constelação de fatos da Celeb Co., é utilizado o módulo  **wget**. O comando a seguir realiza a instalação desse módulo. <br>"
      ]
    },
    {
      "cell_type": "code",
      "metadata": {
        "id": "3e0Eao1K0EYG"
      },
      "source": [
        "# instalando o módulo wget\n",
        "%%capture\n",
        "!pip install -q wget\n",
        "\n",
        "# criando uma pasta para salvar os dados das relações\n",
        "!mkdir data\n",
        "\n",
        "# importando o módulo wget\n",
        "import wget"
      ],
      "execution_count": null,
      "outputs": []
    },
    {
      "cell_type": "markdown",
      "metadata": {
        "id": "j56pVJ2hZ2i5"
      },
      "source": [
        "## 2.2 Tabelas de Dimensão\n",
        "\n",
        "Os comandos a seguir obtêm os dados que povoam as tabelas de dimensão. "
      ]
    },
    {
      "cell_type": "code",
      "metadata": {
        "id": "46QzTpLJwfkW",
        "cellView": "both",
        "colab": {
          "base_uri": "https://localhost:8080/",
          "height": 35
        },
        "outputId": "cda1e9be-3cb6-40aa-ed82-d93c6089187a"
      },
      "source": [
        "# obtendo os dados da tabela de dimensão data\n",
        "url = \"https://raw.githubusercontent.com/CristinaAguiar/DataMartCelebCo/main/data.csv\"\n",
        "wget.download(url, \"data/data.csv\")\n",
        "\n",
        "# obtendo os dados da tabela de dimensão funcionario\n",
        "url = \"https://raw.githubusercontent.com/CristinaAguiar/DataMartCelebCo/main/funcionario.csv\"\n",
        "wget.download(url, \"data/funcionario.csv\")\n",
        "\n",
        "# obtendo os dados da tabela de dimensão equipe\n",
        "url = \"https://raw.githubusercontent.com/CristinaAguiar/DataMartCelebCo/main/equipe.csv\"\n",
        "wget.download(url, \"data/equipe.csv\")\n",
        "\n",
        "# obtendo os dados da tabela de dimensão cargo\n",
        "url = \"https://raw.githubusercontent.com/CristinaAguiar/DataMartCelebCo/main/cargo.csv\"\n",
        "wget.download(url, \"data/cargo.csv\")\n",
        "\n",
        "# obtendo os dados da tabela de dimensão cliente\n",
        "url = \"https://raw.githubusercontent.com/CristinaAguiar/DataMartCelebCo/main/cliente.csv\"\n",
        "wget.download(url, \"data/cliente.csv\")"
      ],
      "execution_count": null,
      "outputs": [
        {
          "output_type": "execute_result",
          "data": {
            "application/vnd.google.colaboratory.intrinsic+json": {
              "type": "string"
            },
            "text/plain": [
              "'data/cliente.csv'"
            ]
          },
          "metadata": {},
          "execution_count": 2
        }
      ]
    },
    {
      "cell_type": "markdown",
      "metadata": {
        "id": "0o-dC7feszRc"
      },
      "source": [
        "## 2.3 Tabelas de Fatos\n",
        "\n",
        "Os comandos a seguir obtêm os dados que povoam as tabelas de fatos. "
      ]
    },
    {
      "cell_type": "code",
      "metadata": {
        "id": "XWM-CUFgBl_8",
        "colab": {
          "base_uri": "https://localhost:8080/",
          "height": 35
        },
        "outputId": "ea714398-a6e7-4afd-f56d-6254679f8906"
      },
      "source": [
        "# obtendo os dados da tabela de fatos pagamento\n",
        "url = \"https://raw.githubusercontent.com/CristinaAguiar/DataMartCelebCo/main/pagamento.csv\"\n",
        "wget.download(url, \"data/pagamento.csv\")\n",
        "\n",
        "# obtendo os dados da tabela de fatos negociacao\n",
        "url = \"https://raw.githubusercontent.com/CristinaAguiar/DataMartCelebCo/main/negociacao.csv\"\n",
        "wget.download(url, \"data/negociacao.csv\")"
      ],
      "execution_count": null,
      "outputs": [
        {
          "output_type": "execute_result",
          "data": {
            "application/vnd.google.colaboratory.intrinsic+json": {
              "type": "string"
            },
            "text/plain": [
              "'data/negociacao.csv'"
            ]
          },
          "metadata": {},
          "execution_count": 3
        }
      ]
    },
    {
      "cell_type": "markdown",
      "metadata": {
        "id": "sO16-7-jOioq"
      },
      "source": [
        "# 3 Apache Spark Cluster"
      ]
    },
    {
      "cell_type": "markdown",
      "metadata": {
        "id": "YVEgY9qKflBV"
      },
      "source": [
        "## 3.1 Instalação\n",
        "\n",
        "Neste *notebook* é criado um *cluster* Spark composto apenas por um **nó mestre**. Ou seja, o *cluster* não possui um ou mais **nós de trabalho** e o **gerenciador de cluster**. Nessa configuração, as tarefas (*tasks*) são realizadas no próprio *driver* localizado no **nó mestre**."
      ]
    },
    {
      "cell_type": "markdown",
      "metadata": {
        "id": "KaM-OnIjgLS2"
      },
      "source": [
        "Para que o cluster possa ser criado, primeiramente é instalado o Java Runtime Environment (JRE) versão 8. "
      ]
    },
    {
      "cell_type": "code",
      "metadata": {
        "id": "NXls3bfoglKW"
      },
      "source": [
        "#instalando Java Runtime Environment (JRE) versão 8\n",
        "%%capture\n",
        "!apt-get remove openjdk*\n",
        "!apt-get update --fix-missing\n",
        "!apt-get install openjdk-8-jdk-headless -qq > /dev/null"
      ],
      "execution_count": null,
      "outputs": []
    },
    {
      "cell_type": "markdown",
      "metadata": {
        "id": "7BQzZfDYhb4j"
      },
      "source": [
        "Na sequência, é feito o *download* do Apache Spark versão 3.0.0."
      ]
    },
    {
      "cell_type": "code",
      "metadata": {
        "id": "8a_Yv59zg3gm"
      },
      "source": [
        "#baixando Apache Spark versão 3.0.0\n",
        "%%capture\n",
        "!wget -q https://archive.apache.org/dist/spark/spark-3.0.0/spark-3.0.0-bin-hadoop2.7.tgz\n",
        "!tar xf spark-3.0.0-bin-hadoop2.7.tgz && rm spark-3.0.0-bin-hadoop2.7.tgz"
      ],
      "execution_count": null,
      "outputs": []
    },
    {
      "cell_type": "markdown",
      "metadata": {
        "id": "RETWX6wqhkLf"
      },
      "source": [
        "Na sequência, são configuradas as variáveis de ambiente JAVA_HOME e SPARK_HOME. Isto permite que tanto o Java quanto o Spark possam ser encontrados."
      ]
    },
    {
      "cell_type": "code",
      "metadata": {
        "id": "iZpR7NwOh2EB"
      },
      "source": [
        "import os\n",
        "\n",
        "# configurando a variável de ambiente JAVA_HOME\n",
        "os.environ[\"JAVA_HOME\"] = \"/usr/lib/jvm/java-8-openjdk-amd64\"\n",
        "\n",
        "# configurando a variável de ambiente SPARK_HOME\n",
        "os.environ[\"SPARK_HOME\"] = \"/content/spark-3.0.0-bin-hadoop2.7\""
      ],
      "execution_count": null,
      "outputs": []
    },
    {
      "cell_type": "markdown",
      "metadata": {
        "id": "Ql0z7Ro1iHQb"
      },
      "source": [
        "Por fim, são instalados dois pacotes da linguagem de programação Python, cujas funcionalidades são descritas a seguir.\n",
        "\n",
        "> **Pacote findspark:** Usado para ler a variável de ambiente SPARK_HOME e armazenar seu valor na variável dinâmica de ambiente PYTHONPATH. Como resultado, Python pode encontrar a instalação do Spark. \n",
        "\n",
        "> **Pacote pyspark:** PySpark é a API do Python para Spark. Ela possibilita o uso de Python, considerando que o *framework* Apache Spark encontra-se desenvolvido na linguagem de programação Scala. "
      ]
    },
    {
      "cell_type": "code",
      "metadata": {
        "id": "5oSYOwKljPf5"
      },
      "source": [
        "%%capture\n",
        "\n",
        "#instalando o pacote findspark\n",
        "!pip install -q findspark==1.4.2\n",
        "\n",
        "#instalando o pacote pyspark\n",
        "!pip install -q pyspark==3.0.0"
      ],
      "execution_count": null,
      "outputs": []
    },
    {
      "cell_type": "markdown",
      "metadata": {
        "id": "eAaLyjPzmIwZ"
      },
      "source": [
        "## 3.2 Conexão\n",
        "\n",
        "PySpark não é adicionado ao *sys.path* por padrão. Isso significa que não é possível importá-lo, pois o interpretador da linguagem Python não sabe onde encontrá-lo. \n",
        "\n",
        "Para resolver esse aspecto, é necessário instalar o módulo `findspark`. Esse módulo mostra onde PySpark está localizado. Os comandos a seguir têm essa finalidade.\n"
      ]
    },
    {
      "cell_type": "code",
      "metadata": {
        "id": "-zm1pBTEmjp4"
      },
      "source": [
        "# importando o módulo findspark\n",
        "import findspark\n",
        "\n",
        "# carregando a variávels SPARK_HOME na variável dinâmica PYTHONPATH\n",
        "findspark.init()"
      ],
      "execution_count": null,
      "outputs": []
    },
    {
      "cell_type": "markdown",
      "source": [
        "## 3.3 Criação da SparkSession "
      ],
      "metadata": {
        "id": "cKtQJasjxdlq"
      }
    },
    {
      "cell_type": "markdown",
      "metadata": {
        "id": "ZDqfefF7YUab"
      },
      "source": [
        "Depois de configurados os pacotes e módulos e inicializadas as variáveis de ambiente, é possível iniciar o uso do Spark na aplicação de `data warehousing`. Para tanto, é necessário importar o comando `SparkSession` do módulo `pyspark.sql`. São utilizados os seguintes conceitos: <br>\n",
        "\n",
        "- `SparkSession`: permite a criação de `DataFrames`. Como resultado, as tabelas relacionais podem ser manipuladas por meio de `DataFrames` e é possível realizar consultas OLAP por meio de comandos SQL. <br>\n",
        "- `builder`: cria uma instância de SparkSession. <br>\n",
        "- `appName`: define um nome para a aplicação, o qual pode ser visto na interface de usuário web do Spark. <br> \n",
        "- `master`: define onde está o nó mestre do *cluster*. Como a aplicação é executada localmente e não em um *cluster*, indica-se isso pela *string* `local` seguida do parâmetro `[*]`. Ou seja, define-se que apenas núcleos locais são utilizados. \n",
        "- `getOrCreate`: cria uma SparkSession. Caso ela já exista, retorna a instância existente. \n",
        "\n",
        "\n",
        "**Observação**: A lista completa de todos os parâmetros que podem ser utilizados na inicialização do *cluster* pode ser encontrada neste [link](https://spark.apache.org/docs/latest/spark-standalone.html#cluster-launch-scripts)."
      ]
    },
    {
      "cell_type": "code",
      "metadata": {
        "id": "9TxljJ_cwBCy"
      },
      "source": [
        "# criando SparkSession\n",
        "from pyspark.sql import SparkSession\n",
        "\n",
        "spark = SparkSession.builder.appName(\"pyspark-notebook\").master(\"local[*]\").getOrCreate()"
      ],
      "execution_count": null,
      "outputs": []
    },
    {
      "cell_type": "markdown",
      "metadata": {
        "id": "5qL9SiR_pQE2"
      },
      "source": [
        "# 4 Geração dos DataFrames\n",
        "\n",
        "Um `DataFrame` em Spark é equivalente a uma tabela relacional. Portanto, um `DataFrame` possui um esquema, uma ou mais linhas (ou tuplas) e uma ou mais colunas (ou atributos).\n"
      ]
    },
    {
      "cell_type": "markdown",
      "metadata": {
        "id": "DRVoz-SGt87W"
      },
      "source": [
        "## 4.1 Criação dos DataFrames\n",
        "\n",
        "Para a leitura dos dados dos arquivos .csv, é utilizado o método `spark.read.csv`. Seus parâmetros são:\n",
        "\n",
        "\n",
        "- `path`: endereço do arquivo que é lido.\n",
        "- `header`: indica se o arquivo possui um cabeçalho.\n",
        "- `sep`: especifica o caractere que separa os campos do arquivo."
      ]
    },
    {
      "cell_type": "markdown",
      "source": [
        "### 4.1.1 Tabelas de Dimensão"
      ],
      "metadata": {
        "id": "mZsDQUnTx_Ys"
      }
    },
    {
      "cell_type": "code",
      "metadata": {
        "cellView": "both",
        "id": "FNR-3dV6oYk4",
        "colab": {
          "base_uri": "https://localhost:8080/"
        },
        "outputId": "76777017-b994-4c3e-a3c5-dd303bc69a14"
      },
      "source": [
        "#criando e exibindo o DataFrame para a tabela de dimensão cargo\n",
        "cargo = spark.read.csv(path=\"data/cargo.csv\", header=True, sep=\",\")\n",
        "cargo.show(5)\n",
        "cargo.printSchema()\n"
      ],
      "execution_count": null,
      "outputs": [
        {
          "output_type": "stream",
          "name": "stdout",
          "text": [
            "+-------+----------+-------------------+--------------------+-----------------------+----------+\n",
            "|cargoPK| cargoNome|cargoRegimeTrabalho|cargoJornadaTrabalho|cargoEscolaridadeMinima|cargoNivel|\n",
            "+-------+----------+-------------------+--------------------+-----------------------+----------+\n",
            "|      1|COZINHEIRO|         TEMPORARIO|                 20H|                  MEDIO|    JUNIOR|\n",
            "|      2|COZINHEIRO|         TEMPORARIO|                 20H|               SUPERIOR|     PLENO|\n",
            "|      3|COZINHEIRO|         TEMPORARIO|                 20H|                    POS|    SENIOR|\n",
            "|      4|COZINHEIRO|         TEMPORARIO|                 40H|                  MEDIO|    JUNIOR|\n",
            "|      5|COZINHEIRO|         TEMPORARIO|                 40H|               SUPERIOR|     PLENO|\n",
            "+-------+----------+-------------------+--------------------+-----------------------+----------+\n",
            "only showing top 5 rows\n",
            "\n",
            "root\n",
            " |-- cargoPK: string (nullable = true)\n",
            " |-- cargoNome: string (nullable = true)\n",
            " |-- cargoRegimeTrabalho: string (nullable = true)\n",
            " |-- cargoJornadaTrabalho: string (nullable = true)\n",
            " |-- cargoEscolaridadeMinima: string (nullable = true)\n",
            " |-- cargoNivel: string (nullable = true)\n",
            "\n"
          ]
        }
      ]
    },
    {
      "cell_type": "code",
      "metadata": {
        "id": "LPCF-SyBtuPW",
        "colab": {
          "base_uri": "https://localhost:8080/"
        },
        "outputId": "bad52891-ab14-41a6-d73c-3685624a2c8e"
      },
      "source": [
        "#criando e exibindo o DataFrame para a tabela de dimensão cliente\n",
        "cliente = spark.read.csv(path=\"data/cliente.csv\", header=True, sep=\",\")\n",
        "cliente.show(5)\n",
        "cliente.printSchema()"
      ],
      "execution_count": null,
      "outputs": [
        {
          "output_type": "stream",
          "name": "stdout",
          "text": [
            "+---------+-------------------+------------+-------------+-----------------+------------------+-----------------+------------------+---------------+----------------+\n",
            "|clientePK|clienteNomeFantasia|clienteSetor|clienteCidade|clienteEstadoNome|clienteEstadoSigla|clienteRegiaoNome|clienteRegiaoSigla|clientePaisNome|clientePaisSigla|\n",
            "+---------+-------------------+------------+-------------+-----------------+------------------+-----------------+------------------+---------------+----------------+\n",
            "|        1|           VIA FOOD| ALIMENTACAO|    SAO PAULO|        SAO PAULO|                SP|          SUDESTE|                SE|         BRASIL|              BR|\n",
            "|        2|          VIA PIZZA| ALIMENTACAO|    SAO PAULO|        SAO PAULO|                SP|          SUDESTE|                SE|         BRASIL|              BR|\n",
            "|        3|           VIA JAPA| ALIMENTACAO|    SAO PAULO|        SAO PAULO|                SP|          SUDESTE|                SE|         BRASIL|              BR|\n",
            "|        4|            VIA VEG| ALIMENTACAO|    SAO PAULO|        SAO PAULO|                SP|          SUDESTE|                SE|         BRASIL|              BR|\n",
            "|        5|          VIA DRINK| ALIMENTACAO|   SAO CARLOS|        SAO PAULO|                SP|          SUDESTE|                SE|         BRASIL|              BR|\n",
            "+---------+-------------------+------------+-------------+-----------------+------------------+-----------------+------------------+---------------+----------------+\n",
            "only showing top 5 rows\n",
            "\n",
            "root\n",
            " |-- clientePK: string (nullable = true)\n",
            " |-- clienteNomeFantasia: string (nullable = true)\n",
            " |-- clienteSetor: string (nullable = true)\n",
            " |-- clienteCidade: string (nullable = true)\n",
            " |-- clienteEstadoNome: string (nullable = true)\n",
            " |-- clienteEstadoSigla: string (nullable = true)\n",
            " |-- clienteRegiaoNome: string (nullable = true)\n",
            " |-- clienteRegiaoSigla: string (nullable = true)\n",
            " |-- clientePaisNome: string (nullable = true)\n",
            " |-- clientePaisSigla: string (nullable = true)\n",
            "\n"
          ]
        }
      ]
    },
    {
      "cell_type": "code",
      "metadata": {
        "id": "w3p9dLUKts73",
        "colab": {
          "base_uri": "https://localhost:8080/"
        },
        "outputId": "ddf7ff0f-b0a2-41ce-f881-b18d15f93a3b"
      },
      "source": [
        "#criando e exibindo o DataFrame para a tabela de dimensão data\n",
        "data = spark.read.csv(path=\"data/data.csv\", header=True, sep=\",\") \n",
        "data.show(5)\n",
        "data.printSchema()"
      ],
      "execution_count": null,
      "outputs": [
        {
          "output_type": "stream",
          "name": "stdout",
          "text": [
            "+------+------------+-------+-------+------------+-------------+------------+-------+\n",
            "|dataPK|dataCompleta|dataDia|dataMes|dataBimestre|dataTrimestre|dataSemestre|dataAno|\n",
            "+------+------------+-------+-------+------------+-------------+------------+-------+\n",
            "|     1|  01/01/2017|      1|      1|           1|            1|           1|   2017|\n",
            "|     2|  02/01/2017|      2|      1|           1|            1|           1|   2017|\n",
            "|     3|  03/01/2017|      3|      1|           1|            1|           1|   2017|\n",
            "|     4|  04/01/2017|      4|      1|           1|            1|           1|   2017|\n",
            "|     5|  05/01/2017|      5|      1|           1|            1|           1|   2017|\n",
            "+------+------------+-------+-------+------------+-------------+------------+-------+\n",
            "only showing top 5 rows\n",
            "\n",
            "root\n",
            " |-- dataPK: string (nullable = true)\n",
            " |-- dataCompleta: string (nullable = true)\n",
            " |-- dataDia: string (nullable = true)\n",
            " |-- dataMes: string (nullable = true)\n",
            " |-- dataBimestre: string (nullable = true)\n",
            " |-- dataTrimestre: string (nullable = true)\n",
            " |-- dataSemestre: string (nullable = true)\n",
            " |-- dataAno: string (nullable = true)\n",
            "\n"
          ]
        }
      ]
    },
    {
      "cell_type": "code",
      "metadata": {
        "id": "Obef8NfyttuJ",
        "colab": {
          "base_uri": "https://localhost:8080/"
        },
        "outputId": "a08811e6-65d1-4cd2-eb0c-848c45d033f3"
      },
      "source": [
        "#criando e exibindo o DataFrame para a tabela de dimensão equipe\n",
        "equipe = spark.read.csv(path=\"data/equipe.csv\", header=True, sep=\",\")\n",
        "equipe.show(5)\n",
        "equipe.printSchema()"
      ],
      "execution_count": null,
      "outputs": [
        {
          "output_type": "stream",
          "name": "stdout",
          "text": [
            "+--------+-------------+--------------------+--------------+------------------+-----------------+----------------+-----------------+--------------+---------------+\n",
            "|equipePK|   equipeNome|          filialNome|  filialCidade|  filialEstadoNome|filialEstadoSigla|filialRegiaoNome|filialRegiaoSigla|filialPaisNome|filialPaisSigla|\n",
            "+--------+-------------+--------------------+--------------+------------------+-----------------+----------------+-----------------+--------------+---------------+\n",
            "|       1| SERVICO PLUS|SAO PAULO - IPIRANGA|     SAO PAULO|         SAO PAULO|               SP|         SUDESTE|               SE|        BRASIL|             BR|\n",
            "|       2| SERVICO PLUS|RIO DE JANEIRO - ...|RIO DE JANEIRO|    RIO DE JANEIRO|               RJ|         SUDESTE|               SE|        BRASIL|             BR|\n",
            "|       3|SERVICO BASIC|SAO PAULO - IPIRANGA|     SAO PAULO|         SAO PAULO|               SP|         SUDESTE|               SE|        BRASIL|             BR|\n",
            "|       4|SERVICO BASIC|RIO DE JANEIRO - ...|RIO DE JANEIRO|    RIO DE JANEIRO|               RJ|         SUDESTE|               SE|        BRASIL|             BR|\n",
            "|       5|SERVICO BASIC|CAMPO GRANDE - PROSA|  CAMPO GRANDE|MATO GROSSO DO SUL|               MS|    CENTRO-OESTE|               CO|        BRASIL|             BR|\n",
            "+--------+-------------+--------------------+--------------+------------------+-----------------+----------------+-----------------+--------------+---------------+\n",
            "only showing top 5 rows\n",
            "\n",
            "root\n",
            " |-- equipePK: string (nullable = true)\n",
            " |-- equipeNome: string (nullable = true)\n",
            " |-- filialNome: string (nullable = true)\n",
            " |-- filialCidade: string (nullable = true)\n",
            " |-- filialEstadoNome: string (nullable = true)\n",
            " |-- filialEstadoSigla: string (nullable = true)\n",
            " |-- filialRegiaoNome: string (nullable = true)\n",
            " |-- filialRegiaoSigla: string (nullable = true)\n",
            " |-- filialPaisNome: string (nullable = true)\n",
            " |-- filialPaisSigla: string (nullable = true)\n",
            "\n"
          ]
        }
      ]
    },
    {
      "cell_type": "code",
      "metadata": {
        "id": "RsF4rcS7Zp4O",
        "colab": {
          "base_uri": "https://localhost:8080/"
        },
        "outputId": "08881398-c3bc-4b62-9db0-2796a48b5631"
      },
      "source": [
        "#criando e exibindo o DataFrame para a tabela de fatos funcionario\n",
        "funcionario = spark.read.csv(path=\"data/funcionario.csv\", header=True, sep=\",\")\n",
        "funcionario.show(5)\n",
        "funcionario.printSchema()"
      ],
      "execution_count": null,
      "outputs": [
        {
          "output_type": "stream",
          "name": "stdout",
          "text": [
            "+------+-------------+------------------+--------+------------------+-----------------+-----------------+-----------------+-----------+--------------+---------------+--------------+---------------+------------+-------------+\n",
            "|funcPK|funcMatricula|          funcNome|funcSexo|funcDataNascimento|funcDiaNascimento|funcMesNascimento|funcAnoNascimento| funcCidade|funcEstadoNome|funcEstadoSigla|funcRegiaoNome|funcRegiaoSigla|funcPaisNome|funcPaisSigla|\n",
            "+------+-------------+------------------+--------+------------------+-----------------+-----------------+-----------------+-----------+--------------+---------------+--------------+---------------+------------+-------------+\n",
            "|     1|          M-1|MARGARET HENDERSON|       F|        01/01/1992|                1|                1|             1992|  SAO PAULO|     SAO PAULO|             SP|       SUDESTE|             SE|      BRASIL|           BR|\n",
            "|     2|          M-2|       LLOYD UPTON|       M|        02/02/1992|                2|                2|             1992|   CAMPINAS|     SAO PAULO|             SP|       SUDESTE|             SE|      BRASIL|           BR|\n",
            "|     3|          M-3|         GUY HOUGH|       M|        03/03/1992|                3|                3|             1992|     SANTOS|     SAO PAULO|             SP|       SUDESTE|             SE|      BRASIL|           BR|\n",
            "|     4|          M-4|        JONNA BESS|       F|        04/04/1992|                4|                4|             1992|SANTO ANDRE|     SAO PAULO|             SP|       SUDESTE|             SE|      BRASIL|           BR|\n",
            "|     5|          M-5|   JOHN BUSTAMANTE|       M|        05/05/1992|                5|                5|             1992| PIRACICABA|     SAO PAULO|             SP|       SUDESTE|             SE|      BRASIL|           BR|\n",
            "+------+-------------+------------------+--------+------------------+-----------------+-----------------+-----------------+-----------+--------------+---------------+--------------+---------------+------------+-------------+\n",
            "only showing top 5 rows\n",
            "\n",
            "root\n",
            " |-- funcPK: string (nullable = true)\n",
            " |-- funcMatricula: string (nullable = true)\n",
            " |-- funcNome: string (nullable = true)\n",
            " |-- funcSexo: string (nullable = true)\n",
            " |-- funcDataNascimento: string (nullable = true)\n",
            " |-- funcDiaNascimento: string (nullable = true)\n",
            " |-- funcMesNascimento: string (nullable = true)\n",
            " |-- funcAnoNascimento: string (nullable = true)\n",
            " |-- funcCidade: string (nullable = true)\n",
            " |-- funcEstadoNome: string (nullable = true)\n",
            " |-- funcEstadoSigla: string (nullable = true)\n",
            " |-- funcRegiaoNome: string (nullable = true)\n",
            " |-- funcRegiaoSigla: string (nullable = true)\n",
            " |-- funcPaisNome: string (nullable = true)\n",
            " |-- funcPaisSigla: string (nullable = true)\n",
            "\n"
          ]
        }
      ]
    },
    {
      "cell_type": "markdown",
      "source": [
        "### 4.1.2 Tabelas de Fatos"
      ],
      "metadata": {
        "id": "xV7ubQRFyVpJ"
      }
    },
    {
      "cell_type": "code",
      "metadata": {
        "id": "s4aZ0M6OZvg2",
        "colab": {
          "base_uri": "https://localhost:8080/"
        },
        "outputId": "d18427a4-8b90-4a4c-aa26-15c60456a9df"
      },
      "source": [
        "#criando e exibindo o DataFrame para a tabela de fatos negociacao\n",
        "negociacao = spark.read.csv(path=\"data/negociacao.csv\", header=True, sep=\",\")\n",
        "negociacao.show(5)\n",
        "negociacao.printSchema()"
      ],
      "execution_count": null,
      "outputs": [
        {
          "output_type": "stream",
          "name": "stdout",
          "text": [
            "+--------+---------+------+--------+---------------------+\n",
            "|equipePK|clientePK|dataPK| receita|quantidadeNegociacoes|\n",
            "+--------+---------+------+--------+---------------------+\n",
            "|       2|        9|    22|11525.24|                    1|\n",
            "|       2|       24|    11|17509.43|                    1|\n",
            "|       2|       28|    21|16195.76|                    1|\n",
            "|       1|       30|    23|  7969.1|                    1|\n",
            "|       2|       43|    30|23124.98|                    1|\n",
            "+--------+---------+------+--------+---------------------+\n",
            "only showing top 5 rows\n",
            "\n",
            "root\n",
            " |-- equipePK: string (nullable = true)\n",
            " |-- clientePK: string (nullable = true)\n",
            " |-- dataPK: string (nullable = true)\n",
            " |-- receita: string (nullable = true)\n",
            " |-- quantidadeNegociacoes: string (nullable = true)\n",
            "\n"
          ]
        }
      ]
    },
    {
      "cell_type": "code",
      "metadata": {
        "id": "DzVUaFptodHJ",
        "colab": {
          "base_uri": "https://localhost:8080/"
        },
        "outputId": "5f7881b9-c214-45ec-e144-a7634a26922a"
      },
      "source": [
        "#criando e exibindo o DataFrame para a tabela de fatos pagamento\n",
        "pagamento = spark.read.csv(path=\"data/pagamento.csv\", header=True, sep=\",\")\n",
        "pagamento.show()\n",
        "pagamento.printSchema()"
      ],
      "execution_count": null,
      "outputs": [
        {
          "output_type": "stream",
          "name": "stdout",
          "text": [
            "+------+--------+------+-------+--------+---------------------+\n",
            "|funcPK|equipePK|dataPK|cargoPK| salario|quantidadeLancamentos|\n",
            "+------+--------+------+-------+--------+---------------------+\n",
            "|   147|       2|     5|     64| 1299.95|                    1|\n",
            "|   124|       2|     5|    329| 6752.31|                    1|\n",
            "|   175|       1|     5|    328| 2110.43|                    1|\n",
            "|   171|       1|     5|    245| 6568.92|                    1|\n",
            "|   148|       2|     5|     65| 3670.49|                    1|\n",
            "|     5|       2|     5|    112| 1855.55|                    1|\n",
            "|   128|       1|     5|    341| 5130.87|                    1|\n",
            "|    82|       2|     5|     43| 1321.26|                    1|\n",
            "|    28|       1|     5|    253| 1328.35|                    1|\n",
            "|    46|       1|     5|    390| 8233.47|                    1|\n",
            "|    91|       2|     5|    233| 9109.56|                    1|\n",
            "|   176|       2|     5|    241| 1671.24|                    1|\n",
            "|   172|       1|     5|    351|11848.57|                    1|\n",
            "|   155|       1|     5|    121| 1668.81|                    1|\n",
            "|    19|       2|     5|    223| 1481.88|                    1|\n",
            "|    94|       1|     5|    394| 2087.58|                    1|\n",
            "|    26|       2|     5|    350| 7635.38|                    1|\n",
            "|    55|       2|     5|    313| 2679.61|                    1|\n",
            "|    29|       1|     5|     62| 3440.37|                    1|\n",
            "|   181|       1|     5|    249| 9235.62|                    1|\n",
            "+------+--------+------+-------+--------+---------------------+\n",
            "only showing top 20 rows\n",
            "\n",
            "root\n",
            " |-- funcPK: string (nullable = true)\n",
            " |-- equipePK: string (nullable = true)\n",
            " |-- dataPK: string (nullable = true)\n",
            " |-- cargoPK: string (nullable = true)\n",
            " |-- salario: string (nullable = true)\n",
            " |-- quantidadeLancamentos: string (nullable = true)\n",
            "\n"
          ]
        }
      ]
    },
    {
      "cell_type": "markdown",
      "metadata": {
        "id": "mrch9vLgjl_H"
      },
      "source": [
        "## 4.2 Atualização dos Tipos de Dados "
      ]
    },
    {
      "cell_type": "markdown",
      "metadata": {
        "id": "9A_ot2pOjsWB"
      },
      "source": [
        "### 4.2.1 Tipo de Dados Inteiro\n",
        "\n",
        "Nos comandos a seguir, primeiro são identificados quais colunas de quais `DataFrames` devem ser do tipo de dado inteiro. Na sequência, ocorre a conversão. "
      ]
    },
    {
      "cell_type": "code",
      "metadata": {
        "id": "jmCV6Mur__z6"
      },
      "source": [
        "# identificando quais colunas de quais DataFrames devem ser do tipo de dado inteiro\n",
        "colunas_cargo = [\"cargoPK\"]\n",
        "colunas_cliente = [\"clientePK\"]\n",
        "colunas_data = [\"dataPk\", \"dataDia\", \"dataMes\", \"dataBimestre\", \"dataTrimestre\", \"dataSemestre\", \"dataAno\"]\n",
        "colunas_equipe = [\"equipePK\"]\n",
        "colunas_funcionario = [\"funcPK\", \"funcDiaNascimento\", \"funcMesNascimento\", \"funcAnoNascimento\"]\n",
        "colunas_negociacao = [\"equipePK\", \"clientePK\", \"dataPK\", \"quantidadeNegociacoes\"]\n",
        "colunas_pagamento = [\"funcPK\", \"equipePK\", \"dataPK\", \"cargoPK\", \"quantidadeLancamentos\"]"
      ],
      "execution_count": null,
      "outputs": []
    },
    {
      "cell_type": "code",
      "metadata": {
        "id": "yPNnDJcG9R5H"
      },
      "source": [
        "# importando o tipo de dado desejado\n",
        "from pyspark.sql.types import IntegerType\n",
        "\n",
        "\n",
        "# atualizando o tipo de dado das colunas especificadas \n",
        "# substituindo as colunas já existentes \n",
        "\n",
        "for coluna in colunas_cargo:\n",
        "  cargo = cargo.withColumn(coluna, cargo[coluna].cast(IntegerType()))\n",
        "\n",
        "for coluna in colunas_cliente:\n",
        "  cliente = cliente.withColumn(coluna, cliente[coluna].cast(IntegerType()))\n",
        "\n",
        "for coluna in colunas_data:\n",
        "  data = data.withColumn(coluna, data[coluna].cast(IntegerType()))\n",
        "\n",
        "for coluna in colunas_equipe:\n",
        "  equipe = equipe.withColumn(coluna, equipe[coluna].cast(IntegerType()))\n",
        "\n",
        "for coluna in colunas_funcionario:\n",
        "  funcionario = funcionario.withColumn(coluna, funcionario[coluna].cast(IntegerType()))\n",
        "\n",
        "for coluna in colunas_negociacao:\n",
        "  negociacao = negociacao.withColumn(coluna, negociacao[coluna].cast(IntegerType()))\n",
        "\n",
        "for coluna in colunas_pagamento:\n",
        "  pagamento = pagamento.withColumn(coluna, pagamento[coluna].cast(IntegerType()))"
      ],
      "execution_count": null,
      "outputs": []
    },
    {
      "cell_type": "markdown",
      "metadata": {
        "id": "J0dX_7U_AzIY"
      },
      "source": [
        "### 4.2.2 Tipo de Dados de Ponto Flutuante\n",
        "\n",
        "Nos comandos a seguir, primeiro são identificados quais colunas de quais `DataFrames` devem ser do tipo de dado número de ponto flutuante. Na sequência, ocorre a conversão. "
      ]
    },
    {
      "cell_type": "code",
      "metadata": {
        "id": "RBcQ7Ep7AWqN"
      },
      "source": [
        "# identificando quais colunas de quais DataFrames devem ser do tipo de dado número de ponto flutuante\n",
        "colunas_negociacao = [\"receita\"]\n",
        "colunas_pagamento = [\"salario\"]"
      ],
      "execution_count": null,
      "outputs": []
    },
    {
      "cell_type": "code",
      "metadata": {
        "id": "rcfvkIK1BRSp"
      },
      "source": [
        "# importando o tipo de dado desejado\n",
        "from pyspark.sql.types import FloatType\n",
        "\n",
        "\n",
        "# atualizando o tipo de dado das colunas especificadas \n",
        "# substituindo as colunas já existentes \n",
        "\n",
        "for coluna in colunas_negociacao:\n",
        "  negociacao = negociacao.withColumn(coluna, negociacao[coluna].cast(FloatType()))\n",
        "\n",
        "for coluna in colunas_pagamento:\n",
        "  pagamento = pagamento.withColumn(coluna, pagamento[coluna].cast(FloatType()))"
      ],
      "execution_count": null,
      "outputs": []
    },
    {
      "cell_type": "markdown",
      "metadata": {
        "id": "Ss0pmgplPAL3"
      },
      "source": [
        "# 5 Execução de Consultas com Foco nas Operações OLAP"
      ]
    },
    {
      "cell_type": "markdown",
      "metadata": {
        "id": "MABYjSYf7L4g"
      },
      "source": [
        "## 5.1 Operação Slice and Dice \n",
        "\n",
        "**Definição**: Restringe os dados sendo analisados a um subconjunto desses dados.\n",
        "\n",
        "- Slice: corte para um valor fixo, diminuindo a dimensionalidade do cubo.\n",
        "- Dice: seleção de faixas de valores."
      ]
    },
    {
      "cell_type": "markdown",
      "source": [
        "**Exemplo de consulta**: Qual a soma dos salários por data por funcionário para a equipe de código igual a 1?"
      ],
      "metadata": {
        "id": "mBkpqtkRzw-C"
      }
    },
    {
      "cell_type": "code",
      "source": [
        "pagamento\\\n",
        "   .filter(\"equipePK = 1\")\\\n",
        "   .groupBy(\"dataPK\", \"funcPK\")\\\n",
        "   .sum(\"salario\")\\\n",
        "   .orderBy(\"dataPK\", \"funcPK\")\\\n",
        "   .show(5)"
      ],
      "metadata": {
        "colab": {
          "base_uri": "https://localhost:8080/"
        },
        "id": "h5W66ow3z1no",
        "outputId": "b301c69b-2ddf-46d3-dc0f-626018a08bcd"
      },
      "execution_count": null,
      "outputs": [
        {
          "output_type": "stream",
          "name": "stdout",
          "text": [
            "+------+------+------------------+\n",
            "|dataPK|funcPK|      sum(salario)|\n",
            "+------+------+------------------+\n",
            "|     5|    28|1328.3499755859375|\n",
            "|     5|    29|   3440.3701171875|\n",
            "|     5|    33|    7641.580078125|\n",
            "|     5|    34|  1361.02001953125|\n",
            "|     5|    42|   10647.580078125|\n",
            "+------+------+------------------+\n",
            "only showing top 5 rows\n",
            "\n"
          ]
        }
      ]
    },
    {
      "cell_type": "markdown",
      "source": [
        "**Visualização Gráfica**: Quais são os salários considerados?"
      ],
      "metadata": {
        "id": "oVxmH8zA4oD8"
      }
    },
    {
      "cell_type": "code",
      "source": [
        "# investigando os salários por funcionário\n",
        "resposta = pagamento\\\n",
        "   .where(\"equipePK = 1\")\\\n",
        "   .select(\"funcPK\", \"salario\")\n",
        "\n",
        "# transformando o resultado da consulta em Pandas\n",
        "pagFiltrado = resposta.toPandas()\n",
        "\n",
        "# exibindo a visualização gráfica\n",
        "pagFiltrado.plot(kind = 'scatter', x = 'funcPK', y = 'salario')"
      ],
      "metadata": {
        "colab": {
          "base_uri": "https://localhost:8080/",
          "height": 297
        },
        "id": "8bUw55Um4ru9",
        "outputId": "8072847c-44c7-4db8-e7de-819afda9e94d"
      },
      "execution_count": null,
      "outputs": [
        {
          "output_type": "execute_result",
          "data": {
            "text/plain": [
              "<matplotlib.axes._subplots.AxesSubplot at 0x7f79c59a8950>"
            ]
          },
          "metadata": {},
          "execution_count": 22
        },
        {
          "output_type": "display_data",
          "data": {
            "image/png": "[encoded data removed]",
            "text/plain": [
              "<Figure size 432x288 with 1 Axes>"
            ]
          },
          "metadata": {
            "needs_background": "light"
          }
        }
      ]
    },
    {
      "cell_type": "markdown",
      "metadata": {
        "id": "crCnMYwi7rIm"
      },
      "source": [
        "## 5.2 Operações Drill-Down e Roll-Up\n",
        "\n",
        "**Definição**: Analisam os dados considerando níveis progressivos de agregação.\n",
        "\n",
        "- Drill-down: níveis de agregação progressivamente mais detalhados, ou de menor granularidade.\n",
        "- Roll-up: níveis de agregação progressivamente menos detalhados, ou de maior granularidade."
      ]
    },
    {
      "cell_type": "markdown",
      "metadata": {
        "id": "YC-qVTVIpyX4"
      },
      "source": [
        "Para ilustrar as operações de drill-down e roll-up, considere a consulta base definida a seguir.\n",
        "\n",
        "**Consulta base:** Qual a soma dos salários por ano, considerando as **regiões** nas quais os funcionários moram?"
      ]
    },
    {
      "cell_type": "code",
      "source": [
        "resposta = pagamento\\\n",
        "   .join(data, on=\"dataPK\")\\\n",
        "   .join(funcionario, on=\"funcPK\")\\\n",
        "   .groupBy(\"dataAno\", \"funcRegiaoNome\")\\\n",
        "   .sum(\"salario\")\\\n",
        "   .orderBy(\"dataAno\", \"funcRegiaoNome\")\n",
        "\n",
        "resposta.show()"
      ],
      "metadata": {
        "colab": {
          "base_uri": "https://localhost:8080/"
        },
        "id": "kyIRJyTU57LU",
        "outputId": "f420b800-3708-4f71-aea2-9467b0631477"
      },
      "execution_count": null,
      "outputs": [
        {
          "output_type": "stream",
          "name": "stdout",
          "text": [
            "+-------+--------------+--------------------+\n",
            "|dataAno|funcRegiaoNome|        sum(salario)|\n",
            "+-------+--------------+--------------------+\n",
            "|   2017|      NORDESTE|    374050.072265625|\n",
            "|   2017|       SUDESTE|  2747907.2373046875|\n",
            "|   2017|           SUL|   580223.8681640625|\n",
            "|   2018|      NORDESTE|   611876.7509765625|\n",
            "|   2018|       SUDESTE|   6535495.079589844|\n",
            "|   2018|           SUL|   998695.1821289062|\n",
            "|   2019|      NORDESTE|  1077187.0737304688|\n",
            "|   2019|       SUDESTE|   9174504.465820312|\n",
            "|   2019|           SUL|   2194580.490234375|\n",
            "|   2020|      NORDESTE|  1471546.6713867188|\n",
            "|   2020|       SUDESTE|1.1471309506347656E7|\n",
            "|   2020|           SUL|  2530199.1313476562|\n",
            "|   2021|      NORDESTE|  1471546.6713867188|\n",
            "|   2021|       SUDESTE|1.1471309506347656E7|\n",
            "|   2021|           SUL|  2530199.1313476562|\n",
            "+-------+--------------+--------------------+\n",
            "\n"
          ]
        }
      ]
    },
    {
      "cell_type": "markdown",
      "source": [
        "**Visualização Gráfica**: Mostre na forma de um diagrama de barras o resultado obtido."
      ],
      "metadata": {
        "id": "bnCBpKCa8ZOf"
      }
    },
    {
      "cell_type": "code",
      "source": [
        "# transformando o resultado da consulta em Pandas\n",
        "pagAnoReg = resposta.toPandas()\n",
        "\n",
        "# exibindo a visualização gráfica\n",
        "# informando quais são os índices do DataFrame em Pandas \n",
        "pagAnoReg.set_index(['dataAno', 'funcRegiaoNome']).plot(kind = 'bar')"
      ],
      "metadata": {
        "colab": {
          "base_uri": "https://localhost:8080/",
          "height": 391
        },
        "id": "Uq30vKcl8RGC",
        "outputId": "5d05bb78-f27b-4d46-d59d-950aeab3e30d"
      },
      "execution_count": null,
      "outputs": [
        {
          "output_type": "execute_result",
          "data": {
            "text/plain": [
              "<matplotlib.axes._subplots.AxesSubplot at 0x7f79c58a2810>"
            ]
          },
          "metadata": {},
          "execution_count": 24
        },
        {
          "output_type": "display_data",
          "data": {
            "image/png": "[encoded data removed]",
            "text/plain": [
              "<Figure size 432x288 with 1 Axes>"
            ]
          },
          "metadata": {
            "needs_background": "light"
          }
        }
      ]
    },
    {
      "cell_type": "markdown",
      "metadata": {
        "id": "1PzzQT1Xz-4-"
      },
      "source": [
        "**Exemplo de consulta drill-down:** Qual a soma dos salários por ano, considerando os **estados** nos quais os funcionários moram?"
      ]
    },
    {
      "cell_type": "code",
      "source": [
        "resposta = pagamento\\\n",
        "   .join(data, on=\"dataPK\")\\\n",
        "   .join(funcionario, on=\"funcPK\")\\\n",
        "   .groupBy(\"dataAno\", \"funcEstadoNome\")\\\n",
        "   .sum(\"salario\")\\\n",
        "   .orderBy(\"dataAno\", \"funcEstadoNome\")\n",
        "\n",
        "resposta.show()"
      ],
      "metadata": {
        "colab": {
          "base_uri": "https://localhost:8080/"
        },
        "id": "SU69mbiv8kBn",
        "outputId": "eab5a4a0-0be7-4f6f-d3ce-c34109fad8d3"
      },
      "execution_count": null,
      "outputs": [
        {
          "output_type": "stream",
          "name": "stdout",
          "text": [
            "+-------+--------------+------------------+\n",
            "|dataAno|funcEstadoNome|      sum(salario)|\n",
            "+-------+--------------+------------------+\n",
            "|   2017|  MINAS GERAIS| 591903.5947265625|\n",
            "|   2017|        PARANA| 580223.8681640625|\n",
            "|   2017|    PERNAMBUCO|  374050.072265625|\n",
            "|   2017|RIO DE JANEIRO| 471737.8857421875|\n",
            "|   2017|     SAO PAULO|1684265.7568359375|\n",
            "|   2018|  MINAS GERAIS| 733761.5947265625|\n",
            "|   2018|        PARANA| 998695.1821289062|\n",
            "|   2018|    PERNAMBUCO| 611876.7509765625|\n",
            "|   2018|RIO DE JANEIRO|1268742.8452148438|\n",
            "|   2018|     SAO PAULO|4532990.6396484375|\n",
            "|   2019|  MINAS GERAIS|1269792.4716796875|\n",
            "|   2019|        PARANA| 2194580.490234375|\n",
            "|   2019|    PERNAMBUCO|1077187.0737304688|\n",
            "|   2019|RIO DE JANEIRO|1530257.4067382812|\n",
            "|   2019|     SAO PAULO| 6374454.587402344|\n",
            "|   2020|  MINAS GERAIS|2416463.5166015625|\n",
            "|   2020|        PARANA|2530199.1313476562|\n",
            "|   2020|    PERNAMBUCO|1471546.6713867188|\n",
            "|   2020|RIO DE JANEIRO|1837432.6904296875|\n",
            "|   2020|     SAO PAULO| 7217413.299316406|\n",
            "+-------+--------------+------------------+\n",
            "only showing top 20 rows\n",
            "\n"
          ]
        }
      ]
    },
    {
      "cell_type": "markdown",
      "source": [
        "**Visualização Gráfica**: Mostre na forma de um diagrama de barras o resultado obtido."
      ],
      "metadata": {
        "id": "MceRw0Xm8xGd"
      }
    },
    {
      "cell_type": "code",
      "source": [
        "# transformando o resultado da consulta em Pandas\n",
        "pagAnoEstAgrega = resposta.toPandas()\n",
        "\n",
        "# exibindo a visualização gráfica\n",
        "# informando quais são os índices do DataFrame em Pandas \n",
        "pagAnoEstAgrega.set_index(['dataAno', 'funcEstadoNome']).plot(kind = 'bar')"
      ],
      "metadata": {
        "colab": {
          "base_uri": "https://localhost:8080/",
          "height": 415
        },
        "id": "in2MmMRc99BU",
        "outputId": "dde6efc2-dee6-4fb0-cdee-f99d96a1ea83"
      },
      "execution_count": null,
      "outputs": [
        {
          "output_type": "execute_result",
          "data": {
            "text/plain": [
              "<matplotlib.axes._subplots.AxesSubplot at 0x7f79c53b4d90>"
            ]
          },
          "metadata": {},
          "execution_count": 26
        },
        {
          "output_type": "display_data",
          "data": {
            "image/png": "[encoded data removed]",
            "text/plain": [
              "<Figure size 432x288 with 1 Axes>"
            ]
          },
          "metadata": {
            "needs_background": "light"
          }
        }
      ]
    },
    {
      "cell_type": "markdown",
      "source": [
        "**Exemplo de consulta roll-up:** Qual a soma dos salários por ano, considerando os **países** nos quais os funcionários moram?"
      ],
      "metadata": {
        "id": "dfoYsNVZ-HMG"
      }
    },
    {
      "cell_type": "code",
      "source": [
        "resposta = pagamento\\\n",
        "   .join(data, on=\"dataPK\")\\\n",
        "   .join(funcionario, on=\"funcPK\")\\\n",
        "   .groupBy(\"dataAno\", \"funcPaisNome\")\\\n",
        "   .sum(\"salario\")\\\n",
        "   .orderBy(\"dataAno\", \"funcPaisNome\")\n",
        "\n",
        "resposta.show()"
      ],
      "metadata": {
        "colab": {
          "base_uri": "https://localhost:8080/"
        },
        "id": "G3I7FBTU81UR",
        "outputId": "59e21bbb-6869-4685-94fc-0166dd0b7007"
      },
      "execution_count": null,
      "outputs": [
        {
          "output_type": "stream",
          "name": "stdout",
          "text": [
            "+-------+------------+--------------------+\n",
            "|dataAno|funcPaisNome|        sum(salario)|\n",
            "+-------+------------+--------------------+\n",
            "|   2017|      BRASIL|   3702181.177734375|\n",
            "|   2018|      BRASIL|  8146067.0126953125|\n",
            "|   2019|      BRASIL|1.2446272029785156E7|\n",
            "|   2020|      BRASIL|1.5473055309082031E7|\n",
            "|   2021|      BRASIL|1.5473055309082031E7|\n",
            "+-------+------------+--------------------+\n",
            "\n"
          ]
        }
      ]
    },
    {
      "cell_type": "markdown",
      "source": [
        "**Visualização Gráfica**: Mostre na forma de um diagrama de barras o resultado obtido."
      ],
      "metadata": {
        "id": "GpQMdkJ19lsI"
      }
    },
    {
      "cell_type": "code",
      "source": [
        "# transformando o resultado da consulta em Pandas\n",
        "pagAnoPaisAgrega = resposta.toPandas()\n",
        "\n",
        "# exibindo a visualização gráfica\n",
        "# informando quais são os índices do DataFrame em Pandas \n",
        "pagAnoPaisAgrega.set_index(['dataAno', 'funcPaisNome']).plot(kind = 'barh')"
      ],
      "metadata": {
        "colab": {
          "base_uri": "https://localhost:8080/",
          "height": 295
        },
        "id": "wkYmkMlL-Nub",
        "outputId": "63a63a6e-2ec1-4761-9e62-146e0f3b9ecc"
      },
      "execution_count": null,
      "outputs": [
        {
          "output_type": "execute_result",
          "data": {
            "text/plain": [
              "<matplotlib.axes._subplots.AxesSubplot at 0x7f79c524bed0>"
            ]
          },
          "metadata": {},
          "execution_count": 28
        },
        {
          "output_type": "display_data",
          "data": {
            "image/png": "[encoded data removed]",
            "text/plain": [
              "<Figure size 432x288 with 1 Axes>"
            ]
          },
          "metadata": {
            "needs_background": "light"
          }
        }
      ]
    },
    {
      "cell_type": "markdown",
      "source": [
        "**Visualização Gráfica**: Mostre na forma de um diagrama de pizza o resultado obtido."
      ],
      "metadata": {
        "id": "JIYGAzyl-Y9r"
      }
    },
    {
      "cell_type": "code",
      "source": [
        "# exibindo a visualização gráfica\n",
        "# informando qual o índice do DataFrame em Pandas \n",
        "pagAnoPaisAgrega.set_index('dataAno').plot.pie(y = 'sum(salario)')"
      ],
      "metadata": {
        "colab": {
          "base_uri": "https://localhost:8080/",
          "height": 265
        },
        "id": "PMzW_X-e-b15",
        "outputId": "cfd2d57e-2d78-44d2-d308-cca8fb2a0b73"
      },
      "execution_count": null,
      "outputs": [
        {
          "output_type": "execute_result",
          "data": {
            "text/plain": [
              "<matplotlib.axes._subplots.AxesSubplot at 0x7f79c521c650>"
            ]
          },
          "metadata": {},
          "execution_count": 29
        },
        {
          "output_type": "display_data",
          "data": {
            "image/png": "[encoded data removed]",
            "text/plain": [
              "<Figure size 432x288 with 1 Axes>"
            ]
          },
          "metadata": {}
        }
      ]
    },
    {
      "cell_type": "markdown",
      "metadata": {
        "id": "h1kRDhciLQnj"
      },
      "source": [
        "## 5.3 Operação Pivot\n",
        "\n",
        "**Definição:** Reorienta a visão multidimensional dos dados, oferecendo diferentes perspectivas dos mesmos dados."
      ]
    },
    {
      "cell_type": "markdown",
      "metadata": {
        "id": "eaXAXkeF1atH"
      },
      "source": [
        "Para ilustrar a operação pivot, considere a consulta base definida a seguir. \n",
        "\n",
        "**Consulta base:** Qual a soma dos salários por ano, considerando as regiões nas quais os funcionários moram?"
      ]
    },
    {
      "cell_type": "code",
      "metadata": {
        "id": "n_hWmXflIfDu",
        "colab": {
          "base_uri": "https://localhost:8080/"
        },
        "outputId": "0da2d696-0fea-4c91-99b6-e7b791cca9aa"
      },
      "source": [
        "resposta = pagamento\\\n",
        "   .join(data, on=\"dataPK\")\\\n",
        "   .join(funcionario, on=\"funcPK\")\\\n",
        "   .groupBy(\"dataAno\", \"funcRegiaoNome\")\\\n",
        "   .sum(\"salario\")\\\n",
        "   .orderBy(\"dataAno\", \"funcRegiaoNome\")\n",
        "\n",
        "resposta.show()"
      ],
      "execution_count": null,
      "outputs": [
        {
          "output_type": "stream",
          "name": "stdout",
          "text": [
            "+-------+--------------+--------------------+\n",
            "|dataAno|funcRegiaoNome|        sum(salario)|\n",
            "+-------+--------------+--------------------+\n",
            "|   2017|      NORDESTE|    374050.072265625|\n",
            "|   2017|       SUDESTE|  2747907.2373046875|\n",
            "|   2017|           SUL|   580223.8681640625|\n",
            "|   2018|      NORDESTE|   611876.7509765625|\n",
            "|   2018|       SUDESTE|   6535495.079589844|\n",
            "|   2018|           SUL|   998695.1821289062|\n",
            "|   2019|      NORDESTE|  1077187.0737304688|\n",
            "|   2019|       SUDESTE|   9174504.465820312|\n",
            "|   2019|           SUL|   2194580.490234375|\n",
            "|   2020|      NORDESTE|  1471546.6713867188|\n",
            "|   2020|       SUDESTE|1.1471309506347656E7|\n",
            "|   2020|           SUL|  2530199.1313476562|\n",
            "|   2021|      NORDESTE|  1471546.6713867188|\n",
            "|   2021|       SUDESTE|1.1471309506347656E7|\n",
            "|   2021|           SUL|  2530199.1313476562|\n",
            "+-------+--------------+--------------------+\n",
            "\n"
          ]
        }
      ]
    },
    {
      "cell_type": "markdown",
      "source": [
        "**Visualização Gráfica**: Exiba diferentes visualizações do resultado obtido."
      ],
      "metadata": {
        "id": "UQfO8Ixt-zea"
      }
    },
    {
      "cell_type": "code",
      "source": [
        "# transformando o resultado da consulta em Pandas\n",
        "pagAnoReg = resposta.toPandas()\n",
        "\n",
        "# exibindo a visualização gráfica\n",
        "# informando quais são os índices do DataFrame em Pandas \n",
        "pagAnoReg.set_index(['dataAno', 'funcRegiaoNome']).unstack(level = 1).plot(kind = 'barh', stacked = True)"
      ],
      "metadata": {
        "colab": {
          "base_uri": "https://localhost:8080/",
          "height": 295
        },
        "id": "CnwlsuZt-1zH",
        "outputId": "22465c26-33b7-4cd8-fabf-16150b86476b"
      },
      "execution_count": null,
      "outputs": [
        {
          "output_type": "execute_result",
          "data": {
            "text/plain": [
              "<matplotlib.axes._subplots.AxesSubplot at 0x7f79c5286110>"
            ]
          },
          "metadata": {},
          "execution_count": 31
        },
        {
          "output_type": "display_data",
          "data": {
            "image/png": "[encoded data removed]",
            "text/plain": [
              "<Figure size 432x288 with 1 Axes>"
            ]
          },
          "metadata": {
            "needs_background": "light"
          }
        }
      ]
    },
    {
      "cell_type": "code",
      "source": [
        "# exibindo a visualização gráfica\n",
        "# informando quais são os índices do DataFrame em Pandas \n",
        "pagAnoReg.set_index(['dataAno', 'funcRegiaoNome']).plot(kind = 'barh', stacked = True)"
      ],
      "metadata": {
        "colab": {
          "base_uri": "https://localhost:8080/",
          "height": 295
        },
        "id": "hK1s3rlJ-8yo",
        "outputId": "be91cae1-b028-4450-d7dd-6cbd5c1bf577"
      },
      "execution_count": null,
      "outputs": [
        {
          "output_type": "execute_result",
          "data": {
            "text/plain": [
              "<matplotlib.axes._subplots.AxesSubplot at 0x7f79c53b28d0>"
            ]
          },
          "metadata": {},
          "execution_count": 32
        },
        {
          "output_type": "display_data",
          "data": {
            "image/png": "[encoded data removed]",
            "text/plain": [
              "<Figure size 432x288 with 1 Axes>"
            ]
          },
          "metadata": {
            "needs_background": "light"
          }
        }
      ]
    },
    {
      "cell_type": "markdown",
      "metadata": {
        "id": "DPBaswdrLWv6"
      },
      "source": [
        "**Exemplo de consulta pivot:** Qual a soma dos salários, considerando as regiões nas quais os funcionários moram e cada ano? "
      ]
    },
    {
      "cell_type": "code",
      "source": [
        "resposta = pagamento\\\n",
        "   .join(data, on=\"dataPK\")\\\n",
        "   .join(funcionario, on=\"funcPK\")\\\n",
        "   .groupBy(\"funcRegiaoNome\",\"dataAno\")\\\n",
        "   .sum(\"salario\")\\\n",
        "   .orderBy(\"funcRegiaoNome\",\"dataAno\")\n",
        "\n",
        "resposta.show()"
      ],
      "metadata": {
        "colab": {
          "base_uri": "https://localhost:8080/"
        },
        "id": "nvMzmZ8G_N9Y",
        "outputId": "92f1d8cf-41aa-41c8-ba79-0ea8870a3407"
      },
      "execution_count": null,
      "outputs": [
        {
          "output_type": "stream",
          "name": "stdout",
          "text": [
            "+--------------+-------+--------------------+\n",
            "|funcRegiaoNome|dataAno|        sum(salario)|\n",
            "+--------------+-------+--------------------+\n",
            "|      NORDESTE|   2017|    374050.072265625|\n",
            "|      NORDESTE|   2018|   611876.7509765625|\n",
            "|      NORDESTE|   2019|  1077187.0737304688|\n",
            "|      NORDESTE|   2020|  1471546.6713867188|\n",
            "|      NORDESTE|   2021|  1471546.6713867188|\n",
            "|       SUDESTE|   2017|  2747907.2373046875|\n",
            "|       SUDESTE|   2018|   6535495.079589844|\n",
            "|       SUDESTE|   2019|   9174504.465820312|\n",
            "|       SUDESTE|   2020|1.1471309506347656E7|\n",
            "|       SUDESTE|   2021|1.1471309506347656E7|\n",
            "|           SUL|   2017|   580223.8681640625|\n",
            "|           SUL|   2018|   998695.1821289062|\n",
            "|           SUL|   2019|   2194580.490234375|\n",
            "|           SUL|   2020|  2530199.1313476562|\n",
            "|           SUL|   2021|  2530199.1313476562|\n",
            "+--------------+-------+--------------------+\n",
            "\n"
          ]
        }
      ]
    },
    {
      "cell_type": "markdown",
      "source": [
        "**Visualização Gráfica**: Exiba diferentes visualizações do resultado obtido."
      ],
      "metadata": {
        "id": "idFXxr0c_hgR"
      }
    },
    {
      "cell_type": "code",
      "source": [
        "# transformando o resultado da consulta em Pandas\n",
        "pagRegAno = resposta.toPandas()\n",
        "\n",
        "# exibindo a visualização gráfica\n",
        "# informando quais são os índices do DataFrame em Pandas \n",
        "pagRegAno.set_index(['funcRegiaoNome', 'dataAno']).unstack(level = 1).plot(kind = 'barh', stacked = True)"
      ],
      "metadata": {
        "colab": {
          "base_uri": "https://localhost:8080/",
          "height": 295
        },
        "id": "H0N1cVuc_kTS",
        "outputId": "fd4d4a68-5497-469f-bf48-e6f78e3520fd"
      },
      "execution_count": null,
      "outputs": [
        {
          "output_type": "execute_result",
          "data": {
            "text/plain": [
              "<matplotlib.axes._subplots.AxesSubplot at 0x7f79c500f510>"
            ]
          },
          "metadata": {},
          "execution_count": 34
        },
        {
          "output_type": "display_data",
          "data": {
            "image/png": "[encoded data removed]",
            "text/plain": [
              "<Figure size 432x288 with 1 Axes>"
            ]
          },
          "metadata": {
            "needs_background": "light"
          }
        }
      ]
    },
    {
      "cell_type": "code",
      "source": [
        "pagRegAno.set_index(['funcRegiaoNome', 'dataAno']).plot(kind = 'barh')"
      ],
      "metadata": {
        "colab": {
          "base_uri": "https://localhost:8080/",
          "height": 295
        },
        "id": "Iy9NOFQw_pry",
        "outputId": "d0d92f77-5e98-426a-f6c4-44abed495df5"
      },
      "execution_count": null,
      "outputs": [
        {
          "output_type": "execute_result",
          "data": {
            "text/plain": [
              "<matplotlib.axes._subplots.AxesSubplot at 0x7f79c5006dd0>"
            ]
          },
          "metadata": {},
          "execution_count": 35
        },
        {
          "output_type": "display_data",
          "data": {
            "image/png": "[encoded data removed]",
            "text/plain": [
              "<Figure size 432x288 with 1 Axes>"
            ]
          },
          "metadata": {
            "needs_background": "light"
          }
        }
      ]
    },
    {
      "cell_type": "markdown",
      "metadata": {
        "id": "7D-E4clhKZgE"
      },
      "source": [
        "### Método pivot()\n",
        "\n",
        "`pivot(coluna, valores=None)`\n",
        "\n",
        "Rotaciona uma `coluna` do `DataFrame`, e exibe os valores de acordo com o parâmetro `valores`.\n",
        "\n"
      ]
    },
    {
      "cell_type": "code",
      "source": [
        "# repetindo a consulta base da operação pivot\n",
        "resposta = pagamento\\\n",
        "   .join(data, on=\"dataPK\")\\\n",
        "   .join(funcionario, on=\"funcPK\")\\\n",
        "   .groupBy(\"dataAno\", \"funcRegiaoNome\")\\\n",
        "   .sum(\"salario\")\\\n",
        "   .orderBy(\"dataAno\", \"funcRegiaoNome\")\n",
        "\n",
        "# definindo o uso do método pivot()\n",
        "respostaPivot = resposta\\\n",
        "   .groupBy(\"dataAno\", \"sum(salario)\")\\\n",
        "   .pivot(\"funcRegiaoNome\")\\\n",
        "   .sum(\"sum(salario)\")\n",
        "\n",
        "# exibindo o resultado gerado\n",
        "respostaPivot.show()"
      ],
      "metadata": {
        "colab": {
          "base_uri": "https://localhost:8080/"
        },
        "id": "KjTpwu-s_zQM",
        "outputId": "0e54392b-b7b8-4f9a-e06c-bee962838c00"
      },
      "execution_count": null,
      "outputs": [
        {
          "output_type": "stream",
          "name": "stdout",
          "text": [
            "+-------+--------------------+------------------+--------------------+------------------+\n",
            "|dataAno|        sum(salario)|          NORDESTE|             SUDESTE|               SUL|\n",
            "+-------+--------------------+------------------+--------------------+------------------+\n",
            "|   2020|1.1471309506347656E7|              null|1.1471309506347656E7|              null|\n",
            "|   2021|  2530199.1313476562|              null|                null|2530199.1313476562|\n",
            "|   2019|   9174504.465820312|              null|   9174504.465820312|              null|\n",
            "|   2018|   611876.7509765625| 611876.7509765625|                null|              null|\n",
            "|   2020|  2530199.1313476562|              null|                null|2530199.1313476562|\n",
            "|   2019|   2194580.490234375|              null|                null| 2194580.490234375|\n",
            "|   2021|  1471546.6713867188|1471546.6713867188|                null|              null|\n",
            "|   2018|   998695.1821289062|              null|                null| 998695.1821289062|\n",
            "|   2019|  1077187.0737304688|1077187.0737304688|                null|              null|\n",
            "|   2017|    374050.072265625|  374050.072265625|                null|              null|\n",
            "|   2017|   580223.8681640625|              null|                null| 580223.8681640625|\n",
            "|   2018|   6535495.079589844|              null|   6535495.079589844|              null|\n",
            "|   2020|  1471546.6713867188|1471546.6713867188|                null|              null|\n",
            "|   2021|1.1471309506347656E7|              null|1.1471309506347656E7|              null|\n",
            "|   2017|  2747907.2373046875|              null|  2747907.2373046875|              null|\n",
            "+-------+--------------------+------------------+--------------------+------------------+\n",
            "\n"
          ]
        }
      ]
    },
    {
      "cell_type": "markdown",
      "metadata": {
        "id": "UtJILugUN2K_"
      },
      "source": [
        "## 5.4 Operação Drill-Across\n",
        "\n",
        "**Definição:** Compara medidas numéricas de tabelas de fatos diferentes, utilizando pelo menos uma dimensão em comum. "
      ]
    },
    {
      "cell_type": "markdown",
      "source": [
        "**Exemplo de consulta**: Qual a média dos salários e a média das receitas por equipe, considerando equipes que estejam localizadas na região Sudeste do Brasil?"
      ],
      "metadata": {
        "id": "uIBGPIRUBk3l"
      }
    },
    {
      "cell_type": "code",
      "source": [
        "# resolvendo a primeira parte da consulta\n",
        "# investigando a média dos salários das equipes\n",
        "# localizadas na região Sudeste do Brasil\n",
        "\n",
        "pag = pagamento\\\n",
        "   .join(equipe, on=\"equipePK\")\\\n",
        "   .where(\"filialRegiaoNome = 'SUDESTE' AND filialPaisNome = 'BRASIL'\")\\\n",
        "   .groupBy(\"equipePK\")\\\n",
        "   .avg(\"salario\")\n",
        "\n",
        "pag.show()"
      ],
      "metadata": {
        "colab": {
          "base_uri": "https://localhost:8080/"
        },
        "id": "NDipyV36F-Hd",
        "outputId": "c5de1cfa-789a-47f8-d270-262c136a6e5c"
      },
      "execution_count": null,
      "outputs": [
        {
          "output_type": "stream",
          "name": "stdout",
          "text": [
            "+--------+-----------------+\n",
            "|equipePK|     avg(salario)|\n",
            "+--------+-----------------+\n",
            "|       1|6446.264018554688|\n",
            "|       6|8130.982067871094|\n",
            "|       3|6289.158451960637|\n",
            "|       9|6526.579498291016|\n",
            "|       4|7321.892711292614|\n",
            "|       7|7157.549323586856|\n",
            "|       2|5894.339907226563|\n",
            "+--------+-----------------+\n",
            "\n"
          ]
        }
      ]
    },
    {
      "cell_type": "code",
      "source": [
        "# resolvendo a segunda parte da consulta\n",
        "# investigando a média das receitas das equipes\n",
        "# localizadas na região Sudeste do Brasil\n",
        "\n",
        "neg = negociacao\\\n",
        "   .join(equipe, on=\"equipePK\")\\\n",
        "   .where(\"filialRegiaoNome = 'SUDESTE' AND filialPaisNome = 'BRASIL'\")\\\n",
        "   .groupBy(\"equipePK\")\\\n",
        "   .avg(\"receita\")\n",
        "\n",
        "neg.show() "
      ],
      "metadata": {
        "colab": {
          "base_uri": "https://localhost:8080/"
        },
        "id": "4lVcOGi7D5cp",
        "outputId": "0b99a899-63c5-434e-e79e-5ff611ac7127"
      },
      "execution_count": null,
      "outputs": [
        {
          "output_type": "stream",
          "name": "stdout",
          "text": [
            "+--------+------------------+\n",
            "|equipePK|      avg(receita)|\n",
            "+--------+------------------+\n",
            "|       1|15117.568975292079|\n",
            "|       6|13519.745334934543|\n",
            "|       3| 7211.691949879901|\n",
            "|       9| 54854.55142857143|\n",
            "|       4| 7342.084197105245|\n",
            "|       7|12759.327950499488|\n",
            "|       2|15282.249043841184|\n",
            "+--------+------------------+\n",
            "\n"
          ]
        }
      ]
    },
    {
      "cell_type": "code",
      "metadata": {
        "id": "Rv2D1s0eGBJv",
        "colab": {
          "base_uri": "https://localhost:8080/"
        },
        "outputId": "5ae38b02-f208-4402-d8fd-35b1ea75b521"
      },
      "source": [
        "# realizando a operação de drill-across\n",
        "# exibindo o resultado final\n",
        "\n",
        "resposta = pag\\\n",
        "   .join(neg, on=\"equipePK\")\\\n",
        "   .orderBy(\"equipePK\")\n",
        "\n",
        "resposta.show()   "
      ],
      "execution_count": null,
      "outputs": [
        {
          "output_type": "stream",
          "name": "stdout",
          "text": [
            "+--------+-----------------+------------------+\n",
            "|equipePK|     avg(salario)|      avg(receita)|\n",
            "+--------+-----------------+------------------+\n",
            "|       1|6446.264018554688|15117.568975292079|\n",
            "|       2|5894.339907226563|15282.249043841184|\n",
            "|       3|6289.158451960637| 7211.691949879901|\n",
            "|       4|7321.892711292614| 7342.084197105245|\n",
            "|       6|8130.982067871094|13519.745334934543|\n",
            "|       7|7157.549323586856|12759.327950499488|\n",
            "|       9|6526.579498291016| 54854.55142857143|\n",
            "+--------+-----------------+------------------+\n",
            "\n"
          ]
        }
      ]
    },
    {
      "cell_type": "markdown",
      "source": [
        "**Visualização Gráfica**: Exiba diferentes visualizações do resultado obtido."
      ],
      "metadata": {
        "id": "zAnZX7Q_EkQw"
      }
    },
    {
      "cell_type": "code",
      "source": [
        "# transformando o resultado da consulta em Pandas\n",
        "equipeSalRec = resposta.toPandas()\n",
        "\n",
        "# exibindo a visualização gráfica\n",
        "# informando qual é o índice do DataFrame em Pandas \n",
        "equipeSalRec.set_index(['equipePK']).plot(kind = 'bar')"
      ],
      "metadata": {
        "colab": {
          "base_uri": "https://localhost:8080/",
          "height": 293
        },
        "id": "qSyQAQWyEnAW",
        "outputId": "84232075-38ea-4d7d-8224-ad6368abe2b1"
      },
      "execution_count": null,
      "outputs": [
        {
          "output_type": "execute_result",
          "data": {
            "text/plain": [
              "<matplotlib.axes._subplots.AxesSubplot at 0x7f79c4e8bf10>"
            ]
          },
          "metadata": {},
          "execution_count": 40
        },
        {
          "output_type": "display_data",
          "data": {
            "image/png": "[encoded data removed]",
            "text/plain": [
              "<Figure size 432x288 with 1 Axes>"
            ]
          },
          "metadata": {
            "needs_background": "light"
          }
        }
      ]
    },
    {
      "cell_type": "code",
      "source": [
        "# exibindo a visualização gráfica\n",
        "# informando qual é o índice do DataFrame em Pandas\n",
        "equipeSalRec.set_index(['equipePK']).plot(kind = 'barh', stacked = True)"
      ],
      "metadata": {
        "colab": {
          "base_uri": "https://localhost:8080/",
          "height": 283
        },
        "id": "60A8ECbVE_YM",
        "outputId": "9f64727c-3364-4c90-aa43-0c6455d8379f"
      },
      "execution_count": null,
      "outputs": [
        {
          "output_type": "execute_result",
          "data": {
            "text/plain": [
              "<matplotlib.axes._subplots.AxesSubplot at 0x7f79c4e0d950>"
            ]
          },
          "metadata": {},
          "execution_count": 41
        },
        {
          "output_type": "display_data",
          "data": {
            "image/png": "[encoded data removed]",
            "text/plain": [
              "<Figure size 432x288 with 1 Axes>"
            ]
          },
          "metadata": {
            "needs_background": "light"
          }
        }
      ]
    },
    {
      "cell_type": "markdown",
      "source": [
        "### **Diferentes formas de se especificar uma consulta** "
      ],
      "metadata": {
        "id": "Yyzc_-VrFG0d"
      }
    },
    {
      "cell_type": "markdown",
      "source": [
        "Especificando o filtro no início da consulta."
      ],
      "metadata": {
        "id": "5JWBiqw-nkc0"
      }
    },
    {
      "cell_type": "code",
      "source": [
        "# selecionando apenas as equipes \n",
        "# localizadas na região Sudeste do Brasil\n",
        "equipeReg = equipe\\\n",
        "   .where(\"filialRegiaoNome = 'SUDESTE' AND filialPaisNome = 'BRASIL'\")\n",
        "\n",
        "# resolvendo a primeira parte da consulta\n",
        "# investigando a média dos salários das equipes\n",
        "# localizadas na região Sudeste do Brasil\n",
        "pag = pagamento\\\n",
        "   .join(equipeReg, on=\"equipePK\")\\\n",
        "   .groupBy(\"equipePK\")\\\n",
        "   .avg(\"salario\")\n",
        "\n",
        "# resolvendo a segunda parte da consulta\n",
        "# investigando a média das receitas das equipes\n",
        "# localizadas na região Sudeste do Brasil\n",
        "neg = negociacao\\\n",
        "   .join(equipeReg, on=\"equipePK\")\\\n",
        "   .groupBy(\"equipePK\")\\\n",
        "   .avg(\"receita\") \n",
        "\n",
        "# realizando a operação de drill-across\n",
        "resposta = pag\\\n",
        "   .join(neg, on=\"equipePK\")\\\n",
        "   .orderBy(\"equipePK\")\n",
        "\n",
        "# exibindo o resultado final\n",
        "resposta.show()       "
      ],
      "metadata": {
        "colab": {
          "base_uri": "https://localhost:8080/"
        },
        "id": "M8A_LIXiFUbI",
        "outputId": "4d0ea553-4f4b-4af0-f53f-7cbee8dbe369"
      },
      "execution_count": null,
      "outputs": [
        {
          "output_type": "stream",
          "name": "stdout",
          "text": [
            "+--------+-----------------+------------------+\n",
            "|equipePK|     avg(salario)|      avg(receita)|\n",
            "+--------+-----------------+------------------+\n",
            "|       1|6446.264018554688|15117.568975292079|\n",
            "|       2|5894.339907226563|15282.249043841184|\n",
            "|       3|6289.158451960637| 7211.691949879901|\n",
            "|       4|7321.892711292614| 7342.084197105245|\n",
            "|       6|8130.982067871094|13519.745334934543|\n",
            "|       7|7157.549323586856|12759.327950499488|\n",
            "|       9|6526.579498291016| 54854.55142857143|\n",
            "+--------+-----------------+------------------+\n",
            "\n"
          ]
        }
      ]
    },
    {
      "cell_type": "markdown",
      "source": [
        "Especificando apenas as colunas de interesse."
      ],
      "metadata": {
        "id": "cygsOpOinuOB"
      }
    },
    {
      "cell_type": "code",
      "source": [
        "# selecionando apenas as chaves primárias das equipes \n",
        "# localizadas na região Sudeste do Brasil\n",
        "equipeReg = equipe\\\n",
        "   .where(\"filialRegiaoNome = 'SUDESTE' AND filialPaisNome = 'BRASIL'\")\\\n",
        "   .select(\"equipePK\")\n",
        "\n",
        "# selecionando apenas os campos de interesse \n",
        "# do DataFrame pagamento\n",
        "pagInteresse = pagamento\\\n",
        "   .select(\"equipePK\", \"salario\")      \n",
        "\n",
        "# resolvendo a primeira parte da consulta\n",
        "# investigando a média dos salários das equipes\n",
        "# localizadas na região Sudeste do Brasil\n",
        "pag = pagInteresse\\\n",
        "   .join(equipeReg, on=\"equipePK\")\\\n",
        "   .groupBy(\"equipePK\")\\\n",
        "   .avg(\"salario\")\n",
        "\n",
        "# selecionando apenas os campos de interesse \n",
        "# do DataFrame negociacao\n",
        "negInteresse = negociacao\\\n",
        "   .select(\"equipePK\", \"receita\")    \n",
        "\n",
        "# resolvendo a segunda parte da consulta\n",
        "# investigando a média das receitas das equipes\n",
        "# localizadas na região Sudeste do Brasil\n",
        "neg = negInteresse\\\n",
        "   .join(equipeReg, on=\"equipePK\")\\\n",
        "   .groupBy(\"equipePK\")\\\n",
        "   .avg(\"receita\") \n",
        "\n",
        "# realizando a operação de drill-across\n",
        "resposta = pag\\\n",
        "   .join(neg, on=\"equipePK\")\\\n",
        "   .orderBy(\"equipePK\")\n",
        "\n",
        "# exibindo o resultado final\n",
        "resposta.show()"
      ],
      "metadata": {
        "colab": {
          "base_uri": "https://localhost:8080/"
        },
        "id": "bLO0eXV2FnHb",
        "outputId": "60eab51d-9bb3-4455-fdc8-f77fad2941e4"
      },
      "execution_count": null,
      "outputs": [
        {
          "output_type": "stream",
          "name": "stdout",
          "text": [
            "+--------+-----------------+------------------+\n",
            "|equipePK|     avg(salario)|      avg(receita)|\n",
            "+--------+-----------------+------------------+\n",
            "|       1|6446.264018554688|15117.568975292079|\n",
            "|       2|5894.339907226563|15282.249043841184|\n",
            "|       3|6289.158451960637| 7211.691949879901|\n",
            "|       4|7321.892711292614| 7342.084197105245|\n",
            "|       6|8130.982067871094|13519.745334934543|\n",
            "|       7|7157.549323586856|12759.327950499488|\n",
            "|       9|6526.579498291016| 54854.55142857143|\n",
            "+--------+-----------------+------------------+\n",
            "\n"
          ]
        }
      ]
    },
    {
      "cell_type": "markdown",
      "source": [
        "Especificando as junções em outra ordem."
      ],
      "metadata": {
        "id": "WQiDRDz2n47t"
      }
    },
    {
      "cell_type": "code",
      "source": [
        "# resolvendo a primeira parte da consulta\n",
        "# investigando a média dos salários das equipes\n",
        "pag = pagamento\\\n",
        "   .groupBy(\"equipePK\")\\\n",
        "   .avg(\"salario\")\n",
        "\n",
        "# resolvendo a segunda parte da consulta\n",
        "# investigando a média das receitas das equipes\n",
        "neg = negociacao\\\n",
        "   .groupBy(\"equipePK\")\\\n",
        "   .avg(\"receita\") \n",
        "\n",
        "# realizando a operação de drill-across\n",
        "resposta = pag\\\n",
        "   .join(neg, on=\"equipePK\")\\\n",
        "   .orderBy(\"equipePK\")\n",
        "\n",
        "# selecionando apenas as equipes    \n",
        "# localizadas na região Sudeste do Brasil\n",
        "resposta = resposta\\\n",
        "   .join(equipe, on=\"equipePK\")\\\n",
        "   .where(\"filialRegiaoNome = 'SUDESTE' AND filialPaisNome = 'BRASIL'\")\\\n",
        "   .select(\"equipePK\", \"avg(salario)\", \"avg(receita)\")\n",
        "\n",
        "# exibindo o resultado final\n",
        "resposta.show()"
      ],
      "metadata": {
        "colab": {
          "base_uri": "https://localhost:8080/"
        },
        "id": "-4EqTVjEGAn0",
        "outputId": "f2ab432c-8192-44c0-ed8b-b26d27a280a4"
      },
      "execution_count": null,
      "outputs": [
        {
          "output_type": "stream",
          "name": "stdout",
          "text": [
            "+--------+-----------------+------------------+\n",
            "|equipePK|     avg(salario)|      avg(receita)|\n",
            "+--------+-----------------+------------------+\n",
            "|       1|6446.264018554688|15117.568975292079|\n",
            "|       6|8130.982067871094|13519.745334934543|\n",
            "|       3|6289.158451960637| 7211.691949879901|\n",
            "|       9|6526.579498291016| 54854.55142857143|\n",
            "|       4|7321.892711292614| 7342.084197105245|\n",
            "|       7|7157.549323586856|12759.327950499488|\n",
            "|       2|5894.339907226563|15282.249043841184|\n",
            "+--------+-----------------+------------------+\n",
            "\n"
          ]
        }
      ]
    },
    {
      "cell_type": "markdown",
      "metadata": {
        "id": "mTjo_CX1G5jy"
      },
      "source": [
        "## 5.5 Extensões ROLLUP e CUBE  \n",
        "\n",
        "**Definição:** Constrém vários níveis de agregação.\n",
        "\n",
        "- ROLLUP: criação de subtotais para as combinações dos atributos da lista de agrupamento de acordo com a ordem desses atributos. São criados n+1 níveis de agregação, sendo n o número de atributos especificados na lista de agrupamento.\n",
        "\n",
        "- CUBE: criação de subtotais para todas as combinações dos atributos da lista de agrupamento. São criados 2ˆn (2 elevado a n) níveis, sendo n o número de atributos especificados na lista de agrupamento.\n"
      ]
    },
    {
      "cell_type": "markdown",
      "metadata": {
        "id": "5RRlVccmYhV_"
      },
      "source": [
        "\n",
        "**Exemplo de consulta com ROLLUP:** Liste as agregações que podem ser geradas a partir da soma da receita por setor do cliente e por cidade do cliente, para totais de receita superiores a 3.000.000,00. Crie subtotais considerando a ordem dos atributos na lista de agrupamento."
      ]
    },
    {
      "cell_type": "code",
      "metadata": {
        "id": "BwZHLSsCW0zD",
        "colab": {
          "base_uri": "https://localhost:8080/"
        },
        "outputId": "99026d4e-2a41-4239-833a-027ed07d62a6"
      },
      "source": [
        "cliente.join(negociacao, on=\"clientePK\")\\\n",
        "  .rollup(\"clienteSetor\", \"clienteCidade\").sum(\"receita\")\\\n",
        "  .filter(\"sum(receita) > 3000000\")\\\n",
        "  .orderBy(\"clienteSetor\", \"clienteCidade\")\\\n",
        "  .show()"
      ],
      "execution_count": null,
      "outputs": [
        {
          "output_type": "stream",
          "name": "stdout",
          "text": [
            "+------------+--------------+--------------------+\n",
            "|clienteSetor| clienteCidade|        sum(receita)|\n",
            "+------------+--------------+--------------------+\n",
            "|        null|          null| 7.792806753393555E7|\n",
            "| ALIMENTACAO|          null|3.1113492538391113E7|\n",
            "| ALIMENTACAO|BELO HORIZONTE|  3706999.6617126465|\n",
            "| ALIMENTACAO|       MARILIA|  3615207.6019592285|\n",
            "| ALIMENTACAO|        RECIFE|   3464283.962524414|\n",
            "| ALIMENTACAO|RIO DE JANEIRO|   6413743.272583008|\n",
            "| ALIMENTACAO|     SAO PAULO|    5355102.86730957|\n",
            "|   BEM ESTAR|          null|1.5982756673492432E7|\n",
            "|   BEM ESTAR|     SAO PAULO|   3483542.044555664|\n",
            "|  FINANCEIRO|          null|   5710308.428527832|\n",
            "| INFORMATICA|          null| 1.451290249282837E7|\n",
            "| INFORMATICA|     SAO PAULO|   8027183.829315186|\n",
            "|   VESTUARIO|          null|  1.06086074006958E7|\n",
            "|   VESTUARIO|RIO DE JANEIRO|   5231977.989105225|\n",
            "|   VESTUARIO|     SAO PAULO|   4105108.482696533|\n",
            "+------------+--------------+--------------------+\n",
            "\n"
          ]
        }
      ]
    },
    {
      "cell_type": "markdown",
      "metadata": {
        "id": "IjjDB_mtPkzw"
      },
      "source": [
        "**Exemplo de consulta com CUBE:** Liste todas as agregações que podem ser geradas a partir da soma da receita por setor do cliente e por cidade do cliente, para totais de receita superiores a 3.000.000,00."
      ]
    },
    {
      "cell_type": "code",
      "metadata": {
        "id": "v_5lF9EVFZr6",
        "colab": {
          "base_uri": "https://localhost:8080/"
        },
        "outputId": "c5ab5a0b-e6c4-489e-90c2-c8692c117f8d"
      },
      "source": [
        "cliente.join(negociacao, on=\"clientePK\")\\\n",
        "  .cube(\"clienteSetor\", \"clienteCidade\").sum(\"receita\")\\\n",
        "  .filter(\"sum(receita) > 3000000\")\\\n",
        "  .orderBy(\"clienteSetor\", \"clienteCidade\")\\\n",
        "  .show(40)"
      ],
      "execution_count": null,
      "outputs": [
        {
          "output_type": "stream",
          "name": "stdout",
          "text": [
            "+------------+--------------+--------------------+\n",
            "|clienteSetor| clienteCidade|        sum(receita)|\n",
            "+------------+--------------+--------------------+\n",
            "|        null|          null| 7.792806753393555E7|\n",
            "|        null|BELO HORIZONTE|   3861877.413848877|\n",
            "|        null|      CURITIBA|   3166106.860900879|\n",
            "|        null|        MANAUS|   4531776.252197266|\n",
            "|        null|       MARILIA|   6518904.231536865|\n",
            "|        null|  PORTO ALEGRE|  3757225.1489257812|\n",
            "|        null|        RECIFE|   4195951.329772949|\n",
            "|        null|RIO DE JANEIRO|1.3314086880828857E7|\n",
            "|        null|    SAO CARLOS|   3715812.712585449|\n",
            "|        null|     SAO PAULO|2.1506742080322266E7|\n",
            "|        null|    UBERLANDIA|   3912375.795776367|\n",
            "| ALIMENTACAO|          null|3.1113492538391113E7|\n",
            "| ALIMENTACAO|BELO HORIZONTE|  3706999.6617126465|\n",
            "| ALIMENTACAO|       MARILIA|  3615207.6019592285|\n",
            "| ALIMENTACAO|        RECIFE|   3464283.962524414|\n",
            "| ALIMENTACAO|RIO DE JANEIRO|   6413743.272583008|\n",
            "| ALIMENTACAO|     SAO PAULO|    5355102.86730957|\n",
            "|   BEM ESTAR|          null|1.5982756673492432E7|\n",
            "|   BEM ESTAR|     SAO PAULO|   3483542.044555664|\n",
            "|  FINANCEIRO|          null|   5710308.428527832|\n",
            "| INFORMATICA|          null| 1.451290249282837E7|\n",
            "| INFORMATICA|     SAO PAULO|   8027183.829315186|\n",
            "|   VESTUARIO|          null|  1.06086074006958E7|\n",
            "|   VESTUARIO|RIO DE JANEIRO|   5231977.989105225|\n",
            "|   VESTUARIO|     SAO PAULO|   4105108.482696533|\n",
            "+------------+--------------+--------------------+\n",
            "\n"
          ]
        }
      ]
    },
    {
      "cell_type": "markdown",
      "source": [
        "## 5.6 Funções de Janela\n",
        "\n",
        "**Definição:** Uma função de janela opera em um grupo de tuplas, chamado de janela ou partição, calculando um valor de retorno para cada tupla com base no grupo de tuplas da partição."
      ],
      "metadata": {
        "id": "czo9_l-7L943"
      }
    },
    {
      "cell_type": "code",
      "source": [
        "from pyspark.sql.window import Window\n",
        "from pyspark.sql.functions import avg, col, lead, row_number, lag"
      ],
      "metadata": {
        "id": "QWcB7JRyNBpf"
      },
      "execution_count": null,
      "outputs": []
    },
    {
      "cell_type": "markdown",
      "source": [
        "**Exemplo de consulta com AVG (1):** Para cada funcionário e cada data, mostre o seu salário ao lado das médias de todos os salários pagos."
      ],
      "metadata": {
        "id": "-Cx1wIlXMz1x"
      }
    },
    {
      "cell_type": "code",
      "source": [
        "# determinando para cada funcionário e cada data, o salário\n",
        "funcData = pagamento\\\n",
        "   .join(data, on= \"dataPK\")\\\n",
        "   .join(funcionario, on= \"funcPK\")\\\n",
        "   .select(\"funcNome\", \"dataCompleta\", \"salario\") \n",
        "\n",
        "# criando a janela (partição)\n",
        "window = Window.orderBy()\n",
        "\n",
        "# calculando a média dos salários sobre a partição\n",
        "resposta = funcData\\\n",
        "   .withColumn(\"mediaSalario\", avg(col(\"salario\")).over(window))\n",
        "\n",
        "resposta.show(5)  "
      ],
      "metadata": {
        "colab": {
          "base_uri": "https://localhost:8080/"
        },
        "id": "TbGWzFc6N75R",
        "outputId": "853edcde-7112-4f09-ab1c-330e9278f905"
      },
      "execution_count": null,
      "outputs": [
        {
          "output_type": "stream",
          "name": "stdout",
          "text": [
            "+----------------+------------+-------+-----------------+\n",
            "|        funcNome|dataCompleta|salario|     mediaSalario|\n",
            "+----------------+------------+-------+-----------------+\n",
            "|  SANDRA GREGORY|  05/01/2017|1299.95|6393.591532219781|\n",
            "| JEROLD GOODHART|  05/01/2017|6752.31|6393.591532219781|\n",
            "|       JACK ROSS|  05/01/2017|2110.43|6393.591532219781|\n",
            "|  JOSEPH CADDICK|  05/01/2017|6568.92|6393.591532219781|\n",
            "|MALCOLM CONNEALY|  05/01/2017|3670.49|6393.591532219781|\n",
            "+----------------+------------+-------+-----------------+\n",
            "only showing top 5 rows\n",
            "\n"
          ]
        }
      ]
    },
    {
      "cell_type": "markdown",
      "source": [
        "**Exemplo de consulta com AVG (2):** Para cada funcionário e cada data, mostre o seu salário ao lado das médias de todos os salários pagos naquela data. "
      ],
      "metadata": {
        "id": "XrLohD-1WMKj"
      }
    },
    {
      "cell_type": "code",
      "source": [
        "# determinando para cada funcionário e cada data, o salário\n",
        "funcData = pagamento\\\n",
        "   .join(data, on= \"dataPK\")\\\n",
        "   .join(funcionario, on= \"funcPK\")\\\n",
        "   .select(\"funcNome\", \"dataCompleta\", \"salario\") \n",
        "\n",
        "# criando a janela (partição)\n",
        "window = Window.partitionBy(\"dataCompleta\").orderBy()\n",
        "\n",
        "# calculando a média dos salários sobre a partição\n",
        "resposta = funcData\\\n",
        "   .withColumn(\"mediaSalarioData\", avg(col(\"salario\")).over(window))\n",
        "\n",
        "resposta.show(5) "
      ],
      "metadata": {
        "colab": {
          "base_uri": "https://localhost:8080/"
        },
        "id": "2L2tSBLsWPZE",
        "outputId": "efac09cd-9a38-4800-b4ea-95fa36c3c9c4"
      },
      "execution_count": null,
      "outputs": [
        {
          "output_type": "stream",
          "name": "stdout",
          "text": [
            "+----------------+------------+-------+------------------+\n",
            "|        funcNome|dataCompleta|salario|  mediaSalarioData|\n",
            "+----------------+------------+-------+------------------+\n",
            "|  SANDRA GREGORY|  05/11/2020|1299.95|6447.1063787841795|\n",
            "| JEROLD GOODHART|  05/11/2020|6752.31|6447.1063787841795|\n",
            "|       JACK ROSS|  05/11/2020|2110.43|6447.1063787841795|\n",
            "|  JOSEPH CADDICK|  05/11/2020|6568.92|6447.1063787841795|\n",
            "|MALCOLM CONNEALY|  05/11/2020|3670.49|6447.1063787841795|\n",
            "+----------------+------------+-------+------------------+\n",
            "only showing top 5 rows\n",
            "\n"
          ]
        }
      ]
    },
    {
      "cell_type": "markdown",
      "source": [
        "**Exemplo de consulta com ROW_NUMBER:** Mostre para a funcionária MARGARET HENDERSON, as datas e os salários que ela recebeu, bem como a ordem em que recebeu esses salários."
      ],
      "metadata": {
        "id": "mK1XaZDCXewm"
      }
    },
    {
      "cell_type": "code",
      "source": [
        "# determinando para os salários para a funcionária especificada\n",
        "funcData = pagamento\\\n",
        "   .join(data, on= \"dataPK\")\\\n",
        "   .join(funcionario, on= \"funcPK\")\\\n",
        "   .where(\"funcNome = 'MARGARET HENDERSON'\")\n",
        "\n",
        "# criando a janela (partição)\n",
        "window = Window.partitionBy(\"funcPK\").orderBy(\"dataPK\")\n",
        "\n",
        "# calculando a média dos salários sobre a partição\n",
        "resposta = funcData\\\n",
        "   .withColumn(\"ordem\", row_number().over(window))\\\n",
        "\n",
        "# exibindo a resposta solicitada\n",
        "resposta\\\n",
        "   .select(\"dataCompleta\", \"salario\", \"ordem\")\\\n",
        "   .show(5) "
      ],
      "metadata": {
        "colab": {
          "base_uri": "https://localhost:8080/"
        },
        "id": "k4ESYQQlXoNp",
        "outputId": "feb21544-9420-4dae-ee00-80a99faa15b2"
      },
      "execution_count": null,
      "outputs": [
        {
          "output_type": "stream",
          "name": "stdout",
          "text": [
            "+------------+--------+-----+\n",
            "|dataCompleta| salario|ordem|\n",
            "+------------+--------+-----+\n",
            "|  05/01/2019|20013.64|    1|\n",
            "|  05/02/2019|20013.64|    2|\n",
            "|  05/03/2019|20013.64|    3|\n",
            "|  05/04/2019|20013.64|    4|\n",
            "|  05/05/2019|20013.64|    5|\n",
            "+------------+--------+-----+\n",
            "only showing top 5 rows\n",
            "\n"
          ]
        }
      ]
    },
    {
      "cell_type": "markdown",
      "source": [
        "**Exemplo de consulta com LEAD:** Mostre para a funcionária MARGARET HENDERSON, as datas e os salários que ela recebeu naquela data, bem como o salário que ela recebeu na próxima data."
      ],
      "metadata": {
        "id": "ubPZABpnZXHS"
      }
    },
    {
      "cell_type": "code",
      "source": [
        "# determinando para os salários para a funcionária especificada\n",
        "funcData = pagamento\\\n",
        "   .join(data, on= \"dataPK\")\\\n",
        "   .join(funcionario, on= \"funcPK\")\\\n",
        "   .where(\"funcNome = 'MARGARET HENDERSON'\")\n",
        "\n",
        "# criando a janela (partição)\n",
        "window = Window.partitionBy(\"funcPK\").orderBy(\"dataPK\")\n",
        "\n",
        "# calculando a média dos salários sobre a partição\n",
        "resposta = funcData\\\n",
        "   .withColumn(\"salário próximo mês\", lead(\"salario\").over(window))\\\n",
        "\n",
        "# exibindo a resposta solicitada\n",
        "resposta\\\n",
        "   .select(\"dataCompleta\", \"salario\", \"salário próximo mês\")\\\n",
        "   .show(40) "
      ],
      "metadata": {
        "colab": {
          "base_uri": "https://localhost:8080/"
        },
        "id": "ttrTQ1N_ZY9v",
        "outputId": "43f57706-5cea-45b8-e97c-f01782a2e713"
      },
      "execution_count": null,
      "outputs": [
        {
          "output_type": "stream",
          "name": "stdout",
          "text": [
            "+------------+--------+-------------------+\n",
            "|dataCompleta| salario|salário próximo mês|\n",
            "+------------+--------+-------------------+\n",
            "|  05/01/2019|20013.64|           20013.64|\n",
            "|  05/02/2019|20013.64|           20013.64|\n",
            "|  05/03/2019|20013.64|           20013.64|\n",
            "|  05/04/2019|20013.64|           20013.64|\n",
            "|  05/05/2019|20013.64|           20013.64|\n",
            "|  05/06/2019|20013.64|           20013.64|\n",
            "|  05/07/2019|20013.64|           20013.64|\n",
            "|  05/08/2019|20013.64|           20013.64|\n",
            "|  05/09/2019|20013.64|           20013.64|\n",
            "|  05/10/2019|20013.64|           20013.64|\n",
            "|  05/11/2019|20013.64|           20013.64|\n",
            "|  05/12/2019|20013.64|           20013.64|\n",
            "|  05/01/2020|20013.64|           20013.64|\n",
            "|  05/02/2020|20013.64|           20013.64|\n",
            "|  05/03/2020|20013.64|           20013.64|\n",
            "|  05/04/2020|20013.64|           20013.64|\n",
            "|  05/05/2020|20013.64|           20013.64|\n",
            "|  05/06/2020|20013.64|           20013.64|\n",
            "|  05/07/2020|20013.64|           20013.64|\n",
            "|  05/08/2020|20013.64|           20013.64|\n",
            "|  05/09/2020|20013.64|           20013.64|\n",
            "|  05/10/2020|20013.64|           20013.64|\n",
            "|  05/11/2020|20013.64|           20013.64|\n",
            "|  05/12/2020|20013.64|           20013.64|\n",
            "|  05/01/2021|20013.64|           20013.64|\n",
            "|  05/02/2021|20013.64|           20013.64|\n",
            "|  05/03/2021|20013.64|           20013.64|\n",
            "|  05/04/2021|20013.64|           20013.64|\n",
            "|  05/05/2021|20013.64|           20013.64|\n",
            "|  05/06/2021|20013.64|           20013.64|\n",
            "|  05/07/2021|20013.64|           20013.64|\n",
            "|  05/08/2021|20013.64|           20013.64|\n",
            "|  05/09/2021|20013.64|           20013.64|\n",
            "|  05/10/2021|20013.64|           20013.64|\n",
            "|  05/11/2021|20013.64|           20013.64|\n",
            "|  05/12/2021|20013.64|               null|\n",
            "+------------+--------+-------------------+\n",
            "\n"
          ]
        }
      ]
    },
    {
      "cell_type": "markdown",
      "source": [
        "**Exemplo de consulta com LAG:** Mostre para a funcionária MARGARET HENDERSON, as datas e os salários que ela recebeu naquela data, bem como o salário que ela recebeu na data anterior."
      ],
      "metadata": {
        "id": "WhUQ7EOEZ2rQ"
      }
    },
    {
      "cell_type": "code",
      "source": [
        "# calculando a média dos salários sobre a partição\n",
        "resposta = funcData\\\n",
        "   .withColumn(\"salário mês anterior\", lag(\"salario\").over(window))\\\n",
        "\n",
        "# exibindo a resposta solicitada\n",
        "resposta\\\n",
        "   .select(\"dataCompleta\", \"salario\", \"salário mês anterior\")\\\n",
        "   .show(40) "
      ],
      "metadata": {
        "colab": {
          "base_uri": "https://localhost:8080/"
        },
        "id": "Mayo91u1aG8V",
        "outputId": "cc1f83bf-7c5b-4ef8-f1a7-90b3e9d8172d"
      },
      "execution_count": null,
      "outputs": [
        {
          "output_type": "stream",
          "name": "stdout",
          "text": [
            "+------------+--------+--------------------+\n",
            "|dataCompleta| salario|salário mês anterior|\n",
            "+------------+--------+--------------------+\n",
            "|  05/01/2019|20013.64|                null|\n",
            "|  05/02/2019|20013.64|            20013.64|\n",
            "|  05/03/2019|20013.64|            20013.64|\n",
            "|  05/04/2019|20013.64|            20013.64|\n",
            "|  05/05/2019|20013.64|            20013.64|\n",
            "|  05/06/2019|20013.64|            20013.64|\n",
            "|  05/07/2019|20013.64|            20013.64|\n",
            "|  05/08/2019|20013.64|            20013.64|\n",
            "|  05/09/2019|20013.64|            20013.64|\n",
            "|  05/10/2019|20013.64|            20013.64|\n",
            "|  05/11/2019|20013.64|            20013.64|\n",
            "|  05/12/2019|20013.64|            20013.64|\n",
            "|  05/01/2020|20013.64|            20013.64|\n",
            "|  05/02/2020|20013.64|            20013.64|\n",
            "|  05/03/2020|20013.64|            20013.64|\n",
            "|  05/04/2020|20013.64|            20013.64|\n",
            "|  05/05/2020|20013.64|            20013.64|\n",
            "|  05/06/2020|20013.64|            20013.64|\n",
            "|  05/07/2020|20013.64|            20013.64|\n",
            "|  05/08/2020|20013.64|            20013.64|\n",
            "|  05/09/2020|20013.64|            20013.64|\n",
            "|  05/10/2020|20013.64|            20013.64|\n",
            "|  05/11/2020|20013.64|            20013.64|\n",
            "|  05/12/2020|20013.64|            20013.64|\n",
            "|  05/01/2021|20013.64|            20013.64|\n",
            "|  05/02/2021|20013.64|            20013.64|\n",
            "|  05/03/2021|20013.64|            20013.64|\n",
            "|  05/04/2021|20013.64|            20013.64|\n",
            "|  05/05/2021|20013.64|            20013.64|\n",
            "|  05/06/2021|20013.64|            20013.64|\n",
            "|  05/07/2021|20013.64|            20013.64|\n",
            "|  05/08/2021|20013.64|            20013.64|\n",
            "|  05/09/2021|20013.64|            20013.64|\n",
            "|  05/10/2021|20013.64|            20013.64|\n",
            "|  05/11/2021|20013.64|            20013.64|\n",
            "|  05/12/2021|20013.64|            20013.64|\n",
            "+------------+--------+--------------------+\n",
            "\n"
          ]
        }
      ]
    },
    {
      "cell_type": "markdown",
      "source": [
        "# 6 Semântica das Respostas\n",
        "\n",
        "As consultas OLAP requisitadas por usuários de sistemas de suporte à decisão usualmente requerem que várias operações OLAP sejam realizadas simultaneamente. Adicionalmente, esses usuários também podem querer:\n",
        "\n",
        "- Que resultados mais semânticos sejam exibidos.\n",
        "\n",
        "- Que os dados numéricos de ponto flutuante sejam arredondados para facilitar a visualização.\n",
        "\n",
        "- Que as linhas dos relatórios sejam exibidas de forma ordenada.\n",
        "\n",
        "- Que valores derivados sejam calculados e exibidos. \n",
        "\n",
        "- Que as colunas dos relatórios possuam nomes semânticos para facilitar o entendimento."
      ],
      "metadata": {
        "id": "-uf2XyxRaTDI"
      }
    },
    {
      "cell_type": "markdown",
      "source": [
        "**Consulta drill-across:** Qual a média dos salários e a média das receitas por equipe, considerando equipes que estejam localizadas na região Sudeste do Brasil?"
      ],
      "metadata": {
        "id": "rJE-m4f4aXTk"
      }
    },
    {
      "cell_type": "code",
      "source": [
        "# investigando a média dos salários das equipes\n",
        "# localizadas na região Nordeste do Brasil\n",
        "# retornando apenas o atributo equipePK\n",
        "equipeReg = equipe\\\n",
        "   .where(\"filialRegiaoNome = 'SUDESTE' AND filialPaisNome = 'BRASIL'\")\\\n",
        "   .select(\"equipePK\")\n",
        "\n",
        "# resolvendo a primeira parte da consulta\n",
        "pag = pagamento\\\n",
        "   .join(equipeReg, on=\"equipePK\")\\\n",
        "   .select(\"equipePK\", \"salario\")\\\n",
        "   .groupBy(\"equipePK\")\\\n",
        "   .avg(\"salario\")\n",
        "\n",
        "# resolvendo a segunda parte da consulta\n",
        "neg = negociacao\\\n",
        "   .join(equipeReg, on=\"equipePK\")\\\n",
        "   .select(\"equipePK\", \"receita\")\\\n",
        "   .groupBy(\"equipePK\")\\\n",
        "   .avg(\"receita\") \n",
        "\n",
        "# realizando a operação de drill-across\n",
        "resposta = pag\\\n",
        "   .join(neg, on=\"equipePK\")\\\n",
        "   .orderBy(\"equipePK\")  \n",
        "\n",
        "# exibindo a resposta\n",
        "resposta.show()            "
      ],
      "metadata": {
        "colab": {
          "base_uri": "https://localhost:8080/"
        },
        "id": "St_1i5Cnae1L",
        "outputId": "41e4708a-8c2c-4676-86de-f0d2fa0ea5cd"
      },
      "execution_count": null,
      "outputs": [
        {
          "output_type": "stream",
          "name": "stdout",
          "text": [
            "+--------+-----------------+------------------+\n",
            "|equipePK|     avg(salario)|      avg(receita)|\n",
            "+--------+-----------------+------------------+\n",
            "|       1|6446.264018554688|15117.568975292079|\n",
            "|       2|5894.339907226563|15282.249043841184|\n",
            "|       3|6289.158451960637| 7211.691949879901|\n",
            "|       4|7321.892711292614| 7342.084197105245|\n",
            "|       6|8130.982067871094|13519.745334934543|\n",
            "|       7|7157.549323586856|12759.327950499488|\n",
            "|       9|6526.579498291016| 54854.55142857143|\n",
            "+--------+-----------------+------------------+\n",
            "\n"
          ]
        }
      ]
    },
    {
      "cell_type": "code",
      "source": [
        "# exibindo resultados mais semânticos\n",
        "# adicionando os nomes das equipes\n",
        "resposta = resposta\\\n",
        "   .join(equipe, on=\"equipePK\")\\\n",
        "   .select(\"equipePK\", \"equipeNome\", \"filialNome\", \"avg(salario)\", \"avg(receita)\")\n",
        "\n",
        "# exibindo a resposta\n",
        "resposta.show() \n"
      ],
      "metadata": {
        "colab": {
          "base_uri": "https://localhost:8080/"
        },
        "id": "RDvDM-9xbqxv",
        "outputId": "6e6d7972-ef75-439c-f70f-232f92916bf3"
      },
      "execution_count": null,
      "outputs": [
        {
          "output_type": "stream",
          "name": "stdout",
          "text": [
            "+--------+----------------+--------------------+-----------------+------------------+\n",
            "|equipePK|      equipeNome|          filialNome|     avg(salario)|      avg(receita)|\n",
            "+--------+----------------+--------------------+-----------------+------------------+\n",
            "|       1|    SERVICO PLUS|SAO PAULO - IPIRANGA|6446.264018554688|15117.568975292079|\n",
            "|       6|SERVICO STANDARD|SAO PAULO - IPIRANGA|8130.982067871094|13519.745334934543|\n",
            "|       3|   SERVICO BASIC|SAO PAULO - IPIRANGA|6289.158451960637| 7211.691949879901|\n",
            "|       9| SERVICO PREMIUM|SAO PAULO - IPIRANGA|6526.579498291016| 54854.55142857143|\n",
            "|       4|   SERVICO BASIC|RIO DE JANEIRO - ...|7321.892711292614| 7342.084197105245|\n",
            "|       7|SERVICO STANDARD|RIO DE JANEIRO - ...|7157.549323586856|12759.327950499488|\n",
            "|       2|    SERVICO PLUS|RIO DE JANEIRO - ...|5894.339907226563|15282.249043841184|\n",
            "+--------+----------------+--------------------+-----------------+------------------+\n",
            "\n"
          ]
        }
      ]
    },
    {
      "cell_type": "code",
      "source": [
        "# arredondando os dados numéricos de ponto flutuante\n",
        "\n",
        "from pyspark.sql.functions import round\n",
        "\n",
        "resposta = resposta\\\n",
        "   .withColumn(\"avg(salario)\", round(\"avg(salario)\",2))\\\n",
        "   .withColumn(\"avg(receita)\", round(\"avg(receita)\",2))\n",
        "\n",
        "# exibindo a resposta\n",
        "resposta.show()    "
      ],
      "metadata": {
        "colab": {
          "base_uri": "https://localhost:8080/"
        },
        "id": "Oq1pgRX8cXMX",
        "outputId": "7fb32bfc-c681-49b2-adc0-ee43110581cf"
      },
      "execution_count": null,
      "outputs": [
        {
          "output_type": "stream",
          "name": "stdout",
          "text": [
            "+--------+----------------+--------------------+------------+------------+\n",
            "|equipePK|      equipeNome|          filialNome|avg(salario)|avg(receita)|\n",
            "+--------+----------------+--------------------+------------+------------+\n",
            "|       1|    SERVICO PLUS|SAO PAULO - IPIRANGA|     6446.26|    15117.57|\n",
            "|       6|SERVICO STANDARD|SAO PAULO - IPIRANGA|     8130.98|    13519.75|\n",
            "|       3|   SERVICO BASIC|SAO PAULO - IPIRANGA|     6289.16|     7211.69|\n",
            "|       9| SERVICO PREMIUM|SAO PAULO - IPIRANGA|     6526.58|    54854.55|\n",
            "|       4|   SERVICO BASIC|RIO DE JANEIRO - ...|     7321.89|     7342.08|\n",
            "|       7|SERVICO STANDARD|RIO DE JANEIRO - ...|     7157.55|    12759.33|\n",
            "|       2|    SERVICO PLUS|RIO DE JANEIRO - ...|     5894.34|    15282.25|\n",
            "+--------+----------------+--------------------+------------+------------+\n",
            "\n"
          ]
        }
      ]
    },
    {
      "cell_type": "code",
      "source": [
        "# ordenando os resultados pelas maiores receitas em ordem decrescente\n",
        "\n",
        "from pyspark.sql.functions import desc\n",
        "\n",
        "resposta = resposta\\\n",
        "   .orderBy(desc(\"avg(receita)\"))\n",
        "\n",
        "# exibindo a resposta\n",
        "resposta.show()   "
      ],
      "metadata": {
        "colab": {
          "base_uri": "https://localhost:8080/"
        },
        "id": "9gtqEbvdhl6D",
        "outputId": "3dea7041-8098-407e-ce21-67849010d097"
      },
      "execution_count": null,
      "outputs": [
        {
          "output_type": "stream",
          "name": "stdout",
          "text": [
            "+--------+----------------+--------------------+------------+------------+\n",
            "|equipePK|      equipeNome|          filialNome|avg(salario)|avg(receita)|\n",
            "+--------+----------------+--------------------+------------+------------+\n",
            "|       9| SERVICO PREMIUM|SAO PAULO - IPIRANGA|     6526.58|    54854.55|\n",
            "|       2|    SERVICO PLUS|RIO DE JANEIRO - ...|     5894.34|    15282.25|\n",
            "|       1|    SERVICO PLUS|SAO PAULO - IPIRANGA|     6446.26|    15117.57|\n",
            "|       6|SERVICO STANDARD|SAO PAULO - IPIRANGA|     8130.98|    13519.75|\n",
            "|       7|SERVICO STANDARD|RIO DE JANEIRO - ...|     7157.55|    12759.33|\n",
            "|       4|   SERVICO BASIC|RIO DE JANEIRO - ...|     7321.89|     7342.08|\n",
            "|       3|   SERVICO BASIC|SAO PAULO - IPIRANGA|     6289.16|     7211.69|\n",
            "+--------+----------------+--------------------+------------+------------+\n",
            "\n"
          ]
        }
      ]
    },
    {
      "cell_type": "code",
      "source": [
        "# calculando valores derivados\n",
        "\n",
        "resposta = resposta\\\n",
        "   .withColumn(\"diferenca\", resposta[\"avg(receita)\"] - resposta[\"avg(salario)\"])\\\n",
        "   .withColumn(\"diferenca\", round(\"diferenca\",2))\n",
        "\n",
        "# exibindo a resposta\n",
        "resposta.show()   "
      ],
      "metadata": {
        "colab": {
          "base_uri": "https://localhost:8080/"
        },
        "id": "Z7yJMQjgiIXp",
        "outputId": "d6c5738d-4b08-4493-d411-b3e04fbdf1d3"
      },
      "execution_count": null,
      "outputs": [
        {
          "output_type": "stream",
          "name": "stdout",
          "text": [
            "+--------+----------------+--------------------+------------+------------+---------+\n",
            "|equipePK|      equipeNome|          filialNome|avg(salario)|avg(receita)|diferenca|\n",
            "+--------+----------------+--------------------+------------+------------+---------+\n",
            "|       9| SERVICO PREMIUM|SAO PAULO - IPIRANGA|     6526.58|    54854.55| 48327.97|\n",
            "|       2|    SERVICO PLUS|RIO DE JANEIRO - ...|     5894.34|    15282.25|  9387.91|\n",
            "|       1|    SERVICO PLUS|SAO PAULO - IPIRANGA|     6446.26|    15117.57|  8671.31|\n",
            "|       6|SERVICO STANDARD|SAO PAULO - IPIRANGA|     8130.98|    13519.75|  5388.77|\n",
            "|       7|SERVICO STANDARD|RIO DE JANEIRO - ...|     7157.55|    12759.33|  5601.78|\n",
            "|       4|   SERVICO BASIC|RIO DE JANEIRO - ...|     7321.89|     7342.08|    20.19|\n",
            "|       3|   SERVICO BASIC|SAO PAULO - IPIRANGA|     6289.16|     7211.69|   922.53|\n",
            "+--------+----------------+--------------------+------------+------------+---------+\n",
            "\n"
          ]
        }
      ]
    },
    {
      "cell_type": "code",
      "source": [
        "# renomeando os nomes das colunas \n",
        "resposta = resposta\\\n",
        "   .withColumnRenamed(\"equipePK\", \"Código\")\\\n",
        "   .withColumnRenamed(\"equipeNome\", \"Nome da Equipe\")\\\n",
        "   .withColumnRenamed(\"filialNome\", \"Nome da Filial\")\\\n",
        "   .withColumnRenamed(\"avg(salario)\", \"Gastos com Salários\")\\\n",
        "   .withColumnRenamed(\"avg(receita)\", \"Ganhos em Receitas\")\\\n",
        "   .withColumnRenamed(\"diferenca\", \"Lucro ou Prejuízo\")   \n",
        "\n",
        "# exibindo a resposta\n",
        "resposta.show()      "
      ],
      "metadata": {
        "colab": {
          "base_uri": "https://localhost:8080/"
        },
        "id": "WHfFRyyNieom",
        "outputId": "2d4c73e6-6e5d-4212-c6e3-2da0b6796b96"
      },
      "execution_count": null,
      "outputs": [
        {
          "output_type": "stream",
          "name": "stdout",
          "text": [
            "+------+----------------+--------------------+-------------------+------------------+-----------------+\n",
            "|Código|  Nome da Equipe|      Nome da Filial|Gastos com Salários|Ganhos em Receitas|Lucro ou Prejuízo|\n",
            "+------+----------------+--------------------+-------------------+------------------+-----------------+\n",
            "|     9| SERVICO PREMIUM|SAO PAULO - IPIRANGA|            6526.58|          54854.55|         48327.97|\n",
            "|     2|    SERVICO PLUS|RIO DE JANEIRO - ...|            5894.34|          15282.25|          9387.91|\n",
            "|     1|    SERVICO PLUS|SAO PAULO - IPIRANGA|            6446.26|          15117.57|          8671.31|\n",
            "|     6|SERVICO STANDARD|SAO PAULO - IPIRANGA|            8130.98|          13519.75|          5388.77|\n",
            "|     7|SERVICO STANDARD|RIO DE JANEIRO - ...|            7157.55|          12759.33|          5601.78|\n",
            "|     4|   SERVICO BASIC|RIO DE JANEIRO - ...|            7321.89|           7342.08|            20.19|\n",
            "|     3|   SERVICO BASIC|SAO PAULO - IPIRANGA|            6289.16|           7211.69|           922.53|\n",
            "+------+----------------+--------------------+-------------------+------------------+-----------------+\n",
            "\n"
          ]
        }
      ]
    }
  ]
}