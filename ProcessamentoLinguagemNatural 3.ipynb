{
  "nbformat": 4,
  "nbformat_minor": 0,
  "metadata": {
    "colab": {
      "name": "Untitled2.ipynb",
      "provenance": [],
      "collapsed_sections": [],
      "mount_file_id": "18GRZE2jIoOL-Y7v73mb330mw3mfjsARZ",
      "authorship_tag": "ABX9TyMRc+khf/LvayTgwWh0f86M",
      "include_colab_link": true
    },
    "kernelspec": {
      "name": "python3",
      "display_name": "Python 3"
    },
    "language_info": {
      "name": "python"
    }
  },
  "cells": [
    {
      "cell_type": "markdown",
      "metadata": {
        "id": "view-in-github",
        "colab_type": "text"
      },
      "source": [
        "<a href=\"https://colab.research.google.com/github/robsonbrandao/artigos/blob/main/ProcessamentoLinguagemNatural%203.ipynb\" target=\"_parent\"><img src=\"https://colab.research.google.com/assets/colab-badge.svg\" alt=\"Open In Colab\"/></a>"
      ]
    },
    {
      "cell_type": "markdown",
      "source": [
        "# **Processamento de Linguagem Natural**\n",
        "\n",
        "\n",
        "---\n",
        "\n"
      ],
      "metadata": {
        "id": "61OzP7BCycyd"
      }
    },
    {
      "cell_type": "markdown",
      "source": [
        "## **Instalando o pacote spacy e modelos de linguagem**"
      ],
      "metadata": {
        "id": "g-YpnIsy2w0V"
      }
    },
    {
      "cell_type": "code",
      "source": [
        "import spacy"
      ],
      "metadata": {
        "id": "qbhDyzDdzL6w"
      },
      "execution_count": null,
      "outputs": []
    },
    {
      "cell_type": "markdown",
      "source": [
        "### Atualizando o spacy"
      ],
      "metadata": {
        "id": "xrjh4mFVzUZ0"
      }
    },
    {
      "cell_type": "code",
      "source": [
        "!pip install --upgrade spacy"
      ],
      "metadata": {
        "colab": {
          "base_uri": "https://localhost:8080/",
          "height": 1000
        },
        "id": "l-Us_5ISzRAA",
        "outputId": "c954e78f-e6a6-4664-a91a-c6f2e0962c3f"
      },
      "execution_count": null,
      "outputs": [
        {
          "output_type": "stream",
          "name": "stdout",
          "text": [
            "Requirement already satisfied: spacy in /usr/local/lib/python3.7/dist-packages (2.2.4)\n",
            "Collecting spacy\n",
            "  Downloading spacy-3.2.3-cp37-cp37m-manylinux_2_17_x86_64.manylinux2014_x86_64.whl (6.0 MB)\n",
            "\u001b[K     |████████████████████████████████| 6.0 MB 3.8 MB/s \n",
            "\u001b[?25hCollecting catalogue<2.1.0,>=2.0.6\n",
            "  Downloading catalogue-2.0.6-py3-none-any.whl (17 kB)\n",
            "Requirement already satisfied: preshed<3.1.0,>=3.0.2 in /usr/local/lib/python3.7/dist-packages (from spacy) (3.0.6)\n",
            "Collecting langcodes<4.0.0,>=3.2.0\n",
            "  Downloading langcodes-3.3.0-py3-none-any.whl (181 kB)\n",
            "\u001b[K     |████████████████████████████████| 181 kB 40.6 MB/s \n",
            "\u001b[?25hCollecting srsly<3.0.0,>=2.4.1\n",
            "  Downloading srsly-2.4.2-cp37-cp37m-manylinux_2_17_x86_64.manylinux2014_x86_64.whl (451 kB)\n",
            "\u001b[K     |████████████████████████████████| 451 kB 49.1 MB/s \n",
            "\u001b[?25hRequirement already satisfied: jinja2 in /usr/local/lib/python3.7/dist-packages (from spacy) (2.11.3)\n",
            "Requirement already satisfied: tqdm<5.0.0,>=4.38.0 in /usr/local/lib/python3.7/dist-packages (from spacy) (4.63.0)\n",
            "Collecting typer<0.5.0,>=0.3.0\n",
            "  Downloading typer-0.4.0-py3-none-any.whl (27 kB)\n",
            "Collecting spacy-loggers<2.0.0,>=1.0.0\n",
            "  Downloading spacy_loggers-1.0.1-py3-none-any.whl (7.0 kB)\n",
            "Requirement already satisfied: blis<0.8.0,>=0.4.0 in /usr/local/lib/python3.7/dist-packages (from spacy) (0.4.1)\n",
            "Requirement already satisfied: wasabi<1.1.0,>=0.8.1 in /usr/local/lib/python3.7/dist-packages (from spacy) (0.9.0)\n",
            "Collecting pathy>=0.3.5\n",
            "  Downloading pathy-0.6.1-py3-none-any.whl (42 kB)\n",
            "\u001b[K     |████████████████████████████████| 42 kB 1.5 MB/s \n",
            "\u001b[?25hRequirement already satisfied: packaging>=20.0 in /usr/local/lib/python3.7/dist-packages (from spacy) (21.3)\n",
            "Collecting thinc<8.1.0,>=8.0.12\n",
            "  Downloading thinc-8.0.13-cp37-cp37m-manylinux_2_17_x86_64.manylinux2014_x86_64.whl (628 kB)\n",
            "\u001b[K     |████████████████████████████████| 628 kB 34.4 MB/s \n",
            "\u001b[?25hCollecting pydantic!=1.8,!=1.8.1,<1.9.0,>=1.7.4\n",
            "  Downloading pydantic-1.8.2-cp37-cp37m-manylinux2014_x86_64.whl (10.1 MB)\n",
            "\u001b[K     |████████████████████████████████| 10.1 MB 20.3 MB/s \n",
            "\u001b[?25hRequirement already satisfied: typing-extensions<4.0.0.0,>=3.7.4 in /usr/local/lib/python3.7/dist-packages (from spacy) (3.10.0.2)\n",
            "Collecting spacy-legacy<3.1.0,>=3.0.8\n",
            "  Downloading spacy_legacy-3.0.9-py2.py3-none-any.whl (20 kB)\n",
            "Requirement already satisfied: requests<3.0.0,>=2.13.0 in /usr/local/lib/python3.7/dist-packages (from spacy) (2.23.0)\n",
            "Requirement already satisfied: cymem<2.1.0,>=2.0.2 in /usr/local/lib/python3.7/dist-packages (from spacy) (2.0.6)\n",
            "Requirement already satisfied: setuptools in /usr/local/lib/python3.7/dist-packages (from spacy) (57.4.0)\n",
            "Requirement already satisfied: murmurhash<1.1.0,>=0.28.0 in /usr/local/lib/python3.7/dist-packages (from spacy) (1.0.6)\n",
            "Requirement already satisfied: numpy>=1.15.0 in /usr/local/lib/python3.7/dist-packages (from spacy) (1.21.5)\n",
            "Requirement already satisfied: zipp>=0.5 in /usr/local/lib/python3.7/dist-packages (from catalogue<2.1.0,>=2.0.6->spacy) (3.7.0)\n",
            "Requirement already satisfied: pyparsing!=3.0.5,>=2.0.2 in /usr/local/lib/python3.7/dist-packages (from packaging>=20.0->spacy) (3.0.7)\n",
            "Requirement already satisfied: smart-open<6.0.0,>=5.0.0 in /usr/local/lib/python3.7/dist-packages (from pathy>=0.3.5->spacy) (5.2.1)\n",
            "Requirement already satisfied: chardet<4,>=3.0.2 in /usr/local/lib/python3.7/dist-packages (from requests<3.0.0,>=2.13.0->spacy) (3.0.4)\n",
            "Requirement already satisfied: idna<3,>=2.5 in /usr/local/lib/python3.7/dist-packages (from requests<3.0.0,>=2.13.0->spacy) (2.10)\n",
            "Requirement already satisfied: certifi>=2017.4.17 in /usr/local/lib/python3.7/dist-packages (from requests<3.0.0,>=2.13.0->spacy) (2021.10.8)\n",
            "Requirement already satisfied: urllib3!=1.25.0,!=1.25.1,<1.26,>=1.21.1 in /usr/local/lib/python3.7/dist-packages (from requests<3.0.0,>=2.13.0->spacy) (1.24.3)\n",
            "Requirement already satisfied: click<9.0.0,>=7.1.1 in /usr/local/lib/python3.7/dist-packages (from typer<0.5.0,>=0.3.0->spacy) (7.1.2)\n",
            "Requirement already satisfied: MarkupSafe>=0.23 in /usr/local/lib/python3.7/dist-packages (from jinja2->spacy) (2.0.1)\n",
            "Installing collected packages: catalogue, typer, srsly, pydantic, thinc, spacy-loggers, spacy-legacy, pathy, langcodes, spacy\n",
            "  Attempting uninstall: catalogue\n",
            "    Found existing installation: catalogue 1.0.0\n",
            "    Uninstalling catalogue-1.0.0:\n",
            "      Successfully uninstalled catalogue-1.0.0\n",
            "  Attempting uninstall: srsly\n",
            "    Found existing installation: srsly 1.0.5\n",
            "    Uninstalling srsly-1.0.5:\n",
            "      Successfully uninstalled srsly-1.0.5\n",
            "  Attempting uninstall: thinc\n",
            "    Found existing installation: thinc 7.4.0\n",
            "    Uninstalling thinc-7.4.0:\n",
            "      Successfully uninstalled thinc-7.4.0\n",
            "  Attempting uninstall: spacy\n",
            "    Found existing installation: spacy 2.2.4\n",
            "    Uninstalling spacy-2.2.4:\n",
            "      Successfully uninstalled spacy-2.2.4\n",
            "Successfully installed catalogue-2.0.6 langcodes-3.3.0 pathy-0.6.1 pydantic-1.8.2 spacy-3.2.3 spacy-legacy-3.0.9 spacy-loggers-1.0.1 srsly-2.4.2 thinc-8.0.13 typer-0.4.0\n"
          ]
        },
        {
          "output_type": "display_data",
          "data": {
            "application/vnd.colab-display-data+json": {
              "pip_warning": {
                "packages": [
                  "catalogue",
                  "spacy",
                  "srsly",
                  "thinc"
                ]
              }
            }
          },
          "metadata": {}
        }
      ]
    },
    {
      "cell_type": "code",
      "source": [
        "# Chamar o spacy com a nova versão\n",
        "import spacy"
      ],
      "metadata": {
        "id": "wQ8aU9cuzf_I"
      },
      "execution_count": null,
      "outputs": []
    },
    {
      "cell_type": "code",
      "source": [
        "!pip install -U spacy-lookups-data "
      ],
      "metadata": {
        "colab": {
          "base_uri": "https://localhost:8080/"
        },
        "id": "QgKR9ROYzsuy",
        "outputId": "b97ba8ff-bfd2-46ef-9e30-973de33f346d"
      },
      "execution_count": null,
      "outputs": [
        {
          "output_type": "stream",
          "name": "stdout",
          "text": [
            "Requirement already satisfied: spacy-lookups-data in /usr/local/lib/python3.7/dist-packages (1.0.3)\n",
            "Requirement already satisfied: setuptools in /usr/local/lib/python3.7/dist-packages (from spacy-lookups-data) (57.4.0)\n"
          ]
        }
      ]
    },
    {
      "cell_type": "markdown",
      "source": [
        "**Baixar os modelos de Linguagem**\n",
        "\n",
        "**pt_core_news_lg** é mais completo, porém mais lento\n",
        "\n",
        "**pt_core_news_st** é a outra opção"
      ],
      "metadata": {
        "id": "YfQdhzD30Cgi"
      }
    },
    {
      "cell_type": "code",
      "source": [
        "!python -m spacy download pt_core_news_lg"
      ],
      "metadata": {
        "colab": {
          "base_uri": "https://localhost:8080/"
        },
        "id": "fsfjCh38z6pM",
        "outputId": "ec590c9d-be4c-4856-8371-c0f5bd4c6990"
      },
      "execution_count": null,
      "outputs": [
        {
          "output_type": "stream",
          "name": "stdout",
          "text": [
            "Collecting pt-core-news-lg==3.2.0\n",
            "  Downloading https://github.com/explosion/spacy-models/releases/download/pt_core_news_lg-3.2.0/pt_core_news_lg-3.2.0-py3-none-any.whl (577.4 MB)\n",
            "\u001b[K     |████████████████████████████████| 577.4 MB 5.3 kB/s \n",
            "\u001b[?25hRequirement already satisfied: spacy<3.3.0,>=3.2.0 in /usr/local/lib/python3.7/dist-packages (from pt-core-news-lg==3.2.0) (3.2.3)\n",
            "Requirement already satisfied: jinja2 in /usr/local/lib/python3.7/dist-packages (from spacy<3.3.0,>=3.2.0->pt-core-news-lg==3.2.0) (2.11.3)\n",
            "Requirement already satisfied: srsly<3.0.0,>=2.4.1 in /usr/local/lib/python3.7/dist-packages (from spacy<3.3.0,>=3.2.0->pt-core-news-lg==3.2.0) (2.4.2)\n",
            "Requirement already satisfied: spacy-loggers<2.0.0,>=1.0.0 in /usr/local/lib/python3.7/dist-packages (from spacy<3.3.0,>=3.2.0->pt-core-news-lg==3.2.0) (1.0.1)\n",
            "Requirement already satisfied: thinc<8.1.0,>=8.0.12 in /usr/local/lib/python3.7/dist-packages (from spacy<3.3.0,>=3.2.0->pt-core-news-lg==3.2.0) (8.0.13)\n",
            "Requirement already satisfied: catalogue<2.1.0,>=2.0.6 in /usr/local/lib/python3.7/dist-packages (from spacy<3.3.0,>=3.2.0->pt-core-news-lg==3.2.0) (2.0.6)\n",
            "Requirement already satisfied: wasabi<1.1.0,>=0.8.1 in /usr/local/lib/python3.7/dist-packages (from spacy<3.3.0,>=3.2.0->pt-core-news-lg==3.2.0) (0.9.0)\n",
            "Requirement already satisfied: setuptools in /usr/local/lib/python3.7/dist-packages (from spacy<3.3.0,>=3.2.0->pt-core-news-lg==3.2.0) (57.4.0)\n",
            "Requirement already satisfied: typer<0.5.0,>=0.3.0 in /usr/local/lib/python3.7/dist-packages (from spacy<3.3.0,>=3.2.0->pt-core-news-lg==3.2.0) (0.4.0)\n",
            "Requirement already satisfied: cymem<2.1.0,>=2.0.2 in /usr/local/lib/python3.7/dist-packages (from spacy<3.3.0,>=3.2.0->pt-core-news-lg==3.2.0) (2.0.6)\n",
            "Requirement already satisfied: typing-extensions<4.0.0.0,>=3.7.4 in /usr/local/lib/python3.7/dist-packages (from spacy<3.3.0,>=3.2.0->pt-core-news-lg==3.2.0) (3.10.0.2)\n",
            "Requirement already satisfied: requests<3.0.0,>=2.13.0 in /usr/local/lib/python3.7/dist-packages (from spacy<3.3.0,>=3.2.0->pt-core-news-lg==3.2.0) (2.23.0)\n",
            "Requirement already satisfied: tqdm<5.0.0,>=4.38.0 in /usr/local/lib/python3.7/dist-packages (from spacy<3.3.0,>=3.2.0->pt-core-news-lg==3.2.0) (4.63.0)\n",
            "Requirement already satisfied: langcodes<4.0.0,>=3.2.0 in /usr/local/lib/python3.7/dist-packages (from spacy<3.3.0,>=3.2.0->pt-core-news-lg==3.2.0) (3.3.0)\n",
            "Requirement already satisfied: pydantic!=1.8,!=1.8.1,<1.9.0,>=1.7.4 in /usr/local/lib/python3.7/dist-packages (from spacy<3.3.0,>=3.2.0->pt-core-news-lg==3.2.0) (1.8.2)\n",
            "Requirement already satisfied: packaging>=20.0 in /usr/local/lib/python3.7/dist-packages (from spacy<3.3.0,>=3.2.0->pt-core-news-lg==3.2.0) (21.3)\n",
            "Requirement already satisfied: blis<0.8.0,>=0.4.0 in /usr/local/lib/python3.7/dist-packages (from spacy<3.3.0,>=3.2.0->pt-core-news-lg==3.2.0) (0.4.1)\n",
            "Requirement already satisfied: murmurhash<1.1.0,>=0.28.0 in /usr/local/lib/python3.7/dist-packages (from spacy<3.3.0,>=3.2.0->pt-core-news-lg==3.2.0) (1.0.6)\n",
            "Requirement already satisfied: pathy>=0.3.5 in /usr/local/lib/python3.7/dist-packages (from spacy<3.3.0,>=3.2.0->pt-core-news-lg==3.2.0) (0.6.1)\n",
            "Requirement already satisfied: numpy>=1.15.0 in /usr/local/lib/python3.7/dist-packages (from spacy<3.3.0,>=3.2.0->pt-core-news-lg==3.2.0) (1.21.5)\n",
            "Requirement already satisfied: preshed<3.1.0,>=3.0.2 in /usr/local/lib/python3.7/dist-packages (from spacy<3.3.0,>=3.2.0->pt-core-news-lg==3.2.0) (3.0.6)\n",
            "Requirement already satisfied: spacy-legacy<3.1.0,>=3.0.8 in /usr/local/lib/python3.7/dist-packages (from spacy<3.3.0,>=3.2.0->pt-core-news-lg==3.2.0) (3.0.9)\n",
            "Requirement already satisfied: zipp>=0.5 in /usr/local/lib/python3.7/dist-packages (from catalogue<2.1.0,>=2.0.6->spacy<3.3.0,>=3.2.0->pt-core-news-lg==3.2.0) (3.7.0)\n",
            "Requirement already satisfied: pyparsing!=3.0.5,>=2.0.2 in /usr/local/lib/python3.7/dist-packages (from packaging>=20.0->spacy<3.3.0,>=3.2.0->pt-core-news-lg==3.2.0) (3.0.7)\n",
            "Requirement already satisfied: smart-open<6.0.0,>=5.0.0 in /usr/local/lib/python3.7/dist-packages (from pathy>=0.3.5->spacy<3.3.0,>=3.2.0->pt-core-news-lg==3.2.0) (5.2.1)\n",
            "Requirement already satisfied: urllib3!=1.25.0,!=1.25.1,<1.26,>=1.21.1 in /usr/local/lib/python3.7/dist-packages (from requests<3.0.0,>=2.13.0->spacy<3.3.0,>=3.2.0->pt-core-news-lg==3.2.0) (1.24.3)\n",
            "Requirement already satisfied: certifi>=2017.4.17 in /usr/local/lib/python3.7/dist-packages (from requests<3.0.0,>=2.13.0->spacy<3.3.0,>=3.2.0->pt-core-news-lg==3.2.0) (2021.10.8)\n",
            "Requirement already satisfied: idna<3,>=2.5 in /usr/local/lib/python3.7/dist-packages (from requests<3.0.0,>=2.13.0->spacy<3.3.0,>=3.2.0->pt-core-news-lg==3.2.0) (2.10)\n",
            "Requirement already satisfied: chardet<4,>=3.0.2 in /usr/local/lib/python3.7/dist-packages (from requests<3.0.0,>=2.13.0->spacy<3.3.0,>=3.2.0->pt-core-news-lg==3.2.0) (3.0.4)\n",
            "Requirement already satisfied: click<9.0.0,>=7.1.1 in /usr/local/lib/python3.7/dist-packages (from typer<0.5.0,>=0.3.0->spacy<3.3.0,>=3.2.0->pt-core-news-lg==3.2.0) (7.1.2)\n",
            "Requirement already satisfied: MarkupSafe>=0.23 in /usr/local/lib/python3.7/dist-packages (from jinja2->spacy<3.3.0,>=3.2.0->pt-core-news-lg==3.2.0) (2.0.1)\n",
            "\u001b[38;5;2m✔ Download and installation successful\u001b[0m\n",
            "You can now load the package via spacy.load('pt_core_news_lg')\n"
          ]
        }
      ]
    },
    {
      "cell_type": "markdown",
      "source": [
        "**Trabalhar com o primeiro texto**"
      ],
      "metadata": {
        "id": "zje_ozYi1jgP"
      }
    },
    {
      "cell_type": "code",
      "source": [
        "texto = \"Inovações na área financeira passam pela análise de dados e pela proteção de dados pessoais. O uso da “big data” permitiu gerenciar grande volume de dados — coletados em vários formatos e fontes —, e processá-los rapidamente. Um processo de análise, complexo e dispendioso, se destinado a uma reduzida equipe de pessoas, pode facilmente ser aprendido e processado por máquinas, com o uso de técnicas de inteligência artificial. Este trabalho focou em levantar dados de uma “fintech” e demonstrar um processo anti-fraude alcançado por aprendizado de máquina. Houve toda uma preocupação com a privacidade de dados, conforme a Lei Geral de Proteção de Dados, utilizando-se de técnicas para produzir ruídos de dados sem prejudicar os dados estatisticamente. Após a coleta de dados, foram aplicadas as técnicas estatísticas para pré-processamento, normalização e padronização. Todo o estudo foi feito em linguagem de programação e o modelo foi testado até chegar ao que consideramos ideal por conseguir atingir um percentual alto de acerto ao detectar fraudes em dados financeiros usando inteligência artificial\""
      ],
      "metadata": {
        "id": "-nG3P1Eo1hcn"
      },
      "execution_count": null,
      "outputs": []
    },
    {
      "cell_type": "code",
      "source": [
        "# Carregar o modelo de linguagem\n",
        "\n",
        "nlp = spacy.load('pt_core_news_lg')\n",
        "doc = nlp(texto)"
      ],
      "metadata": {
        "id": "JMorzTK-2QQn"
      },
      "execution_count": null,
      "outputs": []
    },
    {
      "cell_type": "markdown",
      "source": [
        "## **Arquivos, segmentação, tokenização e lematização**"
      ],
      "metadata": {
        "id": "kbITvoHD3PDp"
      }
    },
    {
      "cell_type": "code",
      "source": [
        "arquivo1 = open('texto1.txt','r')\n",
        "conteudo = arquivo1.read()\n",
        "conteudo"
      ],
      "metadata": {
        "colab": {
          "base_uri": "https://localhost:8080/",
          "height": 140
        },
        "id": "Mb9ecdSq2pjL",
        "outputId": "aa155539-64b8-4a33-cacc-c9bcce19a75d"
      },
      "execution_count": null,
      "outputs": [
        {
          "output_type": "execute_result",
          "data": {
            "text/plain": [
              "'Inovações na área financeira passam pela análise de dados e pela proteção de dados pessoais. O uso da “big data” permitiu gerenciar grande volume de dados — coletados em vários formatos e fontes —, e processá-los rapidamente. Um processo de análise, complexo e dispendioso, se destinado a uma reduzida equipe de pessoas, pode facilmente ser aprendido e processado por máquinas, com o uso de técnicas de inteligência artificial. Este trabalho focou em levantar dados de uma “fintech” e demonstrar um processo anti-fraude alcançado por aprendizado de máquina. Houve toda uma preocupação com a privacidade de dados, conforme a Lei Geral de Proteção de Dados, utilizando-se de técnicas para produzir ruídos de dados sem prejudicar os dados estatisticamente. Após a coleta de dados, foram aplicadas as técnicas estatísticas para pré-processamento, normalização e padronização. Todo o estudo foi feito em linguagem de programação e o modelo foi testado até chegar ao que consideramos ideal por conseguir atingir um percentual alto de acerto ao detectar fraudes em dados financeiros usando inteligência artificial'"
            ],
            "application/vnd.google.colaboratory.intrinsic+json": {
              "type": "string"
            }
          },
          "metadata": {},
          "execution_count": 10
        }
      ]
    },
    {
      "cell_type": "code",
      "source": [
        "nlp = spacy.load('pt_core_news_lg')\n",
        "doc = nlp(conteudo)"
      ],
      "metadata": {
        "id": "xaZf5vzQ9KMZ"
      },
      "execution_count": null,
      "outputs": []
    },
    {
      "cell_type": "markdown",
      "source": [
        "**Segmentação**\n",
        "\n",
        "Separar o texto conforme um separador indicado"
      ],
      "metadata": {
        "id": "MZ4mi4Ag-pki"
      }
    },
    {
      "cell_type": "code",
      "source": [
        "sentencas = conteudo.split(\".\")\n",
        "sentencas"
      ],
      "metadata": {
        "colab": {
          "base_uri": "https://localhost:8080/"
        },
        "id": "JjOPoes2-llR",
        "outputId": "4cf96244-1bf5-44ba-e83e-8d280a03564c"
      },
      "execution_count": null,
      "outputs": [
        {
          "output_type": "execute_result",
          "data": {
            "text/plain": [
              "['Inovações na área financeira passam pela análise de dados e pela proteção de dados pessoais',\n",
              " ' O uso da “big data” permitiu gerenciar grande volume de dados — coletados em vários formatos e fontes —, e processá-los rapidamente',\n",
              " ' Um processo de análise, complexo e dispendioso, se destinado a uma reduzida equipe de pessoas, pode facilmente ser aprendido e processado por máquinas, com o uso de técnicas de inteligência artificial',\n",
              " ' Este trabalho focou em levantar dados de uma “fintech” e demonstrar um processo anti-fraude alcançado por aprendizado de máquina',\n",
              " ' Houve toda uma preocupação com a privacidade de dados, conforme a Lei Geral de Proteção de Dados, utilizando-se de técnicas para produzir ruídos de dados sem prejudicar os dados estatisticamente',\n",
              " ' Após a coleta de dados, foram aplicadas as técnicas estatísticas para pré-processamento, normalização e padronização',\n",
              " ' Todo o estudo foi feito em linguagem de programação e o modelo foi testado até chegar ao que consideramos ideal por conseguir atingir um percentual alto de acerto ao detectar fraudes em dados financeiros usando inteligência artificial']"
            ]
          },
          "metadata": {},
          "execution_count": 12
        }
      ]
    },
    {
      "cell_type": "code",
      "source": [
        "#Quantas sentenças ?\n",
        "num_sentencas = len(sentencas)\n",
        "num_sentencas"
      ],
      "metadata": {
        "colab": {
          "base_uri": "https://localhost:8080/"
        },
        "id": "6Iy0meeZ-64D",
        "outputId": "728c345e-6504-4e3e-e5c4-bb7ae6e9f611"
      },
      "execution_count": null,
      "outputs": [
        {
          "output_type": "execute_result",
          "data": {
            "text/plain": [
              "7"
            ]
          },
          "metadata": {},
          "execution_count": 13
        }
      ]
    },
    {
      "cell_type": "markdown",
      "source": [
        "**Tokenização**\n",
        "\n",
        "Separar o textos em unidades"
      ],
      "metadata": {
        "id": "SLPS8MyK_i1x"
      }
    },
    {
      "cell_type": "code",
      "source": [
        "#.orth_ tokens strings\n",
        "tokens = [token.orth_ for token in doc]\n",
        "tokens"
      ],
      "metadata": {
        "colab": {
          "base_uri": "https://localhost:8080/"
        },
        "id": "PQg-YrqT_cWU",
        "outputId": "88b91489-a305-44d2-e3a1-78c711bab548"
      },
      "execution_count": null,
      "outputs": [
        {
          "output_type": "execute_result",
          "data": {
            "text/plain": [
              "['Inovações',\n",
              " 'na',\n",
              " 'área',\n",
              " 'financeira',\n",
              " 'passam',\n",
              " 'pela',\n",
              " 'análise',\n",
              " 'de',\n",
              " 'dados',\n",
              " 'e',\n",
              " 'pela',\n",
              " 'proteção',\n",
              " 'de',\n",
              " 'dados',\n",
              " 'pessoais',\n",
              " '.',\n",
              " 'O',\n",
              " 'uso',\n",
              " 'da',\n",
              " '“',\n",
              " 'big',\n",
              " 'data',\n",
              " '”',\n",
              " 'permitiu',\n",
              " 'gerenciar',\n",
              " 'grande',\n",
              " 'volume',\n",
              " 'de',\n",
              " 'dados',\n",
              " '—',\n",
              " 'coletados',\n",
              " 'em',\n",
              " 'vários',\n",
              " 'formatos',\n",
              " 'e',\n",
              " 'fontes',\n",
              " '—',\n",
              " ',',\n",
              " 'e',\n",
              " 'processá-los',\n",
              " 'rapidamente',\n",
              " '.',\n",
              " 'Um',\n",
              " 'processo',\n",
              " 'de',\n",
              " 'análise',\n",
              " ',',\n",
              " 'complexo',\n",
              " 'e',\n",
              " 'dispendioso',\n",
              " ',',\n",
              " 'se',\n",
              " 'destinado',\n",
              " 'a',\n",
              " 'uma',\n",
              " 'reduzida',\n",
              " 'equipe',\n",
              " 'de',\n",
              " 'pessoas',\n",
              " ',',\n",
              " 'pode',\n",
              " 'facilmente',\n",
              " 'ser',\n",
              " 'aprendido',\n",
              " 'e',\n",
              " 'processado',\n",
              " 'por',\n",
              " 'máquinas',\n",
              " ',',\n",
              " 'com',\n",
              " 'o',\n",
              " 'uso',\n",
              " 'de',\n",
              " 'técnicas',\n",
              " 'de',\n",
              " 'inteligência',\n",
              " 'artificial',\n",
              " '.',\n",
              " 'Este',\n",
              " 'trabalho',\n",
              " 'focou',\n",
              " 'em',\n",
              " 'levantar',\n",
              " 'dados',\n",
              " 'de',\n",
              " 'uma',\n",
              " '“',\n",
              " 'fintech',\n",
              " '”',\n",
              " 'e',\n",
              " 'demonstrar',\n",
              " 'um',\n",
              " 'processo',\n",
              " 'anti-fraude',\n",
              " 'alcançado',\n",
              " 'por',\n",
              " 'aprendizado',\n",
              " 'de',\n",
              " 'máquina',\n",
              " '.',\n",
              " 'Houve',\n",
              " 'toda',\n",
              " 'uma',\n",
              " 'preocupação',\n",
              " 'com',\n",
              " 'a',\n",
              " 'privacidade',\n",
              " 'de',\n",
              " 'dados',\n",
              " ',',\n",
              " 'conforme',\n",
              " 'a',\n",
              " 'Lei',\n",
              " 'Geral',\n",
              " 'de',\n",
              " 'Proteção',\n",
              " 'de',\n",
              " 'Dados',\n",
              " ',',\n",
              " 'utilizando-se',\n",
              " 'de',\n",
              " 'técnicas',\n",
              " 'para',\n",
              " 'produzir',\n",
              " 'ruídos',\n",
              " 'de',\n",
              " 'dados',\n",
              " 'sem',\n",
              " 'prejudicar',\n",
              " 'os',\n",
              " 'dados',\n",
              " 'estatisticamente',\n",
              " '.',\n",
              " 'Após',\n",
              " 'a',\n",
              " 'coleta',\n",
              " 'de',\n",
              " 'dados',\n",
              " ',',\n",
              " 'foram',\n",
              " 'aplicadas',\n",
              " 'as',\n",
              " 'técnicas',\n",
              " 'estatísticas',\n",
              " 'para',\n",
              " 'pré-processamento',\n",
              " ',',\n",
              " 'normalização',\n",
              " 'e',\n",
              " 'padronização',\n",
              " '.',\n",
              " 'Todo',\n",
              " 'o',\n",
              " 'estudo',\n",
              " 'foi',\n",
              " 'feito',\n",
              " 'em',\n",
              " 'linguagem',\n",
              " 'de',\n",
              " 'programação',\n",
              " 'e',\n",
              " 'o',\n",
              " 'modelo',\n",
              " 'foi',\n",
              " 'testado',\n",
              " 'até',\n",
              " 'chegar',\n",
              " 'ao',\n",
              " 'que',\n",
              " 'consideramos',\n",
              " 'ideal',\n",
              " 'por',\n",
              " 'conseguir',\n",
              " 'atingir',\n",
              " 'um',\n",
              " 'percentual',\n",
              " 'alto',\n",
              " 'de',\n",
              " 'acerto',\n",
              " 'ao',\n",
              " 'detectar',\n",
              " 'fraudes',\n",
              " 'em',\n",
              " 'dados',\n",
              " 'financeiros',\n",
              " 'usando',\n",
              " 'inteligência',\n",
              " 'artificial']"
            ]
          },
          "metadata": {},
          "execution_count": 14
        }
      ]
    },
    {
      "cell_type": "markdown",
      "source": [
        "**Lematização**\n",
        "\n",
        "Forma básica da palavra. Sem conjulgação"
      ],
      "metadata": {
        "id": "3RR2ORbLANBe"
      }
    },
    {
      "cell_type": "code",
      "source": [
        "lemas = [token.lemma_ for token in doc]\n",
        "lemas "
      ],
      "metadata": {
        "colab": {
          "base_uri": "https://localhost:8080/"
        },
        "id": "RB4nVpD-AI_i",
        "outputId": "ddc6f616-c60f-4ab6-b924-bd5942c4517f"
      },
      "execution_count": null,
      "outputs": [
        {
          "output_type": "execute_result",
          "data": {
            "text/plain": [
              "['Inovações',\n",
              " 'o',\n",
              " 'área',\n",
              " 'financeiro',\n",
              " 'passar',\n",
              " 'pelar',\n",
              " 'análise',\n",
              " 'de',\n",
              " 'dar',\n",
              " 'e',\n",
              " 'pelar',\n",
              " 'proteção',\n",
              " 'de',\n",
              " 'dar',\n",
              " 'pessoal',\n",
              " '.',\n",
              " 'O',\n",
              " 'usar',\n",
              " 'da',\n",
              " '“',\n",
              " 'big',\n",
              " 'datar',\n",
              " '”',\n",
              " 'permitir',\n",
              " 'gerenciar',\n",
              " 'grande',\n",
              " 'volumar',\n",
              " 'de',\n",
              " 'dar',\n",
              " '—',\n",
              " 'coletados',\n",
              " 'em',\n",
              " 'vário',\n",
              " 'formato',\n",
              " 'e',\n",
              " 'fonte',\n",
              " '—',\n",
              " ',',\n",
              " 'e',\n",
              " 'processá-los',\n",
              " 'rapidamente',\n",
              " '.',\n",
              " 'Um',\n",
              " 'processar',\n",
              " 'de',\n",
              " 'análise',\n",
              " ',',\n",
              " 'complexo',\n",
              " 'e',\n",
              " 'dispendioso',\n",
              " ',',\n",
              " 'se',\n",
              " 'destinar',\n",
              " 'o',\n",
              " 'umar',\n",
              " 'reduzir',\n",
              " 'equipar',\n",
              " 'de',\n",
              " 'pessoa',\n",
              " ',',\n",
              " 'poder',\n",
              " 'facilmente',\n",
              " 'ser',\n",
              " 'aprender',\n",
              " 'e',\n",
              " 'processar',\n",
              " 'por',\n",
              " 'máquina',\n",
              " ',',\n",
              " 'com',\n",
              " 'o',\n",
              " 'usar',\n",
              " 'de',\n",
              " 'técnico',\n",
              " 'de',\n",
              " 'inteligência',\n",
              " 'artificial',\n",
              " '.',\n",
              " 'Este',\n",
              " 'trabalhar',\n",
              " 'focar',\n",
              " 'em',\n",
              " 'levantar',\n",
              " 'dar',\n",
              " 'de',\n",
              " 'umar',\n",
              " '“',\n",
              " 'fintech',\n",
              " '”',\n",
              " 'e',\n",
              " 'demonstrar',\n",
              " 'um',\n",
              " 'processar',\n",
              " 'anti-fraude',\n",
              " 'alcançar',\n",
              " 'por',\n",
              " 'aprendizado',\n",
              " 'de',\n",
              " 'máquina',\n",
              " '.',\n",
              " 'Houve',\n",
              " 'todo',\n",
              " 'umar',\n",
              " 'preocupação',\n",
              " 'com',\n",
              " 'o',\n",
              " 'privacidade',\n",
              " 'de',\n",
              " 'dar',\n",
              " ',',\n",
              " 'conformar',\n",
              " 'o',\n",
              " 'Lei',\n",
              " 'Geral',\n",
              " 'de',\n",
              " 'Proteção',\n",
              " 'de',\n",
              " 'Dados',\n",
              " ',',\n",
              " 'utilizando-se',\n",
              " 'de',\n",
              " 'técnico',\n",
              " 'parir',\n",
              " 'produzir',\n",
              " 'ruir',\n",
              " 'de',\n",
              " 'dar',\n",
              " 'sem',\n",
              " 'prejudicar',\n",
              " 'o',\n",
              " 'dar',\n",
              " 'estatisticamente',\n",
              " '.',\n",
              " 'Após',\n",
              " 'o',\n",
              " 'coleta',\n",
              " 'de',\n",
              " 'dar',\n",
              " ',',\n",
              " 'ser',\n",
              " 'aplicar',\n",
              " 'o',\n",
              " 'técnico',\n",
              " 'estatístico',\n",
              " 'parir',\n",
              " 'pré-processamento',\n",
              " ',',\n",
              " 'normalização',\n",
              " 'e',\n",
              " 'padronização',\n",
              " '.',\n",
              " 'Todo',\n",
              " 'o',\n",
              " 'estudar',\n",
              " 'ser',\n",
              " 'fazer',\n",
              " 'em',\n",
              " 'linguagem',\n",
              " 'de',\n",
              " 'programação',\n",
              " 'e',\n",
              " 'o',\n",
              " 'modelar',\n",
              " 'ser',\n",
              " 'testar',\n",
              " 'até',\n",
              " 'chegar',\n",
              " 'ao',\n",
              " 'que',\n",
              " 'considerar',\n",
              " 'ideal',\n",
              " 'por',\n",
              " 'conseguir',\n",
              " 'atingir',\n",
              " 'um',\n",
              " 'percentual',\n",
              " 'alto',\n",
              " 'de',\n",
              " 'acertar',\n",
              " 'ao',\n",
              " 'detectar',\n",
              " 'fraude',\n",
              " 'em',\n",
              " 'dar',\n",
              " 'financeiro',\n",
              " 'usar',\n",
              " 'inteligência',\n",
              " 'artificial']"
            ]
          },
          "metadata": {},
          "execution_count": 15
        }
      ]
    },
    {
      "cell_type": "markdown",
      "source": [
        "### **Frequencia, Lei de Zipf e TTR**"
      ],
      "metadata": {
        "id": "Cjf8vRAhBH4E"
      }
    },
    {
      "cell_type": "code",
      "source": [
        "tokens = [token.orth_ for token in doc]\n",
        "tokens\n",
        "\n",
        "# Contagem de tokens.\n",
        "# Ex: artigos \n"
      ],
      "metadata": {
        "colab": {
          "base_uri": "https://localhost:8080/"
        },
        "id": "SnZJDN1fAgqD",
        "outputId": "b823b202-58a5-4587-f109-fa8fa1b36517"
      },
      "execution_count": null,
      "outputs": [
        {
          "output_type": "execute_result",
          "data": {
            "text/plain": [
              "['Inovações',\n",
              " 'na',\n",
              " 'área',\n",
              " 'financeira',\n",
              " 'passam',\n",
              " 'pela',\n",
              " 'análise',\n",
              " 'de',\n",
              " 'dados',\n",
              " 'e',\n",
              " 'pela',\n",
              " 'proteção',\n",
              " 'de',\n",
              " 'dados',\n",
              " 'pessoais',\n",
              " '.',\n",
              " 'O',\n",
              " 'uso',\n",
              " 'da',\n",
              " '“',\n",
              " 'big',\n",
              " 'data',\n",
              " '”',\n",
              " 'permitiu',\n",
              " 'gerenciar',\n",
              " 'grande',\n",
              " 'volume',\n",
              " 'de',\n",
              " 'dados',\n",
              " '—',\n",
              " 'coletados',\n",
              " 'em',\n",
              " 'vários',\n",
              " 'formatos',\n",
              " 'e',\n",
              " 'fontes',\n",
              " '—',\n",
              " ',',\n",
              " 'e',\n",
              " 'processá-los',\n",
              " 'rapidamente',\n",
              " '.',\n",
              " 'Um',\n",
              " 'processo',\n",
              " 'de',\n",
              " 'análise',\n",
              " ',',\n",
              " 'complexo',\n",
              " 'e',\n",
              " 'dispendioso',\n",
              " ',',\n",
              " 'se',\n",
              " 'destinado',\n",
              " 'a',\n",
              " 'uma',\n",
              " 'reduzida',\n",
              " 'equipe',\n",
              " 'de',\n",
              " 'pessoas',\n",
              " ',',\n",
              " 'pode',\n",
              " 'facilmente',\n",
              " 'ser',\n",
              " 'aprendido',\n",
              " 'e',\n",
              " 'processado',\n",
              " 'por',\n",
              " 'máquinas',\n",
              " ',',\n",
              " 'com',\n",
              " 'o',\n",
              " 'uso',\n",
              " 'de',\n",
              " 'técnicas',\n",
              " 'de',\n",
              " 'inteligência',\n",
              " 'artificial',\n",
              " '.',\n",
              " 'Este',\n",
              " 'trabalho',\n",
              " 'focou',\n",
              " 'em',\n",
              " 'levantar',\n",
              " 'dados',\n",
              " 'de',\n",
              " 'uma',\n",
              " '“',\n",
              " 'fintech',\n",
              " '”',\n",
              " 'e',\n",
              " 'demonstrar',\n",
              " 'um',\n",
              " 'processo',\n",
              " 'anti-fraude',\n",
              " 'alcançado',\n",
              " 'por',\n",
              " 'aprendizado',\n",
              " 'de',\n",
              " 'máquina',\n",
              " '.',\n",
              " 'Houve',\n",
              " 'toda',\n",
              " 'uma',\n",
              " 'preocupação',\n",
              " 'com',\n",
              " 'a',\n",
              " 'privacidade',\n",
              " 'de',\n",
              " 'dados',\n",
              " ',',\n",
              " 'conforme',\n",
              " 'a',\n",
              " 'Lei',\n",
              " 'Geral',\n",
              " 'de',\n",
              " 'Proteção',\n",
              " 'de',\n",
              " 'Dados',\n",
              " ',',\n",
              " 'utilizando-se',\n",
              " 'de',\n",
              " 'técnicas',\n",
              " 'para',\n",
              " 'produzir',\n",
              " 'ruídos',\n",
              " 'de',\n",
              " 'dados',\n",
              " 'sem',\n",
              " 'prejudicar',\n",
              " 'os',\n",
              " 'dados',\n",
              " 'estatisticamente',\n",
              " '.',\n",
              " 'Após',\n",
              " 'a',\n",
              " 'coleta',\n",
              " 'de',\n",
              " 'dados',\n",
              " ',',\n",
              " 'foram',\n",
              " 'aplicadas',\n",
              " 'as',\n",
              " 'técnicas',\n",
              " 'estatísticas',\n",
              " 'para',\n",
              " 'pré-processamento',\n",
              " ',',\n",
              " 'normalização',\n",
              " 'e',\n",
              " 'padronização',\n",
              " '.',\n",
              " 'Todo',\n",
              " 'o',\n",
              " 'estudo',\n",
              " 'foi',\n",
              " 'feito',\n",
              " 'em',\n",
              " 'linguagem',\n",
              " 'de',\n",
              " 'programação',\n",
              " 'e',\n",
              " 'o',\n",
              " 'modelo',\n",
              " 'foi',\n",
              " 'testado',\n",
              " 'até',\n",
              " 'chegar',\n",
              " 'ao',\n",
              " 'que',\n",
              " 'consideramos',\n",
              " 'ideal',\n",
              " 'por',\n",
              " 'conseguir',\n",
              " 'atingir',\n",
              " 'um',\n",
              " 'percentual',\n",
              " 'alto',\n",
              " 'de',\n",
              " 'acerto',\n",
              " 'ao',\n",
              " 'detectar',\n",
              " 'fraudes',\n",
              " 'em',\n",
              " 'dados',\n",
              " 'financeiros',\n",
              " 'usando',\n",
              " 'inteligência',\n",
              " 'artificial']"
            ]
          },
          "metadata": {},
          "execution_count": 16
        }
      ]
    },
    {
      "cell_type": "code",
      "source": [
        "from collections import Counter\n",
        "\n",
        "# Saber quantos Tokens (palavras)\n",
        "Counter(tokens)"
      ],
      "metadata": {
        "colab": {
          "base_uri": "https://localhost:8080/"
        },
        "id": "aAcmSYWGBnQv",
        "outputId": "90581793-664b-42a4-8a20-31a6ddc00107"
      },
      "execution_count": null,
      "outputs": [
        {
          "output_type": "execute_result",
          "data": {
            "text/plain": [
              "Counter({',': 9,\n",
              "         '.': 6,\n",
              "         'Após': 1,\n",
              "         'Dados': 1,\n",
              "         'Este': 1,\n",
              "         'Geral': 1,\n",
              "         'Houve': 1,\n",
              "         'Inovações': 1,\n",
              "         'Lei': 1,\n",
              "         'O': 1,\n",
              "         'Proteção': 1,\n",
              "         'Todo': 1,\n",
              "         'Um': 1,\n",
              "         'a': 4,\n",
              "         'acerto': 1,\n",
              "         'alcançado': 1,\n",
              "         'alto': 1,\n",
              "         'anti-fraude': 1,\n",
              "         'análise': 2,\n",
              "         'ao': 2,\n",
              "         'aplicadas': 1,\n",
              "         'aprendido': 1,\n",
              "         'aprendizado': 1,\n",
              "         'artificial': 2,\n",
              "         'as': 1,\n",
              "         'atingir': 1,\n",
              "         'até': 1,\n",
              "         'big': 1,\n",
              "         'chegar': 1,\n",
              "         'coleta': 1,\n",
              "         'coletados': 1,\n",
              "         'com': 2,\n",
              "         'complexo': 1,\n",
              "         'conforme': 1,\n",
              "         'conseguir': 1,\n",
              "         'consideramos': 1,\n",
              "         'da': 1,\n",
              "         'dados': 9,\n",
              "         'data': 1,\n",
              "         'de': 17,\n",
              "         'demonstrar': 1,\n",
              "         'destinado': 1,\n",
              "         'detectar': 1,\n",
              "         'dispendioso': 1,\n",
              "         'e': 8,\n",
              "         'em': 4,\n",
              "         'equipe': 1,\n",
              "         'estatisticamente': 1,\n",
              "         'estatísticas': 1,\n",
              "         'estudo': 1,\n",
              "         'facilmente': 1,\n",
              "         'feito': 1,\n",
              "         'financeira': 1,\n",
              "         'financeiros': 1,\n",
              "         'fintech': 1,\n",
              "         'focou': 1,\n",
              "         'foi': 2,\n",
              "         'fontes': 1,\n",
              "         'foram': 1,\n",
              "         'formatos': 1,\n",
              "         'fraudes': 1,\n",
              "         'gerenciar': 1,\n",
              "         'grande': 1,\n",
              "         'ideal': 1,\n",
              "         'inteligência': 2,\n",
              "         'levantar': 1,\n",
              "         'linguagem': 1,\n",
              "         'modelo': 1,\n",
              "         'máquina': 1,\n",
              "         'máquinas': 1,\n",
              "         'na': 1,\n",
              "         'normalização': 1,\n",
              "         'o': 3,\n",
              "         'os': 1,\n",
              "         'padronização': 1,\n",
              "         'para': 2,\n",
              "         'passam': 1,\n",
              "         'pela': 2,\n",
              "         'percentual': 1,\n",
              "         'permitiu': 1,\n",
              "         'pessoais': 1,\n",
              "         'pessoas': 1,\n",
              "         'pode': 1,\n",
              "         'por': 3,\n",
              "         'prejudicar': 1,\n",
              "         'preocupação': 1,\n",
              "         'privacidade': 1,\n",
              "         'processado': 1,\n",
              "         'processo': 2,\n",
              "         'processá-los': 1,\n",
              "         'produzir': 1,\n",
              "         'programação': 1,\n",
              "         'proteção': 1,\n",
              "         'pré-processamento': 1,\n",
              "         'que': 1,\n",
              "         'rapidamente': 1,\n",
              "         'reduzida': 1,\n",
              "         'ruídos': 1,\n",
              "         'se': 1,\n",
              "         'sem': 1,\n",
              "         'ser': 1,\n",
              "         'testado': 1,\n",
              "         'toda': 1,\n",
              "         'trabalho': 1,\n",
              "         'técnicas': 3,\n",
              "         'um': 2,\n",
              "         'uma': 3,\n",
              "         'usando': 1,\n",
              "         'uso': 2,\n",
              "         'utilizando-se': 1,\n",
              "         'volume': 1,\n",
              "         'vários': 1,\n",
              "         'área': 1,\n",
              "         '—': 2,\n",
              "         '“': 2,\n",
              "         '”': 2})"
            ]
          },
          "metadata": {},
          "execution_count": 17
        }
      ]
    },
    {
      "cell_type": "code",
      "source": [
        "#Ordem decrescente dos tokens\n",
        "\n",
        "#Tem diferença de CASE\n",
        "\n",
        "Counter(tokens).most_common()"
      ],
      "metadata": {
        "colab": {
          "base_uri": "https://localhost:8080/"
        },
        "id": "kKidXPqcBrIF",
        "outputId": "88cafab3-7f30-4401-ec6c-8fb027abfe35"
      },
      "execution_count": null,
      "outputs": [
        {
          "output_type": "execute_result",
          "data": {
            "text/plain": [
              "[('de', 17),\n",
              " ('dados', 9),\n",
              " (',', 9),\n",
              " ('e', 8),\n",
              " ('.', 6),\n",
              " ('em', 4),\n",
              " ('a', 4),\n",
              " ('uma', 3),\n",
              " ('por', 3),\n",
              " ('o', 3),\n",
              " ('técnicas', 3),\n",
              " ('pela', 2),\n",
              " ('análise', 2),\n",
              " ('uso', 2),\n",
              " ('“', 2),\n",
              " ('”', 2),\n",
              " ('—', 2),\n",
              " ('processo', 2),\n",
              " ('com', 2),\n",
              " ('inteligência', 2),\n",
              " ('artificial', 2),\n",
              " ('um', 2),\n",
              " ('para', 2),\n",
              " ('foi', 2),\n",
              " ('ao', 2),\n",
              " ('Inovações', 1),\n",
              " ('na', 1),\n",
              " ('área', 1),\n",
              " ('financeira', 1),\n",
              " ('passam', 1),\n",
              " ('proteção', 1),\n",
              " ('pessoais', 1),\n",
              " ('O', 1),\n",
              " ('da', 1),\n",
              " ('big', 1),\n",
              " ('data', 1),\n",
              " ('permitiu', 1),\n",
              " ('gerenciar', 1),\n",
              " ('grande', 1),\n",
              " ('volume', 1),\n",
              " ('coletados', 1),\n",
              " ('vários', 1),\n",
              " ('formatos', 1),\n",
              " ('fontes', 1),\n",
              " ('processá-los', 1),\n",
              " ('rapidamente', 1),\n",
              " ('Um', 1),\n",
              " ('complexo', 1),\n",
              " ('dispendioso', 1),\n",
              " ('se', 1),\n",
              " ('destinado', 1),\n",
              " ('reduzida', 1),\n",
              " ('equipe', 1),\n",
              " ('pessoas', 1),\n",
              " ('pode', 1),\n",
              " ('facilmente', 1),\n",
              " ('ser', 1),\n",
              " ('aprendido', 1),\n",
              " ('processado', 1),\n",
              " ('máquinas', 1),\n",
              " ('Este', 1),\n",
              " ('trabalho', 1),\n",
              " ('focou', 1),\n",
              " ('levantar', 1),\n",
              " ('fintech', 1),\n",
              " ('demonstrar', 1),\n",
              " ('anti-fraude', 1),\n",
              " ('alcançado', 1),\n",
              " ('aprendizado', 1),\n",
              " ('máquina', 1),\n",
              " ('Houve', 1),\n",
              " ('toda', 1),\n",
              " ('preocupação', 1),\n",
              " ('privacidade', 1),\n",
              " ('conforme', 1),\n",
              " ('Lei', 1),\n",
              " ('Geral', 1),\n",
              " ('Proteção', 1),\n",
              " ('Dados', 1),\n",
              " ('utilizando-se', 1),\n",
              " ('produzir', 1),\n",
              " ('ruídos', 1),\n",
              " ('sem', 1),\n",
              " ('prejudicar', 1),\n",
              " ('os', 1),\n",
              " ('estatisticamente', 1),\n",
              " ('Após', 1),\n",
              " ('coleta', 1),\n",
              " ('foram', 1),\n",
              " ('aplicadas', 1),\n",
              " ('as', 1),\n",
              " ('estatísticas', 1),\n",
              " ('pré-processamento', 1),\n",
              " ('normalização', 1),\n",
              " ('padronização', 1),\n",
              " ('Todo', 1),\n",
              " ('estudo', 1),\n",
              " ('feito', 1),\n",
              " ('linguagem', 1),\n",
              " ('programação', 1),\n",
              " ('modelo', 1),\n",
              " ('testado', 1),\n",
              " ('até', 1),\n",
              " ('chegar', 1),\n",
              " ('que', 1),\n",
              " ('consideramos', 1),\n",
              " ('ideal', 1),\n",
              " ('conseguir', 1),\n",
              " ('atingir', 1),\n",
              " ('percentual', 1),\n",
              " ('alto', 1),\n",
              " ('acerto', 1),\n",
              " ('detectar', 1),\n",
              " ('fraudes', 1),\n",
              " ('financeiros', 1),\n",
              " ('usando', 1)]"
            ]
          },
          "metadata": {},
          "execution_count": 18
        }
      ]
    },
    {
      "cell_type": "markdown",
      "source": [
        "**Os tokens que mais aparecem**"
      ],
      "metadata": {
        "id": "Ryi0F58KCw7s"
      }
    },
    {
      "cell_type": "code",
      "source": [
        "Counter(tokens).most_common(5)"
      ],
      "metadata": {
        "colab": {
          "base_uri": "https://localhost:8080/"
        },
        "id": "M79VAqy3CEQY",
        "outputId": "1f860e4f-9d8a-4aa0-fed2-fad819191059"
      },
      "execution_count": null,
      "outputs": [
        {
          "output_type": "execute_result",
          "data": {
            "text/plain": [
              "[('de', 17), ('dados', 9), (',', 9), ('e', 8), ('.', 6)]"
            ]
          },
          "metadata": {},
          "execution_count": 19
        }
      ]
    },
    {
      "cell_type": "markdown",
      "source": [
        "Lei de Zift"
      ],
      "metadata": {
        "id": "Jt7AbDi1C1-7"
      }
    },
    {
      "cell_type": "code",
      "source": [
        "# transformar as palavras em minúsculo\n",
        "\n",
        "tokens_pre_processados = [token.orth_.lower for token in doc]"
      ],
      "metadata": {
        "id": "n4v9DOIgCr48"
      },
      "execution_count": null,
      "outputs": []
    },
    {
      "cell_type": "code",
      "source": [
        "# Eliminar as pontuações\n",
        "tokens_pre_processados = [token.orth_.lower() for token in doc if token.is_alpha]\n",
        "tokens_pre_processados"
      ],
      "metadata": {
        "colab": {
          "base_uri": "https://localhost:8080/"
        },
        "id": "gzW0UdpYDczv",
        "outputId": "67716147-2cfa-44d5-82c9-9204ce99c4f7"
      },
      "execution_count": null,
      "outputs": [
        {
          "output_type": "execute_result",
          "data": {
            "text/plain": [
              "['inovações',\n",
              " 'na',\n",
              " 'área',\n",
              " 'financeira',\n",
              " 'passam',\n",
              " 'pela',\n",
              " 'análise',\n",
              " 'de',\n",
              " 'dados',\n",
              " 'e',\n",
              " 'pela',\n",
              " 'proteção',\n",
              " 'de',\n",
              " 'dados',\n",
              " 'pessoais',\n",
              " 'o',\n",
              " 'uso',\n",
              " 'da',\n",
              " 'big',\n",
              " 'data',\n",
              " 'permitiu',\n",
              " 'gerenciar',\n",
              " 'grande',\n",
              " 'volume',\n",
              " 'de',\n",
              " 'dados',\n",
              " 'coletados',\n",
              " 'em',\n",
              " 'vários',\n",
              " 'formatos',\n",
              " 'e',\n",
              " 'fontes',\n",
              " 'e',\n",
              " 'rapidamente',\n",
              " 'um',\n",
              " 'processo',\n",
              " 'de',\n",
              " 'análise',\n",
              " 'complexo',\n",
              " 'e',\n",
              " 'dispendioso',\n",
              " 'se',\n",
              " 'destinado',\n",
              " 'a',\n",
              " 'uma',\n",
              " 'reduzida',\n",
              " 'equipe',\n",
              " 'de',\n",
              " 'pessoas',\n",
              " 'pode',\n",
              " 'facilmente',\n",
              " 'ser',\n",
              " 'aprendido',\n",
              " 'e',\n",
              " 'processado',\n",
              " 'por',\n",
              " 'máquinas',\n",
              " 'com',\n",
              " 'o',\n",
              " 'uso',\n",
              " 'de',\n",
              " 'técnicas',\n",
              " 'de',\n",
              " 'inteligência',\n",
              " 'artificial',\n",
              " 'este',\n",
              " 'trabalho',\n",
              " 'focou',\n",
              " 'em',\n",
              " 'levantar',\n",
              " 'dados',\n",
              " 'de',\n",
              " 'uma',\n",
              " 'fintech',\n",
              " 'e',\n",
              " 'demonstrar',\n",
              " 'um',\n",
              " 'processo',\n",
              " 'alcançado',\n",
              " 'por',\n",
              " 'aprendizado',\n",
              " 'de',\n",
              " 'máquina',\n",
              " 'houve',\n",
              " 'toda',\n",
              " 'uma',\n",
              " 'preocupação',\n",
              " 'com',\n",
              " 'a',\n",
              " 'privacidade',\n",
              " 'de',\n",
              " 'dados',\n",
              " 'conforme',\n",
              " 'a',\n",
              " 'lei',\n",
              " 'geral',\n",
              " 'de',\n",
              " 'proteção',\n",
              " 'de',\n",
              " 'dados',\n",
              " 'de',\n",
              " 'técnicas',\n",
              " 'para',\n",
              " 'produzir',\n",
              " 'ruídos',\n",
              " 'de',\n",
              " 'dados',\n",
              " 'sem',\n",
              " 'prejudicar',\n",
              " 'os',\n",
              " 'dados',\n",
              " 'estatisticamente',\n",
              " 'após',\n",
              " 'a',\n",
              " 'coleta',\n",
              " 'de',\n",
              " 'dados',\n",
              " 'foram',\n",
              " 'aplicadas',\n",
              " 'as',\n",
              " 'técnicas',\n",
              " 'estatísticas',\n",
              " 'para',\n",
              " 'normalização',\n",
              " 'e',\n",
              " 'padronização',\n",
              " 'todo',\n",
              " 'o',\n",
              " 'estudo',\n",
              " 'foi',\n",
              " 'feito',\n",
              " 'em',\n",
              " 'linguagem',\n",
              " 'de',\n",
              " 'programação',\n",
              " 'e',\n",
              " 'o',\n",
              " 'modelo',\n",
              " 'foi',\n",
              " 'testado',\n",
              " 'até',\n",
              " 'chegar',\n",
              " 'ao',\n",
              " 'que',\n",
              " 'consideramos',\n",
              " 'ideal',\n",
              " 'por',\n",
              " 'conseguir',\n",
              " 'atingir',\n",
              " 'um',\n",
              " 'percentual',\n",
              " 'alto',\n",
              " 'de',\n",
              " 'acerto',\n",
              " 'ao',\n",
              " 'detectar',\n",
              " 'fraudes',\n",
              " 'em',\n",
              " 'dados',\n",
              " 'financeiros',\n",
              " 'usando',\n",
              " 'inteligência',\n",
              " 'artificial']"
            ]
          },
          "metadata": {},
          "execution_count": 21
        }
      ]
    },
    {
      "cell_type": "code",
      "source": [
        "import matplotlib.pyplot as plt\n",
        "\n",
        "x=[]\n",
        "y=[]\n",
        "\n",
        "\n",
        "for i in Counter(tokens_pre_processados).most_common():\n",
        "  x.append(i[0])\n",
        "  y.append(i[1])\n",
        "\n",
        "plt.xticks(rotation=90)\n",
        "plt.xticks(range(len(x)),x)\n",
        "plt.plot(y)\n",
        "\n",
        "plt.show()\n"
      ],
      "metadata": {
        "colab": {
          "base_uri": "https://localhost:8080/",
          "height": 339
        },
        "id": "m0cvuEJXDnog",
        "outputId": "60e33ea1-bc55-4ab9-ae74-a489e64299c1"
      },
      "execution_count": null,
      "outputs": [
        {
          "output_type": "display_data",
          "data": {
            "text/plain": [
              "<Figure size 432x288 with 1 Axes>"
            ],
            "image/png": "[encoded data removed]"
          },
          "metadata": {
            "needs_background": "light"
          }
        }
      ]
    },
    {
      "cell_type": "markdown",
      "source": [
        "TTR  - Palavras únicas (mais ricas lexicamente)"
      ],
      "metadata": {
        "id": "FE0-jwVhFzU_"
      }
    },
    {
      "cell_type": "code",
      "source": [
        "# função set() corta repetições\n",
        "types = list(set(tokens_pre_processados))\n",
        "types"
      ],
      "metadata": {
        "colab": {
          "base_uri": "https://localhost:8080/"
        },
        "id": "DP1wb0mMFpfy",
        "outputId": "9cfcceaf-6d28-4309-a535-0f25aefd6c25"
      },
      "execution_count": null,
      "outputs": [
        {
          "output_type": "execute_result",
          "data": {
            "text/plain": [
              "['complexo',\n",
              " 'pessoas',\n",
              " 'aplicadas',\n",
              " 'atingir',\n",
              " 'facilmente',\n",
              " 'processado',\n",
              " 'levantar',\n",
              " 'lei',\n",
              " 'geral',\n",
              " 'normalização',\n",
              " 'e',\n",
              " 'testado',\n",
              " 'ao',\n",
              " 'rapidamente',\n",
              " 'padronização',\n",
              " 'inovações',\n",
              " 'foi',\n",
              " 'técnicas',\n",
              " 'por',\n",
              " 'estatisticamente',\n",
              " 'percentual',\n",
              " 'chegar',\n",
              " 'a',\n",
              " 'reduzida',\n",
              " 'acerto',\n",
              " 'aprendido',\n",
              " 'passam',\n",
              " 'privacidade',\n",
              " 'volume',\n",
              " 'fraudes',\n",
              " 'coleta',\n",
              " 'big',\n",
              " 'um',\n",
              " 'trabalho',\n",
              " 'alcançado',\n",
              " 'formatos',\n",
              " 'conseguir',\n",
              " 'demonstrar',\n",
              " 'foram',\n",
              " 'processo',\n",
              " 'proteção',\n",
              " 'pode',\n",
              " 'aprendizado',\n",
              " 'conforme',\n",
              " 'artificial',\n",
              " 'se',\n",
              " 'linguagem',\n",
              " 'todo',\n",
              " 'este',\n",
              " 'uso',\n",
              " 'uma',\n",
              " 'financeira',\n",
              " 'pessoais',\n",
              " 'modelo',\n",
              " 'de',\n",
              " 'após',\n",
              " 'produzir',\n",
              " 'equipe',\n",
              " 'ser',\n",
              " 'inteligência',\n",
              " 'com',\n",
              " 'estudo',\n",
              " 'programação',\n",
              " 'na',\n",
              " 'máquina',\n",
              " 'focou',\n",
              " 'ruídos',\n",
              " 'destinado',\n",
              " 'em',\n",
              " 'financeiros',\n",
              " 'fintech',\n",
              " 'que',\n",
              " 'grande',\n",
              " 'vários',\n",
              " 'preocupação',\n",
              " 'consideramos',\n",
              " 'pela',\n",
              " 'sem',\n",
              " 'usando',\n",
              " 'dados',\n",
              " 'feito',\n",
              " 'área',\n",
              " 'o',\n",
              " 'alto',\n",
              " 'análise',\n",
              " 'data',\n",
              " 'estatísticas',\n",
              " 'ideal',\n",
              " 'toda',\n",
              " 'prejudicar',\n",
              " 'permitiu',\n",
              " 'até',\n",
              " 'fontes',\n",
              " 'dispendioso',\n",
              " 'máquinas',\n",
              " 'os',\n",
              " 'houve',\n",
              " 'detectar',\n",
              " 'as',\n",
              " 'gerenciar',\n",
              " 'da',\n",
              " 'coletados',\n",
              " 'para']"
            ]
          },
          "metadata": {},
          "execution_count": 23
        }
      ]
    },
    {
      "cell_type": "code",
      "source": [
        "# Quanto mais próximo de 1, maisrico é o texto\n",
        "ttr = len(types) / len(tokens_pre_processados)\n",
        "ttr "
      ],
      "metadata": {
        "colab": {
          "base_uri": "https://localhost:8080/"
        },
        "id": "yD49BeMRGNlR",
        "outputId": "eee06abd-8858-42ef-9715-5a644b0674a9"
      },
      "execution_count": null,
      "outputs": [
        {
          "output_type": "execute_result",
          "data": {
            "text/plain": [
              "0.6319018404907976"
            ]
          },
          "metadata": {},
          "execution_count": 24
        }
      ]
    },
    {
      "cell_type": "markdown",
      "source": [
        "**Tagger - Etiquetador**\n",
        "\n",
        "Classes Gramaticais"
      ],
      "metadata": {
        "id": "FE5xFlXzIkIg"
      }
    },
    {
      "cell_type": "code",
      "source": [
        "#pos = part of speech\n",
        "# Se não encontrar a classe gramatical, ele usa X\n",
        "etiquetas = [(token.orth_,token.pos_) for token in doc]\n",
        "etiquetas "
      ],
      "metadata": {
        "colab": {
          "base_uri": "https://localhost:8080/"
        },
        "id": "bD28IdNBGbC-",
        "outputId": "dfc78485-e2e0-4829-d3fd-83f62caf315e"
      },
      "execution_count": null,
      "outputs": [
        {
          "output_type": "execute_result",
          "data": {
            "text/plain": [
              "[('Inovações', 'NOUN'),\n",
              " ('na', 'ADP'),\n",
              " ('área', 'NOUN'),\n",
              " ('financeira', 'ADJ'),\n",
              " ('passam', 'VERB'),\n",
              " ('pela', 'ADP'),\n",
              " ('análise', 'NOUN'),\n",
              " ('de', 'ADP'),\n",
              " ('dados', 'NOUN'),\n",
              " ('e', 'CCONJ'),\n",
              " ('pela', 'ADP'),\n",
              " ('proteção', 'NOUN'),\n",
              " ('de', 'ADP'),\n",
              " ('dados', 'NOUN'),\n",
              " ('pessoais', 'ADJ'),\n",
              " ('.', 'PUNCT'),\n",
              " ('O', 'DET'),\n",
              " ('uso', 'NOUN'),\n",
              " ('da', 'ADP'),\n",
              " ('“', 'PUNCT'),\n",
              " ('big', 'X'),\n",
              " ('data', 'NOUN'),\n",
              " ('”', 'PUNCT'),\n",
              " ('permitiu', 'VERB'),\n",
              " ('gerenciar', 'VERB'),\n",
              " ('grande', 'ADJ'),\n",
              " ('volume', 'NOUN'),\n",
              " ('de', 'ADP'),\n",
              " ('dados', 'NOUN'),\n",
              " ('—', 'PUNCT'),\n",
              " ('coletados', 'VERB'),\n",
              " ('em', 'ADP'),\n",
              " ('vários', 'DET'),\n",
              " ('formatos', 'NOUN'),\n",
              " ('e', 'CCONJ'),\n",
              " ('fontes', 'NOUN'),\n",
              " ('—', 'PUNCT'),\n",
              " (',', 'PUNCT'),\n",
              " ('e', 'CCONJ'),\n",
              " ('processá-los', 'VERB'),\n",
              " ('rapidamente', 'ADV'),\n",
              " ('.', 'PUNCT'),\n",
              " ('Um', 'DET'),\n",
              " ('processo', 'NOUN'),\n",
              " ('de', 'ADP'),\n",
              " ('análise', 'NOUN'),\n",
              " (',', 'PUNCT'),\n",
              " ('complexo', 'ADJ'),\n",
              " ('e', 'CCONJ'),\n",
              " ('dispendioso', 'ADJ'),\n",
              " (',', 'PUNCT'),\n",
              " ('se', 'SCONJ'),\n",
              " ('destinado', 'VERB'),\n",
              " ('a', 'ADP'),\n",
              " ('uma', 'DET'),\n",
              " ('reduzida', 'VERB'),\n",
              " ('equipe', 'NOUN'),\n",
              " ('de', 'ADP'),\n",
              " ('pessoas', 'NOUN'),\n",
              " (',', 'PUNCT'),\n",
              " ('pode', 'VERB'),\n",
              " ('facilmente', 'ADV'),\n",
              " ('ser', 'AUX'),\n",
              " ('aprendido', 'VERB'),\n",
              " ('e', 'CCONJ'),\n",
              " ('processado', 'VERB'),\n",
              " ('por', 'ADP'),\n",
              " ('máquinas', 'NOUN'),\n",
              " (',', 'PUNCT'),\n",
              " ('com', 'ADP'),\n",
              " ('o', 'DET'),\n",
              " ('uso', 'NOUN'),\n",
              " ('de', 'ADP'),\n",
              " ('técnicas', 'NOUN'),\n",
              " ('de', 'ADP'),\n",
              " ('inteligência', 'NOUN'),\n",
              " ('artificial', 'ADJ'),\n",
              " ('.', 'PUNCT'),\n",
              " ('Este', 'DET'),\n",
              " ('trabalho', 'NOUN'),\n",
              " ('focou', 'VERB'),\n",
              " ('em', 'SCONJ'),\n",
              " ('levantar', 'VERB'),\n",
              " ('dados', 'NOUN'),\n",
              " ('de', 'ADP'),\n",
              " ('uma', 'DET'),\n",
              " ('“', 'PUNCT'),\n",
              " ('fintech', 'NOUN'),\n",
              " ('”', 'PUNCT'),\n",
              " ('e', 'CCONJ'),\n",
              " ('demonstrar', 'VERB'),\n",
              " ('um', 'DET'),\n",
              " ('processo', 'NOUN'),\n",
              " ('anti-fraude', 'ADJ'),\n",
              " ('alcançado', 'VERB'),\n",
              " ('por', 'ADP'),\n",
              " ('aprendizado', 'NOUN'),\n",
              " ('de', 'ADP'),\n",
              " ('máquina', 'NOUN'),\n",
              " ('.', 'PUNCT'),\n",
              " ('Houve', 'VERB'),\n",
              " ('toda', 'DET'),\n",
              " ('uma', 'DET'),\n",
              " ('preocupação', 'NOUN'),\n",
              " ('com', 'ADP'),\n",
              " ('a', 'DET'),\n",
              " ('privacidade', 'NOUN'),\n",
              " ('de', 'ADP'),\n",
              " ('dados', 'NOUN'),\n",
              " (',', 'PUNCT'),\n",
              " ('conforme', 'ADP'),\n",
              " ('a', 'DET'),\n",
              " ('Lei', 'PROPN'),\n",
              " ('Geral', 'PROPN'),\n",
              " ('de', 'ADP'),\n",
              " ('Proteção', 'PROPN'),\n",
              " ('de', 'ADP'),\n",
              " ('Dados', 'NOUN'),\n",
              " (',', 'PUNCT'),\n",
              " ('utilizando-se', 'VERB'),\n",
              " ('de', 'ADP'),\n",
              " ('técnicas', 'NOUN'),\n",
              " ('para', 'SCONJ'),\n",
              " ('produzir', 'VERB'),\n",
              " ('ruídos', 'NOUN'),\n",
              " ('de', 'ADP'),\n",
              " ('dados', 'NOUN'),\n",
              " ('sem', 'SCONJ'),\n",
              " ('prejudicar', 'VERB'),\n",
              " ('os', 'DET'),\n",
              " ('dados', 'NOUN'),\n",
              " ('estatisticamente', 'ADV'),\n",
              " ('.', 'PUNCT'),\n",
              " ('Após', 'ADP'),\n",
              " ('a', 'DET'),\n",
              " ('coleta', 'NOUN'),\n",
              " ('de', 'ADP'),\n",
              " ('dados', 'NOUN'),\n",
              " (',', 'PUNCT'),\n",
              " ('foram', 'AUX'),\n",
              " ('aplicadas', 'VERB'),\n",
              " ('as', 'DET'),\n",
              " ('técnicas', 'NOUN'),\n",
              " ('estatísticas', 'ADJ'),\n",
              " ('para', 'ADP'),\n",
              " ('pré-processamento', 'NOUN'),\n",
              " (',', 'PUNCT'),\n",
              " ('normalização', 'NOUN'),\n",
              " ('e', 'CCONJ'),\n",
              " ('padronização', 'NOUN'),\n",
              " ('.', 'PUNCT'),\n",
              " ('Todo', 'DET'),\n",
              " ('o', 'DET'),\n",
              " ('estudo', 'NOUN'),\n",
              " ('foi', 'AUX'),\n",
              " ('feito', 'VERB'),\n",
              " ('em', 'ADP'),\n",
              " ('linguagem', 'NOUN'),\n",
              " ('de', 'ADP'),\n",
              " ('programação', 'NOUN'),\n",
              " ('e', 'CCONJ'),\n",
              " ('o', 'DET'),\n",
              " ('modelo', 'NOUN'),\n",
              " ('foi', 'AUX'),\n",
              " ('testado', 'VERB'),\n",
              " ('até', 'SCONJ'),\n",
              " ('chegar', 'VERB'),\n",
              " ('ao', 'PRON'),\n",
              " ('que', 'PRON'),\n",
              " ('consideramos', 'VERB'),\n",
              " ('ideal', 'ADJ'),\n",
              " ('por', 'SCONJ'),\n",
              " ('conseguir', 'VERB'),\n",
              " ('atingir', 'VERB'),\n",
              " ('um', 'DET'),\n",
              " ('percentual', 'NOUN'),\n",
              " ('alto', 'ADJ'),\n",
              " ('de', 'ADP'),\n",
              " ('acerto', 'NOUN'),\n",
              " ('ao', 'SCONJ'),\n",
              " ('detectar', 'VERB'),\n",
              " ('fraudes', 'NOUN'),\n",
              " ('em', 'ADP'),\n",
              " ('dados', 'NOUN'),\n",
              " ('financeiros', 'ADJ'),\n",
              " ('usando', 'VERB'),\n",
              " ('inteligência', 'NOUN'),\n",
              " ('artificial', 'ADJ')]"
            ]
          },
          "metadata": {},
          "execution_count": 25
        }
      ]
    },
    {
      "cell_type": "code",
      "source": [
        "classes_gramaticais = []\n",
        "\n",
        "for i in etiquetas:\n",
        "  classes_gramaticais.append(i[1])\n",
        "\n",
        "Counter(classes_gramaticais).most_common()"
      ],
      "metadata": {
        "colab": {
          "base_uri": "https://localhost:8080/"
        },
        "id": "hZSnIvDSJGHE",
        "outputId": "9646f58c-bd53-40f3-ed23-ab30dd479acf"
      },
      "execution_count": null,
      "outputs": [
        {
          "output_type": "execute_result",
          "data": {
            "text/plain": [
              "[('NOUN', 49),\n",
              " ('ADP', 32),\n",
              " ('VERB', 27),\n",
              " ('PUNCT', 21),\n",
              " ('DET', 19),\n",
              " ('ADJ', 12),\n",
              " ('CCONJ', 8),\n",
              " ('SCONJ', 7),\n",
              " ('AUX', 4),\n",
              " ('ADV', 3),\n",
              " ('PROPN', 3),\n",
              " ('PRON', 2),\n",
              " ('X', 1)]"
            ]
          },
          "metadata": {},
          "execution_count": 26
        }
      ]
    },
    {
      "cell_type": "markdown",
      "source": [
        "# **Parser Sintático**"
      ],
      "metadata": {
        "id": "-VTAO3K3KIWO"
      }
    },
    {
      "cell_type": "markdown",
      "source": [
        "**Análise de dependência**"
      ],
      "metadata": {
        "id": "U9NzM7d5AIHG"
      }
    },
    {
      "cell_type": "code",
      "source": [
        "analise_dependencia = [(token.orth_,token.dep_) for token in doc]\n",
        "analise_dependencia"
      ],
      "metadata": {
        "colab": {
          "base_uri": "https://localhost:8080/"
        },
        "id": "mA8dY_0oJ5Jb",
        "outputId": "de2dce2e-8815-4ce7-bb86-4aac4916919a"
      },
      "execution_count": null,
      "outputs": [
        {
          "output_type": "execute_result",
          "data": {
            "text/plain": [
              "[('Inovações', 'nsubj'),\n",
              " ('na', 'case'),\n",
              " ('área', 'nmod'),\n",
              " ('financeira', 'amod'),\n",
              " ('passam', 'ROOT'),\n",
              " ('pela', 'case'),\n",
              " ('análise', 'obl'),\n",
              " ('de', 'case'),\n",
              " ('dados', 'nmod'),\n",
              " ('e', 'cc'),\n",
              " ('pela', 'case'),\n",
              " ('proteção', 'conj'),\n",
              " ('de', 'case'),\n",
              " ('dados', 'nmod'),\n",
              " ('pessoais', 'amod'),\n",
              " ('.', 'punct'),\n",
              " ('O', 'det'),\n",
              " ('uso', 'nsubj'),\n",
              " ('da', 'case'),\n",
              " ('“', 'punct'),\n",
              " ('big', 'nmod'),\n",
              " ('data', 'nmod'),\n",
              " ('”', 'punct'),\n",
              " ('permitiu', 'ROOT'),\n",
              " ('gerenciar', 'xcomp'),\n",
              " ('grande', 'amod'),\n",
              " ('volume', 'obj'),\n",
              " ('de', 'case'),\n",
              " ('dados', 'nmod'),\n",
              " ('—', 'punct'),\n",
              " ('coletados', 'acl'),\n",
              " ('em', 'case'),\n",
              " ('vários', 'det'),\n",
              " ('formatos', 'obl'),\n",
              " ('e', 'cc'),\n",
              " ('fontes', 'conj'),\n",
              " ('—', 'punct'),\n",
              " (',', 'punct'),\n",
              " ('e', 'cc'),\n",
              " ('processá-los', 'conj'),\n",
              " ('rapidamente', 'advmod'),\n",
              " ('.', 'punct'),\n",
              " ('Um', 'det'),\n",
              " ('processo', 'nsubj:pass'),\n",
              " ('de', 'case'),\n",
              " ('análise', 'nmod'),\n",
              " (',', 'punct'),\n",
              " ('complexo', 'conj'),\n",
              " ('e', 'cc'),\n",
              " ('dispendioso', 'conj'),\n",
              " (',', 'punct'),\n",
              " ('se', 'mark'),\n",
              " ('destinado', 'acl'),\n",
              " ('a', 'case'),\n",
              " ('uma', 'det'),\n",
              " ('reduzida', 'acl'),\n",
              " ('equipe', 'obj'),\n",
              " ('de', 'case'),\n",
              " ('pessoas', 'nmod'),\n",
              " (',', 'punct'),\n",
              " ('pode', 'ROOT'),\n",
              " ('facilmente', 'advmod'),\n",
              " ('ser', 'aux:pass'),\n",
              " ('aprendido', 'xcomp'),\n",
              " ('e', 'cc'),\n",
              " ('processado', 'conj'),\n",
              " ('por', 'case'),\n",
              " ('máquinas', 'obl:agent'),\n",
              " (',', 'punct'),\n",
              " ('com', 'case'),\n",
              " ('o', 'det'),\n",
              " ('uso', 'obl'),\n",
              " ('de', 'case'),\n",
              " ('técnicas', 'nmod'),\n",
              " ('de', 'case'),\n",
              " ('inteligência', 'nmod'),\n",
              " ('artificial', 'amod'),\n",
              " ('.', 'punct'),\n",
              " ('Este', 'det'),\n",
              " ('trabalho', 'nsubj'),\n",
              " ('focou', 'ROOT'),\n",
              " ('em', 'mark'),\n",
              " ('levantar', 'xcomp'),\n",
              " ('dados', 'obj'),\n",
              " ('de', 'case'),\n",
              " ('uma', 'det'),\n",
              " ('“', 'punct'),\n",
              " ('fintech', 'nmod'),\n",
              " ('”', 'punct'),\n",
              " ('e', 'cc'),\n",
              " ('demonstrar', 'conj'),\n",
              " ('um', 'det'),\n",
              " ('processo', 'obj'),\n",
              " ('anti-fraude', 'amod'),\n",
              " ('alcançado', 'acl'),\n",
              " ('por', 'case'),\n",
              " ('aprendizado', 'obl:agent'),\n",
              " ('de', 'case'),\n",
              " ('máquina', 'nmod'),\n",
              " ('.', 'punct'),\n",
              " ('Houve', 'ROOT'),\n",
              " ('toda', 'det'),\n",
              " ('uma', 'det'),\n",
              " ('preocupação', 'obj'),\n",
              " ('com', 'case'),\n",
              " ('a', 'det'),\n",
              " ('privacidade', 'nmod'),\n",
              " ('de', 'case'),\n",
              " ('dados', 'nmod'),\n",
              " (',', 'punct'),\n",
              " ('conforme', 'case'),\n",
              " ('a', 'det'),\n",
              " ('Lei', 'obl'),\n",
              " ('Geral', 'flat:name'),\n",
              " ('de', 'case'),\n",
              " ('Proteção', 'nmod'),\n",
              " ('de', 'case'),\n",
              " ('Dados', 'nmod'),\n",
              " (',', 'punct'),\n",
              " ('utilizando-se', 'advcl'),\n",
              " ('de', 'case'),\n",
              " ('técnicas', 'obj'),\n",
              " ('para', 'mark'),\n",
              " ('produzir', 'advcl'),\n",
              " ('ruídos', 'obj'),\n",
              " ('de', 'case'),\n",
              " ('dados', 'nmod'),\n",
              " ('sem', 'mark'),\n",
              " ('prejudicar', 'acl'),\n",
              " ('os', 'det'),\n",
              " ('dados', 'obj'),\n",
              " ('estatisticamente', 'advmod'),\n",
              " ('.', 'punct'),\n",
              " ('Após', 'case'),\n",
              " ('a', 'det'),\n",
              " ('coleta', 'obl'),\n",
              " ('de', 'case'),\n",
              " ('dados', 'nmod'),\n",
              " (',', 'punct'),\n",
              " ('foram', 'aux:pass'),\n",
              " ('aplicadas', 'ROOT'),\n",
              " ('as', 'det'),\n",
              " ('técnicas', 'nsubj:pass'),\n",
              " ('estatísticas', 'amod'),\n",
              " ('para', 'case'),\n",
              " ('pré-processamento', 'nmod'),\n",
              " (',', 'punct'),\n",
              " ('normalização', 'conj'),\n",
              " ('e', 'cc'),\n",
              " ('padronização', 'conj'),\n",
              " ('.', 'punct'),\n",
              " ('Todo', 'det'),\n",
              " ('o', 'det'),\n",
              " ('estudo', 'nsubj:pass'),\n",
              " ('foi', 'aux:pass'),\n",
              " ('feito', 'ROOT'),\n",
              " ('em', 'case'),\n",
              " ('linguagem', 'obl'),\n",
              " ('de', 'case'),\n",
              " ('programação', 'nmod'),\n",
              " ('e', 'cc'),\n",
              " ('o', 'det'),\n",
              " ('modelo', 'nsubj:pass'),\n",
              " ('foi', 'aux:pass'),\n",
              " ('testado', 'conj'),\n",
              " ('até', 'mark'),\n",
              " ('chegar', 'advcl'),\n",
              " ('ao', 'obj'),\n",
              " ('que', 'obj'),\n",
              " ('consideramos', 'acl:relcl'),\n",
              " ('ideal', 'xcomp'),\n",
              " ('por', 'mark'),\n",
              " ('conseguir', 'advcl'),\n",
              " ('atingir', 'xcomp'),\n",
              " ('um', 'det'),\n",
              " ('percentual', 'obj'),\n",
              " ('alto', 'amod'),\n",
              " ('de', 'case'),\n",
              " ('acerto', 'nmod'),\n",
              " ('ao', 'mark'),\n",
              " ('detectar', 'advcl'),\n",
              " ('fraudes', 'obj'),\n",
              " ('em', 'case'),\n",
              " ('dados', 'nmod'),\n",
              " ('financeiros', 'amod'),\n",
              " ('usando', 'advcl'),\n",
              " ('inteligência', 'obj'),\n",
              " ('artificial', 'amod')]"
            ]
          },
          "metadata": {},
          "execution_count": 29
        }
      ]
    },
    {
      "cell_type": "code",
      "source": [
        "from pathlib import Path\n",
        "\n",
        "# Mostra a análise de dependencia gráfica\n",
        "svg = spacy.displacy.render(doc, style= \"dep\")\n",
        "output_path = Path('analisedependencia.svg')\n",
        "output_path.open('w',encoding=\"utf-8\").write(svg)\n"
      ],
      "metadata": {
        "colab": {
          "base_uri": "https://localhost:8080/"
        },
        "id": "sQh8ABsDKlx4",
        "outputId": "a804a584-26e6-4fed-85d7-05ae8d8aa464"
      },
      "execution_count": null,
      "outputs": [
        {
          "output_type": "execute_result",
          "data": {
            "text/plain": [
              "138329"
            ]
          },
          "metadata": {},
          "execution_count": 30
        }
      ]
    },
    {
      "cell_type": "code",
      "source": [
        "from IPython.display import SVG\n",
        "SVG('analisedependencia.svg')\n"
      ],
      "metadata": {
        "colab": {
          "base_uri": "https://localhost:8080/",
          "height": 1000
        },
        "id": "JuqNdKAUBxWO",
        "outputId": "039ac3ba-78be-4077-ad98-8988ab54e36d"
      },
      "execution_count": null,
      "outputs": [
        {
          "output_type": "execute_result",
          "data": {
            "text/plain": [
              "<IPython.core.display.SVG object>"
            ],
            "image/svg+xml": "<svg class=\"displacy\" direction=\"ltr\" height=\"1187.0\" id=\"1969907da1fb4a739e014329deb727e0-0\" style=\"max-width: none; height: 1187.0px; color: #000000; background: #ffffff; font-family: Arial; direction: ltr\" width=\"29275\" xml:lang=\"pt\" xmlns=\"http://www.w3.org/2000/svg\" xmlns:xlink=\"http://www.w3.org/1999/xlink\">\n<text class=\"displacy-token\" fill=\"currentColor\" text-anchor=\"middle\" y=\"1097.0\">\n    <tspan class=\"displacy-word\" fill=\"currentColor\" x=\"50\">Inovações</tspan>\n    <tspan class=\"displacy-tag\" dy=\"2em\" fill=\"currentColor\" x=\"50\">NOUN</tspan>\n</text>\n\n<text class=\"displacy-token\" fill=\"currentColor\" text-anchor=\"middle\" y=\"1097.0\">\n    <tspan class=\"displacy-word\" fill=\"currentColor\" x=\"225\">na</tspan>\n    <tspan class=\"displacy-tag\" dy=\"2em\" fill=\"currentColor\" x=\"225\">ADP</tspan>\n</text>\n\n<text class=\"displacy-token\" fill=\"currentColor\" text-anchor=\"middle\" y=\"1097.0\">\n    <tspan class=\"displacy-word\" fill=\"currentColor\" x=\"400\">área</tspan>\n    <tspan class=\"displacy-tag\" dy=\"2em\" fill=\"currentColor\" x=\"400\">NOUN</tspan>\n</text>\n\n<text class=\"displacy-token\" fill=\"currentColor\" text-anchor=\"middle\" y=\"1097.0\">\n    <tspan class=\"displacy-word\" fill=\"currentColor\" x=\"575\">financeira</tspan>\n    <tspan class=\"displacy-tag\" dy=\"2em\" fill=\"currentColor\" x=\"575\">ADJ</tspan>\n</text>\n\n<text class=\"displacy-token\" fill=\"currentColor\" text-anchor=\"middle\" y=\"1097.0\">\n    <tspan class=\"displacy-word\" fill=\"currentColor\" x=\"750\">passam</tspan>\n    <tspan class=\"displacy-tag\" dy=\"2em\" fill=\"currentColor\" x=\"750\">VERB</tspan>\n</text>\n\n<text class=\"displacy-token\" fill=\"currentColor\" text-anchor=\"middle\" y=\"1097.0\">\n    <tspan class=\"displacy-word\" fill=\"currentColor\" x=\"925\">pela</tspan>\n    <tspan class=\"displacy-tag\" dy=\"2em\" fill=\"currentColor\" x=\"925\">ADP</tspan>\n</text>\n\n<text class=\"displacy-token\" fill=\"currentColor\" text-anchor=\"middle\" y=\"1097.0\">\n    <tspan class=\"displacy-word\" fill=\"currentColor\" x=\"1100\">análise</tspan>\n    <tspan class=\"displacy-tag\" dy=\"2em\" fill=\"currentColor\" x=\"1100\">NOUN</tspan>\n</text>\n\n<text class=\"displacy-token\" fill=\"currentColor\" text-anchor=\"middle\" y=\"1097.0\">\n    <tspan class=\"displacy-word\" fill=\"currentColor\" x=\"1275\">de</tspan>\n    <tspan class=\"displacy-tag\" dy=\"2em\" fill=\"currentColor\" x=\"1275\">ADP</tspan>\n</text>\n\n<text class=\"displacy-token\" fill=\"currentColor\" text-anchor=\"middle\" y=\"1097.0\">\n    <tspan class=\"displacy-word\" fill=\"currentColor\" x=\"1450\">dados</tspan>\n    <tspan class=\"displacy-tag\" dy=\"2em\" fill=\"currentColor\" x=\"1450\">NOUN</tspan>\n</text>\n\n<text class=\"displacy-token\" fill=\"currentColor\" text-anchor=\"middle\" y=\"1097.0\">\n    <tspan class=\"displacy-word\" fill=\"currentColor\" x=\"1625\">e</tspan>\n    <tspan class=\"displacy-tag\" dy=\"2em\" fill=\"currentColor\" x=\"1625\">CCONJ</tspan>\n</text>\n\n<text class=\"displacy-token\" fill=\"currentColor\" text-anchor=\"middle\" y=\"1097.0\">\n    <tspan class=\"displacy-word\" fill=\"currentColor\" x=\"1800\">pela</tspan>\n    <tspan class=\"displacy-tag\" dy=\"2em\" fill=\"currentColor\" x=\"1800\">ADP</tspan>\n</text>\n\n<text class=\"displacy-token\" fill=\"currentColor\" text-anchor=\"middle\" y=\"1097.0\">\n    <tspan class=\"displacy-word\" fill=\"currentColor\" x=\"1975\">proteção</tspan>\n    <tspan class=\"displacy-tag\" dy=\"2em\" fill=\"currentColor\" x=\"1975\">NOUN</tspan>\n</text>\n\n<text class=\"displacy-token\" fill=\"currentColor\" text-anchor=\"middle\" y=\"1097.0\">\n    <tspan class=\"displacy-word\" fill=\"currentColor\" x=\"2150\">de</tspan>\n    <tspan class=\"displacy-tag\" dy=\"2em\" fill=\"currentColor\" x=\"2150\">ADP</tspan>\n</text>\n\n<text class=\"displacy-token\" fill=\"currentColor\" text-anchor=\"middle\" y=\"1097.0\">\n    <tspan class=\"displacy-word\" fill=\"currentColor\" x=\"2325\">dados</tspan>\n    <tspan class=\"displacy-tag\" dy=\"2em\" fill=\"currentColor\" x=\"2325\">NOUN</tspan>\n</text>\n\n<text class=\"displacy-token\" fill=\"currentColor\" text-anchor=\"middle\" y=\"1097.0\">\n    <tspan class=\"displacy-word\" fill=\"currentColor\" x=\"2500\">pessoais.</tspan>\n    <tspan class=\"displacy-tag\" dy=\"2em\" fill=\"currentColor\" x=\"2500\">ADJ</tspan>\n</text>\n\n<text class=\"displacy-token\" fill=\"currentColor\" text-anchor=\"middle\" y=\"1097.0\">\n    <tspan class=\"displacy-word\" fill=\"currentColor\" x=\"2675\">O</tspan>\n    <tspan class=\"displacy-tag\" dy=\"2em\" fill=\"currentColor\" x=\"2675\">DET</tspan>\n</text>\n\n<text class=\"displacy-token\" fill=\"currentColor\" text-anchor=\"middle\" y=\"1097.0\">\n    <tspan class=\"displacy-word\" fill=\"currentColor\" x=\"2850\">uso</tspan>\n    <tspan class=\"displacy-tag\" dy=\"2em\" fill=\"currentColor\" x=\"2850\">NOUN</tspan>\n</text>\n\n<text class=\"displacy-token\" fill=\"currentColor\" text-anchor=\"middle\" y=\"1097.0\">\n    <tspan class=\"displacy-word\" fill=\"currentColor\" x=\"3025\">da “</tspan>\n    <tspan class=\"displacy-tag\" dy=\"2em\" fill=\"currentColor\" x=\"3025\">ADP</tspan>\n</text>\n\n<text class=\"displacy-token\" fill=\"currentColor\" text-anchor=\"middle\" y=\"1097.0\">\n    <tspan class=\"displacy-word\" fill=\"currentColor\" x=\"3200\">big</tspan>\n    <tspan class=\"displacy-tag\" dy=\"2em\" fill=\"currentColor\" x=\"3200\">X</tspan>\n</text>\n\n<text class=\"displacy-token\" fill=\"currentColor\" text-anchor=\"middle\" y=\"1097.0\">\n    <tspan class=\"displacy-word\" fill=\"currentColor\" x=\"3375\">data”</tspan>\n    <tspan class=\"displacy-tag\" dy=\"2em\" fill=\"currentColor\" x=\"3375\">NOUN</tspan>\n</text>\n\n<text class=\"displacy-token\" fill=\"currentColor\" text-anchor=\"middle\" y=\"1097.0\">\n    <tspan class=\"displacy-word\" fill=\"currentColor\" x=\"3550\">permitiu</tspan>\n    <tspan class=\"displacy-tag\" dy=\"2em\" fill=\"currentColor\" x=\"3550\">VERB</tspan>\n</text>\n\n<text class=\"displacy-token\" fill=\"currentColor\" text-anchor=\"middle\" y=\"1097.0\">\n    <tspan class=\"displacy-word\" fill=\"currentColor\" x=\"3725\">gerenciar</tspan>\n    <tspan class=\"displacy-tag\" dy=\"2em\" fill=\"currentColor\" x=\"3725\">VERB</tspan>\n</text>\n\n<text class=\"displacy-token\" fill=\"currentColor\" text-anchor=\"middle\" y=\"1097.0\">\n    <tspan class=\"displacy-word\" fill=\"currentColor\" x=\"3900\">grande</tspan>\n    <tspan class=\"displacy-tag\" dy=\"2em\" fill=\"currentColor\" x=\"3900\">ADJ</tspan>\n</text>\n\n<text class=\"displacy-token\" fill=\"currentColor\" text-anchor=\"middle\" y=\"1097.0\">\n    <tspan class=\"displacy-word\" fill=\"currentColor\" x=\"4075\">volume</tspan>\n    <tspan class=\"displacy-tag\" dy=\"2em\" fill=\"currentColor\" x=\"4075\">NOUN</tspan>\n</text>\n\n<text class=\"displacy-token\" fill=\"currentColor\" text-anchor=\"middle\" y=\"1097.0\">\n    <tspan class=\"displacy-word\" fill=\"currentColor\" x=\"4250\">de</tspan>\n    <tspan class=\"displacy-tag\" dy=\"2em\" fill=\"currentColor\" x=\"4250\">ADP</tspan>\n</text>\n\n<text class=\"displacy-token\" fill=\"currentColor\" text-anchor=\"middle\" y=\"1097.0\">\n    <tspan class=\"displacy-word\" fill=\"currentColor\" x=\"4425\">dados —</tspan>\n    <tspan class=\"displacy-tag\" dy=\"2em\" fill=\"currentColor\" x=\"4425\">NOUN</tspan>\n</text>\n\n<text class=\"displacy-token\" fill=\"currentColor\" text-anchor=\"middle\" y=\"1097.0\">\n    <tspan class=\"displacy-word\" fill=\"currentColor\" x=\"4600\">coletados</tspan>\n    <tspan class=\"displacy-tag\" dy=\"2em\" fill=\"currentColor\" x=\"4600\">VERB</tspan>\n</text>\n\n<text class=\"displacy-token\" fill=\"currentColor\" text-anchor=\"middle\" y=\"1097.0\">\n    <tspan class=\"displacy-word\" fill=\"currentColor\" x=\"4775\">em</tspan>\n    <tspan class=\"displacy-tag\" dy=\"2em\" fill=\"currentColor\" x=\"4775\">ADP</tspan>\n</text>\n\n<text class=\"displacy-token\" fill=\"currentColor\" text-anchor=\"middle\" y=\"1097.0\">\n    <tspan class=\"displacy-word\" fill=\"currentColor\" x=\"4950\">vários</tspan>\n    <tspan class=\"displacy-tag\" dy=\"2em\" fill=\"currentColor\" x=\"4950\">DET</tspan>\n</text>\n\n<text class=\"displacy-token\" fill=\"currentColor\" text-anchor=\"middle\" y=\"1097.0\">\n    <tspan class=\"displacy-word\" fill=\"currentColor\" x=\"5125\">formatos</tspan>\n    <tspan class=\"displacy-tag\" dy=\"2em\" fill=\"currentColor\" x=\"5125\">NOUN</tspan>\n</text>\n\n<text class=\"displacy-token\" fill=\"currentColor\" text-anchor=\"middle\" y=\"1097.0\">\n    <tspan class=\"displacy-word\" fill=\"currentColor\" x=\"5300\">e</tspan>\n    <tspan class=\"displacy-tag\" dy=\"2em\" fill=\"currentColor\" x=\"5300\">CCONJ</tspan>\n</text>\n\n<text class=\"displacy-token\" fill=\"currentColor\" text-anchor=\"middle\" y=\"1097.0\">\n    <tspan class=\"displacy-word\" fill=\"currentColor\" x=\"5475\">fontes —,</tspan>\n    <tspan class=\"displacy-tag\" dy=\"2em\" fill=\"currentColor\" x=\"5475\">NOUN</tspan>\n</text>\n\n<text class=\"displacy-token\" fill=\"currentColor\" text-anchor=\"middle\" y=\"1097.0\">\n    <tspan class=\"displacy-word\" fill=\"currentColor\" x=\"5650\">e</tspan>\n    <tspan class=\"displacy-tag\" dy=\"2em\" fill=\"currentColor\" x=\"5650\">CCONJ</tspan>\n</text>\n\n<text class=\"displacy-token\" fill=\"currentColor\" text-anchor=\"middle\" y=\"1097.0\">\n    <tspan class=\"displacy-word\" fill=\"currentColor\" x=\"5825\">processá-los</tspan>\n    <tspan class=\"displacy-tag\" dy=\"2em\" fill=\"currentColor\" x=\"5825\">VERB</tspan>\n</text>\n\n<text class=\"displacy-token\" fill=\"currentColor\" text-anchor=\"middle\" y=\"1097.0\">\n    <tspan class=\"displacy-word\" fill=\"currentColor\" x=\"6000\">rapidamente.</tspan>\n    <tspan class=\"displacy-tag\" dy=\"2em\" fill=\"currentColor\" x=\"6000\">ADV</tspan>\n</text>\n\n<text class=\"displacy-token\" fill=\"currentColor\" text-anchor=\"middle\" y=\"1097.0\">\n    <tspan class=\"displacy-word\" fill=\"currentColor\" x=\"6175\">Um</tspan>\n    <tspan class=\"displacy-tag\" dy=\"2em\" fill=\"currentColor\" x=\"6175\">DET</tspan>\n</text>\n\n<text class=\"displacy-token\" fill=\"currentColor\" text-anchor=\"middle\" y=\"1097.0\">\n    <tspan class=\"displacy-word\" fill=\"currentColor\" x=\"6350\">processo</tspan>\n    <tspan class=\"displacy-tag\" dy=\"2em\" fill=\"currentColor\" x=\"6350\">NOUN</tspan>\n</text>\n\n<text class=\"displacy-token\" fill=\"currentColor\" text-anchor=\"middle\" y=\"1097.0\">\n    <tspan class=\"displacy-word\" fill=\"currentColor\" x=\"6525\">de</tspan>\n    <tspan class=\"displacy-tag\" dy=\"2em\" fill=\"currentColor\" x=\"6525\">ADP</tspan>\n</text>\n\n<text class=\"displacy-token\" fill=\"currentColor\" text-anchor=\"middle\" y=\"1097.0\">\n    <tspan class=\"displacy-word\" fill=\"currentColor\" x=\"6700\">análise,</tspan>\n    <tspan class=\"displacy-tag\" dy=\"2em\" fill=\"currentColor\" x=\"6700\">NOUN</tspan>\n</text>\n\n<text class=\"displacy-token\" fill=\"currentColor\" text-anchor=\"middle\" y=\"1097.0\">\n    <tspan class=\"displacy-word\" fill=\"currentColor\" x=\"6875\">complexo</tspan>\n    <tspan class=\"displacy-tag\" dy=\"2em\" fill=\"currentColor\" x=\"6875\">ADJ</tspan>\n</text>\n\n<text class=\"displacy-token\" fill=\"currentColor\" text-anchor=\"middle\" y=\"1097.0\">\n    <tspan class=\"displacy-word\" fill=\"currentColor\" x=\"7050\">e</tspan>\n    <tspan class=\"displacy-tag\" dy=\"2em\" fill=\"currentColor\" x=\"7050\">CCONJ</tspan>\n</text>\n\n<text class=\"displacy-token\" fill=\"currentColor\" text-anchor=\"middle\" y=\"1097.0\">\n    <tspan class=\"displacy-word\" fill=\"currentColor\" x=\"7225\">dispendioso,</tspan>\n    <tspan class=\"displacy-tag\" dy=\"2em\" fill=\"currentColor\" x=\"7225\">ADJ</tspan>\n</text>\n\n<text class=\"displacy-token\" fill=\"currentColor\" text-anchor=\"middle\" y=\"1097.0\">\n    <tspan class=\"displacy-word\" fill=\"currentColor\" x=\"7400\">se</tspan>\n    <tspan class=\"displacy-tag\" dy=\"2em\" fill=\"currentColor\" x=\"7400\">SCONJ</tspan>\n</text>\n\n<text class=\"displacy-token\" fill=\"currentColor\" text-anchor=\"middle\" y=\"1097.0\">\n    <tspan class=\"displacy-word\" fill=\"currentColor\" x=\"7575\">destinado</tspan>\n    <tspan class=\"displacy-tag\" dy=\"2em\" fill=\"currentColor\" x=\"7575\">VERB</tspan>\n</text>\n\n<text class=\"displacy-token\" fill=\"currentColor\" text-anchor=\"middle\" y=\"1097.0\">\n    <tspan class=\"displacy-word\" fill=\"currentColor\" x=\"7750\">a</tspan>\n    <tspan class=\"displacy-tag\" dy=\"2em\" fill=\"currentColor\" x=\"7750\">ADP</tspan>\n</text>\n\n<text class=\"displacy-token\" fill=\"currentColor\" text-anchor=\"middle\" y=\"1097.0\">\n    <tspan class=\"displacy-word\" fill=\"currentColor\" x=\"7925\">uma</tspan>\n    <tspan class=\"displacy-tag\" dy=\"2em\" fill=\"currentColor\" x=\"7925\">DET</tspan>\n</text>\n\n<text class=\"displacy-token\" fill=\"currentColor\" text-anchor=\"middle\" y=\"1097.0\">\n    <tspan class=\"displacy-word\" fill=\"currentColor\" x=\"8100\">reduzida</tspan>\n    <tspan class=\"displacy-tag\" dy=\"2em\" fill=\"currentColor\" x=\"8100\">VERB</tspan>\n</text>\n\n<text class=\"displacy-token\" fill=\"currentColor\" text-anchor=\"middle\" y=\"1097.0\">\n    <tspan class=\"displacy-word\" fill=\"currentColor\" x=\"8275\">equipe</tspan>\n    <tspan class=\"displacy-tag\" dy=\"2em\" fill=\"currentColor\" x=\"8275\">NOUN</tspan>\n</text>\n\n<text class=\"displacy-token\" fill=\"currentColor\" text-anchor=\"middle\" y=\"1097.0\">\n    <tspan class=\"displacy-word\" fill=\"currentColor\" x=\"8450\">de</tspan>\n    <tspan class=\"displacy-tag\" dy=\"2em\" fill=\"currentColor\" x=\"8450\">ADP</tspan>\n</text>\n\n<text class=\"displacy-token\" fill=\"currentColor\" text-anchor=\"middle\" y=\"1097.0\">\n    <tspan class=\"displacy-word\" fill=\"currentColor\" x=\"8625\">pessoas,</tspan>\n    <tspan class=\"displacy-tag\" dy=\"2em\" fill=\"currentColor\" x=\"8625\">NOUN</tspan>\n</text>\n\n<text class=\"displacy-token\" fill=\"currentColor\" text-anchor=\"middle\" y=\"1097.0\">\n    <tspan class=\"displacy-word\" fill=\"currentColor\" x=\"8800\">pode</tspan>\n    <tspan class=\"displacy-tag\" dy=\"2em\" fill=\"currentColor\" x=\"8800\">VERB</tspan>\n</text>\n\n<text class=\"displacy-token\" fill=\"currentColor\" text-anchor=\"middle\" y=\"1097.0\">\n    <tspan class=\"displacy-word\" fill=\"currentColor\" x=\"8975\">facilmente</tspan>\n    <tspan class=\"displacy-tag\" dy=\"2em\" fill=\"currentColor\" x=\"8975\">ADV</tspan>\n</text>\n\n<text class=\"displacy-token\" fill=\"currentColor\" text-anchor=\"middle\" y=\"1097.0\">\n    <tspan class=\"displacy-word\" fill=\"currentColor\" x=\"9150\">ser</tspan>\n    <tspan class=\"displacy-tag\" dy=\"2em\" fill=\"currentColor\" x=\"9150\">AUX</tspan>\n</text>\n\n<text class=\"displacy-token\" fill=\"currentColor\" text-anchor=\"middle\" y=\"1097.0\">\n    <tspan class=\"displacy-word\" fill=\"currentColor\" x=\"9325\">aprendido</tspan>\n    <tspan class=\"displacy-tag\" dy=\"2em\" fill=\"currentColor\" x=\"9325\">VERB</tspan>\n</text>\n\n<text class=\"displacy-token\" fill=\"currentColor\" text-anchor=\"middle\" y=\"1097.0\">\n    <tspan class=\"displacy-word\" fill=\"currentColor\" x=\"9500\">e</tspan>\n    <tspan class=\"displacy-tag\" dy=\"2em\" fill=\"currentColor\" x=\"9500\">CCONJ</tspan>\n</text>\n\n<text class=\"displacy-token\" fill=\"currentColor\" text-anchor=\"middle\" y=\"1097.0\">\n    <tspan class=\"displacy-word\" fill=\"currentColor\" x=\"9675\">processado</tspan>\n    <tspan class=\"displacy-tag\" dy=\"2em\" fill=\"currentColor\" x=\"9675\">VERB</tspan>\n</text>\n\n<text class=\"displacy-token\" fill=\"currentColor\" text-anchor=\"middle\" y=\"1097.0\">\n    <tspan class=\"displacy-word\" fill=\"currentColor\" x=\"9850\">por</tspan>\n    <tspan class=\"displacy-tag\" dy=\"2em\" fill=\"currentColor\" x=\"9850\">ADP</tspan>\n</text>\n\n<text class=\"displacy-token\" fill=\"currentColor\" text-anchor=\"middle\" y=\"1097.0\">\n    <tspan class=\"displacy-word\" fill=\"currentColor\" x=\"10025\">máquinas,</tspan>\n    <tspan class=\"displacy-tag\" dy=\"2em\" fill=\"currentColor\" x=\"10025\">NOUN</tspan>\n</text>\n\n<text class=\"displacy-token\" fill=\"currentColor\" text-anchor=\"middle\" y=\"1097.0\">\n    <tspan class=\"displacy-word\" fill=\"currentColor\" x=\"10200\">com</tspan>\n    <tspan class=\"displacy-tag\" dy=\"2em\" fill=\"currentColor\" x=\"10200\">ADP</tspan>\n</text>\n\n<text class=\"displacy-token\" fill=\"currentColor\" text-anchor=\"middle\" y=\"1097.0\">\n    <tspan class=\"displacy-word\" fill=\"currentColor\" x=\"10375\">o</tspan>\n    <tspan class=\"displacy-tag\" dy=\"2em\" fill=\"currentColor\" x=\"10375\">DET</tspan>\n</text>\n\n<text class=\"displacy-token\" fill=\"currentColor\" text-anchor=\"middle\" y=\"1097.0\">\n    <tspan class=\"displacy-word\" fill=\"currentColor\" x=\"10550\">uso</tspan>\n    <tspan class=\"displacy-tag\" dy=\"2em\" fill=\"currentColor\" x=\"10550\">NOUN</tspan>\n</text>\n\n<text class=\"displacy-token\" fill=\"currentColor\" text-anchor=\"middle\" y=\"1097.0\">\n    <tspan class=\"displacy-word\" fill=\"currentColor\" x=\"10725\">de</tspan>\n    <tspan class=\"displacy-tag\" dy=\"2em\" fill=\"currentColor\" x=\"10725\">ADP</tspan>\n</text>\n\n<text class=\"displacy-token\" fill=\"currentColor\" text-anchor=\"middle\" y=\"1097.0\">\n    <tspan class=\"displacy-word\" fill=\"currentColor\" x=\"10900\">técnicas</tspan>\n    <tspan class=\"displacy-tag\" dy=\"2em\" fill=\"currentColor\" x=\"10900\">NOUN</tspan>\n</text>\n\n<text class=\"displacy-token\" fill=\"currentColor\" text-anchor=\"middle\" y=\"1097.0\">\n    <tspan class=\"displacy-word\" fill=\"currentColor\" x=\"11075\">de</tspan>\n    <tspan class=\"displacy-tag\" dy=\"2em\" fill=\"currentColor\" x=\"11075\">ADP</tspan>\n</text>\n\n<text class=\"displacy-token\" fill=\"currentColor\" text-anchor=\"middle\" y=\"1097.0\">\n    <tspan class=\"displacy-word\" fill=\"currentColor\" x=\"11250\">inteligência</tspan>\n    <tspan class=\"displacy-tag\" dy=\"2em\" fill=\"currentColor\" x=\"11250\">NOUN</tspan>\n</text>\n\n<text class=\"displacy-token\" fill=\"currentColor\" text-anchor=\"middle\" y=\"1097.0\">\n    <tspan class=\"displacy-word\" fill=\"currentColor\" x=\"11425\">artificial.</tspan>\n    <tspan class=\"displacy-tag\" dy=\"2em\" fill=\"currentColor\" x=\"11425\">ADJ</tspan>\n</text>\n\n<text class=\"displacy-token\" fill=\"currentColor\" text-anchor=\"middle\" y=\"1097.0\">\n    <tspan class=\"displacy-word\" fill=\"currentColor\" x=\"11600\">Este</tspan>\n    <tspan class=\"displacy-tag\" dy=\"2em\" fill=\"currentColor\" x=\"11600\">DET</tspan>\n</text>\n\n<text class=\"displacy-token\" fill=\"currentColor\" text-anchor=\"middle\" y=\"1097.0\">\n    <tspan class=\"displacy-word\" fill=\"currentColor\" x=\"11775\">trabalho</tspan>\n    <tspan class=\"displacy-tag\" dy=\"2em\" fill=\"currentColor\" x=\"11775\">NOUN</tspan>\n</text>\n\n<text class=\"displacy-token\" fill=\"currentColor\" text-anchor=\"middle\" y=\"1097.0\">\n    <tspan class=\"displacy-word\" fill=\"currentColor\" x=\"11950\">focou</tspan>\n    <tspan class=\"displacy-tag\" dy=\"2em\" fill=\"currentColor\" x=\"11950\">VERB</tspan>\n</text>\n\n<text class=\"displacy-token\" fill=\"currentColor\" text-anchor=\"middle\" y=\"1097.0\">\n    <tspan class=\"displacy-word\" fill=\"currentColor\" x=\"12125\">em</tspan>\n    <tspan class=\"displacy-tag\" dy=\"2em\" fill=\"currentColor\" x=\"12125\">SCONJ</tspan>\n</text>\n\n<text class=\"displacy-token\" fill=\"currentColor\" text-anchor=\"middle\" y=\"1097.0\">\n    <tspan class=\"displacy-word\" fill=\"currentColor\" x=\"12300\">levantar</tspan>\n    <tspan class=\"displacy-tag\" dy=\"2em\" fill=\"currentColor\" x=\"12300\">VERB</tspan>\n</text>\n\n<text class=\"displacy-token\" fill=\"currentColor\" text-anchor=\"middle\" y=\"1097.0\">\n    <tspan class=\"displacy-word\" fill=\"currentColor\" x=\"12475\">dados</tspan>\n    <tspan class=\"displacy-tag\" dy=\"2em\" fill=\"currentColor\" x=\"12475\">NOUN</tspan>\n</text>\n\n<text class=\"displacy-token\" fill=\"currentColor\" text-anchor=\"middle\" y=\"1097.0\">\n    <tspan class=\"displacy-word\" fill=\"currentColor\" x=\"12650\">de</tspan>\n    <tspan class=\"displacy-tag\" dy=\"2em\" fill=\"currentColor\" x=\"12650\">ADP</tspan>\n</text>\n\n<text class=\"displacy-token\" fill=\"currentColor\" text-anchor=\"middle\" y=\"1097.0\">\n    <tspan class=\"displacy-word\" fill=\"currentColor\" x=\"12825\">uma “</tspan>\n    <tspan class=\"displacy-tag\" dy=\"2em\" fill=\"currentColor\" x=\"12825\">DET</tspan>\n</text>\n\n<text class=\"displacy-token\" fill=\"currentColor\" text-anchor=\"middle\" y=\"1097.0\">\n    <tspan class=\"displacy-word\" fill=\"currentColor\" x=\"13000\">fintech”</tspan>\n    <tspan class=\"displacy-tag\" dy=\"2em\" fill=\"currentColor\" x=\"13000\">NOUN</tspan>\n</text>\n\n<text class=\"displacy-token\" fill=\"currentColor\" text-anchor=\"middle\" y=\"1097.0\">\n    <tspan class=\"displacy-word\" fill=\"currentColor\" x=\"13175\">e</tspan>\n    <tspan class=\"displacy-tag\" dy=\"2em\" fill=\"currentColor\" x=\"13175\">CCONJ</tspan>\n</text>\n\n<text class=\"displacy-token\" fill=\"currentColor\" text-anchor=\"middle\" y=\"1097.0\">\n    <tspan class=\"displacy-word\" fill=\"currentColor\" x=\"13350\">demonstrar</tspan>\n    <tspan class=\"displacy-tag\" dy=\"2em\" fill=\"currentColor\" x=\"13350\">VERB</tspan>\n</text>\n\n<text class=\"displacy-token\" fill=\"currentColor\" text-anchor=\"middle\" y=\"1097.0\">\n    <tspan class=\"displacy-word\" fill=\"currentColor\" x=\"13525\">um</tspan>\n    <tspan class=\"displacy-tag\" dy=\"2em\" fill=\"currentColor\" x=\"13525\">DET</tspan>\n</text>\n\n<text class=\"displacy-token\" fill=\"currentColor\" text-anchor=\"middle\" y=\"1097.0\">\n    <tspan class=\"displacy-word\" fill=\"currentColor\" x=\"13700\">processo</tspan>\n    <tspan class=\"displacy-tag\" dy=\"2em\" fill=\"currentColor\" x=\"13700\">NOUN</tspan>\n</text>\n\n<text class=\"displacy-token\" fill=\"currentColor\" text-anchor=\"middle\" y=\"1097.0\">\n    <tspan class=\"displacy-word\" fill=\"currentColor\" x=\"13875\">anti-fraude</tspan>\n    <tspan class=\"displacy-tag\" dy=\"2em\" fill=\"currentColor\" x=\"13875\">ADJ</tspan>\n</text>\n\n<text class=\"displacy-token\" fill=\"currentColor\" text-anchor=\"middle\" y=\"1097.0\">\n    <tspan class=\"displacy-word\" fill=\"currentColor\" x=\"14050\">alcançado</tspan>\n    <tspan class=\"displacy-tag\" dy=\"2em\" fill=\"currentColor\" x=\"14050\">VERB</tspan>\n</text>\n\n<text class=\"displacy-token\" fill=\"currentColor\" text-anchor=\"middle\" y=\"1097.0\">\n    <tspan class=\"displacy-word\" fill=\"currentColor\" x=\"14225\">por</tspan>\n    <tspan class=\"displacy-tag\" dy=\"2em\" fill=\"currentColor\" x=\"14225\">ADP</tspan>\n</text>\n\n<text class=\"displacy-token\" fill=\"currentColor\" text-anchor=\"middle\" y=\"1097.0\">\n    <tspan class=\"displacy-word\" fill=\"currentColor\" x=\"14400\">aprendizado</tspan>\n    <tspan class=\"displacy-tag\" dy=\"2em\" fill=\"currentColor\" x=\"14400\">NOUN</tspan>\n</text>\n\n<text class=\"displacy-token\" fill=\"currentColor\" text-anchor=\"middle\" y=\"1097.0\">\n    <tspan class=\"displacy-word\" fill=\"currentColor\" x=\"14575\">de</tspan>\n    <tspan class=\"displacy-tag\" dy=\"2em\" fill=\"currentColor\" x=\"14575\">ADP</tspan>\n</text>\n\n<text class=\"displacy-token\" fill=\"currentColor\" text-anchor=\"middle\" y=\"1097.0\">\n    <tspan class=\"displacy-word\" fill=\"currentColor\" x=\"14750\">máquina.</tspan>\n    <tspan class=\"displacy-tag\" dy=\"2em\" fill=\"currentColor\" x=\"14750\">NOUN</tspan>\n</text>\n\n<text class=\"displacy-token\" fill=\"currentColor\" text-anchor=\"middle\" y=\"1097.0\">\n    <tspan class=\"displacy-word\" fill=\"currentColor\" x=\"14925\">Houve</tspan>\n    <tspan class=\"displacy-tag\" dy=\"2em\" fill=\"currentColor\" x=\"14925\">VERB</tspan>\n</text>\n\n<text class=\"displacy-token\" fill=\"currentColor\" text-anchor=\"middle\" y=\"1097.0\">\n    <tspan class=\"displacy-word\" fill=\"currentColor\" x=\"15100\">toda</tspan>\n    <tspan class=\"displacy-tag\" dy=\"2em\" fill=\"currentColor\" x=\"15100\">DET</tspan>\n</text>\n\n<text class=\"displacy-token\" fill=\"currentColor\" text-anchor=\"middle\" y=\"1097.0\">\n    <tspan class=\"displacy-word\" fill=\"currentColor\" x=\"15275\">uma</tspan>\n    <tspan class=\"displacy-tag\" dy=\"2em\" fill=\"currentColor\" x=\"15275\">DET</tspan>\n</text>\n\n<text class=\"displacy-token\" fill=\"currentColor\" text-anchor=\"middle\" y=\"1097.0\">\n    <tspan class=\"displacy-word\" fill=\"currentColor\" x=\"15450\">preocupação</tspan>\n    <tspan class=\"displacy-tag\" dy=\"2em\" fill=\"currentColor\" x=\"15450\">NOUN</tspan>\n</text>\n\n<text class=\"displacy-token\" fill=\"currentColor\" text-anchor=\"middle\" y=\"1097.0\">\n    <tspan class=\"displacy-word\" fill=\"currentColor\" x=\"15625\">com</tspan>\n    <tspan class=\"displacy-tag\" dy=\"2em\" fill=\"currentColor\" x=\"15625\">ADP</tspan>\n</text>\n\n<text class=\"displacy-token\" fill=\"currentColor\" text-anchor=\"middle\" y=\"1097.0\">\n    <tspan class=\"displacy-word\" fill=\"currentColor\" x=\"15800\">a</tspan>\n    <tspan class=\"displacy-tag\" dy=\"2em\" fill=\"currentColor\" x=\"15800\">DET</tspan>\n</text>\n\n<text class=\"displacy-token\" fill=\"currentColor\" text-anchor=\"middle\" y=\"1097.0\">\n    <tspan class=\"displacy-word\" fill=\"currentColor\" x=\"15975\">privacidade</tspan>\n    <tspan class=\"displacy-tag\" dy=\"2em\" fill=\"currentColor\" x=\"15975\">NOUN</tspan>\n</text>\n\n<text class=\"displacy-token\" fill=\"currentColor\" text-anchor=\"middle\" y=\"1097.0\">\n    <tspan class=\"displacy-word\" fill=\"currentColor\" x=\"16150\">de</tspan>\n    <tspan class=\"displacy-tag\" dy=\"2em\" fill=\"currentColor\" x=\"16150\">ADP</tspan>\n</text>\n\n<text class=\"displacy-token\" fill=\"currentColor\" text-anchor=\"middle\" y=\"1097.0\">\n    <tspan class=\"displacy-word\" fill=\"currentColor\" x=\"16325\">dados,</tspan>\n    <tspan class=\"displacy-tag\" dy=\"2em\" fill=\"currentColor\" x=\"16325\">NOUN</tspan>\n</text>\n\n<text class=\"displacy-token\" fill=\"currentColor\" text-anchor=\"middle\" y=\"1097.0\">\n    <tspan class=\"displacy-word\" fill=\"currentColor\" x=\"16500\">conforme</tspan>\n    <tspan class=\"displacy-tag\" dy=\"2em\" fill=\"currentColor\" x=\"16500\">ADP</tspan>\n</text>\n\n<text class=\"displacy-token\" fill=\"currentColor\" text-anchor=\"middle\" y=\"1097.0\">\n    <tspan class=\"displacy-word\" fill=\"currentColor\" x=\"16675\">a</tspan>\n    <tspan class=\"displacy-tag\" dy=\"2em\" fill=\"currentColor\" x=\"16675\">DET</tspan>\n</text>\n\n<text class=\"displacy-token\" fill=\"currentColor\" text-anchor=\"middle\" y=\"1097.0\">\n    <tspan class=\"displacy-word\" fill=\"currentColor\" x=\"16850\">Lei</tspan>\n    <tspan class=\"displacy-tag\" dy=\"2em\" fill=\"currentColor\" x=\"16850\">PROPN</tspan>\n</text>\n\n<text class=\"displacy-token\" fill=\"currentColor\" text-anchor=\"middle\" y=\"1097.0\">\n    <tspan class=\"displacy-word\" fill=\"currentColor\" x=\"17025\">Geral</tspan>\n    <tspan class=\"displacy-tag\" dy=\"2em\" fill=\"currentColor\" x=\"17025\">PROPN</tspan>\n</text>\n\n<text class=\"displacy-token\" fill=\"currentColor\" text-anchor=\"middle\" y=\"1097.0\">\n    <tspan class=\"displacy-word\" fill=\"currentColor\" x=\"17200\">de</tspan>\n    <tspan class=\"displacy-tag\" dy=\"2em\" fill=\"currentColor\" x=\"17200\">ADP</tspan>\n</text>\n\n<text class=\"displacy-token\" fill=\"currentColor\" text-anchor=\"middle\" y=\"1097.0\">\n    <tspan class=\"displacy-word\" fill=\"currentColor\" x=\"17375\">Proteção</tspan>\n    <tspan class=\"displacy-tag\" dy=\"2em\" fill=\"currentColor\" x=\"17375\">PROPN</tspan>\n</text>\n\n<text class=\"displacy-token\" fill=\"currentColor\" text-anchor=\"middle\" y=\"1097.0\">\n    <tspan class=\"displacy-word\" fill=\"currentColor\" x=\"17550\">de</tspan>\n    <tspan class=\"displacy-tag\" dy=\"2em\" fill=\"currentColor\" x=\"17550\">ADP</tspan>\n</text>\n\n<text class=\"displacy-token\" fill=\"currentColor\" text-anchor=\"middle\" y=\"1097.0\">\n    <tspan class=\"displacy-word\" fill=\"currentColor\" x=\"17725\">Dados,</tspan>\n    <tspan class=\"displacy-tag\" dy=\"2em\" fill=\"currentColor\" x=\"17725\">NOUN</tspan>\n</text>\n\n<text class=\"displacy-token\" fill=\"currentColor\" text-anchor=\"middle\" y=\"1097.0\">\n    <tspan class=\"displacy-word\" fill=\"currentColor\" x=\"17900\">utilizando-se</tspan>\n    <tspan class=\"displacy-tag\" dy=\"2em\" fill=\"currentColor\" x=\"17900\">VERB</tspan>\n</text>\n\n<text class=\"displacy-token\" fill=\"currentColor\" text-anchor=\"middle\" y=\"1097.0\">\n    <tspan class=\"displacy-word\" fill=\"currentColor\" x=\"18075\">de</tspan>\n    <tspan class=\"displacy-tag\" dy=\"2em\" fill=\"currentColor\" x=\"18075\">ADP</tspan>\n</text>\n\n<text class=\"displacy-token\" fill=\"currentColor\" text-anchor=\"middle\" y=\"1097.0\">\n    <tspan class=\"displacy-word\" fill=\"currentColor\" x=\"18250\">técnicas</tspan>\n    <tspan class=\"displacy-tag\" dy=\"2em\" fill=\"currentColor\" x=\"18250\">NOUN</tspan>\n</text>\n\n<text class=\"displacy-token\" fill=\"currentColor\" text-anchor=\"middle\" y=\"1097.0\">\n    <tspan class=\"displacy-word\" fill=\"currentColor\" x=\"18425\">para</tspan>\n    <tspan class=\"displacy-tag\" dy=\"2em\" fill=\"currentColor\" x=\"18425\">SCONJ</tspan>\n</text>\n\n<text class=\"displacy-token\" fill=\"currentColor\" text-anchor=\"middle\" y=\"1097.0\">\n    <tspan class=\"displacy-word\" fill=\"currentColor\" x=\"18600\">produzir</tspan>\n    <tspan class=\"displacy-tag\" dy=\"2em\" fill=\"currentColor\" x=\"18600\">VERB</tspan>\n</text>\n\n<text class=\"displacy-token\" fill=\"currentColor\" text-anchor=\"middle\" y=\"1097.0\">\n    <tspan class=\"displacy-word\" fill=\"currentColor\" x=\"18775\">ruídos</tspan>\n    <tspan class=\"displacy-tag\" dy=\"2em\" fill=\"currentColor\" x=\"18775\">NOUN</tspan>\n</text>\n\n<text class=\"displacy-token\" fill=\"currentColor\" text-anchor=\"middle\" y=\"1097.0\">\n    <tspan class=\"displacy-word\" fill=\"currentColor\" x=\"18950\">de</tspan>\n    <tspan class=\"displacy-tag\" dy=\"2em\" fill=\"currentColor\" x=\"18950\">ADP</tspan>\n</text>\n\n<text class=\"displacy-token\" fill=\"currentColor\" text-anchor=\"middle\" y=\"1097.0\">\n    <tspan class=\"displacy-word\" fill=\"currentColor\" x=\"19125\">dados</tspan>\n    <tspan class=\"displacy-tag\" dy=\"2em\" fill=\"currentColor\" x=\"19125\">NOUN</tspan>\n</text>\n\n<text class=\"displacy-token\" fill=\"currentColor\" text-anchor=\"middle\" y=\"1097.0\">\n    <tspan class=\"displacy-word\" fill=\"currentColor\" x=\"19300\">sem</tspan>\n    <tspan class=\"displacy-tag\" dy=\"2em\" fill=\"currentColor\" x=\"19300\">SCONJ</tspan>\n</text>\n\n<text class=\"displacy-token\" fill=\"currentColor\" text-anchor=\"middle\" y=\"1097.0\">\n    <tspan class=\"displacy-word\" fill=\"currentColor\" x=\"19475\">prejudicar</tspan>\n    <tspan class=\"displacy-tag\" dy=\"2em\" fill=\"currentColor\" x=\"19475\">VERB</tspan>\n</text>\n\n<text class=\"displacy-token\" fill=\"currentColor\" text-anchor=\"middle\" y=\"1097.0\">\n    <tspan class=\"displacy-word\" fill=\"currentColor\" x=\"19650\">os</tspan>\n    <tspan class=\"displacy-tag\" dy=\"2em\" fill=\"currentColor\" x=\"19650\">DET</tspan>\n</text>\n\n<text class=\"displacy-token\" fill=\"currentColor\" text-anchor=\"middle\" y=\"1097.0\">\n    <tspan class=\"displacy-word\" fill=\"currentColor\" x=\"19825\">dados</tspan>\n    <tspan class=\"displacy-tag\" dy=\"2em\" fill=\"currentColor\" x=\"19825\">NOUN</tspan>\n</text>\n\n<text class=\"displacy-token\" fill=\"currentColor\" text-anchor=\"middle\" y=\"1097.0\">\n    <tspan class=\"displacy-word\" fill=\"currentColor\" x=\"20000\">estatisticamente.</tspan>\n    <tspan class=\"displacy-tag\" dy=\"2em\" fill=\"currentColor\" x=\"20000\">ADV</tspan>\n</text>\n\n<text class=\"displacy-token\" fill=\"currentColor\" text-anchor=\"middle\" y=\"1097.0\">\n    <tspan class=\"displacy-word\" fill=\"currentColor\" x=\"20175\">Após</tspan>\n    <tspan class=\"displacy-tag\" dy=\"2em\" fill=\"currentColor\" x=\"20175\">ADP</tspan>\n</text>\n\n<text class=\"displacy-token\" fill=\"currentColor\" text-anchor=\"middle\" y=\"1097.0\">\n    <tspan class=\"displacy-word\" fill=\"currentColor\" x=\"20350\">a</tspan>\n    <tspan class=\"displacy-tag\" dy=\"2em\" fill=\"currentColor\" x=\"20350\">DET</tspan>\n</text>\n\n<text class=\"displacy-token\" fill=\"currentColor\" text-anchor=\"middle\" y=\"1097.0\">\n    <tspan class=\"displacy-word\" fill=\"currentColor\" x=\"20525\">coleta</tspan>\n    <tspan class=\"displacy-tag\" dy=\"2em\" fill=\"currentColor\" x=\"20525\">NOUN</tspan>\n</text>\n\n<text class=\"displacy-token\" fill=\"currentColor\" text-anchor=\"middle\" y=\"1097.0\">\n    <tspan class=\"displacy-word\" fill=\"currentColor\" x=\"20700\">de</tspan>\n    <tspan class=\"displacy-tag\" dy=\"2em\" fill=\"currentColor\" x=\"20700\">ADP</tspan>\n</text>\n\n<text class=\"displacy-token\" fill=\"currentColor\" text-anchor=\"middle\" y=\"1097.0\">\n    <tspan class=\"displacy-word\" fill=\"currentColor\" x=\"20875\">dados,</tspan>\n    <tspan class=\"displacy-tag\" dy=\"2em\" fill=\"currentColor\" x=\"20875\">NOUN</tspan>\n</text>\n\n<text class=\"displacy-token\" fill=\"currentColor\" text-anchor=\"middle\" y=\"1097.0\">\n    <tspan class=\"displacy-word\" fill=\"currentColor\" x=\"21050\">foram</tspan>\n    <tspan class=\"displacy-tag\" dy=\"2em\" fill=\"currentColor\" x=\"21050\">AUX</tspan>\n</text>\n\n<text class=\"displacy-token\" fill=\"currentColor\" text-anchor=\"middle\" y=\"1097.0\">\n    <tspan class=\"displacy-word\" fill=\"currentColor\" x=\"21225\">aplicadas</tspan>\n    <tspan class=\"displacy-tag\" dy=\"2em\" fill=\"currentColor\" x=\"21225\">VERB</tspan>\n</text>\n\n<text class=\"displacy-token\" fill=\"currentColor\" text-anchor=\"middle\" y=\"1097.0\">\n    <tspan class=\"displacy-word\" fill=\"currentColor\" x=\"21400\">as</tspan>\n    <tspan class=\"displacy-tag\" dy=\"2em\" fill=\"currentColor\" x=\"21400\">DET</tspan>\n</text>\n\n<text class=\"displacy-token\" fill=\"currentColor\" text-anchor=\"middle\" y=\"1097.0\">\n    <tspan class=\"displacy-word\" fill=\"currentColor\" x=\"21575\">técnicas</tspan>\n    <tspan class=\"displacy-tag\" dy=\"2em\" fill=\"currentColor\" x=\"21575\">NOUN</tspan>\n</text>\n\n<text class=\"displacy-token\" fill=\"currentColor\" text-anchor=\"middle\" y=\"1097.0\">\n    <tspan class=\"displacy-word\" fill=\"currentColor\" x=\"21750\">estatísticas</tspan>\n    <tspan class=\"displacy-tag\" dy=\"2em\" fill=\"currentColor\" x=\"21750\">ADJ</tspan>\n</text>\n\n<text class=\"displacy-token\" fill=\"currentColor\" text-anchor=\"middle\" y=\"1097.0\">\n    <tspan class=\"displacy-word\" fill=\"currentColor\" x=\"21925\">para</tspan>\n    <tspan class=\"displacy-tag\" dy=\"2em\" fill=\"currentColor\" x=\"21925\">ADP</tspan>\n</text>\n\n<text class=\"displacy-token\" fill=\"currentColor\" text-anchor=\"middle\" y=\"1097.0\">\n    <tspan class=\"displacy-word\" fill=\"currentColor\" x=\"22100\">pré-processamento,</tspan>\n    <tspan class=\"displacy-tag\" dy=\"2em\" fill=\"currentColor\" x=\"22100\">NOUN</tspan>\n</text>\n\n<text class=\"displacy-token\" fill=\"currentColor\" text-anchor=\"middle\" y=\"1097.0\">\n    <tspan class=\"displacy-word\" fill=\"currentColor\" x=\"22275\">normalização</tspan>\n    <tspan class=\"displacy-tag\" dy=\"2em\" fill=\"currentColor\" x=\"22275\">NOUN</tspan>\n</text>\n\n<text class=\"displacy-token\" fill=\"currentColor\" text-anchor=\"middle\" y=\"1097.0\">\n    <tspan class=\"displacy-word\" fill=\"currentColor\" x=\"22450\">e</tspan>\n    <tspan class=\"displacy-tag\" dy=\"2em\" fill=\"currentColor\" x=\"22450\">CCONJ</tspan>\n</text>\n\n<text class=\"displacy-token\" fill=\"currentColor\" text-anchor=\"middle\" y=\"1097.0\">\n    <tspan class=\"displacy-word\" fill=\"currentColor\" x=\"22625\">padronização.</tspan>\n    <tspan class=\"displacy-tag\" dy=\"2em\" fill=\"currentColor\" x=\"22625\">NOUN</tspan>\n</text>\n\n<text class=\"displacy-token\" fill=\"currentColor\" text-anchor=\"middle\" y=\"1097.0\">\n    <tspan class=\"displacy-word\" fill=\"currentColor\" x=\"22800\">Todo</tspan>\n    <tspan class=\"displacy-tag\" dy=\"2em\" fill=\"currentColor\" x=\"22800\">DET</tspan>\n</text>\n\n<text class=\"displacy-token\" fill=\"currentColor\" text-anchor=\"middle\" y=\"1097.0\">\n    <tspan class=\"displacy-word\" fill=\"currentColor\" x=\"22975\">o</tspan>\n    <tspan class=\"displacy-tag\" dy=\"2em\" fill=\"currentColor\" x=\"22975\">DET</tspan>\n</text>\n\n<text class=\"displacy-token\" fill=\"currentColor\" text-anchor=\"middle\" y=\"1097.0\">\n    <tspan class=\"displacy-word\" fill=\"currentColor\" x=\"23150\">estudo</tspan>\n    <tspan class=\"displacy-tag\" dy=\"2em\" fill=\"currentColor\" x=\"23150\">NOUN</tspan>\n</text>\n\n<text class=\"displacy-token\" fill=\"currentColor\" text-anchor=\"middle\" y=\"1097.0\">\n    <tspan class=\"displacy-word\" fill=\"currentColor\" x=\"23325\">foi</tspan>\n    <tspan class=\"displacy-tag\" dy=\"2em\" fill=\"currentColor\" x=\"23325\">AUX</tspan>\n</text>\n\n<text class=\"displacy-token\" fill=\"currentColor\" text-anchor=\"middle\" y=\"1097.0\">\n    <tspan class=\"displacy-word\" fill=\"currentColor\" x=\"23500\">feito</tspan>\n    <tspan class=\"displacy-tag\" dy=\"2em\" fill=\"currentColor\" x=\"23500\">VERB</tspan>\n</text>\n\n<text class=\"displacy-token\" fill=\"currentColor\" text-anchor=\"middle\" y=\"1097.0\">\n    <tspan class=\"displacy-word\" fill=\"currentColor\" x=\"23675\">em</tspan>\n    <tspan class=\"displacy-tag\" dy=\"2em\" fill=\"currentColor\" x=\"23675\">ADP</tspan>\n</text>\n\n<text class=\"displacy-token\" fill=\"currentColor\" text-anchor=\"middle\" y=\"1097.0\">\n    <tspan class=\"displacy-word\" fill=\"currentColor\" x=\"23850\">linguagem</tspan>\n    <tspan class=\"displacy-tag\" dy=\"2em\" fill=\"currentColor\" x=\"23850\">NOUN</tspan>\n</text>\n\n<text class=\"displacy-token\" fill=\"currentColor\" text-anchor=\"middle\" y=\"1097.0\">\n    <tspan class=\"displacy-word\" fill=\"currentColor\" x=\"24025\">de</tspan>\n    <tspan class=\"displacy-tag\" dy=\"2em\" fill=\"currentColor\" x=\"24025\">ADP</tspan>\n</text>\n\n<text class=\"displacy-token\" fill=\"currentColor\" text-anchor=\"middle\" y=\"1097.0\">\n    <tspan class=\"displacy-word\" fill=\"currentColor\" x=\"24200\">programação</tspan>\n    <tspan class=\"displacy-tag\" dy=\"2em\" fill=\"currentColor\" x=\"24200\">NOUN</tspan>\n</text>\n\n<text class=\"displacy-token\" fill=\"currentColor\" text-anchor=\"middle\" y=\"1097.0\">\n    <tspan class=\"displacy-word\" fill=\"currentColor\" x=\"24375\">e</tspan>\n    <tspan class=\"displacy-tag\" dy=\"2em\" fill=\"currentColor\" x=\"24375\">CCONJ</tspan>\n</text>\n\n<text class=\"displacy-token\" fill=\"currentColor\" text-anchor=\"middle\" y=\"1097.0\">\n    <tspan class=\"displacy-word\" fill=\"currentColor\" x=\"24550\">o</tspan>\n    <tspan class=\"displacy-tag\" dy=\"2em\" fill=\"currentColor\" x=\"24550\">DET</tspan>\n</text>\n\n<text class=\"displacy-token\" fill=\"currentColor\" text-anchor=\"middle\" y=\"1097.0\">\n    <tspan class=\"displacy-word\" fill=\"currentColor\" x=\"24725\">modelo</tspan>\n    <tspan class=\"displacy-tag\" dy=\"2em\" fill=\"currentColor\" x=\"24725\">NOUN</tspan>\n</text>\n\n<text class=\"displacy-token\" fill=\"currentColor\" text-anchor=\"middle\" y=\"1097.0\">\n    <tspan class=\"displacy-word\" fill=\"currentColor\" x=\"24900\">foi</tspan>\n    <tspan class=\"displacy-tag\" dy=\"2em\" fill=\"currentColor\" x=\"24900\">AUX</tspan>\n</text>\n\n<text class=\"displacy-token\" fill=\"currentColor\" text-anchor=\"middle\" y=\"1097.0\">\n    <tspan class=\"displacy-word\" fill=\"currentColor\" x=\"25075\">testado</tspan>\n    <tspan class=\"displacy-tag\" dy=\"2em\" fill=\"currentColor\" x=\"25075\">VERB</tspan>\n</text>\n\n<text class=\"displacy-token\" fill=\"currentColor\" text-anchor=\"middle\" y=\"1097.0\">\n    <tspan class=\"displacy-word\" fill=\"currentColor\" x=\"25250\">até</tspan>\n    <tspan class=\"displacy-tag\" dy=\"2em\" fill=\"currentColor\" x=\"25250\">SCONJ</tspan>\n</text>\n\n<text class=\"displacy-token\" fill=\"currentColor\" text-anchor=\"middle\" y=\"1097.0\">\n    <tspan class=\"displacy-word\" fill=\"currentColor\" x=\"25425\">chegar</tspan>\n    <tspan class=\"displacy-tag\" dy=\"2em\" fill=\"currentColor\" x=\"25425\">VERB</tspan>\n</text>\n\n<text class=\"displacy-token\" fill=\"currentColor\" text-anchor=\"middle\" y=\"1097.0\">\n    <tspan class=\"displacy-word\" fill=\"currentColor\" x=\"25600\">ao</tspan>\n    <tspan class=\"displacy-tag\" dy=\"2em\" fill=\"currentColor\" x=\"25600\">PRON</tspan>\n</text>\n\n<text class=\"displacy-token\" fill=\"currentColor\" text-anchor=\"middle\" y=\"1097.0\">\n    <tspan class=\"displacy-word\" fill=\"currentColor\" x=\"25775\">que</tspan>\n    <tspan class=\"displacy-tag\" dy=\"2em\" fill=\"currentColor\" x=\"25775\">PRON</tspan>\n</text>\n\n<text class=\"displacy-token\" fill=\"currentColor\" text-anchor=\"middle\" y=\"1097.0\">\n    <tspan class=\"displacy-word\" fill=\"currentColor\" x=\"25950\">consideramos</tspan>\n    <tspan class=\"displacy-tag\" dy=\"2em\" fill=\"currentColor\" x=\"25950\">VERB</tspan>\n</text>\n\n<text class=\"displacy-token\" fill=\"currentColor\" text-anchor=\"middle\" y=\"1097.0\">\n    <tspan class=\"displacy-word\" fill=\"currentColor\" x=\"26125\">ideal</tspan>\n    <tspan class=\"displacy-tag\" dy=\"2em\" fill=\"currentColor\" x=\"26125\">ADJ</tspan>\n</text>\n\n<text class=\"displacy-token\" fill=\"currentColor\" text-anchor=\"middle\" y=\"1097.0\">\n    <tspan class=\"displacy-word\" fill=\"currentColor\" x=\"26300\">por</tspan>\n    <tspan class=\"displacy-tag\" dy=\"2em\" fill=\"currentColor\" x=\"26300\">SCONJ</tspan>\n</text>\n\n<text class=\"displacy-token\" fill=\"currentColor\" text-anchor=\"middle\" y=\"1097.0\">\n    <tspan class=\"displacy-word\" fill=\"currentColor\" x=\"26475\">conseguir</tspan>\n    <tspan class=\"displacy-tag\" dy=\"2em\" fill=\"currentColor\" x=\"26475\">VERB</tspan>\n</text>\n\n<text class=\"displacy-token\" fill=\"currentColor\" text-anchor=\"middle\" y=\"1097.0\">\n    <tspan class=\"displacy-word\" fill=\"currentColor\" x=\"26650\">atingir</tspan>\n    <tspan class=\"displacy-tag\" dy=\"2em\" fill=\"currentColor\" x=\"26650\">VERB</tspan>\n</text>\n\n<text class=\"displacy-token\" fill=\"currentColor\" text-anchor=\"middle\" y=\"1097.0\">\n    <tspan class=\"displacy-word\" fill=\"currentColor\" x=\"26825\">um</tspan>\n    <tspan class=\"displacy-tag\" dy=\"2em\" fill=\"currentColor\" x=\"26825\">DET</tspan>\n</text>\n\n<text class=\"displacy-token\" fill=\"currentColor\" text-anchor=\"middle\" y=\"1097.0\">\n    <tspan class=\"displacy-word\" fill=\"currentColor\" x=\"27000\">percentual</tspan>\n    <tspan class=\"displacy-tag\" dy=\"2em\" fill=\"currentColor\" x=\"27000\">NOUN</tspan>\n</text>\n\n<text class=\"displacy-token\" fill=\"currentColor\" text-anchor=\"middle\" y=\"1097.0\">\n    <tspan class=\"displacy-word\" fill=\"currentColor\" x=\"27175\">alto</tspan>\n    <tspan class=\"displacy-tag\" dy=\"2em\" fill=\"currentColor\" x=\"27175\">ADJ</tspan>\n</text>\n\n<text class=\"displacy-token\" fill=\"currentColor\" text-anchor=\"middle\" y=\"1097.0\">\n    <tspan class=\"displacy-word\" fill=\"currentColor\" x=\"27350\">de</tspan>\n    <tspan class=\"displacy-tag\" dy=\"2em\" fill=\"currentColor\" x=\"27350\">ADP</tspan>\n</text>\n\n<text class=\"displacy-token\" fill=\"currentColor\" text-anchor=\"middle\" y=\"1097.0\">\n    <tspan class=\"displacy-word\" fill=\"currentColor\" x=\"27525\">acerto</tspan>\n    <tspan class=\"displacy-tag\" dy=\"2em\" fill=\"currentColor\" x=\"27525\">NOUN</tspan>\n</text>\n\n<text class=\"displacy-token\" fill=\"currentColor\" text-anchor=\"middle\" y=\"1097.0\">\n    <tspan class=\"displacy-word\" fill=\"currentColor\" x=\"27700\">ao</tspan>\n    <tspan class=\"displacy-tag\" dy=\"2em\" fill=\"currentColor\" x=\"27700\">SCONJ</tspan>\n</text>\n\n<text class=\"displacy-token\" fill=\"currentColor\" text-anchor=\"middle\" y=\"1097.0\">\n    <tspan class=\"displacy-word\" fill=\"currentColor\" x=\"27875\">detectar</tspan>\n    <tspan class=\"displacy-tag\" dy=\"2em\" fill=\"currentColor\" x=\"27875\">VERB</tspan>\n</text>\n\n<text class=\"displacy-token\" fill=\"currentColor\" text-anchor=\"middle\" y=\"1097.0\">\n    <tspan class=\"displacy-word\" fill=\"currentColor\" x=\"28050\">fraudes</tspan>\n    <tspan class=\"displacy-tag\" dy=\"2em\" fill=\"currentColor\" x=\"28050\">NOUN</tspan>\n</text>\n\n<text class=\"displacy-token\" fill=\"currentColor\" text-anchor=\"middle\" y=\"1097.0\">\n    <tspan class=\"displacy-word\" fill=\"currentColor\" x=\"28225\">em</tspan>\n    <tspan class=\"displacy-tag\" dy=\"2em\" fill=\"currentColor\" x=\"28225\">ADP</tspan>\n</text>\n\n<text class=\"displacy-token\" fill=\"currentColor\" text-anchor=\"middle\" y=\"1097.0\">\n    <tspan class=\"displacy-word\" fill=\"currentColor\" x=\"28400\">dados</tspan>\n    <tspan class=\"displacy-tag\" dy=\"2em\" fill=\"currentColor\" x=\"28400\">NOUN</tspan>\n</text>\n\n<text class=\"displacy-token\" fill=\"currentColor\" text-anchor=\"middle\" y=\"1097.0\">\n    <tspan class=\"displacy-word\" fill=\"currentColor\" x=\"28575\">financeiros</tspan>\n    <tspan class=\"displacy-tag\" dy=\"2em\" fill=\"currentColor\" x=\"28575\">ADJ</tspan>\n</text>\n\n<text class=\"displacy-token\" fill=\"currentColor\" text-anchor=\"middle\" y=\"1097.0\">\n    <tspan class=\"displacy-word\" fill=\"currentColor\" x=\"28750\">usando</tspan>\n    <tspan class=\"displacy-tag\" dy=\"2em\" fill=\"currentColor\" x=\"28750\">VERB</tspan>\n</text>\n\n<text class=\"displacy-token\" fill=\"currentColor\" text-anchor=\"middle\" y=\"1097.0\">\n    <tspan class=\"displacy-word\" fill=\"currentColor\" x=\"28925\">inteligência</tspan>\n    <tspan class=\"displacy-tag\" dy=\"2em\" fill=\"currentColor\" x=\"28925\">NOUN</tspan>\n</text>\n\n<text class=\"displacy-token\" fill=\"currentColor\" text-anchor=\"middle\" y=\"1097.0\">\n    <tspan class=\"displacy-word\" fill=\"currentColor\" x=\"29100\">artificial</tspan>\n    <tspan class=\"displacy-tag\" dy=\"2em\" fill=\"currentColor\" x=\"29100\">ADJ</tspan>\n</text>\n\n<g class=\"displacy-arrow\">\n    <path class=\"displacy-arc\" d=\"M70,1052.0 C70,702.0 710.0,702.0 710.0,1052.0\" fill=\"none\" id=\"arrow-1969907da1fb4a739e014329deb727e0-0-0\" stroke=\"currentColor\" stroke-width=\"2px\"/>\n    <text dy=\"1.25em\" style=\"font-size: 0.8em; letter-spacing: 1px\">\n        <textPath class=\"displacy-label\" fill=\"currentColor\" side=\"left\" startOffset=\"50%\" text-anchor=\"middle\" xlink:href=\"#arrow-1969907da1fb4a739e014329deb727e0-0-0\">nsubj</textPath>\n    </text>\n    <path class=\"displacy-arrowhead\" d=\"M70,1054.0 L62,1042.0 78,1042.0\" fill=\"currentColor\"/>\n</g>\n\n<g class=\"displacy-arrow\">\n    <path class=\"displacy-arc\" d=\"M245,1052.0 C245,964.5 345.0,964.5 345.0,1052.0\" fill=\"none\" id=\"arrow-1969907da1fb4a739e014329deb727e0-0-1\" stroke=\"currentColor\" stroke-width=\"2px\"/>\n    <text dy=\"1.25em\" style=\"font-size: 0.8em; letter-spacing: 1px\">\n        <textPath class=\"displacy-label\" fill=\"currentColor\" side=\"left\" startOffset=\"50%\" text-anchor=\"middle\" xlink:href=\"#arrow-1969907da1fb4a739e014329deb727e0-0-1\">case</textPath>\n    </text>\n    <path class=\"displacy-arrowhead\" d=\"M245,1054.0 L237,1042.0 253,1042.0\" fill=\"currentColor\"/>\n</g>\n\n<g class=\"displacy-arrow\">\n    <path class=\"displacy-arc\" d=\"M70,1052.0 C70,877.0 350.0,877.0 350.0,1052.0\" fill=\"none\" id=\"arrow-1969907da1fb4a739e014329deb727e0-0-2\" stroke=\"currentColor\" stroke-width=\"2px\"/>\n    <text dy=\"1.25em\" style=\"font-size: 0.8em; letter-spacing: 1px\">\n        <textPath class=\"displacy-label\" fill=\"currentColor\" side=\"left\" startOffset=\"50%\" text-anchor=\"middle\" xlink:href=\"#arrow-1969907da1fb4a739e014329deb727e0-0-2\">nmod</textPath>\n    </text>\n    <path class=\"displacy-arrowhead\" d=\"M350.0,1054.0 L358.0,1042.0 342.0,1042.0\" fill=\"currentColor\"/>\n</g>\n\n<g class=\"displacy-arrow\">\n    <path class=\"displacy-arc\" d=\"M420,1052.0 C420,964.5 520.0,964.5 520.0,1052.0\" fill=\"none\" id=\"arrow-1969907da1fb4a739e014329deb727e0-0-3\" stroke=\"currentColor\" stroke-width=\"2px\"/>\n    <text dy=\"1.25em\" style=\"font-size: 0.8em; letter-spacing: 1px\">\n        <textPath class=\"displacy-label\" fill=\"currentColor\" side=\"left\" startOffset=\"50%\" text-anchor=\"middle\" xlink:href=\"#arrow-1969907da1fb4a739e014329deb727e0-0-3\">amod</textPath>\n    </text>\n    <path class=\"displacy-arrowhead\" d=\"M520.0,1054.0 L528.0,1042.0 512.0,1042.0\" fill=\"currentColor\"/>\n</g>\n\n<g class=\"displacy-arrow\">\n    <path class=\"displacy-arc\" d=\"M945,1052.0 C945,964.5 1045.0,964.5 1045.0,1052.0\" fill=\"none\" id=\"arrow-1969907da1fb4a739e014329deb727e0-0-4\" stroke=\"currentColor\" stroke-width=\"2px\"/>\n    <text dy=\"1.25em\" style=\"font-size: 0.8em; letter-spacing: 1px\">\n        <textPath class=\"displacy-label\" fill=\"currentColor\" side=\"left\" startOffset=\"50%\" text-anchor=\"middle\" xlink:href=\"#arrow-1969907da1fb4a739e014329deb727e0-0-4\">case</textPath>\n    </text>\n    <path class=\"displacy-arrowhead\" d=\"M945,1054.0 L937,1042.0 953,1042.0\" fill=\"currentColor\"/>\n</g>\n\n<g class=\"displacy-arrow\">\n    <path class=\"displacy-arc\" d=\"M770,1052.0 C770,877.0 1050.0,877.0 1050.0,1052.0\" fill=\"none\" id=\"arrow-1969907da1fb4a739e014329deb727e0-0-5\" stroke=\"currentColor\" stroke-width=\"2px\"/>\n    <text dy=\"1.25em\" style=\"font-size: 0.8em; letter-spacing: 1px\">\n        <textPath class=\"displacy-label\" fill=\"currentColor\" side=\"left\" startOffset=\"50%\" text-anchor=\"middle\" xlink:href=\"#arrow-1969907da1fb4a739e014329deb727e0-0-5\">obl</textPath>\n    </text>\n    <path class=\"displacy-arrowhead\" d=\"M1050.0,1054.0 L1058.0,1042.0 1042.0,1042.0\" fill=\"currentColor\"/>\n</g>\n\n<g class=\"displacy-arrow\">\n    <path class=\"displacy-arc\" d=\"M1295,1052.0 C1295,964.5 1395.0,964.5 1395.0,1052.0\" fill=\"none\" id=\"arrow-1969907da1fb4a739e014329deb727e0-0-6\" stroke=\"currentColor\" stroke-width=\"2px\"/>\n    <text dy=\"1.25em\" style=\"font-size: 0.8em; letter-spacing: 1px\">\n        <textPath class=\"displacy-label\" fill=\"currentColor\" side=\"left\" startOffset=\"50%\" text-anchor=\"middle\" xlink:href=\"#arrow-1969907da1fb4a739e014329deb727e0-0-6\">case</textPath>\n    </text>\n    <path class=\"displacy-arrowhead\" d=\"M1295,1054.0 L1287,1042.0 1303,1042.0\" fill=\"currentColor\"/>\n</g>\n\n<g class=\"displacy-arrow\">\n    <path class=\"displacy-arc\" d=\"M1120,1052.0 C1120,877.0 1400.0,877.0 1400.0,1052.0\" fill=\"none\" id=\"arrow-1969907da1fb4a739e014329deb727e0-0-7\" stroke=\"currentColor\" stroke-width=\"2px\"/>\n    <text dy=\"1.25em\" style=\"font-size: 0.8em; letter-spacing: 1px\">\n        <textPath class=\"displacy-label\" fill=\"currentColor\" side=\"left\" startOffset=\"50%\" text-anchor=\"middle\" xlink:href=\"#arrow-1969907da1fb4a739e014329deb727e0-0-7\">nmod</textPath>\n    </text>\n    <path class=\"displacy-arrowhead\" d=\"M1400.0,1054.0 L1408.0,1042.0 1392.0,1042.0\" fill=\"currentColor\"/>\n</g>\n\n<g class=\"displacy-arrow\">\n    <path class=\"displacy-arc\" d=\"M1645,1052.0 C1645,877.0 1925.0,877.0 1925.0,1052.0\" fill=\"none\" id=\"arrow-1969907da1fb4a739e014329deb727e0-0-8\" stroke=\"currentColor\" stroke-width=\"2px\"/>\n    <text dy=\"1.25em\" style=\"font-size: 0.8em; letter-spacing: 1px\">\n        <textPath class=\"displacy-label\" fill=\"currentColor\" side=\"left\" startOffset=\"50%\" text-anchor=\"middle\" xlink:href=\"#arrow-1969907da1fb4a739e014329deb727e0-0-8\">cc</textPath>\n    </text>\n    <path class=\"displacy-arrowhead\" d=\"M1645,1054.0 L1637,1042.0 1653,1042.0\" fill=\"currentColor\"/>\n</g>\n\n<g class=\"displacy-arrow\">\n    <path class=\"displacy-arc\" d=\"M1820,1052.0 C1820,964.5 1920.0,964.5 1920.0,1052.0\" fill=\"none\" id=\"arrow-1969907da1fb4a739e014329deb727e0-0-9\" stroke=\"currentColor\" stroke-width=\"2px\"/>\n    <text dy=\"1.25em\" style=\"font-size: 0.8em; letter-spacing: 1px\">\n        <textPath class=\"displacy-label\" fill=\"currentColor\" side=\"left\" startOffset=\"50%\" text-anchor=\"middle\" xlink:href=\"#arrow-1969907da1fb4a739e014329deb727e0-0-9\">case</textPath>\n    </text>\n    <path class=\"displacy-arrowhead\" d=\"M1820,1054.0 L1812,1042.0 1828,1042.0\" fill=\"currentColor\"/>\n</g>\n\n<g class=\"displacy-arrow\">\n    <path class=\"displacy-arc\" d=\"M1120,1052.0 C1120,614.5 1940.0,614.5 1940.0,1052.0\" fill=\"none\" id=\"arrow-1969907da1fb4a739e014329deb727e0-0-10\" stroke=\"currentColor\" stroke-width=\"2px\"/>\n    <text dy=\"1.25em\" style=\"font-size: 0.8em; letter-spacing: 1px\">\n        <textPath class=\"displacy-label\" fill=\"currentColor\" side=\"left\" startOffset=\"50%\" text-anchor=\"middle\" xlink:href=\"#arrow-1969907da1fb4a739e014329deb727e0-0-10\">conj</textPath>\n    </text>\n    <path class=\"displacy-arrowhead\" d=\"M1940.0,1054.0 L1948.0,1042.0 1932.0,1042.0\" fill=\"currentColor\"/>\n</g>\n\n<g class=\"displacy-arrow\">\n    <path class=\"displacy-arc\" d=\"M2170,1052.0 C2170,964.5 2270.0,964.5 2270.0,1052.0\" fill=\"none\" id=\"arrow-1969907da1fb4a739e014329deb727e0-0-11\" stroke=\"currentColor\" stroke-width=\"2px\"/>\n    <text dy=\"1.25em\" style=\"font-size: 0.8em; letter-spacing: 1px\">\n        <textPath class=\"displacy-label\" fill=\"currentColor\" side=\"left\" startOffset=\"50%\" text-anchor=\"middle\" xlink:href=\"#arrow-1969907da1fb4a739e014329deb727e0-0-11\">case</textPath>\n    </text>\n    <path class=\"displacy-arrowhead\" d=\"M2170,1054.0 L2162,1042.0 2178,1042.0\" fill=\"currentColor\"/>\n</g>\n\n<g class=\"displacy-arrow\">\n    <path class=\"displacy-arc\" d=\"M1995,1052.0 C1995,877.0 2275.0,877.0 2275.0,1052.0\" fill=\"none\" id=\"arrow-1969907da1fb4a739e014329deb727e0-0-12\" stroke=\"currentColor\" stroke-width=\"2px\"/>\n    <text dy=\"1.25em\" style=\"font-size: 0.8em; letter-spacing: 1px\">\n        <textPath class=\"displacy-label\" fill=\"currentColor\" side=\"left\" startOffset=\"50%\" text-anchor=\"middle\" xlink:href=\"#arrow-1969907da1fb4a739e014329deb727e0-0-12\">nmod</textPath>\n    </text>\n    <path class=\"displacy-arrowhead\" d=\"M2275.0,1054.0 L2283.0,1042.0 2267.0,1042.0\" fill=\"currentColor\"/>\n</g>\n\n<g class=\"displacy-arrow\">\n    <path class=\"displacy-arc\" d=\"M2345,1052.0 C2345,964.5 2445.0,964.5 2445.0,1052.0\" fill=\"none\" id=\"arrow-1969907da1fb4a739e014329deb727e0-0-13\" stroke=\"currentColor\" stroke-width=\"2px\"/>\n    <text dy=\"1.25em\" style=\"font-size: 0.8em; letter-spacing: 1px\">\n        <textPath class=\"displacy-label\" fill=\"currentColor\" side=\"left\" startOffset=\"50%\" text-anchor=\"middle\" xlink:href=\"#arrow-1969907da1fb4a739e014329deb727e0-0-13\">amod</textPath>\n    </text>\n    <path class=\"displacy-arrowhead\" d=\"M2445.0,1054.0 L2453.0,1042.0 2437.0,1042.0\" fill=\"currentColor\"/>\n</g>\n\n<g class=\"displacy-arrow\">\n    <path class=\"displacy-arc\" d=\"M2695,1052.0 C2695,964.5 2795.0,964.5 2795.0,1052.0\" fill=\"none\" id=\"arrow-1969907da1fb4a739e014329deb727e0-0-14\" stroke=\"currentColor\" stroke-width=\"2px\"/>\n    <text dy=\"1.25em\" style=\"font-size: 0.8em; letter-spacing: 1px\">\n        <textPath class=\"displacy-label\" fill=\"currentColor\" side=\"left\" startOffset=\"50%\" text-anchor=\"middle\" xlink:href=\"#arrow-1969907da1fb4a739e014329deb727e0-0-14\">det</textPath>\n    </text>\n    <path class=\"displacy-arrowhead\" d=\"M2695,1054.0 L2687,1042.0 2703,1042.0\" fill=\"currentColor\"/>\n</g>\n\n<g class=\"displacy-arrow\">\n    <path class=\"displacy-arc\" d=\"M2870,1052.0 C2870,702.0 3510.0,702.0 3510.0,1052.0\" fill=\"none\" id=\"arrow-1969907da1fb4a739e014329deb727e0-0-15\" stroke=\"currentColor\" stroke-width=\"2px\"/>\n    <text dy=\"1.25em\" style=\"font-size: 0.8em; letter-spacing: 1px\">\n        <textPath class=\"displacy-label\" fill=\"currentColor\" side=\"left\" startOffset=\"50%\" text-anchor=\"middle\" xlink:href=\"#arrow-1969907da1fb4a739e014329deb727e0-0-15\">nsubj</textPath>\n    </text>\n    <path class=\"displacy-arrowhead\" d=\"M2870,1054.0 L2862,1042.0 2878,1042.0\" fill=\"currentColor\"/>\n</g>\n\n<g class=\"displacy-arrow\">\n    <path class=\"displacy-arc\" d=\"M3045,1052.0 C3045,964.5 3145.0,964.5 3145.0,1052.0\" fill=\"none\" id=\"arrow-1969907da1fb4a739e014329deb727e0-0-16\" stroke=\"currentColor\" stroke-width=\"2px\"/>\n    <text dy=\"1.25em\" style=\"font-size: 0.8em; letter-spacing: 1px\">\n        <textPath class=\"displacy-label\" fill=\"currentColor\" side=\"left\" startOffset=\"50%\" text-anchor=\"middle\" xlink:href=\"#arrow-1969907da1fb4a739e014329deb727e0-0-16\">case</textPath>\n    </text>\n    <path class=\"displacy-arrowhead\" d=\"M3045,1054.0 L3037,1042.0 3053,1042.0\" fill=\"currentColor\"/>\n</g>\n\n<g class=\"displacy-arrow\">\n    <path class=\"displacy-arc\" d=\"M2870,1052.0 C2870,877.0 3150.0,877.0 3150.0,1052.0\" fill=\"none\" id=\"arrow-1969907da1fb4a739e014329deb727e0-0-17\" stroke=\"currentColor\" stroke-width=\"2px\"/>\n    <text dy=\"1.25em\" style=\"font-size: 0.8em; letter-spacing: 1px\">\n        <textPath class=\"displacy-label\" fill=\"currentColor\" side=\"left\" startOffset=\"50%\" text-anchor=\"middle\" xlink:href=\"#arrow-1969907da1fb4a739e014329deb727e0-0-17\">nmod</textPath>\n    </text>\n    <path class=\"displacy-arrowhead\" d=\"M3150.0,1054.0 L3158.0,1042.0 3142.0,1042.0\" fill=\"currentColor\"/>\n</g>\n\n<g class=\"displacy-arrow\">\n    <path class=\"displacy-arc\" d=\"M2870,1052.0 C2870,789.5 3330.0,789.5 3330.0,1052.0\" fill=\"none\" id=\"arrow-1969907da1fb4a739e014329deb727e0-0-18\" stroke=\"currentColor\" stroke-width=\"2px\"/>\n    <text dy=\"1.25em\" style=\"font-size: 0.8em; letter-spacing: 1px\">\n        <textPath class=\"displacy-label\" fill=\"currentColor\" side=\"left\" startOffset=\"50%\" text-anchor=\"middle\" xlink:href=\"#arrow-1969907da1fb4a739e014329deb727e0-0-18\">nmod</textPath>\n    </text>\n    <path class=\"displacy-arrowhead\" d=\"M3330.0,1054.0 L3338.0,1042.0 3322.0,1042.0\" fill=\"currentColor\"/>\n</g>\n\n<g class=\"displacy-arrow\">\n    <path class=\"displacy-arc\" d=\"M3570,1052.0 C3570,964.5 3670.0,964.5 3670.0,1052.0\" fill=\"none\" id=\"arrow-1969907da1fb4a739e014329deb727e0-0-19\" stroke=\"currentColor\" stroke-width=\"2px\"/>\n    <text dy=\"1.25em\" style=\"font-size: 0.8em; letter-spacing: 1px\">\n        <textPath class=\"displacy-label\" fill=\"currentColor\" side=\"left\" startOffset=\"50%\" text-anchor=\"middle\" xlink:href=\"#arrow-1969907da1fb4a739e014329deb727e0-0-19\">xcomp</textPath>\n    </text>\n    <path class=\"displacy-arrowhead\" d=\"M3670.0,1054.0 L3678.0,1042.0 3662.0,1042.0\" fill=\"currentColor\"/>\n</g>\n\n<g class=\"displacy-arrow\">\n    <path class=\"displacy-arc\" d=\"M3920,1052.0 C3920,964.5 4020.0,964.5 4020.0,1052.0\" fill=\"none\" id=\"arrow-1969907da1fb4a739e014329deb727e0-0-20\" stroke=\"currentColor\" stroke-width=\"2px\"/>\n    <text dy=\"1.25em\" style=\"font-size: 0.8em; letter-spacing: 1px\">\n        <textPath class=\"displacy-label\" fill=\"currentColor\" side=\"left\" startOffset=\"50%\" text-anchor=\"middle\" xlink:href=\"#arrow-1969907da1fb4a739e014329deb727e0-0-20\">amod</textPath>\n    </text>\n    <path class=\"displacy-arrowhead\" d=\"M3920,1054.0 L3912,1042.0 3928,1042.0\" fill=\"currentColor\"/>\n</g>\n\n<g class=\"displacy-arrow\">\n    <path class=\"displacy-arc\" d=\"M3745,1052.0 C3745,877.0 4025.0,877.0 4025.0,1052.0\" fill=\"none\" id=\"arrow-1969907da1fb4a739e014329deb727e0-0-21\" stroke=\"currentColor\" stroke-width=\"2px\"/>\n    <text dy=\"1.25em\" style=\"font-size: 0.8em; letter-spacing: 1px\">\n        <textPath class=\"displacy-label\" fill=\"currentColor\" side=\"left\" startOffset=\"50%\" text-anchor=\"middle\" xlink:href=\"#arrow-1969907da1fb4a739e014329deb727e0-0-21\">obj</textPath>\n    </text>\n    <path class=\"displacy-arrowhead\" d=\"M4025.0,1054.0 L4033.0,1042.0 4017.0,1042.0\" fill=\"currentColor\"/>\n</g>\n\n<g class=\"displacy-arrow\">\n    <path class=\"displacy-arc\" d=\"M4270,1052.0 C4270,964.5 4370.0,964.5 4370.0,1052.0\" fill=\"none\" id=\"arrow-1969907da1fb4a739e014329deb727e0-0-22\" stroke=\"currentColor\" stroke-width=\"2px\"/>\n    <text dy=\"1.25em\" style=\"font-size: 0.8em; letter-spacing: 1px\">\n        <textPath class=\"displacy-label\" fill=\"currentColor\" side=\"left\" startOffset=\"50%\" text-anchor=\"middle\" xlink:href=\"#arrow-1969907da1fb4a739e014329deb727e0-0-22\">case</textPath>\n    </text>\n    <path class=\"displacy-arrowhead\" d=\"M4270,1054.0 L4262,1042.0 4278,1042.0\" fill=\"currentColor\"/>\n</g>\n\n<g class=\"displacy-arrow\">\n    <path class=\"displacy-arc\" d=\"M4095,1052.0 C4095,877.0 4375.0,877.0 4375.0,1052.0\" fill=\"none\" id=\"arrow-1969907da1fb4a739e014329deb727e0-0-23\" stroke=\"currentColor\" stroke-width=\"2px\"/>\n    <text dy=\"1.25em\" style=\"font-size: 0.8em; letter-spacing: 1px\">\n        <textPath class=\"displacy-label\" fill=\"currentColor\" side=\"left\" startOffset=\"50%\" text-anchor=\"middle\" xlink:href=\"#arrow-1969907da1fb4a739e014329deb727e0-0-23\">nmod</textPath>\n    </text>\n    <path class=\"displacy-arrowhead\" d=\"M4375.0,1054.0 L4383.0,1042.0 4367.0,1042.0\" fill=\"currentColor\"/>\n</g>\n\n<g class=\"displacy-arrow\">\n    <path class=\"displacy-arc\" d=\"M4445,1052.0 C4445,964.5 4545.0,964.5 4545.0,1052.0\" fill=\"none\" id=\"arrow-1969907da1fb4a739e014329deb727e0-0-24\" stroke=\"currentColor\" stroke-width=\"2px\"/>\n    <text dy=\"1.25em\" style=\"font-size: 0.8em; letter-spacing: 1px\">\n        <textPath class=\"displacy-label\" fill=\"currentColor\" side=\"left\" startOffset=\"50%\" text-anchor=\"middle\" xlink:href=\"#arrow-1969907da1fb4a739e014329deb727e0-0-24\">acl</textPath>\n    </text>\n    <path class=\"displacy-arrowhead\" d=\"M4545.0,1054.0 L4553.0,1042.0 4537.0,1042.0\" fill=\"currentColor\"/>\n</g>\n\n<g class=\"displacy-arrow\">\n    <path class=\"displacy-arc\" d=\"M4795,1052.0 C4795,877.0 5075.0,877.0 5075.0,1052.0\" fill=\"none\" id=\"arrow-1969907da1fb4a739e014329deb727e0-0-25\" stroke=\"currentColor\" stroke-width=\"2px\"/>\n    <text dy=\"1.25em\" style=\"font-size: 0.8em; letter-spacing: 1px\">\n        <textPath class=\"displacy-label\" fill=\"currentColor\" side=\"left\" startOffset=\"50%\" text-anchor=\"middle\" xlink:href=\"#arrow-1969907da1fb4a739e014329deb727e0-0-25\">case</textPath>\n    </text>\n    <path class=\"displacy-arrowhead\" d=\"M4795,1054.0 L4787,1042.0 4803,1042.0\" fill=\"currentColor\"/>\n</g>\n\n<g class=\"displacy-arrow\">\n    <path class=\"displacy-arc\" d=\"M4970,1052.0 C4970,964.5 5070.0,964.5 5070.0,1052.0\" fill=\"none\" id=\"arrow-1969907da1fb4a739e014329deb727e0-0-26\" stroke=\"currentColor\" stroke-width=\"2px\"/>\n    <text dy=\"1.25em\" style=\"font-size: 0.8em; letter-spacing: 1px\">\n        <textPath class=\"displacy-label\" fill=\"currentColor\" side=\"left\" startOffset=\"50%\" text-anchor=\"middle\" xlink:href=\"#arrow-1969907da1fb4a739e014329deb727e0-0-26\">det</textPath>\n    </text>\n    <path class=\"displacy-arrowhead\" d=\"M4970,1054.0 L4962,1042.0 4978,1042.0\" fill=\"currentColor\"/>\n</g>\n\n<g class=\"displacy-arrow\">\n    <path class=\"displacy-arc\" d=\"M4620,1052.0 C4620,789.5 5080.0,789.5 5080.0,1052.0\" fill=\"none\" id=\"arrow-1969907da1fb4a739e014329deb727e0-0-27\" stroke=\"currentColor\" stroke-width=\"2px\"/>\n    <text dy=\"1.25em\" style=\"font-size: 0.8em; letter-spacing: 1px\">\n        <textPath class=\"displacy-label\" fill=\"currentColor\" side=\"left\" startOffset=\"50%\" text-anchor=\"middle\" xlink:href=\"#arrow-1969907da1fb4a739e014329deb727e0-0-27\">obl</textPath>\n    </text>\n    <path class=\"displacy-arrowhead\" d=\"M5080.0,1054.0 L5088.0,1042.0 5072.0,1042.0\" fill=\"currentColor\"/>\n</g>\n\n<g class=\"displacy-arrow\">\n    <path class=\"displacy-arc\" d=\"M5320,1052.0 C5320,964.5 5420.0,964.5 5420.0,1052.0\" fill=\"none\" id=\"arrow-1969907da1fb4a739e014329deb727e0-0-28\" stroke=\"currentColor\" stroke-width=\"2px\"/>\n    <text dy=\"1.25em\" style=\"font-size: 0.8em; letter-spacing: 1px\">\n        <textPath class=\"displacy-label\" fill=\"currentColor\" side=\"left\" startOffset=\"50%\" text-anchor=\"middle\" xlink:href=\"#arrow-1969907da1fb4a739e014329deb727e0-0-28\">cc</textPath>\n    </text>\n    <path class=\"displacy-arrowhead\" d=\"M5320,1054.0 L5312,1042.0 5328,1042.0\" fill=\"currentColor\"/>\n</g>\n\n<g class=\"displacy-arrow\">\n    <path class=\"displacy-arc\" d=\"M5145,1052.0 C5145,877.0 5425.0,877.0 5425.0,1052.0\" fill=\"none\" id=\"arrow-1969907da1fb4a739e014329deb727e0-0-29\" stroke=\"currentColor\" stroke-width=\"2px\"/>\n    <text dy=\"1.25em\" style=\"font-size: 0.8em; letter-spacing: 1px\">\n        <textPath class=\"displacy-label\" fill=\"currentColor\" side=\"left\" startOffset=\"50%\" text-anchor=\"middle\" xlink:href=\"#arrow-1969907da1fb4a739e014329deb727e0-0-29\">conj</textPath>\n    </text>\n    <path class=\"displacy-arrowhead\" d=\"M5425.0,1054.0 L5433.0,1042.0 5417.0,1042.0\" fill=\"currentColor\"/>\n</g>\n\n<g class=\"displacy-arrow\">\n    <path class=\"displacy-arc\" d=\"M5670,1052.0 C5670,964.5 5770.0,964.5 5770.0,1052.0\" fill=\"none\" id=\"arrow-1969907da1fb4a739e014329deb727e0-0-30\" stroke=\"currentColor\" stroke-width=\"2px\"/>\n    <text dy=\"1.25em\" style=\"font-size: 0.8em; letter-spacing: 1px\">\n        <textPath class=\"displacy-label\" fill=\"currentColor\" side=\"left\" startOffset=\"50%\" text-anchor=\"middle\" xlink:href=\"#arrow-1969907da1fb4a739e014329deb727e0-0-30\">cc</textPath>\n    </text>\n    <path class=\"displacy-arrowhead\" d=\"M5670,1054.0 L5662,1042.0 5678,1042.0\" fill=\"currentColor\"/>\n</g>\n\n<g class=\"displacy-arrow\">\n    <path class=\"displacy-arc\" d=\"M3745,1052.0 C3745,177.0 5815.0,177.0 5815.0,1052.0\" fill=\"none\" id=\"arrow-1969907da1fb4a739e014329deb727e0-0-31\" stroke=\"currentColor\" stroke-width=\"2px\"/>\n    <text dy=\"1.25em\" style=\"font-size: 0.8em; letter-spacing: 1px\">\n        <textPath class=\"displacy-label\" fill=\"currentColor\" side=\"left\" startOffset=\"50%\" text-anchor=\"middle\" xlink:href=\"#arrow-1969907da1fb4a739e014329deb727e0-0-31\">conj</textPath>\n    </text>\n    <path class=\"displacy-arrowhead\" d=\"M5815.0,1054.0 L5823.0,1042.0 5807.0,1042.0\" fill=\"currentColor\"/>\n</g>\n\n<g class=\"displacy-arrow\">\n    <path class=\"displacy-arc\" d=\"M5845,1052.0 C5845,964.5 5945.0,964.5 5945.0,1052.0\" fill=\"none\" id=\"arrow-1969907da1fb4a739e014329deb727e0-0-32\" stroke=\"currentColor\" stroke-width=\"2px\"/>\n    <text dy=\"1.25em\" style=\"font-size: 0.8em; letter-spacing: 1px\">\n        <textPath class=\"displacy-label\" fill=\"currentColor\" side=\"left\" startOffset=\"50%\" text-anchor=\"middle\" xlink:href=\"#arrow-1969907da1fb4a739e014329deb727e0-0-32\">advmod</textPath>\n    </text>\n    <path class=\"displacy-arrowhead\" d=\"M5945.0,1054.0 L5953.0,1042.0 5937.0,1042.0\" fill=\"currentColor\"/>\n</g>\n\n<g class=\"displacy-arrow\">\n    <path class=\"displacy-arc\" d=\"M6195,1052.0 C6195,964.5 6295.0,964.5 6295.0,1052.0\" fill=\"none\" id=\"arrow-1969907da1fb4a739e014329deb727e0-0-33\" stroke=\"currentColor\" stroke-width=\"2px\"/>\n    <text dy=\"1.25em\" style=\"font-size: 0.8em; letter-spacing: 1px\">\n        <textPath class=\"displacy-label\" fill=\"currentColor\" side=\"left\" startOffset=\"50%\" text-anchor=\"middle\" xlink:href=\"#arrow-1969907da1fb4a739e014329deb727e0-0-33\">det</textPath>\n    </text>\n    <path class=\"displacy-arrowhead\" d=\"M6195,1054.0 L6187,1042.0 6203,1042.0\" fill=\"currentColor\"/>\n</g>\n\n<g class=\"displacy-arrow\">\n    <path class=\"displacy-arc\" d=\"M6370,1052.0 C6370,89.5 8795.0,89.5 8795.0,1052.0\" fill=\"none\" id=\"arrow-1969907da1fb4a739e014329deb727e0-0-34\" stroke=\"currentColor\" stroke-width=\"2px\"/>\n    <text dy=\"1.25em\" style=\"font-size: 0.8em; letter-spacing: 1px\">\n        <textPath class=\"displacy-label\" fill=\"currentColor\" side=\"left\" startOffset=\"50%\" text-anchor=\"middle\" xlink:href=\"#arrow-1969907da1fb4a739e014329deb727e0-0-34\">nsubj:pass</textPath>\n    </text>\n    <path class=\"displacy-arrowhead\" d=\"M6370,1054.0 L6362,1042.0 6378,1042.0\" fill=\"currentColor\"/>\n</g>\n\n<g class=\"displacy-arrow\">\n    <path class=\"displacy-arc\" d=\"M6545,1052.0 C6545,964.5 6645.0,964.5 6645.0,1052.0\" fill=\"none\" id=\"arrow-1969907da1fb4a739e014329deb727e0-0-35\" stroke=\"currentColor\" stroke-width=\"2px\"/>\n    <text dy=\"1.25em\" style=\"font-size: 0.8em; letter-spacing: 1px\">\n        <textPath class=\"displacy-label\" fill=\"currentColor\" side=\"left\" startOffset=\"50%\" text-anchor=\"middle\" xlink:href=\"#arrow-1969907da1fb4a739e014329deb727e0-0-35\">case</textPath>\n    </text>\n    <path class=\"displacy-arrowhead\" d=\"M6545,1054.0 L6537,1042.0 6553,1042.0\" fill=\"currentColor\"/>\n</g>\n\n<g class=\"displacy-arrow\">\n    <path class=\"displacy-arc\" d=\"M6370,1052.0 C6370,877.0 6650.0,877.0 6650.0,1052.0\" fill=\"none\" id=\"arrow-1969907da1fb4a739e014329deb727e0-0-36\" stroke=\"currentColor\" stroke-width=\"2px\"/>\n    <text dy=\"1.25em\" style=\"font-size: 0.8em; letter-spacing: 1px\">\n        <textPath class=\"displacy-label\" fill=\"currentColor\" side=\"left\" startOffset=\"50%\" text-anchor=\"middle\" xlink:href=\"#arrow-1969907da1fb4a739e014329deb727e0-0-36\">nmod</textPath>\n    </text>\n    <path class=\"displacy-arrowhead\" d=\"M6650.0,1054.0 L6658.0,1042.0 6642.0,1042.0\" fill=\"currentColor\"/>\n</g>\n\n<g class=\"displacy-arrow\">\n    <path class=\"displacy-arc\" d=\"M6720,1052.0 C6720,964.5 6820.0,964.5 6820.0,1052.0\" fill=\"none\" id=\"arrow-1969907da1fb4a739e014329deb727e0-0-37\" stroke=\"currentColor\" stroke-width=\"2px\"/>\n    <text dy=\"1.25em\" style=\"font-size: 0.8em; letter-spacing: 1px\">\n        <textPath class=\"displacy-label\" fill=\"currentColor\" side=\"left\" startOffset=\"50%\" text-anchor=\"middle\" xlink:href=\"#arrow-1969907da1fb4a739e014329deb727e0-0-37\">conj</textPath>\n    </text>\n    <path class=\"displacy-arrowhead\" d=\"M6820.0,1054.0 L6828.0,1042.0 6812.0,1042.0\" fill=\"currentColor\"/>\n</g>\n\n<g class=\"displacy-arrow\">\n    <path class=\"displacy-arc\" d=\"M7070,1052.0 C7070,964.5 7170.0,964.5 7170.0,1052.0\" fill=\"none\" id=\"arrow-1969907da1fb4a739e014329deb727e0-0-38\" stroke=\"currentColor\" stroke-width=\"2px\"/>\n    <text dy=\"1.25em\" style=\"font-size: 0.8em; letter-spacing: 1px\">\n        <textPath class=\"displacy-label\" fill=\"currentColor\" side=\"left\" startOffset=\"50%\" text-anchor=\"middle\" xlink:href=\"#arrow-1969907da1fb4a739e014329deb727e0-0-38\">cc</textPath>\n    </text>\n    <path class=\"displacy-arrowhead\" d=\"M7070,1054.0 L7062,1042.0 7078,1042.0\" fill=\"currentColor\"/>\n</g>\n\n<g class=\"displacy-arrow\">\n    <path class=\"displacy-arc\" d=\"M6720,1052.0 C6720,789.5 7180.0,789.5 7180.0,1052.0\" fill=\"none\" id=\"arrow-1969907da1fb4a739e014329deb727e0-0-39\" stroke=\"currentColor\" stroke-width=\"2px\"/>\n    <text dy=\"1.25em\" style=\"font-size: 0.8em; letter-spacing: 1px\">\n        <textPath class=\"displacy-label\" fill=\"currentColor\" side=\"left\" startOffset=\"50%\" text-anchor=\"middle\" xlink:href=\"#arrow-1969907da1fb4a739e014329deb727e0-0-39\">conj</textPath>\n    </text>\n    <path class=\"displacy-arrowhead\" d=\"M7180.0,1054.0 L7188.0,1042.0 7172.0,1042.0\" fill=\"currentColor\"/>\n</g>\n\n<g class=\"displacy-arrow\">\n    <path class=\"displacy-arc\" d=\"M7420,1052.0 C7420,964.5 7520.0,964.5 7520.0,1052.0\" fill=\"none\" id=\"arrow-1969907da1fb4a739e014329deb727e0-0-40\" stroke=\"currentColor\" stroke-width=\"2px\"/>\n    <text dy=\"1.25em\" style=\"font-size: 0.8em; letter-spacing: 1px\">\n        <textPath class=\"displacy-label\" fill=\"currentColor\" side=\"left\" startOffset=\"50%\" text-anchor=\"middle\" xlink:href=\"#arrow-1969907da1fb4a739e014329deb727e0-0-40\">mark</textPath>\n    </text>\n    <path class=\"displacy-arrowhead\" d=\"M7420,1054.0 L7412,1042.0 7428,1042.0\" fill=\"currentColor\"/>\n</g>\n\n<g class=\"displacy-arrow\">\n    <path class=\"displacy-arc\" d=\"M6370,1052.0 C6370,439.5 7550.0,439.5 7550.0,1052.0\" fill=\"none\" id=\"arrow-1969907da1fb4a739e014329deb727e0-0-41\" stroke=\"currentColor\" stroke-width=\"2px\"/>\n    <text dy=\"1.25em\" style=\"font-size: 0.8em; letter-spacing: 1px\">\n        <textPath class=\"displacy-label\" fill=\"currentColor\" side=\"left\" startOffset=\"50%\" text-anchor=\"middle\" xlink:href=\"#arrow-1969907da1fb4a739e014329deb727e0-0-41\">acl</textPath>\n    </text>\n    <path class=\"displacy-arrowhead\" d=\"M7550.0,1054.0 L7558.0,1042.0 7542.0,1042.0\" fill=\"currentColor\"/>\n</g>\n\n<g class=\"displacy-arrow\">\n    <path class=\"displacy-arc\" d=\"M7770,1052.0 C7770,789.5 8230.0,789.5 8230.0,1052.0\" fill=\"none\" id=\"arrow-1969907da1fb4a739e014329deb727e0-0-42\" stroke=\"currentColor\" stroke-width=\"2px\"/>\n    <text dy=\"1.25em\" style=\"font-size: 0.8em; letter-spacing: 1px\">\n        <textPath class=\"displacy-label\" fill=\"currentColor\" side=\"left\" startOffset=\"50%\" text-anchor=\"middle\" xlink:href=\"#arrow-1969907da1fb4a739e014329deb727e0-0-42\">case</textPath>\n    </text>\n    <path class=\"displacy-arrowhead\" d=\"M7770,1054.0 L7762,1042.0 7778,1042.0\" fill=\"currentColor\"/>\n</g>\n\n<g class=\"displacy-arrow\">\n    <path class=\"displacy-arc\" d=\"M7945,1052.0 C7945,877.0 8225.0,877.0 8225.0,1052.0\" fill=\"none\" id=\"arrow-1969907da1fb4a739e014329deb727e0-0-43\" stroke=\"currentColor\" stroke-width=\"2px\"/>\n    <text dy=\"1.25em\" style=\"font-size: 0.8em; letter-spacing: 1px\">\n        <textPath class=\"displacy-label\" fill=\"currentColor\" side=\"left\" startOffset=\"50%\" text-anchor=\"middle\" xlink:href=\"#arrow-1969907da1fb4a739e014329deb727e0-0-43\">det</textPath>\n    </text>\n    <path class=\"displacy-arrowhead\" d=\"M7945,1054.0 L7937,1042.0 7953,1042.0\" fill=\"currentColor\"/>\n</g>\n\n<g class=\"displacy-arrow\">\n    <path class=\"displacy-arc\" d=\"M8120,1052.0 C8120,964.5 8220.0,964.5 8220.0,1052.0\" fill=\"none\" id=\"arrow-1969907da1fb4a739e014329deb727e0-0-44\" stroke=\"currentColor\" stroke-width=\"2px\"/>\n    <text dy=\"1.25em\" style=\"font-size: 0.8em; letter-spacing: 1px\">\n        <textPath class=\"displacy-label\" fill=\"currentColor\" side=\"left\" startOffset=\"50%\" text-anchor=\"middle\" xlink:href=\"#arrow-1969907da1fb4a739e014329deb727e0-0-44\">acl</textPath>\n    </text>\n    <path class=\"displacy-arrowhead\" d=\"M8120,1054.0 L8112,1042.0 8128,1042.0\" fill=\"currentColor\"/>\n</g>\n\n<g class=\"displacy-arrow\">\n    <path class=\"displacy-arc\" d=\"M7595,1052.0 C7595,702.0 8235.0,702.0 8235.0,1052.0\" fill=\"none\" id=\"arrow-1969907da1fb4a739e014329deb727e0-0-45\" stroke=\"currentColor\" stroke-width=\"2px\"/>\n    <text dy=\"1.25em\" style=\"font-size: 0.8em; letter-spacing: 1px\">\n        <textPath class=\"displacy-label\" fill=\"currentColor\" side=\"left\" startOffset=\"50%\" text-anchor=\"middle\" xlink:href=\"#arrow-1969907da1fb4a739e014329deb727e0-0-45\">obj</textPath>\n    </text>\n    <path class=\"displacy-arrowhead\" d=\"M8235.0,1054.0 L8243.0,1042.0 8227.0,1042.0\" fill=\"currentColor\"/>\n</g>\n\n<g class=\"displacy-arrow\">\n    <path class=\"displacy-arc\" d=\"M8470,1052.0 C8470,964.5 8570.0,964.5 8570.0,1052.0\" fill=\"none\" id=\"arrow-1969907da1fb4a739e014329deb727e0-0-46\" stroke=\"currentColor\" stroke-width=\"2px\"/>\n    <text dy=\"1.25em\" style=\"font-size: 0.8em; letter-spacing: 1px\">\n        <textPath class=\"displacy-label\" fill=\"currentColor\" side=\"left\" startOffset=\"50%\" text-anchor=\"middle\" xlink:href=\"#arrow-1969907da1fb4a739e014329deb727e0-0-46\">case</textPath>\n    </text>\n    <path class=\"displacy-arrowhead\" d=\"M8470,1054.0 L8462,1042.0 8478,1042.0\" fill=\"currentColor\"/>\n</g>\n\n<g class=\"displacy-arrow\">\n    <path class=\"displacy-arc\" d=\"M8295,1052.0 C8295,877.0 8575.0,877.0 8575.0,1052.0\" fill=\"none\" id=\"arrow-1969907da1fb4a739e014329deb727e0-0-47\" stroke=\"currentColor\" stroke-width=\"2px\"/>\n    <text dy=\"1.25em\" style=\"font-size: 0.8em; letter-spacing: 1px\">\n        <textPath class=\"displacy-label\" fill=\"currentColor\" side=\"left\" startOffset=\"50%\" text-anchor=\"middle\" xlink:href=\"#arrow-1969907da1fb4a739e014329deb727e0-0-47\">nmod</textPath>\n    </text>\n    <path class=\"displacy-arrowhead\" d=\"M8575.0,1054.0 L8583.0,1042.0 8567.0,1042.0\" fill=\"currentColor\"/>\n</g>\n\n<g class=\"displacy-arrow\">\n    <path class=\"displacy-arc\" d=\"M8995,1052.0 C8995,877.0 9275.0,877.0 9275.0,1052.0\" fill=\"none\" id=\"arrow-1969907da1fb4a739e014329deb727e0-0-48\" stroke=\"currentColor\" stroke-width=\"2px\"/>\n    <text dy=\"1.25em\" style=\"font-size: 0.8em; letter-spacing: 1px\">\n        <textPath class=\"displacy-label\" fill=\"currentColor\" side=\"left\" startOffset=\"50%\" text-anchor=\"middle\" xlink:href=\"#arrow-1969907da1fb4a739e014329deb727e0-0-48\">advmod</textPath>\n    </text>\n    <path class=\"displacy-arrowhead\" d=\"M8995,1054.0 L8987,1042.0 9003,1042.0\" fill=\"currentColor\"/>\n</g>\n\n<g class=\"displacy-arrow\">\n    <path class=\"displacy-arc\" d=\"M9170,1052.0 C9170,964.5 9270.0,964.5 9270.0,1052.0\" fill=\"none\" id=\"arrow-1969907da1fb4a739e014329deb727e0-0-49\" stroke=\"currentColor\" stroke-width=\"2px\"/>\n    <text dy=\"1.25em\" style=\"font-size: 0.8em; letter-spacing: 1px\">\n        <textPath class=\"displacy-label\" fill=\"currentColor\" side=\"left\" startOffset=\"50%\" text-anchor=\"middle\" xlink:href=\"#arrow-1969907da1fb4a739e014329deb727e0-0-49\">aux:pass</textPath>\n    </text>\n    <path class=\"displacy-arrowhead\" d=\"M9170,1054.0 L9162,1042.0 9178,1042.0\" fill=\"currentColor\"/>\n</g>\n\n<g class=\"displacy-arrow\">\n    <path class=\"displacy-arc\" d=\"M8820,1052.0 C8820,789.5 9280.0,789.5 9280.0,1052.0\" fill=\"none\" id=\"arrow-1969907da1fb4a739e014329deb727e0-0-50\" stroke=\"currentColor\" stroke-width=\"2px\"/>\n    <text dy=\"1.25em\" style=\"font-size: 0.8em; letter-spacing: 1px\">\n        <textPath class=\"displacy-label\" fill=\"currentColor\" side=\"left\" startOffset=\"50%\" text-anchor=\"middle\" xlink:href=\"#arrow-1969907da1fb4a739e014329deb727e0-0-50\">xcomp</textPath>\n    </text>\n    <path class=\"displacy-arrowhead\" d=\"M9280.0,1054.0 L9288.0,1042.0 9272.0,1042.0\" fill=\"currentColor\"/>\n</g>\n\n<g class=\"displacy-arrow\">\n    <path class=\"displacy-arc\" d=\"M9520,1052.0 C9520,964.5 9620.0,964.5 9620.0,1052.0\" fill=\"none\" id=\"arrow-1969907da1fb4a739e014329deb727e0-0-51\" stroke=\"currentColor\" stroke-width=\"2px\"/>\n    <text dy=\"1.25em\" style=\"font-size: 0.8em; letter-spacing: 1px\">\n        <textPath class=\"displacy-label\" fill=\"currentColor\" side=\"left\" startOffset=\"50%\" text-anchor=\"middle\" xlink:href=\"#arrow-1969907da1fb4a739e014329deb727e0-0-51\">cc</textPath>\n    </text>\n    <path class=\"displacy-arrowhead\" d=\"M9520,1054.0 L9512,1042.0 9528,1042.0\" fill=\"currentColor\"/>\n</g>\n\n<g class=\"displacy-arrow\">\n    <path class=\"displacy-arc\" d=\"M9345,1052.0 C9345,877.0 9625.0,877.0 9625.0,1052.0\" fill=\"none\" id=\"arrow-1969907da1fb4a739e014329deb727e0-0-52\" stroke=\"currentColor\" stroke-width=\"2px\"/>\n    <text dy=\"1.25em\" style=\"font-size: 0.8em; letter-spacing: 1px\">\n        <textPath class=\"displacy-label\" fill=\"currentColor\" side=\"left\" startOffset=\"50%\" text-anchor=\"middle\" xlink:href=\"#arrow-1969907da1fb4a739e014329deb727e0-0-52\">conj</textPath>\n    </text>\n    <path class=\"displacy-arrowhead\" d=\"M9625.0,1054.0 L9633.0,1042.0 9617.0,1042.0\" fill=\"currentColor\"/>\n</g>\n\n<g class=\"displacy-arrow\">\n    <path class=\"displacy-arc\" d=\"M9870,1052.0 C9870,964.5 9970.0,964.5 9970.0,1052.0\" fill=\"none\" id=\"arrow-1969907da1fb4a739e014329deb727e0-0-53\" stroke=\"currentColor\" stroke-width=\"2px\"/>\n    <text dy=\"1.25em\" style=\"font-size: 0.8em; letter-spacing: 1px\">\n        <textPath class=\"displacy-label\" fill=\"currentColor\" side=\"left\" startOffset=\"50%\" text-anchor=\"middle\" xlink:href=\"#arrow-1969907da1fb4a739e014329deb727e0-0-53\">case</textPath>\n    </text>\n    <path class=\"displacy-arrowhead\" d=\"M9870,1054.0 L9862,1042.0 9878,1042.0\" fill=\"currentColor\"/>\n</g>\n\n<g class=\"displacy-arrow\">\n    <path class=\"displacy-arc\" d=\"M9695,1052.0 C9695,877.0 9975.0,877.0 9975.0,1052.0\" fill=\"none\" id=\"arrow-1969907da1fb4a739e014329deb727e0-0-54\" stroke=\"currentColor\" stroke-width=\"2px\"/>\n    <text dy=\"1.25em\" style=\"font-size: 0.8em; letter-spacing: 1px\">\n        <textPath class=\"displacy-label\" fill=\"currentColor\" side=\"left\" startOffset=\"50%\" text-anchor=\"middle\" xlink:href=\"#arrow-1969907da1fb4a739e014329deb727e0-0-54\">obl:agent</textPath>\n    </text>\n    <path class=\"displacy-arrowhead\" d=\"M9975.0,1054.0 L9983.0,1042.0 9967.0,1042.0\" fill=\"currentColor\"/>\n</g>\n\n<g class=\"displacy-arrow\">\n    <path class=\"displacy-arc\" d=\"M10220,1052.0 C10220,877.0 10500.0,877.0 10500.0,1052.0\" fill=\"none\" id=\"arrow-1969907da1fb4a739e014329deb727e0-0-55\" stroke=\"currentColor\" stroke-width=\"2px\"/>\n    <text dy=\"1.25em\" style=\"font-size: 0.8em; letter-spacing: 1px\">\n        <textPath class=\"displacy-label\" fill=\"currentColor\" side=\"left\" startOffset=\"50%\" text-anchor=\"middle\" xlink:href=\"#arrow-1969907da1fb4a739e014329deb727e0-0-55\">case</textPath>\n    </text>\n    <path class=\"displacy-arrowhead\" d=\"M10220,1054.0 L10212,1042.0 10228,1042.0\" fill=\"currentColor\"/>\n</g>\n\n<g class=\"displacy-arrow\">\n    <path class=\"displacy-arc\" d=\"M10395,1052.0 C10395,964.5 10495.0,964.5 10495.0,1052.0\" fill=\"none\" id=\"arrow-1969907da1fb4a739e014329deb727e0-0-56\" stroke=\"currentColor\" stroke-width=\"2px\"/>\n    <text dy=\"1.25em\" style=\"font-size: 0.8em; letter-spacing: 1px\">\n        <textPath class=\"displacy-label\" fill=\"currentColor\" side=\"left\" startOffset=\"50%\" text-anchor=\"middle\" xlink:href=\"#arrow-1969907da1fb4a739e014329deb727e0-0-56\">det</textPath>\n    </text>\n    <path class=\"displacy-arrowhead\" d=\"M10395,1054.0 L10387,1042.0 10403,1042.0\" fill=\"currentColor\"/>\n</g>\n\n<g class=\"displacy-arrow\">\n    <path class=\"displacy-arc\" d=\"M9345,1052.0 C9345,439.5 10525.0,439.5 10525.0,1052.0\" fill=\"none\" id=\"arrow-1969907da1fb4a739e014329deb727e0-0-57\" stroke=\"currentColor\" stroke-width=\"2px\"/>\n    <text dy=\"1.25em\" style=\"font-size: 0.8em; letter-spacing: 1px\">\n        <textPath class=\"displacy-label\" fill=\"currentColor\" side=\"left\" startOffset=\"50%\" text-anchor=\"middle\" xlink:href=\"#arrow-1969907da1fb4a739e014329deb727e0-0-57\">obl</textPath>\n    </text>\n    <path class=\"displacy-arrowhead\" d=\"M10525.0,1054.0 L10533.0,1042.0 10517.0,1042.0\" fill=\"currentColor\"/>\n</g>\n\n<g class=\"displacy-arrow\">\n    <path class=\"displacy-arc\" d=\"M10745,1052.0 C10745,964.5 10845.0,964.5 10845.0,1052.0\" fill=\"none\" id=\"arrow-1969907da1fb4a739e014329deb727e0-0-58\" stroke=\"currentColor\" stroke-width=\"2px\"/>\n    <text dy=\"1.25em\" style=\"font-size: 0.8em; letter-spacing: 1px\">\n        <textPath class=\"displacy-label\" fill=\"currentColor\" side=\"left\" startOffset=\"50%\" text-anchor=\"middle\" xlink:href=\"#arrow-1969907da1fb4a739e014329deb727e0-0-58\">case</textPath>\n    </text>\n    <path class=\"displacy-arrowhead\" d=\"M10745,1054.0 L10737,1042.0 10753,1042.0\" fill=\"currentColor\"/>\n</g>\n\n<g class=\"displacy-arrow\">\n    <path class=\"displacy-arc\" d=\"M10570,1052.0 C10570,877.0 10850.0,877.0 10850.0,1052.0\" fill=\"none\" id=\"arrow-1969907da1fb4a739e014329deb727e0-0-59\" stroke=\"currentColor\" stroke-width=\"2px\"/>\n    <text dy=\"1.25em\" style=\"font-size: 0.8em; letter-spacing: 1px\">\n        <textPath class=\"displacy-label\" fill=\"currentColor\" side=\"left\" startOffset=\"50%\" text-anchor=\"middle\" xlink:href=\"#arrow-1969907da1fb4a739e014329deb727e0-0-59\">nmod</textPath>\n    </text>\n    <path class=\"displacy-arrowhead\" d=\"M10850.0,1054.0 L10858.0,1042.0 10842.0,1042.0\" fill=\"currentColor\"/>\n</g>\n\n<g class=\"displacy-arrow\">\n    <path class=\"displacy-arc\" d=\"M11095,1052.0 C11095,964.5 11195.0,964.5 11195.0,1052.0\" fill=\"none\" id=\"arrow-1969907da1fb4a739e014329deb727e0-0-60\" stroke=\"currentColor\" stroke-width=\"2px\"/>\n    <text dy=\"1.25em\" style=\"font-size: 0.8em; letter-spacing: 1px\">\n        <textPath class=\"displacy-label\" fill=\"currentColor\" side=\"left\" startOffset=\"50%\" text-anchor=\"middle\" xlink:href=\"#arrow-1969907da1fb4a739e014329deb727e0-0-60\">case</textPath>\n    </text>\n    <path class=\"displacy-arrowhead\" d=\"M11095,1054.0 L11087,1042.0 11103,1042.0\" fill=\"currentColor\"/>\n</g>\n\n<g class=\"displacy-arrow\">\n    <path class=\"displacy-arc\" d=\"M10920,1052.0 C10920,877.0 11200.0,877.0 11200.0,1052.0\" fill=\"none\" id=\"arrow-1969907da1fb4a739e014329deb727e0-0-61\" stroke=\"currentColor\" stroke-width=\"2px\"/>\n    <text dy=\"1.25em\" style=\"font-size: 0.8em; letter-spacing: 1px\">\n        <textPath class=\"displacy-label\" fill=\"currentColor\" side=\"left\" startOffset=\"50%\" text-anchor=\"middle\" xlink:href=\"#arrow-1969907da1fb4a739e014329deb727e0-0-61\">nmod</textPath>\n    </text>\n    <path class=\"displacy-arrowhead\" d=\"M11200.0,1054.0 L11208.0,1042.0 11192.0,1042.0\" fill=\"currentColor\"/>\n</g>\n\n<g class=\"displacy-arrow\">\n    <path class=\"displacy-arc\" d=\"M11270,1052.0 C11270,964.5 11370.0,964.5 11370.0,1052.0\" fill=\"none\" id=\"arrow-1969907da1fb4a739e014329deb727e0-0-62\" stroke=\"currentColor\" stroke-width=\"2px\"/>\n    <text dy=\"1.25em\" style=\"font-size: 0.8em; letter-spacing: 1px\">\n        <textPath class=\"displacy-label\" fill=\"currentColor\" side=\"left\" startOffset=\"50%\" text-anchor=\"middle\" xlink:href=\"#arrow-1969907da1fb4a739e014329deb727e0-0-62\">amod</textPath>\n    </text>\n    <path class=\"displacy-arrowhead\" d=\"M11370.0,1054.0 L11378.0,1042.0 11362.0,1042.0\" fill=\"currentColor\"/>\n</g>\n\n<g class=\"displacy-arrow\">\n    <path class=\"displacy-arc\" d=\"M11620,1052.0 C11620,964.5 11720.0,964.5 11720.0,1052.0\" fill=\"none\" id=\"arrow-1969907da1fb4a739e014329deb727e0-0-63\" stroke=\"currentColor\" stroke-width=\"2px\"/>\n    <text dy=\"1.25em\" style=\"font-size: 0.8em; letter-spacing: 1px\">\n        <textPath class=\"displacy-label\" fill=\"currentColor\" side=\"left\" startOffset=\"50%\" text-anchor=\"middle\" xlink:href=\"#arrow-1969907da1fb4a739e014329deb727e0-0-63\">det</textPath>\n    </text>\n    <path class=\"displacy-arrowhead\" d=\"M11620,1054.0 L11612,1042.0 11628,1042.0\" fill=\"currentColor\"/>\n</g>\n\n<g class=\"displacy-arrow\">\n    <path class=\"displacy-arc\" d=\"M11795,1052.0 C11795,964.5 11895.0,964.5 11895.0,1052.0\" fill=\"none\" id=\"arrow-1969907da1fb4a739e014329deb727e0-0-64\" stroke=\"currentColor\" stroke-width=\"2px\"/>\n    <text dy=\"1.25em\" style=\"font-size: 0.8em; letter-spacing: 1px\">\n        <textPath class=\"displacy-label\" fill=\"currentColor\" side=\"left\" startOffset=\"50%\" text-anchor=\"middle\" xlink:href=\"#arrow-1969907da1fb4a739e014329deb727e0-0-64\">nsubj</textPath>\n    </text>\n    <path class=\"displacy-arrowhead\" d=\"M11795,1054.0 L11787,1042.0 11803,1042.0\" fill=\"currentColor\"/>\n</g>\n\n<g class=\"displacy-arrow\">\n    <path class=\"displacy-arc\" d=\"M12145,1052.0 C12145,964.5 12245.0,964.5 12245.0,1052.0\" fill=\"none\" id=\"arrow-1969907da1fb4a739e014329deb727e0-0-65\" stroke=\"currentColor\" stroke-width=\"2px\"/>\n    <text dy=\"1.25em\" style=\"font-size: 0.8em; letter-spacing: 1px\">\n        <textPath class=\"displacy-label\" fill=\"currentColor\" side=\"left\" startOffset=\"50%\" text-anchor=\"middle\" xlink:href=\"#arrow-1969907da1fb4a739e014329deb727e0-0-65\">mark</textPath>\n    </text>\n    <path class=\"displacy-arrowhead\" d=\"M12145,1054.0 L12137,1042.0 12153,1042.0\" fill=\"currentColor\"/>\n</g>\n\n<g class=\"displacy-arrow\">\n    <path class=\"displacy-arc\" d=\"M11970,1052.0 C11970,877.0 12250.0,877.0 12250.0,1052.0\" fill=\"none\" id=\"arrow-1969907da1fb4a739e014329deb727e0-0-66\" stroke=\"currentColor\" stroke-width=\"2px\"/>\n    <text dy=\"1.25em\" style=\"font-size: 0.8em; letter-spacing: 1px\">\n        <textPath class=\"displacy-label\" fill=\"currentColor\" side=\"left\" startOffset=\"50%\" text-anchor=\"middle\" xlink:href=\"#arrow-1969907da1fb4a739e014329deb727e0-0-66\">xcomp</textPath>\n    </text>\n    <path class=\"displacy-arrowhead\" d=\"M12250.0,1054.0 L12258.0,1042.0 12242.0,1042.0\" fill=\"currentColor\"/>\n</g>\n\n<g class=\"displacy-arrow\">\n    <path class=\"displacy-arc\" d=\"M12320,1052.0 C12320,964.5 12420.0,964.5 12420.0,1052.0\" fill=\"none\" id=\"arrow-1969907da1fb4a739e014329deb727e0-0-67\" stroke=\"currentColor\" stroke-width=\"2px\"/>\n    <text dy=\"1.25em\" style=\"font-size: 0.8em; letter-spacing: 1px\">\n        <textPath class=\"displacy-label\" fill=\"currentColor\" side=\"left\" startOffset=\"50%\" text-anchor=\"middle\" xlink:href=\"#arrow-1969907da1fb4a739e014329deb727e0-0-67\">obj</textPath>\n    </text>\n    <path class=\"displacy-arrowhead\" d=\"M12420.0,1054.0 L12428.0,1042.0 12412.0,1042.0\" fill=\"currentColor\"/>\n</g>\n\n<g class=\"displacy-arrow\">\n    <path class=\"displacy-arc\" d=\"M12670,1052.0 C12670,877.0 12950.0,877.0 12950.0,1052.0\" fill=\"none\" id=\"arrow-1969907da1fb4a739e014329deb727e0-0-68\" stroke=\"currentColor\" stroke-width=\"2px\"/>\n    <text dy=\"1.25em\" style=\"font-size: 0.8em; letter-spacing: 1px\">\n        <textPath class=\"displacy-label\" fill=\"currentColor\" side=\"left\" startOffset=\"50%\" text-anchor=\"middle\" xlink:href=\"#arrow-1969907da1fb4a739e014329deb727e0-0-68\">case</textPath>\n    </text>\n    <path class=\"displacy-arrowhead\" d=\"M12670,1054.0 L12662,1042.0 12678,1042.0\" fill=\"currentColor\"/>\n</g>\n\n<g class=\"displacy-arrow\">\n    <path class=\"displacy-arc\" d=\"M12845,1052.0 C12845,964.5 12945.0,964.5 12945.0,1052.0\" fill=\"none\" id=\"arrow-1969907da1fb4a739e014329deb727e0-0-69\" stroke=\"currentColor\" stroke-width=\"2px\"/>\n    <text dy=\"1.25em\" style=\"font-size: 0.8em; letter-spacing: 1px\">\n        <textPath class=\"displacy-label\" fill=\"currentColor\" side=\"left\" startOffset=\"50%\" text-anchor=\"middle\" xlink:href=\"#arrow-1969907da1fb4a739e014329deb727e0-0-69\">det</textPath>\n    </text>\n    <path class=\"displacy-arrowhead\" d=\"M12845,1054.0 L12837,1042.0 12853,1042.0\" fill=\"currentColor\"/>\n</g>\n\n<g class=\"displacy-arrow\">\n    <path class=\"displacy-arc\" d=\"M12495,1052.0 C12495,789.5 12955.0,789.5 12955.0,1052.0\" fill=\"none\" id=\"arrow-1969907da1fb4a739e014329deb727e0-0-70\" stroke=\"currentColor\" stroke-width=\"2px\"/>\n    <text dy=\"1.25em\" style=\"font-size: 0.8em; letter-spacing: 1px\">\n        <textPath class=\"displacy-label\" fill=\"currentColor\" side=\"left\" startOffset=\"50%\" text-anchor=\"middle\" xlink:href=\"#arrow-1969907da1fb4a739e014329deb727e0-0-70\">nmod</textPath>\n    </text>\n    <path class=\"displacy-arrowhead\" d=\"M12955.0,1054.0 L12963.0,1042.0 12947.0,1042.0\" fill=\"currentColor\"/>\n</g>\n\n<g class=\"displacy-arrow\">\n    <path class=\"displacy-arc\" d=\"M13195,1052.0 C13195,964.5 13295.0,964.5 13295.0,1052.0\" fill=\"none\" id=\"arrow-1969907da1fb4a739e014329deb727e0-0-71\" stroke=\"currentColor\" stroke-width=\"2px\"/>\n    <text dy=\"1.25em\" style=\"font-size: 0.8em; letter-spacing: 1px\">\n        <textPath class=\"displacy-label\" fill=\"currentColor\" side=\"left\" startOffset=\"50%\" text-anchor=\"middle\" xlink:href=\"#arrow-1969907da1fb4a739e014329deb727e0-0-71\">cc</textPath>\n    </text>\n    <path class=\"displacy-arrowhead\" d=\"M13195,1054.0 L13187,1042.0 13203,1042.0\" fill=\"currentColor\"/>\n</g>\n\n<g class=\"displacy-arrow\">\n    <path class=\"displacy-arc\" d=\"M12320,1052.0 C12320,527.0 13320.0,527.0 13320.0,1052.0\" fill=\"none\" id=\"arrow-1969907da1fb4a739e014329deb727e0-0-72\" stroke=\"currentColor\" stroke-width=\"2px\"/>\n    <text dy=\"1.25em\" style=\"font-size: 0.8em; letter-spacing: 1px\">\n        <textPath class=\"displacy-label\" fill=\"currentColor\" side=\"left\" startOffset=\"50%\" text-anchor=\"middle\" xlink:href=\"#arrow-1969907da1fb4a739e014329deb727e0-0-72\">conj</textPath>\n    </text>\n    <path class=\"displacy-arrowhead\" d=\"M13320.0,1054.0 L13328.0,1042.0 13312.0,1042.0\" fill=\"currentColor\"/>\n</g>\n\n<g class=\"displacy-arrow\">\n    <path class=\"displacy-arc\" d=\"M13545,1052.0 C13545,964.5 13645.0,964.5 13645.0,1052.0\" fill=\"none\" id=\"arrow-1969907da1fb4a739e014329deb727e0-0-73\" stroke=\"currentColor\" stroke-width=\"2px\"/>\n    <text dy=\"1.25em\" style=\"font-size: 0.8em; letter-spacing: 1px\">\n        <textPath class=\"displacy-label\" fill=\"currentColor\" side=\"left\" startOffset=\"50%\" text-anchor=\"middle\" xlink:href=\"#arrow-1969907da1fb4a739e014329deb727e0-0-73\">det</textPath>\n    </text>\n    <path class=\"displacy-arrowhead\" d=\"M13545,1054.0 L13537,1042.0 13553,1042.0\" fill=\"currentColor\"/>\n</g>\n\n<g class=\"displacy-arrow\">\n    <path class=\"displacy-arc\" d=\"M13370,1052.0 C13370,877.0 13650.0,877.0 13650.0,1052.0\" fill=\"none\" id=\"arrow-1969907da1fb4a739e014329deb727e0-0-74\" stroke=\"currentColor\" stroke-width=\"2px\"/>\n    <text dy=\"1.25em\" style=\"font-size: 0.8em; letter-spacing: 1px\">\n        <textPath class=\"displacy-label\" fill=\"currentColor\" side=\"left\" startOffset=\"50%\" text-anchor=\"middle\" xlink:href=\"#arrow-1969907da1fb4a739e014329deb727e0-0-74\">obj</textPath>\n    </text>\n    <path class=\"displacy-arrowhead\" d=\"M13650.0,1054.0 L13658.0,1042.0 13642.0,1042.0\" fill=\"currentColor\"/>\n</g>\n\n<g class=\"displacy-arrow\">\n    <path class=\"displacy-arc\" d=\"M13720,1052.0 C13720,964.5 13820.0,964.5 13820.0,1052.0\" fill=\"none\" id=\"arrow-1969907da1fb4a739e014329deb727e0-0-75\" stroke=\"currentColor\" stroke-width=\"2px\"/>\n    <text dy=\"1.25em\" style=\"font-size: 0.8em; letter-spacing: 1px\">\n        <textPath class=\"displacy-label\" fill=\"currentColor\" side=\"left\" startOffset=\"50%\" text-anchor=\"middle\" xlink:href=\"#arrow-1969907da1fb4a739e014329deb727e0-0-75\">amod</textPath>\n    </text>\n    <path class=\"displacy-arrowhead\" d=\"M13820.0,1054.0 L13828.0,1042.0 13812.0,1042.0\" fill=\"currentColor\"/>\n</g>\n\n<g class=\"displacy-arrow\">\n    <path class=\"displacy-arc\" d=\"M13720,1052.0 C13720,877.0 14000.0,877.0 14000.0,1052.0\" fill=\"none\" id=\"arrow-1969907da1fb4a739e014329deb727e0-0-76\" stroke=\"currentColor\" stroke-width=\"2px\"/>\n    <text dy=\"1.25em\" style=\"font-size: 0.8em; letter-spacing: 1px\">\n        <textPath class=\"displacy-label\" fill=\"currentColor\" side=\"left\" startOffset=\"50%\" text-anchor=\"middle\" xlink:href=\"#arrow-1969907da1fb4a739e014329deb727e0-0-76\">acl</textPath>\n    </text>\n    <path class=\"displacy-arrowhead\" d=\"M14000.0,1054.0 L14008.0,1042.0 13992.0,1042.0\" fill=\"currentColor\"/>\n</g>\n\n<g class=\"displacy-arrow\">\n    <path class=\"displacy-arc\" d=\"M14245,1052.0 C14245,964.5 14345.0,964.5 14345.0,1052.0\" fill=\"none\" id=\"arrow-1969907da1fb4a739e014329deb727e0-0-77\" stroke=\"currentColor\" stroke-width=\"2px\"/>\n    <text dy=\"1.25em\" style=\"font-size: 0.8em; letter-spacing: 1px\">\n        <textPath class=\"displacy-label\" fill=\"currentColor\" side=\"left\" startOffset=\"50%\" text-anchor=\"middle\" xlink:href=\"#arrow-1969907da1fb4a739e014329deb727e0-0-77\">case</textPath>\n    </text>\n    <path class=\"displacy-arrowhead\" d=\"M14245,1054.0 L14237,1042.0 14253,1042.0\" fill=\"currentColor\"/>\n</g>\n\n<g class=\"displacy-arrow\">\n    <path class=\"displacy-arc\" d=\"M14070,1052.0 C14070,877.0 14350.0,877.0 14350.0,1052.0\" fill=\"none\" id=\"arrow-1969907da1fb4a739e014329deb727e0-0-78\" stroke=\"currentColor\" stroke-width=\"2px\"/>\n    <text dy=\"1.25em\" style=\"font-size: 0.8em; letter-spacing: 1px\">\n        <textPath class=\"displacy-label\" fill=\"currentColor\" side=\"left\" startOffset=\"50%\" text-anchor=\"middle\" xlink:href=\"#arrow-1969907da1fb4a739e014329deb727e0-0-78\">obl:agent</textPath>\n    </text>\n    <path class=\"displacy-arrowhead\" d=\"M14350.0,1054.0 L14358.0,1042.0 14342.0,1042.0\" fill=\"currentColor\"/>\n</g>\n\n<g class=\"displacy-arrow\">\n    <path class=\"displacy-arc\" d=\"M14595,1052.0 C14595,964.5 14695.0,964.5 14695.0,1052.0\" fill=\"none\" id=\"arrow-1969907da1fb4a739e014329deb727e0-0-79\" stroke=\"currentColor\" stroke-width=\"2px\"/>\n    <text dy=\"1.25em\" style=\"font-size: 0.8em; letter-spacing: 1px\">\n        <textPath class=\"displacy-label\" fill=\"currentColor\" side=\"left\" startOffset=\"50%\" text-anchor=\"middle\" xlink:href=\"#arrow-1969907da1fb4a739e014329deb727e0-0-79\">case</textPath>\n    </text>\n    <path class=\"displacy-arrowhead\" d=\"M14595,1054.0 L14587,1042.0 14603,1042.0\" fill=\"currentColor\"/>\n</g>\n\n<g class=\"displacy-arrow\">\n    <path class=\"displacy-arc\" d=\"M14420,1052.0 C14420,877.0 14700.0,877.0 14700.0,1052.0\" fill=\"none\" id=\"arrow-1969907da1fb4a739e014329deb727e0-0-80\" stroke=\"currentColor\" stroke-width=\"2px\"/>\n    <text dy=\"1.25em\" style=\"font-size: 0.8em; letter-spacing: 1px\">\n        <textPath class=\"displacy-label\" fill=\"currentColor\" side=\"left\" startOffset=\"50%\" text-anchor=\"middle\" xlink:href=\"#arrow-1969907da1fb4a739e014329deb727e0-0-80\">nmod</textPath>\n    </text>\n    <path class=\"displacy-arrowhead\" d=\"M14700.0,1054.0 L14708.0,1042.0 14692.0,1042.0\" fill=\"currentColor\"/>\n</g>\n\n<g class=\"displacy-arrow\">\n    <path class=\"displacy-arc\" d=\"M15120,1052.0 C15120,877.0 15400.0,877.0 15400.0,1052.0\" fill=\"none\" id=\"arrow-1969907da1fb4a739e014329deb727e0-0-81\" stroke=\"currentColor\" stroke-width=\"2px\"/>\n    <text dy=\"1.25em\" style=\"font-size: 0.8em; letter-spacing: 1px\">\n        <textPath class=\"displacy-label\" fill=\"currentColor\" side=\"left\" startOffset=\"50%\" text-anchor=\"middle\" xlink:href=\"#arrow-1969907da1fb4a739e014329deb727e0-0-81\">det</textPath>\n    </text>\n    <path class=\"displacy-arrowhead\" d=\"M15120,1054.0 L15112,1042.0 15128,1042.0\" fill=\"currentColor\"/>\n</g>\n\n<g class=\"displacy-arrow\">\n    <path class=\"displacy-arc\" d=\"M15295,1052.0 C15295,964.5 15395.0,964.5 15395.0,1052.0\" fill=\"none\" id=\"arrow-1969907da1fb4a739e014329deb727e0-0-82\" stroke=\"currentColor\" stroke-width=\"2px\"/>\n    <text dy=\"1.25em\" style=\"font-size: 0.8em; letter-spacing: 1px\">\n        <textPath class=\"displacy-label\" fill=\"currentColor\" side=\"left\" startOffset=\"50%\" text-anchor=\"middle\" xlink:href=\"#arrow-1969907da1fb4a739e014329deb727e0-0-82\">det</textPath>\n    </text>\n    <path class=\"displacy-arrowhead\" d=\"M15295,1054.0 L15287,1042.0 15303,1042.0\" fill=\"currentColor\"/>\n</g>\n\n<g class=\"displacy-arrow\">\n    <path class=\"displacy-arc\" d=\"M14945,1052.0 C14945,789.5 15405.0,789.5 15405.0,1052.0\" fill=\"none\" id=\"arrow-1969907da1fb4a739e014329deb727e0-0-83\" stroke=\"currentColor\" stroke-width=\"2px\"/>\n    <text dy=\"1.25em\" style=\"font-size: 0.8em; letter-spacing: 1px\">\n        <textPath class=\"displacy-label\" fill=\"currentColor\" side=\"left\" startOffset=\"50%\" text-anchor=\"middle\" xlink:href=\"#arrow-1969907da1fb4a739e014329deb727e0-0-83\">obj</textPath>\n    </text>\n    <path class=\"displacy-arrowhead\" d=\"M15405.0,1054.0 L15413.0,1042.0 15397.0,1042.0\" fill=\"currentColor\"/>\n</g>\n\n<g class=\"displacy-arrow\">\n    <path class=\"displacy-arc\" d=\"M15645,1052.0 C15645,877.0 15925.0,877.0 15925.0,1052.0\" fill=\"none\" id=\"arrow-1969907da1fb4a739e014329deb727e0-0-84\" stroke=\"currentColor\" stroke-width=\"2px\"/>\n    <text dy=\"1.25em\" style=\"font-size: 0.8em; letter-spacing: 1px\">\n        <textPath class=\"displacy-label\" fill=\"currentColor\" side=\"left\" startOffset=\"50%\" text-anchor=\"middle\" xlink:href=\"#arrow-1969907da1fb4a739e014329deb727e0-0-84\">case</textPath>\n    </text>\n    <path class=\"displacy-arrowhead\" d=\"M15645,1054.0 L15637,1042.0 15653,1042.0\" fill=\"currentColor\"/>\n</g>\n\n<g class=\"displacy-arrow\">\n    <path class=\"displacy-arc\" d=\"M15820,1052.0 C15820,964.5 15920.0,964.5 15920.0,1052.0\" fill=\"none\" id=\"arrow-1969907da1fb4a739e014329deb727e0-0-85\" stroke=\"currentColor\" stroke-width=\"2px\"/>\n    <text dy=\"1.25em\" style=\"font-size: 0.8em; letter-spacing: 1px\">\n        <textPath class=\"displacy-label\" fill=\"currentColor\" side=\"left\" startOffset=\"50%\" text-anchor=\"middle\" xlink:href=\"#arrow-1969907da1fb4a739e014329deb727e0-0-85\">det</textPath>\n    </text>\n    <path class=\"displacy-arrowhead\" d=\"M15820,1054.0 L15812,1042.0 15828,1042.0\" fill=\"currentColor\"/>\n</g>\n\n<g class=\"displacy-arrow\">\n    <path class=\"displacy-arc\" d=\"M15470,1052.0 C15470,789.5 15930.0,789.5 15930.0,1052.0\" fill=\"none\" id=\"arrow-1969907da1fb4a739e014329deb727e0-0-86\" stroke=\"currentColor\" stroke-width=\"2px\"/>\n    <text dy=\"1.25em\" style=\"font-size: 0.8em; letter-spacing: 1px\">\n        <textPath class=\"displacy-label\" fill=\"currentColor\" side=\"left\" startOffset=\"50%\" text-anchor=\"middle\" xlink:href=\"#arrow-1969907da1fb4a739e014329deb727e0-0-86\">nmod</textPath>\n    </text>\n    <path class=\"displacy-arrowhead\" d=\"M15930.0,1054.0 L15938.0,1042.0 15922.0,1042.0\" fill=\"currentColor\"/>\n</g>\n\n<g class=\"displacy-arrow\">\n    <path class=\"displacy-arc\" d=\"M16170,1052.0 C16170,964.5 16270.0,964.5 16270.0,1052.0\" fill=\"none\" id=\"arrow-1969907da1fb4a739e014329deb727e0-0-87\" stroke=\"currentColor\" stroke-width=\"2px\"/>\n    <text dy=\"1.25em\" style=\"font-size: 0.8em; letter-spacing: 1px\">\n        <textPath class=\"displacy-label\" fill=\"currentColor\" side=\"left\" startOffset=\"50%\" text-anchor=\"middle\" xlink:href=\"#arrow-1969907da1fb4a739e014329deb727e0-0-87\">case</textPath>\n    </text>\n    <path class=\"displacy-arrowhead\" d=\"M16170,1054.0 L16162,1042.0 16178,1042.0\" fill=\"currentColor\"/>\n</g>\n\n<g class=\"displacy-arrow\">\n    <path class=\"displacy-arc\" d=\"M15995,1052.0 C15995,877.0 16275.0,877.0 16275.0,1052.0\" fill=\"none\" id=\"arrow-1969907da1fb4a739e014329deb727e0-0-88\" stroke=\"currentColor\" stroke-width=\"2px\"/>\n    <text dy=\"1.25em\" style=\"font-size: 0.8em; letter-spacing: 1px\">\n        <textPath class=\"displacy-label\" fill=\"currentColor\" side=\"left\" startOffset=\"50%\" text-anchor=\"middle\" xlink:href=\"#arrow-1969907da1fb4a739e014329deb727e0-0-88\">nmod</textPath>\n    </text>\n    <path class=\"displacy-arrowhead\" d=\"M16275.0,1054.0 L16283.0,1042.0 16267.0,1042.0\" fill=\"currentColor\"/>\n</g>\n\n<g class=\"displacy-arrow\">\n    <path class=\"displacy-arc\" d=\"M16520,1052.0 C16520,877.0 16800.0,877.0 16800.0,1052.0\" fill=\"none\" id=\"arrow-1969907da1fb4a739e014329deb727e0-0-89\" stroke=\"currentColor\" stroke-width=\"2px\"/>\n    <text dy=\"1.25em\" style=\"font-size: 0.8em; letter-spacing: 1px\">\n        <textPath class=\"displacy-label\" fill=\"currentColor\" side=\"left\" startOffset=\"50%\" text-anchor=\"middle\" xlink:href=\"#arrow-1969907da1fb4a739e014329deb727e0-0-89\">case</textPath>\n    </text>\n    <path class=\"displacy-arrowhead\" d=\"M16520,1054.0 L16512,1042.0 16528,1042.0\" fill=\"currentColor\"/>\n</g>\n\n<g class=\"displacy-arrow\">\n    <path class=\"displacy-arc\" d=\"M16695,1052.0 C16695,964.5 16795.0,964.5 16795.0,1052.0\" fill=\"none\" id=\"arrow-1969907da1fb4a739e014329deb727e0-0-90\" stroke=\"currentColor\" stroke-width=\"2px\"/>\n    <text dy=\"1.25em\" style=\"font-size: 0.8em; letter-spacing: 1px\">\n        <textPath class=\"displacy-label\" fill=\"currentColor\" side=\"left\" startOffset=\"50%\" text-anchor=\"middle\" xlink:href=\"#arrow-1969907da1fb4a739e014329deb727e0-0-90\">det</textPath>\n    </text>\n    <path class=\"displacy-arrowhead\" d=\"M16695,1054.0 L16687,1042.0 16703,1042.0\" fill=\"currentColor\"/>\n</g>\n\n<g class=\"displacy-arrow\">\n    <path class=\"displacy-arc\" d=\"M14945,1052.0 C14945,264.5 16835.0,264.5 16835.0,1052.0\" fill=\"none\" id=\"arrow-1969907da1fb4a739e014329deb727e0-0-91\" stroke=\"currentColor\" stroke-width=\"2px\"/>\n    <text dy=\"1.25em\" style=\"font-size: 0.8em; letter-spacing: 1px\">\n        <textPath class=\"displacy-label\" fill=\"currentColor\" side=\"left\" startOffset=\"50%\" text-anchor=\"middle\" xlink:href=\"#arrow-1969907da1fb4a739e014329deb727e0-0-91\">obl</textPath>\n    </text>\n    <path class=\"displacy-arrowhead\" d=\"M16835.0,1054.0 L16843.0,1042.0 16827.0,1042.0\" fill=\"currentColor\"/>\n</g>\n\n<g class=\"displacy-arrow\">\n    <path class=\"displacy-arc\" d=\"M16870,1052.0 C16870,964.5 16970.0,964.5 16970.0,1052.0\" fill=\"none\" id=\"arrow-1969907da1fb4a739e014329deb727e0-0-92\" stroke=\"currentColor\" stroke-width=\"2px\"/>\n    <text dy=\"1.25em\" style=\"font-size: 0.8em; letter-spacing: 1px\">\n        <textPath class=\"displacy-label\" fill=\"currentColor\" side=\"left\" startOffset=\"50%\" text-anchor=\"middle\" xlink:href=\"#arrow-1969907da1fb4a739e014329deb727e0-0-92\">flat:name</textPath>\n    </text>\n    <path class=\"displacy-arrowhead\" d=\"M16970.0,1054.0 L16978.0,1042.0 16962.0,1042.0\" fill=\"currentColor\"/>\n</g>\n\n<g class=\"displacy-arrow\">\n    <path class=\"displacy-arc\" d=\"M17220,1052.0 C17220,964.5 17320.0,964.5 17320.0,1052.0\" fill=\"none\" id=\"arrow-1969907da1fb4a739e014329deb727e0-0-93\" stroke=\"currentColor\" stroke-width=\"2px\"/>\n    <text dy=\"1.25em\" style=\"font-size: 0.8em; letter-spacing: 1px\">\n        <textPath class=\"displacy-label\" fill=\"currentColor\" side=\"left\" startOffset=\"50%\" text-anchor=\"middle\" xlink:href=\"#arrow-1969907da1fb4a739e014329deb727e0-0-93\">case</textPath>\n    </text>\n    <path class=\"displacy-arrowhead\" d=\"M17220,1054.0 L17212,1042.0 17228,1042.0\" fill=\"currentColor\"/>\n</g>\n\n<g class=\"displacy-arrow\">\n    <path class=\"displacy-arc\" d=\"M16870,1052.0 C16870,789.5 17330.0,789.5 17330.0,1052.0\" fill=\"none\" id=\"arrow-1969907da1fb4a739e014329deb727e0-0-94\" stroke=\"currentColor\" stroke-width=\"2px\"/>\n    <text dy=\"1.25em\" style=\"font-size: 0.8em; letter-spacing: 1px\">\n        <textPath class=\"displacy-label\" fill=\"currentColor\" side=\"left\" startOffset=\"50%\" text-anchor=\"middle\" xlink:href=\"#arrow-1969907da1fb4a739e014329deb727e0-0-94\">nmod</textPath>\n    </text>\n    <path class=\"displacy-arrowhead\" d=\"M17330.0,1054.0 L17338.0,1042.0 17322.0,1042.0\" fill=\"currentColor\"/>\n</g>\n\n<g class=\"displacy-arrow\">\n    <path class=\"displacy-arc\" d=\"M17570,1052.0 C17570,964.5 17670.0,964.5 17670.0,1052.0\" fill=\"none\" id=\"arrow-1969907da1fb4a739e014329deb727e0-0-95\" stroke=\"currentColor\" stroke-width=\"2px\"/>\n    <text dy=\"1.25em\" style=\"font-size: 0.8em; letter-spacing: 1px\">\n        <textPath class=\"displacy-label\" fill=\"currentColor\" side=\"left\" startOffset=\"50%\" text-anchor=\"middle\" xlink:href=\"#arrow-1969907da1fb4a739e014329deb727e0-0-95\">case</textPath>\n    </text>\n    <path class=\"displacy-arrowhead\" d=\"M17570,1054.0 L17562,1042.0 17578,1042.0\" fill=\"currentColor\"/>\n</g>\n\n<g class=\"displacy-arrow\">\n    <path class=\"displacy-arc\" d=\"M17395,1052.0 C17395,877.0 17675.0,877.0 17675.0,1052.0\" fill=\"none\" id=\"arrow-1969907da1fb4a739e014329deb727e0-0-96\" stroke=\"currentColor\" stroke-width=\"2px\"/>\n    <text dy=\"1.25em\" style=\"font-size: 0.8em; letter-spacing: 1px\">\n        <textPath class=\"displacy-label\" fill=\"currentColor\" side=\"left\" startOffset=\"50%\" text-anchor=\"middle\" xlink:href=\"#arrow-1969907da1fb4a739e014329deb727e0-0-96\">nmod</textPath>\n    </text>\n    <path class=\"displacy-arrowhead\" d=\"M17675.0,1054.0 L17683.0,1042.0 17667.0,1042.0\" fill=\"currentColor\"/>\n</g>\n\n<g class=\"displacy-arrow\">\n    <path class=\"displacy-arc\" d=\"M14945,1052.0 C14945,2.0 17900.0,2.0 17900.0,1052.0\" fill=\"none\" id=\"arrow-1969907da1fb4a739e014329deb727e0-0-97\" stroke=\"currentColor\" stroke-width=\"2px\"/>\n    <text dy=\"1.25em\" style=\"font-size: 0.8em; letter-spacing: 1px\">\n        <textPath class=\"displacy-label\" fill=\"currentColor\" side=\"left\" startOffset=\"50%\" text-anchor=\"middle\" xlink:href=\"#arrow-1969907da1fb4a739e014329deb727e0-0-97\">advcl</textPath>\n    </text>\n    <path class=\"displacy-arrowhead\" d=\"M17900.0,1054.0 L17908.0,1042.0 17892.0,1042.0\" fill=\"currentColor\"/>\n</g>\n\n<g class=\"displacy-arrow\">\n    <path class=\"displacy-arc\" d=\"M18095,1052.0 C18095,964.5 18195.0,964.5 18195.0,1052.0\" fill=\"none\" id=\"arrow-1969907da1fb4a739e014329deb727e0-0-98\" stroke=\"currentColor\" stroke-width=\"2px\"/>\n    <text dy=\"1.25em\" style=\"font-size: 0.8em; letter-spacing: 1px\">\n        <textPath class=\"displacy-label\" fill=\"currentColor\" side=\"left\" startOffset=\"50%\" text-anchor=\"middle\" xlink:href=\"#arrow-1969907da1fb4a739e014329deb727e0-0-98\">case</textPath>\n    </text>\n    <path class=\"displacy-arrowhead\" d=\"M18095,1054.0 L18087,1042.0 18103,1042.0\" fill=\"currentColor\"/>\n</g>\n\n<g class=\"displacy-arrow\">\n    <path class=\"displacy-arc\" d=\"M17920,1052.0 C17920,877.0 18200.0,877.0 18200.0,1052.0\" fill=\"none\" id=\"arrow-1969907da1fb4a739e014329deb727e0-0-99\" stroke=\"currentColor\" stroke-width=\"2px\"/>\n    <text dy=\"1.25em\" style=\"font-size: 0.8em; letter-spacing: 1px\">\n        <textPath class=\"displacy-label\" fill=\"currentColor\" side=\"left\" startOffset=\"50%\" text-anchor=\"middle\" xlink:href=\"#arrow-1969907da1fb4a739e014329deb727e0-0-99\">obj</textPath>\n    </text>\n    <path class=\"displacy-arrowhead\" d=\"M18200.0,1054.0 L18208.0,1042.0 18192.0,1042.0\" fill=\"currentColor\"/>\n</g>\n\n<g class=\"displacy-arrow\">\n    <path class=\"displacy-arc\" d=\"M18445,1052.0 C18445,964.5 18545.0,964.5 18545.0,1052.0\" fill=\"none\" id=\"arrow-1969907da1fb4a739e014329deb727e0-0-100\" stroke=\"currentColor\" stroke-width=\"2px\"/>\n    <text dy=\"1.25em\" style=\"font-size: 0.8em; letter-spacing: 1px\">\n        <textPath class=\"displacy-label\" fill=\"currentColor\" side=\"left\" startOffset=\"50%\" text-anchor=\"middle\" xlink:href=\"#arrow-1969907da1fb4a739e014329deb727e0-0-100\">mark</textPath>\n    </text>\n    <path class=\"displacy-arrowhead\" d=\"M18445,1054.0 L18437,1042.0 18453,1042.0\" fill=\"currentColor\"/>\n</g>\n\n<g class=\"displacy-arrow\">\n    <path class=\"displacy-arc\" d=\"M17920,1052.0 C17920,702.0 18560.0,702.0 18560.0,1052.0\" fill=\"none\" id=\"arrow-1969907da1fb4a739e014329deb727e0-0-101\" stroke=\"currentColor\" stroke-width=\"2px\"/>\n    <text dy=\"1.25em\" style=\"font-size: 0.8em; letter-spacing: 1px\">\n        <textPath class=\"displacy-label\" fill=\"currentColor\" side=\"left\" startOffset=\"50%\" text-anchor=\"middle\" xlink:href=\"#arrow-1969907da1fb4a739e014329deb727e0-0-101\">advcl</textPath>\n    </text>\n    <path class=\"displacy-arrowhead\" d=\"M18560.0,1054.0 L18568.0,1042.0 18552.0,1042.0\" fill=\"currentColor\"/>\n</g>\n\n<g class=\"displacy-arrow\">\n    <path class=\"displacy-arc\" d=\"M18620,1052.0 C18620,964.5 18720.0,964.5 18720.0,1052.0\" fill=\"none\" id=\"arrow-1969907da1fb4a739e014329deb727e0-0-102\" stroke=\"currentColor\" stroke-width=\"2px\"/>\n    <text dy=\"1.25em\" style=\"font-size: 0.8em; letter-spacing: 1px\">\n        <textPath class=\"displacy-label\" fill=\"currentColor\" side=\"left\" startOffset=\"50%\" text-anchor=\"middle\" xlink:href=\"#arrow-1969907da1fb4a739e014329deb727e0-0-102\">obj</textPath>\n    </text>\n    <path class=\"displacy-arrowhead\" d=\"M18720.0,1054.0 L18728.0,1042.0 18712.0,1042.0\" fill=\"currentColor\"/>\n</g>\n\n<g class=\"displacy-arrow\">\n    <path class=\"displacy-arc\" d=\"M18970,1052.0 C18970,964.5 19070.0,964.5 19070.0,1052.0\" fill=\"none\" id=\"arrow-1969907da1fb4a739e014329deb727e0-0-103\" stroke=\"currentColor\" stroke-width=\"2px\"/>\n    <text dy=\"1.25em\" style=\"font-size: 0.8em; letter-spacing: 1px\">\n        <textPath class=\"displacy-label\" fill=\"currentColor\" side=\"left\" startOffset=\"50%\" text-anchor=\"middle\" xlink:href=\"#arrow-1969907da1fb4a739e014329deb727e0-0-103\">case</textPath>\n    </text>\n    <path class=\"displacy-arrowhead\" d=\"M18970,1054.0 L18962,1042.0 18978,1042.0\" fill=\"currentColor\"/>\n</g>\n\n<g class=\"displacy-arrow\">\n    <path class=\"displacy-arc\" d=\"M18795,1052.0 C18795,877.0 19075.0,877.0 19075.0,1052.0\" fill=\"none\" id=\"arrow-1969907da1fb4a739e014329deb727e0-0-104\" stroke=\"currentColor\" stroke-width=\"2px\"/>\n    <text dy=\"1.25em\" style=\"font-size: 0.8em; letter-spacing: 1px\">\n        <textPath class=\"displacy-label\" fill=\"currentColor\" side=\"left\" startOffset=\"50%\" text-anchor=\"middle\" xlink:href=\"#arrow-1969907da1fb4a739e014329deb727e0-0-104\">nmod</textPath>\n    </text>\n    <path class=\"displacy-arrowhead\" d=\"M19075.0,1054.0 L19083.0,1042.0 19067.0,1042.0\" fill=\"currentColor\"/>\n</g>\n\n<g class=\"displacy-arrow\">\n    <path class=\"displacy-arc\" d=\"M19320,1052.0 C19320,964.5 19420.0,964.5 19420.0,1052.0\" fill=\"none\" id=\"arrow-1969907da1fb4a739e014329deb727e0-0-105\" stroke=\"currentColor\" stroke-width=\"2px\"/>\n    <text dy=\"1.25em\" style=\"font-size: 0.8em; letter-spacing: 1px\">\n        <textPath class=\"displacy-label\" fill=\"currentColor\" side=\"left\" startOffset=\"50%\" text-anchor=\"middle\" xlink:href=\"#arrow-1969907da1fb4a739e014329deb727e0-0-105\">mark</textPath>\n    </text>\n    <path class=\"displacy-arrowhead\" d=\"M19320,1054.0 L19312,1042.0 19328,1042.0\" fill=\"currentColor\"/>\n</g>\n\n<g class=\"displacy-arrow\">\n    <path class=\"displacy-arc\" d=\"M18795,1052.0 C18795,702.0 19435.0,702.0 19435.0,1052.0\" fill=\"none\" id=\"arrow-1969907da1fb4a739e014329deb727e0-0-106\" stroke=\"currentColor\" stroke-width=\"2px\"/>\n    <text dy=\"1.25em\" style=\"font-size: 0.8em; letter-spacing: 1px\">\n        <textPath class=\"displacy-label\" fill=\"currentColor\" side=\"left\" startOffset=\"50%\" text-anchor=\"middle\" xlink:href=\"#arrow-1969907da1fb4a739e014329deb727e0-0-106\">acl</textPath>\n    </text>\n    <path class=\"displacy-arrowhead\" d=\"M19435.0,1054.0 L19443.0,1042.0 19427.0,1042.0\" fill=\"currentColor\"/>\n</g>\n\n<g class=\"displacy-arrow\">\n    <path class=\"displacy-arc\" d=\"M19670,1052.0 C19670,964.5 19770.0,964.5 19770.0,1052.0\" fill=\"none\" id=\"arrow-1969907da1fb4a739e014329deb727e0-0-107\" stroke=\"currentColor\" stroke-width=\"2px\"/>\n    <text dy=\"1.25em\" style=\"font-size: 0.8em; letter-spacing: 1px\">\n        <textPath class=\"displacy-label\" fill=\"currentColor\" side=\"left\" startOffset=\"50%\" text-anchor=\"middle\" xlink:href=\"#arrow-1969907da1fb4a739e014329deb727e0-0-107\">det</textPath>\n    </text>\n    <path class=\"displacy-arrowhead\" d=\"M19670,1054.0 L19662,1042.0 19678,1042.0\" fill=\"currentColor\"/>\n</g>\n\n<g class=\"displacy-arrow\">\n    <path class=\"displacy-arc\" d=\"M19495,1052.0 C19495,877.0 19775.0,877.0 19775.0,1052.0\" fill=\"none\" id=\"arrow-1969907da1fb4a739e014329deb727e0-0-108\" stroke=\"currentColor\" stroke-width=\"2px\"/>\n    <text dy=\"1.25em\" style=\"font-size: 0.8em; letter-spacing: 1px\">\n        <textPath class=\"displacy-label\" fill=\"currentColor\" side=\"left\" startOffset=\"50%\" text-anchor=\"middle\" xlink:href=\"#arrow-1969907da1fb4a739e014329deb727e0-0-108\">obj</textPath>\n    </text>\n    <path class=\"displacy-arrowhead\" d=\"M19775.0,1054.0 L19783.0,1042.0 19767.0,1042.0\" fill=\"currentColor\"/>\n</g>\n\n<g class=\"displacy-arrow\">\n    <path class=\"displacy-arc\" d=\"M19495,1052.0 C19495,789.5 19955.0,789.5 19955.0,1052.0\" fill=\"none\" id=\"arrow-1969907da1fb4a739e014329deb727e0-0-109\" stroke=\"currentColor\" stroke-width=\"2px\"/>\n    <text dy=\"1.25em\" style=\"font-size: 0.8em; letter-spacing: 1px\">\n        <textPath class=\"displacy-label\" fill=\"currentColor\" side=\"left\" startOffset=\"50%\" text-anchor=\"middle\" xlink:href=\"#arrow-1969907da1fb4a739e014329deb727e0-0-109\">advmod</textPath>\n    </text>\n    <path class=\"displacy-arrowhead\" d=\"M19955.0,1054.0 L19963.0,1042.0 19947.0,1042.0\" fill=\"currentColor\"/>\n</g>\n\n<g class=\"displacy-arrow\">\n    <path class=\"displacy-arc\" d=\"M20195,1052.0 C20195,877.0 20475.0,877.0 20475.0,1052.0\" fill=\"none\" id=\"arrow-1969907da1fb4a739e014329deb727e0-0-110\" stroke=\"currentColor\" stroke-width=\"2px\"/>\n    <text dy=\"1.25em\" style=\"font-size: 0.8em; letter-spacing: 1px\">\n        <textPath class=\"displacy-label\" fill=\"currentColor\" side=\"left\" startOffset=\"50%\" text-anchor=\"middle\" xlink:href=\"#arrow-1969907da1fb4a739e014329deb727e0-0-110\">case</textPath>\n    </text>\n    <path class=\"displacy-arrowhead\" d=\"M20195,1054.0 L20187,1042.0 20203,1042.0\" fill=\"currentColor\"/>\n</g>\n\n<g class=\"displacy-arrow\">\n    <path class=\"displacy-arc\" d=\"M20370,1052.0 C20370,964.5 20470.0,964.5 20470.0,1052.0\" fill=\"none\" id=\"arrow-1969907da1fb4a739e014329deb727e0-0-111\" stroke=\"currentColor\" stroke-width=\"2px\"/>\n    <text dy=\"1.25em\" style=\"font-size: 0.8em; letter-spacing: 1px\">\n        <textPath class=\"displacy-label\" fill=\"currentColor\" side=\"left\" startOffset=\"50%\" text-anchor=\"middle\" xlink:href=\"#arrow-1969907da1fb4a739e014329deb727e0-0-111\">det</textPath>\n    </text>\n    <path class=\"displacy-arrowhead\" d=\"M20370,1054.0 L20362,1042.0 20378,1042.0\" fill=\"currentColor\"/>\n</g>\n\n<g class=\"displacy-arrow\">\n    <path class=\"displacy-arc\" d=\"M20545,1052.0 C20545,702.0 21185.0,702.0 21185.0,1052.0\" fill=\"none\" id=\"arrow-1969907da1fb4a739e014329deb727e0-0-112\" stroke=\"currentColor\" stroke-width=\"2px\"/>\n    <text dy=\"1.25em\" style=\"font-size: 0.8em; letter-spacing: 1px\">\n        <textPath class=\"displacy-label\" fill=\"currentColor\" side=\"left\" startOffset=\"50%\" text-anchor=\"middle\" xlink:href=\"#arrow-1969907da1fb4a739e014329deb727e0-0-112\">obl</textPath>\n    </text>\n    <path class=\"displacy-arrowhead\" d=\"M20545,1054.0 L20537,1042.0 20553,1042.0\" fill=\"currentColor\"/>\n</g>\n\n<g class=\"displacy-arrow\">\n    <path class=\"displacy-arc\" d=\"M20720,1052.0 C20720,964.5 20820.0,964.5 20820.0,1052.0\" fill=\"none\" id=\"arrow-1969907da1fb4a739e014329deb727e0-0-113\" stroke=\"currentColor\" stroke-width=\"2px\"/>\n    <text dy=\"1.25em\" style=\"font-size: 0.8em; letter-spacing: 1px\">\n        <textPath class=\"displacy-label\" fill=\"currentColor\" side=\"left\" startOffset=\"50%\" text-anchor=\"middle\" xlink:href=\"#arrow-1969907da1fb4a739e014329deb727e0-0-113\">case</textPath>\n    </text>\n    <path class=\"displacy-arrowhead\" d=\"M20720,1054.0 L20712,1042.0 20728,1042.0\" fill=\"currentColor\"/>\n</g>\n\n<g class=\"displacy-arrow\">\n    <path class=\"displacy-arc\" d=\"M20545,1052.0 C20545,877.0 20825.0,877.0 20825.0,1052.0\" fill=\"none\" id=\"arrow-1969907da1fb4a739e014329deb727e0-0-114\" stroke=\"currentColor\" stroke-width=\"2px\"/>\n    <text dy=\"1.25em\" style=\"font-size: 0.8em; letter-spacing: 1px\">\n        <textPath class=\"displacy-label\" fill=\"currentColor\" side=\"left\" startOffset=\"50%\" text-anchor=\"middle\" xlink:href=\"#arrow-1969907da1fb4a739e014329deb727e0-0-114\">nmod</textPath>\n    </text>\n    <path class=\"displacy-arrowhead\" d=\"M20825.0,1054.0 L20833.0,1042.0 20817.0,1042.0\" fill=\"currentColor\"/>\n</g>\n\n<g class=\"displacy-arrow\">\n    <path class=\"displacy-arc\" d=\"M21070,1052.0 C21070,964.5 21170.0,964.5 21170.0,1052.0\" fill=\"none\" id=\"arrow-1969907da1fb4a739e014329deb727e0-0-115\" stroke=\"currentColor\" stroke-width=\"2px\"/>\n    <text dy=\"1.25em\" style=\"font-size: 0.8em; letter-spacing: 1px\">\n        <textPath class=\"displacy-label\" fill=\"currentColor\" side=\"left\" startOffset=\"50%\" text-anchor=\"middle\" xlink:href=\"#arrow-1969907da1fb4a739e014329deb727e0-0-115\">aux:pass</textPath>\n    </text>\n    <path class=\"displacy-arrowhead\" d=\"M21070,1054.0 L21062,1042.0 21078,1042.0\" fill=\"currentColor\"/>\n</g>\n\n<g class=\"displacy-arrow\">\n    <path class=\"displacy-arc\" d=\"M21420,1052.0 C21420,964.5 21520.0,964.5 21520.0,1052.0\" fill=\"none\" id=\"arrow-1969907da1fb4a739e014329deb727e0-0-116\" stroke=\"currentColor\" stroke-width=\"2px\"/>\n    <text dy=\"1.25em\" style=\"font-size: 0.8em; letter-spacing: 1px\">\n        <textPath class=\"displacy-label\" fill=\"currentColor\" side=\"left\" startOffset=\"50%\" text-anchor=\"middle\" xlink:href=\"#arrow-1969907da1fb4a739e014329deb727e0-0-116\">det</textPath>\n    </text>\n    <path class=\"displacy-arrowhead\" d=\"M21420,1054.0 L21412,1042.0 21428,1042.0\" fill=\"currentColor\"/>\n</g>\n\n<g class=\"displacy-arrow\">\n    <path class=\"displacy-arc\" d=\"M21245,1052.0 C21245,877.0 21525.0,877.0 21525.0,1052.0\" fill=\"none\" id=\"arrow-1969907da1fb4a739e014329deb727e0-0-117\" stroke=\"currentColor\" stroke-width=\"2px\"/>\n    <text dy=\"1.25em\" style=\"font-size: 0.8em; letter-spacing: 1px\">\n        <textPath class=\"displacy-label\" fill=\"currentColor\" side=\"left\" startOffset=\"50%\" text-anchor=\"middle\" xlink:href=\"#arrow-1969907da1fb4a739e014329deb727e0-0-117\">nsubj:pass</textPath>\n    </text>\n    <path class=\"displacy-arrowhead\" d=\"M21525.0,1054.0 L21533.0,1042.0 21517.0,1042.0\" fill=\"currentColor\"/>\n</g>\n\n<g class=\"displacy-arrow\">\n    <path class=\"displacy-arc\" d=\"M21595,1052.0 C21595,964.5 21695.0,964.5 21695.0,1052.0\" fill=\"none\" id=\"arrow-1969907da1fb4a739e014329deb727e0-0-118\" stroke=\"currentColor\" stroke-width=\"2px\"/>\n    <text dy=\"1.25em\" style=\"font-size: 0.8em; letter-spacing: 1px\">\n        <textPath class=\"displacy-label\" fill=\"currentColor\" side=\"left\" startOffset=\"50%\" text-anchor=\"middle\" xlink:href=\"#arrow-1969907da1fb4a739e014329deb727e0-0-118\">amod</textPath>\n    </text>\n    <path class=\"displacy-arrowhead\" d=\"M21695.0,1054.0 L21703.0,1042.0 21687.0,1042.0\" fill=\"currentColor\"/>\n</g>\n\n<g class=\"displacy-arrow\">\n    <path class=\"displacy-arc\" d=\"M21945,1052.0 C21945,964.5 22045.0,964.5 22045.0,1052.0\" fill=\"none\" id=\"arrow-1969907da1fb4a739e014329deb727e0-0-119\" stroke=\"currentColor\" stroke-width=\"2px\"/>\n    <text dy=\"1.25em\" style=\"font-size: 0.8em; letter-spacing: 1px\">\n        <textPath class=\"displacy-label\" fill=\"currentColor\" side=\"left\" startOffset=\"50%\" text-anchor=\"middle\" xlink:href=\"#arrow-1969907da1fb4a739e014329deb727e0-0-119\">case</textPath>\n    </text>\n    <path class=\"displacy-arrowhead\" d=\"M21945,1054.0 L21937,1042.0 21953,1042.0\" fill=\"currentColor\"/>\n</g>\n\n<g class=\"displacy-arrow\">\n    <path class=\"displacy-arc\" d=\"M21595,1052.0 C21595,789.5 22055.0,789.5 22055.0,1052.0\" fill=\"none\" id=\"arrow-1969907da1fb4a739e014329deb727e0-0-120\" stroke=\"currentColor\" stroke-width=\"2px\"/>\n    <text dy=\"1.25em\" style=\"font-size: 0.8em; letter-spacing: 1px\">\n        <textPath class=\"displacy-label\" fill=\"currentColor\" side=\"left\" startOffset=\"50%\" text-anchor=\"middle\" xlink:href=\"#arrow-1969907da1fb4a739e014329deb727e0-0-120\">nmod</textPath>\n    </text>\n    <path class=\"displacy-arrowhead\" d=\"M22055.0,1054.0 L22063.0,1042.0 22047.0,1042.0\" fill=\"currentColor\"/>\n</g>\n\n<g class=\"displacy-arrow\">\n    <path class=\"displacy-arc\" d=\"M22120,1052.0 C22120,964.5 22220.0,964.5 22220.0,1052.0\" fill=\"none\" id=\"arrow-1969907da1fb4a739e014329deb727e0-0-121\" stroke=\"currentColor\" stroke-width=\"2px\"/>\n    <text dy=\"1.25em\" style=\"font-size: 0.8em; letter-spacing: 1px\">\n        <textPath class=\"displacy-label\" fill=\"currentColor\" side=\"left\" startOffset=\"50%\" text-anchor=\"middle\" xlink:href=\"#arrow-1969907da1fb4a739e014329deb727e0-0-121\">conj</textPath>\n    </text>\n    <path class=\"displacy-arrowhead\" d=\"M22220.0,1054.0 L22228.0,1042.0 22212.0,1042.0\" fill=\"currentColor\"/>\n</g>\n\n<g class=\"displacy-arrow\">\n    <path class=\"displacy-arc\" d=\"M22470,1052.0 C22470,964.5 22570.0,964.5 22570.0,1052.0\" fill=\"none\" id=\"arrow-1969907da1fb4a739e014329deb727e0-0-122\" stroke=\"currentColor\" stroke-width=\"2px\"/>\n    <text dy=\"1.25em\" style=\"font-size: 0.8em; letter-spacing: 1px\">\n        <textPath class=\"displacy-label\" fill=\"currentColor\" side=\"left\" startOffset=\"50%\" text-anchor=\"middle\" xlink:href=\"#arrow-1969907da1fb4a739e014329deb727e0-0-122\">cc</textPath>\n    </text>\n    <path class=\"displacy-arrowhead\" d=\"M22470,1054.0 L22462,1042.0 22478,1042.0\" fill=\"currentColor\"/>\n</g>\n\n<g class=\"displacy-arrow\">\n    <path class=\"displacy-arc\" d=\"M22120,1052.0 C22120,789.5 22580.0,789.5 22580.0,1052.0\" fill=\"none\" id=\"arrow-1969907da1fb4a739e014329deb727e0-0-123\" stroke=\"currentColor\" stroke-width=\"2px\"/>\n    <text dy=\"1.25em\" style=\"font-size: 0.8em; letter-spacing: 1px\">\n        <textPath class=\"displacy-label\" fill=\"currentColor\" side=\"left\" startOffset=\"50%\" text-anchor=\"middle\" xlink:href=\"#arrow-1969907da1fb4a739e014329deb727e0-0-123\">conj</textPath>\n    </text>\n    <path class=\"displacy-arrowhead\" d=\"M22580.0,1054.0 L22588.0,1042.0 22572.0,1042.0\" fill=\"currentColor\"/>\n</g>\n\n<g class=\"displacy-arrow\">\n    <path class=\"displacy-arc\" d=\"M22820,1052.0 C22820,877.0 23100.0,877.0 23100.0,1052.0\" fill=\"none\" id=\"arrow-1969907da1fb4a739e014329deb727e0-0-124\" stroke=\"currentColor\" stroke-width=\"2px\"/>\n    <text dy=\"1.25em\" style=\"font-size: 0.8em; letter-spacing: 1px\">\n        <textPath class=\"displacy-label\" fill=\"currentColor\" side=\"left\" startOffset=\"50%\" text-anchor=\"middle\" xlink:href=\"#arrow-1969907da1fb4a739e014329deb727e0-0-124\">det</textPath>\n    </text>\n    <path class=\"displacy-arrowhead\" d=\"M22820,1054.0 L22812,1042.0 22828,1042.0\" fill=\"currentColor\"/>\n</g>\n\n<g class=\"displacy-arrow\">\n    <path class=\"displacy-arc\" d=\"M22995,1052.0 C22995,964.5 23095.0,964.5 23095.0,1052.0\" fill=\"none\" id=\"arrow-1969907da1fb4a739e014329deb727e0-0-125\" stroke=\"currentColor\" stroke-width=\"2px\"/>\n    <text dy=\"1.25em\" style=\"font-size: 0.8em; letter-spacing: 1px\">\n        <textPath class=\"displacy-label\" fill=\"currentColor\" side=\"left\" startOffset=\"50%\" text-anchor=\"middle\" xlink:href=\"#arrow-1969907da1fb4a739e014329deb727e0-0-125\">det</textPath>\n    </text>\n    <path class=\"displacy-arrowhead\" d=\"M22995,1054.0 L22987,1042.0 23003,1042.0\" fill=\"currentColor\"/>\n</g>\n\n<g class=\"displacy-arrow\">\n    <path class=\"displacy-arc\" d=\"M23170,1052.0 C23170,877.0 23450.0,877.0 23450.0,1052.0\" fill=\"none\" id=\"arrow-1969907da1fb4a739e014329deb727e0-0-126\" stroke=\"currentColor\" stroke-width=\"2px\"/>\n    <text dy=\"1.25em\" style=\"font-size: 0.8em; letter-spacing: 1px\">\n        <textPath class=\"displacy-label\" fill=\"currentColor\" side=\"left\" startOffset=\"50%\" text-anchor=\"middle\" xlink:href=\"#arrow-1969907da1fb4a739e014329deb727e0-0-126\">nsubj:pass</textPath>\n    </text>\n    <path class=\"displacy-arrowhead\" d=\"M23170,1054.0 L23162,1042.0 23178,1042.0\" fill=\"currentColor\"/>\n</g>\n\n<g class=\"displacy-arrow\">\n    <path class=\"displacy-arc\" d=\"M23345,1052.0 C23345,964.5 23445.0,964.5 23445.0,1052.0\" fill=\"none\" id=\"arrow-1969907da1fb4a739e014329deb727e0-0-127\" stroke=\"currentColor\" stroke-width=\"2px\"/>\n    <text dy=\"1.25em\" style=\"font-size: 0.8em; letter-spacing: 1px\">\n        <textPath class=\"displacy-label\" fill=\"currentColor\" side=\"left\" startOffset=\"50%\" text-anchor=\"middle\" xlink:href=\"#arrow-1969907da1fb4a739e014329deb727e0-0-127\">aux:pass</textPath>\n    </text>\n    <path class=\"displacy-arrowhead\" d=\"M23345,1054.0 L23337,1042.0 23353,1042.0\" fill=\"currentColor\"/>\n</g>\n\n<g class=\"displacy-arrow\">\n    <path class=\"displacy-arc\" d=\"M23695,1052.0 C23695,964.5 23795.0,964.5 23795.0,1052.0\" fill=\"none\" id=\"arrow-1969907da1fb4a739e014329deb727e0-0-128\" stroke=\"currentColor\" stroke-width=\"2px\"/>\n    <text dy=\"1.25em\" style=\"font-size: 0.8em; letter-spacing: 1px\">\n        <textPath class=\"displacy-label\" fill=\"currentColor\" side=\"left\" startOffset=\"50%\" text-anchor=\"middle\" xlink:href=\"#arrow-1969907da1fb4a739e014329deb727e0-0-128\">case</textPath>\n    </text>\n    <path class=\"displacy-arrowhead\" d=\"M23695,1054.0 L23687,1042.0 23703,1042.0\" fill=\"currentColor\"/>\n</g>\n\n<g class=\"displacy-arrow\">\n    <path class=\"displacy-arc\" d=\"M23520,1052.0 C23520,877.0 23800.0,877.0 23800.0,1052.0\" fill=\"none\" id=\"arrow-1969907da1fb4a739e014329deb727e0-0-129\" stroke=\"currentColor\" stroke-width=\"2px\"/>\n    <text dy=\"1.25em\" style=\"font-size: 0.8em; letter-spacing: 1px\">\n        <textPath class=\"displacy-label\" fill=\"currentColor\" side=\"left\" startOffset=\"50%\" text-anchor=\"middle\" xlink:href=\"#arrow-1969907da1fb4a739e014329deb727e0-0-129\">obl</textPath>\n    </text>\n    <path class=\"displacy-arrowhead\" d=\"M23800.0,1054.0 L23808.0,1042.0 23792.0,1042.0\" fill=\"currentColor\"/>\n</g>\n\n<g class=\"displacy-arrow\">\n    <path class=\"displacy-arc\" d=\"M24045,1052.0 C24045,964.5 24145.0,964.5 24145.0,1052.0\" fill=\"none\" id=\"arrow-1969907da1fb4a739e014329deb727e0-0-130\" stroke=\"currentColor\" stroke-width=\"2px\"/>\n    <text dy=\"1.25em\" style=\"font-size: 0.8em; letter-spacing: 1px\">\n        <textPath class=\"displacy-label\" fill=\"currentColor\" side=\"left\" startOffset=\"50%\" text-anchor=\"middle\" xlink:href=\"#arrow-1969907da1fb4a739e014329deb727e0-0-130\">case</textPath>\n    </text>\n    <path class=\"displacy-arrowhead\" d=\"M24045,1054.0 L24037,1042.0 24053,1042.0\" fill=\"currentColor\"/>\n</g>\n\n<g class=\"displacy-arrow\">\n    <path class=\"displacy-arc\" d=\"M23870,1052.0 C23870,877.0 24150.0,877.0 24150.0,1052.0\" fill=\"none\" id=\"arrow-1969907da1fb4a739e014329deb727e0-0-131\" stroke=\"currentColor\" stroke-width=\"2px\"/>\n    <text dy=\"1.25em\" style=\"font-size: 0.8em; letter-spacing: 1px\">\n        <textPath class=\"displacy-label\" fill=\"currentColor\" side=\"left\" startOffset=\"50%\" text-anchor=\"middle\" xlink:href=\"#arrow-1969907da1fb4a739e014329deb727e0-0-131\">nmod</textPath>\n    </text>\n    <path class=\"displacy-arrowhead\" d=\"M24150.0,1054.0 L24158.0,1042.0 24142.0,1042.0\" fill=\"currentColor\"/>\n</g>\n\n<g class=\"displacy-arrow\">\n    <path class=\"displacy-arc\" d=\"M24395,1052.0 C24395,702.0 25035.0,702.0 25035.0,1052.0\" fill=\"none\" id=\"arrow-1969907da1fb4a739e014329deb727e0-0-132\" stroke=\"currentColor\" stroke-width=\"2px\"/>\n    <text dy=\"1.25em\" style=\"font-size: 0.8em; letter-spacing: 1px\">\n        <textPath class=\"displacy-label\" fill=\"currentColor\" side=\"left\" startOffset=\"50%\" text-anchor=\"middle\" xlink:href=\"#arrow-1969907da1fb4a739e014329deb727e0-0-132\">cc</textPath>\n    </text>\n    <path class=\"displacy-arrowhead\" d=\"M24395,1054.0 L24387,1042.0 24403,1042.0\" fill=\"currentColor\"/>\n</g>\n\n<g class=\"displacy-arrow\">\n    <path class=\"displacy-arc\" d=\"M24570,1052.0 C24570,964.5 24670.0,964.5 24670.0,1052.0\" fill=\"none\" id=\"arrow-1969907da1fb4a739e014329deb727e0-0-133\" stroke=\"currentColor\" stroke-width=\"2px\"/>\n    <text dy=\"1.25em\" style=\"font-size: 0.8em; letter-spacing: 1px\">\n        <textPath class=\"displacy-label\" fill=\"currentColor\" side=\"left\" startOffset=\"50%\" text-anchor=\"middle\" xlink:href=\"#arrow-1969907da1fb4a739e014329deb727e0-0-133\">det</textPath>\n    </text>\n    <path class=\"displacy-arrowhead\" d=\"M24570,1054.0 L24562,1042.0 24578,1042.0\" fill=\"currentColor\"/>\n</g>\n\n<g class=\"displacy-arrow\">\n    <path class=\"displacy-arc\" d=\"M24745,1052.0 C24745,877.0 25025.0,877.0 25025.0,1052.0\" fill=\"none\" id=\"arrow-1969907da1fb4a739e014329deb727e0-0-134\" stroke=\"currentColor\" stroke-width=\"2px\"/>\n    <text dy=\"1.25em\" style=\"font-size: 0.8em; letter-spacing: 1px\">\n        <textPath class=\"displacy-label\" fill=\"currentColor\" side=\"left\" startOffset=\"50%\" text-anchor=\"middle\" xlink:href=\"#arrow-1969907da1fb4a739e014329deb727e0-0-134\">nsubj:pass</textPath>\n    </text>\n    <path class=\"displacy-arrowhead\" d=\"M24745,1054.0 L24737,1042.0 24753,1042.0\" fill=\"currentColor\"/>\n</g>\n\n<g class=\"displacy-arrow\">\n    <path class=\"displacy-arc\" d=\"M24920,1052.0 C24920,964.5 25020.0,964.5 25020.0,1052.0\" fill=\"none\" id=\"arrow-1969907da1fb4a739e014329deb727e0-0-135\" stroke=\"currentColor\" stroke-width=\"2px\"/>\n    <text dy=\"1.25em\" style=\"font-size: 0.8em; letter-spacing: 1px\">\n        <textPath class=\"displacy-label\" fill=\"currentColor\" side=\"left\" startOffset=\"50%\" text-anchor=\"middle\" xlink:href=\"#arrow-1969907da1fb4a739e014329deb727e0-0-135\">aux:pass</textPath>\n    </text>\n    <path class=\"displacy-arrowhead\" d=\"M24920,1054.0 L24912,1042.0 24928,1042.0\" fill=\"currentColor\"/>\n</g>\n\n<g class=\"displacy-arrow\">\n    <path class=\"displacy-arc\" d=\"M23520,1052.0 C23520,352.0 25055.0,352.0 25055.0,1052.0\" fill=\"none\" id=\"arrow-1969907da1fb4a739e014329deb727e0-0-136\" stroke=\"currentColor\" stroke-width=\"2px\"/>\n    <text dy=\"1.25em\" style=\"font-size: 0.8em; letter-spacing: 1px\">\n        <textPath class=\"displacy-label\" fill=\"currentColor\" side=\"left\" startOffset=\"50%\" text-anchor=\"middle\" xlink:href=\"#arrow-1969907da1fb4a739e014329deb727e0-0-136\">conj</textPath>\n    </text>\n    <path class=\"displacy-arrowhead\" d=\"M25055.0,1054.0 L25063.0,1042.0 25047.0,1042.0\" fill=\"currentColor\"/>\n</g>\n\n<g class=\"displacy-arrow\">\n    <path class=\"displacy-arc\" d=\"M25270,1052.0 C25270,964.5 25370.0,964.5 25370.0,1052.0\" fill=\"none\" id=\"arrow-1969907da1fb4a739e014329deb727e0-0-137\" stroke=\"currentColor\" stroke-width=\"2px\"/>\n    <text dy=\"1.25em\" style=\"font-size: 0.8em; letter-spacing: 1px\">\n        <textPath class=\"displacy-label\" fill=\"currentColor\" side=\"left\" startOffset=\"50%\" text-anchor=\"middle\" xlink:href=\"#arrow-1969907da1fb4a739e014329deb727e0-0-137\">mark</textPath>\n    </text>\n    <path class=\"displacy-arrowhead\" d=\"M25270,1054.0 L25262,1042.0 25278,1042.0\" fill=\"currentColor\"/>\n</g>\n\n<g class=\"displacy-arrow\">\n    <path class=\"displacy-arc\" d=\"M25095,1052.0 C25095,877.0 25375.0,877.0 25375.0,1052.0\" fill=\"none\" id=\"arrow-1969907da1fb4a739e014329deb727e0-0-138\" stroke=\"currentColor\" stroke-width=\"2px\"/>\n    <text dy=\"1.25em\" style=\"font-size: 0.8em; letter-spacing: 1px\">\n        <textPath class=\"displacy-label\" fill=\"currentColor\" side=\"left\" startOffset=\"50%\" text-anchor=\"middle\" xlink:href=\"#arrow-1969907da1fb4a739e014329deb727e0-0-138\">advcl</textPath>\n    </text>\n    <path class=\"displacy-arrowhead\" d=\"M25375.0,1054.0 L25383.0,1042.0 25367.0,1042.0\" fill=\"currentColor\"/>\n</g>\n\n<g class=\"displacy-arrow\">\n    <path class=\"displacy-arc\" d=\"M25445,1052.0 C25445,964.5 25545.0,964.5 25545.0,1052.0\" fill=\"none\" id=\"arrow-1969907da1fb4a739e014329deb727e0-0-139\" stroke=\"currentColor\" stroke-width=\"2px\"/>\n    <text dy=\"1.25em\" style=\"font-size: 0.8em; letter-spacing: 1px\">\n        <textPath class=\"displacy-label\" fill=\"currentColor\" side=\"left\" startOffset=\"50%\" text-anchor=\"middle\" xlink:href=\"#arrow-1969907da1fb4a739e014329deb727e0-0-139\">obj</textPath>\n    </text>\n    <path class=\"displacy-arrowhead\" d=\"M25545.0,1054.0 L25553.0,1042.0 25537.0,1042.0\" fill=\"currentColor\"/>\n</g>\n\n<g class=\"displacy-arrow\">\n    <path class=\"displacy-arc\" d=\"M25795,1052.0 C25795,964.5 25895.0,964.5 25895.0,1052.0\" fill=\"none\" id=\"arrow-1969907da1fb4a739e014329deb727e0-0-140\" stroke=\"currentColor\" stroke-width=\"2px\"/>\n    <text dy=\"1.25em\" style=\"font-size: 0.8em; letter-spacing: 1px\">\n        <textPath class=\"displacy-label\" fill=\"currentColor\" side=\"left\" startOffset=\"50%\" text-anchor=\"middle\" xlink:href=\"#arrow-1969907da1fb4a739e014329deb727e0-0-140\">obj</textPath>\n    </text>\n    <path class=\"displacy-arrowhead\" d=\"M25795,1054.0 L25787,1042.0 25803,1042.0\" fill=\"currentColor\"/>\n</g>\n\n<g class=\"displacy-arrow\">\n    <path class=\"displacy-arc\" d=\"M25620,1052.0 C25620,877.0 25900.0,877.0 25900.0,1052.0\" fill=\"none\" id=\"arrow-1969907da1fb4a739e014329deb727e0-0-141\" stroke=\"currentColor\" stroke-width=\"2px\"/>\n    <text dy=\"1.25em\" style=\"font-size: 0.8em; letter-spacing: 1px\">\n        <textPath class=\"displacy-label\" fill=\"currentColor\" side=\"left\" startOffset=\"50%\" text-anchor=\"middle\" xlink:href=\"#arrow-1969907da1fb4a739e014329deb727e0-0-141\">acl:relcl</textPath>\n    </text>\n    <path class=\"displacy-arrowhead\" d=\"M25900.0,1054.0 L25908.0,1042.0 25892.0,1042.0\" fill=\"currentColor\"/>\n</g>\n\n<g class=\"displacy-arrow\">\n    <path class=\"displacy-arc\" d=\"M25970,1052.0 C25970,964.5 26070.0,964.5 26070.0,1052.0\" fill=\"none\" id=\"arrow-1969907da1fb4a739e014329deb727e0-0-142\" stroke=\"currentColor\" stroke-width=\"2px\"/>\n    <text dy=\"1.25em\" style=\"font-size: 0.8em; letter-spacing: 1px\">\n        <textPath class=\"displacy-label\" fill=\"currentColor\" side=\"left\" startOffset=\"50%\" text-anchor=\"middle\" xlink:href=\"#arrow-1969907da1fb4a739e014329deb727e0-0-142\">xcomp</textPath>\n    </text>\n    <path class=\"displacy-arrowhead\" d=\"M26070.0,1054.0 L26078.0,1042.0 26062.0,1042.0\" fill=\"currentColor\"/>\n</g>\n\n<g class=\"displacy-arrow\">\n    <path class=\"displacy-arc\" d=\"M26320,1052.0 C26320,964.5 26420.0,964.5 26420.0,1052.0\" fill=\"none\" id=\"arrow-1969907da1fb4a739e014329deb727e0-0-143\" stroke=\"currentColor\" stroke-width=\"2px\"/>\n    <text dy=\"1.25em\" style=\"font-size: 0.8em; letter-spacing: 1px\">\n        <textPath class=\"displacy-label\" fill=\"currentColor\" side=\"left\" startOffset=\"50%\" text-anchor=\"middle\" xlink:href=\"#arrow-1969907da1fb4a739e014329deb727e0-0-143\">mark</textPath>\n    </text>\n    <path class=\"displacy-arrowhead\" d=\"M26320,1054.0 L26312,1042.0 26328,1042.0\" fill=\"currentColor\"/>\n</g>\n\n<g class=\"displacy-arrow\">\n    <path class=\"displacy-arc\" d=\"M25970,1052.0 C25970,789.5 26430.0,789.5 26430.0,1052.0\" fill=\"none\" id=\"arrow-1969907da1fb4a739e014329deb727e0-0-144\" stroke=\"currentColor\" stroke-width=\"2px\"/>\n    <text dy=\"1.25em\" style=\"font-size: 0.8em; letter-spacing: 1px\">\n        <textPath class=\"displacy-label\" fill=\"currentColor\" side=\"left\" startOffset=\"50%\" text-anchor=\"middle\" xlink:href=\"#arrow-1969907da1fb4a739e014329deb727e0-0-144\">advcl</textPath>\n    </text>\n    <path class=\"displacy-arrowhead\" d=\"M26430.0,1054.0 L26438.0,1042.0 26422.0,1042.0\" fill=\"currentColor\"/>\n</g>\n\n<g class=\"displacy-arrow\">\n    <path class=\"displacy-arc\" d=\"M26495,1052.0 C26495,964.5 26595.0,964.5 26595.0,1052.0\" fill=\"none\" id=\"arrow-1969907da1fb4a739e014329deb727e0-0-145\" stroke=\"currentColor\" stroke-width=\"2px\"/>\n    <text dy=\"1.25em\" style=\"font-size: 0.8em; letter-spacing: 1px\">\n        <textPath class=\"displacy-label\" fill=\"currentColor\" side=\"left\" startOffset=\"50%\" text-anchor=\"middle\" xlink:href=\"#arrow-1969907da1fb4a739e014329deb727e0-0-145\">xcomp</textPath>\n    </text>\n    <path class=\"displacy-arrowhead\" d=\"M26595.0,1054.0 L26603.0,1042.0 26587.0,1042.0\" fill=\"currentColor\"/>\n</g>\n\n<g class=\"displacy-arrow\">\n    <path class=\"displacy-arc\" d=\"M26845,1052.0 C26845,964.5 26945.0,964.5 26945.0,1052.0\" fill=\"none\" id=\"arrow-1969907da1fb4a739e014329deb727e0-0-146\" stroke=\"currentColor\" stroke-width=\"2px\"/>\n    <text dy=\"1.25em\" style=\"font-size: 0.8em; letter-spacing: 1px\">\n        <textPath class=\"displacy-label\" fill=\"currentColor\" side=\"left\" startOffset=\"50%\" text-anchor=\"middle\" xlink:href=\"#arrow-1969907da1fb4a739e014329deb727e0-0-146\">det</textPath>\n    </text>\n    <path class=\"displacy-arrowhead\" d=\"M26845,1054.0 L26837,1042.0 26853,1042.0\" fill=\"currentColor\"/>\n</g>\n\n<g class=\"displacy-arrow\">\n    <path class=\"displacy-arc\" d=\"M26670,1052.0 C26670,877.0 26950.0,877.0 26950.0,1052.0\" fill=\"none\" id=\"arrow-1969907da1fb4a739e014329deb727e0-0-147\" stroke=\"currentColor\" stroke-width=\"2px\"/>\n    <text dy=\"1.25em\" style=\"font-size: 0.8em; letter-spacing: 1px\">\n        <textPath class=\"displacy-label\" fill=\"currentColor\" side=\"left\" startOffset=\"50%\" text-anchor=\"middle\" xlink:href=\"#arrow-1969907da1fb4a739e014329deb727e0-0-147\">obj</textPath>\n    </text>\n    <path class=\"displacy-arrowhead\" d=\"M26950.0,1054.0 L26958.0,1042.0 26942.0,1042.0\" fill=\"currentColor\"/>\n</g>\n\n<g class=\"displacy-arrow\">\n    <path class=\"displacy-arc\" d=\"M27020,1052.0 C27020,964.5 27120.0,964.5 27120.0,1052.0\" fill=\"none\" id=\"arrow-1969907da1fb4a739e014329deb727e0-0-148\" stroke=\"currentColor\" stroke-width=\"2px\"/>\n    <text dy=\"1.25em\" style=\"font-size: 0.8em; letter-spacing: 1px\">\n        <textPath class=\"displacy-label\" fill=\"currentColor\" side=\"left\" startOffset=\"50%\" text-anchor=\"middle\" xlink:href=\"#arrow-1969907da1fb4a739e014329deb727e0-0-148\">amod</textPath>\n    </text>\n    <path class=\"displacy-arrowhead\" d=\"M27120.0,1054.0 L27128.0,1042.0 27112.0,1042.0\" fill=\"currentColor\"/>\n</g>\n\n<g class=\"displacy-arrow\">\n    <path class=\"displacy-arc\" d=\"M27370,1052.0 C27370,964.5 27470.0,964.5 27470.0,1052.0\" fill=\"none\" id=\"arrow-1969907da1fb4a739e014329deb727e0-0-149\" stroke=\"currentColor\" stroke-width=\"2px\"/>\n    <text dy=\"1.25em\" style=\"font-size: 0.8em; letter-spacing: 1px\">\n        <textPath class=\"displacy-label\" fill=\"currentColor\" side=\"left\" startOffset=\"50%\" text-anchor=\"middle\" xlink:href=\"#arrow-1969907da1fb4a739e014329deb727e0-0-149\">case</textPath>\n    </text>\n    <path class=\"displacy-arrowhead\" d=\"M27370,1054.0 L27362,1042.0 27378,1042.0\" fill=\"currentColor\"/>\n</g>\n\n<g class=\"displacy-arrow\">\n    <path class=\"displacy-arc\" d=\"M27020,1052.0 C27020,789.5 27480.0,789.5 27480.0,1052.0\" fill=\"none\" id=\"arrow-1969907da1fb4a739e014329deb727e0-0-150\" stroke=\"currentColor\" stroke-width=\"2px\"/>\n    <text dy=\"1.25em\" style=\"font-size: 0.8em; letter-spacing: 1px\">\n        <textPath class=\"displacy-label\" fill=\"currentColor\" side=\"left\" startOffset=\"50%\" text-anchor=\"middle\" xlink:href=\"#arrow-1969907da1fb4a739e014329deb727e0-0-150\">nmod</textPath>\n    </text>\n    <path class=\"displacy-arrowhead\" d=\"M27480.0,1054.0 L27488.0,1042.0 27472.0,1042.0\" fill=\"currentColor\"/>\n</g>\n\n<g class=\"displacy-arrow\">\n    <path class=\"displacy-arc\" d=\"M27720,1052.0 C27720,964.5 27820.0,964.5 27820.0,1052.0\" fill=\"none\" id=\"arrow-1969907da1fb4a739e014329deb727e0-0-151\" stroke=\"currentColor\" stroke-width=\"2px\"/>\n    <text dy=\"1.25em\" style=\"font-size: 0.8em; letter-spacing: 1px\">\n        <textPath class=\"displacy-label\" fill=\"currentColor\" side=\"left\" startOffset=\"50%\" text-anchor=\"middle\" xlink:href=\"#arrow-1969907da1fb4a739e014329deb727e0-0-151\">mark</textPath>\n    </text>\n    <path class=\"displacy-arrowhead\" d=\"M27720,1054.0 L27712,1042.0 27728,1042.0\" fill=\"currentColor\"/>\n</g>\n\n<g class=\"displacy-arrow\">\n    <path class=\"displacy-arc\" d=\"M26670,1052.0 C26670,439.5 27850.0,439.5 27850.0,1052.0\" fill=\"none\" id=\"arrow-1969907da1fb4a739e014329deb727e0-0-152\" stroke=\"currentColor\" stroke-width=\"2px\"/>\n    <text dy=\"1.25em\" style=\"font-size: 0.8em; letter-spacing: 1px\">\n        <textPath class=\"displacy-label\" fill=\"currentColor\" side=\"left\" startOffset=\"50%\" text-anchor=\"middle\" xlink:href=\"#arrow-1969907da1fb4a739e014329deb727e0-0-152\">advcl</textPath>\n    </text>\n    <path class=\"displacy-arrowhead\" d=\"M27850.0,1054.0 L27858.0,1042.0 27842.0,1042.0\" fill=\"currentColor\"/>\n</g>\n\n<g class=\"displacy-arrow\">\n    <path class=\"displacy-arc\" d=\"M27895,1052.0 C27895,964.5 27995.0,964.5 27995.0,1052.0\" fill=\"none\" id=\"arrow-1969907da1fb4a739e014329deb727e0-0-153\" stroke=\"currentColor\" stroke-width=\"2px\"/>\n    <text dy=\"1.25em\" style=\"font-size: 0.8em; letter-spacing: 1px\">\n        <textPath class=\"displacy-label\" fill=\"currentColor\" side=\"left\" startOffset=\"50%\" text-anchor=\"middle\" xlink:href=\"#arrow-1969907da1fb4a739e014329deb727e0-0-153\">obj</textPath>\n    </text>\n    <path class=\"displacy-arrowhead\" d=\"M27995.0,1054.0 L28003.0,1042.0 27987.0,1042.0\" fill=\"currentColor\"/>\n</g>\n\n<g class=\"displacy-arrow\">\n    <path class=\"displacy-arc\" d=\"M28245,1052.0 C28245,964.5 28345.0,964.5 28345.0,1052.0\" fill=\"none\" id=\"arrow-1969907da1fb4a739e014329deb727e0-0-154\" stroke=\"currentColor\" stroke-width=\"2px\"/>\n    <text dy=\"1.25em\" style=\"font-size: 0.8em; letter-spacing: 1px\">\n        <textPath class=\"displacy-label\" fill=\"currentColor\" side=\"left\" startOffset=\"50%\" text-anchor=\"middle\" xlink:href=\"#arrow-1969907da1fb4a739e014329deb727e0-0-154\">case</textPath>\n    </text>\n    <path class=\"displacy-arrowhead\" d=\"M28245,1054.0 L28237,1042.0 28253,1042.0\" fill=\"currentColor\"/>\n</g>\n\n<g class=\"displacy-arrow\">\n    <path class=\"displacy-arc\" d=\"M28070,1052.0 C28070,877.0 28350.0,877.0 28350.0,1052.0\" fill=\"none\" id=\"arrow-1969907da1fb4a739e014329deb727e0-0-155\" stroke=\"currentColor\" stroke-width=\"2px\"/>\n    <text dy=\"1.25em\" style=\"font-size: 0.8em; letter-spacing: 1px\">\n        <textPath class=\"displacy-label\" fill=\"currentColor\" side=\"left\" startOffset=\"50%\" text-anchor=\"middle\" xlink:href=\"#arrow-1969907da1fb4a739e014329deb727e0-0-155\">nmod</textPath>\n    </text>\n    <path class=\"displacy-arrowhead\" d=\"M28350.0,1054.0 L28358.0,1042.0 28342.0,1042.0\" fill=\"currentColor\"/>\n</g>\n\n<g class=\"displacy-arrow\">\n    <path class=\"displacy-arc\" d=\"M28420,1052.0 C28420,964.5 28520.0,964.5 28520.0,1052.0\" fill=\"none\" id=\"arrow-1969907da1fb4a739e014329deb727e0-0-156\" stroke=\"currentColor\" stroke-width=\"2px\"/>\n    <text dy=\"1.25em\" style=\"font-size: 0.8em; letter-spacing: 1px\">\n        <textPath class=\"displacy-label\" fill=\"currentColor\" side=\"left\" startOffset=\"50%\" text-anchor=\"middle\" xlink:href=\"#arrow-1969907da1fb4a739e014329deb727e0-0-156\">amod</textPath>\n    </text>\n    <path class=\"displacy-arrowhead\" d=\"M28520.0,1054.0 L28528.0,1042.0 28512.0,1042.0\" fill=\"currentColor\"/>\n</g>\n\n<g class=\"displacy-arrow\">\n    <path class=\"displacy-arc\" d=\"M27895,1052.0 C27895,614.5 28715.0,614.5 28715.0,1052.0\" fill=\"none\" id=\"arrow-1969907da1fb4a739e014329deb727e0-0-157\" stroke=\"currentColor\" stroke-width=\"2px\"/>\n    <text dy=\"1.25em\" style=\"font-size: 0.8em; letter-spacing: 1px\">\n        <textPath class=\"displacy-label\" fill=\"currentColor\" side=\"left\" startOffset=\"50%\" text-anchor=\"middle\" xlink:href=\"#arrow-1969907da1fb4a739e014329deb727e0-0-157\">advcl</textPath>\n    </text>\n    <path class=\"displacy-arrowhead\" d=\"M28715.0,1054.0 L28723.0,1042.0 28707.0,1042.0\" fill=\"currentColor\"/>\n</g>\n\n<g class=\"displacy-arrow\">\n    <path class=\"displacy-arc\" d=\"M28770,1052.0 C28770,964.5 28870.0,964.5 28870.0,1052.0\" fill=\"none\" id=\"arrow-1969907da1fb4a739e014329deb727e0-0-158\" stroke=\"currentColor\" stroke-width=\"2px\"/>\n    <text dy=\"1.25em\" style=\"font-size: 0.8em; letter-spacing: 1px\">\n        <textPath class=\"displacy-label\" fill=\"currentColor\" side=\"left\" startOffset=\"50%\" text-anchor=\"middle\" xlink:href=\"#arrow-1969907da1fb4a739e014329deb727e0-0-158\">obj</textPath>\n    </text>\n    <path class=\"displacy-arrowhead\" d=\"M28870.0,1054.0 L28878.0,1042.0 28862.0,1042.0\" fill=\"currentColor\"/>\n</g>\n\n<g class=\"displacy-arrow\">\n    <path class=\"displacy-arc\" d=\"M28945,1052.0 C28945,964.5 29045.0,964.5 29045.0,1052.0\" fill=\"none\" id=\"arrow-1969907da1fb4a739e014329deb727e0-0-159\" stroke=\"currentColor\" stroke-width=\"2px\"/>\n    <text dy=\"1.25em\" style=\"font-size: 0.8em; letter-spacing: 1px\">\n        <textPath class=\"displacy-label\" fill=\"currentColor\" side=\"left\" startOffset=\"50%\" text-anchor=\"middle\" xlink:href=\"#arrow-1969907da1fb4a739e014329deb727e0-0-159\">amod</textPath>\n    </text>\n    <path class=\"displacy-arrowhead\" d=\"M29045.0,1054.0 L29053.0,1042.0 29037.0,1042.0\" fill=\"currentColor\"/>\n</g>\n</svg>"
          },
          "metadata": {},
          "execution_count": 31
        }
      ]
    },
    {
      "cell_type": "markdown",
      "source": [
        "**Identificar as entidades nomeadas no texto**"
      ],
      "metadata": {
        "id": "YLr5KeBNDRcN"
      }
    },
    {
      "cell_type": "code",
      "source": [
        "entidades = list(doc.ents)\n",
        "entidades"
      ],
      "metadata": {
        "colab": {
          "base_uri": "https://localhost:8080/"
        },
        "id": "_tPJzxQ9DVu-",
        "outputId": "6c8ab655-51a9-4aec-f2a4-efa13420134d"
      },
      "execution_count": null,
      "outputs": [
        {
          "output_type": "execute_result",
          "data": {
            "text/plain": [
              "[Lei Geral de Proteção de Dados]"
            ]
          },
          "metadata": {},
          "execution_count": 32
        }
      ]
    },
    {
      "cell_type": "code",
      "source": [
        "entidades_detalhes = [(entidades, entidades.label_) for entidades in doc.ents]\n",
        "entidades_detalhes"
      ],
      "metadata": {
        "colab": {
          "base_uri": "https://localhost:8080/"
        },
        "id": "3nBDQNNhDjyw",
        "outputId": "ea5070da-060e-430c-a24a-0a4fa06c89b6"
      },
      "execution_count": null,
      "outputs": [
        {
          "output_type": "execute_result",
          "data": {
            "text/plain": [
              "[(Lei Geral de Proteção de Dados, 'MISC')]"
            ]
          },
          "metadata": {},
          "execution_count": 38
        }
      ]
    },
    {
      "cell_type": "code",
      "source": [
        ""
      ],
      "metadata": {
        "id": "JUUtczAJEMMp"
      },
      "execution_count": null,
      "outputs": []
    }
  ]
}