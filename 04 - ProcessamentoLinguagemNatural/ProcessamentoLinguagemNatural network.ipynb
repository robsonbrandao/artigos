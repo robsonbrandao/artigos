{
  "nbformat": 4,
  "nbformat_minor": 0,
  "metadata": {
    "colab": {
      "name": "Untitled2.ipynb",
      "provenance": [],
      "collapsed_sections": [],
      "include_colab_link": true
    },
    "kernelspec": {
      "name": "python3",
      "display_name": "Python 3"
    },
    "language_info": {
      "name": "python"
    }
  },
  "cells": [
    {
      "cell_type": "markdown",
      "metadata": {
        "id": "view-in-github",
        "colab_type": "text"
      },
      "source": [
        "<a href=\"https://colab.research.google.com/github/robsonbrandao/artigos/blob/main/04%20-%20ProcessamentoLinguagemNatural/ProcessamentoLinguagemNatural%20network.ipynb\" target=\"_parent\"><img src=\"https://colab.research.google.com/assets/colab-badge.svg\" alt=\"Open In Colab\"/></a>"
      ]
    },
    {
      "cell_type": "markdown",
      "source": [
        "# **Processamento de Linguagem Natural**\n",
        "\n",
        "\n",
        "---\n",
        "\n"
      ],
      "metadata": {
        "id": "61OzP7BCycyd"
      }
    },
    {
      "cell_type": "markdown",
      "source": [
        "## **Instalando o pacote spacy e modelos de linguagem**"
      ],
      "metadata": {
        "id": "g-YpnIsy2w0V"
      }
    },
    {
      "cell_type": "code",
      "source": [
        "import spacy"
      ],
      "metadata": {
        "id": "qbhDyzDdzL6w"
      },
      "execution_count": 1,
      "outputs": []
    },
    {
      "cell_type": "markdown",
      "source": [
        "### Atualizando o spacy"
      ],
      "metadata": {
        "id": "xrjh4mFVzUZ0"
      }
    },
    {
      "cell_type": "code",
      "source": [
        "!pip install --upgrade spacy"
      ],
      "metadata": {
        "colab": {
          "base_uri": "https://localhost:8080/",
          "height": 1000
        },
        "id": "l-Us_5ISzRAA",
        "outputId": "ec0bed96-0430-42a3-e8da-4f2e2ea681a6"
      },
      "execution_count": 2,
      "outputs": [
        {
          "output_type": "stream",
          "name": "stdout",
          "text": [
            "Requirement already satisfied: spacy in /usr/local/lib/python3.7/dist-packages (2.2.4)\n",
            "Collecting spacy\n",
            "  Downloading spacy-3.2.3-cp37-cp37m-manylinux_2_17_x86_64.manylinux2014_x86_64.whl (6.0 MB)\n",
            "\u001b[K     |████████████████████████████████| 6.0 MB 5.0 MB/s \n",
            "\u001b[?25hRequirement already satisfied: murmurhash<1.1.0,>=0.28.0 in /usr/local/lib/python3.7/dist-packages (from spacy) (1.0.6)\n",
            "Collecting pathy>=0.3.5\n",
            "  Downloading pathy-0.6.1-py3-none-any.whl (42 kB)\n",
            "\u001b[K     |████████████████████████████████| 42 kB 1.3 MB/s \n",
            "\u001b[?25hRequirement already satisfied: requests<3.0.0,>=2.13.0 in /usr/local/lib/python3.7/dist-packages (from spacy) (2.23.0)\n",
            "Requirement already satisfied: numpy>=1.15.0 in /usr/local/lib/python3.7/dist-packages (from spacy) (1.21.5)\n",
            "Collecting srsly<3.0.0,>=2.4.1\n",
            "  Downloading srsly-2.4.2-cp37-cp37m-manylinux_2_17_x86_64.manylinux2014_x86_64.whl (451 kB)\n",
            "\u001b[K     |████████████████████████████████| 451 kB 38.0 MB/s \n",
            "\u001b[?25hCollecting spacy-loggers<2.0.0,>=1.0.0\n",
            "  Downloading spacy_loggers-1.0.1-py3-none-any.whl (7.0 kB)\n",
            "Requirement already satisfied: jinja2 in /usr/local/lib/python3.7/dist-packages (from spacy) (2.11.3)\n",
            "Requirement already satisfied: cymem<2.1.0,>=2.0.2 in /usr/local/lib/python3.7/dist-packages (from spacy) (2.0.6)\n",
            "Collecting spacy-legacy<3.1.0,>=3.0.8\n",
            "  Downloading spacy_legacy-3.0.9-py2.py3-none-any.whl (20 kB)\n",
            "Collecting pydantic!=1.8,!=1.8.1,<1.9.0,>=1.7.4\n",
            "  Downloading pydantic-1.8.2-cp37-cp37m-manylinux2014_x86_64.whl (10.1 MB)\n",
            "\u001b[K     |████████████████████████████████| 10.1 MB 29.5 MB/s \n",
            "\u001b[?25hRequirement already satisfied: wasabi<1.1.0,>=0.8.1 in /usr/local/lib/python3.7/dist-packages (from spacy) (0.9.0)\n",
            "Requirement already satisfied: packaging>=20.0 in /usr/local/lib/python3.7/dist-packages (from spacy) (21.3)\n",
            "Requirement already satisfied: blis<0.8.0,>=0.4.0 in /usr/local/lib/python3.7/dist-packages (from spacy) (0.4.1)\n",
            "Requirement already satisfied: typing-extensions<4.0.0.0,>=3.7.4 in /usr/local/lib/python3.7/dist-packages (from spacy) (3.10.0.2)\n",
            "Requirement already satisfied: setuptools in /usr/local/lib/python3.7/dist-packages (from spacy) (57.4.0)\n",
            "Collecting langcodes<4.0.0,>=3.2.0\n",
            "  Downloading langcodes-3.3.0-py3-none-any.whl (181 kB)\n",
            "\u001b[K     |████████████████████████████████| 181 kB 41.3 MB/s \n",
            "\u001b[?25hRequirement already satisfied: preshed<3.1.0,>=3.0.2 in /usr/local/lib/python3.7/dist-packages (from spacy) (3.0.6)\n",
            "Collecting thinc<8.1.0,>=8.0.12\n",
            "  Downloading thinc-8.0.15-cp37-cp37m-manylinux_2_17_x86_64.manylinux2014_x86_64.whl (653 kB)\n",
            "\u001b[K     |████████████████████████████████| 653 kB 34.7 MB/s \n",
            "\u001b[?25hCollecting typer<0.5.0,>=0.3.0\n",
            "  Downloading typer-0.4.0-py3-none-any.whl (27 kB)\n",
            "Requirement already satisfied: tqdm<5.0.0,>=4.38.0 in /usr/local/lib/python3.7/dist-packages (from spacy) (4.63.0)\n",
            "Collecting catalogue<2.1.0,>=2.0.6\n",
            "  Downloading catalogue-2.0.7-py3-none-any.whl (17 kB)\n",
            "Requirement already satisfied: zipp>=0.5 in /usr/local/lib/python3.7/dist-packages (from catalogue<2.1.0,>=2.0.6->spacy) (3.7.0)\n",
            "Requirement already satisfied: pyparsing!=3.0.5,>=2.0.2 in /usr/local/lib/python3.7/dist-packages (from packaging>=20.0->spacy) (3.0.7)\n",
            "Requirement already satisfied: smart-open<6.0.0,>=5.0.0 in /usr/local/lib/python3.7/dist-packages (from pathy>=0.3.5->spacy) (5.2.1)\n",
            "Requirement already satisfied: urllib3!=1.25.0,!=1.25.1,<1.26,>=1.21.1 in /usr/local/lib/python3.7/dist-packages (from requests<3.0.0,>=2.13.0->spacy) (1.24.3)\n",
            "Requirement already satisfied: certifi>=2017.4.17 in /usr/local/lib/python3.7/dist-packages (from requests<3.0.0,>=2.13.0->spacy) (2021.10.8)\n",
            "Requirement already satisfied: idna<3,>=2.5 in /usr/local/lib/python3.7/dist-packages (from requests<3.0.0,>=2.13.0->spacy) (2.10)\n",
            "Requirement already satisfied: chardet<4,>=3.0.2 in /usr/local/lib/python3.7/dist-packages (from requests<3.0.0,>=2.13.0->spacy) (3.0.4)\n",
            "Requirement already satisfied: click<9.0.0,>=7.1.1 in /usr/local/lib/python3.7/dist-packages (from typer<0.5.0,>=0.3.0->spacy) (7.1.2)\n",
            "Requirement already satisfied: MarkupSafe>=0.23 in /usr/local/lib/python3.7/dist-packages (from jinja2->spacy) (2.0.1)\n",
            "Installing collected packages: catalogue, typer, srsly, pydantic, thinc, spacy-loggers, spacy-legacy, pathy, langcodes, spacy\n",
            "  Attempting uninstall: catalogue\n",
            "    Found existing installation: catalogue 1.0.0\n",
            "    Uninstalling catalogue-1.0.0:\n",
            "      Successfully uninstalled catalogue-1.0.0\n",
            "  Attempting uninstall: srsly\n",
            "    Found existing installation: srsly 1.0.5\n",
            "    Uninstalling srsly-1.0.5:\n",
            "      Successfully uninstalled srsly-1.0.5\n",
            "  Attempting uninstall: thinc\n",
            "    Found existing installation: thinc 7.4.0\n",
            "    Uninstalling thinc-7.4.0:\n",
            "      Successfully uninstalled thinc-7.4.0\n",
            "  Attempting uninstall: spacy\n",
            "    Found existing installation: spacy 2.2.4\n",
            "    Uninstalling spacy-2.2.4:\n",
            "      Successfully uninstalled spacy-2.2.4\n",
            "Successfully installed catalogue-2.0.7 langcodes-3.3.0 pathy-0.6.1 pydantic-1.8.2 spacy-3.2.3 spacy-legacy-3.0.9 spacy-loggers-1.0.1 srsly-2.4.2 thinc-8.0.15 typer-0.4.0\n"
          ]
        },
        {
          "output_type": "display_data",
          "data": {
            "application/vnd.colab-display-data+json": {
              "pip_warning": {
                "packages": [
                  "catalogue",
                  "spacy",
                  "srsly",
                  "thinc"
                ]
              }
            }
          },
          "metadata": {}
        }
      ]
    },
    {
      "cell_type": "code",
      "source": [
        "# Chamar o spacy com a nova versão\n",
        "import spacy"
      ],
      "metadata": {
        "id": "wQ8aU9cuzf_I"
      },
      "execution_count": 1,
      "outputs": []
    },
    {
      "cell_type": "code",
      "source": [
        "!pip install -U spacy-lookups-data "
      ],
      "metadata": {
        "colab": {
          "base_uri": "https://localhost:8080/"
        },
        "id": "QgKR9ROYzsuy",
        "outputId": "17cf47f2-c68e-4f40-9fe0-df31ac5d94a7"
      },
      "execution_count": 2,
      "outputs": [
        {
          "output_type": "stream",
          "name": "stdout",
          "text": [
            "Collecting spacy-lookups-data\n",
            "  Downloading spacy_lookups_data-1.0.3-py2.py3-none-any.whl (98.5 MB)\n",
            "\u001b[K     |████████████████████████████████| 98.5 MB 113 kB/s \n",
            "\u001b[?25hRequirement already satisfied: setuptools in /usr/local/lib/python3.7/dist-packages (from spacy-lookups-data) (57.4.0)\n",
            "Installing collected packages: spacy-lookups-data\n",
            "Successfully installed spacy-lookups-data-1.0.3\n"
          ]
        }
      ]
    },
    {
      "cell_type": "markdown",
      "source": [
        "**Baixar os modelos de Linguagem**\n",
        "\n",
        "**pt_core_news_lg** é mais completo, porém mais lento\n",
        "\n",
        "**pt_core_news_st** é a outra opção"
      ],
      "metadata": {
        "id": "YfQdhzD30Cgi"
      }
    },
    {
      "cell_type": "code",
      "source": [
        "!python -m spacy download pt_core_news_lg"
      ],
      "metadata": {
        "colab": {
          "base_uri": "https://localhost:8080/"
        },
        "id": "fsfjCh38z6pM",
        "outputId": "32348b1f-d5ed-4431-8d76-51b72dff9869"
      },
      "execution_count": 3,
      "outputs": [
        {
          "output_type": "stream",
          "name": "stdout",
          "text": [
            "Collecting pt-core-news-lg==3.2.0\n",
            "  Downloading https://github.com/explosion/spacy-models/releases/download/pt_core_news_lg-3.2.0/pt_core_news_lg-3.2.0-py3-none-any.whl (577.4 MB)\n",
            "\u001b[K     |████████████████████████████████| 577.4 MB 5.5 kB/s \n",
            "\u001b[?25hRequirement already satisfied: spacy<3.3.0,>=3.2.0 in /usr/local/lib/python3.7/dist-packages (from pt-core-news-lg==3.2.0) (3.2.3)\n",
            "Requirement already satisfied: typing-extensions<4.0.0.0,>=3.7.4 in /usr/local/lib/python3.7/dist-packages (from spacy<3.3.0,>=3.2.0->pt-core-news-lg==3.2.0) (3.10.0.2)\n",
            "Requirement already satisfied: murmurhash<1.1.0,>=0.28.0 in /usr/local/lib/python3.7/dist-packages (from spacy<3.3.0,>=3.2.0->pt-core-news-lg==3.2.0) (1.0.6)\n",
            "Requirement already satisfied: spacy-loggers<2.0.0,>=1.0.0 in /usr/local/lib/python3.7/dist-packages (from spacy<3.3.0,>=3.2.0->pt-core-news-lg==3.2.0) (1.0.1)\n",
            "Requirement already satisfied: blis<0.8.0,>=0.4.0 in /usr/local/lib/python3.7/dist-packages (from spacy<3.3.0,>=3.2.0->pt-core-news-lg==3.2.0) (0.4.1)\n",
            "Requirement already satisfied: requests<3.0.0,>=2.13.0 in /usr/local/lib/python3.7/dist-packages (from spacy<3.3.0,>=3.2.0->pt-core-news-lg==3.2.0) (2.23.0)\n",
            "Requirement already satisfied: packaging>=20.0 in /usr/local/lib/python3.7/dist-packages (from spacy<3.3.0,>=3.2.0->pt-core-news-lg==3.2.0) (21.3)\n",
            "Requirement already satisfied: typer<0.5.0,>=0.3.0 in /usr/local/lib/python3.7/dist-packages (from spacy<3.3.0,>=3.2.0->pt-core-news-lg==3.2.0) (0.4.0)\n",
            "Requirement already satisfied: preshed<3.1.0,>=3.0.2 in /usr/local/lib/python3.7/dist-packages (from spacy<3.3.0,>=3.2.0->pt-core-news-lg==3.2.0) (3.0.6)\n",
            "Requirement already satisfied: thinc<8.1.0,>=8.0.12 in /usr/local/lib/python3.7/dist-packages (from spacy<3.3.0,>=3.2.0->pt-core-news-lg==3.2.0) (8.0.15)\n",
            "Requirement already satisfied: pathy>=0.3.5 in /usr/local/lib/python3.7/dist-packages (from spacy<3.3.0,>=3.2.0->pt-core-news-lg==3.2.0) (0.6.1)\n",
            "Requirement already satisfied: srsly<3.0.0,>=2.4.1 in /usr/local/lib/python3.7/dist-packages (from spacy<3.3.0,>=3.2.0->pt-core-news-lg==3.2.0) (2.4.2)\n",
            "Requirement already satisfied: spacy-legacy<3.1.0,>=3.0.8 in /usr/local/lib/python3.7/dist-packages (from spacy<3.3.0,>=3.2.0->pt-core-news-lg==3.2.0) (3.0.9)\n",
            "Requirement already satisfied: langcodes<4.0.0,>=3.2.0 in /usr/local/lib/python3.7/dist-packages (from spacy<3.3.0,>=3.2.0->pt-core-news-lg==3.2.0) (3.3.0)\n",
            "Requirement already satisfied: setuptools in /usr/local/lib/python3.7/dist-packages (from spacy<3.3.0,>=3.2.0->pt-core-news-lg==3.2.0) (57.4.0)\n",
            "Requirement already satisfied: numpy>=1.15.0 in /usr/local/lib/python3.7/dist-packages (from spacy<3.3.0,>=3.2.0->pt-core-news-lg==3.2.0) (1.21.5)\n",
            "Requirement already satisfied: cymem<2.1.0,>=2.0.2 in /usr/local/lib/python3.7/dist-packages (from spacy<3.3.0,>=3.2.0->pt-core-news-lg==3.2.0) (2.0.6)\n",
            "Requirement already satisfied: jinja2 in /usr/local/lib/python3.7/dist-packages (from spacy<3.3.0,>=3.2.0->pt-core-news-lg==3.2.0) (2.11.3)\n",
            "Requirement already satisfied: pydantic!=1.8,!=1.8.1,<1.9.0,>=1.7.4 in /usr/local/lib/python3.7/dist-packages (from spacy<3.3.0,>=3.2.0->pt-core-news-lg==3.2.0) (1.8.2)\n",
            "Requirement already satisfied: tqdm<5.0.0,>=4.38.0 in /usr/local/lib/python3.7/dist-packages (from spacy<3.3.0,>=3.2.0->pt-core-news-lg==3.2.0) (4.63.0)\n",
            "Requirement already satisfied: catalogue<2.1.0,>=2.0.6 in /usr/local/lib/python3.7/dist-packages (from spacy<3.3.0,>=3.2.0->pt-core-news-lg==3.2.0) (2.0.7)\n",
            "Requirement already satisfied: wasabi<1.1.0,>=0.8.1 in /usr/local/lib/python3.7/dist-packages (from spacy<3.3.0,>=3.2.0->pt-core-news-lg==3.2.0) (0.9.0)\n",
            "Requirement already satisfied: zipp>=0.5 in /usr/local/lib/python3.7/dist-packages (from catalogue<2.1.0,>=2.0.6->spacy<3.3.0,>=3.2.0->pt-core-news-lg==3.2.0) (3.7.0)\n",
            "Requirement already satisfied: pyparsing!=3.0.5,>=2.0.2 in /usr/local/lib/python3.7/dist-packages (from packaging>=20.0->spacy<3.3.0,>=3.2.0->pt-core-news-lg==3.2.0) (3.0.7)\n",
            "Requirement already satisfied: smart-open<6.0.0,>=5.0.0 in /usr/local/lib/python3.7/dist-packages (from pathy>=0.3.5->spacy<3.3.0,>=3.2.0->pt-core-news-lg==3.2.0) (5.2.1)\n",
            "Requirement already satisfied: idna<3,>=2.5 in /usr/local/lib/python3.7/dist-packages (from requests<3.0.0,>=2.13.0->spacy<3.3.0,>=3.2.0->pt-core-news-lg==3.2.0) (2.10)\n",
            "Requirement already satisfied: certifi>=2017.4.17 in /usr/local/lib/python3.7/dist-packages (from requests<3.0.0,>=2.13.0->spacy<3.3.0,>=3.2.0->pt-core-news-lg==3.2.0) (2021.10.8)\n",
            "Requirement already satisfied: chardet<4,>=3.0.2 in /usr/local/lib/python3.7/dist-packages (from requests<3.0.0,>=2.13.0->spacy<3.3.0,>=3.2.0->pt-core-news-lg==3.2.0) (3.0.4)\n",
            "Requirement already satisfied: urllib3!=1.25.0,!=1.25.1,<1.26,>=1.21.1 in /usr/local/lib/python3.7/dist-packages (from requests<3.0.0,>=2.13.0->spacy<3.3.0,>=3.2.0->pt-core-news-lg==3.2.0) (1.24.3)\n",
            "Requirement already satisfied: click<9.0.0,>=7.1.1 in /usr/local/lib/python3.7/dist-packages (from typer<0.5.0,>=0.3.0->spacy<3.3.0,>=3.2.0->pt-core-news-lg==3.2.0) (7.1.2)\n",
            "Requirement already satisfied: MarkupSafe>=0.23 in /usr/local/lib/python3.7/dist-packages (from jinja2->spacy<3.3.0,>=3.2.0->pt-core-news-lg==3.2.0) (2.0.1)\n",
            "Installing collected packages: pt-core-news-lg\n",
            "Successfully installed pt-core-news-lg-3.2.0\n",
            "\u001b[38;5;2m✔ Download and installation successful\u001b[0m\n",
            "You can now load the package via spacy.load('pt_core_news_lg')\n"
          ]
        }
      ]
    },
    {
      "cell_type": "markdown",
      "source": [
        "**Trabalhar com o primeiro texto**"
      ],
      "metadata": {
        "id": "zje_ozYi1jgP"
      }
    },
    {
      "cell_type": "code",
      "source": [
        "texto = \"O presente trabalho teve como objetivo caracterizar morfometrica, morfologica e estereologicamente as possiveis alteracoes presentes no epitelio da mucosa lingual, nas glandulas salivares de weber e de von ebner, na lamina propria e no tecido muscular estriado, determinadas pelo envelhecimento. Para tanto, foram utilizados 14 ratos machos, dos quais 7 apresentavam idades de 4 e 7 meses (adultos) e outros 7, idades de 20 e 29 meses (senis). Os resultados obtidos neste trabalho sugerem a possibilidade de o envelhecimento atuar: 1- no epitelio de revestimento da lingua de maneira diferente em cada regiao, provocando diminuicao da densidade numerica celular com aumento do volume citoplasmatico na regiao dorsal anterior, alem de diminuicao da espessura total do epitelio das regioes dorsal anterior e ventral, e na espessura da camada de ceratina com diminuicao na regiao ventral. 2- nas papilas filiformes provocando alteracao no volume relativo da camada de ceratina nas glandulas linguais. 3- provocando atrofia do parenquima acinar e concomitantemente aumento do tecido conjuntivo inter-acinar na glandula de von ebner, alem de diminuicao na espessura da parede ductular da glandula de weber. 4- nas fibras musculares provocando hipertrofia generalizada\""
      ],
      "metadata": {
        "id": "-nG3P1Eo1hcn"
      },
      "execution_count": 4,
      "outputs": []
    },
    {
      "cell_type": "code",
      "source": [
        "from google.colab import drive\n",
        "drive.mount('/content/drive')"
      ],
      "metadata": {
        "id": "FvzasZRjn22O"
      },
      "execution_count": null,
      "outputs": []
    },
    {
      "cell_type": "code",
      "source": [
        "# Carregar o modelo de linguagem\n",
        "\n",
        "nlp = spacy.load('pt_core_news_lg')\n",
        "doc = nlp(texto)"
      ],
      "metadata": {
        "id": "JMorzTK-2QQn"
      },
      "execution_count": 5,
      "outputs": []
    },
    {
      "cell_type": "markdown",
      "source": [
        "## **Arquivos, segmentação, tokenização e lematização**"
      ],
      "metadata": {
        "id": "kbITvoHD3PDp"
      }
    },
    {
      "cell_type": "code",
      "source": [
        "arquivo1 = open('texto2.txt','r')\n",
        "conteudo = arquivo1.read()\n",
        "conteudo"
      ],
      "metadata": {
        "colab": {
          "base_uri": "https://localhost:8080/",
          "height": 104
        },
        "id": "Mb9ecdSq2pjL",
        "outputId": "d5a34874-009e-4f7a-caad-d06f29d96286"
      },
      "execution_count": 27,
      "outputs": [
        {
          "output_type": "execute_result",
          "data": {
            "text/plain": [
              "'Existe a hipotese que a lesao tecidual observada na doenca de chagas cronica possa ser resultado de um mecanismo autoimune. Soros de 102 pacientes com doenca de chagas cronica foram estudados. Somente 4 soros apresentaram fluorescencia positiva na celula hep 2. Todos os soros foram negativos por contraimunoeletroforese e tambem para o anticorpos anti-dna nativo. Observamos uma reatividade fraca e heterogenea para o extrato total de celula hela em 31% dos soros. Identificamos ainda, anticorpos dirigidos contra uma proteina ribossomal de 23kd em aproximadamente 1/3 dos soros de chagas. A natureza autoimune deste anticorpo foi confirmada utilizando ribossoma de celula hela como antigeno. Em constraste, nenhuma autorreatividade foi detectada para as proteinas ribossomais p0, p1 e p2. Esses dados confirmam a existencia de autoimunidade na doenca de chagas. A resposta imune seletiva para uma proteina ribossomal que reage cruzadamente com antigeno do parasita sugere que os autoanticorpos nao sao resultado de uma ativacao policlonal ao acaso e foram provavelmente induzidos por mimetismo molecular\\n\\n'"
            ],
            "application/vnd.google.colaboratory.intrinsic+json": {
              "type": "string"
            }
          },
          "metadata": {},
          "execution_count": 27
        }
      ]
    },
    {
      "cell_type": "code",
      "source": [
        "nlp = spacy.load('pt_core_news_lg')\n",
        "doc = nlp(conteudo)"
      ],
      "metadata": {
        "id": "xaZf5vzQ9KMZ"
      },
      "execution_count": 28,
      "outputs": []
    },
    {
      "cell_type": "markdown",
      "source": [
        "**Segmentação**\n",
        "\n",
        "Separar o texto conforme um separador indicado"
      ],
      "metadata": {
        "id": "MZ4mi4Ag-pki"
      }
    },
    {
      "cell_type": "code",
      "source": [
        "sentencas = conteudo.split(\".\")\n",
        "sentencas"
      ],
      "metadata": {
        "colab": {
          "base_uri": "https://localhost:8080/"
        },
        "id": "JjOPoes2-llR",
        "outputId": "78476983-b191-4003-9a77-a59151ebb502"
      },
      "execution_count": 29,
      "outputs": [
        {
          "output_type": "execute_result",
          "data": {
            "text/plain": [
              "['Existe a hipotese que a lesao tecidual observada na doenca de chagas cronica possa ser resultado de um mecanismo autoimune',\n",
              " ' Soros de 102 pacientes com doenca de chagas cronica foram estudados',\n",
              " ' Somente 4 soros apresentaram fluorescencia positiva na celula hep 2',\n",
              " ' Todos os soros foram negativos por contraimunoeletroforese e tambem para o anticorpos anti-dna nativo',\n",
              " ' Observamos uma reatividade fraca e heterogenea para o extrato total de celula hela em 31% dos soros',\n",
              " ' Identificamos ainda, anticorpos dirigidos contra uma proteina ribossomal de 23kd em aproximadamente 1/3 dos soros de chagas',\n",
              " ' A natureza autoimune deste anticorpo foi confirmada utilizando ribossoma de celula hela como antigeno',\n",
              " ' Em constraste, nenhuma autorreatividade foi detectada para as proteinas ribossomais p0, p1 e p2',\n",
              " ' Esses dados confirmam a existencia de autoimunidade na doenca de chagas',\n",
              " ' A resposta imune seletiva para uma proteina ribossomal que reage cruzadamente com antigeno do parasita sugere que os autoanticorpos nao sao resultado de uma ativacao policlonal ao acaso e foram provavelmente induzidos por mimetismo molecular\\n\\n']"
            ]
          },
          "metadata": {},
          "execution_count": 29
        }
      ]
    },
    {
      "cell_type": "code",
      "source": [
        "#Quantas sentenças ?\n",
        "num_sentencas = len(sentencas)\n",
        "num_sentencas"
      ],
      "metadata": {
        "colab": {
          "base_uri": "https://localhost:8080/"
        },
        "id": "6Iy0meeZ-64D",
        "outputId": "cec3ee11-e721-42cc-a07e-ad926172d02a"
      },
      "execution_count": 30,
      "outputs": [
        {
          "output_type": "execute_result",
          "data": {
            "text/plain": [
              "10"
            ]
          },
          "metadata": {},
          "execution_count": 30
        }
      ]
    },
    {
      "cell_type": "markdown",
      "source": [
        "**Tokenização**\n",
        "\n",
        "Separar o textos em unidades"
      ],
      "metadata": {
        "id": "SLPS8MyK_i1x"
      }
    },
    {
      "cell_type": "code",
      "source": [
        "#.orth_ tokens strings\n",
        "tokens = [token.orth_ for token in doc]\n",
        "tokens"
      ],
      "metadata": {
        "colab": {
          "base_uri": "https://localhost:8080/"
        },
        "id": "PQg-YrqT_cWU",
        "outputId": "a7185318-9d6b-432b-96b7-cbc10695f817"
      },
      "execution_count": 31,
      "outputs": [
        {
          "output_type": "execute_result",
          "data": {
            "text/plain": [
              "['Existe',\n",
              " 'a',\n",
              " 'hipotese',\n",
              " 'que',\n",
              " 'a',\n",
              " 'lesao',\n",
              " 'tecidual',\n",
              " 'observada',\n",
              " 'na',\n",
              " 'doenca',\n",
              " 'de',\n",
              " 'chagas',\n",
              " 'cronica',\n",
              " 'possa',\n",
              " 'ser',\n",
              " 'resultado',\n",
              " 'de',\n",
              " 'um',\n",
              " 'mecanismo',\n",
              " 'autoimune',\n",
              " '.',\n",
              " 'Soros',\n",
              " 'de',\n",
              " '102',\n",
              " 'pacientes',\n",
              " 'com',\n",
              " 'doenca',\n",
              " 'de',\n",
              " 'chagas',\n",
              " 'cronica',\n",
              " 'foram',\n",
              " 'estudados',\n",
              " '.',\n",
              " 'Somente',\n",
              " '4',\n",
              " 'soros',\n",
              " 'apresentaram',\n",
              " 'fluorescencia',\n",
              " 'positiva',\n",
              " 'na',\n",
              " 'celula',\n",
              " 'hep',\n",
              " '2',\n",
              " '.',\n",
              " 'Todos',\n",
              " 'os',\n",
              " 'soros',\n",
              " 'foram',\n",
              " 'negativos',\n",
              " 'por',\n",
              " 'contraimunoeletroforese',\n",
              " 'e',\n",
              " 'tambem',\n",
              " 'para',\n",
              " 'o',\n",
              " 'anticorpos',\n",
              " 'anti-dna',\n",
              " 'nativo',\n",
              " '.',\n",
              " 'Observamos',\n",
              " 'uma',\n",
              " 'reatividade',\n",
              " 'fraca',\n",
              " 'e',\n",
              " 'heterogenea',\n",
              " 'para',\n",
              " 'o',\n",
              " 'extrato',\n",
              " 'total',\n",
              " 'de',\n",
              " 'celula',\n",
              " 'hela',\n",
              " 'em',\n",
              " '31',\n",
              " '%',\n",
              " 'dos',\n",
              " 'soros',\n",
              " '.',\n",
              " 'Identificamos',\n",
              " 'ainda',\n",
              " ',',\n",
              " 'anticorpos',\n",
              " 'dirigidos',\n",
              " 'contra',\n",
              " 'uma',\n",
              " 'proteina',\n",
              " 'ribossomal',\n",
              " 'de',\n",
              " '23kd',\n",
              " 'em',\n",
              " 'aproximadamente',\n",
              " '1/3',\n",
              " 'dos',\n",
              " 'soros',\n",
              " 'de',\n",
              " 'chagas',\n",
              " '.',\n",
              " 'A',\n",
              " 'natureza',\n",
              " 'autoimune',\n",
              " 'deste',\n",
              " 'anticorpo',\n",
              " 'foi',\n",
              " 'confirmada',\n",
              " 'utilizando',\n",
              " 'ribossoma',\n",
              " 'de',\n",
              " 'celula',\n",
              " 'hela',\n",
              " 'como',\n",
              " 'antigeno',\n",
              " '.',\n",
              " 'Em',\n",
              " 'constraste',\n",
              " ',',\n",
              " 'nenhuma',\n",
              " 'autorreatividade',\n",
              " 'foi',\n",
              " 'detectada',\n",
              " 'para',\n",
              " 'as',\n",
              " 'proteinas',\n",
              " 'ribossomais',\n",
              " 'p0',\n",
              " ',',\n",
              " 'p1',\n",
              " 'e',\n",
              " 'p2',\n",
              " '.',\n",
              " 'Esses',\n",
              " 'dados',\n",
              " 'confirmam',\n",
              " 'a',\n",
              " 'existencia',\n",
              " 'de',\n",
              " 'autoimunidade',\n",
              " 'na',\n",
              " 'doenca',\n",
              " 'de',\n",
              " 'chagas',\n",
              " '.',\n",
              " 'A',\n",
              " 'resposta',\n",
              " 'imune',\n",
              " 'seletiva',\n",
              " 'para',\n",
              " 'uma',\n",
              " 'proteina',\n",
              " 'ribossomal',\n",
              " 'que',\n",
              " 'reage',\n",
              " 'cruzadamente',\n",
              " 'com',\n",
              " 'antigeno',\n",
              " 'do',\n",
              " 'parasita',\n",
              " 'sugere',\n",
              " 'que',\n",
              " 'os',\n",
              " 'autoanticorpos',\n",
              " 'nao',\n",
              " 'sao',\n",
              " 'resultado',\n",
              " 'de',\n",
              " 'uma',\n",
              " 'ativacao',\n",
              " 'policlonal',\n",
              " 'ao',\n",
              " 'acaso',\n",
              " 'e',\n",
              " 'foram',\n",
              " 'provavelmente',\n",
              " 'induzidos',\n",
              " 'por',\n",
              " 'mimetismo',\n",
              " 'molecular',\n",
              " '\\n\\n']"
            ]
          },
          "metadata": {},
          "execution_count": 31
        }
      ]
    },
    {
      "cell_type": "markdown",
      "source": [
        "**Lematização**\n",
        "\n",
        "Forma básica da palavra. Sem conjugação"
      ],
      "metadata": {
        "id": "3RR2ORbLANBe"
      }
    },
    {
      "cell_type": "code",
      "source": [
        "lemas = [token.lemma_ for token in doc]\n",
        "lemas "
      ],
      "metadata": {
        "colab": {
          "base_uri": "https://localhost:8080/"
        },
        "id": "RB4nVpD-AI_i",
        "outputId": "25f4ce5c-b18b-4312-8855-a167197a776f"
      },
      "execution_count": 32,
      "outputs": [
        {
          "output_type": "execute_result",
          "data": {
            "text/plain": [
              "['Existe',\n",
              " 'o',\n",
              " 'hipotese',\n",
              " 'que',\n",
              " 'o',\n",
              " 'lesao',\n",
              " 'tecidual',\n",
              " 'observar',\n",
              " 'o',\n",
              " 'doenca',\n",
              " 'de',\n",
              " 'chagar',\n",
              " 'cronicar',\n",
              " 'poder',\n",
              " 'ser',\n",
              " 'resultar',\n",
              " 'de',\n",
              " 'um',\n",
              " 'mecanismo',\n",
              " 'autoimune',\n",
              " '.',\n",
              " 'Soros',\n",
              " 'de',\n",
              " '102',\n",
              " 'paciente',\n",
              " 'com',\n",
              " 'doenca',\n",
              " 'de',\n",
              " 'chagar',\n",
              " 'cronicar',\n",
              " 'ser',\n",
              " 'estudar',\n",
              " '.',\n",
              " 'Somente',\n",
              " '4',\n",
              " 'soro',\n",
              " 'apresentar',\n",
              " 'fluorescencia',\n",
              " 'positivo',\n",
              " 'o',\n",
              " 'celula',\n",
              " 'hep',\n",
              " '2',\n",
              " '.',\n",
              " 'Todos',\n",
              " 'o',\n",
              " 'soro',\n",
              " 'ser',\n",
              " 'negativo',\n",
              " 'por',\n",
              " 'contraimunoeletroforese',\n",
              " 'e',\n",
              " 'tambem',\n",
              " 'parir',\n",
              " 'o',\n",
              " 'anticorpo',\n",
              " 'anti-dna',\n",
              " 'nativo',\n",
              " '.',\n",
              " 'Observamos',\n",
              " 'umar',\n",
              " 'reatividade',\n",
              " 'fraco',\n",
              " 'e',\n",
              " 'heterogenea',\n",
              " 'parir',\n",
              " 'o',\n",
              " 'extrato',\n",
              " 'total',\n",
              " 'de',\n",
              " 'celula',\n",
              " 'hela',\n",
              " 'em',\n",
              " '31',\n",
              " '%',\n",
              " 'dos',\n",
              " 'soro',\n",
              " '.',\n",
              " 'Identificamos',\n",
              " 'ainda',\n",
              " ',',\n",
              " 'anticorpo',\n",
              " 'dirigir',\n",
              " 'contra',\n",
              " 'umar',\n",
              " 'proteina',\n",
              " 'ribossomal',\n",
              " 'de',\n",
              " '23kd',\n",
              " 'em',\n",
              " 'aproximadamente',\n",
              " '1/3',\n",
              " 'dos',\n",
              " 'soro',\n",
              " 'de',\n",
              " 'chagar',\n",
              " '.',\n",
              " 'A',\n",
              " 'natureza',\n",
              " 'autoimune',\n",
              " 'dar',\n",
              " 'anticorpo',\n",
              " 'ser',\n",
              " 'confirmar',\n",
              " 'utilizar',\n",
              " 'ribossoma',\n",
              " 'de',\n",
              " 'celula',\n",
              " 'hela',\n",
              " 'comer',\n",
              " 'antigeno',\n",
              " '.',\n",
              " 'Em',\n",
              " 'constraste',\n",
              " ',',\n",
              " 'nenhum',\n",
              " 'autorreatividade',\n",
              " 'ser',\n",
              " 'detectar',\n",
              " 'parir',\n",
              " 'o',\n",
              " 'proteinas',\n",
              " 'ribossomais',\n",
              " 'p0',\n",
              " ',',\n",
              " 'p1',\n",
              " 'e',\n",
              " 'p2',\n",
              " '.',\n",
              " 'Esses',\n",
              " 'dar',\n",
              " 'confirmar',\n",
              " 'o',\n",
              " 'existencia',\n",
              " 'de',\n",
              " 'autoimunidade',\n",
              " 'o',\n",
              " 'doenca',\n",
              " 'de',\n",
              " 'chagar',\n",
              " '.',\n",
              " 'A',\n",
              " 'respostar',\n",
              " 'imune',\n",
              " 'seletiva',\n",
              " 'parir',\n",
              " 'umar',\n",
              " 'proteina',\n",
              " 'ribossomal',\n",
              " 'que',\n",
              " 'reagir',\n",
              " 'cruzadamente',\n",
              " 'com',\n",
              " 'antigeno',\n",
              " 'do',\n",
              " 'parasito',\n",
              " 'sugerir',\n",
              " 'que',\n",
              " 'o',\n",
              " 'autoanticorpos',\n",
              " 'nao',\n",
              " 'sao',\n",
              " 'resultar',\n",
              " 'de',\n",
              " 'umar',\n",
              " 'ativacao',\n",
              " 'policlonal',\n",
              " 'ao',\n",
              " 'acaso',\n",
              " 'e',\n",
              " 'ser',\n",
              " 'provavelmente',\n",
              " 'induzir',\n",
              " 'por',\n",
              " 'mimetismo',\n",
              " 'molecular',\n",
              " '\\n\\n']"
            ]
          },
          "metadata": {},
          "execution_count": 32
        }
      ]
    },
    {
      "cell_type": "markdown",
      "source": [
        "### **Frequencia, Lei de Zipf e TTR**"
      ],
      "metadata": {
        "id": "Cjf8vRAhBH4E"
      }
    },
    {
      "cell_type": "code",
      "source": [
        "tokens = [token.orth_ for token in doc]\n",
        "tokens\n",
        "\n",
        "# Contagem de tokens.\n",
        "# Ex: artigos \n"
      ],
      "metadata": {
        "colab": {
          "base_uri": "https://localhost:8080/"
        },
        "id": "SnZJDN1fAgqD",
        "outputId": "7ab0679e-230c-41bd-93b1-4de527da636b"
      },
      "execution_count": 33,
      "outputs": [
        {
          "output_type": "execute_result",
          "data": {
            "text/plain": [
              "['Existe',\n",
              " 'a',\n",
              " 'hipotese',\n",
              " 'que',\n",
              " 'a',\n",
              " 'lesao',\n",
              " 'tecidual',\n",
              " 'observada',\n",
              " 'na',\n",
              " 'doenca',\n",
              " 'de',\n",
              " 'chagas',\n",
              " 'cronica',\n",
              " 'possa',\n",
              " 'ser',\n",
              " 'resultado',\n",
              " 'de',\n",
              " 'um',\n",
              " 'mecanismo',\n",
              " 'autoimune',\n",
              " '.',\n",
              " 'Soros',\n",
              " 'de',\n",
              " '102',\n",
              " 'pacientes',\n",
              " 'com',\n",
              " 'doenca',\n",
              " 'de',\n",
              " 'chagas',\n",
              " 'cronica',\n",
              " 'foram',\n",
              " 'estudados',\n",
              " '.',\n",
              " 'Somente',\n",
              " '4',\n",
              " 'soros',\n",
              " 'apresentaram',\n",
              " 'fluorescencia',\n",
              " 'positiva',\n",
              " 'na',\n",
              " 'celula',\n",
              " 'hep',\n",
              " '2',\n",
              " '.',\n",
              " 'Todos',\n",
              " 'os',\n",
              " 'soros',\n",
              " 'foram',\n",
              " 'negativos',\n",
              " 'por',\n",
              " 'contraimunoeletroforese',\n",
              " 'e',\n",
              " 'tambem',\n",
              " 'para',\n",
              " 'o',\n",
              " 'anticorpos',\n",
              " 'anti-dna',\n",
              " 'nativo',\n",
              " '.',\n",
              " 'Observamos',\n",
              " 'uma',\n",
              " 'reatividade',\n",
              " 'fraca',\n",
              " 'e',\n",
              " 'heterogenea',\n",
              " 'para',\n",
              " 'o',\n",
              " 'extrato',\n",
              " 'total',\n",
              " 'de',\n",
              " 'celula',\n",
              " 'hela',\n",
              " 'em',\n",
              " '31',\n",
              " '%',\n",
              " 'dos',\n",
              " 'soros',\n",
              " '.',\n",
              " 'Identificamos',\n",
              " 'ainda',\n",
              " ',',\n",
              " 'anticorpos',\n",
              " 'dirigidos',\n",
              " 'contra',\n",
              " 'uma',\n",
              " 'proteina',\n",
              " 'ribossomal',\n",
              " 'de',\n",
              " '23kd',\n",
              " 'em',\n",
              " 'aproximadamente',\n",
              " '1/3',\n",
              " 'dos',\n",
              " 'soros',\n",
              " 'de',\n",
              " 'chagas',\n",
              " '.',\n",
              " 'A',\n",
              " 'natureza',\n",
              " 'autoimune',\n",
              " 'deste',\n",
              " 'anticorpo',\n",
              " 'foi',\n",
              " 'confirmada',\n",
              " 'utilizando',\n",
              " 'ribossoma',\n",
              " 'de',\n",
              " 'celula',\n",
              " 'hela',\n",
              " 'como',\n",
              " 'antigeno',\n",
              " '.',\n",
              " 'Em',\n",
              " 'constraste',\n",
              " ',',\n",
              " 'nenhuma',\n",
              " 'autorreatividade',\n",
              " 'foi',\n",
              " 'detectada',\n",
              " 'para',\n",
              " 'as',\n",
              " 'proteinas',\n",
              " 'ribossomais',\n",
              " 'p0',\n",
              " ',',\n",
              " 'p1',\n",
              " 'e',\n",
              " 'p2',\n",
              " '.',\n",
              " 'Esses',\n",
              " 'dados',\n",
              " 'confirmam',\n",
              " 'a',\n",
              " 'existencia',\n",
              " 'de',\n",
              " 'autoimunidade',\n",
              " 'na',\n",
              " 'doenca',\n",
              " 'de',\n",
              " 'chagas',\n",
              " '.',\n",
              " 'A',\n",
              " 'resposta',\n",
              " 'imune',\n",
              " 'seletiva',\n",
              " 'para',\n",
              " 'uma',\n",
              " 'proteina',\n",
              " 'ribossomal',\n",
              " 'que',\n",
              " 'reage',\n",
              " 'cruzadamente',\n",
              " 'com',\n",
              " 'antigeno',\n",
              " 'do',\n",
              " 'parasita',\n",
              " 'sugere',\n",
              " 'que',\n",
              " 'os',\n",
              " 'autoanticorpos',\n",
              " 'nao',\n",
              " 'sao',\n",
              " 'resultado',\n",
              " 'de',\n",
              " 'uma',\n",
              " 'ativacao',\n",
              " 'policlonal',\n",
              " 'ao',\n",
              " 'acaso',\n",
              " 'e',\n",
              " 'foram',\n",
              " 'provavelmente',\n",
              " 'induzidos',\n",
              " 'por',\n",
              " 'mimetismo',\n",
              " 'molecular',\n",
              " '\\n\\n']"
            ]
          },
          "metadata": {},
          "execution_count": 33
        }
      ]
    },
    {
      "cell_type": "code",
      "source": [
        "from collections import Counter\n",
        "\n",
        "# Saber quantos Tokens (palavras)\n",
        "Counter(tokens)"
      ],
      "metadata": {
        "colab": {
          "base_uri": "https://localhost:8080/"
        },
        "id": "aAcmSYWGBnQv",
        "outputId": "9cda52ef-ad38-4b86-c57b-b1503abb9327"
      },
      "execution_count": 34,
      "outputs": [
        {
          "output_type": "execute_result",
          "data": {
            "text/plain": [
              "Counter({'\\n\\n': 1,\n",
              "         '%': 1,\n",
              "         ',': 3,\n",
              "         '.': 9,\n",
              "         '1/3': 1,\n",
              "         '102': 1,\n",
              "         '2': 1,\n",
              "         '23kd': 1,\n",
              "         '31': 1,\n",
              "         '4': 1,\n",
              "         'A': 2,\n",
              "         'Em': 1,\n",
              "         'Esses': 1,\n",
              "         'Existe': 1,\n",
              "         'Identificamos': 1,\n",
              "         'Observamos': 1,\n",
              "         'Somente': 1,\n",
              "         'Soros': 1,\n",
              "         'Todos': 1,\n",
              "         'a': 3,\n",
              "         'acaso': 1,\n",
              "         'ainda': 1,\n",
              "         'anti-dna': 1,\n",
              "         'anticorpo': 1,\n",
              "         'anticorpos': 2,\n",
              "         'antigeno': 2,\n",
              "         'ao': 1,\n",
              "         'apresentaram': 1,\n",
              "         'aproximadamente': 1,\n",
              "         'as': 1,\n",
              "         'ativacao': 1,\n",
              "         'autoanticorpos': 1,\n",
              "         'autoimune': 2,\n",
              "         'autoimunidade': 1,\n",
              "         'autorreatividade': 1,\n",
              "         'celula': 3,\n",
              "         'chagas': 4,\n",
              "         'com': 2,\n",
              "         'como': 1,\n",
              "         'confirmada': 1,\n",
              "         'confirmam': 1,\n",
              "         'constraste': 1,\n",
              "         'contra': 1,\n",
              "         'contraimunoeletroforese': 1,\n",
              "         'cronica': 2,\n",
              "         'cruzadamente': 1,\n",
              "         'dados': 1,\n",
              "         'de': 11,\n",
              "         'deste': 1,\n",
              "         'detectada': 1,\n",
              "         'dirigidos': 1,\n",
              "         'do': 1,\n",
              "         'doenca': 3,\n",
              "         'dos': 2,\n",
              "         'e': 4,\n",
              "         'em': 2,\n",
              "         'estudados': 1,\n",
              "         'existencia': 1,\n",
              "         'extrato': 1,\n",
              "         'fluorescencia': 1,\n",
              "         'foi': 2,\n",
              "         'foram': 3,\n",
              "         'fraca': 1,\n",
              "         'hela': 2,\n",
              "         'hep': 1,\n",
              "         'heterogenea': 1,\n",
              "         'hipotese': 1,\n",
              "         'imune': 1,\n",
              "         'induzidos': 1,\n",
              "         'lesao': 1,\n",
              "         'mecanismo': 1,\n",
              "         'mimetismo': 1,\n",
              "         'molecular': 1,\n",
              "         'na': 3,\n",
              "         'nao': 1,\n",
              "         'nativo': 1,\n",
              "         'natureza': 1,\n",
              "         'negativos': 1,\n",
              "         'nenhuma': 1,\n",
              "         'o': 2,\n",
              "         'observada': 1,\n",
              "         'os': 2,\n",
              "         'p0': 1,\n",
              "         'p1': 1,\n",
              "         'p2': 1,\n",
              "         'pacientes': 1,\n",
              "         'para': 4,\n",
              "         'parasita': 1,\n",
              "         'policlonal': 1,\n",
              "         'por': 2,\n",
              "         'positiva': 1,\n",
              "         'possa': 1,\n",
              "         'proteina': 2,\n",
              "         'proteinas': 1,\n",
              "         'provavelmente': 1,\n",
              "         'que': 3,\n",
              "         'reage': 1,\n",
              "         'reatividade': 1,\n",
              "         'resposta': 1,\n",
              "         'resultado': 2,\n",
              "         'ribossoma': 1,\n",
              "         'ribossomais': 1,\n",
              "         'ribossomal': 2,\n",
              "         'sao': 1,\n",
              "         'seletiva': 1,\n",
              "         'ser': 1,\n",
              "         'soros': 4,\n",
              "         'sugere': 1,\n",
              "         'tambem': 1,\n",
              "         'tecidual': 1,\n",
              "         'total': 1,\n",
              "         'um': 1,\n",
              "         'uma': 4,\n",
              "         'utilizando': 1})"
            ]
          },
          "metadata": {},
          "execution_count": 34
        }
      ]
    },
    {
      "cell_type": "code",
      "source": [
        "#Ordem decrescente dos tokens\n",
        "\n",
        "#Tem diferença de CASE\n",
        "\n",
        "Counter(tokens).most_common()"
      ],
      "metadata": {
        "colab": {
          "base_uri": "https://localhost:8080/"
        },
        "id": "kKidXPqcBrIF",
        "outputId": "7ec67438-e472-4d5c-b8c6-ab8410e938dc"
      },
      "execution_count": 35,
      "outputs": [
        {
          "output_type": "execute_result",
          "data": {
            "text/plain": [
              "[('de', 11),\n",
              " ('.', 9),\n",
              " ('chagas', 4),\n",
              " ('soros', 4),\n",
              " ('e', 4),\n",
              " ('para', 4),\n",
              " ('uma', 4),\n",
              " ('a', 3),\n",
              " ('que', 3),\n",
              " ('na', 3),\n",
              " ('doenca', 3),\n",
              " ('foram', 3),\n",
              " ('celula', 3),\n",
              " (',', 3),\n",
              " ('cronica', 2),\n",
              " ('resultado', 2),\n",
              " ('autoimune', 2),\n",
              " ('com', 2),\n",
              " ('os', 2),\n",
              " ('por', 2),\n",
              " ('o', 2),\n",
              " ('anticorpos', 2),\n",
              " ('hela', 2),\n",
              " ('em', 2),\n",
              " ('dos', 2),\n",
              " ('proteina', 2),\n",
              " ('ribossomal', 2),\n",
              " ('A', 2),\n",
              " ('foi', 2),\n",
              " ('antigeno', 2),\n",
              " ('Existe', 1),\n",
              " ('hipotese', 1),\n",
              " ('lesao', 1),\n",
              " ('tecidual', 1),\n",
              " ('observada', 1),\n",
              " ('possa', 1),\n",
              " ('ser', 1),\n",
              " ('um', 1),\n",
              " ('mecanismo', 1),\n",
              " ('Soros', 1),\n",
              " ('102', 1),\n",
              " ('pacientes', 1),\n",
              " ('estudados', 1),\n",
              " ('Somente', 1),\n",
              " ('4', 1),\n",
              " ('apresentaram', 1),\n",
              " ('fluorescencia', 1),\n",
              " ('positiva', 1),\n",
              " ('hep', 1),\n",
              " ('2', 1),\n",
              " ('Todos', 1),\n",
              " ('negativos', 1),\n",
              " ('contraimunoeletroforese', 1),\n",
              " ('tambem', 1),\n",
              " ('anti-dna', 1),\n",
              " ('nativo', 1),\n",
              " ('Observamos', 1),\n",
              " ('reatividade', 1),\n",
              " ('fraca', 1),\n",
              " ('heterogenea', 1),\n",
              " ('extrato', 1),\n",
              " ('total', 1),\n",
              " ('31', 1),\n",
              " ('%', 1),\n",
              " ('Identificamos', 1),\n",
              " ('ainda', 1),\n",
              " ('dirigidos', 1),\n",
              " ('contra', 1),\n",
              " ('23kd', 1),\n",
              " ('aproximadamente', 1),\n",
              " ('1/3', 1),\n",
              " ('natureza', 1),\n",
              " ('deste', 1),\n",
              " ('anticorpo', 1),\n",
              " ('confirmada', 1),\n",
              " ('utilizando', 1),\n",
              " ('ribossoma', 1),\n",
              " ('como', 1),\n",
              " ('Em', 1),\n",
              " ('constraste', 1),\n",
              " ('nenhuma', 1),\n",
              " ('autorreatividade', 1),\n",
              " ('detectada', 1),\n",
              " ('as', 1),\n",
              " ('proteinas', 1),\n",
              " ('ribossomais', 1),\n",
              " ('p0', 1),\n",
              " ('p1', 1),\n",
              " ('p2', 1),\n",
              " ('Esses', 1),\n",
              " ('dados', 1),\n",
              " ('confirmam', 1),\n",
              " ('existencia', 1),\n",
              " ('autoimunidade', 1),\n",
              " ('resposta', 1),\n",
              " ('imune', 1),\n",
              " ('seletiva', 1),\n",
              " ('reage', 1),\n",
              " ('cruzadamente', 1),\n",
              " ('do', 1),\n",
              " ('parasita', 1),\n",
              " ('sugere', 1),\n",
              " ('autoanticorpos', 1),\n",
              " ('nao', 1),\n",
              " ('sao', 1),\n",
              " ('ativacao', 1),\n",
              " ('policlonal', 1),\n",
              " ('ao', 1),\n",
              " ('acaso', 1),\n",
              " ('provavelmente', 1),\n",
              " ('induzidos', 1),\n",
              " ('mimetismo', 1),\n",
              " ('molecular', 1),\n",
              " ('\\n\\n', 1)]"
            ]
          },
          "metadata": {},
          "execution_count": 35
        }
      ]
    },
    {
      "cell_type": "markdown",
      "source": [
        "**Os tokens que mais aparecem**"
      ],
      "metadata": {
        "id": "Ryi0F58KCw7s"
      }
    },
    {
      "cell_type": "code",
      "source": [
        "Counter(tokens).most_common(5)"
      ],
      "metadata": {
        "colab": {
          "base_uri": "https://localhost:8080/"
        },
        "id": "M79VAqy3CEQY",
        "outputId": "7ee2b330-89b6-46bf-91b3-184c7a8b22b3"
      },
      "execution_count": 36,
      "outputs": [
        {
          "output_type": "execute_result",
          "data": {
            "text/plain": [
              "[('de', 11), ('.', 9), ('chagas', 4), ('soros', 4), ('e', 4)]"
            ]
          },
          "metadata": {},
          "execution_count": 36
        }
      ]
    },
    {
      "cell_type": "markdown",
      "source": [
        "Lei de Zift"
      ],
      "metadata": {
        "id": "Jt7AbDi1C1-7"
      }
    },
    {
      "cell_type": "code",
      "source": [
        "# transformar as palavras em minúsculo\n",
        "\n",
        "tokens_pre_processados = [token.orth_.lower for token in doc]"
      ],
      "metadata": {
        "id": "n4v9DOIgCr48"
      },
      "execution_count": 37,
      "outputs": []
    },
    {
      "cell_type": "code",
      "source": [
        "# Eliminar as pontuações\n",
        "tokens_pre_processados = [token.orth_.lower() for token in doc if token.is_alpha]\n",
        "tokens_pre_processados"
      ],
      "metadata": {
        "colab": {
          "base_uri": "https://localhost:8080/"
        },
        "id": "gzW0UdpYDczv",
        "outputId": "99992807-a06c-4bcf-9f4e-0968bb8e4cd5"
      },
      "execution_count": 38,
      "outputs": [
        {
          "output_type": "execute_result",
          "data": {
            "text/plain": [
              "['existe',\n",
              " 'a',\n",
              " 'hipotese',\n",
              " 'que',\n",
              " 'a',\n",
              " 'lesao',\n",
              " 'tecidual',\n",
              " 'observada',\n",
              " 'na',\n",
              " 'doenca',\n",
              " 'de',\n",
              " 'chagas',\n",
              " 'cronica',\n",
              " 'possa',\n",
              " 'ser',\n",
              " 'resultado',\n",
              " 'de',\n",
              " 'um',\n",
              " 'mecanismo',\n",
              " 'autoimune',\n",
              " 'soros',\n",
              " 'de',\n",
              " 'pacientes',\n",
              " 'com',\n",
              " 'doenca',\n",
              " 'de',\n",
              " 'chagas',\n",
              " 'cronica',\n",
              " 'foram',\n",
              " 'estudados',\n",
              " 'somente',\n",
              " 'soros',\n",
              " 'apresentaram',\n",
              " 'fluorescencia',\n",
              " 'positiva',\n",
              " 'na',\n",
              " 'celula',\n",
              " 'hep',\n",
              " 'todos',\n",
              " 'os',\n",
              " 'soros',\n",
              " 'foram',\n",
              " 'negativos',\n",
              " 'por',\n",
              " 'contraimunoeletroforese',\n",
              " 'e',\n",
              " 'tambem',\n",
              " 'para',\n",
              " 'o',\n",
              " 'anticorpos',\n",
              " 'nativo',\n",
              " 'observamos',\n",
              " 'uma',\n",
              " 'reatividade',\n",
              " 'fraca',\n",
              " 'e',\n",
              " 'heterogenea',\n",
              " 'para',\n",
              " 'o',\n",
              " 'extrato',\n",
              " 'total',\n",
              " 'de',\n",
              " 'celula',\n",
              " 'hela',\n",
              " 'em',\n",
              " 'dos',\n",
              " 'soros',\n",
              " 'identificamos',\n",
              " 'ainda',\n",
              " 'anticorpos',\n",
              " 'dirigidos',\n",
              " 'contra',\n",
              " 'uma',\n",
              " 'proteina',\n",
              " 'ribossomal',\n",
              " 'de',\n",
              " 'em',\n",
              " 'aproximadamente',\n",
              " 'dos',\n",
              " 'soros',\n",
              " 'de',\n",
              " 'chagas',\n",
              " 'a',\n",
              " 'natureza',\n",
              " 'autoimune',\n",
              " 'deste',\n",
              " 'anticorpo',\n",
              " 'foi',\n",
              " 'confirmada',\n",
              " 'utilizando',\n",
              " 'ribossoma',\n",
              " 'de',\n",
              " 'celula',\n",
              " 'hela',\n",
              " 'como',\n",
              " 'antigeno',\n",
              " 'em',\n",
              " 'constraste',\n",
              " 'nenhuma',\n",
              " 'autorreatividade',\n",
              " 'foi',\n",
              " 'detectada',\n",
              " 'para',\n",
              " 'as',\n",
              " 'proteinas',\n",
              " 'ribossomais',\n",
              " 'e',\n",
              " 'esses',\n",
              " 'dados',\n",
              " 'confirmam',\n",
              " 'a',\n",
              " 'existencia',\n",
              " 'de',\n",
              " 'autoimunidade',\n",
              " 'na',\n",
              " 'doenca',\n",
              " 'de',\n",
              " 'chagas',\n",
              " 'a',\n",
              " 'resposta',\n",
              " 'imune',\n",
              " 'seletiva',\n",
              " 'para',\n",
              " 'uma',\n",
              " 'proteina',\n",
              " 'ribossomal',\n",
              " 'que',\n",
              " 'reage',\n",
              " 'cruzadamente',\n",
              " 'com',\n",
              " 'antigeno',\n",
              " 'do',\n",
              " 'parasita',\n",
              " 'sugere',\n",
              " 'que',\n",
              " 'os',\n",
              " 'autoanticorpos',\n",
              " 'nao',\n",
              " 'sao',\n",
              " 'resultado',\n",
              " 'de',\n",
              " 'uma',\n",
              " 'ativacao',\n",
              " 'policlonal',\n",
              " 'ao',\n",
              " 'acaso',\n",
              " 'e',\n",
              " 'foram',\n",
              " 'provavelmente',\n",
              " 'induzidos',\n",
              " 'por',\n",
              " 'mimetismo',\n",
              " 'molecular']"
            ]
          },
          "metadata": {},
          "execution_count": 38
        }
      ]
    },
    {
      "cell_type": "code",
      "source": [
        "import matplotlib.pyplot as plt\n",
        "\n",
        "x=[]\n",
        "y=[]\n",
        "\n",
        "\n",
        "for i in Counter(tokens_pre_processados).most_common():\n",
        "  x.append(i[0])\n",
        "  y.append(i[1])\n",
        "\n",
        "plt.xticks(rotation=90)\n",
        "plt.xticks(range(len(x)),x)\n",
        "plt.plot(y)\n",
        "\n",
        "plt.show()\n"
      ],
      "metadata": {
        "colab": {
          "base_uri": "https://localhost:8080/",
          "height": 378
        },
        "id": "m0cvuEJXDnog",
        "outputId": "45f95562-3796-40ed-f99c-48139bf640f7"
      },
      "execution_count": 39,
      "outputs": [
        {
          "output_type": "display_data",
          "data": {
            "text/plain": [
              "<Figure size 432x288 with 1 Axes>"
            ],
            "image/png": "[encoded data removed]"
          },
          "metadata": {
            "needs_background": "light"
          }
        }
      ]
    },
    {
      "cell_type": "markdown",
      "source": [
        "TTR  - Palavras únicas (mais ricas lexicamente)"
      ],
      "metadata": {
        "id": "FE0-jwVhFzU_"
      }
    },
    {
      "cell_type": "code",
      "source": [
        "# função set() corta repetições\n",
        "types = list(set(tokens_pre_processados))\n",
        "types"
      ],
      "metadata": {
        "colab": {
          "base_uri": "https://localhost:8080/"
        },
        "id": "DP1wb0mMFpfy",
        "outputId": "cfb2c2f6-49d8-457b-bda2-11163cd7c30d"
      },
      "execution_count": 40,
      "outputs": [
        {
          "output_type": "execute_result",
          "data": {
            "text/plain": [
              "['que',\n",
              " 'sugere',\n",
              " 'observamos',\n",
              " 'a',\n",
              " 'induzidos',\n",
              " 'uma',\n",
              " 'anticorpo',\n",
              " 'heterogenea',\n",
              " 'total',\n",
              " 'seletiva',\n",
              " 'reage',\n",
              " 'contra',\n",
              " 'foram',\n",
              " 'autoimunidade',\n",
              " 'estudados',\n",
              " 'existencia',\n",
              " 'lesao',\n",
              " 'hep',\n",
              " 'fraca',\n",
              " 'as',\n",
              " 'os',\n",
              " 'detectada',\n",
              " 'policlonal',\n",
              " 'um',\n",
              " 'reatividade',\n",
              " 'constraste',\n",
              " 'soros',\n",
              " 'e',\n",
              " 'apresentaram',\n",
              " 'fluorescencia',\n",
              " 'dos',\n",
              " 'hipotese',\n",
              " 'proteinas',\n",
              " 'existe',\n",
              " 'utilizando',\n",
              " 'nenhuma',\n",
              " 'resultado',\n",
              " 'autoimune',\n",
              " 'molecular',\n",
              " 'dirigidos',\n",
              " 'possa',\n",
              " 'mimetismo',\n",
              " 'com',\n",
              " 'mecanismo',\n",
              " 'nao',\n",
              " 'sao',\n",
              " 'todos',\n",
              " 'proteina',\n",
              " 'identificamos',\n",
              " 'imune',\n",
              " 'parasita',\n",
              " 'doenca',\n",
              " 'esses',\n",
              " 'como',\n",
              " 'ribossomais',\n",
              " 'ativacao',\n",
              " 'aproximadamente',\n",
              " 'provavelmente',\n",
              " 'autorreatividade',\n",
              " 'nativo',\n",
              " 'hela',\n",
              " 'na',\n",
              " 'dados',\n",
              " 'confirmada',\n",
              " 'de',\n",
              " 'ribossomal',\n",
              " 'somente',\n",
              " 'anticorpos',\n",
              " 'o',\n",
              " 'cruzadamente',\n",
              " 'autoanticorpos',\n",
              " 'ser',\n",
              " 'contraimunoeletroforese',\n",
              " 'por',\n",
              " 'ainda',\n",
              " 'foi',\n",
              " 'natureza',\n",
              " 'tecidual',\n",
              " 'deste',\n",
              " 'observada',\n",
              " 'ribossoma',\n",
              " 'acaso',\n",
              " 'cronica',\n",
              " 'confirmam',\n",
              " 'ao',\n",
              " 'do',\n",
              " 'tambem',\n",
              " 'antigeno',\n",
              " 'pacientes',\n",
              " 'positiva',\n",
              " 'em',\n",
              " 'para',\n",
              " 'chagas',\n",
              " 'resposta',\n",
              " 'extrato',\n",
              " 'negativos',\n",
              " 'celula']"
            ]
          },
          "metadata": {},
          "execution_count": 40
        }
      ]
    },
    {
      "cell_type": "code",
      "source": [
        "# Quanto mais próximo de 1, maisrico é o texto\n",
        "ttr = len(types) / len(tokens_pre_processados)\n",
        "ttr "
      ],
      "metadata": {
        "colab": {
          "base_uri": "https://localhost:8080/"
        },
        "id": "yD49BeMRGNlR",
        "outputId": "02135172-111f-4bdd-a61b-ded75fc75740"
      },
      "execution_count": 41,
      "outputs": [
        {
          "output_type": "execute_result",
          "data": {
            "text/plain": [
              "0.6339869281045751"
            ]
          },
          "metadata": {},
          "execution_count": 41
        }
      ]
    },
    {
      "cell_type": "markdown",
      "source": [
        "**Tagger - Etiquetador**\n",
        "\n",
        "Classes Gramaticais"
      ],
      "metadata": {
        "id": "FE5xFlXzIkIg"
      }
    },
    {
      "cell_type": "code",
      "source": [
        "#pos = part of speech\n",
        "# Se não encontrar a classe gramatical, ele usa X\n",
        "etiquetas = [(token.orth_,token.pos_) for token in doc]\n",
        "etiquetas "
      ],
      "metadata": {
        "colab": {
          "base_uri": "https://localhost:8080/"
        },
        "id": "bD28IdNBGbC-",
        "outputId": "6f5a3801-fbd5-4f33-d5eb-40aa28913eaa"
      },
      "execution_count": 42,
      "outputs": [
        {
          "output_type": "execute_result",
          "data": {
            "text/plain": [
              "[('Existe', 'VERB'),\n",
              " ('a', 'DET'),\n",
              " ('hipotese', 'NOUN'),\n",
              " ('que', 'SCONJ'),\n",
              " ('a', 'DET'),\n",
              " ('lesao', 'NOUN'),\n",
              " ('tecidual', 'ADJ'),\n",
              " ('observada', 'VERB'),\n",
              " ('na', 'ADP'),\n",
              " ('doenca', 'NOUN'),\n",
              " ('de', 'ADP'),\n",
              " ('chagas', 'NOUN'),\n",
              " ('cronica', 'PROPN'),\n",
              " ('possa', 'VERB'),\n",
              " ('ser', 'AUX'),\n",
              " ('resultado', 'NOUN'),\n",
              " ('de', 'ADP'),\n",
              " ('um', 'DET'),\n",
              " ('mecanismo', 'NOUN'),\n",
              " ('autoimune', 'ADJ'),\n",
              " ('.', 'PUNCT'),\n",
              " ('Soros', 'NOUN'),\n",
              " ('de', 'ADP'),\n",
              " ('102', 'NUM'),\n",
              " ('pacientes', 'NOUN'),\n",
              " ('com', 'ADP'),\n",
              " ('doenca', 'NOUN'),\n",
              " ('de', 'ADP'),\n",
              " ('chagas', 'NOUN'),\n",
              " ('cronica', 'ADJ'),\n",
              " ('foram', 'AUX'),\n",
              " ('estudados', 'VERB'),\n",
              " ('.', 'PUNCT'),\n",
              " ('Somente', 'ADV'),\n",
              " ('4', 'NUM'),\n",
              " ('soros', 'NOUN'),\n",
              " ('apresentaram', 'VERB'),\n",
              " ('fluorescencia', 'NOUN'),\n",
              " ('positiva', 'ADJ'),\n",
              " ('na', 'ADP'),\n",
              " ('celula', 'PROPN'),\n",
              " ('hep', 'PROPN'),\n",
              " ('2', 'NUM'),\n",
              " ('.', 'PUNCT'),\n",
              " ('Todos', 'DET'),\n",
              " ('os', 'DET'),\n",
              " ('soros', 'NOUN'),\n",
              " ('foram', 'AUX'),\n",
              " ('negativos', 'ADJ'),\n",
              " ('por', 'ADP'),\n",
              " ('contraimunoeletroforese', 'PROPN'),\n",
              " ('e', 'CCONJ'),\n",
              " ('tambem', 'PROPN'),\n",
              " ('para', 'ADP'),\n",
              " ('o', 'DET'),\n",
              " ('anticorpos', 'NOUN'),\n",
              " ('anti-dna', 'VERB'),\n",
              " ('nativo', 'ADJ'),\n",
              " ('.', 'PUNCT'),\n",
              " ('Observamos', 'VERB'),\n",
              " ('uma', 'DET'),\n",
              " ('reatividade', 'NOUN'),\n",
              " ('fraca', 'ADJ'),\n",
              " ('e', 'CCONJ'),\n",
              " ('heterogenea', 'ADJ'),\n",
              " ('para', 'ADP'),\n",
              " ('o', 'DET'),\n",
              " ('extrato', 'NOUN'),\n",
              " ('total', 'ADJ'),\n",
              " ('de', 'ADP'),\n",
              " ('celula', 'NOUN'),\n",
              " ('hela', 'ADJ'),\n",
              " ('em', 'ADP'),\n",
              " ('31', 'NUM'),\n",
              " ('%', 'SYM'),\n",
              " ('dos', 'ADP'),\n",
              " ('soros', 'NOUN'),\n",
              " ('.', 'PUNCT'),\n",
              " ('Identificamos', 'VERB'),\n",
              " ('ainda', 'ADV'),\n",
              " (',', 'PUNCT'),\n",
              " ('anticorpos', 'NOUN'),\n",
              " ('dirigidos', 'VERB'),\n",
              " ('contra', 'ADP'),\n",
              " ('uma', 'DET'),\n",
              " ('proteina', 'NOUN'),\n",
              " ('ribossomal', 'ADJ'),\n",
              " ('de', 'ADP'),\n",
              " ('23kd', 'NOUN'),\n",
              " ('em', 'ADP'),\n",
              " ('aproximadamente', 'ADV'),\n",
              " ('1/3', 'NUM'),\n",
              " ('dos', 'ADP'),\n",
              " ('soros', 'NOUN'),\n",
              " ('de', 'ADP'),\n",
              " ('chagas', 'NOUN'),\n",
              " ('.', 'PUNCT'),\n",
              " ('A', 'DET'),\n",
              " ('natureza', 'NOUN'),\n",
              " ('autoimune', 'ADJ'),\n",
              " ('deste', 'ADP'),\n",
              " ('anticorpo', 'NOUN'),\n",
              " ('foi', 'AUX'),\n",
              " ('confirmada', 'VERB'),\n",
              " ('utilizando', 'VERB'),\n",
              " ('ribossoma', 'PROPN'),\n",
              " ('de', 'ADP'),\n",
              " ('celula', 'PROPN'),\n",
              " ('hela', 'PROPN'),\n",
              " ('como', 'ADP'),\n",
              " ('antigeno', 'PROPN'),\n",
              " ('.', 'PUNCT'),\n",
              " ('Em', 'ADP'),\n",
              " ('constraste', 'NOUN'),\n",
              " (',', 'PUNCT'),\n",
              " ('nenhuma', 'DET'),\n",
              " ('autorreatividade', 'PROPN'),\n",
              " ('foi', 'AUX'),\n",
              " ('detectada', 'VERB'),\n",
              " ('para', 'ADP'),\n",
              " ('as', 'DET'),\n",
              " ('proteinas', 'NOUN'),\n",
              " ('ribossomais', 'ADJ'),\n",
              " ('p0', 'PROPN'),\n",
              " (',', 'PUNCT'),\n",
              " ('p1', 'PROPN'),\n",
              " ('e', 'CCONJ'),\n",
              " ('p2', 'PROPN'),\n",
              " ('.', 'PUNCT'),\n",
              " ('Esses', 'DET'),\n",
              " ('dados', 'NOUN'),\n",
              " ('confirmam', 'VERB'),\n",
              " ('a', 'DET'),\n",
              " ('existencia', 'NOUN'),\n",
              " ('de', 'ADP'),\n",
              " ('autoimunidade', 'NOUN'),\n",
              " ('na', 'ADP'),\n",
              " ('doenca', 'NOUN'),\n",
              " ('de', 'ADP'),\n",
              " ('chagas', 'NOUN'),\n",
              " ('.', 'PUNCT'),\n",
              " ('A', 'DET'),\n",
              " ('resposta', 'NOUN'),\n",
              " ('imune', 'ADJ'),\n",
              " ('seletiva', 'NOUN'),\n",
              " ('para', 'ADP'),\n",
              " ('uma', 'DET'),\n",
              " ('proteina', 'NOUN'),\n",
              " ('ribossomal', 'ADJ'),\n",
              " ('que', 'PRON'),\n",
              " ('reage', 'VERB'),\n",
              " ('cruzadamente', 'ADV'),\n",
              " ('com', 'ADP'),\n",
              " ('antigeno', 'PROPN'),\n",
              " ('do', 'ADP'),\n",
              " ('parasita', 'NOUN'),\n",
              " ('sugere', 'VERB'),\n",
              " ('que', 'SCONJ'),\n",
              " ('os', 'DET'),\n",
              " ('autoanticorpos', 'NOUN'),\n",
              " ('nao', 'ADV'),\n",
              " ('sao', 'AUX'),\n",
              " ('resultado', 'NOUN'),\n",
              " ('de', 'ADP'),\n",
              " ('uma', 'DET'),\n",
              " ('ativacao', 'NOUN'),\n",
              " ('policlonal', 'ADJ'),\n",
              " ('ao', 'ADP'),\n",
              " ('acaso', 'NOUN'),\n",
              " ('e', 'CCONJ'),\n",
              " ('foram', 'AUX'),\n",
              " ('provavelmente', 'ADV'),\n",
              " ('induzidos', 'VERB'),\n",
              " ('por', 'ADP'),\n",
              " ('mimetismo', 'NOUN'),\n",
              " ('molecular', 'ADJ'),\n",
              " ('\\n\\n', 'SPACE')]"
            ]
          },
          "metadata": {},
          "execution_count": 42
        }
      ]
    },
    {
      "cell_type": "code",
      "source": [
        "classes_gramaticais = []\n",
        "\n",
        "for i in etiquetas:\n",
        "  classes_gramaticais.append(i[1])\n",
        "\n",
        "Counter(classes_gramaticais).most_common()"
      ],
      "metadata": {
        "colab": {
          "base_uri": "https://localhost:8080/"
        },
        "id": "hZSnIvDSJGHE",
        "outputId": "bd7df390-2c80-4c82-a484-4636d2a30c98"
      },
      "execution_count": 43,
      "outputs": [
        {
          "output_type": "execute_result",
          "data": {
            "text/plain": [
              "[('NOUN', 41),\n",
              " ('ADP', 32),\n",
              " ('DET', 18),\n",
              " ('ADJ', 17),\n",
              " ('VERB', 16),\n",
              " ('PROPN', 14),\n",
              " ('PUNCT', 12),\n",
              " ('AUX', 7),\n",
              " ('ADV', 6),\n",
              " ('NUM', 5),\n",
              " ('CCONJ', 4),\n",
              " ('SCONJ', 2),\n",
              " ('SYM', 1),\n",
              " ('PRON', 1),\n",
              " ('SPACE', 1)]"
            ]
          },
          "metadata": {},
          "execution_count": 43
        }
      ]
    },
    {
      "cell_type": "markdown",
      "source": [
        "# **Parser Sintático**"
      ],
      "metadata": {
        "id": "-VTAO3K3KIWO"
      }
    },
    {
      "cell_type": "markdown",
      "source": [
        "**Análise de dependência**"
      ],
      "metadata": {
        "id": "U9NzM7d5AIHG"
      }
    },
    {
      "cell_type": "code",
      "source": [
        "analise_dependencia = [(token.orth_,token.dep_) for token in doc]\n",
        "analise_dependencia"
      ],
      "metadata": {
        "colab": {
          "base_uri": "https://localhost:8080/"
        },
        "id": "mA8dY_0oJ5Jb",
        "outputId": "78ee2c6c-3a88-4b03-c1d5-33fd6e9a5bff"
      },
      "execution_count": 44,
      "outputs": [
        {
          "output_type": "execute_result",
          "data": {
            "text/plain": [
              "[('Existe', 'ROOT'),\n",
              " ('a', 'det'),\n",
              " ('hipotese', 'nsubj'),\n",
              " ('que', 'mark'),\n",
              " ('a', 'det'),\n",
              " ('lesao', 'advcl'),\n",
              " ('tecidual', 'advmod'),\n",
              " ('observada', 'acl'),\n",
              " ('na', 'case'),\n",
              " ('doenca', 'obl'),\n",
              " ('de', 'case'),\n",
              " ('chagas', 'nmod'),\n",
              " ('cronica', 'amod'),\n",
              " ('possa', 'acl'),\n",
              " ('ser', 'aux:pass'),\n",
              " ('resultado', 'xcomp'),\n",
              " ('de', 'case'),\n",
              " ('um', 'det'),\n",
              " ('mecanismo', 'nmod'),\n",
              " ('autoimune', 'amod'),\n",
              " ('.', 'punct'),\n",
              " ('Soros', 'nsubj:pass'),\n",
              " ('de', 'case'),\n",
              " ('102', 'nummod'),\n",
              " ('pacientes', 'nmod'),\n",
              " ('com', 'case'),\n",
              " ('doenca', 'nmod'),\n",
              " ('de', 'case'),\n",
              " ('chagas', 'nmod'),\n",
              " ('cronica', 'amod'),\n",
              " ('foram', 'aux:pass'),\n",
              " ('estudados', 'ROOT'),\n",
              " ('.', 'punct'),\n",
              " ('Somente', 'advmod'),\n",
              " ('4', 'nummod'),\n",
              " ('soros', 'nsubj'),\n",
              " ('apresentaram', 'ROOT'),\n",
              " ('fluorescencia', 'obj'),\n",
              " ('positiva', 'amod'),\n",
              " ('na', 'case'),\n",
              " ('celula', 'obl'),\n",
              " ('hep', 'flat:name'),\n",
              " ('2', 'flat:name'),\n",
              " ('.', 'punct'),\n",
              " ('Todos', 'det'),\n",
              " ('os', 'det'),\n",
              " ('soros', 'nsubj'),\n",
              " ('foram', 'cop'),\n",
              " ('negativos', 'ROOT'),\n",
              " ('por', 'case'),\n",
              " ('contraimunoeletroforese', 'obl'),\n",
              " ('e', 'cc'),\n",
              " ('tambem', 'conj'),\n",
              " ('para', 'case'),\n",
              " ('o', 'det'),\n",
              " ('anticorpos', 'obl'),\n",
              " ('anti-dna', 'acl'),\n",
              " ('nativo', 'obj'),\n",
              " ('.', 'punct'),\n",
              " ('Observamos', 'ROOT'),\n",
              " ('uma', 'det'),\n",
              " ('reatividade', 'obj'),\n",
              " ('fraca', 'amod'),\n",
              " ('e', 'cc'),\n",
              " ('heterogenea', 'conj'),\n",
              " ('para', 'case'),\n",
              " ('o', 'det'),\n",
              " ('extrato', 'nmod'),\n",
              " ('total', 'amod'),\n",
              " ('de', 'case'),\n",
              " ('celula', 'nmod'),\n",
              " ('hela', 'flat:name'),\n",
              " ('em', 'case'),\n",
              " ('31', 'nummod'),\n",
              " ('%', 'obl'),\n",
              " ('dos', 'case'),\n",
              " ('soros', 'nmod'),\n",
              " ('.', 'punct'),\n",
              " ('Identificamos', 'ROOT'),\n",
              " ('ainda', 'advmod'),\n",
              " (',', 'punct'),\n",
              " ('anticorpos', 'obj'),\n",
              " ('dirigidos', 'acl'),\n",
              " ('contra', 'case'),\n",
              " ('uma', 'det'),\n",
              " ('proteina', 'obj'),\n",
              " ('ribossomal', 'amod'),\n",
              " ('de', 'case'),\n",
              " ('23kd', 'nmod'),\n",
              " ('em', 'case'),\n",
              " ('aproximadamente', 'advmod'),\n",
              " ('1/3', 'appos'),\n",
              " ('dos', 'case'),\n",
              " ('soros', 'nmod'),\n",
              " ('de', 'case'),\n",
              " ('chagas', 'nmod'),\n",
              " ('.', 'punct'),\n",
              " ('A', 'det'),\n",
              " ('natureza', 'nsubj:pass'),\n",
              " ('autoimune', 'amod'),\n",
              " ('deste', 'case'),\n",
              " ('anticorpo', 'nmod'),\n",
              " ('foi', 'aux:pass'),\n",
              " ('confirmada', 'ROOT'),\n",
              " ('utilizando', 'advcl'),\n",
              " ('ribossoma', 'obj'),\n",
              " ('de', 'case'),\n",
              " ('celula', 'nmod'),\n",
              " ('hela', 'flat:name'),\n",
              " ('como', 'case'),\n",
              " ('antigeno', 'nmod'),\n",
              " ('.', 'punct'),\n",
              " ('Em', 'case'),\n",
              " ('constraste', 'obl'),\n",
              " (',', 'punct'),\n",
              " ('nenhuma', 'det'),\n",
              " ('autorreatividade', 'nsubj:pass'),\n",
              " ('foi', 'aux:pass'),\n",
              " ('detectada', 'ROOT'),\n",
              " ('para', 'case'),\n",
              " ('as', 'det'),\n",
              " ('proteinas', 'obl'),\n",
              " ('ribossomais', 'amod'),\n",
              " ('p0', 'dep'),\n",
              " (',', 'punct'),\n",
              " ('p1', 'conj'),\n",
              " ('e', 'cc'),\n",
              " ('p2', 'conj'),\n",
              " ('.', 'punct'),\n",
              " ('Esses', 'det'),\n",
              " ('dados', 'nsubj'),\n",
              " ('confirmam', 'ROOT'),\n",
              " ('a', 'det'),\n",
              " ('existencia', 'obj'),\n",
              " ('de', 'case'),\n",
              " ('autoimunidade', 'nmod'),\n",
              " ('na', 'case'),\n",
              " ('doenca', 'obl'),\n",
              " ('de', 'case'),\n",
              " ('chagas', 'nmod'),\n",
              " ('.', 'punct'),\n",
              " ('A', 'det'),\n",
              " ('resposta', 'nsubj'),\n",
              " ('imune', 'case'),\n",
              " ('seletiva', 'nmod'),\n",
              " ('para', 'case'),\n",
              " ('uma', 'det'),\n",
              " ('proteina', 'nmod'),\n",
              " ('ribossomal', 'amod'),\n",
              " ('que', 'nsubj'),\n",
              " ('reage', 'acl:relcl'),\n",
              " ('cruzadamente', 'advmod'),\n",
              " ('com', 'case'),\n",
              " ('antigeno', 'obl'),\n",
              " ('do', 'case'),\n",
              " ('parasita', 'nmod'),\n",
              " ('sugere', 'ROOT'),\n",
              " ('que', 'mark'),\n",
              " ('os', 'det'),\n",
              " ('autoanticorpos', 'nsubj'),\n",
              " ('nao', 'advmod'),\n",
              " ('sao', 'cop'),\n",
              " ('resultado', 'ccomp'),\n",
              " ('de', 'case'),\n",
              " ('uma', 'det'),\n",
              " ('ativacao', 'nmod'),\n",
              " ('policlonal', 'amod'),\n",
              " ('ao', 'case'),\n",
              " ('acaso', 'nmod'),\n",
              " ('e', 'cc'),\n",
              " ('foram', 'aux:pass'),\n",
              " ('provavelmente', 'advmod'),\n",
              " ('induzidos', 'conj'),\n",
              " ('por', 'case'),\n",
              " ('mimetismo', 'obl:agent'),\n",
              " ('molecular', 'amod'),\n",
              " ('\\n\\n', 'dep')]"
            ]
          },
          "metadata": {},
          "execution_count": 44
        }
      ]
    },
    {
      "cell_type": "code",
      "source": [
        "from pathlib import Path\n",
        "\n",
        "# Mostra a análise de dependencia gráfica\n",
        "svg = spacy.displacy.render(doc, style= \"dep\")\n",
        "output_path = Path('analisedependencia.svg')\n",
        "output_path.open('w',encoding=\"utf-8\").write(svg)\n"
      ],
      "metadata": {
        "colab": {
          "base_uri": "https://localhost:8080/"
        },
        "id": "sQh8ABsDKlx4",
        "outputId": "be19aed3-4b4a-4abc-e86d-edbbb3272bc4"
      },
      "execution_count": 45,
      "outputs": [
        {
          "output_type": "execute_result",
          "data": {
            "text/plain": [
              "132447"
            ]
          },
          "metadata": {},
          "execution_count": 45
        }
      ]
    },
    {
      "cell_type": "code",
      "source": [
        "from IPython.display import SVG\n",
        "SVG('analisedependencia.svg')\n"
      ],
      "metadata": {
        "colab": {
          "base_uri": "https://localhost:8080/",
          "height": 1000
        },
        "id": "JuqNdKAUBxWO",
        "outputId": "59dbb6c4-4a44-4275-e63f-408e0db09e76"
      },
      "execution_count": 46,
      "outputs": [
        {
          "output_type": "execute_result",
          "data": {
            "text/plain": [
              "<IPython.core.display.SVG object>"
            ],
            "image/svg+xml": "<svg class=\"displacy\" direction=\"ltr\" height=\"1012.0\" id=\"bc18b76d4420462db18ea0f7021efde5-0\" style=\"max-width: none; height: 1012.0px; color: #000000; background: #ffffff; font-family: Arial; direction: ltr\" width=\"28750\" xml:lang=\"pt\" xmlns=\"http://www.w3.org/2000/svg\" xmlns:xlink=\"http://www.w3.org/1999/xlink\">\n<text class=\"displacy-token\" fill=\"currentColor\" text-anchor=\"middle\" y=\"922.0\">\n    <tspan class=\"displacy-word\" fill=\"currentColor\" x=\"50\">Existe</tspan>\n    <tspan class=\"displacy-tag\" dy=\"2em\" fill=\"currentColor\" x=\"50\">VERB</tspan>\n</text>\n\n<text class=\"displacy-token\" fill=\"currentColor\" text-anchor=\"middle\" y=\"922.0\">\n    <tspan class=\"displacy-word\" fill=\"currentColor\" x=\"225\">a</tspan>\n    <tspan class=\"displacy-tag\" dy=\"2em\" fill=\"currentColor\" x=\"225\">DET</tspan>\n</text>\n\n<text class=\"displacy-token\" fill=\"currentColor\" text-anchor=\"middle\" y=\"922.0\">\n    <tspan class=\"displacy-word\" fill=\"currentColor\" x=\"400\">hipotese</tspan>\n    <tspan class=\"displacy-tag\" dy=\"2em\" fill=\"currentColor\" x=\"400\">NOUN</tspan>\n</text>\n\n<text class=\"displacy-token\" fill=\"currentColor\" text-anchor=\"middle\" y=\"922.0\">\n    <tspan class=\"displacy-word\" fill=\"currentColor\" x=\"575\">que</tspan>\n    <tspan class=\"displacy-tag\" dy=\"2em\" fill=\"currentColor\" x=\"575\">SCONJ</tspan>\n</text>\n\n<text class=\"displacy-token\" fill=\"currentColor\" text-anchor=\"middle\" y=\"922.0\">\n    <tspan class=\"displacy-word\" fill=\"currentColor\" x=\"750\">a</tspan>\n    <tspan class=\"displacy-tag\" dy=\"2em\" fill=\"currentColor\" x=\"750\">DET</tspan>\n</text>\n\n<text class=\"displacy-token\" fill=\"currentColor\" text-anchor=\"middle\" y=\"922.0\">\n    <tspan class=\"displacy-word\" fill=\"currentColor\" x=\"925\">lesao</tspan>\n    <tspan class=\"displacy-tag\" dy=\"2em\" fill=\"currentColor\" x=\"925\">NOUN</tspan>\n</text>\n\n<text class=\"displacy-token\" fill=\"currentColor\" text-anchor=\"middle\" y=\"922.0\">\n    <tspan class=\"displacy-word\" fill=\"currentColor\" x=\"1100\">tecidual</tspan>\n    <tspan class=\"displacy-tag\" dy=\"2em\" fill=\"currentColor\" x=\"1100\">ADJ</tspan>\n</text>\n\n<text class=\"displacy-token\" fill=\"currentColor\" text-anchor=\"middle\" y=\"922.0\">\n    <tspan class=\"displacy-word\" fill=\"currentColor\" x=\"1275\">observada</tspan>\n    <tspan class=\"displacy-tag\" dy=\"2em\" fill=\"currentColor\" x=\"1275\">VERB</tspan>\n</text>\n\n<text class=\"displacy-token\" fill=\"currentColor\" text-anchor=\"middle\" y=\"922.0\">\n    <tspan class=\"displacy-word\" fill=\"currentColor\" x=\"1450\">na</tspan>\n    <tspan class=\"displacy-tag\" dy=\"2em\" fill=\"currentColor\" x=\"1450\">ADP</tspan>\n</text>\n\n<text class=\"displacy-token\" fill=\"currentColor\" text-anchor=\"middle\" y=\"922.0\">\n    <tspan class=\"displacy-word\" fill=\"currentColor\" x=\"1625\">doenca</tspan>\n    <tspan class=\"displacy-tag\" dy=\"2em\" fill=\"currentColor\" x=\"1625\">NOUN</tspan>\n</text>\n\n<text class=\"displacy-token\" fill=\"currentColor\" text-anchor=\"middle\" y=\"922.0\">\n    <tspan class=\"displacy-word\" fill=\"currentColor\" x=\"1800\">de</tspan>\n    <tspan class=\"displacy-tag\" dy=\"2em\" fill=\"currentColor\" x=\"1800\">ADP</tspan>\n</text>\n\n<text class=\"displacy-token\" fill=\"currentColor\" text-anchor=\"middle\" y=\"922.0\">\n    <tspan class=\"displacy-word\" fill=\"currentColor\" x=\"1975\">chagas</tspan>\n    <tspan class=\"displacy-tag\" dy=\"2em\" fill=\"currentColor\" x=\"1975\">NOUN</tspan>\n</text>\n\n<text class=\"displacy-token\" fill=\"currentColor\" text-anchor=\"middle\" y=\"922.0\">\n    <tspan class=\"displacy-word\" fill=\"currentColor\" x=\"2150\">cronica</tspan>\n    <tspan class=\"displacy-tag\" dy=\"2em\" fill=\"currentColor\" x=\"2150\">PROPN</tspan>\n</text>\n\n<text class=\"displacy-token\" fill=\"currentColor\" text-anchor=\"middle\" y=\"922.0\">\n    <tspan class=\"displacy-word\" fill=\"currentColor\" x=\"2325\">possa</tspan>\n    <tspan class=\"displacy-tag\" dy=\"2em\" fill=\"currentColor\" x=\"2325\">VERB</tspan>\n</text>\n\n<text class=\"displacy-token\" fill=\"currentColor\" text-anchor=\"middle\" y=\"922.0\">\n    <tspan class=\"displacy-word\" fill=\"currentColor\" x=\"2500\">ser</tspan>\n    <tspan class=\"displacy-tag\" dy=\"2em\" fill=\"currentColor\" x=\"2500\">AUX</tspan>\n</text>\n\n<text class=\"displacy-token\" fill=\"currentColor\" text-anchor=\"middle\" y=\"922.0\">\n    <tspan class=\"displacy-word\" fill=\"currentColor\" x=\"2675\">resultado</tspan>\n    <tspan class=\"displacy-tag\" dy=\"2em\" fill=\"currentColor\" x=\"2675\">NOUN</tspan>\n</text>\n\n<text class=\"displacy-token\" fill=\"currentColor\" text-anchor=\"middle\" y=\"922.0\">\n    <tspan class=\"displacy-word\" fill=\"currentColor\" x=\"2850\">de</tspan>\n    <tspan class=\"displacy-tag\" dy=\"2em\" fill=\"currentColor\" x=\"2850\">ADP</tspan>\n</text>\n\n<text class=\"displacy-token\" fill=\"currentColor\" text-anchor=\"middle\" y=\"922.0\">\n    <tspan class=\"displacy-word\" fill=\"currentColor\" x=\"3025\">um</tspan>\n    <tspan class=\"displacy-tag\" dy=\"2em\" fill=\"currentColor\" x=\"3025\">DET</tspan>\n</text>\n\n<text class=\"displacy-token\" fill=\"currentColor\" text-anchor=\"middle\" y=\"922.0\">\n    <tspan class=\"displacy-word\" fill=\"currentColor\" x=\"3200\">mecanismo</tspan>\n    <tspan class=\"displacy-tag\" dy=\"2em\" fill=\"currentColor\" x=\"3200\">NOUN</tspan>\n</text>\n\n<text class=\"displacy-token\" fill=\"currentColor\" text-anchor=\"middle\" y=\"922.0\">\n    <tspan class=\"displacy-word\" fill=\"currentColor\" x=\"3375\">autoimune.</tspan>\n    <tspan class=\"displacy-tag\" dy=\"2em\" fill=\"currentColor\" x=\"3375\">ADJ</tspan>\n</text>\n\n<text class=\"displacy-token\" fill=\"currentColor\" text-anchor=\"middle\" y=\"922.0\">\n    <tspan class=\"displacy-word\" fill=\"currentColor\" x=\"3550\">Soros</tspan>\n    <tspan class=\"displacy-tag\" dy=\"2em\" fill=\"currentColor\" x=\"3550\">NOUN</tspan>\n</text>\n\n<text class=\"displacy-token\" fill=\"currentColor\" text-anchor=\"middle\" y=\"922.0\">\n    <tspan class=\"displacy-word\" fill=\"currentColor\" x=\"3725\">de</tspan>\n    <tspan class=\"displacy-tag\" dy=\"2em\" fill=\"currentColor\" x=\"3725\">ADP</tspan>\n</text>\n\n<text class=\"displacy-token\" fill=\"currentColor\" text-anchor=\"middle\" y=\"922.0\">\n    <tspan class=\"displacy-word\" fill=\"currentColor\" x=\"3900\">102</tspan>\n    <tspan class=\"displacy-tag\" dy=\"2em\" fill=\"currentColor\" x=\"3900\">NUM</tspan>\n</text>\n\n<text class=\"displacy-token\" fill=\"currentColor\" text-anchor=\"middle\" y=\"922.0\">\n    <tspan class=\"displacy-word\" fill=\"currentColor\" x=\"4075\">pacientes</tspan>\n    <tspan class=\"displacy-tag\" dy=\"2em\" fill=\"currentColor\" x=\"4075\">NOUN</tspan>\n</text>\n\n<text class=\"displacy-token\" fill=\"currentColor\" text-anchor=\"middle\" y=\"922.0\">\n    <tspan class=\"displacy-word\" fill=\"currentColor\" x=\"4250\">com</tspan>\n    <tspan class=\"displacy-tag\" dy=\"2em\" fill=\"currentColor\" x=\"4250\">ADP</tspan>\n</text>\n\n<text class=\"displacy-token\" fill=\"currentColor\" text-anchor=\"middle\" y=\"922.0\">\n    <tspan class=\"displacy-word\" fill=\"currentColor\" x=\"4425\">doenca</tspan>\n    <tspan class=\"displacy-tag\" dy=\"2em\" fill=\"currentColor\" x=\"4425\">NOUN</tspan>\n</text>\n\n<text class=\"displacy-token\" fill=\"currentColor\" text-anchor=\"middle\" y=\"922.0\">\n    <tspan class=\"displacy-word\" fill=\"currentColor\" x=\"4600\">de</tspan>\n    <tspan class=\"displacy-tag\" dy=\"2em\" fill=\"currentColor\" x=\"4600\">ADP</tspan>\n</text>\n\n<text class=\"displacy-token\" fill=\"currentColor\" text-anchor=\"middle\" y=\"922.0\">\n    <tspan class=\"displacy-word\" fill=\"currentColor\" x=\"4775\">chagas</tspan>\n    <tspan class=\"displacy-tag\" dy=\"2em\" fill=\"currentColor\" x=\"4775\">NOUN</tspan>\n</text>\n\n<text class=\"displacy-token\" fill=\"currentColor\" text-anchor=\"middle\" y=\"922.0\">\n    <tspan class=\"displacy-word\" fill=\"currentColor\" x=\"4950\">cronica</tspan>\n    <tspan class=\"displacy-tag\" dy=\"2em\" fill=\"currentColor\" x=\"4950\">ADJ</tspan>\n</text>\n\n<text class=\"displacy-token\" fill=\"currentColor\" text-anchor=\"middle\" y=\"922.0\">\n    <tspan class=\"displacy-word\" fill=\"currentColor\" x=\"5125\">foram</tspan>\n    <tspan class=\"displacy-tag\" dy=\"2em\" fill=\"currentColor\" x=\"5125\">AUX</tspan>\n</text>\n\n<text class=\"displacy-token\" fill=\"currentColor\" text-anchor=\"middle\" y=\"922.0\">\n    <tspan class=\"displacy-word\" fill=\"currentColor\" x=\"5300\">estudados.</tspan>\n    <tspan class=\"displacy-tag\" dy=\"2em\" fill=\"currentColor\" x=\"5300\">VERB</tspan>\n</text>\n\n<text class=\"displacy-token\" fill=\"currentColor\" text-anchor=\"middle\" y=\"922.0\">\n    <tspan class=\"displacy-word\" fill=\"currentColor\" x=\"5475\">Somente</tspan>\n    <tspan class=\"displacy-tag\" dy=\"2em\" fill=\"currentColor\" x=\"5475\">ADV</tspan>\n</text>\n\n<text class=\"displacy-token\" fill=\"currentColor\" text-anchor=\"middle\" y=\"922.0\">\n    <tspan class=\"displacy-word\" fill=\"currentColor\" x=\"5650\">4</tspan>\n    <tspan class=\"displacy-tag\" dy=\"2em\" fill=\"currentColor\" x=\"5650\">NUM</tspan>\n</text>\n\n<text class=\"displacy-token\" fill=\"currentColor\" text-anchor=\"middle\" y=\"922.0\">\n    <tspan class=\"displacy-word\" fill=\"currentColor\" x=\"5825\">soros</tspan>\n    <tspan class=\"displacy-tag\" dy=\"2em\" fill=\"currentColor\" x=\"5825\">NOUN</tspan>\n</text>\n\n<text class=\"displacy-token\" fill=\"currentColor\" text-anchor=\"middle\" y=\"922.0\">\n    <tspan class=\"displacy-word\" fill=\"currentColor\" x=\"6000\">apresentaram</tspan>\n    <tspan class=\"displacy-tag\" dy=\"2em\" fill=\"currentColor\" x=\"6000\">VERB</tspan>\n</text>\n\n<text class=\"displacy-token\" fill=\"currentColor\" text-anchor=\"middle\" y=\"922.0\">\n    <tspan class=\"displacy-word\" fill=\"currentColor\" x=\"6175\">fluorescencia</tspan>\n    <tspan class=\"displacy-tag\" dy=\"2em\" fill=\"currentColor\" x=\"6175\">NOUN</tspan>\n</text>\n\n<text class=\"displacy-token\" fill=\"currentColor\" text-anchor=\"middle\" y=\"922.0\">\n    <tspan class=\"displacy-word\" fill=\"currentColor\" x=\"6350\">positiva</tspan>\n    <tspan class=\"displacy-tag\" dy=\"2em\" fill=\"currentColor\" x=\"6350\">ADJ</tspan>\n</text>\n\n<text class=\"displacy-token\" fill=\"currentColor\" text-anchor=\"middle\" y=\"922.0\">\n    <tspan class=\"displacy-word\" fill=\"currentColor\" x=\"6525\">na</tspan>\n    <tspan class=\"displacy-tag\" dy=\"2em\" fill=\"currentColor\" x=\"6525\">ADP</tspan>\n</text>\n\n<text class=\"displacy-token\" fill=\"currentColor\" text-anchor=\"middle\" y=\"922.0\">\n    <tspan class=\"displacy-word\" fill=\"currentColor\" x=\"6700\">celula</tspan>\n    <tspan class=\"displacy-tag\" dy=\"2em\" fill=\"currentColor\" x=\"6700\">PROPN</tspan>\n</text>\n\n<text class=\"displacy-token\" fill=\"currentColor\" text-anchor=\"middle\" y=\"922.0\">\n    <tspan class=\"displacy-word\" fill=\"currentColor\" x=\"6875\">hep</tspan>\n    <tspan class=\"displacy-tag\" dy=\"2em\" fill=\"currentColor\" x=\"6875\">PROPN</tspan>\n</text>\n\n<text class=\"displacy-token\" fill=\"currentColor\" text-anchor=\"middle\" y=\"922.0\">\n    <tspan class=\"displacy-word\" fill=\"currentColor\" x=\"7050\">2.</tspan>\n    <tspan class=\"displacy-tag\" dy=\"2em\" fill=\"currentColor\" x=\"7050\">NUM</tspan>\n</text>\n\n<text class=\"displacy-token\" fill=\"currentColor\" text-anchor=\"middle\" y=\"922.0\">\n    <tspan class=\"displacy-word\" fill=\"currentColor\" x=\"7225\">Todos</tspan>\n    <tspan class=\"displacy-tag\" dy=\"2em\" fill=\"currentColor\" x=\"7225\">DET</tspan>\n</text>\n\n<text class=\"displacy-token\" fill=\"currentColor\" text-anchor=\"middle\" y=\"922.0\">\n    <tspan class=\"displacy-word\" fill=\"currentColor\" x=\"7400\">os</tspan>\n    <tspan class=\"displacy-tag\" dy=\"2em\" fill=\"currentColor\" x=\"7400\">DET</tspan>\n</text>\n\n<text class=\"displacy-token\" fill=\"currentColor\" text-anchor=\"middle\" y=\"922.0\">\n    <tspan class=\"displacy-word\" fill=\"currentColor\" x=\"7575\">soros</tspan>\n    <tspan class=\"displacy-tag\" dy=\"2em\" fill=\"currentColor\" x=\"7575\">NOUN</tspan>\n</text>\n\n<text class=\"displacy-token\" fill=\"currentColor\" text-anchor=\"middle\" y=\"922.0\">\n    <tspan class=\"displacy-word\" fill=\"currentColor\" x=\"7750\">foram</tspan>\n    <tspan class=\"displacy-tag\" dy=\"2em\" fill=\"currentColor\" x=\"7750\">AUX</tspan>\n</text>\n\n<text class=\"displacy-token\" fill=\"currentColor\" text-anchor=\"middle\" y=\"922.0\">\n    <tspan class=\"displacy-word\" fill=\"currentColor\" x=\"7925\">negativos</tspan>\n    <tspan class=\"displacy-tag\" dy=\"2em\" fill=\"currentColor\" x=\"7925\">ADJ</tspan>\n</text>\n\n<text class=\"displacy-token\" fill=\"currentColor\" text-anchor=\"middle\" y=\"922.0\">\n    <tspan class=\"displacy-word\" fill=\"currentColor\" x=\"8100\">por</tspan>\n    <tspan class=\"displacy-tag\" dy=\"2em\" fill=\"currentColor\" x=\"8100\">ADP</tspan>\n</text>\n\n<text class=\"displacy-token\" fill=\"currentColor\" text-anchor=\"middle\" y=\"922.0\">\n    <tspan class=\"displacy-word\" fill=\"currentColor\" x=\"8275\">contraimunoeletroforese</tspan>\n    <tspan class=\"displacy-tag\" dy=\"2em\" fill=\"currentColor\" x=\"8275\">PROPN</tspan>\n</text>\n\n<text class=\"displacy-token\" fill=\"currentColor\" text-anchor=\"middle\" y=\"922.0\">\n    <tspan class=\"displacy-word\" fill=\"currentColor\" x=\"8450\">e</tspan>\n    <tspan class=\"displacy-tag\" dy=\"2em\" fill=\"currentColor\" x=\"8450\">CCONJ</tspan>\n</text>\n\n<text class=\"displacy-token\" fill=\"currentColor\" text-anchor=\"middle\" y=\"922.0\">\n    <tspan class=\"displacy-word\" fill=\"currentColor\" x=\"8625\">tambem</tspan>\n    <tspan class=\"displacy-tag\" dy=\"2em\" fill=\"currentColor\" x=\"8625\">PROPN</tspan>\n</text>\n\n<text class=\"displacy-token\" fill=\"currentColor\" text-anchor=\"middle\" y=\"922.0\">\n    <tspan class=\"displacy-word\" fill=\"currentColor\" x=\"8800\">para</tspan>\n    <tspan class=\"displacy-tag\" dy=\"2em\" fill=\"currentColor\" x=\"8800\">ADP</tspan>\n</text>\n\n<text class=\"displacy-token\" fill=\"currentColor\" text-anchor=\"middle\" y=\"922.0\">\n    <tspan class=\"displacy-word\" fill=\"currentColor\" x=\"8975\">o</tspan>\n    <tspan class=\"displacy-tag\" dy=\"2em\" fill=\"currentColor\" x=\"8975\">DET</tspan>\n</text>\n\n<text class=\"displacy-token\" fill=\"currentColor\" text-anchor=\"middle\" y=\"922.0\">\n    <tspan class=\"displacy-word\" fill=\"currentColor\" x=\"9150\">anticorpos</tspan>\n    <tspan class=\"displacy-tag\" dy=\"2em\" fill=\"currentColor\" x=\"9150\">NOUN</tspan>\n</text>\n\n<text class=\"displacy-token\" fill=\"currentColor\" text-anchor=\"middle\" y=\"922.0\">\n    <tspan class=\"displacy-word\" fill=\"currentColor\" x=\"9325\">anti-dna</tspan>\n    <tspan class=\"displacy-tag\" dy=\"2em\" fill=\"currentColor\" x=\"9325\">VERB</tspan>\n</text>\n\n<text class=\"displacy-token\" fill=\"currentColor\" text-anchor=\"middle\" y=\"922.0\">\n    <tspan class=\"displacy-word\" fill=\"currentColor\" x=\"9500\">nativo.</tspan>\n    <tspan class=\"displacy-tag\" dy=\"2em\" fill=\"currentColor\" x=\"9500\">ADJ</tspan>\n</text>\n\n<text class=\"displacy-token\" fill=\"currentColor\" text-anchor=\"middle\" y=\"922.0\">\n    <tspan class=\"displacy-word\" fill=\"currentColor\" x=\"9675\">Observamos</tspan>\n    <tspan class=\"displacy-tag\" dy=\"2em\" fill=\"currentColor\" x=\"9675\">VERB</tspan>\n</text>\n\n<text class=\"displacy-token\" fill=\"currentColor\" text-anchor=\"middle\" y=\"922.0\">\n    <tspan class=\"displacy-word\" fill=\"currentColor\" x=\"9850\">uma</tspan>\n    <tspan class=\"displacy-tag\" dy=\"2em\" fill=\"currentColor\" x=\"9850\">DET</tspan>\n</text>\n\n<text class=\"displacy-token\" fill=\"currentColor\" text-anchor=\"middle\" y=\"922.0\">\n    <tspan class=\"displacy-word\" fill=\"currentColor\" x=\"10025\">reatividade</tspan>\n    <tspan class=\"displacy-tag\" dy=\"2em\" fill=\"currentColor\" x=\"10025\">NOUN</tspan>\n</text>\n\n<text class=\"displacy-token\" fill=\"currentColor\" text-anchor=\"middle\" y=\"922.0\">\n    <tspan class=\"displacy-word\" fill=\"currentColor\" x=\"10200\">fraca</tspan>\n    <tspan class=\"displacy-tag\" dy=\"2em\" fill=\"currentColor\" x=\"10200\">ADJ</tspan>\n</text>\n\n<text class=\"displacy-token\" fill=\"currentColor\" text-anchor=\"middle\" y=\"922.0\">\n    <tspan class=\"displacy-word\" fill=\"currentColor\" x=\"10375\">e</tspan>\n    <tspan class=\"displacy-tag\" dy=\"2em\" fill=\"currentColor\" x=\"10375\">CCONJ</tspan>\n</text>\n\n<text class=\"displacy-token\" fill=\"currentColor\" text-anchor=\"middle\" y=\"922.0\">\n    <tspan class=\"displacy-word\" fill=\"currentColor\" x=\"10550\">heterogenea</tspan>\n    <tspan class=\"displacy-tag\" dy=\"2em\" fill=\"currentColor\" x=\"10550\">ADJ</tspan>\n</text>\n\n<text class=\"displacy-token\" fill=\"currentColor\" text-anchor=\"middle\" y=\"922.0\">\n    <tspan class=\"displacy-word\" fill=\"currentColor\" x=\"10725\">para</tspan>\n    <tspan class=\"displacy-tag\" dy=\"2em\" fill=\"currentColor\" x=\"10725\">ADP</tspan>\n</text>\n\n<text class=\"displacy-token\" fill=\"currentColor\" text-anchor=\"middle\" y=\"922.0\">\n    <tspan class=\"displacy-word\" fill=\"currentColor\" x=\"10900\">o</tspan>\n    <tspan class=\"displacy-tag\" dy=\"2em\" fill=\"currentColor\" x=\"10900\">DET</tspan>\n</text>\n\n<text class=\"displacy-token\" fill=\"currentColor\" text-anchor=\"middle\" y=\"922.0\">\n    <tspan class=\"displacy-word\" fill=\"currentColor\" x=\"11075\">extrato</tspan>\n    <tspan class=\"displacy-tag\" dy=\"2em\" fill=\"currentColor\" x=\"11075\">NOUN</tspan>\n</text>\n\n<text class=\"displacy-token\" fill=\"currentColor\" text-anchor=\"middle\" y=\"922.0\">\n    <tspan class=\"displacy-word\" fill=\"currentColor\" x=\"11250\">total</tspan>\n    <tspan class=\"displacy-tag\" dy=\"2em\" fill=\"currentColor\" x=\"11250\">ADJ</tspan>\n</text>\n\n<text class=\"displacy-token\" fill=\"currentColor\" text-anchor=\"middle\" y=\"922.0\">\n    <tspan class=\"displacy-word\" fill=\"currentColor\" x=\"11425\">de</tspan>\n    <tspan class=\"displacy-tag\" dy=\"2em\" fill=\"currentColor\" x=\"11425\">ADP</tspan>\n</text>\n\n<text class=\"displacy-token\" fill=\"currentColor\" text-anchor=\"middle\" y=\"922.0\">\n    <tspan class=\"displacy-word\" fill=\"currentColor\" x=\"11600\">celula</tspan>\n    <tspan class=\"displacy-tag\" dy=\"2em\" fill=\"currentColor\" x=\"11600\">NOUN</tspan>\n</text>\n\n<text class=\"displacy-token\" fill=\"currentColor\" text-anchor=\"middle\" y=\"922.0\">\n    <tspan class=\"displacy-word\" fill=\"currentColor\" x=\"11775\">hela</tspan>\n    <tspan class=\"displacy-tag\" dy=\"2em\" fill=\"currentColor\" x=\"11775\">ADJ</tspan>\n</text>\n\n<text class=\"displacy-token\" fill=\"currentColor\" text-anchor=\"middle\" y=\"922.0\">\n    <tspan class=\"displacy-word\" fill=\"currentColor\" x=\"11950\">em</tspan>\n    <tspan class=\"displacy-tag\" dy=\"2em\" fill=\"currentColor\" x=\"11950\">ADP</tspan>\n</text>\n\n<text class=\"displacy-token\" fill=\"currentColor\" text-anchor=\"middle\" y=\"922.0\">\n    <tspan class=\"displacy-word\" fill=\"currentColor\" x=\"12125\">31%</tspan>\n    <tspan class=\"displacy-tag\" dy=\"2em\" fill=\"currentColor\" x=\"12125\">SYM</tspan>\n</text>\n\n<text class=\"displacy-token\" fill=\"currentColor\" text-anchor=\"middle\" y=\"922.0\">\n    <tspan class=\"displacy-word\" fill=\"currentColor\" x=\"12300\">dos</tspan>\n    <tspan class=\"displacy-tag\" dy=\"2em\" fill=\"currentColor\" x=\"12300\">ADP</tspan>\n</text>\n\n<text class=\"displacy-token\" fill=\"currentColor\" text-anchor=\"middle\" y=\"922.0\">\n    <tspan class=\"displacy-word\" fill=\"currentColor\" x=\"12475\">soros.</tspan>\n    <tspan class=\"displacy-tag\" dy=\"2em\" fill=\"currentColor\" x=\"12475\">NOUN</tspan>\n</text>\n\n<text class=\"displacy-token\" fill=\"currentColor\" text-anchor=\"middle\" y=\"922.0\">\n    <tspan class=\"displacy-word\" fill=\"currentColor\" x=\"12650\">Identificamos</tspan>\n    <tspan class=\"displacy-tag\" dy=\"2em\" fill=\"currentColor\" x=\"12650\">VERB</tspan>\n</text>\n\n<text class=\"displacy-token\" fill=\"currentColor\" text-anchor=\"middle\" y=\"922.0\">\n    <tspan class=\"displacy-word\" fill=\"currentColor\" x=\"12825\">ainda,</tspan>\n    <tspan class=\"displacy-tag\" dy=\"2em\" fill=\"currentColor\" x=\"12825\">ADV</tspan>\n</text>\n\n<text class=\"displacy-token\" fill=\"currentColor\" text-anchor=\"middle\" y=\"922.0\">\n    <tspan class=\"displacy-word\" fill=\"currentColor\" x=\"13000\">anticorpos</tspan>\n    <tspan class=\"displacy-tag\" dy=\"2em\" fill=\"currentColor\" x=\"13000\">NOUN</tspan>\n</text>\n\n<text class=\"displacy-token\" fill=\"currentColor\" text-anchor=\"middle\" y=\"922.0\">\n    <tspan class=\"displacy-word\" fill=\"currentColor\" x=\"13175\">dirigidos</tspan>\n    <tspan class=\"displacy-tag\" dy=\"2em\" fill=\"currentColor\" x=\"13175\">VERB</tspan>\n</text>\n\n<text class=\"displacy-token\" fill=\"currentColor\" text-anchor=\"middle\" y=\"922.0\">\n    <tspan class=\"displacy-word\" fill=\"currentColor\" x=\"13350\">contra</tspan>\n    <tspan class=\"displacy-tag\" dy=\"2em\" fill=\"currentColor\" x=\"13350\">ADP</tspan>\n</text>\n\n<text class=\"displacy-token\" fill=\"currentColor\" text-anchor=\"middle\" y=\"922.0\">\n    <tspan class=\"displacy-word\" fill=\"currentColor\" x=\"13525\">uma</tspan>\n    <tspan class=\"displacy-tag\" dy=\"2em\" fill=\"currentColor\" x=\"13525\">DET</tspan>\n</text>\n\n<text class=\"displacy-token\" fill=\"currentColor\" text-anchor=\"middle\" y=\"922.0\">\n    <tspan class=\"displacy-word\" fill=\"currentColor\" x=\"13700\">proteina</tspan>\n    <tspan class=\"displacy-tag\" dy=\"2em\" fill=\"currentColor\" x=\"13700\">NOUN</tspan>\n</text>\n\n<text class=\"displacy-token\" fill=\"currentColor\" text-anchor=\"middle\" y=\"922.0\">\n    <tspan class=\"displacy-word\" fill=\"currentColor\" x=\"13875\">ribossomal</tspan>\n    <tspan class=\"displacy-tag\" dy=\"2em\" fill=\"currentColor\" x=\"13875\">ADJ</tspan>\n</text>\n\n<text class=\"displacy-token\" fill=\"currentColor\" text-anchor=\"middle\" y=\"922.0\">\n    <tspan class=\"displacy-word\" fill=\"currentColor\" x=\"14050\">de</tspan>\n    <tspan class=\"displacy-tag\" dy=\"2em\" fill=\"currentColor\" x=\"14050\">ADP</tspan>\n</text>\n\n<text class=\"displacy-token\" fill=\"currentColor\" text-anchor=\"middle\" y=\"922.0\">\n    <tspan class=\"displacy-word\" fill=\"currentColor\" x=\"14225\">23kd</tspan>\n    <tspan class=\"displacy-tag\" dy=\"2em\" fill=\"currentColor\" x=\"14225\">NOUN</tspan>\n</text>\n\n<text class=\"displacy-token\" fill=\"currentColor\" text-anchor=\"middle\" y=\"922.0\">\n    <tspan class=\"displacy-word\" fill=\"currentColor\" x=\"14400\">em</tspan>\n    <tspan class=\"displacy-tag\" dy=\"2em\" fill=\"currentColor\" x=\"14400\">ADP</tspan>\n</text>\n\n<text class=\"displacy-token\" fill=\"currentColor\" text-anchor=\"middle\" y=\"922.0\">\n    <tspan class=\"displacy-word\" fill=\"currentColor\" x=\"14575\">aproximadamente</tspan>\n    <tspan class=\"displacy-tag\" dy=\"2em\" fill=\"currentColor\" x=\"14575\">ADV</tspan>\n</text>\n\n<text class=\"displacy-token\" fill=\"currentColor\" text-anchor=\"middle\" y=\"922.0\">\n    <tspan class=\"displacy-word\" fill=\"currentColor\" x=\"14750\">1/3</tspan>\n    <tspan class=\"displacy-tag\" dy=\"2em\" fill=\"currentColor\" x=\"14750\">NUM</tspan>\n</text>\n\n<text class=\"displacy-token\" fill=\"currentColor\" text-anchor=\"middle\" y=\"922.0\">\n    <tspan class=\"displacy-word\" fill=\"currentColor\" x=\"14925\">dos</tspan>\n    <tspan class=\"displacy-tag\" dy=\"2em\" fill=\"currentColor\" x=\"14925\">ADP</tspan>\n</text>\n\n<text class=\"displacy-token\" fill=\"currentColor\" text-anchor=\"middle\" y=\"922.0\">\n    <tspan class=\"displacy-word\" fill=\"currentColor\" x=\"15100\">soros</tspan>\n    <tspan class=\"displacy-tag\" dy=\"2em\" fill=\"currentColor\" x=\"15100\">NOUN</tspan>\n</text>\n\n<text class=\"displacy-token\" fill=\"currentColor\" text-anchor=\"middle\" y=\"922.0\">\n    <tspan class=\"displacy-word\" fill=\"currentColor\" x=\"15275\">de</tspan>\n    <tspan class=\"displacy-tag\" dy=\"2em\" fill=\"currentColor\" x=\"15275\">ADP</tspan>\n</text>\n\n<text class=\"displacy-token\" fill=\"currentColor\" text-anchor=\"middle\" y=\"922.0\">\n    <tspan class=\"displacy-word\" fill=\"currentColor\" x=\"15450\">chagas.</tspan>\n    <tspan class=\"displacy-tag\" dy=\"2em\" fill=\"currentColor\" x=\"15450\">NOUN</tspan>\n</text>\n\n<text class=\"displacy-token\" fill=\"currentColor\" text-anchor=\"middle\" y=\"922.0\">\n    <tspan class=\"displacy-word\" fill=\"currentColor\" x=\"15625\">A</tspan>\n    <tspan class=\"displacy-tag\" dy=\"2em\" fill=\"currentColor\" x=\"15625\">DET</tspan>\n</text>\n\n<text class=\"displacy-token\" fill=\"currentColor\" text-anchor=\"middle\" y=\"922.0\">\n    <tspan class=\"displacy-word\" fill=\"currentColor\" x=\"15800\">natureza</tspan>\n    <tspan class=\"displacy-tag\" dy=\"2em\" fill=\"currentColor\" x=\"15800\">NOUN</tspan>\n</text>\n\n<text class=\"displacy-token\" fill=\"currentColor\" text-anchor=\"middle\" y=\"922.0\">\n    <tspan class=\"displacy-word\" fill=\"currentColor\" x=\"15975\">autoimune</tspan>\n    <tspan class=\"displacy-tag\" dy=\"2em\" fill=\"currentColor\" x=\"15975\">ADJ</tspan>\n</text>\n\n<text class=\"displacy-token\" fill=\"currentColor\" text-anchor=\"middle\" y=\"922.0\">\n    <tspan class=\"displacy-word\" fill=\"currentColor\" x=\"16150\">deste</tspan>\n    <tspan class=\"displacy-tag\" dy=\"2em\" fill=\"currentColor\" x=\"16150\">ADP</tspan>\n</text>\n\n<text class=\"displacy-token\" fill=\"currentColor\" text-anchor=\"middle\" y=\"922.0\">\n    <tspan class=\"displacy-word\" fill=\"currentColor\" x=\"16325\">anticorpo</tspan>\n    <tspan class=\"displacy-tag\" dy=\"2em\" fill=\"currentColor\" x=\"16325\">NOUN</tspan>\n</text>\n\n<text class=\"displacy-token\" fill=\"currentColor\" text-anchor=\"middle\" y=\"922.0\">\n    <tspan class=\"displacy-word\" fill=\"currentColor\" x=\"16500\">foi</tspan>\n    <tspan class=\"displacy-tag\" dy=\"2em\" fill=\"currentColor\" x=\"16500\">AUX</tspan>\n</text>\n\n<text class=\"displacy-token\" fill=\"currentColor\" text-anchor=\"middle\" y=\"922.0\">\n    <tspan class=\"displacy-word\" fill=\"currentColor\" x=\"16675\">confirmada</tspan>\n    <tspan class=\"displacy-tag\" dy=\"2em\" fill=\"currentColor\" x=\"16675\">VERB</tspan>\n</text>\n\n<text class=\"displacy-token\" fill=\"currentColor\" text-anchor=\"middle\" y=\"922.0\">\n    <tspan class=\"displacy-word\" fill=\"currentColor\" x=\"16850\">utilizando</tspan>\n    <tspan class=\"displacy-tag\" dy=\"2em\" fill=\"currentColor\" x=\"16850\">VERB</tspan>\n</text>\n\n<text class=\"displacy-token\" fill=\"currentColor\" text-anchor=\"middle\" y=\"922.0\">\n    <tspan class=\"displacy-word\" fill=\"currentColor\" x=\"17025\">ribossoma</tspan>\n    <tspan class=\"displacy-tag\" dy=\"2em\" fill=\"currentColor\" x=\"17025\">PROPN</tspan>\n</text>\n\n<text class=\"displacy-token\" fill=\"currentColor\" text-anchor=\"middle\" y=\"922.0\">\n    <tspan class=\"displacy-word\" fill=\"currentColor\" x=\"17200\">de</tspan>\n    <tspan class=\"displacy-tag\" dy=\"2em\" fill=\"currentColor\" x=\"17200\">ADP</tspan>\n</text>\n\n<text class=\"displacy-token\" fill=\"currentColor\" text-anchor=\"middle\" y=\"922.0\">\n    <tspan class=\"displacy-word\" fill=\"currentColor\" x=\"17375\">celula</tspan>\n    <tspan class=\"displacy-tag\" dy=\"2em\" fill=\"currentColor\" x=\"17375\">PROPN</tspan>\n</text>\n\n<text class=\"displacy-token\" fill=\"currentColor\" text-anchor=\"middle\" y=\"922.0\">\n    <tspan class=\"displacy-word\" fill=\"currentColor\" x=\"17550\">hela</tspan>\n    <tspan class=\"displacy-tag\" dy=\"2em\" fill=\"currentColor\" x=\"17550\">PROPN</tspan>\n</text>\n\n<text class=\"displacy-token\" fill=\"currentColor\" text-anchor=\"middle\" y=\"922.0\">\n    <tspan class=\"displacy-word\" fill=\"currentColor\" x=\"17725\">como</tspan>\n    <tspan class=\"displacy-tag\" dy=\"2em\" fill=\"currentColor\" x=\"17725\">ADP</tspan>\n</text>\n\n<text class=\"displacy-token\" fill=\"currentColor\" text-anchor=\"middle\" y=\"922.0\">\n    <tspan class=\"displacy-word\" fill=\"currentColor\" x=\"17900\">antigeno.</tspan>\n    <tspan class=\"displacy-tag\" dy=\"2em\" fill=\"currentColor\" x=\"17900\">PROPN</tspan>\n</text>\n\n<text class=\"displacy-token\" fill=\"currentColor\" text-anchor=\"middle\" y=\"922.0\">\n    <tspan class=\"displacy-word\" fill=\"currentColor\" x=\"18075\">Em</tspan>\n    <tspan class=\"displacy-tag\" dy=\"2em\" fill=\"currentColor\" x=\"18075\">ADP</tspan>\n</text>\n\n<text class=\"displacy-token\" fill=\"currentColor\" text-anchor=\"middle\" y=\"922.0\">\n    <tspan class=\"displacy-word\" fill=\"currentColor\" x=\"18250\">constraste,</tspan>\n    <tspan class=\"displacy-tag\" dy=\"2em\" fill=\"currentColor\" x=\"18250\">NOUN</tspan>\n</text>\n\n<text class=\"displacy-token\" fill=\"currentColor\" text-anchor=\"middle\" y=\"922.0\">\n    <tspan class=\"displacy-word\" fill=\"currentColor\" x=\"18425\">nenhuma</tspan>\n    <tspan class=\"displacy-tag\" dy=\"2em\" fill=\"currentColor\" x=\"18425\">DET</tspan>\n</text>\n\n<text class=\"displacy-token\" fill=\"currentColor\" text-anchor=\"middle\" y=\"922.0\">\n    <tspan class=\"displacy-word\" fill=\"currentColor\" x=\"18600\">autorreatividade</tspan>\n    <tspan class=\"displacy-tag\" dy=\"2em\" fill=\"currentColor\" x=\"18600\">PROPN</tspan>\n</text>\n\n<text class=\"displacy-token\" fill=\"currentColor\" text-anchor=\"middle\" y=\"922.0\">\n    <tspan class=\"displacy-word\" fill=\"currentColor\" x=\"18775\">foi</tspan>\n    <tspan class=\"displacy-tag\" dy=\"2em\" fill=\"currentColor\" x=\"18775\">AUX</tspan>\n</text>\n\n<text class=\"displacy-token\" fill=\"currentColor\" text-anchor=\"middle\" y=\"922.0\">\n    <tspan class=\"displacy-word\" fill=\"currentColor\" x=\"18950\">detectada</tspan>\n    <tspan class=\"displacy-tag\" dy=\"2em\" fill=\"currentColor\" x=\"18950\">VERB</tspan>\n</text>\n\n<text class=\"displacy-token\" fill=\"currentColor\" text-anchor=\"middle\" y=\"922.0\">\n    <tspan class=\"displacy-word\" fill=\"currentColor\" x=\"19125\">para</tspan>\n    <tspan class=\"displacy-tag\" dy=\"2em\" fill=\"currentColor\" x=\"19125\">ADP</tspan>\n</text>\n\n<text class=\"displacy-token\" fill=\"currentColor\" text-anchor=\"middle\" y=\"922.0\">\n    <tspan class=\"displacy-word\" fill=\"currentColor\" x=\"19300\">as</tspan>\n    <tspan class=\"displacy-tag\" dy=\"2em\" fill=\"currentColor\" x=\"19300\">DET</tspan>\n</text>\n\n<text class=\"displacy-token\" fill=\"currentColor\" text-anchor=\"middle\" y=\"922.0\">\n    <tspan class=\"displacy-word\" fill=\"currentColor\" x=\"19475\">proteinas</tspan>\n    <tspan class=\"displacy-tag\" dy=\"2em\" fill=\"currentColor\" x=\"19475\">NOUN</tspan>\n</text>\n\n<text class=\"displacy-token\" fill=\"currentColor\" text-anchor=\"middle\" y=\"922.0\">\n    <tspan class=\"displacy-word\" fill=\"currentColor\" x=\"19650\">ribossomais</tspan>\n    <tspan class=\"displacy-tag\" dy=\"2em\" fill=\"currentColor\" x=\"19650\">ADJ</tspan>\n</text>\n\n<text class=\"displacy-token\" fill=\"currentColor\" text-anchor=\"middle\" y=\"922.0\">\n    <tspan class=\"displacy-word\" fill=\"currentColor\" x=\"19825\">p0,</tspan>\n    <tspan class=\"displacy-tag\" dy=\"2em\" fill=\"currentColor\" x=\"19825\">PROPN</tspan>\n</text>\n\n<text class=\"displacy-token\" fill=\"currentColor\" text-anchor=\"middle\" y=\"922.0\">\n    <tspan class=\"displacy-word\" fill=\"currentColor\" x=\"20000\">p1</tspan>\n    <tspan class=\"displacy-tag\" dy=\"2em\" fill=\"currentColor\" x=\"20000\">PROPN</tspan>\n</text>\n\n<text class=\"displacy-token\" fill=\"currentColor\" text-anchor=\"middle\" y=\"922.0\">\n    <tspan class=\"displacy-word\" fill=\"currentColor\" x=\"20175\">e</tspan>\n    <tspan class=\"displacy-tag\" dy=\"2em\" fill=\"currentColor\" x=\"20175\">CCONJ</tspan>\n</text>\n\n<text class=\"displacy-token\" fill=\"currentColor\" text-anchor=\"middle\" y=\"922.0\">\n    <tspan class=\"displacy-word\" fill=\"currentColor\" x=\"20350\">p2.</tspan>\n    <tspan class=\"displacy-tag\" dy=\"2em\" fill=\"currentColor\" x=\"20350\">PROPN</tspan>\n</text>\n\n<text class=\"displacy-token\" fill=\"currentColor\" text-anchor=\"middle\" y=\"922.0\">\n    <tspan class=\"displacy-word\" fill=\"currentColor\" x=\"20525\">Esses</tspan>\n    <tspan class=\"displacy-tag\" dy=\"2em\" fill=\"currentColor\" x=\"20525\">DET</tspan>\n</text>\n\n<text class=\"displacy-token\" fill=\"currentColor\" text-anchor=\"middle\" y=\"922.0\">\n    <tspan class=\"displacy-word\" fill=\"currentColor\" x=\"20700\">dados</tspan>\n    <tspan class=\"displacy-tag\" dy=\"2em\" fill=\"currentColor\" x=\"20700\">NOUN</tspan>\n</text>\n\n<text class=\"displacy-token\" fill=\"currentColor\" text-anchor=\"middle\" y=\"922.0\">\n    <tspan class=\"displacy-word\" fill=\"currentColor\" x=\"20875\">confirmam</tspan>\n    <tspan class=\"displacy-tag\" dy=\"2em\" fill=\"currentColor\" x=\"20875\">VERB</tspan>\n</text>\n\n<text class=\"displacy-token\" fill=\"currentColor\" text-anchor=\"middle\" y=\"922.0\">\n    <tspan class=\"displacy-word\" fill=\"currentColor\" x=\"21050\">a</tspan>\n    <tspan class=\"displacy-tag\" dy=\"2em\" fill=\"currentColor\" x=\"21050\">DET</tspan>\n</text>\n\n<text class=\"displacy-token\" fill=\"currentColor\" text-anchor=\"middle\" y=\"922.0\">\n    <tspan class=\"displacy-word\" fill=\"currentColor\" x=\"21225\">existencia</tspan>\n    <tspan class=\"displacy-tag\" dy=\"2em\" fill=\"currentColor\" x=\"21225\">NOUN</tspan>\n</text>\n\n<text class=\"displacy-token\" fill=\"currentColor\" text-anchor=\"middle\" y=\"922.0\">\n    <tspan class=\"displacy-word\" fill=\"currentColor\" x=\"21400\">de</tspan>\n    <tspan class=\"displacy-tag\" dy=\"2em\" fill=\"currentColor\" x=\"21400\">ADP</tspan>\n</text>\n\n<text class=\"displacy-token\" fill=\"currentColor\" text-anchor=\"middle\" y=\"922.0\">\n    <tspan class=\"displacy-word\" fill=\"currentColor\" x=\"21575\">autoimunidade</tspan>\n    <tspan class=\"displacy-tag\" dy=\"2em\" fill=\"currentColor\" x=\"21575\">NOUN</tspan>\n</text>\n\n<text class=\"displacy-token\" fill=\"currentColor\" text-anchor=\"middle\" y=\"922.0\">\n    <tspan class=\"displacy-word\" fill=\"currentColor\" x=\"21750\">na</tspan>\n    <tspan class=\"displacy-tag\" dy=\"2em\" fill=\"currentColor\" x=\"21750\">ADP</tspan>\n</text>\n\n<text class=\"displacy-token\" fill=\"currentColor\" text-anchor=\"middle\" y=\"922.0\">\n    <tspan class=\"displacy-word\" fill=\"currentColor\" x=\"21925\">doenca</tspan>\n    <tspan class=\"displacy-tag\" dy=\"2em\" fill=\"currentColor\" x=\"21925\">NOUN</tspan>\n</text>\n\n<text class=\"displacy-token\" fill=\"currentColor\" text-anchor=\"middle\" y=\"922.0\">\n    <tspan class=\"displacy-word\" fill=\"currentColor\" x=\"22100\">de</tspan>\n    <tspan class=\"displacy-tag\" dy=\"2em\" fill=\"currentColor\" x=\"22100\">ADP</tspan>\n</text>\n\n<text class=\"displacy-token\" fill=\"currentColor\" text-anchor=\"middle\" y=\"922.0\">\n    <tspan class=\"displacy-word\" fill=\"currentColor\" x=\"22275\">chagas.</tspan>\n    <tspan class=\"displacy-tag\" dy=\"2em\" fill=\"currentColor\" x=\"22275\">NOUN</tspan>\n</text>\n\n<text class=\"displacy-token\" fill=\"currentColor\" text-anchor=\"middle\" y=\"922.0\">\n    <tspan class=\"displacy-word\" fill=\"currentColor\" x=\"22450\">A</tspan>\n    <tspan class=\"displacy-tag\" dy=\"2em\" fill=\"currentColor\" x=\"22450\">DET</tspan>\n</text>\n\n<text class=\"displacy-token\" fill=\"currentColor\" text-anchor=\"middle\" y=\"922.0\">\n    <tspan class=\"displacy-word\" fill=\"currentColor\" x=\"22625\">resposta</tspan>\n    <tspan class=\"displacy-tag\" dy=\"2em\" fill=\"currentColor\" x=\"22625\">NOUN</tspan>\n</text>\n\n<text class=\"displacy-token\" fill=\"currentColor\" text-anchor=\"middle\" y=\"922.0\">\n    <tspan class=\"displacy-word\" fill=\"currentColor\" x=\"22800\">imune</tspan>\n    <tspan class=\"displacy-tag\" dy=\"2em\" fill=\"currentColor\" x=\"22800\">ADJ</tspan>\n</text>\n\n<text class=\"displacy-token\" fill=\"currentColor\" text-anchor=\"middle\" y=\"922.0\">\n    <tspan class=\"displacy-word\" fill=\"currentColor\" x=\"22975\">seletiva</tspan>\n    <tspan class=\"displacy-tag\" dy=\"2em\" fill=\"currentColor\" x=\"22975\">NOUN</tspan>\n</text>\n\n<text class=\"displacy-token\" fill=\"currentColor\" text-anchor=\"middle\" y=\"922.0\">\n    <tspan class=\"displacy-word\" fill=\"currentColor\" x=\"23150\">para</tspan>\n    <tspan class=\"displacy-tag\" dy=\"2em\" fill=\"currentColor\" x=\"23150\">ADP</tspan>\n</text>\n\n<text class=\"displacy-token\" fill=\"currentColor\" text-anchor=\"middle\" y=\"922.0\">\n    <tspan class=\"displacy-word\" fill=\"currentColor\" x=\"23325\">uma</tspan>\n    <tspan class=\"displacy-tag\" dy=\"2em\" fill=\"currentColor\" x=\"23325\">DET</tspan>\n</text>\n\n<text class=\"displacy-token\" fill=\"currentColor\" text-anchor=\"middle\" y=\"922.0\">\n    <tspan class=\"displacy-word\" fill=\"currentColor\" x=\"23500\">proteina</tspan>\n    <tspan class=\"displacy-tag\" dy=\"2em\" fill=\"currentColor\" x=\"23500\">NOUN</tspan>\n</text>\n\n<text class=\"displacy-token\" fill=\"currentColor\" text-anchor=\"middle\" y=\"922.0\">\n    <tspan class=\"displacy-word\" fill=\"currentColor\" x=\"23675\">ribossomal</tspan>\n    <tspan class=\"displacy-tag\" dy=\"2em\" fill=\"currentColor\" x=\"23675\">ADJ</tspan>\n</text>\n\n<text class=\"displacy-token\" fill=\"currentColor\" text-anchor=\"middle\" y=\"922.0\">\n    <tspan class=\"displacy-word\" fill=\"currentColor\" x=\"23850\">que</tspan>\n    <tspan class=\"displacy-tag\" dy=\"2em\" fill=\"currentColor\" x=\"23850\">PRON</tspan>\n</text>\n\n<text class=\"displacy-token\" fill=\"currentColor\" text-anchor=\"middle\" y=\"922.0\">\n    <tspan class=\"displacy-word\" fill=\"currentColor\" x=\"24025\">reage</tspan>\n    <tspan class=\"displacy-tag\" dy=\"2em\" fill=\"currentColor\" x=\"24025\">VERB</tspan>\n</text>\n\n<text class=\"displacy-token\" fill=\"currentColor\" text-anchor=\"middle\" y=\"922.0\">\n    <tspan class=\"displacy-word\" fill=\"currentColor\" x=\"24200\">cruzadamente</tspan>\n    <tspan class=\"displacy-tag\" dy=\"2em\" fill=\"currentColor\" x=\"24200\">ADV</tspan>\n</text>\n\n<text class=\"displacy-token\" fill=\"currentColor\" text-anchor=\"middle\" y=\"922.0\">\n    <tspan class=\"displacy-word\" fill=\"currentColor\" x=\"24375\">com</tspan>\n    <tspan class=\"displacy-tag\" dy=\"2em\" fill=\"currentColor\" x=\"24375\">ADP</tspan>\n</text>\n\n<text class=\"displacy-token\" fill=\"currentColor\" text-anchor=\"middle\" y=\"922.0\">\n    <tspan class=\"displacy-word\" fill=\"currentColor\" x=\"24550\">antigeno</tspan>\n    <tspan class=\"displacy-tag\" dy=\"2em\" fill=\"currentColor\" x=\"24550\">PROPN</tspan>\n</text>\n\n<text class=\"displacy-token\" fill=\"currentColor\" text-anchor=\"middle\" y=\"922.0\">\n    <tspan class=\"displacy-word\" fill=\"currentColor\" x=\"24725\">do</tspan>\n    <tspan class=\"displacy-tag\" dy=\"2em\" fill=\"currentColor\" x=\"24725\">ADP</tspan>\n</text>\n\n<text class=\"displacy-token\" fill=\"currentColor\" text-anchor=\"middle\" y=\"922.0\">\n    <tspan class=\"displacy-word\" fill=\"currentColor\" x=\"24900\">parasita</tspan>\n    <tspan class=\"displacy-tag\" dy=\"2em\" fill=\"currentColor\" x=\"24900\">NOUN</tspan>\n</text>\n\n<text class=\"displacy-token\" fill=\"currentColor\" text-anchor=\"middle\" y=\"922.0\">\n    <tspan class=\"displacy-word\" fill=\"currentColor\" x=\"25075\">sugere</tspan>\n    <tspan class=\"displacy-tag\" dy=\"2em\" fill=\"currentColor\" x=\"25075\">VERB</tspan>\n</text>\n\n<text class=\"displacy-token\" fill=\"currentColor\" text-anchor=\"middle\" y=\"922.0\">\n    <tspan class=\"displacy-word\" fill=\"currentColor\" x=\"25250\">que</tspan>\n    <tspan class=\"displacy-tag\" dy=\"2em\" fill=\"currentColor\" x=\"25250\">SCONJ</tspan>\n</text>\n\n<text class=\"displacy-token\" fill=\"currentColor\" text-anchor=\"middle\" y=\"922.0\">\n    <tspan class=\"displacy-word\" fill=\"currentColor\" x=\"25425\">os</tspan>\n    <tspan class=\"displacy-tag\" dy=\"2em\" fill=\"currentColor\" x=\"25425\">DET</tspan>\n</text>\n\n<text class=\"displacy-token\" fill=\"currentColor\" text-anchor=\"middle\" y=\"922.0\">\n    <tspan class=\"displacy-word\" fill=\"currentColor\" x=\"25600\">autoanticorpos</tspan>\n    <tspan class=\"displacy-tag\" dy=\"2em\" fill=\"currentColor\" x=\"25600\">NOUN</tspan>\n</text>\n\n<text class=\"displacy-token\" fill=\"currentColor\" text-anchor=\"middle\" y=\"922.0\">\n    <tspan class=\"displacy-word\" fill=\"currentColor\" x=\"25775\">nao</tspan>\n    <tspan class=\"displacy-tag\" dy=\"2em\" fill=\"currentColor\" x=\"25775\">ADV</tspan>\n</text>\n\n<text class=\"displacy-token\" fill=\"currentColor\" text-anchor=\"middle\" y=\"922.0\">\n    <tspan class=\"displacy-word\" fill=\"currentColor\" x=\"25950\">sao</tspan>\n    <tspan class=\"displacy-tag\" dy=\"2em\" fill=\"currentColor\" x=\"25950\">AUX</tspan>\n</text>\n\n<text class=\"displacy-token\" fill=\"currentColor\" text-anchor=\"middle\" y=\"922.0\">\n    <tspan class=\"displacy-word\" fill=\"currentColor\" x=\"26125\">resultado</tspan>\n    <tspan class=\"displacy-tag\" dy=\"2em\" fill=\"currentColor\" x=\"26125\">NOUN</tspan>\n</text>\n\n<text class=\"displacy-token\" fill=\"currentColor\" text-anchor=\"middle\" y=\"922.0\">\n    <tspan class=\"displacy-word\" fill=\"currentColor\" x=\"26300\">de</tspan>\n    <tspan class=\"displacy-tag\" dy=\"2em\" fill=\"currentColor\" x=\"26300\">ADP</tspan>\n</text>\n\n<text class=\"displacy-token\" fill=\"currentColor\" text-anchor=\"middle\" y=\"922.0\">\n    <tspan class=\"displacy-word\" fill=\"currentColor\" x=\"26475\">uma</tspan>\n    <tspan class=\"displacy-tag\" dy=\"2em\" fill=\"currentColor\" x=\"26475\">DET</tspan>\n</text>\n\n<text class=\"displacy-token\" fill=\"currentColor\" text-anchor=\"middle\" y=\"922.0\">\n    <tspan class=\"displacy-word\" fill=\"currentColor\" x=\"26650\">ativacao</tspan>\n    <tspan class=\"displacy-tag\" dy=\"2em\" fill=\"currentColor\" x=\"26650\">NOUN</tspan>\n</text>\n\n<text class=\"displacy-token\" fill=\"currentColor\" text-anchor=\"middle\" y=\"922.0\">\n    <tspan class=\"displacy-word\" fill=\"currentColor\" x=\"26825\">policlonal</tspan>\n    <tspan class=\"displacy-tag\" dy=\"2em\" fill=\"currentColor\" x=\"26825\">ADJ</tspan>\n</text>\n\n<text class=\"displacy-token\" fill=\"currentColor\" text-anchor=\"middle\" y=\"922.0\">\n    <tspan class=\"displacy-word\" fill=\"currentColor\" x=\"27000\">ao</tspan>\n    <tspan class=\"displacy-tag\" dy=\"2em\" fill=\"currentColor\" x=\"27000\">ADP</tspan>\n</text>\n\n<text class=\"displacy-token\" fill=\"currentColor\" text-anchor=\"middle\" y=\"922.0\">\n    <tspan class=\"displacy-word\" fill=\"currentColor\" x=\"27175\">acaso</tspan>\n    <tspan class=\"displacy-tag\" dy=\"2em\" fill=\"currentColor\" x=\"27175\">NOUN</tspan>\n</text>\n\n<text class=\"displacy-token\" fill=\"currentColor\" text-anchor=\"middle\" y=\"922.0\">\n    <tspan class=\"displacy-word\" fill=\"currentColor\" x=\"27350\">e</tspan>\n    <tspan class=\"displacy-tag\" dy=\"2em\" fill=\"currentColor\" x=\"27350\">CCONJ</tspan>\n</text>\n\n<text class=\"displacy-token\" fill=\"currentColor\" text-anchor=\"middle\" y=\"922.0\">\n    <tspan class=\"displacy-word\" fill=\"currentColor\" x=\"27525\">foram</tspan>\n    <tspan class=\"displacy-tag\" dy=\"2em\" fill=\"currentColor\" x=\"27525\">AUX</tspan>\n</text>\n\n<text class=\"displacy-token\" fill=\"currentColor\" text-anchor=\"middle\" y=\"922.0\">\n    <tspan class=\"displacy-word\" fill=\"currentColor\" x=\"27700\">provavelmente</tspan>\n    <tspan class=\"displacy-tag\" dy=\"2em\" fill=\"currentColor\" x=\"27700\">ADV</tspan>\n</text>\n\n<text class=\"displacy-token\" fill=\"currentColor\" text-anchor=\"middle\" y=\"922.0\">\n    <tspan class=\"displacy-word\" fill=\"currentColor\" x=\"27875\">induzidos</tspan>\n    <tspan class=\"displacy-tag\" dy=\"2em\" fill=\"currentColor\" x=\"27875\">VERB</tspan>\n</text>\n\n<text class=\"displacy-token\" fill=\"currentColor\" text-anchor=\"middle\" y=\"922.0\">\n    <tspan class=\"displacy-word\" fill=\"currentColor\" x=\"28050\">por</tspan>\n    <tspan class=\"displacy-tag\" dy=\"2em\" fill=\"currentColor\" x=\"28050\">ADP</tspan>\n</text>\n\n<text class=\"displacy-token\" fill=\"currentColor\" text-anchor=\"middle\" y=\"922.0\">\n    <tspan class=\"displacy-word\" fill=\"currentColor\" x=\"28225\">mimetismo</tspan>\n    <tspan class=\"displacy-tag\" dy=\"2em\" fill=\"currentColor\" x=\"28225\">NOUN</tspan>\n</text>\n\n<text class=\"displacy-token\" fill=\"currentColor\" text-anchor=\"middle\" y=\"922.0\">\n    <tspan class=\"displacy-word\" fill=\"currentColor\" x=\"28400\">molecular</tspan>\n    <tspan class=\"displacy-tag\" dy=\"2em\" fill=\"currentColor\" x=\"28400\">ADJ</tspan>\n</text>\n\n<text class=\"displacy-token\" fill=\"currentColor\" text-anchor=\"middle\" y=\"922.0\">\n    <tspan class=\"displacy-word\" fill=\"currentColor\" x=\"28575\">\n\n</tspan>\n    <tspan class=\"displacy-tag\" dy=\"2em\" fill=\"currentColor\" x=\"28575\">SPACE</tspan>\n</text>\n\n<g class=\"displacy-arrow\">\n    <path class=\"displacy-arc\" d=\"M245,877.0 C245,789.5 355.0,789.5 355.0,877.0\" fill=\"none\" id=\"arrow-bc18b76d4420462db18ea0f7021efde5-0-0\" stroke=\"currentColor\" stroke-width=\"2px\"/>\n    <text dy=\"1.25em\" style=\"font-size: 0.8em; letter-spacing: 1px\">\n        <textPath class=\"displacy-label\" fill=\"currentColor\" side=\"left\" startOffset=\"50%\" text-anchor=\"middle\" xlink:href=\"#arrow-bc18b76d4420462db18ea0f7021efde5-0-0\">det</textPath>\n    </text>\n    <path class=\"displacy-arrowhead\" d=\"M245,879.0 L237,867.0 253,867.0\" fill=\"currentColor\"/>\n</g>\n\n<g class=\"displacy-arrow\">\n    <path class=\"displacy-arc\" d=\"M70,877.0 C70,702.0 360.0,702.0 360.0,877.0\" fill=\"none\" id=\"arrow-bc18b76d4420462db18ea0f7021efde5-0-1\" stroke=\"currentColor\" stroke-width=\"2px\"/>\n    <text dy=\"1.25em\" style=\"font-size: 0.8em; letter-spacing: 1px\">\n        <textPath class=\"displacy-label\" fill=\"currentColor\" side=\"left\" startOffset=\"50%\" text-anchor=\"middle\" xlink:href=\"#arrow-bc18b76d4420462db18ea0f7021efde5-0-1\">nsubj</textPath>\n    </text>\n    <path class=\"displacy-arrowhead\" d=\"M360.0,879.0 L368.0,867.0 352.0,867.0\" fill=\"currentColor\"/>\n</g>\n\n<g class=\"displacy-arrow\">\n    <path class=\"displacy-arc\" d=\"M595,877.0 C595,702.0 885.0,702.0 885.0,877.0\" fill=\"none\" id=\"arrow-bc18b76d4420462db18ea0f7021efde5-0-2\" stroke=\"currentColor\" stroke-width=\"2px\"/>\n    <text dy=\"1.25em\" style=\"font-size: 0.8em; letter-spacing: 1px\">\n        <textPath class=\"displacy-label\" fill=\"currentColor\" side=\"left\" startOffset=\"50%\" text-anchor=\"middle\" xlink:href=\"#arrow-bc18b76d4420462db18ea0f7021efde5-0-2\">mark</textPath>\n    </text>\n    <path class=\"displacy-arrowhead\" d=\"M595,879.0 L587,867.0 603,867.0\" fill=\"currentColor\"/>\n</g>\n\n<g class=\"displacy-arrow\">\n    <path class=\"displacy-arc\" d=\"M770,877.0 C770,789.5 880.0,789.5 880.0,877.0\" fill=\"none\" id=\"arrow-bc18b76d4420462db18ea0f7021efde5-0-3\" stroke=\"currentColor\" stroke-width=\"2px\"/>\n    <text dy=\"1.25em\" style=\"font-size: 0.8em; letter-spacing: 1px\">\n        <textPath class=\"displacy-label\" fill=\"currentColor\" side=\"left\" startOffset=\"50%\" text-anchor=\"middle\" xlink:href=\"#arrow-bc18b76d4420462db18ea0f7021efde5-0-3\">det</textPath>\n    </text>\n    <path class=\"displacy-arrowhead\" d=\"M770,879.0 L762,867.0 778,867.0\" fill=\"currentColor\"/>\n</g>\n\n<g class=\"displacy-arrow\">\n    <path class=\"displacy-arc\" d=\"M420,877.0 C420,614.5 890.0,614.5 890.0,877.0\" fill=\"none\" id=\"arrow-bc18b76d4420462db18ea0f7021efde5-0-4\" stroke=\"currentColor\" stroke-width=\"2px\"/>\n    <text dy=\"1.25em\" style=\"font-size: 0.8em; letter-spacing: 1px\">\n        <textPath class=\"displacy-label\" fill=\"currentColor\" side=\"left\" startOffset=\"50%\" text-anchor=\"middle\" xlink:href=\"#arrow-bc18b76d4420462db18ea0f7021efde5-0-4\">advcl</textPath>\n    </text>\n    <path class=\"displacy-arrowhead\" d=\"M890.0,879.0 L898.0,867.0 882.0,867.0\" fill=\"currentColor\"/>\n</g>\n\n<g class=\"displacy-arrow\">\n    <path class=\"displacy-arc\" d=\"M1120,877.0 C1120,789.5 1230.0,789.5 1230.0,877.0\" fill=\"none\" id=\"arrow-bc18b76d4420462db18ea0f7021efde5-0-5\" stroke=\"currentColor\" stroke-width=\"2px\"/>\n    <text dy=\"1.25em\" style=\"font-size: 0.8em; letter-spacing: 1px\">\n        <textPath class=\"displacy-label\" fill=\"currentColor\" side=\"left\" startOffset=\"50%\" text-anchor=\"middle\" xlink:href=\"#arrow-bc18b76d4420462db18ea0f7021efde5-0-5\">advmod</textPath>\n    </text>\n    <path class=\"displacy-arrowhead\" d=\"M1120,879.0 L1112,867.0 1128,867.0\" fill=\"currentColor\"/>\n</g>\n\n<g class=\"displacy-arrow\">\n    <path class=\"displacy-arc\" d=\"M945,877.0 C945,702.0 1235.0,702.0 1235.0,877.0\" fill=\"none\" id=\"arrow-bc18b76d4420462db18ea0f7021efde5-0-6\" stroke=\"currentColor\" stroke-width=\"2px\"/>\n    <text dy=\"1.25em\" style=\"font-size: 0.8em; letter-spacing: 1px\">\n        <textPath class=\"displacy-label\" fill=\"currentColor\" side=\"left\" startOffset=\"50%\" text-anchor=\"middle\" xlink:href=\"#arrow-bc18b76d4420462db18ea0f7021efde5-0-6\">acl</textPath>\n    </text>\n    <path class=\"displacy-arrowhead\" d=\"M1235.0,879.0 L1243.0,867.0 1227.0,867.0\" fill=\"currentColor\"/>\n</g>\n\n<g class=\"displacy-arrow\">\n    <path class=\"displacy-arc\" d=\"M1470,877.0 C1470,789.5 1580.0,789.5 1580.0,877.0\" fill=\"none\" id=\"arrow-bc18b76d4420462db18ea0f7021efde5-0-7\" stroke=\"currentColor\" stroke-width=\"2px\"/>\n    <text dy=\"1.25em\" style=\"font-size: 0.8em; letter-spacing: 1px\">\n        <textPath class=\"displacy-label\" fill=\"currentColor\" side=\"left\" startOffset=\"50%\" text-anchor=\"middle\" xlink:href=\"#arrow-bc18b76d4420462db18ea0f7021efde5-0-7\">case</textPath>\n    </text>\n    <path class=\"displacy-arrowhead\" d=\"M1470,879.0 L1462,867.0 1478,867.0\" fill=\"currentColor\"/>\n</g>\n\n<g class=\"displacy-arrow\">\n    <path class=\"displacy-arc\" d=\"M1295,877.0 C1295,702.0 1585.0,702.0 1585.0,877.0\" fill=\"none\" id=\"arrow-bc18b76d4420462db18ea0f7021efde5-0-8\" stroke=\"currentColor\" stroke-width=\"2px\"/>\n    <text dy=\"1.25em\" style=\"font-size: 0.8em; letter-spacing: 1px\">\n        <textPath class=\"displacy-label\" fill=\"currentColor\" side=\"left\" startOffset=\"50%\" text-anchor=\"middle\" xlink:href=\"#arrow-bc18b76d4420462db18ea0f7021efde5-0-8\">obl</textPath>\n    </text>\n    <path class=\"displacy-arrowhead\" d=\"M1585.0,879.0 L1593.0,867.0 1577.0,867.0\" fill=\"currentColor\"/>\n</g>\n\n<g class=\"displacy-arrow\">\n    <path class=\"displacy-arc\" d=\"M1820,877.0 C1820,789.5 1930.0,789.5 1930.0,877.0\" fill=\"none\" id=\"arrow-bc18b76d4420462db18ea0f7021efde5-0-9\" stroke=\"currentColor\" stroke-width=\"2px\"/>\n    <text dy=\"1.25em\" style=\"font-size: 0.8em; letter-spacing: 1px\">\n        <textPath class=\"displacy-label\" fill=\"currentColor\" side=\"left\" startOffset=\"50%\" text-anchor=\"middle\" xlink:href=\"#arrow-bc18b76d4420462db18ea0f7021efde5-0-9\">case</textPath>\n    </text>\n    <path class=\"displacy-arrowhead\" d=\"M1820,879.0 L1812,867.0 1828,867.0\" fill=\"currentColor\"/>\n</g>\n\n<g class=\"displacy-arrow\">\n    <path class=\"displacy-arc\" d=\"M1645,877.0 C1645,702.0 1935.0,702.0 1935.0,877.0\" fill=\"none\" id=\"arrow-bc18b76d4420462db18ea0f7021efde5-0-10\" stroke=\"currentColor\" stroke-width=\"2px\"/>\n    <text dy=\"1.25em\" style=\"font-size: 0.8em; letter-spacing: 1px\">\n        <textPath class=\"displacy-label\" fill=\"currentColor\" side=\"left\" startOffset=\"50%\" text-anchor=\"middle\" xlink:href=\"#arrow-bc18b76d4420462db18ea0f7021efde5-0-10\">nmod</textPath>\n    </text>\n    <path class=\"displacy-arrowhead\" d=\"M1935.0,879.0 L1943.0,867.0 1927.0,867.0\" fill=\"currentColor\"/>\n</g>\n\n<g class=\"displacy-arrow\">\n    <path class=\"displacy-arc\" d=\"M1995,877.0 C1995,789.5 2105.0,789.5 2105.0,877.0\" fill=\"none\" id=\"arrow-bc18b76d4420462db18ea0f7021efde5-0-11\" stroke=\"currentColor\" stroke-width=\"2px\"/>\n    <text dy=\"1.25em\" style=\"font-size: 0.8em; letter-spacing: 1px\">\n        <textPath class=\"displacy-label\" fill=\"currentColor\" side=\"left\" startOffset=\"50%\" text-anchor=\"middle\" xlink:href=\"#arrow-bc18b76d4420462db18ea0f7021efde5-0-11\">amod</textPath>\n    </text>\n    <path class=\"displacy-arrowhead\" d=\"M2105.0,879.0 L2113.0,867.0 2097.0,867.0\" fill=\"currentColor\"/>\n</g>\n\n<g class=\"displacy-arrow\">\n    <path class=\"displacy-arc\" d=\"M1645,877.0 C1645,527.0 2295.0,527.0 2295.0,877.0\" fill=\"none\" id=\"arrow-bc18b76d4420462db18ea0f7021efde5-0-12\" stroke=\"currentColor\" stroke-width=\"2px\"/>\n    <text dy=\"1.25em\" style=\"font-size: 0.8em; letter-spacing: 1px\">\n        <textPath class=\"displacy-label\" fill=\"currentColor\" side=\"left\" startOffset=\"50%\" text-anchor=\"middle\" xlink:href=\"#arrow-bc18b76d4420462db18ea0f7021efde5-0-12\">acl</textPath>\n    </text>\n    <path class=\"displacy-arrowhead\" d=\"M2295.0,879.0 L2303.0,867.0 2287.0,867.0\" fill=\"currentColor\"/>\n</g>\n\n<g class=\"displacy-arrow\">\n    <path class=\"displacy-arc\" d=\"M2520,877.0 C2520,789.5 2630.0,789.5 2630.0,877.0\" fill=\"none\" id=\"arrow-bc18b76d4420462db18ea0f7021efde5-0-13\" stroke=\"currentColor\" stroke-width=\"2px\"/>\n    <text dy=\"1.25em\" style=\"font-size: 0.8em; letter-spacing: 1px\">\n        <textPath class=\"displacy-label\" fill=\"currentColor\" side=\"left\" startOffset=\"50%\" text-anchor=\"middle\" xlink:href=\"#arrow-bc18b76d4420462db18ea0f7021efde5-0-13\">aux:pass</textPath>\n    </text>\n    <path class=\"displacy-arrowhead\" d=\"M2520,879.0 L2512,867.0 2528,867.0\" fill=\"currentColor\"/>\n</g>\n\n<g class=\"displacy-arrow\">\n    <path class=\"displacy-arc\" d=\"M2345,877.0 C2345,702.0 2635.0,702.0 2635.0,877.0\" fill=\"none\" id=\"arrow-bc18b76d4420462db18ea0f7021efde5-0-14\" stroke=\"currentColor\" stroke-width=\"2px\"/>\n    <text dy=\"1.25em\" style=\"font-size: 0.8em; letter-spacing: 1px\">\n        <textPath class=\"displacy-label\" fill=\"currentColor\" side=\"left\" startOffset=\"50%\" text-anchor=\"middle\" xlink:href=\"#arrow-bc18b76d4420462db18ea0f7021efde5-0-14\">xcomp</textPath>\n    </text>\n    <path class=\"displacy-arrowhead\" d=\"M2635.0,879.0 L2643.0,867.0 2627.0,867.0\" fill=\"currentColor\"/>\n</g>\n\n<g class=\"displacy-arrow\">\n    <path class=\"displacy-arc\" d=\"M2870,877.0 C2870,702.0 3160.0,702.0 3160.0,877.0\" fill=\"none\" id=\"arrow-bc18b76d4420462db18ea0f7021efde5-0-15\" stroke=\"currentColor\" stroke-width=\"2px\"/>\n    <text dy=\"1.25em\" style=\"font-size: 0.8em; letter-spacing: 1px\">\n        <textPath class=\"displacy-label\" fill=\"currentColor\" side=\"left\" startOffset=\"50%\" text-anchor=\"middle\" xlink:href=\"#arrow-bc18b76d4420462db18ea0f7021efde5-0-15\">case</textPath>\n    </text>\n    <path class=\"displacy-arrowhead\" d=\"M2870,879.0 L2862,867.0 2878,867.0\" fill=\"currentColor\"/>\n</g>\n\n<g class=\"displacy-arrow\">\n    <path class=\"displacy-arc\" d=\"M3045,877.0 C3045,789.5 3155.0,789.5 3155.0,877.0\" fill=\"none\" id=\"arrow-bc18b76d4420462db18ea0f7021efde5-0-16\" stroke=\"currentColor\" stroke-width=\"2px\"/>\n    <text dy=\"1.25em\" style=\"font-size: 0.8em; letter-spacing: 1px\">\n        <textPath class=\"displacy-label\" fill=\"currentColor\" side=\"left\" startOffset=\"50%\" text-anchor=\"middle\" xlink:href=\"#arrow-bc18b76d4420462db18ea0f7021efde5-0-16\">det</textPath>\n    </text>\n    <path class=\"displacy-arrowhead\" d=\"M3045,879.0 L3037,867.0 3053,867.0\" fill=\"currentColor\"/>\n</g>\n\n<g class=\"displacy-arrow\">\n    <path class=\"displacy-arc\" d=\"M2695,877.0 C2695,614.5 3165.0,614.5 3165.0,877.0\" fill=\"none\" id=\"arrow-bc18b76d4420462db18ea0f7021efde5-0-17\" stroke=\"currentColor\" stroke-width=\"2px\"/>\n    <text dy=\"1.25em\" style=\"font-size: 0.8em; letter-spacing: 1px\">\n        <textPath class=\"displacy-label\" fill=\"currentColor\" side=\"left\" startOffset=\"50%\" text-anchor=\"middle\" xlink:href=\"#arrow-bc18b76d4420462db18ea0f7021efde5-0-17\">nmod</textPath>\n    </text>\n    <path class=\"displacy-arrowhead\" d=\"M3165.0,879.0 L3173.0,867.0 3157.0,867.0\" fill=\"currentColor\"/>\n</g>\n\n<g class=\"displacy-arrow\">\n    <path class=\"displacy-arc\" d=\"M3220,877.0 C3220,789.5 3330.0,789.5 3330.0,877.0\" fill=\"none\" id=\"arrow-bc18b76d4420462db18ea0f7021efde5-0-18\" stroke=\"currentColor\" stroke-width=\"2px\"/>\n    <text dy=\"1.25em\" style=\"font-size: 0.8em; letter-spacing: 1px\">\n        <textPath class=\"displacy-label\" fill=\"currentColor\" side=\"left\" startOffset=\"50%\" text-anchor=\"middle\" xlink:href=\"#arrow-bc18b76d4420462db18ea0f7021efde5-0-18\">amod</textPath>\n    </text>\n    <path class=\"displacy-arrowhead\" d=\"M3330.0,879.0 L3338.0,867.0 3322.0,867.0\" fill=\"currentColor\"/>\n</g>\n\n<g class=\"displacy-arrow\">\n    <path class=\"displacy-arc\" d=\"M3570,877.0 C3570,177.0 5290.0,177.0 5290.0,877.0\" fill=\"none\" id=\"arrow-bc18b76d4420462db18ea0f7021efde5-0-19\" stroke=\"currentColor\" stroke-width=\"2px\"/>\n    <text dy=\"1.25em\" style=\"font-size: 0.8em; letter-spacing: 1px\">\n        <textPath class=\"displacy-label\" fill=\"currentColor\" side=\"left\" startOffset=\"50%\" text-anchor=\"middle\" xlink:href=\"#arrow-bc18b76d4420462db18ea0f7021efde5-0-19\">nsubj:pass</textPath>\n    </text>\n    <path class=\"displacy-arrowhead\" d=\"M3570,879.0 L3562,867.0 3578,867.0\" fill=\"currentColor\"/>\n</g>\n\n<g class=\"displacy-arrow\">\n    <path class=\"displacy-arc\" d=\"M3745,877.0 C3745,702.0 4035.0,702.0 4035.0,877.0\" fill=\"none\" id=\"arrow-bc18b76d4420462db18ea0f7021efde5-0-20\" stroke=\"currentColor\" stroke-width=\"2px\"/>\n    <text dy=\"1.25em\" style=\"font-size: 0.8em; letter-spacing: 1px\">\n        <textPath class=\"displacy-label\" fill=\"currentColor\" side=\"left\" startOffset=\"50%\" text-anchor=\"middle\" xlink:href=\"#arrow-bc18b76d4420462db18ea0f7021efde5-0-20\">case</textPath>\n    </text>\n    <path class=\"displacy-arrowhead\" d=\"M3745,879.0 L3737,867.0 3753,867.0\" fill=\"currentColor\"/>\n</g>\n\n<g class=\"displacy-arrow\">\n    <path class=\"displacy-arc\" d=\"M3920,877.0 C3920,789.5 4030.0,789.5 4030.0,877.0\" fill=\"none\" id=\"arrow-bc18b76d4420462db18ea0f7021efde5-0-21\" stroke=\"currentColor\" stroke-width=\"2px\"/>\n    <text dy=\"1.25em\" style=\"font-size: 0.8em; letter-spacing: 1px\">\n        <textPath class=\"displacy-label\" fill=\"currentColor\" side=\"left\" startOffset=\"50%\" text-anchor=\"middle\" xlink:href=\"#arrow-bc18b76d4420462db18ea0f7021efde5-0-21\">nummod</textPath>\n    </text>\n    <path class=\"displacy-arrowhead\" d=\"M3920,879.0 L3912,867.0 3928,867.0\" fill=\"currentColor\"/>\n</g>\n\n<g class=\"displacy-arrow\">\n    <path class=\"displacy-arc\" d=\"M3570,877.0 C3570,614.5 4040.0,614.5 4040.0,877.0\" fill=\"none\" id=\"arrow-bc18b76d4420462db18ea0f7021efde5-0-22\" stroke=\"currentColor\" stroke-width=\"2px\"/>\n    <text dy=\"1.25em\" style=\"font-size: 0.8em; letter-spacing: 1px\">\n        <textPath class=\"displacy-label\" fill=\"currentColor\" side=\"left\" startOffset=\"50%\" text-anchor=\"middle\" xlink:href=\"#arrow-bc18b76d4420462db18ea0f7021efde5-0-22\">nmod</textPath>\n    </text>\n    <path class=\"displacy-arrowhead\" d=\"M4040.0,879.0 L4048.0,867.0 4032.0,867.0\" fill=\"currentColor\"/>\n</g>\n\n<g class=\"displacy-arrow\">\n    <path class=\"displacy-arc\" d=\"M4270,877.0 C4270,789.5 4380.0,789.5 4380.0,877.0\" fill=\"none\" id=\"arrow-bc18b76d4420462db18ea0f7021efde5-0-23\" stroke=\"currentColor\" stroke-width=\"2px\"/>\n    <text dy=\"1.25em\" style=\"font-size: 0.8em; letter-spacing: 1px\">\n        <textPath class=\"displacy-label\" fill=\"currentColor\" side=\"left\" startOffset=\"50%\" text-anchor=\"middle\" xlink:href=\"#arrow-bc18b76d4420462db18ea0f7021efde5-0-23\">case</textPath>\n    </text>\n    <path class=\"displacy-arrowhead\" d=\"M4270,879.0 L4262,867.0 4278,867.0\" fill=\"currentColor\"/>\n</g>\n\n<g class=\"displacy-arrow\">\n    <path class=\"displacy-arc\" d=\"M4095,877.0 C4095,702.0 4385.0,702.0 4385.0,877.0\" fill=\"none\" id=\"arrow-bc18b76d4420462db18ea0f7021efde5-0-24\" stroke=\"currentColor\" stroke-width=\"2px\"/>\n    <text dy=\"1.25em\" style=\"font-size: 0.8em; letter-spacing: 1px\">\n        <textPath class=\"displacy-label\" fill=\"currentColor\" side=\"left\" startOffset=\"50%\" text-anchor=\"middle\" xlink:href=\"#arrow-bc18b76d4420462db18ea0f7021efde5-0-24\">nmod</textPath>\n    </text>\n    <path class=\"displacy-arrowhead\" d=\"M4385.0,879.0 L4393.0,867.0 4377.0,867.0\" fill=\"currentColor\"/>\n</g>\n\n<g class=\"displacy-arrow\">\n    <path class=\"displacy-arc\" d=\"M4620,877.0 C4620,789.5 4730.0,789.5 4730.0,877.0\" fill=\"none\" id=\"arrow-bc18b76d4420462db18ea0f7021efde5-0-25\" stroke=\"currentColor\" stroke-width=\"2px\"/>\n    <text dy=\"1.25em\" style=\"font-size: 0.8em; letter-spacing: 1px\">\n        <textPath class=\"displacy-label\" fill=\"currentColor\" side=\"left\" startOffset=\"50%\" text-anchor=\"middle\" xlink:href=\"#arrow-bc18b76d4420462db18ea0f7021efde5-0-25\">case</textPath>\n    </text>\n    <path class=\"displacy-arrowhead\" d=\"M4620,879.0 L4612,867.0 4628,867.0\" fill=\"currentColor\"/>\n</g>\n\n<g class=\"displacy-arrow\">\n    <path class=\"displacy-arc\" d=\"M4445,877.0 C4445,702.0 4735.0,702.0 4735.0,877.0\" fill=\"none\" id=\"arrow-bc18b76d4420462db18ea0f7021efde5-0-26\" stroke=\"currentColor\" stroke-width=\"2px\"/>\n    <text dy=\"1.25em\" style=\"font-size: 0.8em; letter-spacing: 1px\">\n        <textPath class=\"displacy-label\" fill=\"currentColor\" side=\"left\" startOffset=\"50%\" text-anchor=\"middle\" xlink:href=\"#arrow-bc18b76d4420462db18ea0f7021efde5-0-26\">nmod</textPath>\n    </text>\n    <path class=\"displacy-arrowhead\" d=\"M4735.0,879.0 L4743.0,867.0 4727.0,867.0\" fill=\"currentColor\"/>\n</g>\n\n<g class=\"displacy-arrow\">\n    <path class=\"displacy-arc\" d=\"M4795,877.0 C4795,789.5 4905.0,789.5 4905.0,877.0\" fill=\"none\" id=\"arrow-bc18b76d4420462db18ea0f7021efde5-0-27\" stroke=\"currentColor\" stroke-width=\"2px\"/>\n    <text dy=\"1.25em\" style=\"font-size: 0.8em; letter-spacing: 1px\">\n        <textPath class=\"displacy-label\" fill=\"currentColor\" side=\"left\" startOffset=\"50%\" text-anchor=\"middle\" xlink:href=\"#arrow-bc18b76d4420462db18ea0f7021efde5-0-27\">amod</textPath>\n    </text>\n    <path class=\"displacy-arrowhead\" d=\"M4905.0,879.0 L4913.0,867.0 4897.0,867.0\" fill=\"currentColor\"/>\n</g>\n\n<g class=\"displacy-arrow\">\n    <path class=\"displacy-arc\" d=\"M5145,877.0 C5145,789.5 5255.0,789.5 5255.0,877.0\" fill=\"none\" id=\"arrow-bc18b76d4420462db18ea0f7021efde5-0-28\" stroke=\"currentColor\" stroke-width=\"2px\"/>\n    <text dy=\"1.25em\" style=\"font-size: 0.8em; letter-spacing: 1px\">\n        <textPath class=\"displacy-label\" fill=\"currentColor\" side=\"left\" startOffset=\"50%\" text-anchor=\"middle\" xlink:href=\"#arrow-bc18b76d4420462db18ea0f7021efde5-0-28\">aux:pass</textPath>\n    </text>\n    <path class=\"displacy-arrowhead\" d=\"M5145,879.0 L5137,867.0 5153,867.0\" fill=\"currentColor\"/>\n</g>\n\n<g class=\"displacy-arrow\">\n    <path class=\"displacy-arc\" d=\"M5495,877.0 C5495,789.5 5605.0,789.5 5605.0,877.0\" fill=\"none\" id=\"arrow-bc18b76d4420462db18ea0f7021efde5-0-29\" stroke=\"currentColor\" stroke-width=\"2px\"/>\n    <text dy=\"1.25em\" style=\"font-size: 0.8em; letter-spacing: 1px\">\n        <textPath class=\"displacy-label\" fill=\"currentColor\" side=\"left\" startOffset=\"50%\" text-anchor=\"middle\" xlink:href=\"#arrow-bc18b76d4420462db18ea0f7021efde5-0-29\">advmod</textPath>\n    </text>\n    <path class=\"displacy-arrowhead\" d=\"M5495,879.0 L5487,867.0 5503,867.0\" fill=\"currentColor\"/>\n</g>\n\n<g class=\"displacy-arrow\">\n    <path class=\"displacy-arc\" d=\"M5670,877.0 C5670,789.5 5780.0,789.5 5780.0,877.0\" fill=\"none\" id=\"arrow-bc18b76d4420462db18ea0f7021efde5-0-30\" stroke=\"currentColor\" stroke-width=\"2px\"/>\n    <text dy=\"1.25em\" style=\"font-size: 0.8em; letter-spacing: 1px\">\n        <textPath class=\"displacy-label\" fill=\"currentColor\" side=\"left\" startOffset=\"50%\" text-anchor=\"middle\" xlink:href=\"#arrow-bc18b76d4420462db18ea0f7021efde5-0-30\">nummod</textPath>\n    </text>\n    <path class=\"displacy-arrowhead\" d=\"M5670,879.0 L5662,867.0 5678,867.0\" fill=\"currentColor\"/>\n</g>\n\n<g class=\"displacy-arrow\">\n    <path class=\"displacy-arc\" d=\"M5845,877.0 C5845,789.5 5955.0,789.5 5955.0,877.0\" fill=\"none\" id=\"arrow-bc18b76d4420462db18ea0f7021efde5-0-31\" stroke=\"currentColor\" stroke-width=\"2px\"/>\n    <text dy=\"1.25em\" style=\"font-size: 0.8em; letter-spacing: 1px\">\n        <textPath class=\"displacy-label\" fill=\"currentColor\" side=\"left\" startOffset=\"50%\" text-anchor=\"middle\" xlink:href=\"#arrow-bc18b76d4420462db18ea0f7021efde5-0-31\">nsubj</textPath>\n    </text>\n    <path class=\"displacy-arrowhead\" d=\"M5845,879.0 L5837,867.0 5853,867.0\" fill=\"currentColor\"/>\n</g>\n\n<g class=\"displacy-arrow\">\n    <path class=\"displacy-arc\" d=\"M6020,877.0 C6020,789.5 6130.0,789.5 6130.0,877.0\" fill=\"none\" id=\"arrow-bc18b76d4420462db18ea0f7021efde5-0-32\" stroke=\"currentColor\" stroke-width=\"2px\"/>\n    <text dy=\"1.25em\" style=\"font-size: 0.8em; letter-spacing: 1px\">\n        <textPath class=\"displacy-label\" fill=\"currentColor\" side=\"left\" startOffset=\"50%\" text-anchor=\"middle\" xlink:href=\"#arrow-bc18b76d4420462db18ea0f7021efde5-0-32\">obj</textPath>\n    </text>\n    <path class=\"displacy-arrowhead\" d=\"M6130.0,879.0 L6138.0,867.0 6122.0,867.0\" fill=\"currentColor\"/>\n</g>\n\n<g class=\"displacy-arrow\">\n    <path class=\"displacy-arc\" d=\"M6195,877.0 C6195,789.5 6305.0,789.5 6305.0,877.0\" fill=\"none\" id=\"arrow-bc18b76d4420462db18ea0f7021efde5-0-33\" stroke=\"currentColor\" stroke-width=\"2px\"/>\n    <text dy=\"1.25em\" style=\"font-size: 0.8em; letter-spacing: 1px\">\n        <textPath class=\"displacy-label\" fill=\"currentColor\" side=\"left\" startOffset=\"50%\" text-anchor=\"middle\" xlink:href=\"#arrow-bc18b76d4420462db18ea0f7021efde5-0-33\">amod</textPath>\n    </text>\n    <path class=\"displacy-arrowhead\" d=\"M6305.0,879.0 L6313.0,867.0 6297.0,867.0\" fill=\"currentColor\"/>\n</g>\n\n<g class=\"displacy-arrow\">\n    <path class=\"displacy-arc\" d=\"M6545,877.0 C6545,789.5 6655.0,789.5 6655.0,877.0\" fill=\"none\" id=\"arrow-bc18b76d4420462db18ea0f7021efde5-0-34\" stroke=\"currentColor\" stroke-width=\"2px\"/>\n    <text dy=\"1.25em\" style=\"font-size: 0.8em; letter-spacing: 1px\">\n        <textPath class=\"displacy-label\" fill=\"currentColor\" side=\"left\" startOffset=\"50%\" text-anchor=\"middle\" xlink:href=\"#arrow-bc18b76d4420462db18ea0f7021efde5-0-34\">case</textPath>\n    </text>\n    <path class=\"displacy-arrowhead\" d=\"M6545,879.0 L6537,867.0 6553,867.0\" fill=\"currentColor\"/>\n</g>\n\n<g class=\"displacy-arrow\">\n    <path class=\"displacy-arc\" d=\"M6020,877.0 C6020,527.0 6670.0,527.0 6670.0,877.0\" fill=\"none\" id=\"arrow-bc18b76d4420462db18ea0f7021efde5-0-35\" stroke=\"currentColor\" stroke-width=\"2px\"/>\n    <text dy=\"1.25em\" style=\"font-size: 0.8em; letter-spacing: 1px\">\n        <textPath class=\"displacy-label\" fill=\"currentColor\" side=\"left\" startOffset=\"50%\" text-anchor=\"middle\" xlink:href=\"#arrow-bc18b76d4420462db18ea0f7021efde5-0-35\">obl</textPath>\n    </text>\n    <path class=\"displacy-arrowhead\" d=\"M6670.0,879.0 L6678.0,867.0 6662.0,867.0\" fill=\"currentColor\"/>\n</g>\n\n<g class=\"displacy-arrow\">\n    <path class=\"displacy-arc\" d=\"M6720,877.0 C6720,789.5 6830.0,789.5 6830.0,877.0\" fill=\"none\" id=\"arrow-bc18b76d4420462db18ea0f7021efde5-0-36\" stroke=\"currentColor\" stroke-width=\"2px\"/>\n    <text dy=\"1.25em\" style=\"font-size: 0.8em; letter-spacing: 1px\">\n        <textPath class=\"displacy-label\" fill=\"currentColor\" side=\"left\" startOffset=\"50%\" text-anchor=\"middle\" xlink:href=\"#arrow-bc18b76d4420462db18ea0f7021efde5-0-36\">flat:name</textPath>\n    </text>\n    <path class=\"displacy-arrowhead\" d=\"M6830.0,879.0 L6838.0,867.0 6822.0,867.0\" fill=\"currentColor\"/>\n</g>\n\n<g class=\"displacy-arrow\">\n    <path class=\"displacy-arc\" d=\"M6720,877.0 C6720,702.0 7010.0,702.0 7010.0,877.0\" fill=\"none\" id=\"arrow-bc18b76d4420462db18ea0f7021efde5-0-37\" stroke=\"currentColor\" stroke-width=\"2px\"/>\n    <text dy=\"1.25em\" style=\"font-size: 0.8em; letter-spacing: 1px\">\n        <textPath class=\"displacy-label\" fill=\"currentColor\" side=\"left\" startOffset=\"50%\" text-anchor=\"middle\" xlink:href=\"#arrow-bc18b76d4420462db18ea0f7021efde5-0-37\">flat:name</textPath>\n    </text>\n    <path class=\"displacy-arrowhead\" d=\"M7010.0,879.0 L7018.0,867.0 7002.0,867.0\" fill=\"currentColor\"/>\n</g>\n\n<g class=\"displacy-arrow\">\n    <path class=\"displacy-arc\" d=\"M7245,877.0 C7245,702.0 7535.0,702.0 7535.0,877.0\" fill=\"none\" id=\"arrow-bc18b76d4420462db18ea0f7021efde5-0-38\" stroke=\"currentColor\" stroke-width=\"2px\"/>\n    <text dy=\"1.25em\" style=\"font-size: 0.8em; letter-spacing: 1px\">\n        <textPath class=\"displacy-label\" fill=\"currentColor\" side=\"left\" startOffset=\"50%\" text-anchor=\"middle\" xlink:href=\"#arrow-bc18b76d4420462db18ea0f7021efde5-0-38\">det</textPath>\n    </text>\n    <path class=\"displacy-arrowhead\" d=\"M7245,879.0 L7237,867.0 7253,867.0\" fill=\"currentColor\"/>\n</g>\n\n<g class=\"displacy-arrow\">\n    <path class=\"displacy-arc\" d=\"M7420,877.0 C7420,789.5 7530.0,789.5 7530.0,877.0\" fill=\"none\" id=\"arrow-bc18b76d4420462db18ea0f7021efde5-0-39\" stroke=\"currentColor\" stroke-width=\"2px\"/>\n    <text dy=\"1.25em\" style=\"font-size: 0.8em; letter-spacing: 1px\">\n        <textPath class=\"displacy-label\" fill=\"currentColor\" side=\"left\" startOffset=\"50%\" text-anchor=\"middle\" xlink:href=\"#arrow-bc18b76d4420462db18ea0f7021efde5-0-39\">det</textPath>\n    </text>\n    <path class=\"displacy-arrowhead\" d=\"M7420,879.0 L7412,867.0 7428,867.0\" fill=\"currentColor\"/>\n</g>\n\n<g class=\"displacy-arrow\">\n    <path class=\"displacy-arc\" d=\"M7595,877.0 C7595,702.0 7885.0,702.0 7885.0,877.0\" fill=\"none\" id=\"arrow-bc18b76d4420462db18ea0f7021efde5-0-40\" stroke=\"currentColor\" stroke-width=\"2px\"/>\n    <text dy=\"1.25em\" style=\"font-size: 0.8em; letter-spacing: 1px\">\n        <textPath class=\"displacy-label\" fill=\"currentColor\" side=\"left\" startOffset=\"50%\" text-anchor=\"middle\" xlink:href=\"#arrow-bc18b76d4420462db18ea0f7021efde5-0-40\">nsubj</textPath>\n    </text>\n    <path class=\"displacy-arrowhead\" d=\"M7595,879.0 L7587,867.0 7603,867.0\" fill=\"currentColor\"/>\n</g>\n\n<g class=\"displacy-arrow\">\n    <path class=\"displacy-arc\" d=\"M7770,877.0 C7770,789.5 7880.0,789.5 7880.0,877.0\" fill=\"none\" id=\"arrow-bc18b76d4420462db18ea0f7021efde5-0-41\" stroke=\"currentColor\" stroke-width=\"2px\"/>\n    <text dy=\"1.25em\" style=\"font-size: 0.8em; letter-spacing: 1px\">\n        <textPath class=\"displacy-label\" fill=\"currentColor\" side=\"left\" startOffset=\"50%\" text-anchor=\"middle\" xlink:href=\"#arrow-bc18b76d4420462db18ea0f7021efde5-0-41\">cop</textPath>\n    </text>\n    <path class=\"displacy-arrowhead\" d=\"M7770,879.0 L7762,867.0 7778,867.0\" fill=\"currentColor\"/>\n</g>\n\n<g class=\"displacy-arrow\">\n    <path class=\"displacy-arc\" d=\"M8120,877.0 C8120,789.5 8230.0,789.5 8230.0,877.0\" fill=\"none\" id=\"arrow-bc18b76d4420462db18ea0f7021efde5-0-42\" stroke=\"currentColor\" stroke-width=\"2px\"/>\n    <text dy=\"1.25em\" style=\"font-size: 0.8em; letter-spacing: 1px\">\n        <textPath class=\"displacy-label\" fill=\"currentColor\" side=\"left\" startOffset=\"50%\" text-anchor=\"middle\" xlink:href=\"#arrow-bc18b76d4420462db18ea0f7021efde5-0-42\">case</textPath>\n    </text>\n    <path class=\"displacy-arrowhead\" d=\"M8120,879.0 L8112,867.0 8128,867.0\" fill=\"currentColor\"/>\n</g>\n\n<g class=\"displacy-arrow\">\n    <path class=\"displacy-arc\" d=\"M7945,877.0 C7945,702.0 8235.0,702.0 8235.0,877.0\" fill=\"none\" id=\"arrow-bc18b76d4420462db18ea0f7021efde5-0-43\" stroke=\"currentColor\" stroke-width=\"2px\"/>\n    <text dy=\"1.25em\" style=\"font-size: 0.8em; letter-spacing: 1px\">\n        <textPath class=\"displacy-label\" fill=\"currentColor\" side=\"left\" startOffset=\"50%\" text-anchor=\"middle\" xlink:href=\"#arrow-bc18b76d4420462db18ea0f7021efde5-0-43\">obl</textPath>\n    </text>\n    <path class=\"displacy-arrowhead\" d=\"M8235.0,879.0 L8243.0,867.0 8227.0,867.0\" fill=\"currentColor\"/>\n</g>\n\n<g class=\"displacy-arrow\">\n    <path class=\"displacy-arc\" d=\"M8470,877.0 C8470,789.5 8580.0,789.5 8580.0,877.0\" fill=\"none\" id=\"arrow-bc18b76d4420462db18ea0f7021efde5-0-44\" stroke=\"currentColor\" stroke-width=\"2px\"/>\n    <text dy=\"1.25em\" style=\"font-size: 0.8em; letter-spacing: 1px\">\n        <textPath class=\"displacy-label\" fill=\"currentColor\" side=\"left\" startOffset=\"50%\" text-anchor=\"middle\" xlink:href=\"#arrow-bc18b76d4420462db18ea0f7021efde5-0-44\">cc</textPath>\n    </text>\n    <path class=\"displacy-arrowhead\" d=\"M8470,879.0 L8462,867.0 8478,867.0\" fill=\"currentColor\"/>\n</g>\n\n<g class=\"displacy-arrow\">\n    <path class=\"displacy-arc\" d=\"M8295,877.0 C8295,702.0 8585.0,702.0 8585.0,877.0\" fill=\"none\" id=\"arrow-bc18b76d4420462db18ea0f7021efde5-0-45\" stroke=\"currentColor\" stroke-width=\"2px\"/>\n    <text dy=\"1.25em\" style=\"font-size: 0.8em; letter-spacing: 1px\">\n        <textPath class=\"displacy-label\" fill=\"currentColor\" side=\"left\" startOffset=\"50%\" text-anchor=\"middle\" xlink:href=\"#arrow-bc18b76d4420462db18ea0f7021efde5-0-45\">conj</textPath>\n    </text>\n    <path class=\"displacy-arrowhead\" d=\"M8585.0,879.0 L8593.0,867.0 8577.0,867.0\" fill=\"currentColor\"/>\n</g>\n\n<g class=\"displacy-arrow\">\n    <path class=\"displacy-arc\" d=\"M8820,877.0 C8820,702.0 9110.0,702.0 9110.0,877.0\" fill=\"none\" id=\"arrow-bc18b76d4420462db18ea0f7021efde5-0-46\" stroke=\"currentColor\" stroke-width=\"2px\"/>\n    <text dy=\"1.25em\" style=\"font-size: 0.8em; letter-spacing: 1px\">\n        <textPath class=\"displacy-label\" fill=\"currentColor\" side=\"left\" startOffset=\"50%\" text-anchor=\"middle\" xlink:href=\"#arrow-bc18b76d4420462db18ea0f7021efde5-0-46\">case</textPath>\n    </text>\n    <path class=\"displacy-arrowhead\" d=\"M8820,879.0 L8812,867.0 8828,867.0\" fill=\"currentColor\"/>\n</g>\n\n<g class=\"displacy-arrow\">\n    <path class=\"displacy-arc\" d=\"M8995,877.0 C8995,789.5 9105.0,789.5 9105.0,877.0\" fill=\"none\" id=\"arrow-bc18b76d4420462db18ea0f7021efde5-0-47\" stroke=\"currentColor\" stroke-width=\"2px\"/>\n    <text dy=\"1.25em\" style=\"font-size: 0.8em; letter-spacing: 1px\">\n        <textPath class=\"displacy-label\" fill=\"currentColor\" side=\"left\" startOffset=\"50%\" text-anchor=\"middle\" xlink:href=\"#arrow-bc18b76d4420462db18ea0f7021efde5-0-47\">det</textPath>\n    </text>\n    <path class=\"displacy-arrowhead\" d=\"M8995,879.0 L8987,867.0 9003,867.0\" fill=\"currentColor\"/>\n</g>\n\n<g class=\"displacy-arrow\">\n    <path class=\"displacy-arc\" d=\"M7945,877.0 C7945,264.5 9135.0,264.5 9135.0,877.0\" fill=\"none\" id=\"arrow-bc18b76d4420462db18ea0f7021efde5-0-48\" stroke=\"currentColor\" stroke-width=\"2px\"/>\n    <text dy=\"1.25em\" style=\"font-size: 0.8em; letter-spacing: 1px\">\n        <textPath class=\"displacy-label\" fill=\"currentColor\" side=\"left\" startOffset=\"50%\" text-anchor=\"middle\" xlink:href=\"#arrow-bc18b76d4420462db18ea0f7021efde5-0-48\">obl</textPath>\n    </text>\n    <path class=\"displacy-arrowhead\" d=\"M9135.0,879.0 L9143.0,867.0 9127.0,867.0\" fill=\"currentColor\"/>\n</g>\n\n<g class=\"displacy-arrow\">\n    <path class=\"displacy-arc\" d=\"M9170,877.0 C9170,789.5 9280.0,789.5 9280.0,877.0\" fill=\"none\" id=\"arrow-bc18b76d4420462db18ea0f7021efde5-0-49\" stroke=\"currentColor\" stroke-width=\"2px\"/>\n    <text dy=\"1.25em\" style=\"font-size: 0.8em; letter-spacing: 1px\">\n        <textPath class=\"displacy-label\" fill=\"currentColor\" side=\"left\" startOffset=\"50%\" text-anchor=\"middle\" xlink:href=\"#arrow-bc18b76d4420462db18ea0f7021efde5-0-49\">acl</textPath>\n    </text>\n    <path class=\"displacy-arrowhead\" d=\"M9280.0,879.0 L9288.0,867.0 9272.0,867.0\" fill=\"currentColor\"/>\n</g>\n\n<g class=\"displacy-arrow\">\n    <path class=\"displacy-arc\" d=\"M9345,877.0 C9345,789.5 9455.0,789.5 9455.0,877.0\" fill=\"none\" id=\"arrow-bc18b76d4420462db18ea0f7021efde5-0-50\" stroke=\"currentColor\" stroke-width=\"2px\"/>\n    <text dy=\"1.25em\" style=\"font-size: 0.8em; letter-spacing: 1px\">\n        <textPath class=\"displacy-label\" fill=\"currentColor\" side=\"left\" startOffset=\"50%\" text-anchor=\"middle\" xlink:href=\"#arrow-bc18b76d4420462db18ea0f7021efde5-0-50\">obj</textPath>\n    </text>\n    <path class=\"displacy-arrowhead\" d=\"M9455.0,879.0 L9463.0,867.0 9447.0,867.0\" fill=\"currentColor\"/>\n</g>\n\n<g class=\"displacy-arrow\">\n    <path class=\"displacy-arc\" d=\"M9870,877.0 C9870,789.5 9980.0,789.5 9980.0,877.0\" fill=\"none\" id=\"arrow-bc18b76d4420462db18ea0f7021efde5-0-51\" stroke=\"currentColor\" stroke-width=\"2px\"/>\n    <text dy=\"1.25em\" style=\"font-size: 0.8em; letter-spacing: 1px\">\n        <textPath class=\"displacy-label\" fill=\"currentColor\" side=\"left\" startOffset=\"50%\" text-anchor=\"middle\" xlink:href=\"#arrow-bc18b76d4420462db18ea0f7021efde5-0-51\">det</textPath>\n    </text>\n    <path class=\"displacy-arrowhead\" d=\"M9870,879.0 L9862,867.0 9878,867.0\" fill=\"currentColor\"/>\n</g>\n\n<g class=\"displacy-arrow\">\n    <path class=\"displacy-arc\" d=\"M9695,877.0 C9695,702.0 9985.0,702.0 9985.0,877.0\" fill=\"none\" id=\"arrow-bc18b76d4420462db18ea0f7021efde5-0-52\" stroke=\"currentColor\" stroke-width=\"2px\"/>\n    <text dy=\"1.25em\" style=\"font-size: 0.8em; letter-spacing: 1px\">\n        <textPath class=\"displacy-label\" fill=\"currentColor\" side=\"left\" startOffset=\"50%\" text-anchor=\"middle\" xlink:href=\"#arrow-bc18b76d4420462db18ea0f7021efde5-0-52\">obj</textPath>\n    </text>\n    <path class=\"displacy-arrowhead\" d=\"M9985.0,879.0 L9993.0,867.0 9977.0,867.0\" fill=\"currentColor\"/>\n</g>\n\n<g class=\"displacy-arrow\">\n    <path class=\"displacy-arc\" d=\"M10045,877.0 C10045,789.5 10155.0,789.5 10155.0,877.0\" fill=\"none\" id=\"arrow-bc18b76d4420462db18ea0f7021efde5-0-53\" stroke=\"currentColor\" stroke-width=\"2px\"/>\n    <text dy=\"1.25em\" style=\"font-size: 0.8em; letter-spacing: 1px\">\n        <textPath class=\"displacy-label\" fill=\"currentColor\" side=\"left\" startOffset=\"50%\" text-anchor=\"middle\" xlink:href=\"#arrow-bc18b76d4420462db18ea0f7021efde5-0-53\">amod</textPath>\n    </text>\n    <path class=\"displacy-arrowhead\" d=\"M10155.0,879.0 L10163.0,867.0 10147.0,867.0\" fill=\"currentColor\"/>\n</g>\n\n<g class=\"displacy-arrow\">\n    <path class=\"displacy-arc\" d=\"M10395,877.0 C10395,789.5 10505.0,789.5 10505.0,877.0\" fill=\"none\" id=\"arrow-bc18b76d4420462db18ea0f7021efde5-0-54\" stroke=\"currentColor\" stroke-width=\"2px\"/>\n    <text dy=\"1.25em\" style=\"font-size: 0.8em; letter-spacing: 1px\">\n        <textPath class=\"displacy-label\" fill=\"currentColor\" side=\"left\" startOffset=\"50%\" text-anchor=\"middle\" xlink:href=\"#arrow-bc18b76d4420462db18ea0f7021efde5-0-54\">cc</textPath>\n    </text>\n    <path class=\"displacy-arrowhead\" d=\"M10395,879.0 L10387,867.0 10403,867.0\" fill=\"currentColor\"/>\n</g>\n\n<g class=\"displacy-arrow\">\n    <path class=\"displacy-arc\" d=\"M10220,877.0 C10220,702.0 10510.0,702.0 10510.0,877.0\" fill=\"none\" id=\"arrow-bc18b76d4420462db18ea0f7021efde5-0-55\" stroke=\"currentColor\" stroke-width=\"2px\"/>\n    <text dy=\"1.25em\" style=\"font-size: 0.8em; letter-spacing: 1px\">\n        <textPath class=\"displacy-label\" fill=\"currentColor\" side=\"left\" startOffset=\"50%\" text-anchor=\"middle\" xlink:href=\"#arrow-bc18b76d4420462db18ea0f7021efde5-0-55\">conj</textPath>\n    </text>\n    <path class=\"displacy-arrowhead\" d=\"M10510.0,879.0 L10518.0,867.0 10502.0,867.0\" fill=\"currentColor\"/>\n</g>\n\n<g class=\"displacy-arrow\">\n    <path class=\"displacy-arc\" d=\"M10745,877.0 C10745,702.0 11035.0,702.0 11035.0,877.0\" fill=\"none\" id=\"arrow-bc18b76d4420462db18ea0f7021efde5-0-56\" stroke=\"currentColor\" stroke-width=\"2px\"/>\n    <text dy=\"1.25em\" style=\"font-size: 0.8em; letter-spacing: 1px\">\n        <textPath class=\"displacy-label\" fill=\"currentColor\" side=\"left\" startOffset=\"50%\" text-anchor=\"middle\" xlink:href=\"#arrow-bc18b76d4420462db18ea0f7021efde5-0-56\">case</textPath>\n    </text>\n    <path class=\"displacy-arrowhead\" d=\"M10745,879.0 L10737,867.0 10753,867.0\" fill=\"currentColor\"/>\n</g>\n\n<g class=\"displacy-arrow\">\n    <path class=\"displacy-arc\" d=\"M10920,877.0 C10920,789.5 11030.0,789.5 11030.0,877.0\" fill=\"none\" id=\"arrow-bc18b76d4420462db18ea0f7021efde5-0-57\" stroke=\"currentColor\" stroke-width=\"2px\"/>\n    <text dy=\"1.25em\" style=\"font-size: 0.8em; letter-spacing: 1px\">\n        <textPath class=\"displacy-label\" fill=\"currentColor\" side=\"left\" startOffset=\"50%\" text-anchor=\"middle\" xlink:href=\"#arrow-bc18b76d4420462db18ea0f7021efde5-0-57\">det</textPath>\n    </text>\n    <path class=\"displacy-arrowhead\" d=\"M10920,879.0 L10912,867.0 10928,867.0\" fill=\"currentColor\"/>\n</g>\n\n<g class=\"displacy-arrow\">\n    <path class=\"displacy-arc\" d=\"M10045,877.0 C10045,352.0 11055.0,352.0 11055.0,877.0\" fill=\"none\" id=\"arrow-bc18b76d4420462db18ea0f7021efde5-0-58\" stroke=\"currentColor\" stroke-width=\"2px\"/>\n    <text dy=\"1.25em\" style=\"font-size: 0.8em; letter-spacing: 1px\">\n        <textPath class=\"displacy-label\" fill=\"currentColor\" side=\"left\" startOffset=\"50%\" text-anchor=\"middle\" xlink:href=\"#arrow-bc18b76d4420462db18ea0f7021efde5-0-58\">nmod</textPath>\n    </text>\n    <path class=\"displacy-arrowhead\" d=\"M11055.0,879.0 L11063.0,867.0 11047.0,867.0\" fill=\"currentColor\"/>\n</g>\n\n<g class=\"displacy-arrow\">\n    <path class=\"displacy-arc\" d=\"M11095,877.0 C11095,789.5 11205.0,789.5 11205.0,877.0\" fill=\"none\" id=\"arrow-bc18b76d4420462db18ea0f7021efde5-0-59\" stroke=\"currentColor\" stroke-width=\"2px\"/>\n    <text dy=\"1.25em\" style=\"font-size: 0.8em; letter-spacing: 1px\">\n        <textPath class=\"displacy-label\" fill=\"currentColor\" side=\"left\" startOffset=\"50%\" text-anchor=\"middle\" xlink:href=\"#arrow-bc18b76d4420462db18ea0f7021efde5-0-59\">amod</textPath>\n    </text>\n    <path class=\"displacy-arrowhead\" d=\"M11205.0,879.0 L11213.0,867.0 11197.0,867.0\" fill=\"currentColor\"/>\n</g>\n\n<g class=\"displacy-arrow\">\n    <path class=\"displacy-arc\" d=\"M11445,877.0 C11445,789.5 11555.0,789.5 11555.0,877.0\" fill=\"none\" id=\"arrow-bc18b76d4420462db18ea0f7021efde5-0-60\" stroke=\"currentColor\" stroke-width=\"2px\"/>\n    <text dy=\"1.25em\" style=\"font-size: 0.8em; letter-spacing: 1px\">\n        <textPath class=\"displacy-label\" fill=\"currentColor\" side=\"left\" startOffset=\"50%\" text-anchor=\"middle\" xlink:href=\"#arrow-bc18b76d4420462db18ea0f7021efde5-0-60\">case</textPath>\n    </text>\n    <path class=\"displacy-arrowhead\" d=\"M11445,879.0 L11437,867.0 11453,867.0\" fill=\"currentColor\"/>\n</g>\n\n<g class=\"displacy-arrow\">\n    <path class=\"displacy-arc\" d=\"M11095,877.0 C11095,614.5 11565.0,614.5 11565.0,877.0\" fill=\"none\" id=\"arrow-bc18b76d4420462db18ea0f7021efde5-0-61\" stroke=\"currentColor\" stroke-width=\"2px\"/>\n    <text dy=\"1.25em\" style=\"font-size: 0.8em; letter-spacing: 1px\">\n        <textPath class=\"displacy-label\" fill=\"currentColor\" side=\"left\" startOffset=\"50%\" text-anchor=\"middle\" xlink:href=\"#arrow-bc18b76d4420462db18ea0f7021efde5-0-61\">nmod</textPath>\n    </text>\n    <path class=\"displacy-arrowhead\" d=\"M11565.0,879.0 L11573.0,867.0 11557.0,867.0\" fill=\"currentColor\"/>\n</g>\n\n<g class=\"displacy-arrow\">\n    <path class=\"displacy-arc\" d=\"M11620,877.0 C11620,789.5 11730.0,789.5 11730.0,877.0\" fill=\"none\" id=\"arrow-bc18b76d4420462db18ea0f7021efde5-0-62\" stroke=\"currentColor\" stroke-width=\"2px\"/>\n    <text dy=\"1.25em\" style=\"font-size: 0.8em; letter-spacing: 1px\">\n        <textPath class=\"displacy-label\" fill=\"currentColor\" side=\"left\" startOffset=\"50%\" text-anchor=\"middle\" xlink:href=\"#arrow-bc18b76d4420462db18ea0f7021efde5-0-62\">flat:name</textPath>\n    </text>\n    <path class=\"displacy-arrowhead\" d=\"M11730.0,879.0 L11738.0,867.0 11722.0,867.0\" fill=\"currentColor\"/>\n</g>\n\n<g class=\"displacy-arrow\">\n    <path class=\"displacy-arc\" d=\"M11970,877.0 C11970,789.5 12080.0,789.5 12080.0,877.0\" fill=\"none\" id=\"arrow-bc18b76d4420462db18ea0f7021efde5-0-63\" stroke=\"currentColor\" stroke-width=\"2px\"/>\n    <text dy=\"1.25em\" style=\"font-size: 0.8em; letter-spacing: 1px\">\n        <textPath class=\"displacy-label\" fill=\"currentColor\" side=\"left\" startOffset=\"50%\" text-anchor=\"middle\" xlink:href=\"#arrow-bc18b76d4420462db18ea0f7021efde5-0-63\">case</textPath>\n    </text>\n    <path class=\"displacy-arrowhead\" d=\"M11970,879.0 L11962,867.0 11978,867.0\" fill=\"currentColor\"/>\n</g>\n\n<g class=\"displacy-arrow\">\n    <path class=\"displacy-arc\" d=\"M9695,877.0 C9695,89.5 12120.0,89.5 12120.0,877.0\" fill=\"none\" id=\"arrow-bc18b76d4420462db18ea0f7021efde5-0-64\" stroke=\"currentColor\" stroke-width=\"2px\"/>\n    <text dy=\"1.25em\" style=\"font-size: 0.8em; letter-spacing: 1px\">\n        <textPath class=\"displacy-label\" fill=\"currentColor\" side=\"left\" startOffset=\"50%\" text-anchor=\"middle\" xlink:href=\"#arrow-bc18b76d4420462db18ea0f7021efde5-0-64\">obl</textPath>\n    </text>\n    <path class=\"displacy-arrowhead\" d=\"M12120.0,879.0 L12128.0,867.0 12112.0,867.0\" fill=\"currentColor\"/>\n</g>\n\n<g class=\"displacy-arrow\">\n    <path class=\"displacy-arc\" d=\"M12320,877.0 C12320,789.5 12430.0,789.5 12430.0,877.0\" fill=\"none\" id=\"arrow-bc18b76d4420462db18ea0f7021efde5-0-65\" stroke=\"currentColor\" stroke-width=\"2px\"/>\n    <text dy=\"1.25em\" style=\"font-size: 0.8em; letter-spacing: 1px\">\n        <textPath class=\"displacy-label\" fill=\"currentColor\" side=\"left\" startOffset=\"50%\" text-anchor=\"middle\" xlink:href=\"#arrow-bc18b76d4420462db18ea0f7021efde5-0-65\">case</textPath>\n    </text>\n    <path class=\"displacy-arrowhead\" d=\"M12320,879.0 L12312,867.0 12328,867.0\" fill=\"currentColor\"/>\n</g>\n\n<g class=\"displacy-arrow\">\n    <path class=\"displacy-arc\" d=\"M12145,877.0 C12145,702.0 12435.0,702.0 12435.0,877.0\" fill=\"none\" id=\"arrow-bc18b76d4420462db18ea0f7021efde5-0-66\" stroke=\"currentColor\" stroke-width=\"2px\"/>\n    <text dy=\"1.25em\" style=\"font-size: 0.8em; letter-spacing: 1px\">\n        <textPath class=\"displacy-label\" fill=\"currentColor\" side=\"left\" startOffset=\"50%\" text-anchor=\"middle\" xlink:href=\"#arrow-bc18b76d4420462db18ea0f7021efde5-0-66\">nmod</textPath>\n    </text>\n    <path class=\"displacy-arrowhead\" d=\"M12435.0,879.0 L12443.0,867.0 12427.0,867.0\" fill=\"currentColor\"/>\n</g>\n\n<g class=\"displacy-arrow\">\n    <path class=\"displacy-arc\" d=\"M12670,877.0 C12670,789.5 12780.0,789.5 12780.0,877.0\" fill=\"none\" id=\"arrow-bc18b76d4420462db18ea0f7021efde5-0-67\" stroke=\"currentColor\" stroke-width=\"2px\"/>\n    <text dy=\"1.25em\" style=\"font-size: 0.8em; letter-spacing: 1px\">\n        <textPath class=\"displacy-label\" fill=\"currentColor\" side=\"left\" startOffset=\"50%\" text-anchor=\"middle\" xlink:href=\"#arrow-bc18b76d4420462db18ea0f7021efde5-0-67\">advmod</textPath>\n    </text>\n    <path class=\"displacy-arrowhead\" d=\"M12780.0,879.0 L12788.0,867.0 12772.0,867.0\" fill=\"currentColor\"/>\n</g>\n\n<g class=\"displacy-arrow\">\n    <path class=\"displacy-arc\" d=\"M12670,877.0 C12670,702.0 12960.0,702.0 12960.0,877.0\" fill=\"none\" id=\"arrow-bc18b76d4420462db18ea0f7021efde5-0-68\" stroke=\"currentColor\" stroke-width=\"2px\"/>\n    <text dy=\"1.25em\" style=\"font-size: 0.8em; letter-spacing: 1px\">\n        <textPath class=\"displacy-label\" fill=\"currentColor\" side=\"left\" startOffset=\"50%\" text-anchor=\"middle\" xlink:href=\"#arrow-bc18b76d4420462db18ea0f7021efde5-0-68\">obj</textPath>\n    </text>\n    <path class=\"displacy-arrowhead\" d=\"M12960.0,879.0 L12968.0,867.0 12952.0,867.0\" fill=\"currentColor\"/>\n</g>\n\n<g class=\"displacy-arrow\">\n    <path class=\"displacy-arc\" d=\"M13020,877.0 C13020,789.5 13130.0,789.5 13130.0,877.0\" fill=\"none\" id=\"arrow-bc18b76d4420462db18ea0f7021efde5-0-69\" stroke=\"currentColor\" stroke-width=\"2px\"/>\n    <text dy=\"1.25em\" style=\"font-size: 0.8em; letter-spacing: 1px\">\n        <textPath class=\"displacy-label\" fill=\"currentColor\" side=\"left\" startOffset=\"50%\" text-anchor=\"middle\" xlink:href=\"#arrow-bc18b76d4420462db18ea0f7021efde5-0-69\">acl</textPath>\n    </text>\n    <path class=\"displacy-arrowhead\" d=\"M13130.0,879.0 L13138.0,867.0 13122.0,867.0\" fill=\"currentColor\"/>\n</g>\n\n<g class=\"displacy-arrow\">\n    <path class=\"displacy-arc\" d=\"M13370,877.0 C13370,702.0 13660.0,702.0 13660.0,877.0\" fill=\"none\" id=\"arrow-bc18b76d4420462db18ea0f7021efde5-0-70\" stroke=\"currentColor\" stroke-width=\"2px\"/>\n    <text dy=\"1.25em\" style=\"font-size: 0.8em; letter-spacing: 1px\">\n        <textPath class=\"displacy-label\" fill=\"currentColor\" side=\"left\" startOffset=\"50%\" text-anchor=\"middle\" xlink:href=\"#arrow-bc18b76d4420462db18ea0f7021efde5-0-70\">case</textPath>\n    </text>\n    <path class=\"displacy-arrowhead\" d=\"M13370,879.0 L13362,867.0 13378,867.0\" fill=\"currentColor\"/>\n</g>\n\n<g class=\"displacy-arrow\">\n    <path class=\"displacy-arc\" d=\"M13545,877.0 C13545,789.5 13655.0,789.5 13655.0,877.0\" fill=\"none\" id=\"arrow-bc18b76d4420462db18ea0f7021efde5-0-71\" stroke=\"currentColor\" stroke-width=\"2px\"/>\n    <text dy=\"1.25em\" style=\"font-size: 0.8em; letter-spacing: 1px\">\n        <textPath class=\"displacy-label\" fill=\"currentColor\" side=\"left\" startOffset=\"50%\" text-anchor=\"middle\" xlink:href=\"#arrow-bc18b76d4420462db18ea0f7021efde5-0-71\">det</textPath>\n    </text>\n    <path class=\"displacy-arrowhead\" d=\"M13545,879.0 L13537,867.0 13553,867.0\" fill=\"currentColor\"/>\n</g>\n\n<g class=\"displacy-arrow\">\n    <path class=\"displacy-arc\" d=\"M13195,877.0 C13195,614.5 13665.0,614.5 13665.0,877.0\" fill=\"none\" id=\"arrow-bc18b76d4420462db18ea0f7021efde5-0-72\" stroke=\"currentColor\" stroke-width=\"2px\"/>\n    <text dy=\"1.25em\" style=\"font-size: 0.8em; letter-spacing: 1px\">\n        <textPath class=\"displacy-label\" fill=\"currentColor\" side=\"left\" startOffset=\"50%\" text-anchor=\"middle\" xlink:href=\"#arrow-bc18b76d4420462db18ea0f7021efde5-0-72\">obj</textPath>\n    </text>\n    <path class=\"displacy-arrowhead\" d=\"M13665.0,879.0 L13673.0,867.0 13657.0,867.0\" fill=\"currentColor\"/>\n</g>\n\n<g class=\"displacy-arrow\">\n    <path class=\"displacy-arc\" d=\"M13720,877.0 C13720,789.5 13830.0,789.5 13830.0,877.0\" fill=\"none\" id=\"arrow-bc18b76d4420462db18ea0f7021efde5-0-73\" stroke=\"currentColor\" stroke-width=\"2px\"/>\n    <text dy=\"1.25em\" style=\"font-size: 0.8em; letter-spacing: 1px\">\n        <textPath class=\"displacy-label\" fill=\"currentColor\" side=\"left\" startOffset=\"50%\" text-anchor=\"middle\" xlink:href=\"#arrow-bc18b76d4420462db18ea0f7021efde5-0-73\">amod</textPath>\n    </text>\n    <path class=\"displacy-arrowhead\" d=\"M13830.0,879.0 L13838.0,867.0 13822.0,867.0\" fill=\"currentColor\"/>\n</g>\n\n<g class=\"displacy-arrow\">\n    <path class=\"displacy-arc\" d=\"M14070,877.0 C14070,789.5 14180.0,789.5 14180.0,877.0\" fill=\"none\" id=\"arrow-bc18b76d4420462db18ea0f7021efde5-0-74\" stroke=\"currentColor\" stroke-width=\"2px\"/>\n    <text dy=\"1.25em\" style=\"font-size: 0.8em; letter-spacing: 1px\">\n        <textPath class=\"displacy-label\" fill=\"currentColor\" side=\"left\" startOffset=\"50%\" text-anchor=\"middle\" xlink:href=\"#arrow-bc18b76d4420462db18ea0f7021efde5-0-74\">case</textPath>\n    </text>\n    <path class=\"displacy-arrowhead\" d=\"M14070,879.0 L14062,867.0 14078,867.0\" fill=\"currentColor\"/>\n</g>\n\n<g class=\"displacy-arrow\">\n    <path class=\"displacy-arc\" d=\"M13720,877.0 C13720,614.5 14190.0,614.5 14190.0,877.0\" fill=\"none\" id=\"arrow-bc18b76d4420462db18ea0f7021efde5-0-75\" stroke=\"currentColor\" stroke-width=\"2px\"/>\n    <text dy=\"1.25em\" style=\"font-size: 0.8em; letter-spacing: 1px\">\n        <textPath class=\"displacy-label\" fill=\"currentColor\" side=\"left\" startOffset=\"50%\" text-anchor=\"middle\" xlink:href=\"#arrow-bc18b76d4420462db18ea0f7021efde5-0-75\">nmod</textPath>\n    </text>\n    <path class=\"displacy-arrowhead\" d=\"M14190.0,879.0 L14198.0,867.0 14182.0,867.0\" fill=\"currentColor\"/>\n</g>\n\n<g class=\"displacy-arrow\">\n    <path class=\"displacy-arc\" d=\"M14420,877.0 C14420,789.5 14530.0,789.5 14530.0,877.0\" fill=\"none\" id=\"arrow-bc18b76d4420462db18ea0f7021efde5-0-76\" stroke=\"currentColor\" stroke-width=\"2px\"/>\n    <text dy=\"1.25em\" style=\"font-size: 0.8em; letter-spacing: 1px\">\n        <textPath class=\"displacy-label\" fill=\"currentColor\" side=\"left\" startOffset=\"50%\" text-anchor=\"middle\" xlink:href=\"#arrow-bc18b76d4420462db18ea0f7021efde5-0-76\">case</textPath>\n    </text>\n    <path class=\"displacy-arrowhead\" d=\"M14420,879.0 L14412,867.0 14428,867.0\" fill=\"currentColor\"/>\n</g>\n\n<g class=\"displacy-arrow\">\n    <path class=\"displacy-arc\" d=\"M14595,877.0 C14595,789.5 14705.0,789.5 14705.0,877.0\" fill=\"none\" id=\"arrow-bc18b76d4420462db18ea0f7021efde5-0-77\" stroke=\"currentColor\" stroke-width=\"2px\"/>\n    <text dy=\"1.25em\" style=\"font-size: 0.8em; letter-spacing: 1px\">\n        <textPath class=\"displacy-label\" fill=\"currentColor\" side=\"left\" startOffset=\"50%\" text-anchor=\"middle\" xlink:href=\"#arrow-bc18b76d4420462db18ea0f7021efde5-0-77\">advmod</textPath>\n    </text>\n    <path class=\"displacy-arrowhead\" d=\"M14595,879.0 L14587,867.0 14603,867.0\" fill=\"currentColor\"/>\n</g>\n\n<g class=\"displacy-arrow\">\n    <path class=\"displacy-arc\" d=\"M13720,877.0 C13720,352.0 14730.0,352.0 14730.0,877.0\" fill=\"none\" id=\"arrow-bc18b76d4420462db18ea0f7021efde5-0-78\" stroke=\"currentColor\" stroke-width=\"2px\"/>\n    <text dy=\"1.25em\" style=\"font-size: 0.8em; letter-spacing: 1px\">\n        <textPath class=\"displacy-label\" fill=\"currentColor\" side=\"left\" startOffset=\"50%\" text-anchor=\"middle\" xlink:href=\"#arrow-bc18b76d4420462db18ea0f7021efde5-0-78\">appos</textPath>\n    </text>\n    <path class=\"displacy-arrowhead\" d=\"M14730.0,879.0 L14738.0,867.0 14722.0,867.0\" fill=\"currentColor\"/>\n</g>\n\n<g class=\"displacy-arrow\">\n    <path class=\"displacy-arc\" d=\"M14945,877.0 C14945,789.5 15055.0,789.5 15055.0,877.0\" fill=\"none\" id=\"arrow-bc18b76d4420462db18ea0f7021efde5-0-79\" stroke=\"currentColor\" stroke-width=\"2px\"/>\n    <text dy=\"1.25em\" style=\"font-size: 0.8em; letter-spacing: 1px\">\n        <textPath class=\"displacy-label\" fill=\"currentColor\" side=\"left\" startOffset=\"50%\" text-anchor=\"middle\" xlink:href=\"#arrow-bc18b76d4420462db18ea0f7021efde5-0-79\">case</textPath>\n    </text>\n    <path class=\"displacy-arrowhead\" d=\"M14945,879.0 L14937,867.0 14953,867.0\" fill=\"currentColor\"/>\n</g>\n\n<g class=\"displacy-arrow\">\n    <path class=\"displacy-arc\" d=\"M14770,877.0 C14770,702.0 15060.0,702.0 15060.0,877.0\" fill=\"none\" id=\"arrow-bc18b76d4420462db18ea0f7021efde5-0-80\" stroke=\"currentColor\" stroke-width=\"2px\"/>\n    <text dy=\"1.25em\" style=\"font-size: 0.8em; letter-spacing: 1px\">\n        <textPath class=\"displacy-label\" fill=\"currentColor\" side=\"left\" startOffset=\"50%\" text-anchor=\"middle\" xlink:href=\"#arrow-bc18b76d4420462db18ea0f7021efde5-0-80\">nmod</textPath>\n    </text>\n    <path class=\"displacy-arrowhead\" d=\"M15060.0,879.0 L15068.0,867.0 15052.0,867.0\" fill=\"currentColor\"/>\n</g>\n\n<g class=\"displacy-arrow\">\n    <path class=\"displacy-arc\" d=\"M15295,877.0 C15295,789.5 15405.0,789.5 15405.0,877.0\" fill=\"none\" id=\"arrow-bc18b76d4420462db18ea0f7021efde5-0-81\" stroke=\"currentColor\" stroke-width=\"2px\"/>\n    <text dy=\"1.25em\" style=\"font-size: 0.8em; letter-spacing: 1px\">\n        <textPath class=\"displacy-label\" fill=\"currentColor\" side=\"left\" startOffset=\"50%\" text-anchor=\"middle\" xlink:href=\"#arrow-bc18b76d4420462db18ea0f7021efde5-0-81\">case</textPath>\n    </text>\n    <path class=\"displacy-arrowhead\" d=\"M15295,879.0 L15287,867.0 15303,867.0\" fill=\"currentColor\"/>\n</g>\n\n<g class=\"displacy-arrow\">\n    <path class=\"displacy-arc\" d=\"M15120,877.0 C15120,702.0 15410.0,702.0 15410.0,877.0\" fill=\"none\" id=\"arrow-bc18b76d4420462db18ea0f7021efde5-0-82\" stroke=\"currentColor\" stroke-width=\"2px\"/>\n    <text dy=\"1.25em\" style=\"font-size: 0.8em; letter-spacing: 1px\">\n        <textPath class=\"displacy-label\" fill=\"currentColor\" side=\"left\" startOffset=\"50%\" text-anchor=\"middle\" xlink:href=\"#arrow-bc18b76d4420462db18ea0f7021efde5-0-82\">nmod</textPath>\n    </text>\n    <path class=\"displacy-arrowhead\" d=\"M15410.0,879.0 L15418.0,867.0 15402.0,867.0\" fill=\"currentColor\"/>\n</g>\n\n<g class=\"displacy-arrow\">\n    <path class=\"displacy-arc\" d=\"M15645,877.0 C15645,789.5 15755.0,789.5 15755.0,877.0\" fill=\"none\" id=\"arrow-bc18b76d4420462db18ea0f7021efde5-0-83\" stroke=\"currentColor\" stroke-width=\"2px\"/>\n    <text dy=\"1.25em\" style=\"font-size: 0.8em; letter-spacing: 1px\">\n        <textPath class=\"displacy-label\" fill=\"currentColor\" side=\"left\" startOffset=\"50%\" text-anchor=\"middle\" xlink:href=\"#arrow-bc18b76d4420462db18ea0f7021efde5-0-83\">det</textPath>\n    </text>\n    <path class=\"displacy-arrowhead\" d=\"M15645,879.0 L15637,867.0 15653,867.0\" fill=\"currentColor\"/>\n</g>\n\n<g class=\"displacy-arrow\">\n    <path class=\"displacy-arc\" d=\"M15820,877.0 C15820,439.5 16650.0,439.5 16650.0,877.0\" fill=\"none\" id=\"arrow-bc18b76d4420462db18ea0f7021efde5-0-84\" stroke=\"currentColor\" stroke-width=\"2px\"/>\n    <text dy=\"1.25em\" style=\"font-size: 0.8em; letter-spacing: 1px\">\n        <textPath class=\"displacy-label\" fill=\"currentColor\" side=\"left\" startOffset=\"50%\" text-anchor=\"middle\" xlink:href=\"#arrow-bc18b76d4420462db18ea0f7021efde5-0-84\">nsubj:pass</textPath>\n    </text>\n    <path class=\"displacy-arrowhead\" d=\"M15820,879.0 L15812,867.0 15828,867.0\" fill=\"currentColor\"/>\n</g>\n\n<g class=\"displacy-arrow\">\n    <path class=\"displacy-arc\" d=\"M15820,877.0 C15820,789.5 15930.0,789.5 15930.0,877.0\" fill=\"none\" id=\"arrow-bc18b76d4420462db18ea0f7021efde5-0-85\" stroke=\"currentColor\" stroke-width=\"2px\"/>\n    <text dy=\"1.25em\" style=\"font-size: 0.8em; letter-spacing: 1px\">\n        <textPath class=\"displacy-label\" fill=\"currentColor\" side=\"left\" startOffset=\"50%\" text-anchor=\"middle\" xlink:href=\"#arrow-bc18b76d4420462db18ea0f7021efde5-0-85\">amod</textPath>\n    </text>\n    <path class=\"displacy-arrowhead\" d=\"M15930.0,879.0 L15938.0,867.0 15922.0,867.0\" fill=\"currentColor\"/>\n</g>\n\n<g class=\"displacy-arrow\">\n    <path class=\"displacy-arc\" d=\"M16170,877.0 C16170,789.5 16280.0,789.5 16280.0,877.0\" fill=\"none\" id=\"arrow-bc18b76d4420462db18ea0f7021efde5-0-86\" stroke=\"currentColor\" stroke-width=\"2px\"/>\n    <text dy=\"1.25em\" style=\"font-size: 0.8em; letter-spacing: 1px\">\n        <textPath class=\"displacy-label\" fill=\"currentColor\" side=\"left\" startOffset=\"50%\" text-anchor=\"middle\" xlink:href=\"#arrow-bc18b76d4420462db18ea0f7021efde5-0-86\">case</textPath>\n    </text>\n    <path class=\"displacy-arrowhead\" d=\"M16170,879.0 L16162,867.0 16178,867.0\" fill=\"currentColor\"/>\n</g>\n\n<g class=\"displacy-arrow\">\n    <path class=\"displacy-arc\" d=\"M15820,877.0 C15820,614.5 16290.0,614.5 16290.0,877.0\" fill=\"none\" id=\"arrow-bc18b76d4420462db18ea0f7021efde5-0-87\" stroke=\"currentColor\" stroke-width=\"2px\"/>\n    <text dy=\"1.25em\" style=\"font-size: 0.8em; letter-spacing: 1px\">\n        <textPath class=\"displacy-label\" fill=\"currentColor\" side=\"left\" startOffset=\"50%\" text-anchor=\"middle\" xlink:href=\"#arrow-bc18b76d4420462db18ea0f7021efde5-0-87\">nmod</textPath>\n    </text>\n    <path class=\"displacy-arrowhead\" d=\"M16290.0,879.0 L16298.0,867.0 16282.0,867.0\" fill=\"currentColor\"/>\n</g>\n\n<g class=\"displacy-arrow\">\n    <path class=\"displacy-arc\" d=\"M16520,877.0 C16520,789.5 16630.0,789.5 16630.0,877.0\" fill=\"none\" id=\"arrow-bc18b76d4420462db18ea0f7021efde5-0-88\" stroke=\"currentColor\" stroke-width=\"2px\"/>\n    <text dy=\"1.25em\" style=\"font-size: 0.8em; letter-spacing: 1px\">\n        <textPath class=\"displacy-label\" fill=\"currentColor\" side=\"left\" startOffset=\"50%\" text-anchor=\"middle\" xlink:href=\"#arrow-bc18b76d4420462db18ea0f7021efde5-0-88\">aux:pass</textPath>\n    </text>\n    <path class=\"displacy-arrowhead\" d=\"M16520,879.0 L16512,867.0 16528,867.0\" fill=\"currentColor\"/>\n</g>\n\n<g class=\"displacy-arrow\">\n    <path class=\"displacy-arc\" d=\"M16695,877.0 C16695,789.5 16805.0,789.5 16805.0,877.0\" fill=\"none\" id=\"arrow-bc18b76d4420462db18ea0f7021efde5-0-89\" stroke=\"currentColor\" stroke-width=\"2px\"/>\n    <text dy=\"1.25em\" style=\"font-size: 0.8em; letter-spacing: 1px\">\n        <textPath class=\"displacy-label\" fill=\"currentColor\" side=\"left\" startOffset=\"50%\" text-anchor=\"middle\" xlink:href=\"#arrow-bc18b76d4420462db18ea0f7021efde5-0-89\">advcl</textPath>\n    </text>\n    <path class=\"displacy-arrowhead\" d=\"M16805.0,879.0 L16813.0,867.0 16797.0,867.0\" fill=\"currentColor\"/>\n</g>\n\n<g class=\"displacy-arrow\">\n    <path class=\"displacy-arc\" d=\"M16870,877.0 C16870,789.5 16980.0,789.5 16980.0,877.0\" fill=\"none\" id=\"arrow-bc18b76d4420462db18ea0f7021efde5-0-90\" stroke=\"currentColor\" stroke-width=\"2px\"/>\n    <text dy=\"1.25em\" style=\"font-size: 0.8em; letter-spacing: 1px\">\n        <textPath class=\"displacy-label\" fill=\"currentColor\" side=\"left\" startOffset=\"50%\" text-anchor=\"middle\" xlink:href=\"#arrow-bc18b76d4420462db18ea0f7021efde5-0-90\">obj</textPath>\n    </text>\n    <path class=\"displacy-arrowhead\" d=\"M16980.0,879.0 L16988.0,867.0 16972.0,867.0\" fill=\"currentColor\"/>\n</g>\n\n<g class=\"displacy-arrow\">\n    <path class=\"displacy-arc\" d=\"M17220,877.0 C17220,789.5 17330.0,789.5 17330.0,877.0\" fill=\"none\" id=\"arrow-bc18b76d4420462db18ea0f7021efde5-0-91\" stroke=\"currentColor\" stroke-width=\"2px\"/>\n    <text dy=\"1.25em\" style=\"font-size: 0.8em; letter-spacing: 1px\">\n        <textPath class=\"displacy-label\" fill=\"currentColor\" side=\"left\" startOffset=\"50%\" text-anchor=\"middle\" xlink:href=\"#arrow-bc18b76d4420462db18ea0f7021efde5-0-91\">case</textPath>\n    </text>\n    <path class=\"displacy-arrowhead\" d=\"M17220,879.0 L17212,867.0 17228,867.0\" fill=\"currentColor\"/>\n</g>\n\n<g class=\"displacy-arrow\">\n    <path class=\"displacy-arc\" d=\"M17045,877.0 C17045,702.0 17335.0,702.0 17335.0,877.0\" fill=\"none\" id=\"arrow-bc18b76d4420462db18ea0f7021efde5-0-92\" stroke=\"currentColor\" stroke-width=\"2px\"/>\n    <text dy=\"1.25em\" style=\"font-size: 0.8em; letter-spacing: 1px\">\n        <textPath class=\"displacy-label\" fill=\"currentColor\" side=\"left\" startOffset=\"50%\" text-anchor=\"middle\" xlink:href=\"#arrow-bc18b76d4420462db18ea0f7021efde5-0-92\">nmod</textPath>\n    </text>\n    <path class=\"displacy-arrowhead\" d=\"M17335.0,879.0 L17343.0,867.0 17327.0,867.0\" fill=\"currentColor\"/>\n</g>\n\n<g class=\"displacy-arrow\">\n    <path class=\"displacy-arc\" d=\"M17395,877.0 C17395,789.5 17505.0,789.5 17505.0,877.0\" fill=\"none\" id=\"arrow-bc18b76d4420462db18ea0f7021efde5-0-93\" stroke=\"currentColor\" stroke-width=\"2px\"/>\n    <text dy=\"1.25em\" style=\"font-size: 0.8em; letter-spacing: 1px\">\n        <textPath class=\"displacy-label\" fill=\"currentColor\" side=\"left\" startOffset=\"50%\" text-anchor=\"middle\" xlink:href=\"#arrow-bc18b76d4420462db18ea0f7021efde5-0-93\">flat:name</textPath>\n    </text>\n    <path class=\"displacy-arrowhead\" d=\"M17505.0,879.0 L17513.0,867.0 17497.0,867.0\" fill=\"currentColor\"/>\n</g>\n\n<g class=\"displacy-arrow\">\n    <path class=\"displacy-arc\" d=\"M17745,877.0 C17745,789.5 17855.0,789.5 17855.0,877.0\" fill=\"none\" id=\"arrow-bc18b76d4420462db18ea0f7021efde5-0-94\" stroke=\"currentColor\" stroke-width=\"2px\"/>\n    <text dy=\"1.25em\" style=\"font-size: 0.8em; letter-spacing: 1px\">\n        <textPath class=\"displacy-label\" fill=\"currentColor\" side=\"left\" startOffset=\"50%\" text-anchor=\"middle\" xlink:href=\"#arrow-bc18b76d4420462db18ea0f7021efde5-0-94\">case</textPath>\n    </text>\n    <path class=\"displacy-arrowhead\" d=\"M17745,879.0 L17737,867.0 17753,867.0\" fill=\"currentColor\"/>\n</g>\n\n<g class=\"displacy-arrow\">\n    <path class=\"displacy-arc\" d=\"M17045,877.0 C17045,439.5 17875.0,439.5 17875.0,877.0\" fill=\"none\" id=\"arrow-bc18b76d4420462db18ea0f7021efde5-0-95\" stroke=\"currentColor\" stroke-width=\"2px\"/>\n    <text dy=\"1.25em\" style=\"font-size: 0.8em; letter-spacing: 1px\">\n        <textPath class=\"displacy-label\" fill=\"currentColor\" side=\"left\" startOffset=\"50%\" text-anchor=\"middle\" xlink:href=\"#arrow-bc18b76d4420462db18ea0f7021efde5-0-95\">nmod</textPath>\n    </text>\n    <path class=\"displacy-arrowhead\" d=\"M17875.0,879.0 L17883.0,867.0 17867.0,867.0\" fill=\"currentColor\"/>\n</g>\n\n<g class=\"displacy-arrow\">\n    <path class=\"displacy-arc\" d=\"M18095,877.0 C18095,789.5 18205.0,789.5 18205.0,877.0\" fill=\"none\" id=\"arrow-bc18b76d4420462db18ea0f7021efde5-0-96\" stroke=\"currentColor\" stroke-width=\"2px\"/>\n    <text dy=\"1.25em\" style=\"font-size: 0.8em; letter-spacing: 1px\">\n        <textPath class=\"displacy-label\" fill=\"currentColor\" side=\"left\" startOffset=\"50%\" text-anchor=\"middle\" xlink:href=\"#arrow-bc18b76d4420462db18ea0f7021efde5-0-96\">case</textPath>\n    </text>\n    <path class=\"displacy-arrowhead\" d=\"M18095,879.0 L18087,867.0 18103,867.0\" fill=\"currentColor\"/>\n</g>\n\n<g class=\"displacy-arrow\">\n    <path class=\"displacy-arc\" d=\"M18270,877.0 C18270,527.0 18920.0,527.0 18920.0,877.0\" fill=\"none\" id=\"arrow-bc18b76d4420462db18ea0f7021efde5-0-97\" stroke=\"currentColor\" stroke-width=\"2px\"/>\n    <text dy=\"1.25em\" style=\"font-size: 0.8em; letter-spacing: 1px\">\n        <textPath class=\"displacy-label\" fill=\"currentColor\" side=\"left\" startOffset=\"50%\" text-anchor=\"middle\" xlink:href=\"#arrow-bc18b76d4420462db18ea0f7021efde5-0-97\">obl</textPath>\n    </text>\n    <path class=\"displacy-arrowhead\" d=\"M18270,879.0 L18262,867.0 18278,867.0\" fill=\"currentColor\"/>\n</g>\n\n<g class=\"displacy-arrow\">\n    <path class=\"displacy-arc\" d=\"M18445,877.0 C18445,789.5 18555.0,789.5 18555.0,877.0\" fill=\"none\" id=\"arrow-bc18b76d4420462db18ea0f7021efde5-0-98\" stroke=\"currentColor\" stroke-width=\"2px\"/>\n    <text dy=\"1.25em\" style=\"font-size: 0.8em; letter-spacing: 1px\">\n        <textPath class=\"displacy-label\" fill=\"currentColor\" side=\"left\" startOffset=\"50%\" text-anchor=\"middle\" xlink:href=\"#arrow-bc18b76d4420462db18ea0f7021efde5-0-98\">det</textPath>\n    </text>\n    <path class=\"displacy-arrowhead\" d=\"M18445,879.0 L18437,867.0 18453,867.0\" fill=\"currentColor\"/>\n</g>\n\n<g class=\"displacy-arrow\">\n    <path class=\"displacy-arc\" d=\"M18620,877.0 C18620,702.0 18910.0,702.0 18910.0,877.0\" fill=\"none\" id=\"arrow-bc18b76d4420462db18ea0f7021efde5-0-99\" stroke=\"currentColor\" stroke-width=\"2px\"/>\n    <text dy=\"1.25em\" style=\"font-size: 0.8em; letter-spacing: 1px\">\n        <textPath class=\"displacy-label\" fill=\"currentColor\" side=\"left\" startOffset=\"50%\" text-anchor=\"middle\" xlink:href=\"#arrow-bc18b76d4420462db18ea0f7021efde5-0-99\">nsubj:pass</textPath>\n    </text>\n    <path class=\"displacy-arrowhead\" d=\"M18620,879.0 L18612,867.0 18628,867.0\" fill=\"currentColor\"/>\n</g>\n\n<g class=\"displacy-arrow\">\n    <path class=\"displacy-arc\" d=\"M18795,877.0 C18795,789.5 18905.0,789.5 18905.0,877.0\" fill=\"none\" id=\"arrow-bc18b76d4420462db18ea0f7021efde5-0-100\" stroke=\"currentColor\" stroke-width=\"2px\"/>\n    <text dy=\"1.25em\" style=\"font-size: 0.8em; letter-spacing: 1px\">\n        <textPath class=\"displacy-label\" fill=\"currentColor\" side=\"left\" startOffset=\"50%\" text-anchor=\"middle\" xlink:href=\"#arrow-bc18b76d4420462db18ea0f7021efde5-0-100\">aux:pass</textPath>\n    </text>\n    <path class=\"displacy-arrowhead\" d=\"M18795,879.0 L18787,867.0 18803,867.0\" fill=\"currentColor\"/>\n</g>\n\n<g class=\"displacy-arrow\">\n    <path class=\"displacy-arc\" d=\"M19145,877.0 C19145,702.0 19435.0,702.0 19435.0,877.0\" fill=\"none\" id=\"arrow-bc18b76d4420462db18ea0f7021efde5-0-101\" stroke=\"currentColor\" stroke-width=\"2px\"/>\n    <text dy=\"1.25em\" style=\"font-size: 0.8em; letter-spacing: 1px\">\n        <textPath class=\"displacy-label\" fill=\"currentColor\" side=\"left\" startOffset=\"50%\" text-anchor=\"middle\" xlink:href=\"#arrow-bc18b76d4420462db18ea0f7021efde5-0-101\">case</textPath>\n    </text>\n    <path class=\"displacy-arrowhead\" d=\"M19145,879.0 L19137,867.0 19153,867.0\" fill=\"currentColor\"/>\n</g>\n\n<g class=\"displacy-arrow\">\n    <path class=\"displacy-arc\" d=\"M19320,877.0 C19320,789.5 19430.0,789.5 19430.0,877.0\" fill=\"none\" id=\"arrow-bc18b76d4420462db18ea0f7021efde5-0-102\" stroke=\"currentColor\" stroke-width=\"2px\"/>\n    <text dy=\"1.25em\" style=\"font-size: 0.8em; letter-spacing: 1px\">\n        <textPath class=\"displacy-label\" fill=\"currentColor\" side=\"left\" startOffset=\"50%\" text-anchor=\"middle\" xlink:href=\"#arrow-bc18b76d4420462db18ea0f7021efde5-0-102\">det</textPath>\n    </text>\n    <path class=\"displacy-arrowhead\" d=\"M19320,879.0 L19312,867.0 19328,867.0\" fill=\"currentColor\"/>\n</g>\n\n<g class=\"displacy-arrow\">\n    <path class=\"displacy-arc\" d=\"M18970,877.0 C18970,614.5 19440.0,614.5 19440.0,877.0\" fill=\"none\" id=\"arrow-bc18b76d4420462db18ea0f7021efde5-0-103\" stroke=\"currentColor\" stroke-width=\"2px\"/>\n    <text dy=\"1.25em\" style=\"font-size: 0.8em; letter-spacing: 1px\">\n        <textPath class=\"displacy-label\" fill=\"currentColor\" side=\"left\" startOffset=\"50%\" text-anchor=\"middle\" xlink:href=\"#arrow-bc18b76d4420462db18ea0f7021efde5-0-103\">obl</textPath>\n    </text>\n    <path class=\"displacy-arrowhead\" d=\"M19440.0,879.0 L19448.0,867.0 19432.0,867.0\" fill=\"currentColor\"/>\n</g>\n\n<g class=\"displacy-arrow\">\n    <path class=\"displacy-arc\" d=\"M19495,877.0 C19495,789.5 19605.0,789.5 19605.0,877.0\" fill=\"none\" id=\"arrow-bc18b76d4420462db18ea0f7021efde5-0-104\" stroke=\"currentColor\" stroke-width=\"2px\"/>\n    <text dy=\"1.25em\" style=\"font-size: 0.8em; letter-spacing: 1px\">\n        <textPath class=\"displacy-label\" fill=\"currentColor\" side=\"left\" startOffset=\"50%\" text-anchor=\"middle\" xlink:href=\"#arrow-bc18b76d4420462db18ea0f7021efde5-0-104\">amod</textPath>\n    </text>\n    <path class=\"displacy-arrowhead\" d=\"M19605.0,879.0 L19613.0,867.0 19597.0,867.0\" fill=\"currentColor\"/>\n</g>\n\n<g class=\"displacy-arrow\">\n    <path class=\"displacy-arc\" d=\"M18970,877.0 C18970,439.5 19800.0,439.5 19800.0,877.0\" fill=\"none\" id=\"arrow-bc18b76d4420462db18ea0f7021efde5-0-105\" stroke=\"currentColor\" stroke-width=\"2px\"/>\n    <text dy=\"1.25em\" style=\"font-size: 0.8em; letter-spacing: 1px\">\n        <textPath class=\"displacy-label\" fill=\"currentColor\" side=\"left\" startOffset=\"50%\" text-anchor=\"middle\" xlink:href=\"#arrow-bc18b76d4420462db18ea0f7021efde5-0-105\">dep</textPath>\n    </text>\n    <path class=\"displacy-arrowhead\" d=\"M19800.0,879.0 L19808.0,867.0 19792.0,867.0\" fill=\"currentColor\"/>\n</g>\n\n<g class=\"displacy-arrow\">\n    <path class=\"displacy-arc\" d=\"M19845,877.0 C19845,789.5 19955.0,789.5 19955.0,877.0\" fill=\"none\" id=\"arrow-bc18b76d4420462db18ea0f7021efde5-0-106\" stroke=\"currentColor\" stroke-width=\"2px\"/>\n    <text dy=\"1.25em\" style=\"font-size: 0.8em; letter-spacing: 1px\">\n        <textPath class=\"displacy-label\" fill=\"currentColor\" side=\"left\" startOffset=\"50%\" text-anchor=\"middle\" xlink:href=\"#arrow-bc18b76d4420462db18ea0f7021efde5-0-106\">conj</textPath>\n    </text>\n    <path class=\"displacy-arrowhead\" d=\"M19955.0,879.0 L19963.0,867.0 19947.0,867.0\" fill=\"currentColor\"/>\n</g>\n\n<g class=\"displacy-arrow\">\n    <path class=\"displacy-arc\" d=\"M20195,877.0 C20195,789.5 20305.0,789.5 20305.0,877.0\" fill=\"none\" id=\"arrow-bc18b76d4420462db18ea0f7021efde5-0-107\" stroke=\"currentColor\" stroke-width=\"2px\"/>\n    <text dy=\"1.25em\" style=\"font-size: 0.8em; letter-spacing: 1px\">\n        <textPath class=\"displacy-label\" fill=\"currentColor\" side=\"left\" startOffset=\"50%\" text-anchor=\"middle\" xlink:href=\"#arrow-bc18b76d4420462db18ea0f7021efde5-0-107\">cc</textPath>\n    </text>\n    <path class=\"displacy-arrowhead\" d=\"M20195,879.0 L20187,867.0 20203,867.0\" fill=\"currentColor\"/>\n</g>\n\n<g class=\"displacy-arrow\">\n    <path class=\"displacy-arc\" d=\"M19845,877.0 C19845,614.5 20315.0,614.5 20315.0,877.0\" fill=\"none\" id=\"arrow-bc18b76d4420462db18ea0f7021efde5-0-108\" stroke=\"currentColor\" stroke-width=\"2px\"/>\n    <text dy=\"1.25em\" style=\"font-size: 0.8em; letter-spacing: 1px\">\n        <textPath class=\"displacy-label\" fill=\"currentColor\" side=\"left\" startOffset=\"50%\" text-anchor=\"middle\" xlink:href=\"#arrow-bc18b76d4420462db18ea0f7021efde5-0-108\">conj</textPath>\n    </text>\n    <path class=\"displacy-arrowhead\" d=\"M20315.0,879.0 L20323.0,867.0 20307.0,867.0\" fill=\"currentColor\"/>\n</g>\n\n<g class=\"displacy-arrow\">\n    <path class=\"displacy-arc\" d=\"M20545,877.0 C20545,789.5 20655.0,789.5 20655.0,877.0\" fill=\"none\" id=\"arrow-bc18b76d4420462db18ea0f7021efde5-0-109\" stroke=\"currentColor\" stroke-width=\"2px\"/>\n    <text dy=\"1.25em\" style=\"font-size: 0.8em; letter-spacing: 1px\">\n        <textPath class=\"displacy-label\" fill=\"currentColor\" side=\"left\" startOffset=\"50%\" text-anchor=\"middle\" xlink:href=\"#arrow-bc18b76d4420462db18ea0f7021efde5-0-109\">det</textPath>\n    </text>\n    <path class=\"displacy-arrowhead\" d=\"M20545,879.0 L20537,867.0 20553,867.0\" fill=\"currentColor\"/>\n</g>\n\n<g class=\"displacy-arrow\">\n    <path class=\"displacy-arc\" d=\"M20720,877.0 C20720,789.5 20830.0,789.5 20830.0,877.0\" fill=\"none\" id=\"arrow-bc18b76d4420462db18ea0f7021efde5-0-110\" stroke=\"currentColor\" stroke-width=\"2px\"/>\n    <text dy=\"1.25em\" style=\"font-size: 0.8em; letter-spacing: 1px\">\n        <textPath class=\"displacy-label\" fill=\"currentColor\" side=\"left\" startOffset=\"50%\" text-anchor=\"middle\" xlink:href=\"#arrow-bc18b76d4420462db18ea0f7021efde5-0-110\">nsubj</textPath>\n    </text>\n    <path class=\"displacy-arrowhead\" d=\"M20720,879.0 L20712,867.0 20728,867.0\" fill=\"currentColor\"/>\n</g>\n\n<g class=\"displacy-arrow\">\n    <path class=\"displacy-arc\" d=\"M21070,877.0 C21070,789.5 21180.0,789.5 21180.0,877.0\" fill=\"none\" id=\"arrow-bc18b76d4420462db18ea0f7021efde5-0-111\" stroke=\"currentColor\" stroke-width=\"2px\"/>\n    <text dy=\"1.25em\" style=\"font-size: 0.8em; letter-spacing: 1px\">\n        <textPath class=\"displacy-label\" fill=\"currentColor\" side=\"left\" startOffset=\"50%\" text-anchor=\"middle\" xlink:href=\"#arrow-bc18b76d4420462db18ea0f7021efde5-0-111\">det</textPath>\n    </text>\n    <path class=\"displacy-arrowhead\" d=\"M21070,879.0 L21062,867.0 21078,867.0\" fill=\"currentColor\"/>\n</g>\n\n<g class=\"displacy-arrow\">\n    <path class=\"displacy-arc\" d=\"M20895,877.0 C20895,702.0 21185.0,702.0 21185.0,877.0\" fill=\"none\" id=\"arrow-bc18b76d4420462db18ea0f7021efde5-0-112\" stroke=\"currentColor\" stroke-width=\"2px\"/>\n    <text dy=\"1.25em\" style=\"font-size: 0.8em; letter-spacing: 1px\">\n        <textPath class=\"displacy-label\" fill=\"currentColor\" side=\"left\" startOffset=\"50%\" text-anchor=\"middle\" xlink:href=\"#arrow-bc18b76d4420462db18ea0f7021efde5-0-112\">obj</textPath>\n    </text>\n    <path class=\"displacy-arrowhead\" d=\"M21185.0,879.0 L21193.0,867.0 21177.0,867.0\" fill=\"currentColor\"/>\n</g>\n\n<g class=\"displacy-arrow\">\n    <path class=\"displacy-arc\" d=\"M21420,877.0 C21420,789.5 21530.0,789.5 21530.0,877.0\" fill=\"none\" id=\"arrow-bc18b76d4420462db18ea0f7021efde5-0-113\" stroke=\"currentColor\" stroke-width=\"2px\"/>\n    <text dy=\"1.25em\" style=\"font-size: 0.8em; letter-spacing: 1px\">\n        <textPath class=\"displacy-label\" fill=\"currentColor\" side=\"left\" startOffset=\"50%\" text-anchor=\"middle\" xlink:href=\"#arrow-bc18b76d4420462db18ea0f7021efde5-0-113\">case</textPath>\n    </text>\n    <path class=\"displacy-arrowhead\" d=\"M21420,879.0 L21412,867.0 21428,867.0\" fill=\"currentColor\"/>\n</g>\n\n<g class=\"displacy-arrow\">\n    <path class=\"displacy-arc\" d=\"M21245,877.0 C21245,702.0 21535.0,702.0 21535.0,877.0\" fill=\"none\" id=\"arrow-bc18b76d4420462db18ea0f7021efde5-0-114\" stroke=\"currentColor\" stroke-width=\"2px\"/>\n    <text dy=\"1.25em\" style=\"font-size: 0.8em; letter-spacing: 1px\">\n        <textPath class=\"displacy-label\" fill=\"currentColor\" side=\"left\" startOffset=\"50%\" text-anchor=\"middle\" xlink:href=\"#arrow-bc18b76d4420462db18ea0f7021efde5-0-114\">nmod</textPath>\n    </text>\n    <path class=\"displacy-arrowhead\" d=\"M21535.0,879.0 L21543.0,867.0 21527.0,867.0\" fill=\"currentColor\"/>\n</g>\n\n<g class=\"displacy-arrow\">\n    <path class=\"displacy-arc\" d=\"M21770,877.0 C21770,789.5 21880.0,789.5 21880.0,877.0\" fill=\"none\" id=\"arrow-bc18b76d4420462db18ea0f7021efde5-0-115\" stroke=\"currentColor\" stroke-width=\"2px\"/>\n    <text dy=\"1.25em\" style=\"font-size: 0.8em; letter-spacing: 1px\">\n        <textPath class=\"displacy-label\" fill=\"currentColor\" side=\"left\" startOffset=\"50%\" text-anchor=\"middle\" xlink:href=\"#arrow-bc18b76d4420462db18ea0f7021efde5-0-115\">case</textPath>\n    </text>\n    <path class=\"displacy-arrowhead\" d=\"M21770,879.0 L21762,867.0 21778,867.0\" fill=\"currentColor\"/>\n</g>\n\n<g class=\"displacy-arrow\">\n    <path class=\"displacy-arc\" d=\"M20895,877.0 C20895,352.0 21905.0,352.0 21905.0,877.0\" fill=\"none\" id=\"arrow-bc18b76d4420462db18ea0f7021efde5-0-116\" stroke=\"currentColor\" stroke-width=\"2px\"/>\n    <text dy=\"1.25em\" style=\"font-size: 0.8em; letter-spacing: 1px\">\n        <textPath class=\"displacy-label\" fill=\"currentColor\" side=\"left\" startOffset=\"50%\" text-anchor=\"middle\" xlink:href=\"#arrow-bc18b76d4420462db18ea0f7021efde5-0-116\">obl</textPath>\n    </text>\n    <path class=\"displacy-arrowhead\" d=\"M21905.0,879.0 L21913.0,867.0 21897.0,867.0\" fill=\"currentColor\"/>\n</g>\n\n<g class=\"displacy-arrow\">\n    <path class=\"displacy-arc\" d=\"M22120,877.0 C22120,789.5 22230.0,789.5 22230.0,877.0\" fill=\"none\" id=\"arrow-bc18b76d4420462db18ea0f7021efde5-0-117\" stroke=\"currentColor\" stroke-width=\"2px\"/>\n    <text dy=\"1.25em\" style=\"font-size: 0.8em; letter-spacing: 1px\">\n        <textPath class=\"displacy-label\" fill=\"currentColor\" side=\"left\" startOffset=\"50%\" text-anchor=\"middle\" xlink:href=\"#arrow-bc18b76d4420462db18ea0f7021efde5-0-117\">case</textPath>\n    </text>\n    <path class=\"displacy-arrowhead\" d=\"M22120,879.0 L22112,867.0 22128,867.0\" fill=\"currentColor\"/>\n</g>\n\n<g class=\"displacy-arrow\">\n    <path class=\"displacy-arc\" d=\"M21945,877.0 C21945,702.0 22235.0,702.0 22235.0,877.0\" fill=\"none\" id=\"arrow-bc18b76d4420462db18ea0f7021efde5-0-118\" stroke=\"currentColor\" stroke-width=\"2px\"/>\n    <text dy=\"1.25em\" style=\"font-size: 0.8em; letter-spacing: 1px\">\n        <textPath class=\"displacy-label\" fill=\"currentColor\" side=\"left\" startOffset=\"50%\" text-anchor=\"middle\" xlink:href=\"#arrow-bc18b76d4420462db18ea0f7021efde5-0-118\">nmod</textPath>\n    </text>\n    <path class=\"displacy-arrowhead\" d=\"M22235.0,879.0 L22243.0,867.0 22227.0,867.0\" fill=\"currentColor\"/>\n</g>\n\n<g class=\"displacy-arrow\">\n    <path class=\"displacy-arc\" d=\"M22470,877.0 C22470,789.5 22580.0,789.5 22580.0,877.0\" fill=\"none\" id=\"arrow-bc18b76d4420462db18ea0f7021efde5-0-119\" stroke=\"currentColor\" stroke-width=\"2px\"/>\n    <text dy=\"1.25em\" style=\"font-size: 0.8em; letter-spacing: 1px\">\n        <textPath class=\"displacy-label\" fill=\"currentColor\" side=\"left\" startOffset=\"50%\" text-anchor=\"middle\" xlink:href=\"#arrow-bc18b76d4420462db18ea0f7021efde5-0-119\">det</textPath>\n    </text>\n    <path class=\"displacy-arrowhead\" d=\"M22470,879.0 L22462,867.0 22478,867.0\" fill=\"currentColor\"/>\n</g>\n\n<g class=\"displacy-arrow\">\n    <path class=\"displacy-arc\" d=\"M22645,877.0 C22645,89.5 25070.0,89.5 25070.0,877.0\" fill=\"none\" id=\"arrow-bc18b76d4420462db18ea0f7021efde5-0-120\" stroke=\"currentColor\" stroke-width=\"2px\"/>\n    <text dy=\"1.25em\" style=\"font-size: 0.8em; letter-spacing: 1px\">\n        <textPath class=\"displacy-label\" fill=\"currentColor\" side=\"left\" startOffset=\"50%\" text-anchor=\"middle\" xlink:href=\"#arrow-bc18b76d4420462db18ea0f7021efde5-0-120\">nsubj</textPath>\n    </text>\n    <path class=\"displacy-arrowhead\" d=\"M22645,879.0 L22637,867.0 22653,867.0\" fill=\"currentColor\"/>\n</g>\n\n<g class=\"displacy-arrow\">\n    <path class=\"displacy-arc\" d=\"M22820,877.0 C22820,789.5 22930.0,789.5 22930.0,877.0\" fill=\"none\" id=\"arrow-bc18b76d4420462db18ea0f7021efde5-0-121\" stroke=\"currentColor\" stroke-width=\"2px\"/>\n    <text dy=\"1.25em\" style=\"font-size: 0.8em; letter-spacing: 1px\">\n        <textPath class=\"displacy-label\" fill=\"currentColor\" side=\"left\" startOffset=\"50%\" text-anchor=\"middle\" xlink:href=\"#arrow-bc18b76d4420462db18ea0f7021efde5-0-121\">case</textPath>\n    </text>\n    <path class=\"displacy-arrowhead\" d=\"M22820,879.0 L22812,867.0 22828,867.0\" fill=\"currentColor\"/>\n</g>\n\n<g class=\"displacy-arrow\">\n    <path class=\"displacy-arc\" d=\"M22645,877.0 C22645,702.0 22935.0,702.0 22935.0,877.0\" fill=\"none\" id=\"arrow-bc18b76d4420462db18ea0f7021efde5-0-122\" stroke=\"currentColor\" stroke-width=\"2px\"/>\n    <text dy=\"1.25em\" style=\"font-size: 0.8em; letter-spacing: 1px\">\n        <textPath class=\"displacy-label\" fill=\"currentColor\" side=\"left\" startOffset=\"50%\" text-anchor=\"middle\" xlink:href=\"#arrow-bc18b76d4420462db18ea0f7021efde5-0-122\">nmod</textPath>\n    </text>\n    <path class=\"displacy-arrowhead\" d=\"M22935.0,879.0 L22943.0,867.0 22927.0,867.0\" fill=\"currentColor\"/>\n</g>\n\n<g class=\"displacy-arrow\">\n    <path class=\"displacy-arc\" d=\"M23170,877.0 C23170,702.0 23460.0,702.0 23460.0,877.0\" fill=\"none\" id=\"arrow-bc18b76d4420462db18ea0f7021efde5-0-123\" stroke=\"currentColor\" stroke-width=\"2px\"/>\n    <text dy=\"1.25em\" style=\"font-size: 0.8em; letter-spacing: 1px\">\n        <textPath class=\"displacy-label\" fill=\"currentColor\" side=\"left\" startOffset=\"50%\" text-anchor=\"middle\" xlink:href=\"#arrow-bc18b76d4420462db18ea0f7021efde5-0-123\">case</textPath>\n    </text>\n    <path class=\"displacy-arrowhead\" d=\"M23170,879.0 L23162,867.0 23178,867.0\" fill=\"currentColor\"/>\n</g>\n\n<g class=\"displacy-arrow\">\n    <path class=\"displacy-arc\" d=\"M23345,877.0 C23345,789.5 23455.0,789.5 23455.0,877.0\" fill=\"none\" id=\"arrow-bc18b76d4420462db18ea0f7021efde5-0-124\" stroke=\"currentColor\" stroke-width=\"2px\"/>\n    <text dy=\"1.25em\" style=\"font-size: 0.8em; letter-spacing: 1px\">\n        <textPath class=\"displacy-label\" fill=\"currentColor\" side=\"left\" startOffset=\"50%\" text-anchor=\"middle\" xlink:href=\"#arrow-bc18b76d4420462db18ea0f7021efde5-0-124\">det</textPath>\n    </text>\n    <path class=\"displacy-arrowhead\" d=\"M23345,879.0 L23337,867.0 23353,867.0\" fill=\"currentColor\"/>\n</g>\n\n<g class=\"displacy-arrow\">\n    <path class=\"displacy-arc\" d=\"M22645,877.0 C22645,439.5 23475.0,439.5 23475.0,877.0\" fill=\"none\" id=\"arrow-bc18b76d4420462db18ea0f7021efde5-0-125\" stroke=\"currentColor\" stroke-width=\"2px\"/>\n    <text dy=\"1.25em\" style=\"font-size: 0.8em; letter-spacing: 1px\">\n        <textPath class=\"displacy-label\" fill=\"currentColor\" side=\"left\" startOffset=\"50%\" text-anchor=\"middle\" xlink:href=\"#arrow-bc18b76d4420462db18ea0f7021efde5-0-125\">nmod</textPath>\n    </text>\n    <path class=\"displacy-arrowhead\" d=\"M23475.0,879.0 L23483.0,867.0 23467.0,867.0\" fill=\"currentColor\"/>\n</g>\n\n<g class=\"displacy-arrow\">\n    <path class=\"displacy-arc\" d=\"M23520,877.0 C23520,789.5 23630.0,789.5 23630.0,877.0\" fill=\"none\" id=\"arrow-bc18b76d4420462db18ea0f7021efde5-0-126\" stroke=\"currentColor\" stroke-width=\"2px\"/>\n    <text dy=\"1.25em\" style=\"font-size: 0.8em; letter-spacing: 1px\">\n        <textPath class=\"displacy-label\" fill=\"currentColor\" side=\"left\" startOffset=\"50%\" text-anchor=\"middle\" xlink:href=\"#arrow-bc18b76d4420462db18ea0f7021efde5-0-126\">amod</textPath>\n    </text>\n    <path class=\"displacy-arrowhead\" d=\"M23630.0,879.0 L23638.0,867.0 23622.0,867.0\" fill=\"currentColor\"/>\n</g>\n\n<g class=\"displacy-arrow\">\n    <path class=\"displacy-arc\" d=\"M23870,877.0 C23870,789.5 23980.0,789.5 23980.0,877.0\" fill=\"none\" id=\"arrow-bc18b76d4420462db18ea0f7021efde5-0-127\" stroke=\"currentColor\" stroke-width=\"2px\"/>\n    <text dy=\"1.25em\" style=\"font-size: 0.8em; letter-spacing: 1px\">\n        <textPath class=\"displacy-label\" fill=\"currentColor\" side=\"left\" startOffset=\"50%\" text-anchor=\"middle\" xlink:href=\"#arrow-bc18b76d4420462db18ea0f7021efde5-0-127\">nsubj</textPath>\n    </text>\n    <path class=\"displacy-arrowhead\" d=\"M23870,879.0 L23862,867.0 23878,867.0\" fill=\"currentColor\"/>\n</g>\n\n<g class=\"displacy-arrow\">\n    <path class=\"displacy-arc\" d=\"M23520,877.0 C23520,614.5 23990.0,614.5 23990.0,877.0\" fill=\"none\" id=\"arrow-bc18b76d4420462db18ea0f7021efde5-0-128\" stroke=\"currentColor\" stroke-width=\"2px\"/>\n    <text dy=\"1.25em\" style=\"font-size: 0.8em; letter-spacing: 1px\">\n        <textPath class=\"displacy-label\" fill=\"currentColor\" side=\"left\" startOffset=\"50%\" text-anchor=\"middle\" xlink:href=\"#arrow-bc18b76d4420462db18ea0f7021efde5-0-128\">acl:relcl</textPath>\n    </text>\n    <path class=\"displacy-arrowhead\" d=\"M23990.0,879.0 L23998.0,867.0 23982.0,867.0\" fill=\"currentColor\"/>\n</g>\n\n<g class=\"displacy-arrow\">\n    <path class=\"displacy-arc\" d=\"M24045,877.0 C24045,789.5 24155.0,789.5 24155.0,877.0\" fill=\"none\" id=\"arrow-bc18b76d4420462db18ea0f7021efde5-0-129\" stroke=\"currentColor\" stroke-width=\"2px\"/>\n    <text dy=\"1.25em\" style=\"font-size: 0.8em; letter-spacing: 1px\">\n        <textPath class=\"displacy-label\" fill=\"currentColor\" side=\"left\" startOffset=\"50%\" text-anchor=\"middle\" xlink:href=\"#arrow-bc18b76d4420462db18ea0f7021efde5-0-129\">advmod</textPath>\n    </text>\n    <path class=\"displacy-arrowhead\" d=\"M24155.0,879.0 L24163.0,867.0 24147.0,867.0\" fill=\"currentColor\"/>\n</g>\n\n<g class=\"displacy-arrow\">\n    <path class=\"displacy-arc\" d=\"M24395,877.0 C24395,789.5 24505.0,789.5 24505.0,877.0\" fill=\"none\" id=\"arrow-bc18b76d4420462db18ea0f7021efde5-0-130\" stroke=\"currentColor\" stroke-width=\"2px\"/>\n    <text dy=\"1.25em\" style=\"font-size: 0.8em; letter-spacing: 1px\">\n        <textPath class=\"displacy-label\" fill=\"currentColor\" side=\"left\" startOffset=\"50%\" text-anchor=\"middle\" xlink:href=\"#arrow-bc18b76d4420462db18ea0f7021efde5-0-130\">case</textPath>\n    </text>\n    <path class=\"displacy-arrowhead\" d=\"M24395,879.0 L24387,867.0 24403,867.0\" fill=\"currentColor\"/>\n</g>\n\n<g class=\"displacy-arrow\">\n    <path class=\"displacy-arc\" d=\"M24045,877.0 C24045,614.5 24515.0,614.5 24515.0,877.0\" fill=\"none\" id=\"arrow-bc18b76d4420462db18ea0f7021efde5-0-131\" stroke=\"currentColor\" stroke-width=\"2px\"/>\n    <text dy=\"1.25em\" style=\"font-size: 0.8em; letter-spacing: 1px\">\n        <textPath class=\"displacy-label\" fill=\"currentColor\" side=\"left\" startOffset=\"50%\" text-anchor=\"middle\" xlink:href=\"#arrow-bc18b76d4420462db18ea0f7021efde5-0-131\">obl</textPath>\n    </text>\n    <path class=\"displacy-arrowhead\" d=\"M24515.0,879.0 L24523.0,867.0 24507.0,867.0\" fill=\"currentColor\"/>\n</g>\n\n<g class=\"displacy-arrow\">\n    <path class=\"displacy-arc\" d=\"M24745,877.0 C24745,789.5 24855.0,789.5 24855.0,877.0\" fill=\"none\" id=\"arrow-bc18b76d4420462db18ea0f7021efde5-0-132\" stroke=\"currentColor\" stroke-width=\"2px\"/>\n    <text dy=\"1.25em\" style=\"font-size: 0.8em; letter-spacing: 1px\">\n        <textPath class=\"displacy-label\" fill=\"currentColor\" side=\"left\" startOffset=\"50%\" text-anchor=\"middle\" xlink:href=\"#arrow-bc18b76d4420462db18ea0f7021efde5-0-132\">case</textPath>\n    </text>\n    <path class=\"displacy-arrowhead\" d=\"M24745,879.0 L24737,867.0 24753,867.0\" fill=\"currentColor\"/>\n</g>\n\n<g class=\"displacy-arrow\">\n    <path class=\"displacy-arc\" d=\"M24570,877.0 C24570,702.0 24860.0,702.0 24860.0,877.0\" fill=\"none\" id=\"arrow-bc18b76d4420462db18ea0f7021efde5-0-133\" stroke=\"currentColor\" stroke-width=\"2px\"/>\n    <text dy=\"1.25em\" style=\"font-size: 0.8em; letter-spacing: 1px\">\n        <textPath class=\"displacy-label\" fill=\"currentColor\" side=\"left\" startOffset=\"50%\" text-anchor=\"middle\" xlink:href=\"#arrow-bc18b76d4420462db18ea0f7021efde5-0-133\">nmod</textPath>\n    </text>\n    <path class=\"displacy-arrowhead\" d=\"M24860.0,879.0 L24868.0,867.0 24852.0,867.0\" fill=\"currentColor\"/>\n</g>\n\n<g class=\"displacy-arrow\">\n    <path class=\"displacy-arc\" d=\"M25270,877.0 C25270,439.5 26100.0,439.5 26100.0,877.0\" fill=\"none\" id=\"arrow-bc18b76d4420462db18ea0f7021efde5-0-134\" stroke=\"currentColor\" stroke-width=\"2px\"/>\n    <text dy=\"1.25em\" style=\"font-size: 0.8em; letter-spacing: 1px\">\n        <textPath class=\"displacy-label\" fill=\"currentColor\" side=\"left\" startOffset=\"50%\" text-anchor=\"middle\" xlink:href=\"#arrow-bc18b76d4420462db18ea0f7021efde5-0-134\">mark</textPath>\n    </text>\n    <path class=\"displacy-arrowhead\" d=\"M25270,879.0 L25262,867.0 25278,867.0\" fill=\"currentColor\"/>\n</g>\n\n<g class=\"displacy-arrow\">\n    <path class=\"displacy-arc\" d=\"M25445,877.0 C25445,789.5 25555.0,789.5 25555.0,877.0\" fill=\"none\" id=\"arrow-bc18b76d4420462db18ea0f7021efde5-0-135\" stroke=\"currentColor\" stroke-width=\"2px\"/>\n    <text dy=\"1.25em\" style=\"font-size: 0.8em; letter-spacing: 1px\">\n        <textPath class=\"displacy-label\" fill=\"currentColor\" side=\"left\" startOffset=\"50%\" text-anchor=\"middle\" xlink:href=\"#arrow-bc18b76d4420462db18ea0f7021efde5-0-135\">det</textPath>\n    </text>\n    <path class=\"displacy-arrowhead\" d=\"M25445,879.0 L25437,867.0 25453,867.0\" fill=\"currentColor\"/>\n</g>\n\n<g class=\"displacy-arrow\">\n    <path class=\"displacy-arc\" d=\"M25620,877.0 C25620,614.5 26090.0,614.5 26090.0,877.0\" fill=\"none\" id=\"arrow-bc18b76d4420462db18ea0f7021efde5-0-136\" stroke=\"currentColor\" stroke-width=\"2px\"/>\n    <text dy=\"1.25em\" style=\"font-size: 0.8em; letter-spacing: 1px\">\n        <textPath class=\"displacy-label\" fill=\"currentColor\" side=\"left\" startOffset=\"50%\" text-anchor=\"middle\" xlink:href=\"#arrow-bc18b76d4420462db18ea0f7021efde5-0-136\">nsubj</textPath>\n    </text>\n    <path class=\"displacy-arrowhead\" d=\"M25620,879.0 L25612,867.0 25628,867.0\" fill=\"currentColor\"/>\n</g>\n\n<g class=\"displacy-arrow\">\n    <path class=\"displacy-arc\" d=\"M25795,877.0 C25795,702.0 26085.0,702.0 26085.0,877.0\" fill=\"none\" id=\"arrow-bc18b76d4420462db18ea0f7021efde5-0-137\" stroke=\"currentColor\" stroke-width=\"2px\"/>\n    <text dy=\"1.25em\" style=\"font-size: 0.8em; letter-spacing: 1px\">\n        <textPath class=\"displacy-label\" fill=\"currentColor\" side=\"left\" startOffset=\"50%\" text-anchor=\"middle\" xlink:href=\"#arrow-bc18b76d4420462db18ea0f7021efde5-0-137\">advmod</textPath>\n    </text>\n    <path class=\"displacy-arrowhead\" d=\"M25795,879.0 L25787,867.0 25803,867.0\" fill=\"currentColor\"/>\n</g>\n\n<g class=\"displacy-arrow\">\n    <path class=\"displacy-arc\" d=\"M25970,877.0 C25970,789.5 26080.0,789.5 26080.0,877.0\" fill=\"none\" id=\"arrow-bc18b76d4420462db18ea0f7021efde5-0-138\" stroke=\"currentColor\" stroke-width=\"2px\"/>\n    <text dy=\"1.25em\" style=\"font-size: 0.8em; letter-spacing: 1px\">\n        <textPath class=\"displacy-label\" fill=\"currentColor\" side=\"left\" startOffset=\"50%\" text-anchor=\"middle\" xlink:href=\"#arrow-bc18b76d4420462db18ea0f7021efde5-0-138\">cop</textPath>\n    </text>\n    <path class=\"displacy-arrowhead\" d=\"M25970,879.0 L25962,867.0 25978,867.0\" fill=\"currentColor\"/>\n</g>\n\n<g class=\"displacy-arrow\">\n    <path class=\"displacy-arc\" d=\"M25095,877.0 C25095,352.0 26105.0,352.0 26105.0,877.0\" fill=\"none\" id=\"arrow-bc18b76d4420462db18ea0f7021efde5-0-139\" stroke=\"currentColor\" stroke-width=\"2px\"/>\n    <text dy=\"1.25em\" style=\"font-size: 0.8em; letter-spacing: 1px\">\n        <textPath class=\"displacy-label\" fill=\"currentColor\" side=\"left\" startOffset=\"50%\" text-anchor=\"middle\" xlink:href=\"#arrow-bc18b76d4420462db18ea0f7021efde5-0-139\">ccomp</textPath>\n    </text>\n    <path class=\"displacy-arrowhead\" d=\"M26105.0,879.0 L26113.0,867.0 26097.0,867.0\" fill=\"currentColor\"/>\n</g>\n\n<g class=\"displacy-arrow\">\n    <path class=\"displacy-arc\" d=\"M26320,877.0 C26320,702.0 26610.0,702.0 26610.0,877.0\" fill=\"none\" id=\"arrow-bc18b76d4420462db18ea0f7021efde5-0-140\" stroke=\"currentColor\" stroke-width=\"2px\"/>\n    <text dy=\"1.25em\" style=\"font-size: 0.8em; letter-spacing: 1px\">\n        <textPath class=\"displacy-label\" fill=\"currentColor\" side=\"left\" startOffset=\"50%\" text-anchor=\"middle\" xlink:href=\"#arrow-bc18b76d4420462db18ea0f7021efde5-0-140\">case</textPath>\n    </text>\n    <path class=\"displacy-arrowhead\" d=\"M26320,879.0 L26312,867.0 26328,867.0\" fill=\"currentColor\"/>\n</g>\n\n<g class=\"displacy-arrow\">\n    <path class=\"displacy-arc\" d=\"M26495,877.0 C26495,789.5 26605.0,789.5 26605.0,877.0\" fill=\"none\" id=\"arrow-bc18b76d4420462db18ea0f7021efde5-0-141\" stroke=\"currentColor\" stroke-width=\"2px\"/>\n    <text dy=\"1.25em\" style=\"font-size: 0.8em; letter-spacing: 1px\">\n        <textPath class=\"displacy-label\" fill=\"currentColor\" side=\"left\" startOffset=\"50%\" text-anchor=\"middle\" xlink:href=\"#arrow-bc18b76d4420462db18ea0f7021efde5-0-141\">det</textPath>\n    </text>\n    <path class=\"displacy-arrowhead\" d=\"M26495,879.0 L26487,867.0 26503,867.0\" fill=\"currentColor\"/>\n</g>\n\n<g class=\"displacy-arrow\">\n    <path class=\"displacy-arc\" d=\"M26145,877.0 C26145,614.5 26615.0,614.5 26615.0,877.0\" fill=\"none\" id=\"arrow-bc18b76d4420462db18ea0f7021efde5-0-142\" stroke=\"currentColor\" stroke-width=\"2px\"/>\n    <text dy=\"1.25em\" style=\"font-size: 0.8em; letter-spacing: 1px\">\n        <textPath class=\"displacy-label\" fill=\"currentColor\" side=\"left\" startOffset=\"50%\" text-anchor=\"middle\" xlink:href=\"#arrow-bc18b76d4420462db18ea0f7021efde5-0-142\">nmod</textPath>\n    </text>\n    <path class=\"displacy-arrowhead\" d=\"M26615.0,879.0 L26623.0,867.0 26607.0,867.0\" fill=\"currentColor\"/>\n</g>\n\n<g class=\"displacy-arrow\">\n    <path class=\"displacy-arc\" d=\"M26670,877.0 C26670,789.5 26780.0,789.5 26780.0,877.0\" fill=\"none\" id=\"arrow-bc18b76d4420462db18ea0f7021efde5-0-143\" stroke=\"currentColor\" stroke-width=\"2px\"/>\n    <text dy=\"1.25em\" style=\"font-size: 0.8em; letter-spacing: 1px\">\n        <textPath class=\"displacy-label\" fill=\"currentColor\" side=\"left\" startOffset=\"50%\" text-anchor=\"middle\" xlink:href=\"#arrow-bc18b76d4420462db18ea0f7021efde5-0-143\">amod</textPath>\n    </text>\n    <path class=\"displacy-arrowhead\" d=\"M26780.0,879.0 L26788.0,867.0 26772.0,867.0\" fill=\"currentColor\"/>\n</g>\n\n<g class=\"displacy-arrow\">\n    <path class=\"displacy-arc\" d=\"M27020,877.0 C27020,789.5 27130.0,789.5 27130.0,877.0\" fill=\"none\" id=\"arrow-bc18b76d4420462db18ea0f7021efde5-0-144\" stroke=\"currentColor\" stroke-width=\"2px\"/>\n    <text dy=\"1.25em\" style=\"font-size: 0.8em; letter-spacing: 1px\">\n        <textPath class=\"displacy-label\" fill=\"currentColor\" side=\"left\" startOffset=\"50%\" text-anchor=\"middle\" xlink:href=\"#arrow-bc18b76d4420462db18ea0f7021efde5-0-144\">case</textPath>\n    </text>\n    <path class=\"displacy-arrowhead\" d=\"M27020,879.0 L27012,867.0 27028,867.0\" fill=\"currentColor\"/>\n</g>\n\n<g class=\"displacy-arrow\">\n    <path class=\"displacy-arc\" d=\"M26145,877.0 C26145,352.0 27155.0,352.0 27155.0,877.0\" fill=\"none\" id=\"arrow-bc18b76d4420462db18ea0f7021efde5-0-145\" stroke=\"currentColor\" stroke-width=\"2px\"/>\n    <text dy=\"1.25em\" style=\"font-size: 0.8em; letter-spacing: 1px\">\n        <textPath class=\"displacy-label\" fill=\"currentColor\" side=\"left\" startOffset=\"50%\" text-anchor=\"middle\" xlink:href=\"#arrow-bc18b76d4420462db18ea0f7021efde5-0-145\">nmod</textPath>\n    </text>\n    <path class=\"displacy-arrowhead\" d=\"M27155.0,879.0 L27163.0,867.0 27147.0,867.0\" fill=\"currentColor\"/>\n</g>\n\n<g class=\"displacy-arrow\">\n    <path class=\"displacy-arc\" d=\"M27370,877.0 C27370,614.5 27840.0,614.5 27840.0,877.0\" fill=\"none\" id=\"arrow-bc18b76d4420462db18ea0f7021efde5-0-146\" stroke=\"currentColor\" stroke-width=\"2px\"/>\n    <text dy=\"1.25em\" style=\"font-size: 0.8em; letter-spacing: 1px\">\n        <textPath class=\"displacy-label\" fill=\"currentColor\" side=\"left\" startOffset=\"50%\" text-anchor=\"middle\" xlink:href=\"#arrow-bc18b76d4420462db18ea0f7021efde5-0-146\">cc</textPath>\n    </text>\n    <path class=\"displacy-arrowhead\" d=\"M27370,879.0 L27362,867.0 27378,867.0\" fill=\"currentColor\"/>\n</g>\n\n<g class=\"displacy-arrow\">\n    <path class=\"displacy-arc\" d=\"M27545,877.0 C27545,702.0 27835.0,702.0 27835.0,877.0\" fill=\"none\" id=\"arrow-bc18b76d4420462db18ea0f7021efde5-0-147\" stroke=\"currentColor\" stroke-width=\"2px\"/>\n    <text dy=\"1.25em\" style=\"font-size: 0.8em; letter-spacing: 1px\">\n        <textPath class=\"displacy-label\" fill=\"currentColor\" side=\"left\" startOffset=\"50%\" text-anchor=\"middle\" xlink:href=\"#arrow-bc18b76d4420462db18ea0f7021efde5-0-147\">aux:pass</textPath>\n    </text>\n    <path class=\"displacy-arrowhead\" d=\"M27545,879.0 L27537,867.0 27553,867.0\" fill=\"currentColor\"/>\n</g>\n\n<g class=\"displacy-arrow\">\n    <path class=\"displacy-arc\" d=\"M27720,877.0 C27720,789.5 27830.0,789.5 27830.0,877.0\" fill=\"none\" id=\"arrow-bc18b76d4420462db18ea0f7021efde5-0-148\" stroke=\"currentColor\" stroke-width=\"2px\"/>\n    <text dy=\"1.25em\" style=\"font-size: 0.8em; letter-spacing: 1px\">\n        <textPath class=\"displacy-label\" fill=\"currentColor\" side=\"left\" startOffset=\"50%\" text-anchor=\"middle\" xlink:href=\"#arrow-bc18b76d4420462db18ea0f7021efde5-0-148\">advmod</textPath>\n    </text>\n    <path class=\"displacy-arrowhead\" d=\"M27720,879.0 L27712,867.0 27728,867.0\" fill=\"currentColor\"/>\n</g>\n\n<g class=\"displacy-arrow\">\n    <path class=\"displacy-arc\" d=\"M25095,877.0 C25095,2.0 27875.0,2.0 27875.0,877.0\" fill=\"none\" id=\"arrow-bc18b76d4420462db18ea0f7021efde5-0-149\" stroke=\"currentColor\" stroke-width=\"2px\"/>\n    <text dy=\"1.25em\" style=\"font-size: 0.8em; letter-spacing: 1px\">\n        <textPath class=\"displacy-label\" fill=\"currentColor\" side=\"left\" startOffset=\"50%\" text-anchor=\"middle\" xlink:href=\"#arrow-bc18b76d4420462db18ea0f7021efde5-0-149\">conj</textPath>\n    </text>\n    <path class=\"displacy-arrowhead\" d=\"M27875.0,879.0 L27883.0,867.0 27867.0,867.0\" fill=\"currentColor\"/>\n</g>\n\n<g class=\"displacy-arrow\">\n    <path class=\"displacy-arc\" d=\"M28070,877.0 C28070,789.5 28180.0,789.5 28180.0,877.0\" fill=\"none\" id=\"arrow-bc18b76d4420462db18ea0f7021efde5-0-150\" stroke=\"currentColor\" stroke-width=\"2px\"/>\n    <text dy=\"1.25em\" style=\"font-size: 0.8em; letter-spacing: 1px\">\n        <textPath class=\"displacy-label\" fill=\"currentColor\" side=\"left\" startOffset=\"50%\" text-anchor=\"middle\" xlink:href=\"#arrow-bc18b76d4420462db18ea0f7021efde5-0-150\">case</textPath>\n    </text>\n    <path class=\"displacy-arrowhead\" d=\"M28070,879.0 L28062,867.0 28078,867.0\" fill=\"currentColor\"/>\n</g>\n\n<g class=\"displacy-arrow\">\n    <path class=\"displacy-arc\" d=\"M27895,877.0 C27895,702.0 28185.0,702.0 28185.0,877.0\" fill=\"none\" id=\"arrow-bc18b76d4420462db18ea0f7021efde5-0-151\" stroke=\"currentColor\" stroke-width=\"2px\"/>\n    <text dy=\"1.25em\" style=\"font-size: 0.8em; letter-spacing: 1px\">\n        <textPath class=\"displacy-label\" fill=\"currentColor\" side=\"left\" startOffset=\"50%\" text-anchor=\"middle\" xlink:href=\"#arrow-bc18b76d4420462db18ea0f7021efde5-0-151\">obl:agent</textPath>\n    </text>\n    <path class=\"displacy-arrowhead\" d=\"M28185.0,879.0 L28193.0,867.0 28177.0,867.0\" fill=\"currentColor\"/>\n</g>\n\n<g class=\"displacy-arrow\">\n    <path class=\"displacy-arc\" d=\"M28245,877.0 C28245,789.5 28355.0,789.5 28355.0,877.0\" fill=\"none\" id=\"arrow-bc18b76d4420462db18ea0f7021efde5-0-152\" stroke=\"currentColor\" stroke-width=\"2px\"/>\n    <text dy=\"1.25em\" style=\"font-size: 0.8em; letter-spacing: 1px\">\n        <textPath class=\"displacy-label\" fill=\"currentColor\" side=\"left\" startOffset=\"50%\" text-anchor=\"middle\" xlink:href=\"#arrow-bc18b76d4420462db18ea0f7021efde5-0-152\">amod</textPath>\n    </text>\n    <path class=\"displacy-arrowhead\" d=\"M28355.0,879.0 L28363.0,867.0 28347.0,867.0\" fill=\"currentColor\"/>\n</g>\n</svg>"
          },
          "metadata": {},
          "execution_count": 46
        }
      ]
    },
    {
      "cell_type": "markdown",
      "source": [
        "**Identificar as entidades nomeadas no texto**"
      ],
      "metadata": {
        "id": "YLr5KeBNDRcN"
      }
    },
    {
      "cell_type": "code",
      "source": [
        "entidades = list(doc.ents)\n",
        "entidades"
      ],
      "metadata": {
        "colab": {
          "base_uri": "https://localhost:8080/"
        },
        "id": "_tPJzxQ9DVu-",
        "outputId": "bb29e27a-53d5-4bed-83ae-24737c2bb381"
      },
      "execution_count": 47,
      "outputs": [
        {
          "output_type": "execute_result",
          "data": {
            "text/plain": [
              "[hep 2, contraimunoeletroforese, p2, antigeno]"
            ]
          },
          "metadata": {},
          "execution_count": 47
        }
      ]
    },
    {
      "cell_type": "code",
      "source": [
        "entidades_detalhes = [(entidades, entidades.label_) for entidades in doc.ents]\n",
        "entidades_detalhes"
      ],
      "metadata": {
        "colab": {
          "base_uri": "https://localhost:8080/"
        },
        "id": "3nBDQNNhDjyw",
        "outputId": "3cb2d523-e042-402c-834f-a75cac4625ef"
      },
      "execution_count": 48,
      "outputs": [
        {
          "output_type": "execute_result",
          "data": {
            "text/plain": [
              "[(hep 2, 'MISC'),\n",
              " (contraimunoeletroforese, 'LOC'),\n",
              " (p2, 'ORG'),\n",
              " (antigeno, 'PER')]"
            ]
          },
          "metadata": {},
          "execution_count": 48
        }
      ]
    },
    {
      "cell_type": "code",
      "source": [
        ""
      ],
      "metadata": {
        "id": "JUUtczAJEMMp"
      },
      "execution_count": null,
      "outputs": []
    }
  ]
}