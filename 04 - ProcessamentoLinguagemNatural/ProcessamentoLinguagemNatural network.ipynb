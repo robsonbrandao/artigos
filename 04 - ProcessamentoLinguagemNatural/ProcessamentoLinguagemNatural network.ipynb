{
  "nbformat": 4,
  "nbformat_minor": 0,
  "metadata": {
    "colab": {
      "name": "Untitled2.ipynb",
      "provenance": [],
      "collapsed_sections": [],
      "include_colab_link": true
    },
    "kernelspec": {
      "name": "python3",
      "display_name": "Python 3"
    },
    "language_info": {
      "name": "python"
    }
  },
  "cells": [
    {
      "cell_type": "markdown",
      "metadata": {
        "id": "view-in-github",
        "colab_type": "text"
      },
      "source": [
        "<a href=\"https://colab.research.google.com/github/robsonbrandao/artigos/blob/main/04%20-%20ProcessamentoLinguagemNatural/ProcessamentoLinguagemNatural%20network.ipynb\" target=\"_parent\"><img src=\"https://colab.research.google.com/assets/colab-badge.svg\" alt=\"Open In Colab\"/></a>"
      ]
    },
    {
      "cell_type": "markdown",
      "source": [
        "# **Processamento de Linguagem Natural**\n",
        "\n",
        "\n",
        "---\n",
        "\n"
      ],
      "metadata": {
        "id": "61OzP7BCycyd"
      }
    },
    {
      "cell_type": "markdown",
      "source": [
        "## **Instalando o pacote spacy e modelos de linguagem**"
      ],
      "metadata": {
        "id": "g-YpnIsy2w0V"
      }
    },
    {
      "cell_type": "code",
      "source": [
        "import spacy\n",
        "\n",
        "import pandas as pd\n",
        "import spacy\n",
        "import networkx as nx                        # a really useful network analysis library\n",
        "import matplotlib.pyplot as plt\n",
        "# from networkx.algorithms import community   # not used, yet... \n",
        "import datetime                              # access to %%time, for timing individual notebook cells\n",
        "import os"
      ],
      "metadata": {
        "id": "qbhDyzDdzL6w"
      },
      "execution_count": 2,
      "outputs": []
    },
    {
      "cell_type": "markdown",
      "source": [
        "### Atualizando o spacy"
      ],
      "metadata": {
        "id": "xrjh4mFVzUZ0"
      }
    },
    {
      "cell_type": "code",
      "source": [
        "!pip install --upgrade spacy"
      ],
      "metadata": {
        "colab": {
          "base_uri": "https://localhost:8080/",
          "height": 1000
        },
        "id": "l-Us_5ISzRAA",
        "outputId": "0a03f7aa-9492-4089-8a2e-8c63baca9abb"
      },
      "execution_count": 3,
      "outputs": [
        {
          "output_type": "stream",
          "name": "stdout",
          "text": [
            "Requirement already satisfied: spacy in /usr/local/lib/python3.7/dist-packages (2.2.4)\n",
            "Collecting spacy\n",
            "  Downloading spacy-3.2.3-cp37-cp37m-manylinux_2_17_x86_64.manylinux2014_x86_64.whl (6.0 MB)\n",
            "\u001b[K     |████████████████████████████████| 6.0 MB 5.0 MB/s \n",
            "\u001b[?25hRequirement already satisfied: tqdm<5.0.0,>=4.38.0 in /usr/local/lib/python3.7/dist-packages (from spacy) (4.63.0)\n",
            "Collecting spacy-legacy<3.1.0,>=3.0.8\n",
            "  Downloading spacy_legacy-3.0.9-py2.py3-none-any.whl (20 kB)\n",
            "Requirement already satisfied: requests<3.0.0,>=2.13.0 in /usr/local/lib/python3.7/dist-packages (from spacy) (2.23.0)\n",
            "Requirement already satisfied: setuptools in /usr/local/lib/python3.7/dist-packages (from spacy) (57.4.0)\n",
            "Collecting spacy-loggers<2.0.0,>=1.0.0\n",
            "  Downloading spacy_loggers-1.0.1-py3-none-any.whl (7.0 kB)\n",
            "Collecting typer<0.5.0,>=0.3.0\n",
            "  Downloading typer-0.4.0-py3-none-any.whl (27 kB)\n",
            "Requirement already satisfied: wasabi<1.1.0,>=0.8.1 in /usr/local/lib/python3.7/dist-packages (from spacy) (0.9.0)\n",
            "Requirement already satisfied: blis<0.8.0,>=0.4.0 in /usr/local/lib/python3.7/dist-packages (from spacy) (0.4.1)\n",
            "Requirement already satisfied: typing-extensions<4.0.0.0,>=3.7.4 in /usr/local/lib/python3.7/dist-packages (from spacy) (3.10.0.2)\n",
            "Collecting catalogue<2.1.0,>=2.0.6\n",
            "  Downloading catalogue-2.0.7-py3-none-any.whl (17 kB)\n",
            "Collecting srsly<3.0.0,>=2.4.1\n",
            "  Downloading srsly-2.4.2-cp37-cp37m-manylinux_2_17_x86_64.manylinux2014_x86_64.whl (451 kB)\n",
            "\u001b[K     |████████████████████████████████| 451 kB 68.5 MB/s \n",
            "\u001b[?25hCollecting langcodes<4.0.0,>=3.2.0\n",
            "  Downloading langcodes-3.3.0-py3-none-any.whl (181 kB)\n",
            "\u001b[K     |████████████████████████████████| 181 kB 36.5 MB/s \n",
            "\u001b[?25hCollecting pathy>=0.3.5\n",
            "  Downloading pathy-0.6.1-py3-none-any.whl (42 kB)\n",
            "\u001b[K     |████████████████████████████████| 42 kB 1.4 MB/s \n",
            "\u001b[?25hRequirement already satisfied: murmurhash<1.1.0,>=0.28.0 in /usr/local/lib/python3.7/dist-packages (from spacy) (1.0.6)\n",
            "Requirement already satisfied: cymem<2.1.0,>=2.0.2 in /usr/local/lib/python3.7/dist-packages (from spacy) (2.0.6)\n",
            "Requirement already satisfied: numpy>=1.15.0 in /usr/local/lib/python3.7/dist-packages (from spacy) (1.21.5)\n",
            "Collecting pydantic!=1.8,!=1.8.1,<1.9.0,>=1.7.4\n",
            "  Downloading pydantic-1.8.2-cp37-cp37m-manylinux2014_x86_64.whl (10.1 MB)\n",
            "\u001b[K     |████████████████████████████████| 10.1 MB 43.4 MB/s \n",
            "\u001b[?25hRequirement already satisfied: jinja2 in /usr/local/lib/python3.7/dist-packages (from spacy) (2.11.3)\n",
            "Requirement already satisfied: preshed<3.1.0,>=3.0.2 in /usr/local/lib/python3.7/dist-packages (from spacy) (3.0.6)\n",
            "Requirement already satisfied: packaging>=20.0 in /usr/local/lib/python3.7/dist-packages (from spacy) (21.3)\n",
            "Collecting thinc<8.1.0,>=8.0.12\n",
            "  Downloading thinc-8.0.15-cp37-cp37m-manylinux_2_17_x86_64.manylinux2014_x86_64.whl (653 kB)\n",
            "\u001b[K     |████████████████████████████████| 653 kB 58.4 MB/s \n",
            "\u001b[?25hRequirement already satisfied: zipp>=0.5 in /usr/local/lib/python3.7/dist-packages (from catalogue<2.1.0,>=2.0.6->spacy) (3.7.0)\n",
            "Requirement already satisfied: pyparsing!=3.0.5,>=2.0.2 in /usr/local/lib/python3.7/dist-packages (from packaging>=20.0->spacy) (3.0.7)\n",
            "Requirement already satisfied: smart-open<6.0.0,>=5.0.0 in /usr/local/lib/python3.7/dist-packages (from pathy>=0.3.5->spacy) (5.2.1)\n",
            "Requirement already satisfied: urllib3!=1.25.0,!=1.25.1,<1.26,>=1.21.1 in /usr/local/lib/python3.7/dist-packages (from requests<3.0.0,>=2.13.0->spacy) (1.24.3)\n",
            "Requirement already satisfied: idna<3,>=2.5 in /usr/local/lib/python3.7/dist-packages (from requests<3.0.0,>=2.13.0->spacy) (2.10)\n",
            "Requirement already satisfied: chardet<4,>=3.0.2 in /usr/local/lib/python3.7/dist-packages (from requests<3.0.0,>=2.13.0->spacy) (3.0.4)\n",
            "Requirement already satisfied: certifi>=2017.4.17 in /usr/local/lib/python3.7/dist-packages (from requests<3.0.0,>=2.13.0->spacy) (2021.10.8)\n",
            "Requirement already satisfied: click<9.0.0,>=7.1.1 in /usr/local/lib/python3.7/dist-packages (from typer<0.5.0,>=0.3.0->spacy) (7.1.2)\n",
            "Requirement already satisfied: MarkupSafe>=0.23 in /usr/local/lib/python3.7/dist-packages (from jinja2->spacy) (2.0.1)\n",
            "Installing collected packages: catalogue, typer, srsly, pydantic, thinc, spacy-loggers, spacy-legacy, pathy, langcodes, spacy\n",
            "  Attempting uninstall: catalogue\n",
            "    Found existing installation: catalogue 1.0.0\n",
            "    Uninstalling catalogue-1.0.0:\n",
            "      Successfully uninstalled catalogue-1.0.0\n",
            "  Attempting uninstall: srsly\n",
            "    Found existing installation: srsly 1.0.5\n",
            "    Uninstalling srsly-1.0.5:\n",
            "      Successfully uninstalled srsly-1.0.5\n",
            "  Attempting uninstall: thinc\n",
            "    Found existing installation: thinc 7.4.0\n",
            "    Uninstalling thinc-7.4.0:\n",
            "      Successfully uninstalled thinc-7.4.0\n",
            "  Attempting uninstall: spacy\n",
            "    Found existing installation: spacy 2.2.4\n",
            "    Uninstalling spacy-2.2.4:\n",
            "      Successfully uninstalled spacy-2.2.4\n",
            "Successfully installed catalogue-2.0.7 langcodes-3.3.0 pathy-0.6.1 pydantic-1.8.2 spacy-3.2.3 spacy-legacy-3.0.9 spacy-loggers-1.0.1 srsly-2.4.2 thinc-8.0.15 typer-0.4.0\n"
          ]
        },
        {
          "output_type": "display_data",
          "data": {
            "application/vnd.colab-display-data+json": {
              "pip_warning": {
                "packages": [
                  "catalogue",
                  "spacy",
                  "srsly",
                  "thinc"
                ]
              }
            }
          },
          "metadata": {}
        }
      ]
    },
    {
      "cell_type": "code",
      "source": [
        "# Chamar o spacy com a nova versão\n",
        "import spacy\n",
        "import pandas as pd\n",
        "import spacy\n",
        "import networkx as nx                        # a really useful network analysis library\n",
        "import matplotlib.pyplot as plt\n",
        "# from networkx.algorithms import community   # not used, yet... \n",
        "import datetime                              # access to %%time, for timing individual notebook cells\n",
        "import os"
      ],
      "metadata": {
        "id": "wQ8aU9cuzf_I"
      },
      "execution_count": 1,
      "outputs": []
    },
    {
      "cell_type": "code",
      "source": [
        "!pip install -U spacy-lookups-data "
      ],
      "metadata": {
        "colab": {
          "base_uri": "https://localhost:8080/"
        },
        "id": "QgKR9ROYzsuy",
        "outputId": "f58b6a81-40ee-4f9a-a6ac-f9f09b2c477f"
      },
      "execution_count": 2,
      "outputs": [
        {
          "output_type": "stream",
          "name": "stdout",
          "text": [
            "Collecting spacy-lookups-data\n",
            "  Downloading spacy_lookups_data-1.0.3-py2.py3-none-any.whl (98.5 MB)\n",
            "\u001b[K     |████████████████████████████████| 98.5 MB 94 kB/s \n",
            "\u001b[?25hRequirement already satisfied: setuptools in /usr/local/lib/python3.7/dist-packages (from spacy-lookups-data) (57.4.0)\n",
            "Installing collected packages: spacy-lookups-data\n",
            "Successfully installed spacy-lookups-data-1.0.3\n"
          ]
        }
      ]
    },
    {
      "cell_type": "markdown",
      "source": [
        "**Baixar os modelos de Linguagem**\n",
        "\n",
        "**pt_core_news_lg** é mais completo, porém mais lento\n",
        "\n",
        "**pt_core_news_st** é a outra opção"
      ],
      "metadata": {
        "id": "YfQdhzD30Cgi"
      }
    },
    {
      "cell_type": "code",
      "source": [
        "!python -m spacy download pt_core_news_lg"
      ],
      "metadata": {
        "colab": {
          "base_uri": "https://localhost:8080/"
        },
        "id": "fsfjCh38z6pM",
        "outputId": "69481eda-9c4f-4886-e5b1-7c12705908ab"
      },
      "execution_count": 3,
      "outputs": [
        {
          "output_type": "stream",
          "name": "stdout",
          "text": [
            "Collecting pt-core-news-lg==3.2.0\n",
            "  Downloading https://github.com/explosion/spacy-models/releases/download/pt_core_news_lg-3.2.0/pt_core_news_lg-3.2.0-py3-none-any.whl (577.4 MB)\n",
            "\u001b[K     |████████████████████████████████| 577.4 MB 3.5 kB/s \n",
            "\u001b[?25hRequirement already satisfied: spacy<3.3.0,>=3.2.0 in /usr/local/lib/python3.7/dist-packages (from pt-core-news-lg==3.2.0) (3.2.3)\n",
            "Requirement already satisfied: murmurhash<1.1.0,>=0.28.0 in /usr/local/lib/python3.7/dist-packages (from spacy<3.3.0,>=3.2.0->pt-core-news-lg==3.2.0) (1.0.6)\n",
            "Requirement already satisfied: preshed<3.1.0,>=3.0.2 in /usr/local/lib/python3.7/dist-packages (from spacy<3.3.0,>=3.2.0->pt-core-news-lg==3.2.0) (3.0.6)\n",
            "Requirement already satisfied: spacy-loggers<2.0.0,>=1.0.0 in /usr/local/lib/python3.7/dist-packages (from spacy<3.3.0,>=3.2.0->pt-core-news-lg==3.2.0) (1.0.1)\n",
            "Requirement already satisfied: packaging>=20.0 in /usr/local/lib/python3.7/dist-packages (from spacy<3.3.0,>=3.2.0->pt-core-news-lg==3.2.0) (21.3)\n",
            "Requirement already satisfied: jinja2 in /usr/local/lib/python3.7/dist-packages (from spacy<3.3.0,>=3.2.0->pt-core-news-lg==3.2.0) (2.11.3)\n",
            "Requirement already satisfied: cymem<2.1.0,>=2.0.2 in /usr/local/lib/python3.7/dist-packages (from spacy<3.3.0,>=3.2.0->pt-core-news-lg==3.2.0) (2.0.6)\n",
            "Requirement already satisfied: blis<0.8.0,>=0.4.0 in /usr/local/lib/python3.7/dist-packages (from spacy<3.3.0,>=3.2.0->pt-core-news-lg==3.2.0) (0.4.1)\n",
            "Requirement already satisfied: pathy>=0.3.5 in /usr/local/lib/python3.7/dist-packages (from spacy<3.3.0,>=3.2.0->pt-core-news-lg==3.2.0) (0.6.1)\n",
            "Requirement already satisfied: numpy>=1.15.0 in /usr/local/lib/python3.7/dist-packages (from spacy<3.3.0,>=3.2.0->pt-core-news-lg==3.2.0) (1.21.5)\n",
            "Requirement already satisfied: pydantic!=1.8,!=1.8.1,<1.9.0,>=1.7.4 in /usr/local/lib/python3.7/dist-packages (from spacy<3.3.0,>=3.2.0->pt-core-news-lg==3.2.0) (1.8.2)\n",
            "Requirement already satisfied: setuptools in /usr/local/lib/python3.7/dist-packages (from spacy<3.3.0,>=3.2.0->pt-core-news-lg==3.2.0) (57.4.0)\n",
            "Requirement already satisfied: typer<0.5.0,>=0.3.0 in /usr/local/lib/python3.7/dist-packages (from spacy<3.3.0,>=3.2.0->pt-core-news-lg==3.2.0) (0.4.0)\n",
            "Requirement already satisfied: requests<3.0.0,>=2.13.0 in /usr/local/lib/python3.7/dist-packages (from spacy<3.3.0,>=3.2.0->pt-core-news-lg==3.2.0) (2.23.0)\n",
            "Requirement already satisfied: tqdm<5.0.0,>=4.38.0 in /usr/local/lib/python3.7/dist-packages (from spacy<3.3.0,>=3.2.0->pt-core-news-lg==3.2.0) (4.63.0)\n",
            "Requirement already satisfied: typing-extensions<4.0.0.0,>=3.7.4 in /usr/local/lib/python3.7/dist-packages (from spacy<3.3.0,>=3.2.0->pt-core-news-lg==3.2.0) (3.10.0.2)\n",
            "Requirement already satisfied: thinc<8.1.0,>=8.0.12 in /usr/local/lib/python3.7/dist-packages (from spacy<3.3.0,>=3.2.0->pt-core-news-lg==3.2.0) (8.0.15)\n",
            "Requirement already satisfied: srsly<3.0.0,>=2.4.1 in /usr/local/lib/python3.7/dist-packages (from spacy<3.3.0,>=3.2.0->pt-core-news-lg==3.2.0) (2.4.2)\n",
            "Requirement already satisfied: langcodes<4.0.0,>=3.2.0 in /usr/local/lib/python3.7/dist-packages (from spacy<3.3.0,>=3.2.0->pt-core-news-lg==3.2.0) (3.3.0)\n",
            "Requirement already satisfied: catalogue<2.1.0,>=2.0.6 in /usr/local/lib/python3.7/dist-packages (from spacy<3.3.0,>=3.2.0->pt-core-news-lg==3.2.0) (2.0.7)\n",
            "Requirement already satisfied: wasabi<1.1.0,>=0.8.1 in /usr/local/lib/python3.7/dist-packages (from spacy<3.3.0,>=3.2.0->pt-core-news-lg==3.2.0) (0.9.0)\n",
            "Requirement already satisfied: spacy-legacy<3.1.0,>=3.0.8 in /usr/local/lib/python3.7/dist-packages (from spacy<3.3.0,>=3.2.0->pt-core-news-lg==3.2.0) (3.0.9)\n",
            "Requirement already satisfied: zipp>=0.5 in /usr/local/lib/python3.7/dist-packages (from catalogue<2.1.0,>=2.0.6->spacy<3.3.0,>=3.2.0->pt-core-news-lg==3.2.0) (3.7.0)\n",
            "Requirement already satisfied: pyparsing!=3.0.5,>=2.0.2 in /usr/local/lib/python3.7/dist-packages (from packaging>=20.0->spacy<3.3.0,>=3.2.0->pt-core-news-lg==3.2.0) (3.0.7)\n",
            "Requirement already satisfied: smart-open<6.0.0,>=5.0.0 in /usr/local/lib/python3.7/dist-packages (from pathy>=0.3.5->spacy<3.3.0,>=3.2.0->pt-core-news-lg==3.2.0) (5.2.1)\n",
            "Requirement already satisfied: chardet<4,>=3.0.2 in /usr/local/lib/python3.7/dist-packages (from requests<3.0.0,>=2.13.0->spacy<3.3.0,>=3.2.0->pt-core-news-lg==3.2.0) (3.0.4)\n",
            "Requirement already satisfied: idna<3,>=2.5 in /usr/local/lib/python3.7/dist-packages (from requests<3.0.0,>=2.13.0->spacy<3.3.0,>=3.2.0->pt-core-news-lg==3.2.0) (2.10)\n",
            "Requirement already satisfied: certifi>=2017.4.17 in /usr/local/lib/python3.7/dist-packages (from requests<3.0.0,>=2.13.0->spacy<3.3.0,>=3.2.0->pt-core-news-lg==3.2.0) (2021.10.8)\n",
            "Requirement already satisfied: urllib3!=1.25.0,!=1.25.1,<1.26,>=1.21.1 in /usr/local/lib/python3.7/dist-packages (from requests<3.0.0,>=2.13.0->spacy<3.3.0,>=3.2.0->pt-core-news-lg==3.2.0) (1.24.3)\n",
            "Requirement already satisfied: click<9.0.0,>=7.1.1 in /usr/local/lib/python3.7/dist-packages (from typer<0.5.0,>=0.3.0->spacy<3.3.0,>=3.2.0->pt-core-news-lg==3.2.0) (7.1.2)\n",
            "Requirement already satisfied: MarkupSafe>=0.23 in /usr/local/lib/python3.7/dist-packages (from jinja2->spacy<3.3.0,>=3.2.0->pt-core-news-lg==3.2.0) (2.0.1)\n",
            "Installing collected packages: pt-core-news-lg\n",
            "Successfully installed pt-core-news-lg-3.2.0\n",
            "\u001b[38;5;2m✔ Download and installation successful\u001b[0m\n",
            "You can now load the package via spacy.load('pt_core_news_lg')\n"
          ]
        }
      ]
    },
    {
      "cell_type": "markdown",
      "source": [
        "**Trabalhar com o primeiro texto**"
      ],
      "metadata": {
        "id": "zje_ozYi1jgP"
      }
    },
    {
      "cell_type": "code",
      "source": [
        "# Carregar o modelo de linguagem\n",
        "\n",
        "nlp = spacy.load('pt_core_news_lg')\n"
      ],
      "metadata": {
        "id": "JMorzTK-2QQn"
      },
      "execution_count": 15,
      "outputs": []
    },
    {
      "cell_type": "code",
      "source": [
        "rowlimit = 500              # this limits the tweets to a manageable number\n",
        "data = pd.read_csv('FO_TESES_10.csv', nrows = rowlimit, sep=\";\")\n",
        "data.shape"
      ],
      "metadata": {
        "id": "mxvWlAruz6Gw",
        "outputId": "6b07bf43-75b7-4cc5-e482-39035f519067",
        "colab": {
          "base_uri": "https://localhost:8080/"
        }
      },
      "execution_count": 16,
      "outputs": [
        {
          "output_type": "execute_result",
          "data": {
            "text/plain": [
              "(14, 11)"
            ]
          },
          "metadata": {},
          "execution_count": 16
        }
      ]
    },
    {
      "cell_type": "code",
      "source": [
        "data.head()"
      ],
      "metadata": {
        "id": "8SEYt1NV0kbD",
        "outputId": "31bd0a36-465d-406e-8857-ed6ad091ac61",
        "colab": {
          "base_uri": "https://localhost:8080/",
          "height": 441
        }
      },
      "execution_count": 8,
      "outputs": [
        {
          "output_type": "execute_result",
          "data": {
            "text/plain": [
              "     SYSNO                         AUTOR  \\\n",
              "0  3061472            Pássaro, Ana Laura   \n",
              "1  3061476    Ronchim, Victor dos Santos   \n",
              "2  3061478     Santos, Felipe Albino dos   \n",
              "3  3061543     Costa, Andre Ricardo Reis   \n",
              "4  3061568  Mosaner, Fabio Ferreira Lins   \n",
              "\n",
              "                                              TÍTULO  ANO DE DEFESA  \\\n",
              "0  Resina composta com tecnologia giomer comparad...           2021   \n",
              "1  A study in set-theoretic functional analysis: ...           2021   \n",
              "2       Álgebras de Krichever-Novikov superelípticas           2021   \n",
              "3  Estudos sobre o valor dos investimentos em pes...           2021   \n",
              "4  O desenho e o processo de produção da arquitetura           2021   \n",
              "\n",
              "   NOME DEPARTAMENTO SIGLA DEPARTAMENTO          ÁREA DE CONCENTRAÇÃO  \\\n",
              "0                NaN                ODO  ODONTOPEDIATRIA E ORTODONTIA   \n",
              "1                NaN                MAT                    MATEMÁTICA   \n",
              "2                NaN                MAT                    MATEMÁTICA   \n",
              "3                NaN                EAD                 ADMINISTRAÇÃO   \n",
              "4                NaN                AUP        PROJETO DE ARQUITETURA   \n",
              "\n",
              "                                            ASSUNTOS  \\\n",
              "0  ANÁLISE DE SOBREVIVÊNCIA||CÁRIE DENTÁRIA||CIME...   \n",
              "1         ANÁLISE FUNCIONAL||TOPOLOGIA CONJUNTÍSTICA   \n",
              "2                     POLINÔMIOS ORTOGONAIS||ÁLGEBRA   \n",
              "3  INOVAÇÃO||PROJETOS DE PESQUISA||INVESTIMENTOS|...   \n",
              "4  PROJETO DE ARQUITETURA||DESENHO||PROCESSOS PRÉ...   \n",
              "\n",
              "                                         ORIENTADOR  \\\n",
              "0                           Raggio, Daniela Prócida   \n",
              "1  Oliveira, Claudia da Silva||Tausk, Daniel Victor   \n",
              "2                               Futorny, Vyacheslav   \n",
              "3                               Kayo, Eduardo Kazuo   \n",
              "4          Amorim, Anália Maria Marinho de Carvalho   \n",
              "\n",
              "                                              RESUMO  \\\n",
              "0  O objetivo desta tese é relatar os achados de ...   \n",
              "1  Na primeira parte deste trabalho nós investiga...   \n",
              "2  Este trabalho apresenta um estudo das álgebras...   \n",
              "3  A presente tese é composta por três artigos, u...   \n",
              "4  Esta tese investiga os processos de produção d...   \n",
              "\n",
              "                                            ABSTRACT  \n",
              "0  The aim of this thesis is to report the findin...  \n",
              "1  In the first part of this work we investigate ...  \n",
              "2  The present work addresses the Krichever-Novik...  \n",
              "3  This doctoral dissertation is composed of thre...  \n",
              "4  This work investigates the production processe...  "
            ],
            "text/html": [
              "\n",
              "  <div id=\"df-a7c5aae1-32d2-408e-80bc-476eb511c480\">\n",
              "    <div class=\"colab-df-container\">\n",
              "      <div>\n",
              "<style scoped>\n",
              "    .dataframe tbody tr th:only-of-type {\n",
              "        vertical-align: middle;\n",
              "    }\n",
              "\n",
              "    .dataframe tbody tr th {\n",
              "        vertical-align: top;\n",
              "    }\n",
              "\n",
              "    .dataframe thead th {\n",
              "        text-align: right;\n",
              "    }\n",
              "</style>\n",
              "<table border=\"1\" class=\"dataframe\">\n",
              "  <thead>\n",
              "    <tr style=\"text-align: right;\">\n",
              "      <th></th>\n",
              "      <th>SYSNO</th>\n",
              "      <th>AUTOR</th>\n",
              "      <th>TÍTULO</th>\n",
              "      <th>ANO DE DEFESA</th>\n",
              "      <th>NOME DEPARTAMENTO</th>\n",
              "      <th>SIGLA DEPARTAMENTO</th>\n",
              "      <th>ÁREA DE CONCENTRAÇÃO</th>\n",
              "      <th>ASSUNTOS</th>\n",
              "      <th>ORIENTADOR</th>\n",
              "      <th>RESUMO</th>\n",
              "      <th>ABSTRACT</th>\n",
              "    </tr>\n",
              "  </thead>\n",
              "  <tbody>\n",
              "    <tr>\n",
              "      <th>0</th>\n",
              "      <td>3061472</td>\n",
              "      <td>Pássaro, Ana Laura</td>\n",
              "      <td>Resina composta com tecnologia giomer comparad...</td>\n",
              "      <td>2021</td>\n",
              "      <td>NaN</td>\n",
              "      <td>ODO</td>\n",
              "      <td>ODONTOPEDIATRIA E ORTODONTIA</td>\n",
              "      <td>ANÁLISE DE SOBREVIVÊNCIA||CÁRIE DENTÁRIA||CIME...</td>\n",
              "      <td>Raggio, Daniela Prócida</td>\n",
              "      <td>O objetivo desta tese é relatar os achados de ...</td>\n",
              "      <td>The aim of this thesis is to report the findin...</td>\n",
              "    </tr>\n",
              "    <tr>\n",
              "      <th>1</th>\n",
              "      <td>3061476</td>\n",
              "      <td>Ronchim, Victor dos Santos</td>\n",
              "      <td>A study in set-theoretic functional analysis: ...</td>\n",
              "      <td>2021</td>\n",
              "      <td>NaN</td>\n",
              "      <td>MAT</td>\n",
              "      <td>MATEMÁTICA</td>\n",
              "      <td>ANÁLISE FUNCIONAL||TOPOLOGIA CONJUNTÍSTICA</td>\n",
              "      <td>Oliveira, Claudia da Silva||Tausk, Daniel Victor</td>\n",
              "      <td>Na primeira parte deste trabalho nós investiga...</td>\n",
              "      <td>In the first part of this work we investigate ...</td>\n",
              "    </tr>\n",
              "    <tr>\n",
              "      <th>2</th>\n",
              "      <td>3061478</td>\n",
              "      <td>Santos, Felipe Albino dos</td>\n",
              "      <td>Álgebras de Krichever-Novikov superelípticas</td>\n",
              "      <td>2021</td>\n",
              "      <td>NaN</td>\n",
              "      <td>MAT</td>\n",
              "      <td>MATEMÁTICA</td>\n",
              "      <td>POLINÔMIOS ORTOGONAIS||ÁLGEBRA</td>\n",
              "      <td>Futorny, Vyacheslav</td>\n",
              "      <td>Este trabalho apresenta um estudo das álgebras...</td>\n",
              "      <td>The present work addresses the Krichever-Novik...</td>\n",
              "    </tr>\n",
              "    <tr>\n",
              "      <th>3</th>\n",
              "      <td>3061543</td>\n",
              "      <td>Costa, Andre Ricardo Reis</td>\n",
              "      <td>Estudos sobre o valor dos investimentos em pes...</td>\n",
              "      <td>2021</td>\n",
              "      <td>NaN</td>\n",
              "      <td>EAD</td>\n",
              "      <td>ADMINISTRAÇÃO</td>\n",
              "      <td>INOVAÇÃO||PROJETOS DE PESQUISA||INVESTIMENTOS|...</td>\n",
              "      <td>Kayo, Eduardo Kazuo</td>\n",
              "      <td>A presente tese é composta por três artigos, u...</td>\n",
              "      <td>This doctoral dissertation is composed of thre...</td>\n",
              "    </tr>\n",
              "    <tr>\n",
              "      <th>4</th>\n",
              "      <td>3061568</td>\n",
              "      <td>Mosaner, Fabio Ferreira Lins</td>\n",
              "      <td>O desenho e o processo de produção da arquitetura</td>\n",
              "      <td>2021</td>\n",
              "      <td>NaN</td>\n",
              "      <td>AUP</td>\n",
              "      <td>PROJETO DE ARQUITETURA</td>\n",
              "      <td>PROJETO DE ARQUITETURA||DESENHO||PROCESSOS PRÉ...</td>\n",
              "      <td>Amorim, Anália Maria Marinho de Carvalho</td>\n",
              "      <td>Esta tese investiga os processos de produção d...</td>\n",
              "      <td>This work investigates the production processe...</td>\n",
              "    </tr>\n",
              "  </tbody>\n",
              "</table>\n",
              "</div>\n",
              "      <button class=\"colab-df-convert\" onclick=\"convertToInteractive('df-a7c5aae1-32d2-408e-80bc-476eb511c480')\"\n",
              "              title=\"Convert this dataframe to an interactive table.\"\n",
              "              style=\"display:none;\">\n",
              "        \n",
              "  <svg xmlns=\"http://www.w3.org/2000/svg\" height=\"24px\"viewBox=\"0 0 24 24\"\n",
              "       width=\"24px\">\n",
              "    <path d=\"M0 0h24v24H0V0z\" fill=\"none\"/>\n",
              "    <path d=\"M18.56 5.44l.94 2.06.94-2.06 2.06-.94-2.06-.94-.94-2.06-.94 2.06-2.06.94zm-11 1L8.5 8.5l.94-2.06 2.06-.94-2.06-.94L8.5 2.5l-.94 2.06-2.06.94zm10 10l.94 2.06.94-2.06 2.06-.94-2.06-.94-.94-2.06-.94 2.06-2.06.94z\"/><path d=\"M17.41 7.96l-1.37-1.37c-.4-.4-.92-.59-1.43-.59-.52 0-1.04.2-1.43.59L10.3 9.45l-7.72 7.72c-.78.78-.78 2.05 0 2.83L4 21.41c.39.39.9.59 1.41.59.51 0 1.02-.2 1.41-.59l7.78-7.78 2.81-2.81c.8-.78.8-2.07 0-2.86zM5.41 20L4 18.59l7.72-7.72 1.47 1.35L5.41 20z\"/>\n",
              "  </svg>\n",
              "      </button>\n",
              "      \n",
              "  <style>\n",
              "    .colab-df-container {\n",
              "      display:flex;\n",
              "      flex-wrap:wrap;\n",
              "      gap: 12px;\n",
              "    }\n",
              "\n",
              "    .colab-df-convert {\n",
              "      background-color: #E8F0FE;\n",
              "      border: none;\n",
              "      border-radius: 50%;\n",
              "      cursor: pointer;\n",
              "      display: none;\n",
              "      fill: #1967D2;\n",
              "      height: 32px;\n",
              "      padding: 0 0 0 0;\n",
              "      width: 32px;\n",
              "    }\n",
              "\n",
              "    .colab-df-convert:hover {\n",
              "      background-color: #E2EBFA;\n",
              "      box-shadow: 0px 1px 2px rgba(60, 64, 67, 0.3), 0px 1px 3px 1px rgba(60, 64, 67, 0.15);\n",
              "      fill: #174EA6;\n",
              "    }\n",
              "\n",
              "    [theme=dark] .colab-df-convert {\n",
              "      background-color: #3B4455;\n",
              "      fill: #D2E3FC;\n",
              "    }\n",
              "\n",
              "    [theme=dark] .colab-df-convert:hover {\n",
              "      background-color: #434B5C;\n",
              "      box-shadow: 0px 1px 3px 1px rgba(0, 0, 0, 0.15);\n",
              "      filter: drop-shadow(0px 1px 2px rgba(0, 0, 0, 0.3));\n",
              "      fill: #FFFFFF;\n",
              "    }\n",
              "  </style>\n",
              "\n",
              "      <script>\n",
              "        const buttonEl =\n",
              "          document.querySelector('#df-a7c5aae1-32d2-408e-80bc-476eb511c480 button.colab-df-convert');\n",
              "        buttonEl.style.display =\n",
              "          google.colab.kernel.accessAllowed ? 'block' : 'none';\n",
              "\n",
              "        async function convertToInteractive(key) {\n",
              "          const element = document.querySelector('#df-a7c5aae1-32d2-408e-80bc-476eb511c480');\n",
              "          const dataTable =\n",
              "            await google.colab.kernel.invokeFunction('convertToInteractive',\n",
              "                                                     [key], {});\n",
              "          if (!dataTable) return;\n",
              "\n",
              "          const docLinkHtml = 'Like what you see? Visit the ' +\n",
              "            '<a target=\"_blank\" href=https://colab.research.google.com/notebooks/data_table.ipynb>data table notebook</a>'\n",
              "            + ' to learn more about interactive tables.';\n",
              "          element.innerHTML = '';\n",
              "          dataTable['output_type'] = 'display_data';\n",
              "          await google.colab.output.renderOutput(dataTable, element);\n",
              "          const docLink = document.createElement('div');\n",
              "          docLink.innerHTML = docLinkHtml;\n",
              "          element.appendChild(docLink);\n",
              "        }\n",
              "      </script>\n",
              "    </div>\n",
              "  </div>\n",
              "  "
            ]
          },
          "metadata": {},
          "execution_count": 8
        }
      ]
    },
    {
      "cell_type": "code",
      "source": [
        "tokens = []\n",
        "lemma = []\n",
        "pos = []\n",
        "parsed_doc = [] \n",
        "col_to_parse = 'RESUMO'\n",
        "\n",
        "for doc in nlp.pipe(data[col_to_parse].astype('unicode').values, batch_size=50):\n",
        "    if doc.is_parsed:\n",
        "        parsed_doc.append(doc)\n",
        "        tokens.append([n.text for n in doc])\n",
        "        lemma.append([n.lemma_ for n in doc])\n",
        "        pos.append([n.pos_ for n in doc])\n",
        "    else:\n",
        "        # We want to make sure that the lists of parsed results have the\n",
        "        # same number of entries of the original Dataframe, so add some blanks in case the parse fails\n",
        "        tokens.append(None)\n",
        "        lemma.append(None)\n",
        "        pos.append(None)\n",
        "\n",
        "\n",
        "data['parsed_doc'] = parsed_doc\n",
        "data['comment_tokens'] = tokens\n",
        "data['comment_lemma'] = lemma\n",
        "data['pos_pos'] = pos"
      ],
      "metadata": {
        "id": "Gf0PGg3o1Bcu",
        "outputId": "9beb0555-bf73-4a3d-a868-4e6270db6126",
        "colab": {
          "base_uri": "https://localhost:8080/"
        }
      },
      "execution_count": 20,
      "outputs": [
        {
          "output_type": "stream",
          "name": "stderr",
          "text": [
            "/usr/local/lib/python3.7/dist-packages/ipykernel_launcher.py:8: DeprecationWarning: [W107] The property `Doc.is_parsed` is deprecated. Use `Doc.has_annotation(\"DEP\")` instead.\n",
            "  \n"
          ]
        }
      ]
    },
    {
      "cell_type": "code",
      "source": [
        "data.head(8)"
      ],
      "metadata": {
        "id": "OERhPDF722PA",
        "outputId": "856deda9-436a-4d5f-9740-41da17063176",
        "colab": {
          "base_uri": "https://localhost:8080/",
          "height": 1000
        }
      },
      "execution_count": 21,
      "outputs": [
        {
          "output_type": "execute_result",
          "data": {
            "text/plain": [
              "     SYSNO                         AUTOR  \\\n",
              "0  3061472            Pássaro, Ana Laura   \n",
              "1  3061476    Ronchim, Victor dos Santos   \n",
              "2  3061478     Santos, Felipe Albino dos   \n",
              "3  3061543     Costa, Andre Ricardo Reis   \n",
              "4  3061568  Mosaner, Fabio Ferreira Lins   \n",
              "5  3061639     Machado, Luciene Oliveira   \n",
              "6  3061640     Barbosa, Jacson Rodrigues   \n",
              "7  3061673       Oblitas, Raissa Lima de   \n",
              "\n",
              "                                              TÍTULO  ANO DE DEFESA  \\\n",
              "0  Resina composta com tecnologia giomer comparad...           2021   \n",
              "1  A study in set-theoretic functional analysis: ...           2021   \n",
              "2       Álgebras de Krichever-Novikov superelípticas           2021   \n",
              "3  Estudos sobre o valor dos investimentos em pes...           2021   \n",
              "4  O desenho e o processo de produção da arquitetura           2021   \n",
              "5  Estudo estrutural e termodifusivo das partícul...           2021   \n",
              "6  Heterogeneous information network to support t...           2021   \n",
              "7  Caracterização de propriedades mecânicas da re...           2021   \n",
              "\n",
              "   NOME DEPARTAMENTO SIGLA DEPARTAMENTO  \\\n",
              "0                NaN                ODO   \n",
              "1                NaN                MAT   \n",
              "2                NaN                MAT   \n",
              "3                NaN                EAD   \n",
              "4                NaN                AUP   \n",
              "5                NaN                FEP   \n",
              "6                NaN                SSC   \n",
              "7                NaN                FAP   \n",
              "\n",
              "                                ÁREA DE CONCENTRAÇÃO  \\\n",
              "0                       ODONTOPEDIATRIA E ORTODONTIA   \n",
              "1                                         MATEMÁTICA   \n",
              "2                                         MATEMÁTICA   \n",
              "3                                      ADMINISTRAÇÃO   \n",
              "4                             PROJETO DE ARQUITETURA   \n",
              "5                                             FÍSICA   \n",
              "6  Ciências de Computação e Matemática Computacional   \n",
              "7                                             FÍSICA   \n",
              "\n",
              "                                            ASSUNTOS  \\\n",
              "0  ANÁLISE DE SOBREVIVÊNCIA||CÁRIE DENTÁRIA||CIME...   \n",
              "1         ANÁLISE FUNCIONAL||TOPOLOGIA CONJUNTÍSTICA   \n",
              "2                     POLINÔMIOS ORTOGONAIS||ÁLGEBRA   \n",
              "3  INOVAÇÃO||PROJETOS DE PESQUISA||INVESTIMENTOS|...   \n",
              "4  PROJETO DE ARQUITETURA||DESENHO||PROCESSOS PRÉ...   \n",
              "5  ESPALHAMENTO DE RAIOS X A BAIXOS ÂNGULOS||LIPO...   \n",
              "6  REDES DE INFORMAÇÃO||SOFTWARES||STAKEHOLDER||A...   \n",
              "7  FIBRAS NATURAIS||MICROSCÓPIO ELETRÔNICO||ELAST...   \n",
              "\n",
              "                                         ORIENTADOR  \\\n",
              "0                           Raggio, Daniela Prócida   \n",
              "1  Oliveira, Claudia da Silva||Tausk, Daniel Victor   \n",
              "2                               Futorny, Vyacheslav   \n",
              "3                               Kayo, Eduardo Kazuo   \n",
              "4          Amorim, Anália Maria Marinho de Carvalho   \n",
              "5                  Figueiredo Neto, Antonio Martins   \n",
              "6                          Delamaro, Márcio Eduardo   \n",
              "7      Salvadori, Maria Cecília Barbosa da Silveira   \n",
              "\n",
              "                                              RESUMO  \\\n",
              "0  O objetivo desta tese é relatar os achados de ...   \n",
              "1  Na primeira parte deste trabalho nós investiga...   \n",
              "2  Este trabalho apresenta um estudo das álgebras...   \n",
              "3  A presente tese é composta por três artigos, u...   \n",
              "4  Esta tese investiga os processos de produção d...   \n",
              "5  As doenças cardiovasculares estão, atualmente,...   \n",
              "6  Contexto. Ao longo do ciclo de vida de um soft...   \n",
              "7  Este trabalho apresenta a utilização da Micros...   \n",
              "\n",
              "                                            ABSTRACT  \\\n",
              "0  The aim of this thesis is to report the findin...   \n",
              "1  In the first part of this work we investigate ...   \n",
              "2  The present work addresses the Krichever-Novik...   \n",
              "3  This doctoral dissertation is composed of thre...   \n",
              "4  This work investigates the production processe...   \n",
              "5  Cardiovascular diseases, such as atheroscleros...   \n",
              "6  Context. Throughout a softwares lifecycle, num...   \n",
              "7  In this work, by use of Atomic Force Microscop...   \n",
              "\n",
              "                                          parsed_doc  \\\n",
              "0  (O, objetivo, desta, tese, é, relatar, os, ach...   \n",
              "1  (Na, primeira, parte, deste, trabalho, nós, in...   \n",
              "2  (Este, trabalho, apresenta, um, estudo, das, á...   \n",
              "3  (A, presente, tese, é, composta, por, três, ar...   \n",
              "4  (Esta, tese, investiga, os, processos, de, pro...   \n",
              "5  (As, doenças, cardiovasculares, estão, ,, atua...   \n",
              "6  (Contexto, ., Ao, longo, do, ciclo, de, vida, ...   \n",
              "7  (Este, trabalho, apresenta, a, utilização, da,...   \n",
              "\n",
              "                                      comment_tokens  \\\n",
              "0  [O, objetivo, desta, tese, é, relatar, os, ach...   \n",
              "1  [Na, primeira, parte, deste, trabalho, nós, in...   \n",
              "2  [Este, trabalho, apresenta, um, estudo, das, á...   \n",
              "3  [A, presente, tese, é, composta, por, três, ar...   \n",
              "4  [Esta, tese, investiga, os, processos, de, pro...   \n",
              "5  [As, doenças, cardiovasculares, estão, ,, atua...   \n",
              "6  [Contexto, ., Ao, longo, do, ciclo, de, vida, ...   \n",
              "7  [Este, trabalho, apresenta, a, utilização, da,...   \n",
              "\n",
              "                                       comment_lemma  \\\n",
              "0  [O, objetivo, desta, tesar, ser, relatar, o, a...   \n",
              "1  [Na, primeiro, partir, dar, trabalhar, nó, inv...   \n",
              "2  [Este, trabalhar, apresentar, um, estudar, das...   \n",
              "3  [A, presentar, tesar, ser, composto, por, três...   \n",
              "4  [Esta, tesar, investigar, o, processo, de, pro...   \n",
              "5  [As, doença, cardiovascular, estar, ,, atualme...   \n",
              "6  [Contexto, ., Ao, longo, do, ciclo, de, vidar,...   \n",
              "7  [Este, trabalhar, apresentar, o, utilização, d...   \n",
              "\n",
              "                                             pos_pos  \n",
              "0  [DET, NOUN, ADP, NOUN, AUX, VERB, DET, NOUN, A...  \n",
              "1  [ADP, ADJ, NOUN, ADP, NOUN, PRON, VERB, NOUN, ...  \n",
              "2  [DET, NOUN, VERB, DET, NOUN, ADP, NOUN, ADP, P...  \n",
              "3  [DET, ADJ, NOUN, AUX, VERB, ADP, NUM, NOUN, PU...  \n",
              "4  [DET, NOUN, VERB, DET, NOUN, ADP, NOUN, ADP, N...  \n",
              "5  [DET, NOUN, ADJ, AUX, PUNCT, ADV, PUNCT, ADP, ...  \n",
              "6  [NOUN, PUNCT, ADP, NOUN, ADP, NOUN, ADP, NOUN,...  \n",
              "7  [DET, NOUN, VERB, DET, NOUN, ADP, PROPN, ADP, ...  "
            ],
            "text/html": [
              "\n",
              "  <div id=\"df-1f4833a3-c613-4366-aa28-d2f0f33fb9a4\">\n",
              "    <div class=\"colab-df-container\">\n",
              "      <div>\n",
              "<style scoped>\n",
              "    .dataframe tbody tr th:only-of-type {\n",
              "        vertical-align: middle;\n",
              "    }\n",
              "\n",
              "    .dataframe tbody tr th {\n",
              "        vertical-align: top;\n",
              "    }\n",
              "\n",
              "    .dataframe thead th {\n",
              "        text-align: right;\n",
              "    }\n",
              "</style>\n",
              "<table border=\"1\" class=\"dataframe\">\n",
              "  <thead>\n",
              "    <tr style=\"text-align: right;\">\n",
              "      <th></th>\n",
              "      <th>SYSNO</th>\n",
              "      <th>AUTOR</th>\n",
              "      <th>TÍTULO</th>\n",
              "      <th>ANO DE DEFESA</th>\n",
              "      <th>NOME DEPARTAMENTO</th>\n",
              "      <th>SIGLA DEPARTAMENTO</th>\n",
              "      <th>ÁREA DE CONCENTRAÇÃO</th>\n",
              "      <th>ASSUNTOS</th>\n",
              "      <th>ORIENTADOR</th>\n",
              "      <th>RESUMO</th>\n",
              "      <th>ABSTRACT</th>\n",
              "      <th>parsed_doc</th>\n",
              "      <th>comment_tokens</th>\n",
              "      <th>comment_lemma</th>\n",
              "      <th>pos_pos</th>\n",
              "    </tr>\n",
              "  </thead>\n",
              "  <tbody>\n",
              "    <tr>\n",
              "      <th>0</th>\n",
              "      <td>3061472</td>\n",
              "      <td>Pássaro, Ana Laura</td>\n",
              "      <td>Resina composta com tecnologia giomer comparad...</td>\n",
              "      <td>2021</td>\n",
              "      <td>NaN</td>\n",
              "      <td>ODO</td>\n",
              "      <td>ODONTOPEDIATRIA E ORTODONTIA</td>\n",
              "      <td>ANÁLISE DE SOBREVIVÊNCIA||CÁRIE DENTÁRIA||CIME...</td>\n",
              "      <td>Raggio, Daniela Prócida</td>\n",
              "      <td>O objetivo desta tese é relatar os achados de ...</td>\n",
              "      <td>The aim of this thesis is to report the findin...</td>\n",
              "      <td>(O, objetivo, desta, tese, é, relatar, os, ach...</td>\n",
              "      <td>[O, objetivo, desta, tese, é, relatar, os, ach...</td>\n",
              "      <td>[O, objetivo, desta, tesar, ser, relatar, o, a...</td>\n",
              "      <td>[DET, NOUN, ADP, NOUN, AUX, VERB, DET, NOUN, A...</td>\n",
              "    </tr>\n",
              "    <tr>\n",
              "      <th>1</th>\n",
              "      <td>3061476</td>\n",
              "      <td>Ronchim, Victor dos Santos</td>\n",
              "      <td>A study in set-theoretic functional analysis: ...</td>\n",
              "      <td>2021</td>\n",
              "      <td>NaN</td>\n",
              "      <td>MAT</td>\n",
              "      <td>MATEMÁTICA</td>\n",
              "      <td>ANÁLISE FUNCIONAL||TOPOLOGIA CONJUNTÍSTICA</td>\n",
              "      <td>Oliveira, Claudia da Silva||Tausk, Daniel Victor</td>\n",
              "      <td>Na primeira parte deste trabalho nós investiga...</td>\n",
              "      <td>In the first part of this work we investigate ...</td>\n",
              "      <td>(Na, primeira, parte, deste, trabalho, nós, in...</td>\n",
              "      <td>[Na, primeira, parte, deste, trabalho, nós, in...</td>\n",
              "      <td>[Na, primeiro, partir, dar, trabalhar, nó, inv...</td>\n",
              "      <td>[ADP, ADJ, NOUN, ADP, NOUN, PRON, VERB, NOUN, ...</td>\n",
              "    </tr>\n",
              "    <tr>\n",
              "      <th>2</th>\n",
              "      <td>3061478</td>\n",
              "      <td>Santos, Felipe Albino dos</td>\n",
              "      <td>Álgebras de Krichever-Novikov superelípticas</td>\n",
              "      <td>2021</td>\n",
              "      <td>NaN</td>\n",
              "      <td>MAT</td>\n",
              "      <td>MATEMÁTICA</td>\n",
              "      <td>POLINÔMIOS ORTOGONAIS||ÁLGEBRA</td>\n",
              "      <td>Futorny, Vyacheslav</td>\n",
              "      <td>Este trabalho apresenta um estudo das álgebras...</td>\n",
              "      <td>The present work addresses the Krichever-Novik...</td>\n",
              "      <td>(Este, trabalho, apresenta, um, estudo, das, á...</td>\n",
              "      <td>[Este, trabalho, apresenta, um, estudo, das, á...</td>\n",
              "      <td>[Este, trabalhar, apresentar, um, estudar, das...</td>\n",
              "      <td>[DET, NOUN, VERB, DET, NOUN, ADP, NOUN, ADP, P...</td>\n",
              "    </tr>\n",
              "    <tr>\n",
              "      <th>3</th>\n",
              "      <td>3061543</td>\n",
              "      <td>Costa, Andre Ricardo Reis</td>\n",
              "      <td>Estudos sobre o valor dos investimentos em pes...</td>\n",
              "      <td>2021</td>\n",
              "      <td>NaN</td>\n",
              "      <td>EAD</td>\n",
              "      <td>ADMINISTRAÇÃO</td>\n",
              "      <td>INOVAÇÃO||PROJETOS DE PESQUISA||INVESTIMENTOS|...</td>\n",
              "      <td>Kayo, Eduardo Kazuo</td>\n",
              "      <td>A presente tese é composta por três artigos, u...</td>\n",
              "      <td>This doctoral dissertation is composed of thre...</td>\n",
              "      <td>(A, presente, tese, é, composta, por, três, ar...</td>\n",
              "      <td>[A, presente, tese, é, composta, por, três, ar...</td>\n",
              "      <td>[A, presentar, tesar, ser, composto, por, três...</td>\n",
              "      <td>[DET, ADJ, NOUN, AUX, VERB, ADP, NUM, NOUN, PU...</td>\n",
              "    </tr>\n",
              "    <tr>\n",
              "      <th>4</th>\n",
              "      <td>3061568</td>\n",
              "      <td>Mosaner, Fabio Ferreira Lins</td>\n",
              "      <td>O desenho e o processo de produção da arquitetura</td>\n",
              "      <td>2021</td>\n",
              "      <td>NaN</td>\n",
              "      <td>AUP</td>\n",
              "      <td>PROJETO DE ARQUITETURA</td>\n",
              "      <td>PROJETO DE ARQUITETURA||DESENHO||PROCESSOS PRÉ...</td>\n",
              "      <td>Amorim, Anália Maria Marinho de Carvalho</td>\n",
              "      <td>Esta tese investiga os processos de produção d...</td>\n",
              "      <td>This work investigates the production processe...</td>\n",
              "      <td>(Esta, tese, investiga, os, processos, de, pro...</td>\n",
              "      <td>[Esta, tese, investiga, os, processos, de, pro...</td>\n",
              "      <td>[Esta, tesar, investigar, o, processo, de, pro...</td>\n",
              "      <td>[DET, NOUN, VERB, DET, NOUN, ADP, NOUN, ADP, N...</td>\n",
              "    </tr>\n",
              "    <tr>\n",
              "      <th>5</th>\n",
              "      <td>3061639</td>\n",
              "      <td>Machado, Luciene Oliveira</td>\n",
              "      <td>Estudo estrutural e termodifusivo das partícul...</td>\n",
              "      <td>2021</td>\n",
              "      <td>NaN</td>\n",
              "      <td>FEP</td>\n",
              "      <td>FÍSICA</td>\n",
              "      <td>ESPALHAMENTO DE RAIOS X A BAIXOS ÂNGULOS||LIPO...</td>\n",
              "      <td>Figueiredo Neto, Antonio Martins</td>\n",
              "      <td>As doenças cardiovasculares estão, atualmente,...</td>\n",
              "      <td>Cardiovascular diseases, such as atheroscleros...</td>\n",
              "      <td>(As, doenças, cardiovasculares, estão, ,, atua...</td>\n",
              "      <td>[As, doenças, cardiovasculares, estão, ,, atua...</td>\n",
              "      <td>[As, doença, cardiovascular, estar, ,, atualme...</td>\n",
              "      <td>[DET, NOUN, ADJ, AUX, PUNCT, ADV, PUNCT, ADP, ...</td>\n",
              "    </tr>\n",
              "    <tr>\n",
              "      <th>6</th>\n",
              "      <td>3061640</td>\n",
              "      <td>Barbosa, Jacson Rodrigues</td>\n",
              "      <td>Heterogeneous information network to support t...</td>\n",
              "      <td>2021</td>\n",
              "      <td>NaN</td>\n",
              "      <td>SSC</td>\n",
              "      <td>Ciências de Computação e Matemática Computacional</td>\n",
              "      <td>REDES DE INFORMAÇÃO||SOFTWARES||STAKEHOLDER||A...</td>\n",
              "      <td>Delamaro, Márcio Eduardo</td>\n",
              "      <td>Contexto. Ao longo do ciclo de vida de um soft...</td>\n",
              "      <td>Context. Throughout a softwares lifecycle, num...</td>\n",
              "      <td>(Contexto, ., Ao, longo, do, ciclo, de, vida, ...</td>\n",
              "      <td>[Contexto, ., Ao, longo, do, ciclo, de, vida, ...</td>\n",
              "      <td>[Contexto, ., Ao, longo, do, ciclo, de, vidar,...</td>\n",
              "      <td>[NOUN, PUNCT, ADP, NOUN, ADP, NOUN, ADP, NOUN,...</td>\n",
              "    </tr>\n",
              "    <tr>\n",
              "      <th>7</th>\n",
              "      <td>3061673</td>\n",
              "      <td>Oblitas, Raissa Lima de</td>\n",
              "      <td>Caracterização de propriedades mecânicas da re...</td>\n",
              "      <td>2021</td>\n",
              "      <td>NaN</td>\n",
              "      <td>FAP</td>\n",
              "      <td>FÍSICA</td>\n",
              "      <td>FIBRAS NATURAIS||MICROSCÓPIO ELETRÔNICO||ELAST...</td>\n",
              "      <td>Salvadori, Maria Cecília Barbosa da Silveira</td>\n",
              "      <td>Este trabalho apresenta a utilização da Micros...</td>\n",
              "      <td>In this work, by use of Atomic Force Microscop...</td>\n",
              "      <td>(Este, trabalho, apresenta, a, utilização, da,...</td>\n",
              "      <td>[Este, trabalho, apresenta, a, utilização, da,...</td>\n",
              "      <td>[Este, trabalhar, apresentar, o, utilização, d...</td>\n",
              "      <td>[DET, NOUN, VERB, DET, NOUN, ADP, PROPN, ADP, ...</td>\n",
              "    </tr>\n",
              "  </tbody>\n",
              "</table>\n",
              "</div>\n",
              "      <button class=\"colab-df-convert\" onclick=\"convertToInteractive('df-1f4833a3-c613-4366-aa28-d2f0f33fb9a4')\"\n",
              "              title=\"Convert this dataframe to an interactive table.\"\n",
              "              style=\"display:none;\">\n",
              "        \n",
              "  <svg xmlns=\"http://www.w3.org/2000/svg\" height=\"24px\"viewBox=\"0 0 24 24\"\n",
              "       width=\"24px\">\n",
              "    <path d=\"M0 0h24v24H0V0z\" fill=\"none\"/>\n",
              "    <path d=\"M18.56 5.44l.94 2.06.94-2.06 2.06-.94-2.06-.94-.94-2.06-.94 2.06-2.06.94zm-11 1L8.5 8.5l.94-2.06 2.06-.94-2.06-.94L8.5 2.5l-.94 2.06-2.06.94zm10 10l.94 2.06.94-2.06 2.06-.94-2.06-.94-.94-2.06-.94 2.06-2.06.94z\"/><path d=\"M17.41 7.96l-1.37-1.37c-.4-.4-.92-.59-1.43-.59-.52 0-1.04.2-1.43.59L10.3 9.45l-7.72 7.72c-.78.78-.78 2.05 0 2.83L4 21.41c.39.39.9.59 1.41.59.51 0 1.02-.2 1.41-.59l7.78-7.78 2.81-2.81c.8-.78.8-2.07 0-2.86zM5.41 20L4 18.59l7.72-7.72 1.47 1.35L5.41 20z\"/>\n",
              "  </svg>\n",
              "      </button>\n",
              "      \n",
              "  <style>\n",
              "    .colab-df-container {\n",
              "      display:flex;\n",
              "      flex-wrap:wrap;\n",
              "      gap: 12px;\n",
              "    }\n",
              "\n",
              "    .colab-df-convert {\n",
              "      background-color: #E8F0FE;\n",
              "      border: none;\n",
              "      border-radius: 50%;\n",
              "      cursor: pointer;\n",
              "      display: none;\n",
              "      fill: #1967D2;\n",
              "      height: 32px;\n",
              "      padding: 0 0 0 0;\n",
              "      width: 32px;\n",
              "    }\n",
              "\n",
              "    .colab-df-convert:hover {\n",
              "      background-color: #E2EBFA;\n",
              "      box-shadow: 0px 1px 2px rgba(60, 64, 67, 0.3), 0px 1px 3px 1px rgba(60, 64, 67, 0.15);\n",
              "      fill: #174EA6;\n",
              "    }\n",
              "\n",
              "    [theme=dark] .colab-df-convert {\n",
              "      background-color: #3B4455;\n",
              "      fill: #D2E3FC;\n",
              "    }\n",
              "\n",
              "    [theme=dark] .colab-df-convert:hover {\n",
              "      background-color: #434B5C;\n",
              "      box-shadow: 0px 1px 3px 1px rgba(0, 0, 0, 0.15);\n",
              "      filter: drop-shadow(0px 1px 2px rgba(0, 0, 0, 0.3));\n",
              "      fill: #FFFFFF;\n",
              "    }\n",
              "  </style>\n",
              "\n",
              "      <script>\n",
              "        const buttonEl =\n",
              "          document.querySelector('#df-1f4833a3-c613-4366-aa28-d2f0f33fb9a4 button.colab-df-convert');\n",
              "        buttonEl.style.display =\n",
              "          google.colab.kernel.accessAllowed ? 'block' : 'none';\n",
              "\n",
              "        async function convertToInteractive(key) {\n",
              "          const element = document.querySelector('#df-1f4833a3-c613-4366-aa28-d2f0f33fb9a4');\n",
              "          const dataTable =\n",
              "            await google.colab.kernel.invokeFunction('convertToInteractive',\n",
              "                                                     [key], {});\n",
              "          if (!dataTable) return;\n",
              "\n",
              "          const docLinkHtml = 'Like what you see? Visit the ' +\n",
              "            '<a target=\"_blank\" href=https://colab.research.google.com/notebooks/data_table.ipynb>data table notebook</a>'\n",
              "            + ' to learn more about interactive tables.';\n",
              "          element.innerHTML = '';\n",
              "          dataTable['output_type'] = 'display_data';\n",
              "          await google.colab.output.renderOutput(dataTable, element);\n",
              "          const docLink = document.createElement('div');\n",
              "          docLink.innerHTML = docLinkHtml;\n",
              "          element.appendChild(docLink);\n",
              "        }\n",
              "      </script>\n",
              "    </div>\n",
              "  </div>\n",
              "  "
            ]
          },
          "metadata": {},
          "execution_count": 21
        }
      ]
    },
    {
      "cell_type": "code",
      "source": [
        "data.RESUMO[0]"
      ],
      "metadata": {
        "id": "nGGY9chc3Ds1",
        "outputId": "fd777a6f-933c-4eaf-bd86-5e8adbca79c0",
        "colab": {
          "base_uri": "https://localhost:8080/",
          "height": 104
        }
      },
      "execution_count": 22,
      "outputs": [
        {
          "output_type": "execute_result",
          "data": {
            "text/plain": [
              "'O objetivo desta tese é relatar os achados de um ensaio clínico randomizado de superioridade conduzido em ambiente escolar, cujo desfecho primário foi avaliar a longevidade de restaurações atraumáticas (ART) ocluso-proximais de molares decíduos, utilizando uma resina composta com tecnologia giomer associada a um sistema adesivo universal de passo único (RCG - Beautifil Bulk Fill® e BeautiBond®) e um cimento de ionômero de vidro de alta viscosidade encapsulado (CIV - Equia Forte®). O objetivo secundário deste estudo foi avaliar a custo-efetividade destas intervenções. Os desfechos primário e secundário foram relatados de acordo com as normas CONSORT e CHEERS, respectivamente. Cento e oitenta e duas crianças com idade entre 4 e 8 anos de idade que estavam matriculadas em escolas municipais de Cerquilho (SP, Brasil) foram incluídas e randomizadas para os grupos, de acordo com o material restaurador. Apenas um dente foi incluído por criança e todas elas foram tratadas de acordo com a filosofia do ART, em ambiente escolar. As restaurações foram avaliadas por uma examinadora treinada e calibrada após 3, 6, 12, 18 e 24 meses de acordo com os critérios de Roeleveld et al., 2006 e apenas as restaurações sem nenhuma necessidade de reparo foram classificadas como sucesso. Para avaliar a sobrevida da restauração, foram feitos a análise de sobrevida de Kaplan Meier e o teste de Log-rank. A regressão de Cox testou a relação entre a sobrevida dos materiais e as variáveis coletadas. Os||custos profissionais e materiais foram considerados para estimar o custo incremental dos tratamentos. A regressão de Bootstrap com 1000 replicações foi utilizada para avaliar o custo total dos tratamentos. A simulação matemática de Monte-Carlo foi usada para construir um plano de custo-efetividade com 10.000 situações simuladas. Todos os testes foram ajustados em um nível de significância de 5%. Após 24 meses, 161 restaurações foram avaliadas (88,5% da amostra) e 177 restaurações foram avaliadas ao menos uma vez durante o acompanhamento do estudo (2,75 % de perda de seguimento). A sobrevida média geral das restaurações após 24 meses foi de 53,5% (CIV=58,1% e RCG=49,1%). Não houve diferença na longevidade entre os materiais restauradores (p=0,199). Nenhuma das variáveis coletadas influenciou a sobrevida das restaurações. A longevidade da RCG não é superior à do CIV em restaurações ocluso-proximais de molares decíduos. Houve diferença estatisticamente significativa entre o custo total das restaurações dos grupos deste estudo, sendo que o CIV se apresenta com custo superior em até 38% após 24 meses de acompanhamento, e a RCG se mostrou como a opção mais custo-efetiva. Apesar de não ter superado a longevidade do CIV para restaurações ocluso-proximais de molares decíduos, a RCG mostrou-se como uma opção custo-efetiva, mostrando-se como uma alternativa viável de material restaurador na técnica do ART'"
            ],
            "application/vnd.google.colaboratory.intrinsic+json": {
              "type": "string"
            }
          },
          "metadata": {},
          "execution_count": 22
        }
      ]
    },
    {
      "cell_type": "code",
      "source": [
        "stop_words = spacy.lang.pt.stop_words.STOP_WORDS\n",
        "print('Number of stopwords: %d' % len(stop_words))\n",
        "print(list(stop_words))"
      ],
      "metadata": {
        "id": "Qhm49JHc3Zrn",
        "outputId": "888e4597-6df2-44be-ff2f-d9df3d2f83c1",
        "colab": {
          "base_uri": "https://localhost:8080/"
        }
      },
      "execution_count": 23,
      "outputs": [
        {
          "output_type": "stream",
          "name": "stdout",
          "text": [
            "Number of stopwords: 416\n",
            "['sabe', 'contra', 'ademais', 'ele', 'outras', 'onde', 'isso', 'nesse', 'tenho', 'tu', 'aí', 'alguns', 'teu', 'pode', 'mal', 'inicio', 'grupo', 'você', 'vossos', 'seus', 'então', 'parece', 'diz', 'suas', 'caminho', 'sua', 'atrás', 'número', 'foram', 'põem', 'tem', 'aqueles', 'parte', 'números', 'todos', 'bastante', 'se', 'vocês', 'dentro', 'sétimo', 'pôde', 'acerca', 'lugar', 'fazemos', 'fostes', 'posição', 'cima', 'mas', 'desse', 'apenas', 'deste', 'desde', 'tivemos', 'cento', 'maioria', 'me', 'nada', 'uns', 'ponto', 'tendes', 'nenhuma', 'terceiro', 'catorze', 'essas', 'longe', 'bem', 'quer', 'posso', 'quinze', 'primeiro', 'oito', 'dezanove', 'quieta', 'cinco', 'favor', 'pontos', 'sobre', 'no', 'nossa', 'só', 'terceira', 'ver', 'aquilo', 'ser', 'tanta', 'esse', 'poder', 'por', 'numa', 'aquele', 'for', 'mais', 'puderam', 'perto', 'tempo', 'eles', 'tentaram', 'apontar', 'mil', 'num', 'o', 'vosso', 'ela', 'vinte', 'estiveram', 'tens', 'até', 'menos', 'tarde', 'adeus', 'este', 'ir', 'algumas', 'vossa', 'fará', 'estes', 'apoia', 'próprio', 'essa', 'são', 'a', 'novos', 'fez', 'cedo', 'quieto', 'debaixo', 'estado', 'local', 'ambos', 'corrente', 'meus', 'aquelas', 'pelos', 'de', 'tais', 'ontem', 'tentei', 'grande', 'fazes', 'nuns', 'uma', 'do', 'fui', 'meio', 'muito', 'pouca', 'naquela', 'nunca', 'dezassete', 'irá', 'fazia', 'oitava', 'estão', 'ao', 'zero', 'estou', 'quatro', 'tente', 'partir', 'quando', 'somos', 'deve', 'sim', 'fazer', 'fim', 'duas', 'outra', 'certeza', 'obrigado', 'obrigada', 'além', 'quinta', 'usa', 'três', 'vossas', 'daquele', 'muitos', 'enquanto', 'na', 'era', 'seis', 'fazeis', 'temos', 'vem', 'as', 'dezoito', 'nem', 'possivelmente', 'bom', 'e', 'coisa', 'tive', 'vezes', 'também', 'sexta', 'estava', 'fora', 'da', 'qualquer', 'quarto', 'treze', 'exemplo', 'quanto', 'cada', 'vêm', 'sexto', 'antes', 'esta', 'depois', 'somente', 'minhas', 'não', 'estivestes', 'nosso', 'onze', 'pela', 'cuja', 'nossos', 'estive', 'teus', 'tal', 'nos', 'através', 'dessa', 'vinda', 'veja', 'final', 'baixo', 'isto', 'ainda', 'outros', 'logo', 'sou', 'sob', 'toda', 'meu', 'algo', 'saber', 'contudo', 'ali', 'que', 'quero', 'devem', 'tiveste', 'nesta', 'sois', 'como', 'iniciar', 'sete', 'maiorias', 'te', 'querem', 'breve', 'tentar', 'foste', 'diante', 'dizem', 'dos', 'último', 'quem', 'eventual', 'maior', 'entre', 'umas', 'segundo', 'conselho', 'estivemos', 'daquela', 'neste', 'vindo', 'sétima', 'cujo', 'vais', 'vos', 'esteve', 'falta', 'conhecido', 'forma', 'pois', 'dar', 'usar', 'momento', 'tua', 'questão', 'vai', 'próximo', 'está', 'deverá', 'ou', 'vários', 'grandes', 'estiveste', 'fomos', 'dez', 'nível', 'das', 'inclusive', 'dois', 'doze', 'seu', 'nessa', 'portanto', 'aqui', 'sei', 'põe', 'és', 'dizer', 'quarta', 'porém', 'esses', 'talvez', 'cá', 'disso', 'ambas', 'poderá', 'estas', 'lá', 'sem', 'tuas', 'porque', 'primeira', 'comprido', 'conhecida', 'custa', 'faço', 'eu', 'tipo', 'desta', 'elas', 'lado', 'nova', 'área', 'seria', 'à', 'porquanto', 'teve', 'foi', 'agora', 'direita', 'nove', 'lhe', 'quinto', 'vens', 'estará', 'máximo', 'nossas', 'certamente', 'tivestes', 'um', 'qual', 'aquela', 'após', 'dezasseis', 'ligado', 'fazem', 'tudo', 'novas', 'podem', 'sistema', 'quê', 'vez', 'valor', 'demais', 'geral', 'des', 'todas', 'menor', 'mesmo', 'embora', 'meses', 'podia', 'em', 'pelas', 'novo', 'ter', 'relação', 'dá', 'mês', 'porquê', 'aos', 'oitavo', 'assim', 'tanto', 'minha', 'estás', 'sempre', 'vão', 'quais', 'próxima', 'dão', 'os', 'estar', 'tiveram', 'apoio', 'vós', 'com', 'comprida', 'segunda', 'faz', 'é', 'boa', 'tão', 'às', 'pegar', 'nas', 'pelo', 'para', 'naquele', 'ora', 'nós', 'todo', 'pouco', 'têm', 'possível', 'já', 'povo']\n"
          ]
        }
      ]
    },
    {
      "cell_type": "code",
      "source": [
        "world_data = data"
      ],
      "metadata": {
        "id": "Pn3g-jxI32HQ"
      },
      "execution_count": 24,
      "outputs": []
    },
    {
      "cell_type": "code",
      "source": [
        "# takes 1s for 500 nodes - but of course this won't scale linearly!                              \n",
        "raw_G = nx.Graph() # undirected\n",
        "n = 0\n",
        "\n",
        "for i in world_data['parsed_doc']:        # sure, it's inefficient, but it will do\n",
        "    for j in world_data['parsed_doc']:\n",
        "        if i != j:\n",
        "            if not (raw_G.has_edge(j, i)):\n",
        "                sim = i.similarity(j)\n",
        "                raw_G.add_edge(i, j, weight = sim)\n",
        "                n = n + 1\n",
        "\n",
        "print(raw_G.number_of_nodes(), \"nodes, and\", raw_G.number_of_edges(), \"edges created.\")"
      ],
      "metadata": {
        "id": "m2QaF3k637vr",
        "outputId": "88389b32-7ab5-4128-add8-e00504f5a1f4",
        "colab": {
          "base_uri": "https://localhost:8080/"
        }
      },
      "execution_count": 25,
      "outputs": [
        {
          "output_type": "stream",
          "name": "stdout",
          "text": [
            "14 nodes, and 91 edges created.\n"
          ]
        }
      ]
    },
    {
      "cell_type": "code",
      "source": [
        "edges_to_kill = []\n",
        "min_wt = 0.94      # this is our cutoff value for a minimum edge-weight \n",
        "\n",
        "for n, nbrs in raw_G.adj.items():\n",
        "    #print(\"\\nProcessing origin-node:\", n, \"... \")\n",
        "    for nbr, eattr in nbrs.items():\n",
        "        # remove edges below a certain weight\n",
        "        data = eattr['weight']\n",
        "        if data < min_wt: \n",
        "            # print('(%.3f)' % (data))  \n",
        "            # print('(%d, %d, %.3f)' % (n, nbr, data))  \n",
        "            #print(\"\\nNode: \", n, \"\\n <-\", data, \"-> \", \"\\nNeighbour: \", nbr)\n",
        "            edges_to_kill.append((n, nbr)) \n",
        "            \n",
        "print(\"\\n\", len(edges_to_kill) / 2, \"edges to kill (of\", raw_G.number_of_edges(), \"), before de-duplicating\")"
      ],
      "metadata": {
        "id": "BmtZOs2A4Dqn",
        "outputId": "4e62ae30-8928-4d45-ba41-29b31bc0eb53",
        "colab": {
          "base_uri": "https://localhost:8080/"
        }
      },
      "execution_count": 26,
      "outputs": [
        {
          "output_type": "stream",
          "name": "stdout",
          "text": [
            "\n",
            " 83.0 edges to kill (of 91 ), before de-duplicating\n"
          ]
        }
      ]
    },
    {
      "cell_type": "code",
      "source": [
        "for u, v in edges_to_kill:\n",
        "    if raw_G.has_edge(u, v):   # catches (e.g.) those edges where we've removed them using reverse ... (v, u)\n",
        "        raw_G.remove_edge(u, v)"
      ],
      "metadata": {
        "id": "2re99dS64Hez"
      },
      "execution_count": 28,
      "outputs": []
    },
    {
      "cell_type": "code",
      "source": [
        "strong_G = raw_G\n",
        "print(strong_G.number_of_edges())"
      ],
      "metadata": {
        "id": "EZbc1JKO4PdX",
        "outputId": "fb55703e-2237-4367-d1f5-53afe69380d9",
        "colab": {
          "base_uri": "https://localhost:8080/"
        }
      },
      "execution_count": 29,
      "outputs": [
        {
          "output_type": "stream",
          "name": "stdout",
          "text": [
            "8\n"
          ]
        }
      ]
    },
    {
      "cell_type": "code",
      "source": [
        "nx.draw(strong_G, node_size=20, edge_color='gray')"
      ],
      "metadata": {
        "id": "ohFs4hAq4VhX",
        "outputId": "c5f5c912-158f-458e-ae43-a094cd630c16",
        "colab": {
          "base_uri": "https://localhost:8080/",
          "height": 318
        }
      },
      "execution_count": 30,
      "outputs": [
        {
          "output_type": "display_data",
          "data": {
            "text/plain": [
              "<Figure size 432x288 with 1 Axes>"
            ],
            "image/png": "[encoded data removed]"
          },
          "metadata": {}
        }
      ]
    },
    {
      "cell_type": "code",
      "source": [
        "strong_G.remove_nodes_from(list(nx.isolates(strong_G)))"
      ],
      "metadata": {
        "id": "7Zryicwl4cqF"
      },
      "execution_count": 36,
      "outputs": []
    },
    {
      "cell_type": "code",
      "source": [
        "from math import sqrt\n",
        "count = strong_G.number_of_nodes()\n",
        "equilibrium = 10 / sqrt(count)    # default for this is 1/sqrt(n), but this will 'blow out' the layout for better visibility\n",
        "pos = nx.fruchterman_reingold_layout(strong_G, k=equilibrium, iterations=300)\n",
        "nx.draw(strong_G, pos=pos, node_size=10, edge_color='gray')"
      ],
      "metadata": {
        "id": "BPFgu4Cb4mvo",
        "outputId": "5e667423-690a-4eac-b22a-4500f67c4b88",
        "colab": {
          "base_uri": "https://localhost:8080/",
          "height": 678
        }
      },
      "execution_count": 37,
      "outputs": [
        {
          "output_type": "display_data",
          "data": {
            "text/plain": [
              "<Figure size 1152x648 with 1 Axes>"
            ],
            "image/png": "[encoded data removed]"
          },
          "metadata": {}
        }
      ]
    },
    {
      "cell_type": "code",
      "source": [
        "plt.rcParams['figure.figsize'] = [16, 9]  # a better aspect ratio for labelled nodes\n",
        "\n",
        "nx.draw(strong_G, pos, font_size=3, node_size=50, edge_color='gray', with_labels=False)\n",
        "for p in pos:  # raise positions of the labels, relative to the nodes\n",
        "    pos[p][1] -= 0.03\n",
        "nx.draw_networkx_labels(strong_G, pos, font_size=8, font_color='k')\n",
        "\n",
        "plt.show()"
      ],
      "metadata": {
        "id": "nHeq6eDk4v_E",
        "outputId": "bb0f6559-812c-4c09-c801-cd17e09dd507",
        "colab": {
          "base_uri": "https://localhost:8080/",
          "height": 678
        }
      },
      "execution_count": 33,
      "outputs": [
        {
          "output_type": "display_data",
          "data": {
            "text/plain": [
              "<Figure size 1152x648 with 1 Axes>"
            ],
            "image/png": "[encoded data removed]"
          },
          "metadata": {}
        }
      ]
    },
    {
      "cell_type": "code",
      "source": [
        ""
      ],
      "metadata": {
        "id": "JUUtczAJEMMp"
      },
      "execution_count": null,
      "outputs": []
    }
  ]
}